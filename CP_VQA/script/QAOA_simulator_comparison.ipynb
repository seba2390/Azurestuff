{
 "cells": [
  {
   "cell_type": "code",
   "execution_count": 11,
   "id": "initial_id",
   "metadata": {
    "collapsed": true,
    "ExecuteTime": {
     "end_time": "2024-02-23T22:10:28.014885Z",
     "start_time": "2024-02-23T22:10:28.010315Z"
    }
   },
   "outputs": [],
   "source": [
    "from typing import List\n",
    "import os\n",
    "\n",
    "import numpy as np\n",
    "import scipy as sc\n",
    "import matplotlib.pyplot as plt\n",
    "from time import time\n",
    "from joblib import Parallel, delayed\n",
    "\n",
    "from src.QAOA.Qiskit_QAOA import Qiskit_QAOA\n",
    "#from src.QAOA.Qsim_CP_VQA import Qsim_QAOA\n",
    "from src.QAOA.Qulacs_QAOA import Qulacs_QAOA\n",
    "\n",
    "from src.Qubo import Qubo\n",
    "from src.Chain import Chain\n",
    "from src.Tools import (portfolio_metrics, \n",
    "                       min_cost_partition, \n",
    "                       get_qubo, \n",
    "                       check_qubo)"
   ]
  },
  {
   "cell_type": "code",
   "outputs": [],
   "source": [
    "def simulate(settings_list: List[dict]) -> List[dict]:\n",
    "    final_result = []\n",
    "    for settings in settings_list:\n",
    "        result = {'N':settings['N']}\n",
    "        # Generating random problem instance \n",
    "        expected_returns, covariances = portfolio_metrics(n=settings['N'], seed=settings['seed'])\n",
    "        # Retrieving C_min, C_max and corresponding states for original portfolio problem\n",
    "        constrained_result, full_result, lmbda = min_cost_partition(nr_qubits=settings['N'],\n",
    "                                                                    k=settings['k'],\n",
    "                                                                    mu=expected_returns,\n",
    "                                                                    sigma=covariances,\n",
    "                                                                    alpha=settings['alpha'])\n",
    "    \n",
    "        # Generating QUBO corresponding to current problem instance\n",
    "        Q, offset = get_qubo(mu=expected_returns,\n",
    "                             sigma=covariances, \n",
    "                             alpha=settings['alpha'],\n",
    "                             lmbda=lmbda+1, # Adding small constant purposely\n",
    "                             k=settings['k'])\n",
    "        qubo = Qubo(Q=Q, offset=offset) \n",
    "        qubo.subspace_c_min, qubo.subspace_c_max = constrained_result['c_min'], constrained_result['c_max']\n",
    "        qubo.subspace_x_min, qubo.subspace_x_max = constrained_result['s_min'], constrained_result['s_max']\n",
    "        qubo.full_space_c_min, qubo.full_space_c_max = full_result['c_min'], full_result['c_max']\n",
    "        check_qubo(QUBO_matrix=Q, QUBO_offset=offset, expected_returns=expected_returns, covariances=covariances, alpha=settings['alpha'], k=settings['k'])\n",
    "         \n",
    "        \n",
    "        \"\"\"qsim = Qsim_QAOA(N_qubits=settings['N'],\n",
    "                           cardinality=settings['k'],\n",
    "                           layers=settings['L'],\n",
    "                           qubo=qubo)\"\"\"\n",
    "        \n",
    "        qulacs = Qulacs_QAOA(N_qubits=settings['N'],\n",
    "                           cardinality=settings['k'],\n",
    "                           layers=settings['L'],\n",
    "                           qubo=qubo)\n",
    "         \n",
    "        qiskit = Qiskit_QAOA(N_qubits=settings['N'],\n",
    "                           cardinality=settings['k'],\n",
    "                           layers=settings['L'],\n",
    "                           qubo=qubo)\n",
    "         \n",
    "        \n",
    "         # Generating initial guess for rotation angles\n",
    "        np.random.seed(settings['seed'])\n",
    "        theta_min, theta_max = -2*np.pi, 2*np.pi\n",
    "        QAOA_theta_i = np.random.uniform(theta_min, theta_max, 2*settings['L'])\n",
    "        \n",
    "        qiskit_start_time = time()\n",
    "        qiskit_sim = sc.optimize.minimize(fun=qiskit.get_cost, \n",
    "                                  x0=QAOA_theta_i,\n",
    "                                  method=settings['opt_method'],\n",
    "                                  options={'disp': False, \n",
    "                                           'maxiter': settings['max_iter']})\n",
    "        qiskit_stop_time = time()\n",
    "        if qiskit_sim['nfev'] > 0:\n",
    "            time_pr_iter = (qiskit_stop_time-qiskit_start_time) / qiskit_sim['nfev']\n",
    "            result['qiskit'] = time_pr_iter\n",
    "        \n",
    "    \n",
    "        \"\"\"qsim_start_time = time()\n",
    "        qsim_sim = sc.optimize.minimize(fun=qsim.get_cost, \n",
    "                                  x0=QAOA_theta_i,\n",
    "                                  method=settings['opt_method'],\n",
    "                                  options={'disp': False, \n",
    "                                           'maxiter': settings['max_iter']})\n",
    "        qsim_stop_time = time()\n",
    "        if qsim_sim['nfev'] > 0:\n",
    "            time_pr_iter = (qsim_stop_time-qsim_start_time) / qsim_sim['nfev']\n",
    "            result['qsim'] = time_pr_iter\"\"\"\n",
    "             \n",
    "        \n",
    "        qulacs_start_time = time()\n",
    "        qulacs_sim = sc.optimize.minimize(fun=qulacs.get_cost, \n",
    "                                  x0=QAOA_theta_i,\n",
    "                                  method=settings['opt_method'],\n",
    "                                  options={'disp': False, \n",
    "                                           'maxiter': settings['max_iter']})\n",
    "        qulacs_stop_time = time()\n",
    "        if qulacs_sim['nfev'] > 0:\n",
    "            time_pr_iter = (qulacs_stop_time-qulacs_start_time) / qulacs_sim['nfev']\n",
    "            result['qulacs'] = time_pr_iter\n",
    "            \n",
    "        final_result.append(result)\n",
    "        \n",
    "    return  final_result"
   ],
   "metadata": {
    "collapsed": false,
    "ExecuteTime": {
     "end_time": "2024-02-23T22:07:21.988422Z",
     "start_time": "2024-02-23T22:07:21.972918Z"
    }
   },
   "id": "35acdade92105073",
   "execution_count": 2
  },
  {
   "cell_type": "code",
   "outputs": [],
   "source": [
    "layer_dict = {2:4,  3:4,  4:4,\n",
    "              5:4,  6:4,  7:4,\n",
    "              8:4,  9:4,  10:4,\n",
    "              11:4, 12:4, 13:4,\n",
    "              14:4, 15:4, 16:4,\n",
    "              17:4, 18:4, 19:4, \n",
    "              20:4}\n",
    "\n",
    "max_iter = 4\n",
    "alpha=0.5\n",
    "N_seeds = 8\n",
    "N_min, N_max = 2, 20\n",
    "sim_settings = []\n",
    "for seed in range(N_seeds):\n",
    "    chunck = []\n",
    "    for N in range(N_min, N_max+1):\n",
    "        topology = Chain(N_qubits=N)\n",
    "        topology.set_initialization_strategy(strategy=np.array([0 if i%2 == 0 else 1 for i in range(N)]))\n",
    "        setting = {'N'         :N,       'alpha'   :alpha,   'L'       :layer_dict[N], \n",
    "                   'seed'      :seed,    'topology':topology,'max_iter':max_iter,\n",
    "                   'opt_method':'COBYLA','w_nnn'   :True,    'k'       :N//2}\n",
    "        chunck.append(setting)\n",
    "    sim_settings.append(chunck)"
   ],
   "metadata": {
    "collapsed": false,
    "ExecuteTime": {
     "end_time": "2024-02-23T22:11:19.641308Z",
     "start_time": "2024-02-23T22:11:19.637009Z"
    }
   },
   "id": "de45d0adeb2daff5",
   "execution_count": 13
  },
  {
   "cell_type": "code",
   "outputs": [
    {
     "name": "stdout",
     "output_type": "stream",
     "text": [
      "[Parallel(n_jobs=8)]: Using backend LokyBackend with 8 concurrent workers.\n"
     ]
    },
    {
     "ename": "KeyboardInterrupt",
     "evalue": "",
     "output_type": "error",
     "traceback": [
      "\u001B[0;31m---------------------------------------------------------------------------\u001B[0m",
      "\u001B[0;31mKeyboardInterrupt\u001B[0m                         Traceback (most recent call last)",
      "Cell \u001B[0;32mIn[14], line 2\u001B[0m\n\u001B[1;32m      1\u001B[0m N_jobs\u001B[38;5;241m=\u001B[39mos\u001B[38;5;241m.\u001B[39mcpu_count()\n\u001B[0;32m----> 2\u001B[0m r \u001B[38;5;241m=\u001B[39m \u001B[43mParallel\u001B[49m\u001B[43m(\u001B[49m\u001B[43mn_jobs\u001B[49m\u001B[38;5;241;43m=\u001B[39;49m\u001B[43mN_jobs\u001B[49m\u001B[43m,\u001B[49m\u001B[43m \u001B[49m\u001B[43mverbose\u001B[49m\u001B[38;5;241;43m=\u001B[39;49m\u001B[38;5;241;43m51\u001B[39;49m\u001B[43m,\u001B[49m\u001B[43m \u001B[49m\u001B[43mbackend\u001B[49m\u001B[38;5;241;43m=\u001B[39;49m\u001B[38;5;124;43m'\u001B[39;49m\u001B[38;5;124;43mloky\u001B[39;49m\u001B[38;5;124;43m'\u001B[39;49m\u001B[43m)\u001B[49m\u001B[43m(\u001B[49m\u001B[43mdelayed\u001B[49m\u001B[43m(\u001B[49m\u001B[43msimulate\u001B[49m\u001B[43m)\u001B[49m\u001B[43m(\u001B[49m\u001B[43msetting\u001B[49m\u001B[43m)\u001B[49m\u001B[43m \u001B[49m\u001B[38;5;28;43;01mfor\u001B[39;49;00m\u001B[43m \u001B[49m\u001B[43msetting\u001B[49m\u001B[43m \u001B[49m\u001B[38;5;129;43;01min\u001B[39;49;00m\u001B[43m \u001B[49m\u001B[43msim_settings\u001B[49m\u001B[43m)\u001B[49m\n",
      "File \u001B[0;32m~/PythonVenvs/CP_VQA/lib/python3.10/site-packages/joblib/parallel.py:1952\u001B[0m, in \u001B[0;36mParallel.__call__\u001B[0;34m(self, iterable)\u001B[0m\n\u001B[1;32m   1946\u001B[0m \u001B[38;5;66;03m# The first item from the output is blank, but it makes the interpreter\u001B[39;00m\n\u001B[1;32m   1947\u001B[0m \u001B[38;5;66;03m# progress until it enters the Try/Except block of the generator and\u001B[39;00m\n\u001B[1;32m   1948\u001B[0m \u001B[38;5;66;03m# reach the first `yield` statement. This starts the aynchronous\u001B[39;00m\n\u001B[1;32m   1949\u001B[0m \u001B[38;5;66;03m# dispatch of the tasks to the workers.\u001B[39;00m\n\u001B[1;32m   1950\u001B[0m \u001B[38;5;28mnext\u001B[39m(output)\n\u001B[0;32m-> 1952\u001B[0m \u001B[38;5;28;01mreturn\u001B[39;00m output \u001B[38;5;28;01mif\u001B[39;00m \u001B[38;5;28mself\u001B[39m\u001B[38;5;241m.\u001B[39mreturn_generator \u001B[38;5;28;01melse\u001B[39;00m \u001B[38;5;28;43mlist\u001B[39;49m\u001B[43m(\u001B[49m\u001B[43moutput\u001B[49m\u001B[43m)\u001B[49m\n",
      "File \u001B[0;32m~/PythonVenvs/CP_VQA/lib/python3.10/site-packages/joblib/parallel.py:1595\u001B[0m, in \u001B[0;36mParallel._get_outputs\u001B[0;34m(self, iterator, pre_dispatch)\u001B[0m\n\u001B[1;32m   1592\u001B[0m     \u001B[38;5;28;01myield\u001B[39;00m\n\u001B[1;32m   1594\u001B[0m     \u001B[38;5;28;01mwith\u001B[39;00m \u001B[38;5;28mself\u001B[39m\u001B[38;5;241m.\u001B[39m_backend\u001B[38;5;241m.\u001B[39mretrieval_context():\n\u001B[0;32m-> 1595\u001B[0m         \u001B[38;5;28;01myield from\u001B[39;00m \u001B[38;5;28mself\u001B[39m\u001B[38;5;241m.\u001B[39m_retrieve()\n\u001B[1;32m   1597\u001B[0m \u001B[38;5;28;01mexcept\u001B[39;00m \u001B[38;5;167;01mGeneratorExit\u001B[39;00m:\n\u001B[1;32m   1598\u001B[0m     \u001B[38;5;66;03m# The generator has been garbage collected before being fully\u001B[39;00m\n\u001B[1;32m   1599\u001B[0m     \u001B[38;5;66;03m# consumed. This aborts the remaining tasks if possible and warn\u001B[39;00m\n\u001B[1;32m   1600\u001B[0m     \u001B[38;5;66;03m# the user if necessary.\u001B[39;00m\n\u001B[1;32m   1601\u001B[0m     \u001B[38;5;28mself\u001B[39m\u001B[38;5;241m.\u001B[39m_exception \u001B[38;5;241m=\u001B[39m \u001B[38;5;28;01mTrue\u001B[39;00m\n",
      "File \u001B[0;32m~/PythonVenvs/CP_VQA/lib/python3.10/site-packages/joblib/parallel.py:1707\u001B[0m, in \u001B[0;36mParallel._retrieve\u001B[0;34m(self)\u001B[0m\n\u001B[1;32m   1702\u001B[0m \u001B[38;5;66;03m# If the next job is not ready for retrieval yet, we just wait for\u001B[39;00m\n\u001B[1;32m   1703\u001B[0m \u001B[38;5;66;03m# async callbacks to progress.\u001B[39;00m\n\u001B[1;32m   1704\u001B[0m \u001B[38;5;28;01mif\u001B[39;00m ((\u001B[38;5;28mlen\u001B[39m(\u001B[38;5;28mself\u001B[39m\u001B[38;5;241m.\u001B[39m_jobs) \u001B[38;5;241m==\u001B[39m \u001B[38;5;241m0\u001B[39m) \u001B[38;5;129;01mor\u001B[39;00m\n\u001B[1;32m   1705\u001B[0m     (\u001B[38;5;28mself\u001B[39m\u001B[38;5;241m.\u001B[39m_jobs[\u001B[38;5;241m0\u001B[39m]\u001B[38;5;241m.\u001B[39mget_status(\n\u001B[1;32m   1706\u001B[0m         timeout\u001B[38;5;241m=\u001B[39m\u001B[38;5;28mself\u001B[39m\u001B[38;5;241m.\u001B[39mtimeout) \u001B[38;5;241m==\u001B[39m TASK_PENDING)):\n\u001B[0;32m-> 1707\u001B[0m     \u001B[43mtime\u001B[49m\u001B[38;5;241;43m.\u001B[39;49m\u001B[43msleep\u001B[49m\u001B[43m(\u001B[49m\u001B[38;5;241;43m0.01\u001B[39;49m\u001B[43m)\u001B[49m\n\u001B[1;32m   1708\u001B[0m     \u001B[38;5;28;01mcontinue\u001B[39;00m\n\u001B[1;32m   1710\u001B[0m \u001B[38;5;66;03m# We need to be careful: the job list can be filling up as\u001B[39;00m\n\u001B[1;32m   1711\u001B[0m \u001B[38;5;66;03m# we empty it and Python list are not thread-safe by\u001B[39;00m\n\u001B[1;32m   1712\u001B[0m \u001B[38;5;66;03m# default hence the use of the lock\u001B[39;00m\n",
      "\u001B[0;31mKeyboardInterrupt\u001B[0m: "
     ]
    }
   ],
   "source": [
    "N_jobs=os.cpu_count()\n",
    "r = Parallel(n_jobs=N_jobs, verbose=51, backend='loky')(delayed(simulate)(setting) for setting in sim_settings)"
   ],
   "metadata": {
    "collapsed": false,
    "ExecuteTime": {
     "end_time": "2024-02-23T22:12:14.612737Z",
     "start_time": "2024-02-23T22:11:21.045613Z"
    }
   },
   "id": "279e7d18abc4e670",
   "execution_count": 14
  },
  {
   "cell_type": "code",
   "outputs": [],
   "source": [
    "qiskit_res  = {N: [] for N in range(N_min,N_max+1)}\n",
    "qulacs_res  = {N: [] for N in range(N_min,N_max+1)}\n",
    "qsim_res    = {N: [] for N in range(N_min,N_max+1)}\n",
    "\n",
    "for l in r:\n",
    "    for res in l: \n",
    "        if res['qiskit'] is not None:\n",
    "            qiskit_res[res['N']].append(res['qiskit'])\n",
    "        if res['qulacs'] is not None:\n",
    "            qulacs_res[res['N']].append(res['qulacs'])\n",
    "        \"\"\"if res['qsim'] is not None:\n",
    "            qsim_res[res['N']].append(res['qsim'])\"\"\"\n",
    "        "
   ],
   "metadata": {
    "collapsed": false,
    "ExecuteTime": {
     "end_time": "2024-02-23T22:08:48.250923Z",
     "start_time": "2024-02-23T22:08:48.243165Z"
    }
   },
   "id": "946036a33685499a",
   "execution_count": 6
  },
  {
   "cell_type": "code",
   "outputs": [
    {
     "data": {
      "text/plain": "<matplotlib.legend.Legend at 0x15ae7ec50>"
     },
     "execution_count": 10,
     "metadata": {},
     "output_type": "execute_result"
    },
    {
     "data": {
      "text/plain": "<Figure size 800x400 with 1 Axes>",
      "image/png": "[encoded data removed]"
     },
     "metadata": {},
     "output_type": "display_data"
    }
   ],
   "source": [
    "qiskit_avgs = np.array([[np.mean(qiskit_res[key]), np.std(qiskit_res[key])] for key in qiskit_res.keys()])\n",
    "#qsim_avgs = np.array([[np.mean(qsim_res[key]), np.std(qsim_res[key])] for key in qsim_res.keys()])\n",
    "qulacs_avgs = np.array([[np.mean(qulacs_res[key]), np.std(qulacs_res[key])] for key in qulacs_res.keys()])\n",
    "\n",
    "N_vals = [n for n in range(N_min, N_max+1)]\n",
    "\n",
    "fig, ax = plt.subplots(1,1,figsize=(8,4))\n",
    "\n",
    "ax.set_title('QAOA (CPU)')\n",
    "\n",
    "ax.errorbar(N_vals, qiskit_avgs[:,0], yerr=qiskit_avgs[:,1], fmt='.-', capsize=2, label='Qiskit', color='tab:blue')\n",
    "#ax.errorbar(N_vals, qsim_avgs[:,0], yerr=qsim_avgs[:,1], fmt='.-', capsize=2, label='Qsim', color='tab:red')\n",
    "ax.errorbar(N_vals, qulacs_avgs[:,0], yerr=qulacs_avgs[:,1], fmt='.-', capsize=2, label='Qulacs', color='tab:green')\n",
    "\n",
    "ax.hlines(0, N_vals[0], N_vals[-1],ls='--',color='k', lw = 1)\n",
    "ax.set_ylabel('time per iteration [s]')\n",
    "ax.set_xlabel('# Qubits')\n",
    "ax.set_xticks(N_vals)\n",
    "\n",
    "\n",
    "\n",
    "\n",
    "ax.legend(loc='upper right')\n",
    "#plt.savefig('simulator_comparison_3.png', dpi=400)"
   ],
   "metadata": {
    "collapsed": false,
    "ExecuteTime": {
     "end_time": "2024-02-23T22:09:44.681691Z",
     "start_time": "2024-02-23T22:09:44.581192Z"
    }
   },
   "id": "ae81ddde72647a6b",
   "execution_count": 10
  },
  {
   "cell_type": "code",
   "execution_count": 6,
   "outputs": [],
   "source": [],
   "metadata": {
    "collapsed": false,
    "ExecuteTime": {
     "end_time": "2024-02-20T18:01:07.654399Z",
     "start_time": "2024-02-20T18:01:07.649786Z"
    }
   },
   "id": "9c4764ff37d44477"
  }
 ],
 "metadata": {
  "kernelspec": {
   "display_name": "Python 3",
   "language": "python",
   "name": "python3"
  },
  "language_info": {
   "codemirror_mode": {
    "name": "ipython",
    "version": 2
   },
   "file_extension": ".py",
   "mimetype": "text/x-python",
   "name": "python",
   "nbconvert_exporter": "python",
   "pygments_lexer": "ipython2",
   "version": "2.7.6"
  }
 },
 "nbformat": 4,
 "nbformat_minor": 5
}
