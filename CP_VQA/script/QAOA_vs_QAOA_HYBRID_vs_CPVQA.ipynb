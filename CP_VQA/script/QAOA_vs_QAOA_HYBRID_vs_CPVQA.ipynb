{
 "cells": [
  {
   "cell_type": "code",
   "execution_count": 3,
   "id": "initial_id",
   "metadata": {
    "collapsed": true,
    "ExecuteTime": {
     "end_time": "2024-02-23T14:50:14.263716100Z",
     "start_time": "2024-02-23T14:50:14.246112200Z"
    }
   },
   "outputs": [],
   "source": [
    "from typing import List\n",
    "from math import gamma\n",
    "import os \n",
    "import pickle\n",
    "\n",
    "import numpy as np\n",
    "import scipy as sc\n",
    "import matplotlib.pyplot as plt\n",
    "from joblib import Parallel, delayed\n",
    "\n",
    "from src.CP_VQA.Qulacs_CP_VQA import Qulacs_CP_VQA\n",
    "from src.QAOA_HYBRID.Qulacs_QAOA_HYBRID import Qulacs_QAOA_HYBRID\n",
    "from src.QAOA.Qulacs_QAOA import Qulacs_QAOA\n",
    "\n",
    "from src.Result import SimResult\n",
    "from src.Chain import Chain\n",
    "from src.Qubo import Qubo\n",
    "from src.Tools import (portfolio_metrics, \n",
    "                       min_cost_partition, \n",
    "                       get_qubo, \n",
    "                       check_qubo)"
   ]
  },
  {
   "cell_type": "code",
   "outputs": [],
   "source": [
    "def simulate(settings_collection: List[dict]) -> List[SimResult]:\n",
    "    result = []\n",
    "    for settings in settings_collection:\n",
    "        # Generating random problem instance \n",
    "        expected_returns, covariances = portfolio_metrics(n=settings['N'], seed=settings['seed'])\n",
    "        # Retrieving C_min, C_max and corresponding states for original portfolio problem\n",
    "        constrained_result, full_result, lmbda = min_cost_partition(nr_qubits=settings['N'],\n",
    "                                                                    k=settings['k'],\n",
    "                                                                    mu=expected_returns,\n",
    "                                                                    sigma=covariances,\n",
    "                                                                    alpha=settings['alpha'])\n",
    "    \n",
    "        # Generating QUBO corresponding to current problem instance\n",
    "        Q, offset = get_qubo(mu=expected_returns,\n",
    "                             sigma=covariances, \n",
    "                             alpha=settings['alpha'],\n",
    "                             lmbda=lmbda+1, # Adding small constant purposely\n",
    "                             k=settings['k'])\n",
    "        qubo = Qubo(Q=Q, offset=offset) \n",
    "        qubo.subspace_c_min, qubo.subspace_c_max = constrained_result['c_min'], constrained_result['c_max']\n",
    "        qubo.subspace_x_min, qubo.subspace_x_max = constrained_result['s_min'], constrained_result['s_max']\n",
    "        qubo.full_space_c_min, qubo.full_space_c_max = full_result['c_min'], full_result['c_max']\n",
    "        check_qubo(QUBO_matrix=Q, \n",
    "                   QUBO_offset=offset, \n",
    "                   expected_returns=expected_returns, \n",
    "                   covariances=covariances, \n",
    "                   alpha=settings['alpha'],\n",
    "                   k=settings['k'])\n",
    "         \n",
    "        \n",
    "        qaoa = Qulacs_QAOA(N_qubits=settings['N'],\n",
    "                           cardinality=settings['k'],\n",
    "                           layers=settings['L'],\n",
    "                           qubo=qubo)\n",
    "        \n",
    "        \n",
    "        cp_vqa = Qulacs_CP_VQA(N_qubits=settings['N'],\n",
    "                               cardinality=settings['k'],\n",
    "                               layers=settings['L'],\n",
    "                               topology=settings['topology'],\n",
    "                               get_full_state_vector=False,\n",
    "                               with_next_nearest_neighbors=settings['w_nnn'],\n",
    "                               qubo=qubo)\n",
    "        \n",
    "        qaoa_hybrid = Qulacs_QAOA_HYBRID(N_qubits=settings['N'],\n",
    "                               cardinality=settings['k'],\n",
    "                               layers=settings['L'],\n",
    "                               topology=settings['topology'],\n",
    "                               get_full_state_vector=False,\n",
    "                               with_next_nearest_neighbors=settings['w_nnn'],\n",
    "                               qubo=qubo)\n",
    "        \n",
    "         \n",
    "        \n",
    "         # Generating initial guess for rotation angles\n",
    "        np.random.seed(settings['seed'])\n",
    "        theta_min, theta_max = -2*np.pi, 2*np.pi\n",
    "        N_angles = settings['L'] * len(settings['topology'].get_NNN_indices()) if settings['w_nnn'] else settings['L'] * len(settings['topology'].get_NN_indices())\n",
    "        CPVQA_theta_i = np.random.uniform(theta_min, theta_max, N_angles)\n",
    "        QAOA_theta_i = np.random.uniform(theta_min, theta_max, 2*settings['L'])\n",
    "        \n",
    "        \n",
    "        qaoa_sim_res = sc.optimize.minimize(fun=qaoa.get_cost, \n",
    "                                            x0=QAOA_theta_i,\n",
    "                                            method=settings['opt_method'],\n",
    "                                            options={'disp': False, \n",
    "                                                     'maxiter': settings['max_iter']},\n",
    "                                            callback=qaoa.callback)\n",
    "        qaoa_norm_c = np.min(qaoa.normalized_costs)\n",
    "        qaoa_p = np.max(qaoa.opt_state_probabilities)    \n",
    "        \n",
    "        \n",
    "        cp_vqa_sim_res = sc.optimize.minimize(fun=cp_vqa.get_cost, \n",
    "                                              x0=CPVQA_theta_i,\n",
    "                                              method=settings['opt_method'],\n",
    "                                              options={'disp': False, \n",
    "                                                       'maxiter': settings['max_iter']},\n",
    "                                              callback=cp_vqa.callback)\n",
    "        cp_vqa_norm_c = np.min(cp_vqa.normalized_costs)\n",
    "        cp_vqa_p = np.max(cp_vqa.opt_state_probabilities)\n",
    "        \n",
    "        \n",
    "        qaoa_hybrid_sim_res = sc.optimize.minimize(fun=qaoa_hybrid.get_cost, \n",
    "                                              x0=QAOA_theta_i,\n",
    "                                              method=settings['opt_method'],\n",
    "                                              options={'disp': False, \n",
    "                                                       'maxiter': settings['max_iter']},\n",
    "                                              callback=qaoa_hybrid.callback)\n",
    "        qaoa_hybrid_norm_c = np.min(qaoa_hybrid.normalized_costs)\n",
    "        qaoa_hybrid_p = np.max(qaoa_hybrid.opt_state_probabilities)\n",
    "\n",
    "        result.append(SimResult(N=settings['N'],\n",
    "                      k=settings['k'],\n",
    "                      L=settings['L'],\n",
    "                      alpha=settings['alpha'],\n",
    "                      w_nnn=settings['w_nnn'],\n",
    "                      CP_VQA={'c':cp_vqa_norm_c,'p':cp_vqa_p,'nfev':cp_vqa_sim_res.nfev},\n",
    "                      QAOA={'c':qaoa_norm_c,'p':qaoa_p,'nfev':qaoa_sim_res.nfev},\n",
    "                      QAOA_HYBRID={'c':qaoa_hybrid_norm_c,'p':qaoa_hybrid_p,'nfev':qaoa_hybrid_sim_res.nfev}))\n",
    "    return result"
   ],
   "metadata": {
    "collapsed": false,
    "ExecuteTime": {
     "end_time": "2024-02-23T14:50:14.687903300Z",
     "start_time": "2024-02-23T14:50:14.669304200Z"
    }
   },
   "id": "bb6354eeb911cda0",
   "execution_count": 4
  },
  {
   "cell_type": "code",
   "outputs": [],
   "source": [
    "layer_dict = {2:1,  3:1,  4:1,\n",
    "              5:2,  6:2,  7:2,\n",
    "              8:2,  9:2,  10:2,\n",
    "              11:3, 12:3, 13:3,\n",
    "              14:8, 15:3, 16:3,\n",
    "              17:3, 18:3, 19:3, \n",
    "              20:3, 21:7, 22:7}\n",
    "\n",
    "max_iter_dict = {2: 400,   3:  500,  4:  600,\n",
    "                 5: 700,   6:  800,  7:  900,\n",
    "                 8: 1000,  9:  1000, 10: 1000,\n",
    "                 11: 1000, 12: 1000, 13: 1000,\n",
    "                 14: 1250, 15: 1250, 16: 1250,\n",
    "                 17: 1250, 18: 1250, 19: 1250,\n",
    "                 20: 1500, 21: 2300, 22: 2400}\n",
    "alpha=0.5\n",
    "N_seeds = 1\n",
    "N_min, N_max = 2,4\n",
    "sim_settings = []\n",
    "for seed in range(N_seeds):\n",
    "    chunk = []\n",
    "    for N in range(N_min, N_max+1):\n",
    "        topology = Chain(N_qubits=N)\n",
    "        topology.set_initialization_strategy(strategy=np.array([0 if i%2 == 0 else 1 for i in range(N)]))\n",
    "        setting = {'N'         :N,       'alpha'   :alpha,   'L'       :layer_dict[N], \n",
    "                   'seed'      :seed,    'topology':topology,'max_iter':max_iter_dict[N],\n",
    "                   'opt_method':'COBYLA','w_nnn'   :True,    'k'       :N//2}\n",
    "        chunk.append(setting)\n",
    "    sim_settings.append(chunk)"
   ],
   "metadata": {
    "collapsed": false,
    "ExecuteTime": {
     "end_time": "2024-02-23T14:52:13.884233700Z",
     "start_time": "2024-02-23T14:52:13.862800700Z"
    }
   },
   "id": "88e528a8ae89a929",
   "execution_count": 11
  },
  {
   "cell_type": "code",
   "outputs": [
    {
     "name": "stdout",
     "output_type": "stream",
     "text": [
      "[Parallel(n_jobs=15)]: Using backend LokyBackend with 15 concurrent workers.\n",
      "[Parallel(n_jobs=15)]: Done   1 tasks      | elapsed:    1.0s\n"
     ]
    }
   ],
   "source": [
    "N_jobs=os.cpu_count()-1\n",
    "r = Parallel(n_jobs=N_jobs, verbose=51, backend='loky')(delayed(simulate)(chunk) for chunk in sim_settings)\n"
   ],
   "metadata": {
    "collapsed": false,
    "ExecuteTime": {
     "end_time": "2024-02-23T14:52:15.923936400Z",
     "start_time": "2024-02-23T14:52:14.774873Z"
    }
   },
   "id": "a406aeed46a4f16b",
   "execution_count": 12
  },
  {
   "cell_type": "code",
   "outputs": [],
   "source": [
    "N_vals = [N for N in range(N_min,N_max+1)]\n",
    "qaoa_res, cp_vqa_res, qaoa_hybrid_res = {N:[] for N in N_vals}, {N:[] for N in N_vals}, {N:[] for N in N_vals}\n",
    "for result in r:\n",
    "    qaoa_res[result['N']].append([result['QAOA']['c'],result['QAOA']['p']])\n",
    "    cp_vqa_res[result['N']].append([result['CP_VQA']['c'],result['CP_VQA']['p']])\n",
    "    qaoa_hybrid_res[result['N']].append([result['QAOA_HYBRID']['c'],result['QAOA_HYBRID']['p']])"
   ],
   "metadata": {
    "collapsed": false,
    "ExecuteTime": {
     "end_time": "2024-02-22T15:00:45.719987Z",
     "start_time": "2024-02-22T15:00:45.715201Z"
    }
   },
   "id": "e59fe11fb5e276a2",
   "execution_count": 14
  },
  {
   "cell_type": "code",
   "outputs": [],
   "source": [
    "def exponential_decay(x):\n",
    "    return 1.0 / (2**(x-1))\n",
    "def continuous_binomial_decay(x,k):\n",
    "    return 1.0 / (gamma(x+1) / (gamma(k+1) * gamma(x-k+1)))   "
   ],
   "metadata": {
    "collapsed": false,
    "ExecuteTime": {
     "end_time": "2024-02-22T15:00:45.720533Z",
     "start_time": "2024-02-22T15:00:45.718123Z"
    }
   },
   "id": "740ffb719892e08b",
   "execution_count": 15
  },
  {
   "cell_type": "code",
   "outputs": [],
   "source": [
    "plt.rc(\"font\", family=[\"Helvetica\", \"Arial\"])\n",
    "plt.rc(\"text\", usetex=True)\n",
    "plt.rc(\"xtick\", top=True, direction=\"in\")\n",
    "plt.rc(\"ytick\", right=True, direction=\"in\")"
   ],
   "metadata": {
    "collapsed": false,
    "ExecuteTime": {
     "end_time": "2024-02-22T15:01:49.130866Z",
     "start_time": "2024-02-22T15:01:49.123606Z"
    }
   },
   "id": "61341013ceee2add",
   "execution_count": 18
  },
  {
   "cell_type": "code",
   "execution_count": 19,
   "outputs": [
    {
     "ename": "RuntimeError",
     "evalue": "Failed to process string with tex because latex could not be found",
     "output_type": "error",
     "traceback": [
      "\u001B[0;31m---------------------------------------------------------------------------\u001B[0m",
      "\u001B[0;31mFileNotFoundError\u001B[0m                         Traceback (most recent call last)",
      "File \u001B[0;32m~/PythonVenvs/CP_VQA/lib/python3.10/site-packages/matplotlib/texmanager.py:250\u001B[0m, in \u001B[0;36mTexManager._run_checked_subprocess\u001B[0;34m(cls, command, tex, cwd)\u001B[0m\n\u001B[1;32m    249\u001B[0m \u001B[38;5;28;01mtry\u001B[39;00m:\n\u001B[0;32m--> 250\u001B[0m     report \u001B[38;5;241m=\u001B[39m \u001B[43msubprocess\u001B[49m\u001B[38;5;241;43m.\u001B[39;49m\u001B[43mcheck_output\u001B[49m\u001B[43m(\u001B[49m\n\u001B[1;32m    251\u001B[0m \u001B[43m        \u001B[49m\u001B[43mcommand\u001B[49m\u001B[43m,\u001B[49m\u001B[43m \u001B[49m\u001B[43mcwd\u001B[49m\u001B[38;5;241;43m=\u001B[39;49m\u001B[43mcwd\u001B[49m\u001B[43m \u001B[49m\u001B[38;5;28;43;01mif\u001B[39;49;00m\u001B[43m \u001B[49m\u001B[43mcwd\u001B[49m\u001B[43m \u001B[49m\u001B[38;5;129;43;01mis\u001B[39;49;00m\u001B[43m \u001B[49m\u001B[38;5;129;43;01mnot\u001B[39;49;00m\u001B[43m \u001B[49m\u001B[38;5;28;43;01mNone\u001B[39;49;00m\u001B[43m \u001B[49m\u001B[38;5;28;43;01melse\u001B[39;49;00m\u001B[43m \u001B[49m\u001B[38;5;28;43mcls\u001B[39;49m\u001B[38;5;241;43m.\u001B[39;49m\u001B[43m_texcache\u001B[49m\u001B[43m,\u001B[49m\n\u001B[1;32m    252\u001B[0m \u001B[43m        \u001B[49m\u001B[43mstderr\u001B[49m\u001B[38;5;241;43m=\u001B[39;49m\u001B[43msubprocess\u001B[49m\u001B[38;5;241;43m.\u001B[39;49m\u001B[43mSTDOUT\u001B[49m\u001B[43m)\u001B[49m\n\u001B[1;32m    253\u001B[0m \u001B[38;5;28;01mexcept\u001B[39;00m \u001B[38;5;167;01mFileNotFoundError\u001B[39;00m \u001B[38;5;28;01mas\u001B[39;00m exc:\n",
      "File \u001B[0;32m/Library/Frameworks/Python.framework/Versions/3.10/lib/python3.10/subprocess.py:421\u001B[0m, in \u001B[0;36mcheck_output\u001B[0;34m(timeout, *popenargs, **kwargs)\u001B[0m\n\u001B[1;32m    419\u001B[0m     kwargs[\u001B[38;5;124m'\u001B[39m\u001B[38;5;124minput\u001B[39m\u001B[38;5;124m'\u001B[39m] \u001B[38;5;241m=\u001B[39m empty\n\u001B[0;32m--> 421\u001B[0m \u001B[38;5;28;01mreturn\u001B[39;00m \u001B[43mrun\u001B[49m\u001B[43m(\u001B[49m\u001B[38;5;241;43m*\u001B[39;49m\u001B[43mpopenargs\u001B[49m\u001B[43m,\u001B[49m\u001B[43m \u001B[49m\u001B[43mstdout\u001B[49m\u001B[38;5;241;43m=\u001B[39;49m\u001B[43mPIPE\u001B[49m\u001B[43m,\u001B[49m\u001B[43m \u001B[49m\u001B[43mtimeout\u001B[49m\u001B[38;5;241;43m=\u001B[39;49m\u001B[43mtimeout\u001B[49m\u001B[43m,\u001B[49m\u001B[43m \u001B[49m\u001B[43mcheck\u001B[49m\u001B[38;5;241;43m=\u001B[39;49m\u001B[38;5;28;43;01mTrue\u001B[39;49;00m\u001B[43m,\u001B[49m\n\u001B[1;32m    422\u001B[0m \u001B[43m           \u001B[49m\u001B[38;5;241;43m*\u001B[39;49m\u001B[38;5;241;43m*\u001B[39;49m\u001B[43mkwargs\u001B[49m\u001B[43m)\u001B[49m\u001B[38;5;241m.\u001B[39mstdout\n",
      "File \u001B[0;32m/Library/Frameworks/Python.framework/Versions/3.10/lib/python3.10/subprocess.py:503\u001B[0m, in \u001B[0;36mrun\u001B[0;34m(input, capture_output, timeout, check, *popenargs, **kwargs)\u001B[0m\n\u001B[1;32m    501\u001B[0m     kwargs[\u001B[38;5;124m'\u001B[39m\u001B[38;5;124mstderr\u001B[39m\u001B[38;5;124m'\u001B[39m] \u001B[38;5;241m=\u001B[39m PIPE\n\u001B[0;32m--> 503\u001B[0m \u001B[38;5;28;01mwith\u001B[39;00m \u001B[43mPopen\u001B[49m\u001B[43m(\u001B[49m\u001B[38;5;241;43m*\u001B[39;49m\u001B[43mpopenargs\u001B[49m\u001B[43m,\u001B[49m\u001B[43m \u001B[49m\u001B[38;5;241;43m*\u001B[39;49m\u001B[38;5;241;43m*\u001B[39;49m\u001B[43mkwargs\u001B[49m\u001B[43m)\u001B[49m \u001B[38;5;28;01mas\u001B[39;00m process:\n\u001B[1;32m    504\u001B[0m     \u001B[38;5;28;01mtry\u001B[39;00m:\n",
      "File \u001B[0;32m/Library/Frameworks/Python.framework/Versions/3.10/lib/python3.10/subprocess.py:971\u001B[0m, in \u001B[0;36mPopen.__init__\u001B[0;34m(self, args, bufsize, executable, stdin, stdout, stderr, preexec_fn, close_fds, shell, cwd, env, universal_newlines, startupinfo, creationflags, restore_signals, start_new_session, pass_fds, user, group, extra_groups, encoding, errors, text, umask, pipesize)\u001B[0m\n\u001B[1;32m    968\u001B[0m             \u001B[38;5;28mself\u001B[39m\u001B[38;5;241m.\u001B[39mstderr \u001B[38;5;241m=\u001B[39m io\u001B[38;5;241m.\u001B[39mTextIOWrapper(\u001B[38;5;28mself\u001B[39m\u001B[38;5;241m.\u001B[39mstderr,\n\u001B[1;32m    969\u001B[0m                     encoding\u001B[38;5;241m=\u001B[39mencoding, errors\u001B[38;5;241m=\u001B[39merrors)\n\u001B[0;32m--> 971\u001B[0m     \u001B[38;5;28;43mself\u001B[39;49m\u001B[38;5;241;43m.\u001B[39;49m\u001B[43m_execute_child\u001B[49m\u001B[43m(\u001B[49m\u001B[43margs\u001B[49m\u001B[43m,\u001B[49m\u001B[43m \u001B[49m\u001B[43mexecutable\u001B[49m\u001B[43m,\u001B[49m\u001B[43m \u001B[49m\u001B[43mpreexec_fn\u001B[49m\u001B[43m,\u001B[49m\u001B[43m \u001B[49m\u001B[43mclose_fds\u001B[49m\u001B[43m,\u001B[49m\n\u001B[1;32m    972\u001B[0m \u001B[43m                        \u001B[49m\u001B[43mpass_fds\u001B[49m\u001B[43m,\u001B[49m\u001B[43m \u001B[49m\u001B[43mcwd\u001B[49m\u001B[43m,\u001B[49m\u001B[43m \u001B[49m\u001B[43menv\u001B[49m\u001B[43m,\u001B[49m\n\u001B[1;32m    973\u001B[0m \u001B[43m                        \u001B[49m\u001B[43mstartupinfo\u001B[49m\u001B[43m,\u001B[49m\u001B[43m \u001B[49m\u001B[43mcreationflags\u001B[49m\u001B[43m,\u001B[49m\u001B[43m \u001B[49m\u001B[43mshell\u001B[49m\u001B[43m,\u001B[49m\n\u001B[1;32m    974\u001B[0m \u001B[43m                        \u001B[49m\u001B[43mp2cread\u001B[49m\u001B[43m,\u001B[49m\u001B[43m \u001B[49m\u001B[43mp2cwrite\u001B[49m\u001B[43m,\u001B[49m\n\u001B[1;32m    975\u001B[0m \u001B[43m                        \u001B[49m\u001B[43mc2pread\u001B[49m\u001B[43m,\u001B[49m\u001B[43m \u001B[49m\u001B[43mc2pwrite\u001B[49m\u001B[43m,\u001B[49m\n\u001B[1;32m    976\u001B[0m \u001B[43m                        \u001B[49m\u001B[43merrread\u001B[49m\u001B[43m,\u001B[49m\u001B[43m \u001B[49m\u001B[43merrwrite\u001B[49m\u001B[43m,\u001B[49m\n\u001B[1;32m    977\u001B[0m \u001B[43m                        \u001B[49m\u001B[43mrestore_signals\u001B[49m\u001B[43m,\u001B[49m\n\u001B[1;32m    978\u001B[0m \u001B[43m                        \u001B[49m\u001B[43mgid\u001B[49m\u001B[43m,\u001B[49m\u001B[43m \u001B[49m\u001B[43mgids\u001B[49m\u001B[43m,\u001B[49m\u001B[43m \u001B[49m\u001B[43muid\u001B[49m\u001B[43m,\u001B[49m\u001B[43m \u001B[49m\u001B[43mumask\u001B[49m\u001B[43m,\u001B[49m\n\u001B[1;32m    979\u001B[0m \u001B[43m                        \u001B[49m\u001B[43mstart_new_session\u001B[49m\u001B[43m)\u001B[49m\n\u001B[1;32m    980\u001B[0m \u001B[38;5;28;01mexcept\u001B[39;00m:\n\u001B[1;32m    981\u001B[0m     \u001B[38;5;66;03m# Cleanup if the child failed starting.\u001B[39;00m\n",
      "File \u001B[0;32m/Library/Frameworks/Python.framework/Versions/3.10/lib/python3.10/subprocess.py:1863\u001B[0m, in \u001B[0;36mPopen._execute_child\u001B[0;34m(self, args, executable, preexec_fn, close_fds, pass_fds, cwd, env, startupinfo, creationflags, shell, p2cread, p2cwrite, c2pread, c2pwrite, errread, errwrite, restore_signals, gid, gids, uid, umask, start_new_session)\u001B[0m\n\u001B[1;32m   1862\u001B[0m         err_msg \u001B[38;5;241m=\u001B[39m os\u001B[38;5;241m.\u001B[39mstrerror(errno_num)\n\u001B[0;32m-> 1863\u001B[0m     \u001B[38;5;28;01mraise\u001B[39;00m child_exception_type(errno_num, err_msg, err_filename)\n\u001B[1;32m   1864\u001B[0m \u001B[38;5;28;01mraise\u001B[39;00m child_exception_type(err_msg)\n",
      "\u001B[0;31mFileNotFoundError\u001B[0m: [Errno 2] No such file or directory: 'latex'",
      "\nThe above exception was the direct cause of the following exception:\n",
      "\u001B[0;31mRuntimeError\u001B[0m                              Traceback (most recent call last)",
      "File \u001B[0;32m~/PythonVenvs/CP_VQA/lib/python3.10/site-packages/IPython/core/formatters.py:343\u001B[0m, in \u001B[0;36mBaseFormatter.__call__\u001B[0;34m(self, obj)\u001B[0m\n\u001B[1;32m    341\u001B[0m     \u001B[38;5;28;01mpass\u001B[39;00m\n\u001B[1;32m    342\u001B[0m \u001B[38;5;28;01melse\u001B[39;00m:\n\u001B[0;32m--> 343\u001B[0m     \u001B[38;5;28;01mreturn\u001B[39;00m \u001B[43mprinter\u001B[49m\u001B[43m(\u001B[49m\u001B[43mobj\u001B[49m\u001B[43m)\u001B[49m\n\u001B[1;32m    344\u001B[0m \u001B[38;5;66;03m# Finally look for special method names\u001B[39;00m\n\u001B[1;32m    345\u001B[0m method \u001B[38;5;241m=\u001B[39m get_real_method(obj, \u001B[38;5;28mself\u001B[39m\u001B[38;5;241m.\u001B[39mprint_method)\n",
      "File \u001B[0;32m~/PythonVenvs/CP_VQA/lib/python3.10/site-packages/IPython/core/pylabtools.py:152\u001B[0m, in \u001B[0;36mprint_figure\u001B[0;34m(fig, fmt, bbox_inches, base64, **kwargs)\u001B[0m\n\u001B[1;32m    149\u001B[0m     \u001B[38;5;28;01mfrom\u001B[39;00m \u001B[38;5;21;01mmatplotlib\u001B[39;00m\u001B[38;5;21;01m.\u001B[39;00m\u001B[38;5;21;01mbackend_bases\u001B[39;00m \u001B[38;5;28;01mimport\u001B[39;00m FigureCanvasBase\n\u001B[1;32m    150\u001B[0m     FigureCanvasBase(fig)\n\u001B[0;32m--> 152\u001B[0m \u001B[43mfig\u001B[49m\u001B[38;5;241;43m.\u001B[39;49m\u001B[43mcanvas\u001B[49m\u001B[38;5;241;43m.\u001B[39;49m\u001B[43mprint_figure\u001B[49m\u001B[43m(\u001B[49m\u001B[43mbytes_io\u001B[49m\u001B[43m,\u001B[49m\u001B[43m \u001B[49m\u001B[38;5;241;43m*\u001B[39;49m\u001B[38;5;241;43m*\u001B[39;49m\u001B[43mkw\u001B[49m\u001B[43m)\u001B[49m\n\u001B[1;32m    153\u001B[0m data \u001B[38;5;241m=\u001B[39m bytes_io\u001B[38;5;241m.\u001B[39mgetvalue()\n\u001B[1;32m    154\u001B[0m \u001B[38;5;28;01mif\u001B[39;00m fmt \u001B[38;5;241m==\u001B[39m \u001B[38;5;124m'\u001B[39m\u001B[38;5;124msvg\u001B[39m\u001B[38;5;124m'\u001B[39m:\n",
      "File \u001B[0;32m~/PythonVenvs/CP_VQA/lib/python3.10/site-packages/matplotlib/backend_bases.py:2164\u001B[0m, in \u001B[0;36mFigureCanvasBase.print_figure\u001B[0;34m(self, filename, dpi, facecolor, edgecolor, orientation, format, bbox_inches, pad_inches, bbox_extra_artists, backend, **kwargs)\u001B[0m\n\u001B[1;32m   2161\u001B[0m     \u001B[38;5;66;03m# we do this instead of `self.figure.draw_without_rendering`\u001B[39;00m\n\u001B[1;32m   2162\u001B[0m     \u001B[38;5;66;03m# so that we can inject the orientation\u001B[39;00m\n\u001B[1;32m   2163\u001B[0m     \u001B[38;5;28;01mwith\u001B[39;00m \u001B[38;5;28mgetattr\u001B[39m(renderer, \u001B[38;5;124m\"\u001B[39m\u001B[38;5;124m_draw_disabled\u001B[39m\u001B[38;5;124m\"\u001B[39m, nullcontext)():\n\u001B[0;32m-> 2164\u001B[0m         \u001B[38;5;28;43mself\u001B[39;49m\u001B[38;5;241;43m.\u001B[39;49m\u001B[43mfigure\u001B[49m\u001B[38;5;241;43m.\u001B[39;49m\u001B[43mdraw\u001B[49m\u001B[43m(\u001B[49m\u001B[43mrenderer\u001B[49m\u001B[43m)\u001B[49m\n\u001B[1;32m   2165\u001B[0m \u001B[38;5;28;01mif\u001B[39;00m bbox_inches:\n\u001B[1;32m   2166\u001B[0m     \u001B[38;5;28;01mif\u001B[39;00m bbox_inches \u001B[38;5;241m==\u001B[39m \u001B[38;5;124m\"\u001B[39m\u001B[38;5;124mtight\u001B[39m\u001B[38;5;124m\"\u001B[39m:\n",
      "File \u001B[0;32m~/PythonVenvs/CP_VQA/lib/python3.10/site-packages/matplotlib/artist.py:95\u001B[0m, in \u001B[0;36m_finalize_rasterization.<locals>.draw_wrapper\u001B[0;34m(artist, renderer, *args, **kwargs)\u001B[0m\n\u001B[1;32m     93\u001B[0m \u001B[38;5;129m@wraps\u001B[39m(draw)\n\u001B[1;32m     94\u001B[0m \u001B[38;5;28;01mdef\u001B[39;00m \u001B[38;5;21mdraw_wrapper\u001B[39m(artist, renderer, \u001B[38;5;241m*\u001B[39margs, \u001B[38;5;241m*\u001B[39m\u001B[38;5;241m*\u001B[39mkwargs):\n\u001B[0;32m---> 95\u001B[0m     result \u001B[38;5;241m=\u001B[39m \u001B[43mdraw\u001B[49m\u001B[43m(\u001B[49m\u001B[43martist\u001B[49m\u001B[43m,\u001B[49m\u001B[43m \u001B[49m\u001B[43mrenderer\u001B[49m\u001B[43m,\u001B[49m\u001B[43m \u001B[49m\u001B[38;5;241;43m*\u001B[39;49m\u001B[43margs\u001B[49m\u001B[43m,\u001B[49m\u001B[43m \u001B[49m\u001B[38;5;241;43m*\u001B[39;49m\u001B[38;5;241;43m*\u001B[39;49m\u001B[43mkwargs\u001B[49m\u001B[43m)\u001B[49m\n\u001B[1;32m     96\u001B[0m     \u001B[38;5;28;01mif\u001B[39;00m renderer\u001B[38;5;241m.\u001B[39m_rasterizing:\n\u001B[1;32m     97\u001B[0m         renderer\u001B[38;5;241m.\u001B[39mstop_rasterizing()\n",
      "File \u001B[0;32m~/PythonVenvs/CP_VQA/lib/python3.10/site-packages/matplotlib/artist.py:72\u001B[0m, in \u001B[0;36mallow_rasterization.<locals>.draw_wrapper\u001B[0;34m(artist, renderer)\u001B[0m\n\u001B[1;32m     69\u001B[0m     \u001B[38;5;28;01mif\u001B[39;00m artist\u001B[38;5;241m.\u001B[39mget_agg_filter() \u001B[38;5;129;01mis\u001B[39;00m \u001B[38;5;129;01mnot\u001B[39;00m \u001B[38;5;28;01mNone\u001B[39;00m:\n\u001B[1;32m     70\u001B[0m         renderer\u001B[38;5;241m.\u001B[39mstart_filter()\n\u001B[0;32m---> 72\u001B[0m     \u001B[38;5;28;01mreturn\u001B[39;00m \u001B[43mdraw\u001B[49m\u001B[43m(\u001B[49m\u001B[43martist\u001B[49m\u001B[43m,\u001B[49m\u001B[43m \u001B[49m\u001B[43mrenderer\u001B[49m\u001B[43m)\u001B[49m\n\u001B[1;32m     73\u001B[0m \u001B[38;5;28;01mfinally\u001B[39;00m:\n\u001B[1;32m     74\u001B[0m     \u001B[38;5;28;01mif\u001B[39;00m artist\u001B[38;5;241m.\u001B[39mget_agg_filter() \u001B[38;5;129;01mis\u001B[39;00m \u001B[38;5;129;01mnot\u001B[39;00m \u001B[38;5;28;01mNone\u001B[39;00m:\n",
      "File \u001B[0;32m~/PythonVenvs/CP_VQA/lib/python3.10/site-packages/matplotlib/figure.py:3154\u001B[0m, in \u001B[0;36mFigure.draw\u001B[0;34m(self, renderer)\u001B[0m\n\u001B[1;32m   3151\u001B[0m         \u001B[38;5;66;03m# ValueError can occur when resizing a window.\u001B[39;00m\n\u001B[1;32m   3153\u001B[0m \u001B[38;5;28mself\u001B[39m\u001B[38;5;241m.\u001B[39mpatch\u001B[38;5;241m.\u001B[39mdraw(renderer)\n\u001B[0;32m-> 3154\u001B[0m \u001B[43mmimage\u001B[49m\u001B[38;5;241;43m.\u001B[39;49m\u001B[43m_draw_list_compositing_images\u001B[49m\u001B[43m(\u001B[49m\n\u001B[1;32m   3155\u001B[0m \u001B[43m    \u001B[49m\u001B[43mrenderer\u001B[49m\u001B[43m,\u001B[49m\u001B[43m \u001B[49m\u001B[38;5;28;43mself\u001B[39;49m\u001B[43m,\u001B[49m\u001B[43m \u001B[49m\u001B[43martists\u001B[49m\u001B[43m,\u001B[49m\u001B[43m \u001B[49m\u001B[38;5;28;43mself\u001B[39;49m\u001B[38;5;241;43m.\u001B[39;49m\u001B[43msuppressComposite\u001B[49m\u001B[43m)\u001B[49m\n\u001B[1;32m   3157\u001B[0m \u001B[38;5;28;01mfor\u001B[39;00m sfig \u001B[38;5;129;01min\u001B[39;00m \u001B[38;5;28mself\u001B[39m\u001B[38;5;241m.\u001B[39msubfigs:\n\u001B[1;32m   3158\u001B[0m     sfig\u001B[38;5;241m.\u001B[39mdraw(renderer)\n",
      "File \u001B[0;32m~/PythonVenvs/CP_VQA/lib/python3.10/site-packages/matplotlib/image.py:132\u001B[0m, in \u001B[0;36m_draw_list_compositing_images\u001B[0;34m(renderer, parent, artists, suppress_composite)\u001B[0m\n\u001B[1;32m    130\u001B[0m \u001B[38;5;28;01mif\u001B[39;00m not_composite \u001B[38;5;129;01mor\u001B[39;00m \u001B[38;5;129;01mnot\u001B[39;00m has_images:\n\u001B[1;32m    131\u001B[0m     \u001B[38;5;28;01mfor\u001B[39;00m a \u001B[38;5;129;01min\u001B[39;00m artists:\n\u001B[0;32m--> 132\u001B[0m         \u001B[43ma\u001B[49m\u001B[38;5;241;43m.\u001B[39;49m\u001B[43mdraw\u001B[49m\u001B[43m(\u001B[49m\u001B[43mrenderer\u001B[49m\u001B[43m)\u001B[49m\n\u001B[1;32m    133\u001B[0m \u001B[38;5;28;01melse\u001B[39;00m:\n\u001B[1;32m    134\u001B[0m     \u001B[38;5;66;03m# Composite any adjacent images together\u001B[39;00m\n\u001B[1;32m    135\u001B[0m     image_group \u001B[38;5;241m=\u001B[39m []\n",
      "File \u001B[0;32m~/PythonVenvs/CP_VQA/lib/python3.10/site-packages/matplotlib/artist.py:72\u001B[0m, in \u001B[0;36mallow_rasterization.<locals>.draw_wrapper\u001B[0;34m(artist, renderer)\u001B[0m\n\u001B[1;32m     69\u001B[0m     \u001B[38;5;28;01mif\u001B[39;00m artist\u001B[38;5;241m.\u001B[39mget_agg_filter() \u001B[38;5;129;01mis\u001B[39;00m \u001B[38;5;129;01mnot\u001B[39;00m \u001B[38;5;28;01mNone\u001B[39;00m:\n\u001B[1;32m     70\u001B[0m         renderer\u001B[38;5;241m.\u001B[39mstart_filter()\n\u001B[0;32m---> 72\u001B[0m     \u001B[38;5;28;01mreturn\u001B[39;00m \u001B[43mdraw\u001B[49m\u001B[43m(\u001B[49m\u001B[43martist\u001B[49m\u001B[43m,\u001B[49m\u001B[43m \u001B[49m\u001B[43mrenderer\u001B[49m\u001B[43m)\u001B[49m\n\u001B[1;32m     73\u001B[0m \u001B[38;5;28;01mfinally\u001B[39;00m:\n\u001B[1;32m     74\u001B[0m     \u001B[38;5;28;01mif\u001B[39;00m artist\u001B[38;5;241m.\u001B[39mget_agg_filter() \u001B[38;5;129;01mis\u001B[39;00m \u001B[38;5;129;01mnot\u001B[39;00m \u001B[38;5;28;01mNone\u001B[39;00m:\n",
      "File \u001B[0;32m~/PythonVenvs/CP_VQA/lib/python3.10/site-packages/matplotlib/axes/_base.py:3070\u001B[0m, in \u001B[0;36m_AxesBase.draw\u001B[0;34m(self, renderer)\u001B[0m\n\u001B[1;32m   3067\u001B[0m \u001B[38;5;28;01mif\u001B[39;00m artists_rasterized:\n\u001B[1;32m   3068\u001B[0m     _draw_rasterized(\u001B[38;5;28mself\u001B[39m\u001B[38;5;241m.\u001B[39mfigure, artists_rasterized, renderer)\n\u001B[0;32m-> 3070\u001B[0m \u001B[43mmimage\u001B[49m\u001B[38;5;241;43m.\u001B[39;49m\u001B[43m_draw_list_compositing_images\u001B[49m\u001B[43m(\u001B[49m\n\u001B[1;32m   3071\u001B[0m \u001B[43m    \u001B[49m\u001B[43mrenderer\u001B[49m\u001B[43m,\u001B[49m\u001B[43m \u001B[49m\u001B[38;5;28;43mself\u001B[39;49m\u001B[43m,\u001B[49m\u001B[43m \u001B[49m\u001B[43martists\u001B[49m\u001B[43m,\u001B[49m\u001B[43m \u001B[49m\u001B[38;5;28;43mself\u001B[39;49m\u001B[38;5;241;43m.\u001B[39;49m\u001B[43mfigure\u001B[49m\u001B[38;5;241;43m.\u001B[39;49m\u001B[43msuppressComposite\u001B[49m\u001B[43m)\u001B[49m\n\u001B[1;32m   3073\u001B[0m renderer\u001B[38;5;241m.\u001B[39mclose_group(\u001B[38;5;124m'\u001B[39m\u001B[38;5;124maxes\u001B[39m\u001B[38;5;124m'\u001B[39m)\n\u001B[1;32m   3074\u001B[0m \u001B[38;5;28mself\u001B[39m\u001B[38;5;241m.\u001B[39mstale \u001B[38;5;241m=\u001B[39m \u001B[38;5;28;01mFalse\u001B[39;00m\n",
      "File \u001B[0;32m~/PythonVenvs/CP_VQA/lib/python3.10/site-packages/matplotlib/image.py:132\u001B[0m, in \u001B[0;36m_draw_list_compositing_images\u001B[0;34m(renderer, parent, artists, suppress_composite)\u001B[0m\n\u001B[1;32m    130\u001B[0m \u001B[38;5;28;01mif\u001B[39;00m not_composite \u001B[38;5;129;01mor\u001B[39;00m \u001B[38;5;129;01mnot\u001B[39;00m has_images:\n\u001B[1;32m    131\u001B[0m     \u001B[38;5;28;01mfor\u001B[39;00m a \u001B[38;5;129;01min\u001B[39;00m artists:\n\u001B[0;32m--> 132\u001B[0m         \u001B[43ma\u001B[49m\u001B[38;5;241;43m.\u001B[39;49m\u001B[43mdraw\u001B[49m\u001B[43m(\u001B[49m\u001B[43mrenderer\u001B[49m\u001B[43m)\u001B[49m\n\u001B[1;32m    133\u001B[0m \u001B[38;5;28;01melse\u001B[39;00m:\n\u001B[1;32m    134\u001B[0m     \u001B[38;5;66;03m# Composite any adjacent images together\u001B[39;00m\n\u001B[1;32m    135\u001B[0m     image_group \u001B[38;5;241m=\u001B[39m []\n",
      "File \u001B[0;32m~/PythonVenvs/CP_VQA/lib/python3.10/site-packages/matplotlib/artist.py:72\u001B[0m, in \u001B[0;36mallow_rasterization.<locals>.draw_wrapper\u001B[0;34m(artist, renderer)\u001B[0m\n\u001B[1;32m     69\u001B[0m     \u001B[38;5;28;01mif\u001B[39;00m artist\u001B[38;5;241m.\u001B[39mget_agg_filter() \u001B[38;5;129;01mis\u001B[39;00m \u001B[38;5;129;01mnot\u001B[39;00m \u001B[38;5;28;01mNone\u001B[39;00m:\n\u001B[1;32m     70\u001B[0m         renderer\u001B[38;5;241m.\u001B[39mstart_filter()\n\u001B[0;32m---> 72\u001B[0m     \u001B[38;5;28;01mreturn\u001B[39;00m \u001B[43mdraw\u001B[49m\u001B[43m(\u001B[49m\u001B[43martist\u001B[49m\u001B[43m,\u001B[49m\u001B[43m \u001B[49m\u001B[43mrenderer\u001B[49m\u001B[43m)\u001B[49m\n\u001B[1;32m     73\u001B[0m \u001B[38;5;28;01mfinally\u001B[39;00m:\n\u001B[1;32m     74\u001B[0m     \u001B[38;5;28;01mif\u001B[39;00m artist\u001B[38;5;241m.\u001B[39mget_agg_filter() \u001B[38;5;129;01mis\u001B[39;00m \u001B[38;5;129;01mnot\u001B[39;00m \u001B[38;5;28;01mNone\u001B[39;00m:\n",
      "File \u001B[0;32m~/PythonVenvs/CP_VQA/lib/python3.10/site-packages/matplotlib/axis.py:1388\u001B[0m, in \u001B[0;36mAxis.draw\u001B[0;34m(self, renderer, *args, **kwargs)\u001B[0m\n\u001B[1;32m   1385\u001B[0m renderer\u001B[38;5;241m.\u001B[39mopen_group(\u001B[38;5;18m__name__\u001B[39m, gid\u001B[38;5;241m=\u001B[39m\u001B[38;5;28mself\u001B[39m\u001B[38;5;241m.\u001B[39mget_gid())\n\u001B[1;32m   1387\u001B[0m ticks_to_draw \u001B[38;5;241m=\u001B[39m \u001B[38;5;28mself\u001B[39m\u001B[38;5;241m.\u001B[39m_update_ticks()\n\u001B[0;32m-> 1388\u001B[0m tlb1, tlb2 \u001B[38;5;241m=\u001B[39m \u001B[38;5;28;43mself\u001B[39;49m\u001B[38;5;241;43m.\u001B[39;49m\u001B[43m_get_ticklabel_bboxes\u001B[49m\u001B[43m(\u001B[49m\u001B[43mticks_to_draw\u001B[49m\u001B[43m,\u001B[49m\u001B[43m \u001B[49m\u001B[43mrenderer\u001B[49m\u001B[43m)\u001B[49m\n\u001B[1;32m   1390\u001B[0m \u001B[38;5;28;01mfor\u001B[39;00m tick \u001B[38;5;129;01min\u001B[39;00m ticks_to_draw:\n\u001B[1;32m   1391\u001B[0m     tick\u001B[38;5;241m.\u001B[39mdraw(renderer)\n",
      "File \u001B[0;32m~/PythonVenvs/CP_VQA/lib/python3.10/site-packages/matplotlib/axis.py:1315\u001B[0m, in \u001B[0;36mAxis._get_ticklabel_bboxes\u001B[0;34m(self, ticks, renderer)\u001B[0m\n\u001B[1;32m   1313\u001B[0m \u001B[38;5;28;01mif\u001B[39;00m renderer \u001B[38;5;129;01mis\u001B[39;00m \u001B[38;5;28;01mNone\u001B[39;00m:\n\u001B[1;32m   1314\u001B[0m     renderer \u001B[38;5;241m=\u001B[39m \u001B[38;5;28mself\u001B[39m\u001B[38;5;241m.\u001B[39mfigure\u001B[38;5;241m.\u001B[39m_get_renderer()\n\u001B[0;32m-> 1315\u001B[0m \u001B[38;5;28;01mreturn\u001B[39;00m ([tick\u001B[38;5;241m.\u001B[39mlabel1\u001B[38;5;241m.\u001B[39mget_window_extent(renderer)\n\u001B[1;32m   1316\u001B[0m          \u001B[38;5;28;01mfor\u001B[39;00m tick \u001B[38;5;129;01min\u001B[39;00m ticks \u001B[38;5;28;01mif\u001B[39;00m tick\u001B[38;5;241m.\u001B[39mlabel1\u001B[38;5;241m.\u001B[39mget_visible()],\n\u001B[1;32m   1317\u001B[0m         [tick\u001B[38;5;241m.\u001B[39mlabel2\u001B[38;5;241m.\u001B[39mget_window_extent(renderer)\n\u001B[1;32m   1318\u001B[0m          \u001B[38;5;28;01mfor\u001B[39;00m tick \u001B[38;5;129;01min\u001B[39;00m ticks \u001B[38;5;28;01mif\u001B[39;00m tick\u001B[38;5;241m.\u001B[39mlabel2\u001B[38;5;241m.\u001B[39mget_visible()])\n",
      "File \u001B[0;32m~/PythonVenvs/CP_VQA/lib/python3.10/site-packages/matplotlib/axis.py:1315\u001B[0m, in \u001B[0;36m<listcomp>\u001B[0;34m(.0)\u001B[0m\n\u001B[1;32m   1313\u001B[0m \u001B[38;5;28;01mif\u001B[39;00m renderer \u001B[38;5;129;01mis\u001B[39;00m \u001B[38;5;28;01mNone\u001B[39;00m:\n\u001B[1;32m   1314\u001B[0m     renderer \u001B[38;5;241m=\u001B[39m \u001B[38;5;28mself\u001B[39m\u001B[38;5;241m.\u001B[39mfigure\u001B[38;5;241m.\u001B[39m_get_renderer()\n\u001B[0;32m-> 1315\u001B[0m \u001B[38;5;28;01mreturn\u001B[39;00m ([\u001B[43mtick\u001B[49m\u001B[38;5;241;43m.\u001B[39;49m\u001B[43mlabel1\u001B[49m\u001B[38;5;241;43m.\u001B[39;49m\u001B[43mget_window_extent\u001B[49m\u001B[43m(\u001B[49m\u001B[43mrenderer\u001B[49m\u001B[43m)\u001B[49m\n\u001B[1;32m   1316\u001B[0m          \u001B[38;5;28;01mfor\u001B[39;00m tick \u001B[38;5;129;01min\u001B[39;00m ticks \u001B[38;5;28;01mif\u001B[39;00m tick\u001B[38;5;241m.\u001B[39mlabel1\u001B[38;5;241m.\u001B[39mget_visible()],\n\u001B[1;32m   1317\u001B[0m         [tick\u001B[38;5;241m.\u001B[39mlabel2\u001B[38;5;241m.\u001B[39mget_window_extent(renderer)\n\u001B[1;32m   1318\u001B[0m          \u001B[38;5;28;01mfor\u001B[39;00m tick \u001B[38;5;129;01min\u001B[39;00m ticks \u001B[38;5;28;01mif\u001B[39;00m tick\u001B[38;5;241m.\u001B[39mlabel2\u001B[38;5;241m.\u001B[39mget_visible()])\n",
      "File \u001B[0;32m~/PythonVenvs/CP_VQA/lib/python3.10/site-packages/matplotlib/text.py:956\u001B[0m, in \u001B[0;36mText.get_window_extent\u001B[0;34m(self, renderer, dpi)\u001B[0m\n\u001B[1;32m    951\u001B[0m     \u001B[38;5;28;01mraise\u001B[39;00m \u001B[38;5;167;01mRuntimeError\u001B[39;00m(\n\u001B[1;32m    952\u001B[0m         \u001B[38;5;124m\"\u001B[39m\u001B[38;5;124mCannot get window extent of text w/o renderer. You likely \u001B[39m\u001B[38;5;124m\"\u001B[39m\n\u001B[1;32m    953\u001B[0m         \u001B[38;5;124m\"\u001B[39m\u001B[38;5;124mwant to call \u001B[39m\u001B[38;5;124m'\u001B[39m\u001B[38;5;124mfigure.draw_without_rendering()\u001B[39m\u001B[38;5;124m'\u001B[39m\u001B[38;5;124m first.\u001B[39m\u001B[38;5;124m\"\u001B[39m)\n\u001B[1;32m    955\u001B[0m \u001B[38;5;28;01mwith\u001B[39;00m cbook\u001B[38;5;241m.\u001B[39m_setattr_cm(\u001B[38;5;28mself\u001B[39m\u001B[38;5;241m.\u001B[39mfigure, dpi\u001B[38;5;241m=\u001B[39mdpi):\n\u001B[0;32m--> 956\u001B[0m     bbox, info, descent \u001B[38;5;241m=\u001B[39m \u001B[38;5;28;43mself\u001B[39;49m\u001B[38;5;241;43m.\u001B[39;49m\u001B[43m_get_layout\u001B[49m\u001B[43m(\u001B[49m\u001B[38;5;28;43mself\u001B[39;49m\u001B[38;5;241;43m.\u001B[39;49m\u001B[43m_renderer\u001B[49m\u001B[43m)\u001B[49m\n\u001B[1;32m    957\u001B[0m     x, y \u001B[38;5;241m=\u001B[39m \u001B[38;5;28mself\u001B[39m\u001B[38;5;241m.\u001B[39mget_unitless_position()\n\u001B[1;32m    958\u001B[0m     x, y \u001B[38;5;241m=\u001B[39m \u001B[38;5;28mself\u001B[39m\u001B[38;5;241m.\u001B[39mget_transform()\u001B[38;5;241m.\u001B[39mtransform((x, y))\n",
      "File \u001B[0;32m~/PythonVenvs/CP_VQA/lib/python3.10/site-packages/matplotlib/text.py:373\u001B[0m, in \u001B[0;36mText._get_layout\u001B[0;34m(self, renderer)\u001B[0m\n\u001B[1;32m    370\u001B[0m ys \u001B[38;5;241m=\u001B[39m []\n\u001B[1;32m    372\u001B[0m \u001B[38;5;66;03m# Full vertical extent of font, including ascenders and descenders:\u001B[39;00m\n\u001B[0;32m--> 373\u001B[0m _, lp_h, lp_d \u001B[38;5;241m=\u001B[39m \u001B[43m_get_text_metrics_with_cache\u001B[49m\u001B[43m(\u001B[49m\n\u001B[1;32m    374\u001B[0m \u001B[43m    \u001B[49m\u001B[43mrenderer\u001B[49m\u001B[43m,\u001B[49m\u001B[43m \u001B[49m\u001B[38;5;124;43m\"\u001B[39;49m\u001B[38;5;124;43mlp\u001B[39;49m\u001B[38;5;124;43m\"\u001B[39;49m\u001B[43m,\u001B[49m\u001B[43m \u001B[49m\u001B[38;5;28;43mself\u001B[39;49m\u001B[38;5;241;43m.\u001B[39;49m\u001B[43m_fontproperties\u001B[49m\u001B[43m,\u001B[49m\n\u001B[1;32m    375\u001B[0m \u001B[43m    \u001B[49m\u001B[43mismath\u001B[49m\u001B[38;5;241;43m=\u001B[39;49m\u001B[38;5;124;43m\"\u001B[39;49m\u001B[38;5;124;43mTeX\u001B[39;49m\u001B[38;5;124;43m\"\u001B[39;49m\u001B[43m \u001B[49m\u001B[38;5;28;43;01mif\u001B[39;49;00m\u001B[43m \u001B[49m\u001B[38;5;28;43mself\u001B[39;49m\u001B[38;5;241;43m.\u001B[39;49m\u001B[43mget_usetex\u001B[49m\u001B[43m(\u001B[49m\u001B[43m)\u001B[49m\u001B[43m \u001B[49m\u001B[38;5;28;43;01melse\u001B[39;49;00m\u001B[43m \u001B[49m\u001B[38;5;28;43;01mFalse\u001B[39;49;00m\u001B[43m,\u001B[49m\u001B[43m \u001B[49m\u001B[43mdpi\u001B[49m\u001B[38;5;241;43m=\u001B[39;49m\u001B[38;5;28;43mself\u001B[39;49m\u001B[38;5;241;43m.\u001B[39;49m\u001B[43mfigure\u001B[49m\u001B[38;5;241;43m.\u001B[39;49m\u001B[43mdpi\u001B[49m\u001B[43m)\u001B[49m\n\u001B[1;32m    376\u001B[0m min_dy \u001B[38;5;241m=\u001B[39m (lp_h \u001B[38;5;241m-\u001B[39m lp_d) \u001B[38;5;241m*\u001B[39m \u001B[38;5;28mself\u001B[39m\u001B[38;5;241m.\u001B[39m_linespacing\n\u001B[1;32m    378\u001B[0m \u001B[38;5;28;01mfor\u001B[39;00m i, line \u001B[38;5;129;01min\u001B[39;00m \u001B[38;5;28menumerate\u001B[39m(lines):\n",
      "File \u001B[0;32m~/PythonVenvs/CP_VQA/lib/python3.10/site-packages/matplotlib/text.py:69\u001B[0m, in \u001B[0;36m_get_text_metrics_with_cache\u001B[0;34m(renderer, text, fontprop, ismath, dpi)\u001B[0m\n\u001B[1;32m     66\u001B[0m \u001B[38;5;250m\u001B[39m\u001B[38;5;124;03m\"\"\"Call ``renderer.get_text_width_height_descent``, caching the results.\"\"\"\u001B[39;00m\n\u001B[1;32m     67\u001B[0m \u001B[38;5;66;03m# Cached based on a copy of fontprop so that later in-place mutations of\u001B[39;00m\n\u001B[1;32m     68\u001B[0m \u001B[38;5;66;03m# the passed-in argument do not mess up the cache.\u001B[39;00m\n\u001B[0;32m---> 69\u001B[0m \u001B[38;5;28;01mreturn\u001B[39;00m \u001B[43m_get_text_metrics_with_cache_impl\u001B[49m\u001B[43m(\u001B[49m\n\u001B[1;32m     70\u001B[0m \u001B[43m    \u001B[49m\u001B[43mweakref\u001B[49m\u001B[38;5;241;43m.\u001B[39;49m\u001B[43mref\u001B[49m\u001B[43m(\u001B[49m\u001B[43mrenderer\u001B[49m\u001B[43m)\u001B[49m\u001B[43m,\u001B[49m\u001B[43m \u001B[49m\u001B[43mtext\u001B[49m\u001B[43m,\u001B[49m\u001B[43m \u001B[49m\u001B[43mfontprop\u001B[49m\u001B[38;5;241;43m.\u001B[39;49m\u001B[43mcopy\u001B[49m\u001B[43m(\u001B[49m\u001B[43m)\u001B[49m\u001B[43m,\u001B[49m\u001B[43m \u001B[49m\u001B[43mismath\u001B[49m\u001B[43m,\u001B[49m\u001B[43m \u001B[49m\u001B[43mdpi\u001B[49m\u001B[43m)\u001B[49m\n",
      "File \u001B[0;32m~/PythonVenvs/CP_VQA/lib/python3.10/site-packages/matplotlib/text.py:77\u001B[0m, in \u001B[0;36m_get_text_metrics_with_cache_impl\u001B[0;34m(renderer_ref, text, fontprop, ismath, dpi)\u001B[0m\n\u001B[1;32m     73\u001B[0m \u001B[38;5;129m@functools\u001B[39m\u001B[38;5;241m.\u001B[39mlru_cache(\u001B[38;5;241m4096\u001B[39m)\n\u001B[1;32m     74\u001B[0m \u001B[38;5;28;01mdef\u001B[39;00m \u001B[38;5;21m_get_text_metrics_with_cache_impl\u001B[39m(\n\u001B[1;32m     75\u001B[0m         renderer_ref, text, fontprop, ismath, dpi):\n\u001B[1;32m     76\u001B[0m     \u001B[38;5;66;03m# dpi is unused, but participates in cache invalidation (via the renderer).\u001B[39;00m\n\u001B[0;32m---> 77\u001B[0m     \u001B[38;5;28;01mreturn\u001B[39;00m \u001B[43mrenderer_ref\u001B[49m\u001B[43m(\u001B[49m\u001B[43m)\u001B[49m\u001B[38;5;241;43m.\u001B[39;49m\u001B[43mget_text_width_height_descent\u001B[49m\u001B[43m(\u001B[49m\u001B[43mtext\u001B[49m\u001B[43m,\u001B[49m\u001B[43m \u001B[49m\u001B[43mfontprop\u001B[49m\u001B[43m,\u001B[49m\u001B[43m \u001B[49m\u001B[43mismath\u001B[49m\u001B[43m)\u001B[49m\n",
      "File \u001B[0;32m~/PythonVenvs/CP_VQA/lib/python3.10/site-packages/matplotlib/backends/backend_agg.py:213\u001B[0m, in \u001B[0;36mRendererAgg.get_text_width_height_descent\u001B[0;34m(self, s, prop, ismath)\u001B[0m\n\u001B[1;32m    211\u001B[0m _api\u001B[38;5;241m.\u001B[39mcheck_in_list([\u001B[38;5;124m\"\u001B[39m\u001B[38;5;124mTeX\u001B[39m\u001B[38;5;124m\"\u001B[39m, \u001B[38;5;28;01mTrue\u001B[39;00m, \u001B[38;5;28;01mFalse\u001B[39;00m], ismath\u001B[38;5;241m=\u001B[39mismath)\n\u001B[1;32m    212\u001B[0m \u001B[38;5;28;01mif\u001B[39;00m ismath \u001B[38;5;241m==\u001B[39m \u001B[38;5;124m\"\u001B[39m\u001B[38;5;124mTeX\u001B[39m\u001B[38;5;124m\"\u001B[39m:\n\u001B[0;32m--> 213\u001B[0m     \u001B[38;5;28;01mreturn\u001B[39;00m \u001B[38;5;28;43msuper\u001B[39;49m\u001B[43m(\u001B[49m\u001B[43m)\u001B[49m\u001B[38;5;241;43m.\u001B[39;49m\u001B[43mget_text_width_height_descent\u001B[49m\u001B[43m(\u001B[49m\u001B[43ms\u001B[49m\u001B[43m,\u001B[49m\u001B[43m \u001B[49m\u001B[43mprop\u001B[49m\u001B[43m,\u001B[49m\u001B[43m \u001B[49m\u001B[43mismath\u001B[49m\u001B[43m)\u001B[49m\n\u001B[1;32m    215\u001B[0m \u001B[38;5;28;01mif\u001B[39;00m ismath:\n\u001B[1;32m    216\u001B[0m     ox, oy, width, height, descent, font_image \u001B[38;5;241m=\u001B[39m \\\n\u001B[1;32m    217\u001B[0m         \u001B[38;5;28mself\u001B[39m\u001B[38;5;241m.\u001B[39mmathtext_parser\u001B[38;5;241m.\u001B[39mparse(s, \u001B[38;5;28mself\u001B[39m\u001B[38;5;241m.\u001B[39mdpi, prop)\n",
      "File \u001B[0;32m~/PythonVenvs/CP_VQA/lib/python3.10/site-packages/matplotlib/backend_bases.py:652\u001B[0m, in \u001B[0;36mRendererBase.get_text_width_height_descent\u001B[0;34m(self, s, prop, ismath)\u001B[0m\n\u001B[1;32m    648\u001B[0m fontsize \u001B[38;5;241m=\u001B[39m prop\u001B[38;5;241m.\u001B[39mget_size_in_points()\n\u001B[1;32m    650\u001B[0m \u001B[38;5;28;01mif\u001B[39;00m ismath \u001B[38;5;241m==\u001B[39m \u001B[38;5;124m'\u001B[39m\u001B[38;5;124mTeX\u001B[39m\u001B[38;5;124m'\u001B[39m:\n\u001B[1;32m    651\u001B[0m     \u001B[38;5;66;03m# todo: handle properties\u001B[39;00m\n\u001B[0;32m--> 652\u001B[0m     \u001B[38;5;28;01mreturn\u001B[39;00m \u001B[38;5;28;43mself\u001B[39;49m\u001B[38;5;241;43m.\u001B[39;49m\u001B[43mget_texmanager\u001B[49m\u001B[43m(\u001B[49m\u001B[43m)\u001B[49m\u001B[38;5;241;43m.\u001B[39;49m\u001B[43mget_text_width_height_descent\u001B[49m\u001B[43m(\u001B[49m\n\u001B[1;32m    653\u001B[0m \u001B[43m        \u001B[49m\u001B[43ms\u001B[49m\u001B[43m,\u001B[49m\u001B[43m \u001B[49m\u001B[43mfontsize\u001B[49m\u001B[43m,\u001B[49m\u001B[43m \u001B[49m\u001B[43mrenderer\u001B[49m\u001B[38;5;241;43m=\u001B[39;49m\u001B[38;5;28;43mself\u001B[39;49m\u001B[43m)\u001B[49m\n\u001B[1;32m    655\u001B[0m dpi \u001B[38;5;241m=\u001B[39m \u001B[38;5;28mself\u001B[39m\u001B[38;5;241m.\u001B[39mpoints_to_pixels(\u001B[38;5;241m72\u001B[39m)\n\u001B[1;32m    656\u001B[0m \u001B[38;5;28;01mif\u001B[39;00m ismath:\n",
      "File \u001B[0;32m~/PythonVenvs/CP_VQA/lib/python3.10/site-packages/matplotlib/texmanager.py:363\u001B[0m, in \u001B[0;36mTexManager.get_text_width_height_descent\u001B[0;34m(cls, tex, fontsize, renderer)\u001B[0m\n\u001B[1;32m    361\u001B[0m \u001B[38;5;28;01mif\u001B[39;00m tex\u001B[38;5;241m.\u001B[39mstrip() \u001B[38;5;241m==\u001B[39m \u001B[38;5;124m'\u001B[39m\u001B[38;5;124m'\u001B[39m:\n\u001B[1;32m    362\u001B[0m     \u001B[38;5;28;01mreturn\u001B[39;00m \u001B[38;5;241m0\u001B[39m, \u001B[38;5;241m0\u001B[39m, \u001B[38;5;241m0\u001B[39m\n\u001B[0;32m--> 363\u001B[0m dvifile \u001B[38;5;241m=\u001B[39m \u001B[38;5;28;43mcls\u001B[39;49m\u001B[38;5;241;43m.\u001B[39;49m\u001B[43mmake_dvi\u001B[49m\u001B[43m(\u001B[49m\u001B[43mtex\u001B[49m\u001B[43m,\u001B[49m\u001B[43m \u001B[49m\u001B[43mfontsize\u001B[49m\u001B[43m)\u001B[49m\n\u001B[1;32m    364\u001B[0m dpi_fraction \u001B[38;5;241m=\u001B[39m renderer\u001B[38;5;241m.\u001B[39mpoints_to_pixels(\u001B[38;5;241m1.\u001B[39m) \u001B[38;5;28;01mif\u001B[39;00m renderer \u001B[38;5;28;01melse\u001B[39;00m \u001B[38;5;241m1\u001B[39m\n\u001B[1;32m    365\u001B[0m \u001B[38;5;28;01mwith\u001B[39;00m dviread\u001B[38;5;241m.\u001B[39mDvi(dvifile, \u001B[38;5;241m72\u001B[39m \u001B[38;5;241m*\u001B[39m dpi_fraction) \u001B[38;5;28;01mas\u001B[39;00m dvi:\n",
      "File \u001B[0;32m~/PythonVenvs/CP_VQA/lib/python3.10/site-packages/matplotlib/texmanager.py:295\u001B[0m, in \u001B[0;36mTexManager.make_dvi\u001B[0;34m(cls, tex, fontsize)\u001B[0m\n\u001B[1;32m    293\u001B[0m     \u001B[38;5;28;01mwith\u001B[39;00m TemporaryDirectory(\u001B[38;5;28mdir\u001B[39m\u001B[38;5;241m=\u001B[39mcwd) \u001B[38;5;28;01mas\u001B[39;00m tmpdir:\n\u001B[1;32m    294\u001B[0m         tmppath \u001B[38;5;241m=\u001B[39m Path(tmpdir)\n\u001B[0;32m--> 295\u001B[0m         \u001B[38;5;28;43mcls\u001B[39;49m\u001B[38;5;241;43m.\u001B[39;49m\u001B[43m_run_checked_subprocess\u001B[49m\u001B[43m(\u001B[49m\n\u001B[1;32m    296\u001B[0m \u001B[43m            \u001B[49m\u001B[43m[\u001B[49m\u001B[38;5;124;43m\"\u001B[39;49m\u001B[38;5;124;43mlatex\u001B[39;49m\u001B[38;5;124;43m\"\u001B[39;49m\u001B[43m,\u001B[49m\u001B[43m \u001B[49m\u001B[38;5;124;43m\"\u001B[39;49m\u001B[38;5;124;43m-interaction=nonstopmode\u001B[39;49m\u001B[38;5;124;43m\"\u001B[39;49m\u001B[43m,\u001B[49m\u001B[43m \u001B[49m\u001B[38;5;124;43m\"\u001B[39;49m\u001B[38;5;124;43m--halt-on-error\u001B[39;49m\u001B[38;5;124;43m\"\u001B[39;49m\u001B[43m,\u001B[49m\n\u001B[1;32m    297\u001B[0m \u001B[43m             \u001B[49m\u001B[38;5;124;43mf\u001B[39;49m\u001B[38;5;124;43m\"\u001B[39;49m\u001B[38;5;124;43m--output-directory=\u001B[39;49m\u001B[38;5;132;43;01m{\u001B[39;49;00m\u001B[43mtmppath\u001B[49m\u001B[38;5;241;43m.\u001B[39;49m\u001B[43mname\u001B[49m\u001B[38;5;132;43;01m}\u001B[39;49;00m\u001B[38;5;124;43m\"\u001B[39;49m\u001B[43m,\u001B[49m\n\u001B[1;32m    298\u001B[0m \u001B[43m             \u001B[49m\u001B[38;5;124;43mf\u001B[39;49m\u001B[38;5;124;43m\"\u001B[39;49m\u001B[38;5;132;43;01m{\u001B[39;49;00m\u001B[43mtexfile\u001B[49m\u001B[38;5;241;43m.\u001B[39;49m\u001B[43mname\u001B[49m\u001B[38;5;132;43;01m}\u001B[39;49;00m\u001B[38;5;124;43m\"\u001B[39;49m\u001B[43m]\u001B[49m\u001B[43m,\u001B[49m\u001B[43m \u001B[49m\u001B[43mtex\u001B[49m\u001B[43m,\u001B[49m\u001B[43m \u001B[49m\u001B[43mcwd\u001B[49m\u001B[38;5;241;43m=\u001B[39;49m\u001B[43mcwd\u001B[49m\u001B[43m)\u001B[49m\n\u001B[1;32m    299\u001B[0m         (tmppath \u001B[38;5;241m/\u001B[39m Path(dvifile)\u001B[38;5;241m.\u001B[39mname)\u001B[38;5;241m.\u001B[39mreplace(dvifile)\n\u001B[1;32m    300\u001B[0m \u001B[38;5;28;01mreturn\u001B[39;00m dvifile\n",
      "File \u001B[0;32m~/PythonVenvs/CP_VQA/lib/python3.10/site-packages/matplotlib/texmanager.py:254\u001B[0m, in \u001B[0;36mTexManager._run_checked_subprocess\u001B[0;34m(cls, command, tex, cwd)\u001B[0m\n\u001B[1;32m    250\u001B[0m     report \u001B[38;5;241m=\u001B[39m subprocess\u001B[38;5;241m.\u001B[39mcheck_output(\n\u001B[1;32m    251\u001B[0m         command, cwd\u001B[38;5;241m=\u001B[39mcwd \u001B[38;5;28;01mif\u001B[39;00m cwd \u001B[38;5;129;01mis\u001B[39;00m \u001B[38;5;129;01mnot\u001B[39;00m \u001B[38;5;28;01mNone\u001B[39;00m \u001B[38;5;28;01melse\u001B[39;00m \u001B[38;5;28mcls\u001B[39m\u001B[38;5;241m.\u001B[39m_texcache,\n\u001B[1;32m    252\u001B[0m         stderr\u001B[38;5;241m=\u001B[39msubprocess\u001B[38;5;241m.\u001B[39mSTDOUT)\n\u001B[1;32m    253\u001B[0m \u001B[38;5;28;01mexcept\u001B[39;00m \u001B[38;5;167;01mFileNotFoundError\u001B[39;00m \u001B[38;5;28;01mas\u001B[39;00m exc:\n\u001B[0;32m--> 254\u001B[0m     \u001B[38;5;28;01mraise\u001B[39;00m \u001B[38;5;167;01mRuntimeError\u001B[39;00m(\n\u001B[1;32m    255\u001B[0m         \u001B[38;5;124mf\u001B[39m\u001B[38;5;124m'\u001B[39m\u001B[38;5;124mFailed to process string with tex because \u001B[39m\u001B[38;5;132;01m{\u001B[39;00mcommand[\u001B[38;5;241m0\u001B[39m]\u001B[38;5;132;01m}\u001B[39;00m\u001B[38;5;124m \u001B[39m\u001B[38;5;124m'\u001B[39m\n\u001B[1;32m    256\u001B[0m         \u001B[38;5;124m'\u001B[39m\u001B[38;5;124mcould not be found\u001B[39m\u001B[38;5;124m'\u001B[39m) \u001B[38;5;28;01mfrom\u001B[39;00m \u001B[38;5;21;01mexc\u001B[39;00m\n\u001B[1;32m    257\u001B[0m \u001B[38;5;28;01mexcept\u001B[39;00m subprocess\u001B[38;5;241m.\u001B[39mCalledProcessError \u001B[38;5;28;01mas\u001B[39;00m exc:\n\u001B[1;32m    258\u001B[0m     \u001B[38;5;28;01mraise\u001B[39;00m \u001B[38;5;167;01mRuntimeError\u001B[39;00m(\n\u001B[1;32m    259\u001B[0m         \u001B[38;5;124m'\u001B[39m\u001B[38;5;132;01m{prog}\u001B[39;00m\u001B[38;5;124m was not able to process the following string:\u001B[39m\u001B[38;5;130;01m\\n\u001B[39;00m\u001B[38;5;124m'\u001B[39m\n\u001B[1;32m    260\u001B[0m         \u001B[38;5;124m'\u001B[39m\u001B[38;5;132;01m{tex!r}\u001B[39;00m\u001B[38;5;130;01m\\n\u001B[39;00m\u001B[38;5;130;01m\\n\u001B[39;00m\u001B[38;5;124m'\u001B[39m\n\u001B[0;32m   (...)\u001B[0m\n\u001B[1;32m    267\u001B[0m             exc\u001B[38;5;241m=\u001B[39mexc\u001B[38;5;241m.\u001B[39moutput\u001B[38;5;241m.\u001B[39mdecode(\u001B[38;5;124m'\u001B[39m\u001B[38;5;124mutf-8\u001B[39m\u001B[38;5;124m'\u001B[39m, \u001B[38;5;124m'\u001B[39m\u001B[38;5;124mbackslashreplace\u001B[39m\u001B[38;5;124m'\u001B[39m))\n\u001B[1;32m    268\u001B[0m         ) \u001B[38;5;28;01mfrom\u001B[39;00m \u001B[38;5;28;01mNone\u001B[39;00m\n",
      "\u001B[0;31mRuntimeError\u001B[0m: Failed to process string with tex because latex could not be found"
     ]
    },
    {
     "data": {
      "text/plain": "<Figure size 1500x400 with 2 Axes>"
     },
     "metadata": {},
     "output_type": "display_data"
    }
   ],
   "source": [
    "fig, ax = plt.subplots(1,2,figsize=(15,4))\n",
    "N_vales = [N for N in range(N_min,N_max+1)]\n",
    "ax[0].errorbar(N_vales, [1-np.mean(np.array(qaoa_res[N])[:,0]) for N in N_vales], [np.std(np.array(qaoa_res[N])[:,0]) for N in N_vales], \n",
    "               label='QAOA', capsize=3, fmt='.', ms=10)\n",
    "\n",
    "ax[0].errorbar(N_vales, [1-np.mean(np.array(cp_vqa_res[N])[:,0]) for N in N_vales], [np.std(np.array(cp_vqa_res[N])[:,0]) for N in N_vales], label='CP-VQA', capsize=3, fmt='.', ms=10)\n",
    "\n",
    "ax[0].errorbar(N_vales, [1-np.mean(np.array(qaoa_hybrid_res[N])[:,0]) for N in N_vales], [np.std(np.array(qaoa_hybrid_res[N])[:,0]) for N in N_vales], label='QAOA-HYBRID', capsize=3, fmt='.', ms=10)\n",
    "\n",
    "ax[1].errorbar(N_vales, [np.mean(np.array(qaoa_res[N])[:,1]) for N in N_vales], [np.std(np.array(qaoa_res[N])[:,1]) for N in N_vales], label='QAOA', capsize=3, fmt='.', ms=10)\n",
    "ax[1].errorbar(N_vales, [np.mean(np.array(cp_vqa_res[N])[:,1]) for N in N_vales], [np.std(np.array(cp_vqa_res[N])[:,1]) for N in N_vales], label='CP-VQA', capsize=3, fmt='.', ms=10)\n",
    "ax[1].errorbar(N_vales, [np.mean(np.array(qaoa_hybrid_res[N])[:,1]) for N in N_vales], [np.std(np.array(qaoa_hybrid_res[N])[:,1]) for N in N_vales], label='QAOA-HYBRID', capsize=3, fmt='.', ms=10)\n",
    "\n",
    "xs = np.linspace(min(N_vales), max(N_vales),100)\n",
    "#ax[1].plot(xs,exponential_decay(xs),ls='--', label=r'$2^{-(N-1)}$')\n",
    "ax[1].plot(xs,[continuous_binomial_decay(N,N/2) for N in xs],ls='--', label=r'$\\binom{N}{k}^{-1}$')\n",
    "\n",
    "\n",
    "ax[0].set_ylabel('Normalized cost', size=20)\n",
    "ax[1].set_ylabel('Ground state probability', size=19)\n",
    "for i in range(2):\n",
    "    ax[i].set_ylim(-0.25,1.25)\n",
    "    ax[i].set_xticks(N_vales)\n",
    "    ax[i].set_xlabel('Portfolio size (\\# Qubits)', size=15)\n",
    "    ax[i].legend()\n",
    "plt.show()"
   ],
   "metadata": {
    "collapsed": false,
    "ExecuteTime": {
     "end_time": "2024-02-22T15:01:49.752414Z",
     "start_time": "2024-02-22T15:01:49.622582Z"
    }
   },
   "id": "8ec010d7affb87a1"
  },
  {
   "cell_type": "code",
   "outputs": [],
   "source": [],
   "metadata": {
    "collapsed": false,
    "ExecuteTime": {
     "end_time": "2024-02-22T15:00:45.889432Z",
     "start_time": "2024-02-22T15:00:45.887950Z"
    }
   },
   "id": "9974d86270586d25",
   "execution_count": 17
  }
 ],
 "metadata": {
  "kernelspec": {
   "display_name": "Python 3",
   "language": "python",
   "name": "python3"
  },
  "language_info": {
   "codemirror_mode": {
    "name": "ipython",
    "version": 2
   },
   "file_extension": ".py",
   "mimetype": "text/x-python",
   "name": "python",
   "nbconvert_exporter": "python",
   "pygments_lexer": "ipython2",
   "version": "2.7.6"
  }
 },
 "nbformat": 4,
 "nbformat_minor": 5
}
