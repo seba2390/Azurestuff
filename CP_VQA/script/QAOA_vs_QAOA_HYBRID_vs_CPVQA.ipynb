{
 "cells": [
  {
   "cell_type": "code",
   "execution_count": 1,
   "id": "initial_id",
   "metadata": {
    "collapsed": true,
    "ExecuteTime": {
     "end_time": "2024-02-24T09:12:54.513585Z",
     "start_time": "2024-02-24T09:12:53.943982Z"
    }
   },
   "outputs": [],
   "source": [
    "from typing import List\n",
    "from math import gamma\n",
    "import os \n",
    "import pickle\n",
    "\n",
    "import numpy as np\n",
    "import scipy as sc\n",
    "import matplotlib.pyplot as plt\n",
    "from joblib import Parallel, delayed\n",
    "\n",
    "from src.CP_VQA.Qulacs_CP_VQA import Qulacs_CP_VQA\n",
    "from src.QAOA_HYBRID.Qulacs_QAOA_HYBRID import Qulacs_QAOA_HYBRID\n",
    "from src.QAOA.Qulacs_QAOA import Qulacs_QAOA\n",
    "\n",
    "from src.Result import SimResult\n",
    "from src.Chain import Chain\n",
    "from src.Qubo import Qubo\n",
    "from src.Tools import (portfolio_metrics, \n",
    "                       min_cost_partition, \n",
    "                       get_qubo, \n",
    "                       check_qubo)"
   ]
  },
  {
   "cell_type": "code",
   "outputs": [],
   "source": [
    "def simulate(settings_collection: List[dict]) -> List[SimResult]:\n",
    "    result = []\n",
    "    for settings in settings_collection:\n",
    "        # Generating random problem instance \n",
    "        expected_returns, covariances = portfolio_metrics(n=settings['N'], seed=settings['seed'])\n",
    "        # Retrieving C_min, C_max and corresponding states for original portfolio problem\n",
    "        constrained_result, full_result, lmbda = min_cost_partition(nr_qubits=settings['N'],\n",
    "                                                                    k=settings['k'],\n",
    "                                                                    mu=expected_returns,\n",
    "                                                                    sigma=covariances,\n",
    "                                                                    alpha=settings['alpha'])\n",
    "    \n",
    "        # Generating QUBO corresponding to current problem instance\n",
    "        Q, offset = get_qubo(mu=expected_returns,\n",
    "                             sigma=covariances, \n",
    "                             alpha=settings['alpha'],\n",
    "                             lmbda=lmbda+1, # Adding small constant purposely\n",
    "                             k=settings['k'])\n",
    "        qubo = Qubo(Q=Q, offset=offset) \n",
    "        qubo.subspace_c_min, qubo.subspace_c_max = constrained_result['c_min'], constrained_result['c_max']\n",
    "        qubo.subspace_x_min, qubo.subspace_x_max = constrained_result['s_min'], constrained_result['s_max']\n",
    "        qubo.full_space_c_min, qubo.full_space_c_max = full_result['c_min'], full_result['c_max']\n",
    "        check_qubo(QUBO_matrix=Q, \n",
    "                   QUBO_offset=offset, \n",
    "                   expected_returns=expected_returns, \n",
    "                   covariances=covariances, \n",
    "                   alpha=settings['alpha'],\n",
    "                   k=settings['k'])\n",
    "         \n",
    "        \n",
    "        qaoa = Qulacs_QAOA(N_qubits=settings['N'],\n",
    "                           cardinality=settings['k'],\n",
    "                           layers=settings['L'],\n",
    "                           qubo=qubo)\n",
    "        \n",
    "        \n",
    "        cp_vqa = Qulacs_CP_VQA(N_qubits=settings['N'],\n",
    "                               cardinality=settings['k'],\n",
    "                               layers=settings['L'],\n",
    "                               topology=settings['topology'],\n",
    "                               get_full_state_vector=False,\n",
    "                               with_next_nearest_neighbors=settings['w_nnn'],\n",
    "                               qubo=qubo)\n",
    "        \n",
    "        qaoa_hybrid = Qulacs_QAOA_HYBRID(N_qubits=settings['N'],\n",
    "                               cardinality=settings['k'],\n",
    "                               layers=settings['L'],\n",
    "                               topology=settings['topology'],\n",
    "                               get_full_state_vector=False,\n",
    "                               with_next_nearest_neighbors=settings['w_nnn'],\n",
    "                               qubo=qubo)\n",
    "        \n",
    "         \n",
    "        \n",
    "         # Generating initial guess for rotation angles\n",
    "        np.random.seed(settings['seed'])\n",
    "        theta_min, theta_max = -2*np.pi, 2*np.pi\n",
    "        N_angles = settings['L'] * len(settings['topology'].get_NNN_indices()) if settings['w_nnn'] else settings['L'] * len(settings['topology'].get_NN_indices())\n",
    "        CPVQA_theta_i = np.random.uniform(theta_min, theta_max, N_angles)\n",
    "        QAOA_theta_i = np.random.uniform(theta_min, theta_max, 2*settings['L'])\n",
    "        \n",
    "        \n",
    "        qaoa_sim_res = sc.optimize.minimize(fun=qaoa.get_cost, \n",
    "                                            x0=QAOA_theta_i,\n",
    "                                            method=settings['opt_method'],\n",
    "                                            options={'disp': False, \n",
    "                                                     'maxiter': settings['max_iter']},\n",
    "                                            callback=qaoa.callback)\n",
    "        qaoa_norm_c = np.min(qaoa.normalized_costs)\n",
    "        qaoa_p = np.max(qaoa.opt_state_probabilities)    \n",
    "        \n",
    "        \n",
    "        cp_vqa_sim_res = sc.optimize.minimize(fun=cp_vqa.get_cost, \n",
    "                                              x0=CPVQA_theta_i,\n",
    "                                              method=settings['opt_method'],\n",
    "                                              options={'disp': False, \n",
    "                                                       'maxiter': settings['max_iter']},\n",
    "                                              callback=cp_vqa.callback)\n",
    "        cp_vqa_norm_c = np.min(cp_vqa.normalized_costs)\n",
    "        cp_vqa_p = np.max(cp_vqa.opt_state_probabilities)\n",
    "        \n",
    "        \n",
    "        qaoa_hybrid_sim_res = sc.optimize.minimize(fun=qaoa_hybrid.get_cost, \n",
    "                                              x0=QAOA_theta_i,\n",
    "                                              method=settings['opt_method'],\n",
    "                                              options={'disp': False, \n",
    "                                                       'maxiter': settings['max_iter']},\n",
    "                                              callback=qaoa_hybrid.callback)\n",
    "        qaoa_hybrid_norm_c = np.min(qaoa_hybrid.normalized_costs)\n",
    "        qaoa_hybrid_p = np.max(qaoa_hybrid.opt_state_probabilities)\n",
    "\n",
    "        result.append(SimResult(N=settings['N'],\n",
    "                      k=settings['k'],\n",
    "                      L=settings['L'],\n",
    "                      alpha=settings['alpha'],\n",
    "                      w_nnn=settings['w_nnn'],\n",
    "                      CP_VQA={'c':cp_vqa_norm_c,'p':cp_vqa_p,'nfev':cp_vqa_sim_res.nfev},\n",
    "                      QAOA={'c':qaoa_norm_c,'p':qaoa_p,'nfev':qaoa_sim_res.nfev},\n",
    "                      QAOA_HYBRID={'c':qaoa_hybrid_norm_c,'p':qaoa_hybrid_p,'nfev':qaoa_hybrid_sim_res.nfev}))\n",
    "    return result"
   ],
   "metadata": {
    "collapsed": false,
    "ExecuteTime": {
     "end_time": "2024-02-24T09:12:55.323906Z",
     "start_time": "2024-02-24T09:12:55.318942Z"
    }
   },
   "id": "bb6354eeb911cda0",
   "execution_count": 2
  },
  {
   "cell_type": "code",
   "outputs": [],
   "source": [
    "layer_dict = {2:3,  3:3,  4:3,\n",
    "              5:3,  6:3,  7:3,\n",
    "              8:3,  9:3,  10:3,\n",
    "              11:3, 12:4, 13:4,\n",
    "              14:4, 15:4, 16:3,\n",
    "              17:3, 18:3, 19:3, \n",
    "              20:3, 21:7, 22:7}\n",
    "\n",
    "max_iter_dict = {2: 400,   3:  500,  4:  600,\n",
    "                 5: 700,   6:  800,  7:  900,\n",
    "                 8: 1000,  9:  1000, 10: 1000,\n",
    "                 11: 1000, 12: 1000, 13: 1000,\n",
    "                 14: 1250, 15: 1250, 16: 1250,\n",
    "                 17: 1250, 18: 1250, 19: 1250,\n",
    "                 20: 1500, 21: 2300, 22: 2400}\n",
    "alpha=0.5\n",
    "N_seeds = 8*12\n",
    "N_min, N_max = 2,8\n",
    "sim_settings = []\n",
    "for seed in range(N_seeds):\n",
    "    chunk = []\n",
    "    for N in range(N_min, N_max+1):\n",
    "        topology = Chain(N_qubits=N)\n",
    "        topology.set_initialization_strategy(strategy=np.array([0 if i%2 == 0 else 1 for i in range(N)]))\n",
    "        setting = {'N'         :N,       'alpha'   :alpha,   'L'       :layer_dict[N], \n",
    "                   'seed'      :seed,    'topology':topology,'max_iter':max_iter_dict[N],\n",
    "                   'opt_method':'COBYLA','w_nnn'   :True,    'k'       :N//2}\n",
    "        chunk.append(setting)\n",
    "    sim_settings.append(chunk)"
   ],
   "metadata": {
    "collapsed": false,
    "ExecuteTime": {
     "end_time": "2024-02-24T09:12:56.289597Z",
     "start_time": "2024-02-24T09:12:56.286400Z"
    }
   },
   "id": "88e528a8ae89a929",
   "execution_count": 3
  },
  {
   "cell_type": "code",
   "outputs": [
    {
     "name": "stdout",
     "output_type": "stream",
     "text": [
      "[Parallel(n_jobs=7)]: Using backend LokyBackend with 7 concurrent workers.\n",
      "[Parallel(n_jobs=7)]: Done   1 tasks      | elapsed:    3.6s\n",
      "[Parallel(n_jobs=7)]: Done   2 tasks      | elapsed:    4.0s\n",
      "[Parallel(n_jobs=7)]: Done   3 tasks      | elapsed:    4.2s\n",
      "[Parallel(n_jobs=7)]: Done   4 tasks      | elapsed:    4.4s\n",
      "[Parallel(n_jobs=7)]: Done   5 tasks      | elapsed:    4.4s\n",
      "[Parallel(n_jobs=7)]: Done   6 tasks      | elapsed:    4.6s\n",
      "[Parallel(n_jobs=7)]: Done   7 tasks      | elapsed:    4.7s\n",
      "[Parallel(n_jobs=7)]: Done   8 tasks      | elapsed:    7.2s\n",
      "[Parallel(n_jobs=7)]: Done   9 tasks      | elapsed:    7.4s\n",
      "[Parallel(n_jobs=7)]: Done  10 tasks      | elapsed:    7.9s\n",
      "[Parallel(n_jobs=7)]: Done  11 tasks      | elapsed:    8.3s\n",
      "[Parallel(n_jobs=7)]: Done  12 tasks      | elapsed:    8.4s\n",
      "[Parallel(n_jobs=7)]: Done  13 tasks      | elapsed:    8.4s\n",
      "[Parallel(n_jobs=7)]: Done  14 tasks      | elapsed:    8.5s\n",
      "[Parallel(n_jobs=7)]: Done  15 tasks      | elapsed:   10.7s\n",
      "[Parallel(n_jobs=7)]: Done  16 tasks      | elapsed:   10.8s\n",
      "[Parallel(n_jobs=7)]: Done  17 tasks      | elapsed:   11.7s\n",
      "[Parallel(n_jobs=7)]: Done  18 tasks      | elapsed:   12.0s\n",
      "[Parallel(n_jobs=7)]: Done  19 tasks      | elapsed:   12.2s\n",
      "[Parallel(n_jobs=7)]: Done  20 tasks      | elapsed:   12.3s\n",
      "[Parallel(n_jobs=7)]: Done  21 tasks      | elapsed:   12.3s\n",
      "[Parallel(n_jobs=7)]: Done  22 tasks      | elapsed:   14.4s\n",
      "[Parallel(n_jobs=7)]: Done  23 tasks      | elapsed:   14.9s\n",
      "[Parallel(n_jobs=7)]: Done  24 tasks      | elapsed:   15.7s\n",
      "[Parallel(n_jobs=7)]: Done  25 tasks      | elapsed:   16.0s\n",
      "[Parallel(n_jobs=7)]: Done  26 tasks      | elapsed:   16.1s\n",
      "[Parallel(n_jobs=7)]: Done  27 tasks      | elapsed:   16.1s\n",
      "[Parallel(n_jobs=7)]: Done  28 tasks      | elapsed:   16.5s\n",
      "[Parallel(n_jobs=7)]: Done  29 tasks      | elapsed:   18.1s\n",
      "[Parallel(n_jobs=7)]: Done  30 tasks      | elapsed:   18.6s\n",
      "[Parallel(n_jobs=7)]: Done  31 tasks      | elapsed:   19.4s\n",
      "[Parallel(n_jobs=7)]: Done  32 tasks      | elapsed:   19.7s\n",
      "[Parallel(n_jobs=7)]: Done  33 tasks      | elapsed:   19.8s\n",
      "[Parallel(n_jobs=7)]: Done  34 tasks      | elapsed:   20.1s\n",
      "[Parallel(n_jobs=7)]: Done  35 tasks      | elapsed:   20.4s\n",
      "[Parallel(n_jobs=7)]: Done  36 tasks      | elapsed:   22.0s\n",
      "[Parallel(n_jobs=7)]: Done  37 tasks      | elapsed:   22.3s\n",
      "[Parallel(n_jobs=7)]: Done  38 tasks      | elapsed:   22.4s\n",
      "[Parallel(n_jobs=7)]: Done  39 tasks      | elapsed:   23.3s\n",
      "[Parallel(n_jobs=7)]: Done  40 tasks      | elapsed:   23.4s\n",
      "[Parallel(n_jobs=7)]: Done  41 tasks      | elapsed:   23.7s\n",
      "[Parallel(n_jobs=7)]: Done  42 tasks      | elapsed:   24.1s\n",
      "[Parallel(n_jobs=7)]: Done  43 tasks      | elapsed:   25.7s\n",
      "[Parallel(n_jobs=7)]: Done  44 tasks      | elapsed:   25.7s\n",
      "[Parallel(n_jobs=7)]: Done  45 tasks      | elapsed:   26.2s\n",
      "[Parallel(n_jobs=7)]: Done  46 tasks      | elapsed:   27.0s\n",
      "[Parallel(n_jobs=7)]: Done  47 tasks      | elapsed:   27.0s\n",
      "[Parallel(n_jobs=7)]: Done  48 tasks      | elapsed:   27.2s\n",
      "[Parallel(n_jobs=7)]: Done  49 tasks      | elapsed:   27.3s\n",
      "[Parallel(n_jobs=7)]: Done  50 tasks      | elapsed:   28.9s\n",
      "[Parallel(n_jobs=7)]: Done  51 tasks      | elapsed:   29.7s\n",
      "[Parallel(n_jobs=7)]: Done  52 tasks      | elapsed:   29.7s\n",
      "[Parallel(n_jobs=7)]: Done  53 tasks      | elapsed:   30.1s\n",
      "[Parallel(n_jobs=7)]: Done  54 tasks      | elapsed:   30.5s\n",
      "[Parallel(n_jobs=7)]: Done  55 tasks      | elapsed:   30.7s\n",
      "[Parallel(n_jobs=7)]: Done  56 tasks      | elapsed:   30.9s\n",
      "[Parallel(n_jobs=7)]: Done  57 tasks      | elapsed:   32.2s\n",
      "[Parallel(n_jobs=7)]: Done  58 tasks      | elapsed:   33.2s\n",
      "[Parallel(n_jobs=7)]: Done  59 tasks      | elapsed:   33.2s\n",
      "[Parallel(n_jobs=7)]: Done  60 tasks      | elapsed:   33.5s\n",
      "[Parallel(n_jobs=7)]: Done  61 tasks      | elapsed:   33.6s\n",
      "[Parallel(n_jobs=7)]: Done  62 tasks      | elapsed:   33.8s\n",
      "[Parallel(n_jobs=7)]: Done  63 tasks      | elapsed:   34.1s\n",
      "[Parallel(n_jobs=7)]: Done  64 tasks      | elapsed:   35.8s\n",
      "[Parallel(n_jobs=7)]: Done  65 tasks      | elapsed:   36.0s\n",
      "[Parallel(n_jobs=7)]: Done  66 tasks      | elapsed:   36.7s\n",
      "[Parallel(n_jobs=7)]: Done  67 tasks      | elapsed:   37.3s\n",
      "[Parallel(n_jobs=7)]: Done  68 tasks      | elapsed:   37.3s\n",
      "[Parallel(n_jobs=7)]: Done  69 tasks      | elapsed:   37.6s\n",
      "[Parallel(n_jobs=7)]: Done  70 tasks      | elapsed:   37.7s\n",
      "[Parallel(n_jobs=7)]: Done  71 tasks      | elapsed:   39.5s\n",
      "[Parallel(n_jobs=7)]: Done  72 tasks      | elapsed:   39.9s\n",
      "[Parallel(n_jobs=7)]: Done  73 tasks      | elapsed:   40.5s\n",
      "[Parallel(n_jobs=7)]: Done  74 tasks      | elapsed:   40.6s\n",
      "[Parallel(n_jobs=7)]: Done  75 tasks      | elapsed:   40.7s\n",
      "[Parallel(n_jobs=7)]: Done  76 tasks      | elapsed:   41.0s\n",
      "[Parallel(n_jobs=7)]: Done  77 tasks      | elapsed:   41.1s\n",
      "[Parallel(n_jobs=7)]: Done  78 tasks      | elapsed:   43.0s\n",
      "[Parallel(n_jobs=7)]: Done  79 tasks      | elapsed:   43.1s\n",
      "[Parallel(n_jobs=7)]: Done  80 tasks      | elapsed:   43.8s\n",
      "[Parallel(n_jobs=7)]: Done  81 tasks      | elapsed:   43.9s\n",
      "[Parallel(n_jobs=7)]: Done  82 tasks      | elapsed:   44.3s\n",
      "[Parallel(n_jobs=7)]: Done  83 tasks      | elapsed:   44.7s\n",
      "[Parallel(n_jobs=7)]: Done  85 out of  96 | elapsed:   46.3s remaining:    6.0s\n",
      "[Parallel(n_jobs=7)]: Done  87 out of  96 | elapsed:   46.5s remaining:    4.8s\n",
      "[Parallel(n_jobs=7)]: Done  89 out of  96 | elapsed:   47.7s remaining:    3.7s\n",
      "[Parallel(n_jobs=7)]: Done  91 out of  96 | elapsed:   48.5s remaining:    2.7s\n",
      "[Parallel(n_jobs=7)]: Done  93 out of  96 | elapsed:   49.6s remaining:    1.6s\n",
      "[Parallel(n_jobs=7)]: Done  96 out of  96 | elapsed:   50.7s finished\n"
     ]
    }
   ],
   "source": [
    "N_jobs=os.cpu_count()-1\n",
    "r = Parallel(n_jobs=N_jobs, verbose=51, backend='loky')(delayed(simulate)(chunk) for chunk in sim_settings)\n"
   ],
   "metadata": {
    "collapsed": false,
    "ExecuteTime": {
     "end_time": "2024-02-24T09:13:47.900137Z",
     "start_time": "2024-02-24T09:12:57.162321Z"
    }
   },
   "id": "a406aeed46a4f16b",
   "execution_count": 4
  },
  {
   "cell_type": "code",
   "outputs": [],
   "source": [
    "N_vals = [N for N in range(N_min,N_max+1)]\n",
    "qaoa_res, cp_vqa_res, qaoa_hybrid_res = {N:[] for N in N_vals}, {N:[] for N in N_vals}, {N:[] for N in N_vals}\n",
    "for l in r:\n",
    "    for result in l:\n",
    "        qaoa_res[result.N].append([result.QAOA['c'],result.QAOA['p']])\n",
    "        cp_vqa_res[result.N].append([result.CP_VQA['c'],result.CP_VQA['p']])\n",
    "        qaoa_hybrid_res[result.N].append([result.QAOA_HYBRID['c'],result.QAOA_HYBRID['p']])"
   ],
   "metadata": {
    "collapsed": false,
    "ExecuteTime": {
     "end_time": "2024-02-24T09:13:50.086033Z",
     "start_time": "2024-02-24T09:13:50.078647Z"
    }
   },
   "id": "e59fe11fb5e276a2",
   "execution_count": 5
  },
  {
   "cell_type": "code",
   "outputs": [],
   "source": [
    "def exponential_decay(x):\n",
    "    return 1.0 / (2**(x-1))\n",
    "def continuous_binomial_decay(x,k):\n",
    "    return 1.0 / (gamma(x+1) / (gamma(k+1) * gamma(x-k+1)))   "
   ],
   "metadata": {
    "collapsed": false,
    "ExecuteTime": {
     "end_time": "2024-02-24T09:13:52.210972Z",
     "start_time": "2024-02-24T09:13:52.205748Z"
    }
   },
   "id": "740ffb719892e08b",
   "execution_count": 6
  },
  {
   "cell_type": "code",
   "outputs": [],
   "source": [
    "plt.rc(\"font\", family=[\"Helvetica\", \"Arial\"])\n",
    "plt.rc(\"text\", usetex=False)\n",
    "plt.rc(\"xtick\", top=True, direction=\"in\")\n",
    "plt.rc(\"ytick\", right=True, direction=\"in\")"
   ],
   "metadata": {
    "collapsed": false,
    "ExecuteTime": {
     "end_time": "2024-02-24T09:13:52.625380Z",
     "start_time": "2024-02-24T09:13:52.620080Z"
    }
   },
   "id": "61341013ceee2add",
   "execution_count": 7
  },
  {
   "cell_type": "code",
   "execution_count": 8,
   "outputs": [
    {
     "data": {
      "text/plain": "<Figure size 1500x400 with 2 Axes>",
      "image/png": "[encoded data removed]"
     },
     "metadata": {},
     "output_type": "display_data"
    }
   ],
   "source": [
    "fig, ax = plt.subplots(1,2,figsize=(15,4))\n",
    "N_vales = [N for N in range(N_min,N_max+1)]\n",
    "ax[0].errorbar(N_vales, [1-np.mean(np.array(qaoa_res[N])[:,0]) for N in N_vales], [np.std(np.array(qaoa_res[N])[:,0]) for N in N_vales], \n",
    "               label='QAOA', capsize=3, fmt='.', ms=10)\n",
    "\n",
    "ax[0].errorbar(N_vales, [1-np.mean(np.array(cp_vqa_res[N])[:,0]) for N in N_vales], [np.std(np.array(cp_vqa_res[N])[:,0]) for N in N_vales], label='CP-VQA', capsize=3, fmt='.', ms=10)\n",
    "\n",
    "ax[0].errorbar(N_vales, [1-np.mean(np.array(qaoa_hybrid_res[N])[:,0]) for N in N_vales], [np.std(np.array(qaoa_hybrid_res[N])[:,0]) for N in N_vales], label='QAOA-HYBRID', capsize=3, fmt='.', ms=10)\n",
    "\n",
    "ax[1].errorbar(N_vales, [np.mean(np.array(qaoa_res[N])[:,1]) for N in N_vales], [np.std(np.array(qaoa_res[N])[:,1]) for N in N_vales], label='QAOA', capsize=3, fmt='.', ms=10)\n",
    "ax[1].errorbar(N_vales, [np.mean(np.array(cp_vqa_res[N])[:,1]) for N in N_vales], [np.std(np.array(cp_vqa_res[N])[:,1]) for N in N_vales], label='CP-VQA', capsize=3, fmt='.', ms=10)\n",
    "ax[1].errorbar(N_vales, [np.mean(np.array(qaoa_hybrid_res[N])[:,1]) for N in N_vales], [np.std(np.array(qaoa_hybrid_res[N])[:,1]) for N in N_vales], label='QAOA-HYBRID', capsize=3, fmt='.', ms=10)\n",
    "\n",
    "xs = np.linspace(min(N_vales), max(N_vales),100)\n",
    "#ax[1].plot(xs,exponential_decay(xs),ls='--', label=r'$2^{-(N-1)}$')\n",
    "#ax[1].plot(xs,[continuous_binomial_decay(N,N/2) for N in xs],ls='--', label=r'$\\binom{N}{k}^{-1}$')\n",
    "\n",
    "\n",
    "ax[0].set_ylabel('Normalized cost', size=20)\n",
    "ax[1].set_ylabel('Ground state probability', size=19)\n",
    "for i in range(2):\n",
    "    ax[i].set_ylim(-0.25,1.25)\n",
    "    ax[i].set_xticks(N_vales)\n",
    "    ax[i].set_xlabel('Portfolio size (\\# Qubits)', size=15)\n",
    "    ax[i].legend()\n",
    "plt.show()"
   ],
   "metadata": {
    "collapsed": false,
    "ExecuteTime": {
     "end_time": "2024-02-24T09:13:53.451955Z",
     "start_time": "2024-02-24T09:13:52.995604Z"
    }
   },
   "id": "8ec010d7affb87a1"
  },
  {
   "cell_type": "code",
   "outputs": [],
   "source": [],
   "metadata": {
    "collapsed": false,
    "ExecuteTime": {
     "end_time": "2024-02-22T15:00:45.889432Z",
     "start_time": "2024-02-22T15:00:45.887950Z"
    }
   },
   "id": "9974d86270586d25",
   "execution_count": 17
  }
 ],
 "metadata": {
  "kernelspec": {
   "display_name": "Python 3",
   "language": "python",
   "name": "python3"
  },
  "language_info": {
   "codemirror_mode": {
    "name": "ipython",
    "version": 2
   },
   "file_extension": ".py",
   "mimetype": "text/x-python",
   "name": "python",
   "nbconvert_exporter": "python",
   "pygments_lexer": "ipython2",
   "version": "2.7.6"
  }
 },
 "nbformat": 4,
 "nbformat_minor": 5
}
