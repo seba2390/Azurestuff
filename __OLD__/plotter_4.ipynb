{
 "cells": [
  {
   "cell_type": "code",
   "execution_count": 6,
   "id": "initial_id",
   "metadata": {
    "collapsed": true,
    "ExecuteTime": {
     "end_time": "2023-11-23T15:33:27.496138Z",
     "start_time": "2023-11-23T15:33:27.463124500Z"
    }
   },
   "outputs": [],
   "source": [
    "import os\n",
    "\n",
    "import h5py\n",
    "import numpy as np\n",
    "import matplotlib.pyplot as plt\n",
    "\n",
    "\n",
    "plt.rc(\"font\", family=[\"Helvetica\", \"Arial\"])\n",
    "plt.rc(\"text\", usetex=True)\n",
    "plt.rcParams['text.latex.preamble'] = r'\\usepackage{amsmath}\\usepackage{amssymb}\\usepackage{physics}'\n",
    "plt.rc(\"xtick\", top=True, direction=\"in\")\n",
    "plt.rc(\"ytick\", right=True, direction=\"in\")"
   ]
  },
  {
   "cell_type": "code",
   "execution_count": 7,
   "outputs": [
    {
     "data": {
      "text/plain": "<KeysViewHDF5 ['Covariances', 'Expected_returns', 'Final_circuit_sample_probabilities', 'Final_circuit_sample_states', 'Max_cost', 'Min_cost', 'Min_cost_state', 'N', 'Normalized_cost', 'Optimizer_maxfev', 'Optimizer_nfev', 'Rng_seed', 'k', 'layers', 'status', 'type']>"
     },
     "execution_count": 7,
     "metadata": {},
     "output_type": "execute_result"
    }
   ],
   "source": [
    "h5py.File('datasets/1.hdf5').keys()"
   ],
   "metadata": {
    "collapsed": false,
    "ExecuteTime": {
     "end_time": "2023-11-23T15:33:27.526643700Z",
     "start_time": "2023-11-23T15:33:27.469127500Z"
    }
   },
   "id": "4fd277ade27a63e4"
  },
  {
   "cell_type": "code",
   "execution_count": 8,
   "outputs": [],
   "source": [
    "results_1, results_2 = {}, {}\n",
    "for file_name in os.listdir('datasets'):\n",
    "    if file_name != '.DS_Store':\n",
    "        with h5py.File('datasets/'+file_name) as f:\n",
    "            Normalized_cost = f['Normalized_cost'][()]\n",
    "            if f['type'][()] == 1:\n",
    "                if f['N'][()] not in list(results_1.keys()):\n",
    "                    results_1[f['N'][()]] = [Normalized_cost]\n",
    "                else:\n",
    "                    results_1[f['N'][()]].append(Normalized_cost)\n",
    "            if f['type'][()] == 2:\n",
    "                if f['N'][()] not in list(results_2.keys()):\n",
    "                    results_2[f['N'][()]] = [Normalized_cost]\n",
    "                else:\n",
    "                    results_2[f['N'][()]].append(Normalized_cost)\n",
    "        \n",
    "final_results_1, final_results_2 = {}, {}\n",
    "for layer in np.sort(list(results_1.keys())):\n",
    "    final_results_1[layer] = (np.mean(results_1[layer]), np.std(results_1[layer]), np.min(results_1[layer]))\n",
    "for layer in np.sort(list(results_2.keys())):\n",
    "    final_results_2[layer] = (np.mean(results_2[layer]), np.std(results_2[layer]), np.min(results_2[layer]))"
   ],
   "metadata": {
    "collapsed": false,
    "ExecuteTime": {
     "end_time": "2023-11-23T15:33:27.526643700Z",
     "start_time": "2023-11-23T15:33:27.491125Z"
    }
   },
   "id": "7e7d39f33d1807f2"
  },
  {
   "cell_type": "code",
   "execution_count": 9,
   "outputs": [
    {
     "data": {
      "text/plain": "{2: (0.0, 0.0, 0.0, 1.0)}"
     },
     "execution_count": 9,
     "metadata": {},
     "output_type": "execute_result"
    }
   ],
   "source": [
    "final_results_2"
   ],
   "metadata": {
    "collapsed": false,
    "ExecuteTime": {
     "end_time": "2023-11-23T15:33:27.528324900Z",
     "start_time": "2023-11-23T15:33:27.500133200Z"
    }
   },
   "id": "ea49f18130024325"
  },
  {
   "cell_type": "code",
   "execution_count": null,
   "outputs": [],
   "source": [
    "fig, ax = plt.subplots(2,1, figsize=(10,6))\n",
    "fig.suptitle(r'$k=\\lfloor\\frac{N}{2}\\rfloor, \\quad S=100, \\quad$ \"COBYLA maxiter\" = 250',size=15)\n",
    "plt.subplots_adjust(hspace=0)\n",
    "# Shared x-values\n",
    "n_vals = [2 + i for i in range(len(list(final_results_1.keys())))]\n",
    "err_scaling = 1\n",
    "\n",
    "# Plottig stuff\n",
    "ax[0].errorbar(n_vals, [final_results_1[key][0] for key in list(final_results_1.keys())], yerr = [err_scaling*final_results_1[key][1] for key in list(final_results_1.keys())], capsize=3, ls='None', label=f'std. dev.')\n",
    "ax[0].plot(n_vals,[final_results_1[key][0] for key in list(final_results_1.keys())], 'o', ms=3)\n",
    "ax[0].plot(n_vals,[final_results_1[key][2] for key in list(final_results_1.keys())], 'x', ms=6, label='best found')\n",
    "\n",
    "ax[1].errorbar(n_vals, [final_results_2[key][0] for key in list(final_results_2.keys())], yerr = [err_scaling*final_results_2[key][1] for key in list(final_results_2.keys())], capsize=3, ls='None', label=f'std. dev.')\n",
    "ax[1].plot(n_vals,[final_results_2[key][0] for key in list(final_results_2.keys())], 'o', ms=3)\n",
    "ax[1].plot(n_vals,[final_results_2[key][2] for key in list(final_results_2.keys())], 'x', ms=6, label='best found')\n",
    "\n",
    "\n",
    "ax[0].text(2.9,0.1,'Nearest Neighbor (5 layers)',size=14)\n",
    "ax[1].text(2.05,0.1,r'Nearest Neighbor + Next nearest',size=14)\n",
    "\n",
    "#_y_ticks_ = [0.0,0.25,0.50,0.75,1.00]\n",
    "_y_ticks_ = [0.0,0.05,0.10,0.15,0.20]\n",
    "for _ax_ in range(2):\n",
    "    ax[_ax_].set_xlim(1.5,max(n_vals)+0.5)\n",
    "    ax[_ax_].set_ylim(-0.05,0.25)\n",
    "    ax[_ax_].hlines(0,0.5,max(n_vals)+0.5, ls='--',color='k',lw=1)\n",
    "    ax[_ax_].hlines(1,0.5,max(n_vals)+0.5, ls='--',color='k',lw=1)\n",
    "    ax[_ax_].set_yticks(_y_ticks_)\n",
    "\n",
    "ax[0].set_xticklabels([])\n",
    "ax[1].set_xticklabels([])\n",
    "ax[1].text(-0.01,0.25,r'$\\frac{|c-c_{\\textrm{min}}|}{|c_{\\textrm{max}}-c_{\\textrm{min}}|}$',rotation=90, size=20)\n",
    "\n",
    "ax[0].legend(loc=(-0.1,1.05),fontsize=12)\n",
    "\n",
    "ax[1].set_xticks(n_vals)\n",
    "ax[1].set_xticklabels([str(n) for n in n_vals], size=14)\n",
    "ax[1].set_xlabel(r'Nr. stocks', size=16)\n",
    "\n",
    "\n",
    "plt.savefig('plots/connectivity_strat_varying_N.png', dpi=300)\n",
    "plt.show()"
   ],
   "metadata": {
    "collapsed": false,
    "ExecuteTime": {
     "start_time": "2023-11-23T15:33:27.529332100Z"
    }
   },
   "id": "877ee021413330cb"
  },
  {
   "cell_type": "code",
   "execution_count": null,
   "outputs": [],
   "source": [
    "L2, N = 5, 15\n",
    "\n",
    "int(np.floor((L2*(N-1)) / (N-1+N-2)))"
   ],
   "metadata": {
    "collapsed": false
   },
   "id": "3f988246bfc6419c"
  },
  {
   "cell_type": "code",
   "execution_count": null,
   "outputs": [],
   "source": [],
   "metadata": {
    "collapsed": false
   },
   "id": "d47c49a8f0f44168"
  }
 ],
 "metadata": {
  "kernelspec": {
   "display_name": "Python 3",
   "language": "python",
   "name": "python3"
  },
  "language_info": {
   "codemirror_mode": {
    "name": "ipython",
    "version": 2
   },
   "file_extension": ".py",
   "mimetype": "text/x-python",
   "name": "python",
   "nbconvert_exporter": "python",
   "pygments_lexer": "ipython2",
   "version": "2.7.6"
  }
 },
 "nbformat": 4,
 "nbformat_minor": 5
}
