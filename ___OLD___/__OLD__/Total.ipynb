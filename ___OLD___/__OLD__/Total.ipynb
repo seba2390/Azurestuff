{
 "cells": [
  {
   "cell_type": "code",
   "outputs": [
    {
     "name": "stdout",
     "output_type": "stream",
     "text": [
      "Collecting pytest\n",
      "  Downloading pytest-8.0.0-py3-none-any.whl.metadata (7.8 kB)\n",
      "Collecting iniconfig (from pytest)\n",
      "  Downloading iniconfig-2.0.0-py3-none-any.whl (5.9 kB)\n",
      "Requirement already satisfied: packaging in c:\\users\\madse\\.python_venvs\\qiskitstuff\\lib\\site-packages (from pytest) (23.2)\n",
      "Collecting pluggy<2.0,>=1.3.0 (from pytest)\n",
      "  Downloading pluggy-1.4.0-py3-none-any.whl.metadata (4.3 kB)\n",
      "Requirement already satisfied: exceptiongroup>=1.0.0rc8 in c:\\users\\madse\\.python_venvs\\qiskitstuff\\lib\\site-packages (from pytest) (1.2.0)\n",
      "Requirement already satisfied: tomli>=1.0.0 in c:\\users\\madse\\.python_venvs\\qiskitstuff\\lib\\site-packages (from pytest) (2.0.1)\n",
      "Requirement already satisfied: colorama in c:\\users\\madse\\.python_venvs\\qiskitstuff\\lib\\site-packages (from pytest) (0.4.6)\n",
      "Downloading pytest-8.0.0-py3-none-any.whl (334 kB)\n",
      "   ---------------------------------------- 0.0/334.0 kB ? eta -:--:--\n",
      "   --------------------------------- ------ 276.5/334.0 kB 8.3 MB/s eta 0:00:01\n",
      "   ---------------------------------------- 334.0/334.0 kB 6.9 MB/s eta 0:00:00\n",
      "Downloading pluggy-1.4.0-py3-none-any.whl (20 kB)\n",
      "Installing collected packages: pluggy, iniconfig, pytest\n",
      "Successfully installed iniconfig-2.0.0 pluggy-1.4.0 pytest-8.0.0\n"
     ]
    }
   ],
   "source": [
    "!pip install pytest"
   ],
   "metadata": {
    "collapsed": false,
    "ExecuteTime": {
     "end_time": "2024-02-09T13:23:34.436800900Z",
     "start_time": "2024-02-09T13:23:27.209798900Z"
    }
   },
   "id": "3943a4b4fa5cd29f",
   "execution_count": 1
  },
  {
   "cell_type": "code",
   "execution_count": 429,
   "id": "initial_id",
   "metadata": {
    "collapsed": true,
    "ExecuteTime": {
     "end_time": "2023-12-07T15:21:38.752560900Z",
     "start_time": "2023-12-07T15:21:38.736826400Z"
    }
   },
   "outputs": [],
   "source": [
    "from typing import List, Tuple, Dict\n",
    "from itertools import combinations\n",
    "\n",
    "from qiskit import QuantumCircuit, Aer, execute\n",
    "from qiskit.circuit.library import PauliEvolutionGate\n",
    "from qiskit.opflow import X, Y\n",
    "\n",
    "import numpy as np\n",
    "import scipy as sc\n",
    "import matplotlib.pyplot as plt\n",
    "from numba import jit\n",
    "\n",
    "plt.rc(\"font\", family=[\"Helvetica\", \"Arial\"])\n",
    "plt.rc(\"text\", usetex=True)\n",
    "plt.rcParams['text.latex.preamble'] = r'\\usepackage{amsmath}\\usepackage{amssymb}\\usepackage{physics}'\n",
    "plt.rc(\"xtick\", top=True, direction=\"in\")\n",
    "plt.rc(\"ytick\", right=True, direction=\"in\")"
   ]
  },
  {
   "cell_type": "code",
   "execution_count": 430,
   "outputs": [],
   "source": [
    "##########################################\n",
    "# ---------- HELPER FUNCTIONS ---------- #\n",
    "##########################################\n",
    "\n",
    "def string_to_array(string_rep: str) -> np.ndarray:\n",
    "    return np.array([int(bit) for bit in string_rep]).astype(np.float64)\n",
    "\n",
    "\n",
    "@jit(nopython=True, cache=True)\n",
    "def qubo_cost(state: np.ndarray, QUBO_matrix: np.ndarray) -> float:\n",
    "    return np.dot(state, np.dot(QUBO_matrix, state))\n",
    "\n",
    "\n",
    "def portfolio_metrics(n: int, seed: int) -> tuple[np.ndarray, np.ndarray]:\n",
    "    \"\"\" Generates random PSD covar matrix and random expected returns vector\"\"\"\n",
    "    np.random.seed(seed)\n",
    "    _expected_returns_ = np.random.uniform(low=0, high=0.99, size=n)\n",
    "    _temp_ = np.random.uniform(low=0, high=0.99, size=(n, n))\n",
    "    _covariances_ = np.dot(_temp_, _temp_.transpose())\n",
    "    if not np.all(_covariances_ == _covariances_.T) or not np.all(np.linalg.eigvals(_covariances_) >= 0):\n",
    "        raise ValueError('Covariance matrix is not PSD.')\n",
    "\n",
    "    return _expected_returns_, _covariances_\n",
    "\n",
    "def min_cost_partition(nr_qubits: int,\n",
    "                       k: int,\n",
    "                       mu: np.ndarray,\n",
    "                       sigma: np.ndarray,\n",
    "                       alpha: float) -> Tuple[dict, dict, float]:\n",
    "    \n",
    "    def generate_binary_combinations(n: int, k: int) -> np.ndarray:\n",
    "        \"\"\" Generates all the 'n' chose 'k' combinations w. 'k' ones. \"\"\"\n",
    "        num_permutations = 2 ** n\n",
    "        for indices in combinations(range(n), k):\n",
    "            # Create a numpy array of zeros of size N\n",
    "            arr = np.zeros(n, dtype=int)\n",
    "            # Set ones at the specified positions\n",
    "            arr[list(indices)] = 1\n",
    "            yield arr\n",
    "\n",
    "    def generate_binary_permutations(n: int) -> np.ndarray:\n",
    "        \"\"\" Generates all the 2^n permutations of bitstring w. length 'n'. \"\"\"\n",
    "        num_permutations = 2 ** n\n",
    "        for i in range(num_permutations):\n",
    "            _binary_string_ = bin(i)[2:].zfill(n)\n",
    "            yield np.array([int(bit) for bit in _binary_string_])\n",
    "\n",
    "    def cost(state: np.ndarray, mu: np.ndarray, sigma: np.ndarray, alpha: float) -> float:\n",
    "        return -np.dot(state, mu) + alpha * np.dot(state, np.dot(sigma, state))\n",
    "\n",
    "    max_cost_1, min_cost_1, min_comb = -np.inf, np.inf, np.empty(shape=(nr_qubits,))\n",
    "    for comb in generate_binary_combinations(n=nr_qubits, k=k):\n",
    "        comb_cost = cost(state=comb, mu=mu, sigma=sigma, alpha=alpha)\n",
    "        if comb_cost < min_cost_1:\n",
    "            min_cost_1, min_comb = comb_cost, comb\n",
    "        if comb_cost > max_cost_1:\n",
    "            max_cost_1 = comb_cost\n",
    "    binary_comb = min_comb\n",
    "\n",
    "    max_cost_2, min_cost_2, min_perm = -np.inf, np.inf, np.empty(shape=(nr_qubits,))\n",
    "    for perm in generate_binary_permutations(n=nr_qubits):\n",
    "        perm_cost = cost(state=perm, mu=mu, sigma=sigma, alpha=alpha)\n",
    "        if perm_cost < min_cost_2:\n",
    "            min_cost_2, min_perm = perm_cost, perm\n",
    "        if perm_cost > max_cost_2:\n",
    "            max_cost_2 = perm_cost\n",
    "    binary_perm = min_perm\n",
    "\n",
    "    _lmbda_ = 0\n",
    "    if min_cost_2 < min_cost_1:\n",
    "        _lmbda_ = abs(min_cost_2) - abs(min_cost_1)\n",
    "\n",
    "    _constrained_result_ = {'s': binary_comb, 'c_min': min_cost_1, 'c_max': max_cost_1}\n",
    "    _full_result_        = {'s': binary_perm, 'c_min': min_cost_2, 'c_max': max_cost_2}\n",
    "    return _constrained_result_, _full_result_, _lmbda_\n",
    "\n",
    "\n",
    "def get_qubo(mu: np.ndarray, sigma: np.ndarray, alpha: float, lmbda: float, k: float):\n",
    "    \"\"\"Generates the QUBO for the portfolio objective: s^T*mu + alpha*(s^T*Covar*s) \"\"\"\n",
    "    Q = np.zeros_like(sigma)\n",
    "    N = Q.shape[0]\n",
    "    for i in range(N):\n",
    "        for j in range(N):\n",
    "            if i == j:\n",
    "                Q[i, j] += -mu[i] - 2 * k * lmbda + lmbda + alpha * sigma[i, j]\n",
    "            else:\n",
    "                Q[i, j] += lmbda + alpha * sigma[i, j]\n",
    "    offset = lmbda * k ** 2\n",
    "    return Q, offset\n",
    "\n",
    "def normalized_cost(result: Dict[str, float],\n",
    "                    QUBO_matrix: np.ndarray,\n",
    "                    QUBO_offset,\n",
    "                    max_cost: float,\n",
    "                    min_cost: float) -> float:\n",
    "    best_state = list(result.keys())[np.argmax(list(result.values()))]\n",
    "    found_cost = qubo_cost(np.array([float(_) for _ in best_state]).astype(np.float64), QUBO_matrix) + QUBO_offset\n",
    "    return abs(found_cost - min_cost) / abs(max_cost - min_cost)"
   ],
   "metadata": {
    "collapsed": false,
    "ExecuteTime": {
     "end_time": "2023-12-07T15:21:39.214873400Z",
     "start_time": "2023-12-07T15:21:39.199242200Z"
    }
   },
   "id": "61f974d5b884bcb3"
  },
  {
   "cell_type": "code",
   "execution_count": 453,
   "outputs": [],
   "source": [
    "#################################\n",
    "# ---------- CLASSES ---------- #\n",
    "#################################\n",
    "\n",
    "class Grid:\n",
    "    def __init__(self,\n",
    "                 N_qubits: int = None,\n",
    "                 Rows: int = None,\n",
    "                 Cols: int = None):\n",
    "\n",
    "        self.using_N_qubits = False\n",
    "        if N_qubits is None:\n",
    "            if Rows is None or Cols is None:\n",
    "                raise ValueError(\n",
    "                    'When the grid is not initialized using \"N_qubits\", it should be initialized, using \"Rows\" and '\n",
    "                    '\"Cols\".')\n",
    "        else:\n",
    "            if int(np.sqrt(N_qubits)) - np.sqrt(N_qubits) != 0:\n",
    "                raise ValueError(\n",
    "                    f'When grid is initialized w. \"N_qubits\" it is assumed to be a square grid, and therefore '\n",
    "                    f'\"N_qubits\" must be a perfect square integer. ')\n",
    "            self.N_qubits = N_qubits\n",
    "            self.using_N_qubits = True\n",
    "        if Rows is not None or Cols is not None:\n",
    "            if N_qubits is not None:\n",
    "                raise ValueError(f'When specifying the grid using \"Rows\" & \"Cols\", \"N_qubits\" should not be specified.')\n",
    "            if Rows is None or Cols is None:\n",
    "                raise ValueError(\n",
    "                    f'When specifying the grid without \"N_qubits\", both \"Rows\" & \"Cols\" has to be specified.')\n",
    "            self.rows, self.cols = Rows, Cols\n",
    "        \n",
    "\n",
    "    def get_grid_indexing(self) -> np.ndarray:\n",
    "        if self.using_N_qubits:\n",
    "            root = int(np.sqrt(self.N_qubits))\n",
    "            return np.array([[col + row * root for col in range(root)] for row in range(root)])\n",
    "        else:\n",
    "            return np.array([[col + row * self.cols for col in range(self.cols)] for row in range(self.rows)])\n",
    "\n",
    "    def get_NN_indices(self) -> List[Tuple[int, int]]:\n",
    "        \"\"\" Returns pairs of indices corresponding to\n",
    "        Nearest Neighbor interactions in the grid structure \"\"\"\n",
    "        grid_indices = self.get_grid_indexing()\n",
    "        rows, cols = grid_indices.shape\n",
    "        NN_pairs = []\n",
    "        for row in range(rows):\n",
    "            for col in range(cols):\n",
    "                if row == rows - 1:\n",
    "                    if col < cols - 1:\n",
    "                        NN_pairs.append((grid_indices[row, col], grid_indices[row, col + 1]))\n",
    "                elif col == cols - 1:\n",
    "                    NN_pairs.append((grid_indices[row, col], grid_indices[row + 1, col]))\n",
    "                else:\n",
    "                    NN_pairs.append((grid_indices[row, col], grid_indices[row + 1, col]))\n",
    "                    NN_pairs.append((grid_indices[row, col], grid_indices[row, col + 1]))\n",
    "        return NN_pairs\n",
    "    \n",
    "\n",
    "class CP_QAOA:\n",
    "    def __init__(self,\n",
    "                 N_qubits,\n",
    "                 cardinality,\n",
    "                 layers,\n",
    "                 QUBO_matrix,\n",
    "                 grid = None,\n",
    "                 with_evenly_distributed_start_x: bool = False,\n",
    "                 with_next_nearest_neighbors: bool = False):\n",
    "        \n",
    "        self.n_qubits = N_qubits\n",
    "        self.cardinality = cardinality\n",
    "        self.layers = layers\n",
    "        self.QUBO_matrix = QUBO_matrix\n",
    "\n",
    "        self.with_evenly_distributed_start_x = with_evenly_distributed_start_x\n",
    "        self.with_next_nearest_neighbors = with_next_nearest_neighbors\n",
    "\n",
    "\n",
    "        if grid is None:\n",
    "            # Normal 1D chain Nearest Neighbors\n",
    "            self.nearest_neighbor_pairs = [(i, i+1) for i in range(self.n_qubits-1)]\n",
    "        else:\n",
    "            # Grid Nearest Neighbors\n",
    "            self.nearest_neighbor_pairs = grid.get_NN_indices()\n",
    "\n",
    "        if self.with_evenly_distributed_start_x:\n",
    "            # Calculate the step size for distributing X gates\n",
    "            self.step_size = self.n_qubits / (self.cardinality + 1)\n",
    "\n",
    "        self.simulator = Aer.get_backend('statevector_simulator')\n",
    "        \n",
    "        #print(\"Using cardinality: \", self.cardinality)\n",
    "        #print('Initial excitations at: ', [int(self.step_size * i) for i in range(1, self.cardinality+1)])\n",
    "\n",
    "    def set_circuit(self, angles):\n",
    "\n",
    "        qcircuit = QuantumCircuit(self.n_qubits)\n",
    "\n",
    "        # Initial state\n",
    "        if self.with_evenly_distributed_start_x:\n",
    "            # Distributing x-gates across string evenly\n",
    "            for i in range(1, self.cardinality + 1):\n",
    "                qcircuit.x(int(self.step_size * i))\n",
    "        else:\n",
    "            # Setting 'k' first with x-gates\n",
    "            for qubit_index in range(self.cardinality):\n",
    "                qcircuit.x(qubit_index)\n",
    "\n",
    "        NN_angles_per_layer = self.n_qubits - 1\n",
    "        NNN_angles_per_layer = self.n_qubits - 2\n",
    "        total_NN_angles = NN_angles_per_layer * self.layers\n",
    "        for layer in range(self.layers):\n",
    "            # Nearest Neighbor\n",
    "            counter = 0\n",
    "            for (qubit_i, qubit_j) in self.nearest_neighbor_pairs:\n",
    "                theta_ij = angles[(layer * NN_angles_per_layer) + counter]\n",
    "\n",
    "                # Define the Hamiltonian for XX and YY interactions\n",
    "                xx_term = theta_ij * (X ^ X)\n",
    "                yy_term = theta_ij * (Y ^ Y)\n",
    "                hamiltonian = xx_term + yy_term\n",
    "\n",
    "                # Create the time-evolved operator\n",
    "                time_evolved_operator = PauliEvolutionGate(hamiltonian, time=1.0)\n",
    "                qcircuit.append(time_evolved_operator, [qubit_i, qubit_j])\n",
    "\n",
    "                # Increment counter for angles\n",
    "                counter += 1\n",
    "                \n",
    "            # Next Nearest Neighbor\n",
    "            if self.with_next_nearest_neighbors:\n",
    "                for qubit_i in range(self.n_qubits - 2):\n",
    "                    theta_ij = angles[total_NN_angles + (layer * NNN_angles_per_layer) + qubit_i]\n",
    "                    qubit_j = qubit_i + 2\n",
    "\n",
    "                    # Define the Hamiltonian for XX and YY interactions\n",
    "                    xx_term = theta_ij * (X ^ X)\n",
    "                    yy_term = theta_ij * (Y ^ Y)\n",
    "                    hamiltonian = xx_term + yy_term\n",
    "\n",
    "                    # Create the time-evolved operator\n",
    "                    time_evolved_operator = PauliEvolutionGate(hamiltonian, time=1.0)\n",
    "                    qcircuit.append(time_evolved_operator, [qubit_i, qubit_j])\n",
    "\n",
    "        return qcircuit\n",
    "\n",
    "    def get_cost(self, angles) -> float:\n",
    "        circuit = self.set_circuit(angles=angles)\n",
    "        counts = execute(circuit, self.simulator).result().get_counts()\n",
    "        return np.mean([probability * qubo_cost(state=string_to_array(bitstring), QUBO_matrix=self.QUBO_matrix) for\n",
    "                        bitstring, probability in counts.items()])\n",
    "\n",
    "    def get_state_probabilities(self, angles, flip_states: bool = True) -> Dict:\n",
    "        circuit = self.set_circuit(angles=angles)\n",
    "        counts = execute(circuit, self.simulator).result().get_counts()\n",
    "        if flip_states:\n",
    "            return {bitstring[::-1]: probability for bitstring, probability in counts.items()}\n",
    "        return {bitstring: probability for bitstring, probability in counts.items()}\n",
    "    \n",
    "    def get_layer_prob_dist(self, N_layers: int, angles) -> List[Dict]:\n",
    "        original_number_of_layers = self.layers\n",
    "        result = []\n",
    "        ## STARTING STATE ## \n",
    "        qcircuit = QuantumCircuit(self.n_qubits)\n",
    "        if self.with_evenly_distributed_start_x:\n",
    "            # Distributing x-gates across string evenly\n",
    "            for i in range(1, self.cardinality + 1):\n",
    "                qcircuit.x(int(self.step_size * i))\n",
    "        else:\n",
    "            # Setting 'k' first with x-gates\n",
    "            for qubit_index in range(self.cardinality):\n",
    "                qcircuit.x(qubit_index)\n",
    "        counts = execute(qcircuit, self.simulator).result().get_counts()\n",
    "        result.append( {bitstring: probability for bitstring, probability in counts.items()})\n",
    "        \n",
    "        ## REMAINING LAYERS ## \n",
    "        for layers in range(1,N_layers+1):\n",
    "            self.layers = layers\n",
    "            result.append(self.get_state_probabilities(angles=angles,flip_states=False))\n",
    "        self.layers = original_number_of_layers\n",
    "        return result\n",
    "    \n",
    "    "
   ],
   "metadata": {
    "collapsed": false,
    "ExecuteTime": {
     "end_time": "2023-12-07T15:31:16.827585500Z",
     "start_time": "2023-12-07T15:31:16.811718500Z"
    }
   },
   "id": "6cafc96acd73cc0c"
  },
  {
   "cell_type": "code",
   "execution_count": 475,
   "outputs": [],
   "source": [
    "# Number of Qubits \n",
    "N=6\n",
    "# Number of excitations\n",
    "k=3\n",
    "# RNG seed for reproducibility\n",
    "seed=1\n",
    "# alpha in: s^T*mu + alpha*(s^T*Covar*s)\n",
    "alpha=0.1\n",
    "# Nr. of layer repetitions\n",
    "layers=5\n",
    "# Maximal number of iterations for classical solver\n",
    "max_iter=125\n",
    "\n",
    "# Using grid Nearest neighbors\n",
    "w_grid = False\n",
    "# Using next nearest neighbors (in 1D chain model)\n",
    "w_next_nearest_neighbors = False\n",
    "# Distributing the 'k' excitations evenly (instead of just 'k' first)\n",
    "w_evenly_distributed = True"
   ],
   "metadata": {
    "collapsed": false,
    "ExecuteTime": {
     "end_time": "2023-12-07T15:46:37.389980300Z",
     "start_time": "2023-12-07T15:46:37.358176500Z"
    }
   },
   "id": "5f88597246c7b984"
  },
  {
   "cell_type": "code",
   "execution_count": 476,
   "outputs": [],
   "source": [
    "# Generating grid\n",
    "if w_grid:\n",
    "    my_grid = Grid(N_qubits=N)\n",
    "    print(f' Qubit indices in grid: \\n', my_grid.get_grid_indexing())\n",
    "    print(f'\\n Corresponding Nearest Neighbor index pairs: \\n', my_grid.get_NN_indices())"
   ],
   "metadata": {
    "collapsed": false,
    "ExecuteTime": {
     "end_time": "2023-12-07T15:46:37.999896700Z",
     "start_time": "2023-12-07T15:46:37.952507800Z"
    }
   },
   "id": "4a1ee446326a4177"
  },
  {
   "cell_type": "code",
   "execution_count": 477,
   "outputs": [
    {
     "name": "stdout",
     "output_type": "stream",
     "text": [
      "Optimal state is: |110100>\n"
     ]
    }
   ],
   "source": [
    "# Generating random problem instance \n",
    "expected_returns, covariances = portfolio_metrics(n=N, seed=seed)\n",
    "\n",
    "# Retrieving C_min, C_max and corresponding states.\n",
    "constrained_result, full_result, lmbda = min_cost_partition(nr_qubits=N,\n",
    "                                                            k=k,\n",
    "                                                            mu=expected_returns,\n",
    "                                                            sigma=covariances,\n",
    "                                                            alpha=alpha)\n",
    "\n",
    "max_cost, min_cost, min_state = constrained_result['c_max'], constrained_result['c_min'], constrained_result['s']\n",
    "min_state_str = ''.join([str(_) for _ in min_state])\n",
    "\n",
    "# Generating QUBO corresponding to current problem instance\n",
    "Q, offset = get_qubo(mu=expected_returns,\n",
    "                     sigma=covariances,\n",
    "                     alpha=alpha,\n",
    "                     lmbda=lmbda,\n",
    "                     k=k)\n",
    "print(\"Optimal state is: |\"+min_state_str+\">\")"
   ],
   "metadata": {
    "collapsed": false,
    "ExecuteTime": {
     "end_time": "2023-12-07T15:46:38.498228900Z",
     "start_time": "2023-12-07T15:46:38.480573100Z"
    }
   },
   "id": "95968370bf49f77d"
  },
  {
   "cell_type": "code",
   "execution_count": 478,
   "outputs": [],
   "source": [
    "# Generating instance of ansatz\n",
    "ansatz = CP_QAOA(N_qubits=N,\n",
    "                 cardinality=k,\n",
    "                 layers=layers,\n",
    "                 grid=my_grid if w_grid else None,\n",
    "                 QUBO_matrix=Q,\n",
    "                 with_next_nearest_neighbors=w_next_nearest_neighbors,\n",
    "                 with_evenly_distributed_start_x=w_evenly_distributed)"
   ],
   "metadata": {
    "collapsed": false,
    "ExecuteTime": {
     "end_time": "2023-12-07T15:46:39.224682Z",
     "start_time": "2023-12-07T15:46:39.209042Z"
    }
   },
   "id": "5f889239325c37d7"
  },
  {
   "cell_type": "code",
   "execution_count": 479,
   "outputs": [
    {
     "name": "stdout",
     "output_type": "stream",
     "text": [
      " message: Maximum number of function evaluations has been exceeded.\n",
      " success: False\n",
      "  status: 2\n",
      "     fun: -0.21776662076680237\n",
      "       x: [-1.295e+00  4.658e+00 ...  2.766e-01  1.865e+00]\n",
      "    nfev: 125\n",
      "   maxcv: 0.0\n"
     ]
    }
   ],
   "source": [
    "# Generating initial guess for rotation angles\n",
    "theta_min, theta_max = -2*np.pi, 2*np.pi\n",
    "if w_grid:\n",
    "    N_angles = layers * len(my_grid.get_NN_indices())\n",
    "else:\n",
    "    N_angles = layers * (N - 1) \n",
    "if w_next_nearest_neighbors:\n",
    "    N_angles += layers * (N - 2)\n",
    "theta_i = np.random.uniform(low=theta_min, high=theta_max, size=N_angles)\n",
    "\n",
    "# Choosing optimizer for scipy\n",
    "available_methods = ['COBYLA', 'Nelder-Mead']\n",
    "optimizer_method = available_methods[0]\n",
    "\n",
    "# Generating callback function for plotting\n",
    "costs = [] # Normalized costs\n",
    "angles = [] # Corresponding rotations angles\n",
    "best_state_probs = [] # Probability of sampling best state \n",
    "dicts = []\n",
    "def callback_function(x):\n",
    "    _dict_ = ansatz.get_state_probabilities(angles=x, flip_states=False)\n",
    "    dicts.append(_dict_)\n",
    "    _cost_ = normalized_cost(result=_dict_,\n",
    "                             QUBO_matrix=Q,\n",
    "                             QUBO_offset=offset,\n",
    "                             max_cost=max_cost, \n",
    "                             min_cost=min_cost)\n",
    "    if min_state_str in list(_dict_.keys()):\n",
    "        best_state_probs.append(_dict_[min_state_str])\n",
    "    else:\n",
    "        best_state_probs.append(0)\n",
    "    costs.append(_cost_)\n",
    "    angles.append(x)\n",
    "\n",
    "# Performing optimization\n",
    "res = sc.optimize.minimize(fun=ansatz.get_cost, x0=theta_i,\n",
    "                           method=optimizer_method,\n",
    "                           options={'disp': False, 'maxiter': max_iter},\n",
    "                           callback=callback_function)\n",
    "print(res)"
   ],
   "metadata": {
    "collapsed": false,
    "ExecuteTime": {
     "end_time": "2023-12-07T15:46:48.727597100Z",
     "start_time": "2023-12-07T15:46:39.881471500Z"
    }
   },
   "id": "b5a357de26c57904"
  },
  {
   "cell_type": "code",
   "execution_count": 480,
   "outputs": [
    {
     "data": {
      "text/plain": "Text(0, 0.5, 'Optimal state probability')"
     },
     "execution_count": 480,
     "metadata": {},
     "output_type": "execute_result"
    },
    {
     "data": {
      "text/plain": "<Figure size 900x300 with 2 Axes>",
      "image/png": "[encoded data removed]"
     },
     "metadata": {},
     "output_type": "display_data"
    }
   ],
   "source": [
    "# Plotting results\n",
    "fig, ax = plt.subplots(1,2,figsize=(9,3))\n",
    "\n",
    "ax[0].plot([it + 1 for it in range(len(costs))],costs)\n",
    "ax[0].set_ylim(-0.1,1.1)\n",
    "ax[0].set_ylabel('Normalized cost')\n",
    "\n",
    "ax[1].plot([it + 1 for it in range(len(best_state_probs))],best_state_probs)\n",
    "ax[1].set_ylim(-0.1,1.1)\n",
    "ax[1].set_ylabel('Optimal state probability')"
   ],
   "metadata": {
    "collapsed": false,
    "ExecuteTime": {
     "end_time": "2023-12-07T15:46:55.549875700Z",
     "start_time": "2023-12-07T15:46:50.330158500Z"
    }
   },
   "id": "3d5d92b5b7b1d5d0"
  },
  {
   "cell_type": "code",
   "execution_count": 489,
   "outputs": [],
   "source": [
    "def generate_binary_combinations(n: int, k: int) -> np.ndarray:\n",
    "        \"\"\" Generates all the 'n' chose 'k' combinations w. 'k' ones. \"\"\"\n",
    "        result = []\n",
    "        for indices in combinations(range(n), k):\n",
    "            # Create a numpy array of zeros of size N\n",
    "            arr = np.zeros(n, dtype=int)\n",
    "            # Set ones at the specified positions\n",
    "            arr[list(indices)] = 1\n",
    "            state = ''\n",
    "            for bit in arr:\n",
    "                state += str(int(bit))\n",
    "            result.append(state)\n",
    "        return result\n",
    "\n",
    "def plot_layer_evolution(ansatz: CP_QAOA, angles: np.array, layers: int, optimal_state_str: str):\n",
    "    combs = generate_binary_combinations(n=ansatz.n_qubits, k=ansatz.cardinality)\n",
    "    mat = np.zeros(shape=(len(combs),layers+1))\n",
    "    layer_prob_distributions = ansatz.get_layer_prob_dist(N_layers=layers,angles=angles)\n",
    "    for layer in range(len(layer_prob_distributions)):\n",
    "        current_dict = layer_prob_distributions[layer]\n",
    "        for comb in range(len(combs)):\n",
    "            if combs[comb] in list(current_dict.keys()):\n",
    "                mat[comb,layer] = current_dict[combs[comb]]\n",
    "                \n",
    "    fig, ax = plt.subplots(1,1)\n",
    "    # Set row and column labels\n",
    "    row_labels = ['$|$'+state+'$>$' for state in combs]\n",
    "    col_labels = [f'{i}' for i in range(mat.shape[1])]\n",
    "    \n",
    "    # Create a heatmap from the matrix\n",
    "    ax.imshow(mat, cmap='viridis')\n",
    "    \n",
    "    \n",
    "    # Set the labels\n",
    "    ax.set_xticks(ticks=np.arange(len(col_labels)), labels=col_labels)\n",
    "    ax.set_yticks(ticks=np.arange(len(row_labels)), labels=row_labels)\n",
    "    \n",
    "    # Title and labels\n",
    "    ax.set_xlabel('Layers')\n",
    "    \n",
    "    ax.set_title('Optimal state: '+'$|$'+optimal_state_str+'$>$')\n",
    "    \n",
    "    #save figure\n",
    "    plt.savefig('layer_prob_dist.pdf')\n",
    "    # Show the plot\n",
    "    plt.show()\n",
    "    \n",
    "def plot_iteration_evolution(dicts: List[Dict], optimal_state_str: str):\n",
    "    combs = generate_binary_combinations(n=ansatz.n_qubits, k=ansatz.cardinality)\n",
    "    mat = np.zeros(shape=(len(combs),len(dicts)))\n",
    "    for iteration in range(len(dicts)):\n",
    "        current_dict = dicts[iteration]\n",
    "        for comb in range(len(combs)):\n",
    "            if combs[comb] in list(current_dict.keys()):\n",
    "                mat[comb,iteration] = current_dict[combs[comb]]\n",
    "                \n",
    "    fig, ax = plt.subplots(1,1, figsize=(25,6))\n",
    "    # Set row and column labels\n",
    "    row_labels = ['$|$'+state+'$>$' for state in combs]\n",
    "    col_labels = [f'{i}' for i in range(mat.shape[1])]\n",
    "    \n",
    "    # Create a heatmap from the matrix\n",
    "    ax.imshow(mat, cmap='viridis')\n",
    "    \n",
    "    \n",
    "    # Only show every 5th label for x-ticks\n",
    "    ax.set_xticks(ticks=np.arange(0, len(col_labels), 5))  # Select every 5th index\n",
    "    ax.set_xticklabels(labels=[col_labels[i] for i in np.arange(0, len(col_labels), 5)])  # Apply corresponding labels\n",
    "    \n",
    "    ax.set_yticks(ticks=np.arange(len(row_labels)))\n",
    "    ax.set_yticklabels(labels=row_labels)\n",
    "    \n",
    "    # Title and labels\n",
    "    ax.set_xlabel('Iterations')\n",
    "    \n",
    "    ax.set_title('Optimal state: '+'$|$'+optimal_state_str+'$>$')\n",
    "    \n",
    "    #save figure\n",
    "    plt.savefig('iteration_prob_dist.pdf')\n",
    "    # Show the plot\n",
    "    plt.show()"
   ],
   "metadata": {
    "collapsed": false,
    "ExecuteTime": {
     "end_time": "2023-12-07T15:50:52.534203600Z",
     "start_time": "2023-12-07T15:50:52.518581300Z"
    }
   },
   "id": "30fa5091f5dca5f5"
  },
  {
   "cell_type": "code",
   "execution_count": 473,
   "outputs": [
    {
     "data": {
      "text/plain": "<Figure size 640x480 with 1 Axes>",
      "image/png": "[encoded data removed]"
     },
     "metadata": {},
     "output_type": "display_data"
    }
   ],
   "source": [
    "plot_layer_evolution(ansatz=ansatz, angles=res.x, layers=layers, optimal_state_str=min_state_str)"
   ],
   "metadata": {
    "collapsed": false,
    "ExecuteTime": {
     "end_time": "2023-12-07T15:40:59.086509800Z",
     "start_time": "2023-12-07T15:40:58.282305900Z"
    }
   },
   "id": "5f28a62ae5da96e5"
  },
  {
   "cell_type": "markdown",
   "source": [],
   "metadata": {
    "collapsed": false
   },
   "id": "f7a2db588cbbe000"
  },
  {
   "cell_type": "code",
   "execution_count": 490,
   "outputs": [
    {
     "data": {
      "text/plain": "<Figure size 2500x600 with 1 Axes>",
      "image/png": "[encoded data removed]"
     },
     "metadata": {},
     "output_type": "display_data"
    }
   ],
   "source": [
    "plot_iteration_evolution(dicts=dicts, optimal_state_str=min_state_str)"
   ],
   "metadata": {
    "collapsed": false,
    "ExecuteTime": {
     "end_time": "2023-12-07T15:50:56.729687Z",
     "start_time": "2023-12-07T15:50:55.724373400Z"
    }
   },
   "id": "1af814aa8ad8ea30"
  },
  {
   "cell_type": "markdown",
   "source": [
    "# Average over multiple instances:"
   ],
   "metadata": {
    "collapsed": false
   },
   "id": "acc80a7e978b2328"
  },
  {
   "cell_type": "code",
   "execution_count": 295,
   "outputs": [],
   "source": [
    "def simulate(datapoint):\n",
    "    _N_, _K_, _M_, _A_, _S_, _L_, _WG_, _WNNN_, _WED_ = datapoint\n",
    "    # Generating random problem instance \n",
    "    _expected_returns_, _covariances_ = portfolio_metrics(n=_N_, seed=_S_)\n",
    "    \n",
    "    # Retrieving C_min, C_max and corresponding states.\n",
    "    _constrained_result_, _full_result_, _lmbda_ = min_cost_partition(nr_qubits=_N_,\n",
    "                                                                k=_K_,\n",
    "                                                                mu=_expected_returns_,\n",
    "                                                                sigma=_covariances_,\n",
    "                                                                alpha=_A_)\n",
    "    \n",
    "    _max_cost_, _min_cost_, _min_state_ = _constrained_result_['c_max'], _constrained_result_['c_min'], _constrained_result_['s']\n",
    "    _min_state_str_ = ''.join([str(_) for _ in _min_state_])\n",
    "    \n",
    "    # Generating QUBO corresponding to current problem instance\n",
    "    _Q_, _offset_ = get_qubo(mu=_expected_returns_,\n",
    "                         sigma=_covariances_,\n",
    "                         alpha=_A_,\n",
    "                         lmbda=_lmbda_,\n",
    "                         k=_K_)\n",
    "    \n",
    "    # Generating instance of ansatz\n",
    "    _ansatz_ = CP_QAOA(N_qubits=_N_,\n",
    "                       cardinality=_K_,\n",
    "                       layers=_L_,\n",
    "                       grid=Grid(N_qubits=_N_) if _WG_ else None,\n",
    "                       QUBO_matrix=_Q_,\n",
    "                       with_next_nearest_neighbors=_WNNN_,\n",
    "                       with_evenly_distributed_start_x=_WED_)\n",
    "    \n",
    "    # Generating initial guess for rotation angles\n",
    "    _theta_min_, _theta_max_ = -2*np.pi, 2*np.pi\n",
    "    if _WG_:\n",
    "        _N_angles_ = _L_ * len(Grid(N_qubits=_N_).get_NN_indices())\n",
    "    else:\n",
    "        _N_angles_ = _L_ * (_N_ - 1) \n",
    "    if _WNNN_:\n",
    "        _N_angles_ += _L_ * (_N_ - 2)\n",
    "    _theta_i_ = np.random.uniform(low=_theta_min_, high=_theta_max_, size=_N_angles_)\n",
    "    \n",
    "    # Choosing optimizer for scipy\n",
    "    _available_methods_ = ['COBYLA', 'Nelder-Mead']\n",
    "    _optimizer_method_ = _available_methods_[0]\n",
    "    \n",
    "    # Generating callback function for plotting\n",
    "    _costs_ = [] # Normalized costs\n",
    "    _best_state_probs_ = [] # Probability of sampling best state \n",
    "    def _callback_function_(x):\n",
    "        _dict_ = _ansatz_.get_state_probabilities(angles=x, flip_states=False)\n",
    "        _cost_ = normalized_cost(result=_dict_,\n",
    "                                 QUBO_matrix=_Q_,\n",
    "                                 QUBO_offset=_offset_,\n",
    "                                 max_cost=_max_cost_, \n",
    "                                 min_cost=_min_cost_)\n",
    "        if _min_state_str_ in list(_dict_.keys()):\n",
    "            _best_state_probs_.append(_dict_[_min_state_str_])\n",
    "        else:\n",
    "            _best_state_probs_.append(0)\n",
    "        _costs_.append(_cost_)\n",
    "    \n",
    "    # Performing optimization\n",
    "    _res_ = sc.optimize.minimize(fun=_ansatz_.get_cost, x0=_theta_i_,\n",
    "                               method=_optimizer_method_,\n",
    "                               options={'disp': False, 'maxiter': _M_},\n",
    "                               callback=_callback_function_)\n",
    "    \n",
    "    _type_ = 0 if _WG_ else 1\n",
    "    return _costs_, _best_state_probs_, _type_\n"
   ],
   "metadata": {
    "collapsed": false,
    "ExecuteTime": {
     "end_time": "2023-12-07T14:25:23.346983700Z",
     "start_time": "2023-12-07T14:25:23.298292Z"
    }
   },
   "id": "5df79ba1d8b48b7d"
  },
  {
   "cell_type": "code",
   "execution_count": 296,
   "outputs": [],
   "source": [
    "# Generating datapoints\n",
    "# Nqubits, Cardinality, max iter, alpha, seed, layers, with grid, with next nearest, with evenly distributed\n",
    "N_OF_EACH = 10\n",
    "datapoints = []\n",
    "for seed in range(N_OF_EACH):\n",
    "    datapoints.append((9,4,200,0.1,seed,2,True,False,True))\n",
    "for seed in range(N_OF_EACH,2*N_OF_EACH):\n",
    "    datapoints.append((9,4,200,0.1,seed,2,False,False,True))"
   ],
   "metadata": {
    "collapsed": false,
    "ExecuteTime": {
     "end_time": "2023-12-07T14:25:23.347989600Z",
     "start_time": "2023-12-07T14:25:23.315112500Z"
    }
   },
   "id": "7fd3a91ba01e18b6"
  },
  {
   "cell_type": "code",
   "execution_count": 297,
   "outputs": [
    {
     "name": "stderr",
     "output_type": "stream",
     "text": [
      "100%|██████████| 20/20 [03:46<00:00, 11.30s/it]\n"
     ]
    }
   ],
   "source": [
    "from tqdm import tqdm\n",
    "results = []\n",
    "for datapoint in tqdm(datapoints):\n",
    "    results.append(simulate(datapoint))"
   ],
   "metadata": {
    "collapsed": false,
    "ExecuteTime": {
     "end_time": "2023-12-07T14:29:09.435313100Z",
     "start_time": "2023-12-07T14:25:23.334664200Z"
    }
   },
   "id": "ad79de3290c8c20"
  },
  {
   "cell_type": "code",
   "execution_count": 298,
   "outputs": [],
   "source": [
    "grid_probs, chain_probs = [], []\n",
    "grid_costs, chain_costs = [], []\n",
    "min_N_iterations = min([len(_[0]) for _ in results])\n",
    "for result in results:\n",
    "    if len(result[0]) < min_N_iterations:\n",
    "        min_N_iterations = len(result[0])\n",
    "    if result[-1] == 0:\n",
    "        grid_costs.append(result[0][:min_N_iterations])\n",
    "        grid_probs.append(result[1][:min_N_iterations])\n",
    "    else:\n",
    "        chain_costs.append(result[0][:min_N_iterations])\n",
    "        chain_probs.append(result[1][:min_N_iterations])\n",
    "grid_probs, chain_probs = np.array(grid_probs), np.array(chain_probs)\n",
    "grid_costs, chain_costs = np.array(grid_costs), np.array(chain_costs)"
   ],
   "metadata": {
    "collapsed": false,
    "ExecuteTime": {
     "end_time": "2023-12-07T14:29:09.443188Z",
     "start_time": "2023-12-07T14:29:09.427407500Z"
    }
   },
   "id": "d2d4bb47849890aa"
  },
  {
   "cell_type": "code",
   "execution_count": 299,
   "outputs": [
    {
     "data": {
      "text/plain": "<matplotlib.legend.Legend at 0x1c75078e550>"
     },
     "execution_count": 299,
     "metadata": {},
     "output_type": "execute_result"
    },
    {
     "data": {
      "text/plain": "<Figure size 900x300 with 2 Axes>",
      "image/png": "[encoded data removed]"
     },
     "metadata": {},
     "output_type": "display_data"
    }
   ],
   "source": [
    "avg_grid_probs, avg_chain_probs = np.mean(grid_probs,axis=0), np.mean(chain_probs,axis=0)\n",
    "avg_grid_costs, avg_chain_costs = np.mean(grid_costs,axis=0), np.mean(chain_costs,axis=0)\n",
    "\n",
    "# Plotting results\n",
    "fig, ax = plt.subplots(1,2,figsize=(9,3))\n",
    "\n",
    "ax[0].plot([it + 1 for it in range(len(avg_grid_costs))],avg_grid_costs, label='grid')\n",
    "ax[0].plot([it + 1 for it in range(len(avg_chain_costs))],avg_chain_costs, label='chain')\n",
    "\n",
    "ax[0].set_ylim(-0.1,1.1)\n",
    "ax[0].set_ylabel('Normalized cost')\n",
    "ax[0].legend()\n",
    "\n",
    "ax[1].plot([it + 1 for it in range(len(avg_grid_probs))],avg_grid_probs, label='grid')\n",
    "ax[1].plot([it + 1 for it in range(len(avg_chain_probs))],avg_chain_probs, label='chain')\n",
    "\n",
    "ax[1].set_ylim(-0.1,1.1)\n",
    "ax[1].set_ylabel('Optimal state probability')\n",
    "ax[1].legend()"
   ],
   "metadata": {
    "collapsed": false,
    "ExecuteTime": {
     "end_time": "2023-12-07T14:29:09.615362300Z",
     "start_time": "2023-12-07T14:29:09.443188Z"
    }
   },
   "id": "19ad3f4cda076f97"
  },
  {
   "cell_type": "code",
   "execution_count": null,
   "outputs": [],
   "source": [],
   "metadata": {
    "collapsed": false
   },
   "id": "47ef2d49e6c2497f"
  }
 ],
 "metadata": {
  "kernelspec": {
   "display_name": "Python 3",
   "language": "python",
   "name": "python3"
  },
  "language_info": {
   "codemirror_mode": {
    "name": "ipython",
    "version": 2
   },
   "file_extension": ".py",
   "mimetype": "text/x-python",
   "name": "python",
   "nbconvert_exporter": "python",
   "pygments_lexer": "ipython2",
   "version": "2.7.6"
  }
 },
 "nbformat": 4,
 "nbformat_minor": 5
}
