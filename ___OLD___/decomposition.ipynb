{
 "cells": [
  {
   "cell_type": "code",
   "execution_count": 3,
   "outputs": [],
   "source": [
    "from typing import List, Tuple\n",
    "\n",
    "import numpy as np\n",
    "from spynoza import QuantumCircuit, QuantumRegister, PyState\n",
    "from qiskit import Aer, execute\n",
    "import qiskit\n",
    "\n",
    "from src.custom_spynoza_gates import RXX, RYY, RZZ, RZ, RX\n",
    "\n",
    "\n",
    "def PyState_to_NumpyArray(state: PyState) -> np.ndarray:\n",
    "    return np.array([state.__getitem__(i)[0] + 1j * state.__getitem__(i)[1] for i in range(state.__len__())],\n",
    "                    dtype=np.complex64)\n",
    "\n",
    "\n",
    "######################################################################################################\n",
    "#                                 TEST CASE GENERATOR FUNCTIONS                                      #\n",
    "######################################################################################################\n",
    "\n",
    "__N_QUBITS__ = 6\n",
    "\n",
    "\n",
    "def generate_tests(n_rng_trials: int, gate_name: str) -> List[Tuple[np.ndarray[complex], np.ndarray[complex]]]:\n",
    "    test_cases = []\n",
    "    for trial in range(n_rng_trials):\n",
    "        np.random.seed(trial)\n",
    "        theta = np.random.uniform(-2 * np.pi, 2 * np.pi)\n",
    "        pair = np.random.choice(__N_QUBITS__, 2, replace=False)\n",
    "\n",
    "        # --- Spynoza --- #\n",
    "        register = QuantumRegister(__N_QUBITS__)\n",
    "        circuit = QuantumCircuit(register)\n",
    "        if gate_name == 'RXX':\n",
    "            RXX(circuit=circuit, angle=theta, qubit_1=pair[0], qubit_2=pair[1])\n",
    "        elif gate_name == 'RYY':\n",
    "            RYY(circuit=circuit, angle=theta, qubit_1=pair[0], qubit_2=pair[1])\n",
    "        elif gate_name == 'RZZ':\n",
    "            RZZ(circuit=circuit, angle=theta, qubit_1=pair[0], qubit_2=pair[1])\n",
    "        elif gate_name == 'RZ':\n",
    "            RZ(circuit=circuit, angle=theta, qubit=pair[0])\n",
    "        elif gate_name == 'RX':\n",
    "            RX(circuit=circuit, angle=theta, qubit=pair[0])\n",
    "        circuit.execute()\n",
    "        spynoza_state_vector = PyState_to_NumpyArray(circuit.state_vector)\n",
    "\n",
    "        # --- Qiskit --- #\n",
    "        qiskit_circuit = qiskit.QuantumCircuit(__N_QUBITS__)\n",
    "        if gate_name == 'RXX':\n",
    "            qiskit_circuit.rxx(theta=theta, qubit1=pair[0], qubit2=pair[1])\n",
    "        elif gate_name == 'RYY':\n",
    "            qiskit_circuit.ryy(theta=theta, qubit1=pair[0], qubit2=pair[1])\n",
    "        elif gate_name == 'RZZ':\n",
    "            qiskit_circuit.rzz(theta=theta, qubit1=pair[0], qubit2=pair[1])\n",
    "        elif gate_name == 'RZ':\n",
    "            qiskit_circuit.rz(phi=theta, qubit=pair[0])\n",
    "        elif gate_name == 'RX':\n",
    "            qiskit_circuit.rx(theta=theta, qubit=pair[0])\n",
    "        qiskit_state_vector = np.array(execute(qiskit_circuit,\n",
    "                                               Aer.get_backend('statevector_simulator')).result().get_statevector())\n",
    "\n",
    "        test_cases.append((qiskit_state_vector, qiskit_state_vector))\n",
    "\n",
    "    return test_cases\n",
    "\n",
    "#############################################################################\n",
    "#                                 TESTING                                   #\n",
    "#############################################################################\n",
    "\n",
    "N_RNG_TRIALS = 10\n",
    "test_cases = generate_tests(n_rng_trials=N_RNG_TRIALS, gate_name='RXX')"
   ],
   "metadata": {
    "collapsed": false,
    "ExecuteTime": {
     "end_time": "2024-02-19T21:03:28.122325Z",
     "start_time": "2024-02-19T21:03:28.010870Z"
    }
   },
   "id": "42807a151bb726e3"
  },
  {
   "cell_type": "code",
   "execution_count": null,
   "outputs": [],
   "source": [],
   "metadata": {
    "collapsed": false
   },
   "id": "d84aee00188ee88f"
  }
 ],
 "metadata": {
  "kernelspec": {
   "display_name": "Python 3",
   "language": "python",
   "name": "python3"
  },
  "language_info": {
   "codemirror_mode": {
    "name": "ipython",
    "version": 2
   },
   "file_extension": ".py",
   "mimetype": "text/x-python",
   "name": "python",
   "nbconvert_exporter": "python",
   "pygments_lexer": "ipython2",
   "version": "2.7.6"
  }
 },
 "nbformat": 4,
 "nbformat_minor": 5
}
