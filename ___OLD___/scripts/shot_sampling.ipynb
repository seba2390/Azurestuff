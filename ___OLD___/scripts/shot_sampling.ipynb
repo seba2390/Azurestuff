{
 "cells": [
  {
   "cell_type": "code",
   "execution_count": null,
   "outputs": [],
   "source": [],
   "metadata": {
    "collapsed": false
   },
   "id": "7babee42c051ab56"
  },
  {
   "cell_type": "code",
   "execution_count": 77,
   "id": "initial_id",
   "metadata": {
    "collapsed": true,
    "ExecuteTime": {
     "end_time": "2024-01-04T21:09:20.879832Z",
     "start_time": "2024-01-04T21:09:20.854692Z"
    }
   },
   "outputs": [],
   "source": [
    "import os\n",
    "from joblib import Parallel, delayed\n",
    "\n",
    "import numpy as np\n",
    "import scipy as sc\n",
    "import matplotlib.pyplot as plt\n",
    "from tqdm import tqdm\n",
    "\n",
    "from src.CPQAOA import CP_QAOA\n",
    "from src.Grid import Grid\n",
    "from src.Chain import Chain\n",
    "from src.Tools import (portfolio_metrics, \n",
    "                       min_cost_partition, \n",
    "                       get_qubo, \n",
    "                       normalized_cost, \n",
    "                       qubo_limits, \n",
    "                       check_qubo,\n",
    "                       partitioned_averages)"
   ]
  },
  {
   "cell_type": "code",
   "execution_count": 78,
   "outputs": [
    {
     "name": "stdout",
     "output_type": "stream",
     "text": [
      " Qubit indices in chain: \n",
      " [0 1 2 3 4 5 6 7 8]\n",
      "\n",
      " Corresponding Nearest Neighbor index pairs: \n",
      " [(0, 1), (1, 2), (2, 3), (3, 4), (4, 5), (5, 6), (6, 7), (7, 8)]\n",
      "\n",
      " Corresponding Nearest Neighbor + Next Nearest index pairs: \n",
      " [(0, 1), (0, 2), (1, 2), (1, 3), (2, 3), (2, 4), (3, 4), (3, 5), (4, 5), (4, 6), (5, 6), (5, 7), (6, 7), (6, 8)]\n",
      "\n",
      " Initialization strategy is: \n",
      " [0 1 0 1 0 1 0 1 0]\n",
      "\n",
      " Corresponding indices is: \n",
      " [1, 3, 5, 7]\n"
     ]
    }
   ],
   "source": [
    "# Number of Qubits \n",
    "N=9\n",
    "# Number of excitations\n",
    "k=4\n",
    "# RNG seed for reproducibility\n",
    "seed=4\n",
    "# alpha in: s^T*mu + alpha*(s^T*Covar*s)\n",
    "alpha=0.5\n",
    "# Nr. of layer repetitions\n",
    "layers=3\n",
    "# Maximal number of iterations for classical solver\n",
    "max_iter=80\n",
    "# Using next nearest neighbors (in 1D chain model)\n",
    "w_next_nearest_neighbors = False\n",
    "\n",
    "np.random.seed(seed)\n",
    "\n",
    "\n",
    "\n",
    "my_chain = Chain(N_qubits=N)\n",
    "print(f' Qubit indices in chain: \\n', my_chain.get_chain_indexing())\n",
    "print(f'\\n Corresponding Nearest Neighbor index pairs: \\n', my_chain.get_NN_indices())\n",
    "print(f'\\n Corresponding Nearest Neighbor + Next Nearest index pairs: \\n', my_chain.get_NNN_indices())\n",
    "init_strat = np.array([0,1,0,1,0,1,0,1,0])\n",
    "my_chain.set_initialization_strategy(strategy=init_strat)\n",
    "print(f'\\n Initialization strategy is: \\n', my_chain.get_initialization_strategy())\n",
    "print(f'\\n Corresponding indices is: \\n', my_chain.get_initialization_indices())"
   ],
   "metadata": {
    "collapsed": false,
    "ExecuteTime": {
     "end_time": "2024-01-04T21:09:20.880137Z",
     "start_time": "2024-01-04T21:09:20.861033Z"
    }
   },
   "id": "73a7e2905a9d6403"
  },
  {
   "cell_type": "code",
   "execution_count": 79,
   "outputs": [
    {
     "name": "stdout",
     "output_type": "stream",
     "text": [
      " Qubit indices in grid: \n",
      " [[0 1 2]\n",
      " [3 4 5]\n",
      " [6 7 8]]\n",
      "\n",
      " Corresponding Nearest Neighbor index pairs: \n",
      " [(0, 3), (0, 1), (1, 4), (1, 2), (2, 5), (3, 6), (3, 4), (4, 7), (4, 5), (5, 8), (6, 7), (7, 8)]\n",
      "\n",
      " Corresponding Nearest Neighbor + Next Nearest index pairs: \n",
      " [(0, 3), (0, 1), (1, 4), (1, 2), (2, 5), (3, 6), (3, 4), (4, 7), (4, 5), (5, 8), (6, 7), (7, 8), (0, 6), (0, 2), (1, 7), (2, 8), (3, 5), (6, 8)]\n",
      "\n",
      " Initialization strategy is: \n",
      " [[0 1 0]\n",
      " [1 0 1]\n",
      " [0 1 0]]\n",
      "\n",
      " Corresponding indices is: \n",
      " [1, 3, 5, 7]\n"
     ]
    }
   ],
   "source": [
    "my_grid = Grid(Rows=3,Cols=3)\n",
    "print(f' Qubit indices in grid: \\n', my_grid.get_grid_indexing())\n",
    "print(f'\\n Corresponding Nearest Neighbor index pairs: \\n', my_grid.get_NN_indices())\n",
    "print(f'\\n Corresponding Nearest Neighbor + Next Nearest index pairs: \\n', my_grid.get_NNN_indices())\n",
    "init_strat = np.array([[0,1,0],\n",
    "                       [1,0,1],\n",
    "                       [0,1,0]])\n",
    "my_grid.set_initialization_strategy(strategy=init_strat)\n",
    "print(f'\\n Initialization strategy is: \\n', my_grid.get_initialization_strategy())\n",
    "print(f'\\n Corresponding indices is: \\n', my_grid.get_initialization_indices())"
   ],
   "metadata": {
    "collapsed": false,
    "ExecuteTime": {
     "end_time": "2024-01-04T21:09:20.894306Z",
     "start_time": "2024-01-04T21:09:20.866104Z"
    }
   },
   "id": "7e2edb3af086ed6d"
  },
  {
   "cell_type": "code",
   "execution_count": 80,
   "outputs": [],
   "source": [
    "# Deciding between grid and 1d chain topology\n",
    "my_topology = my_chain"
   ],
   "metadata": {
    "collapsed": false,
    "ExecuteTime": {
     "end_time": "2024-01-04T21:09:20.894438Z",
     "start_time": "2024-01-04T21:09:20.868653Z"
    }
   },
   "id": "e17413083691756a"
  },
  {
   "cell_type": "code",
   "execution_count": 81,
   "outputs": [
    {
     "name": "stdout",
     "output_type": "stream",
     "text": [
      "Min. cost portfolio (constrained subspace): 14.141913198726565\n",
      "Optimal portfolio state (constrained subspace) is: |101100010>\n"
     ]
    }
   ],
   "source": [
    "# Generating random problem instance \n",
    "expected_returns, covariances = portfolio_metrics(n=N, seed=seed)\n",
    "\n",
    "# Retrieving C_min, C_max and corresponding states for original portfolio problem\n",
    "constrained_result, full_result, lmbda = min_cost_partition(nr_qubits=N,\n",
    "                                                            k=k,\n",
    "                                                            mu=expected_returns,\n",
    "                                                            sigma=covariances,\n",
    "                                                            alpha=alpha)\n",
    "\n",
    "portfolio_subspace_max_cost, portfolio_subspace_min_cost, portfolio_subspace_min_state = constrained_result['c_max'], constrained_result['c_min'], constrained_result['s']\n",
    "full_space_max_cost = full_result['c_max']\n",
    "portfolio_subspace_min_state_str = ''.join([str(_) for _ in portfolio_subspace_min_state])\n",
    "print(f\"Min. cost portfolio (constrained subspace): {portfolio_subspace_min_cost}\")\n",
    "print(\"Optimal portfolio state (constrained subspace) is: |\"+portfolio_subspace_min_state_str+\">\")"
   ],
   "metadata": {
    "collapsed": false,
    "ExecuteTime": {
     "end_time": "2024-01-04T21:09:20.897865Z",
     "start_time": "2024-01-04T21:09:20.871115Z"
    }
   },
   "id": "a521630ee7199fac"
  },
  {
   "cell_type": "code",
   "execution_count": 82,
   "outputs": [
    {
     "name": "stdout",
     "output_type": "stream",
     "text": [
      "Min. cost QUBO: 14.141913198726542\n",
      "Min. cost QUBO state is: |101100010>\n"
     ]
    }
   ],
   "source": [
    "\n",
    "# Generating QUBO corresponding to current problem instance\n",
    "Q, offset = get_qubo(mu=expected_returns,\n",
    "                     sigma=covariances, \n",
    "                     alpha=alpha,\n",
    "                     lmbda=lmbda+1e-8, # Adding small constant purposely\n",
    "                     k=k)\n",
    "QUBO_limits = qubo_limits(Q=Q,offset=offset)\n",
    "qubo_min_cost, qubo_max_cost = QUBO_limits['c_min'], QUBO_limits['c_max']\n",
    "qubo_min_state, qubo_max_state = QUBO_limits['min_state'], QUBO_limits['max_state']\n",
    "check_qubo(QUBO_matrix=Q, QUBO_offset=offset, expected_returns=expected_returns, covariances=covariances, alpha=alpha, k=k)\n",
    "qubo_min_state_str = ''.join([str(_) for _ in qubo_min_state])\n",
    "print(f\"Min. cost QUBO: {qubo_min_cost}\")\n",
    "print(\"Min. cost QUBO state is: |\"+qubo_min_state_str+\">\")\n"
   ],
   "metadata": {
    "collapsed": false,
    "ExecuteTime": {
     "end_time": "2024-01-04T21:09:20.906487Z",
     "start_time": "2024-01-04T21:09:20.895068Z"
    }
   },
   "id": "72b3f1faa654ce5b"
  },
  {
   "cell_type": "code",
   "execution_count": 83,
   "outputs": [
    {
     "name": "stdout",
     "output_type": "stream",
     "text": [
      "Check that qubo min cost is same as portfolio min cost:\n"
     ]
    },
    {
     "data": {
      "text/plain": "(14.141913198726542, 14.141913198726565)"
     },
     "execution_count": 83,
     "metadata": {},
     "output_type": "execute_result"
    }
   ],
   "source": [
    "print(\"Check that qubo min cost is same as portfolio min cost:\")\n",
    "qubo_min_cost, portfolio_subspace_min_cost"
   ],
   "metadata": {
    "collapsed": false,
    "ExecuteTime": {
     "end_time": "2024-01-04T21:09:20.913606Z",
     "start_time": "2024-01-04T21:09:20.907432Z"
    }
   },
   "id": "94160b9b1ac3db76"
  },
  {
   "cell_type": "code",
   "execution_count": 84,
   "outputs": [
    {
     "name": "stdout",
     "output_type": "stream",
     "text": [
      "Check that qubo max cost is at least portfolio max cost:\n"
     ]
    },
    {
     "data": {
      "text/plain": "(448.82125635902037, 22.407206320691806)"
     },
     "execution_count": 84,
     "metadata": {},
     "output_type": "execute_result"
    }
   ],
   "source": [
    "print(\"Check that qubo max cost is at least portfolio max cost:\")\n",
    "qubo_max_cost, portfolio_subspace_max_cost"
   ],
   "metadata": {
    "collapsed": false,
    "ExecuteTime": {
     "end_time": "2024-01-04T21:09:20.913786Z",
     "start_time": "2024-01-04T21:09:20.910925Z"
    }
   },
   "id": "24c610b9eb0c72c6"
  },
  {
   "cell_type": "code",
   "execution_count": 85,
   "outputs": [],
   "source": [
    "# Generating instances of ansatz'\n",
    "statevector_ansatz = CP_QAOA(N_qubits=N,\n",
    "                             cardinality=k,\n",
    "                             layers=layers,\n",
    "                             topology=my_topology,\n",
    "                             QUBO_matrix=Q,\n",
    "                             with_next_nearest_neighbors=w_next_nearest_neighbors,\n",
    "                             with_z_phase=True,\n",
    "                             backend='state_vector')\n",
    "\n",
    "N_SAMPLES = 100000\n",
    "sample_ansatz = CP_QAOA(N_qubits=N,\n",
    "                        cardinality=k,\n",
    "                        layers=layers,\n",
    "                        topology=my_topology,\n",
    "                        QUBO_matrix=Q,\n",
    "                        with_next_nearest_neighbors=w_next_nearest_neighbors,\n",
    "                        with_z_phase=True,\n",
    "                        backend='sample',\n",
    "                        N_samples=N_SAMPLES,\n",
    "                        seed=seed)"
   ],
   "metadata": {
    "collapsed": false,
    "ExecuteTime": {
     "end_time": "2024-01-04T21:09:20.953319Z",
     "start_time": "2024-01-04T21:09:20.913238Z"
    }
   },
   "id": "598bc30f69ae542f"
  },
  {
   "cell_type": "code",
   "execution_count": 86,
   "outputs": [],
   "source": [
    "# Generating callback function for plotting\n",
    "CP_statevector_costs = [] # Normalized costs\n",
    "CP_statevector_probs = [] # probability of optimal state\n",
    "def CP_statevector_callback_function(x):\n",
    "    _dict_ = statevector_ansatz.get_state_probabilities(flip_states=False)\n",
    "    # N.B. Normalizing w. respect to full space max cost\n",
    "    _cost_ = normalized_cost(result=_dict_,\n",
    "                             QUBO_matrix=Q,\n",
    "                             QUBO_offset=offset,\n",
    "                             max_cost=qubo_max_cost, \n",
    "                             min_cost=qubo_min_cost)\n",
    "    if portfolio_subspace_min_state_str in list(_dict_.keys()):\n",
    "        CP_statevector_probs.append(_dict_[portfolio_subspace_min_state_str])\n",
    "    else:\n",
    "        CP_statevector_probs.append(0)\n",
    "    CP_statevector_costs.append(_cost_)\n",
    "    \n",
    "CP_sample_costs = [] # Normalized costs\n",
    "CP_sample_probs = [] # probability of optimal state\n",
    "def CP_sample_callback_function(x):\n",
    "    _dict_ = sample_ansatz.get_state_probabilities(flip_states=False)\n",
    "    # N.B. Normalizing w. respect to full space max cost\n",
    "    _cost_ = normalized_cost(result=_dict_,\n",
    "                             QUBO_matrix=Q,\n",
    "                             QUBO_offset=offset,\n",
    "                             max_cost=qubo_max_cost, \n",
    "                             min_cost=qubo_min_cost)\n",
    "    if portfolio_subspace_min_state_str in list(_dict_.keys()):\n",
    "        CP_sample_probs.append(_dict_[portfolio_subspace_min_state_str])\n",
    "    else:\n",
    "        CP_sample_probs.append(0)\n",
    "    CP_sample_costs.append(_cost_)\n",
    "\n",
    "# Generating initial guess for rotation angles for CP_ansatz\n",
    "theta_min, theta_max = -2*np.pi, 2*np.pi\n",
    "N_angles = layers * len(my_topology.get_NN_indices())\n",
    "if w_next_nearest_neighbors:\n",
    "    N_angles += layers * len(my_topology.get_NNN_indices())\n",
    "N_angles += layers * N # Because this is WITH Z-phase\n",
    "CP_z_phase_theta_i = np.random.uniform(low=theta_min, high=theta_max, size=N_angles)\n",
    "\n",
    "# Performing optimization\n",
    "CP_statevector_res = sc.optimize.minimize(fun=statevector_ansatz.get_cost, x0=CP_z_phase_theta_i,\n",
    "                                          method='Powell',\n",
    "                                          options={'disp': False, 'maxiter': max_iter},\n",
    "                                          callback=CP_statevector_callback_function)\n",
    "\n",
    "CP_sample_res = sc.optimize.minimize(fun=sample_ansatz.get_cost, x0=CP_z_phase_theta_i,\n",
    "                                     method='Powell',\n",
    "                                     options={'disp': False, 'maxiter': max_iter},\n",
    "                                     callback=CP_sample_callback_function)\n"
   ],
   "metadata": {
    "collapsed": false,
    "ExecuteTime": {
     "end_time": "2024-01-04T21:19:48.338075Z",
     "start_time": "2024-01-04T21:09:20.916513Z"
    }
   },
   "id": "caf7fd7e4309e46f"
  },
  {
   "cell_type": "code",
   "execution_count": 87,
   "outputs": [
    {
     "data": {
      "text/plain": "<matplotlib.legend.Legend at 0x17ef51db0>"
     },
     "execution_count": 87,
     "metadata": {},
     "output_type": "execute_result"
    },
    {
     "data": {
      "text/plain": "<Figure size 1200x300 with 2 Axes>",
      "image/png": "[encoded data removed]"
     },
     "metadata": {},
     "output_type": "display_data"
    }
   ],
   "source": [
    "fig, ax = plt.subplots(1,2,figsize=(12,3))\n",
    "statevector_iterations, sample_iterations = [it+1 for it in range(len(CP_statevector_costs))], [it+1 for it in range(len(CP_sample_costs))]\n",
    "ax[0].plot(statevector_iterations, CP_statevector_probs, label='state vector')\n",
    "ax[0].plot(sample_iterations, CP_sample_probs, label=f'samples: {N_SAMPLES}')\n",
    "ax[0].legend()\n",
    "\n",
    "ax[1].plot(statevector_iterations, CP_statevector_costs, label='state vector')\n",
    "ax[1].plot(sample_iterations, CP_sample_costs, label=f'samples: {N_SAMPLES}')\n",
    "ax[1].legend()\n"
   ],
   "metadata": {
    "collapsed": false,
    "ExecuteTime": {
     "end_time": "2024-01-04T21:19:48.457154Z",
     "start_time": "2024-01-04T21:19:48.339661Z"
    }
   },
   "id": "4e340a8c946a4c9e"
  },
  {
   "cell_type": "code",
   "execution_count": 88,
   "outputs": [
    {
     "data": {
      "text/plain": " message: Optimization terminated successfully.\n success: True\n  status: 0\n     fun: -16.317589962115548\n       x: [ 2.053e+00 -4.205e+00 ...  1.862e+00 -3.791e-01]\n     nit: 13\n   direc: [[ 1.000e+00  0.000e+00 ...  0.000e+00  0.000e+00]\n           [ 0.000e+00  1.000e+00 ...  0.000e+00  0.000e+00]\n           ...\n           [ 0.000e+00  0.000e+00 ...  1.000e+00  0.000e+00]\n           [ 0.000e+00  0.000e+00 ...  0.000e+00  1.000e+00]]\n    nfev: 15567"
     },
     "execution_count": 88,
     "metadata": {},
     "output_type": "execute_result"
    }
   ],
   "source": [
    "CP_statevector_res"
   ],
   "metadata": {
    "collapsed": false,
    "ExecuteTime": {
     "end_time": "2024-01-04T21:19:48.461465Z",
     "start_time": "2024-01-04T21:19:48.455465Z"
    }
   },
   "id": "f0e61bfe05753948"
  },
  {
   "cell_type": "code",
   "execution_count": 89,
   "outputs": [
    {
     "data": {
      "text/plain": " message: Optimization terminated successfully.\n success: True\n  status: 0\n     fun: -6.667821488694273\n       x: [ 3.105e+00 -4.309e+00 ...  2.196e+00  2.262e+00]\n     nit: 6\n   direc: [[ 1.000e+00  0.000e+00 ...  0.000e+00  0.000e+00]\n           [ 0.000e+00  1.000e+00 ...  0.000e+00  0.000e+00]\n           ...\n           [ 0.000e+00  0.000e+00 ...  1.000e+00  0.000e+00]\n           [ 0.000e+00  0.000e+00 ...  0.000e+00  1.000e+00]]\n    nfev: 5451"
     },
     "execution_count": 89,
     "metadata": {},
     "output_type": "execute_result"
    }
   ],
   "source": [
    "CP_sample_res"
   ],
   "metadata": {
    "collapsed": false,
    "ExecuteTime": {
     "end_time": "2024-01-04T21:19:48.462233Z",
     "start_time": "2024-01-04T21:19:48.459949Z"
    }
   },
   "id": "f138e82f486cdd51"
  },
  {
   "cell_type": "code",
   "execution_count": 90,
   "outputs": [
    {
     "data": {
      "text/plain": "([0.010900126914968849,\n  0.013092605000036032,\n  0.013152437366485647,\n  0.013152437366485647,\n  0.01651443784116933,\n  0.013152437366485647],\n [0, 0, 0, 0, 0, 0])"
     },
     "execution_count": 90,
     "metadata": {},
     "output_type": "execute_result"
    }
   ],
   "source": [
    "CP_sample_costs, CP_sample_probs"
   ],
   "metadata": {
    "collapsed": false,
    "ExecuteTime": {
     "end_time": "2024-01-04T21:19:48.470343Z",
     "start_time": "2024-01-04T21:19:48.465555Z"
    }
   },
   "id": "3203dc9a40583771"
  },
  {
   "cell_type": "code",
   "execution_count": 91,
   "outputs": [
    {
     "data": {
      "text/plain": "([0.0, 0.0, 0.0, 0.0, 0.0, 0.0, 0.0, 0.0, 0.0, 0.0, 0.0, 0.0, 0.0],\n [0.511133684760064,\n  0.921205605528722,\n  0.868618875908304,\n  0.887250702237723,\n  0.92475161568092,\n  0.952647615561454,\n  0.976327817751932,\n  0.999822292583898,\n  0.999981462193879,\n  0.999983429655445,\n  0.99998411997984,\n  0.999985156009501,\n  0.999985487734574])"
     },
     "execution_count": 91,
     "metadata": {},
     "output_type": "execute_result"
    }
   ],
   "source": [
    "CP_statevector_costs, CP_statevector_probs"
   ],
   "metadata": {
    "collapsed": false,
    "ExecuteTime": {
     "end_time": "2024-01-04T21:19:48.471362Z",
     "start_time": "2024-01-04T21:19:48.468359Z"
    }
   },
   "id": "964159729d4b582b"
  },
  {
   "cell_type": "code",
   "execution_count": 91,
   "outputs": [],
   "source": [],
   "metadata": {
    "collapsed": false,
    "ExecuteTime": {
     "end_time": "2024-01-04T21:19:48.520030Z",
     "start_time": "2024-01-04T21:19:48.471281Z"
    }
   },
   "id": "ca3281e13ed87e4b"
  }
 ],
 "metadata": {
  "kernelspec": {
   "display_name": "Python 3",
   "language": "python",
   "name": "python3"
  },
  "language_info": {
   "codemirror_mode": {
    "name": "ipython",
    "version": 2
   },
   "file_extension": ".py",
   "mimetype": "text/x-python",
   "name": "python",
   "nbconvert_exporter": "python",
   "pygments_lexer": "ipython2",
   "version": "2.7.6"
  }
 },
 "nbformat": 4,
 "nbformat_minor": 5
}
