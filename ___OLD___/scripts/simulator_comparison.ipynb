{
 "cells": [
  {
   "cell_type": "code",
   "outputs": [],
   "source": [
    "import numpy as np\n",
    "import scipy as sc\n",
    "import matplotlib.pyplot as plt\n",
    "\n",
    "from src.QAOA import QAOA\n",
    "from src.Pennylane_QAOA import Pennylane_QAOA\n",
    "from src.Cirq_QAOA import Cirq_QAOA\n",
    "from src.Qsimcirq_QAOA import Qsimcirq_QAOA\n",
    "from src.Spynoza_QAOA import Spynoza_QAOA\n",
    "\n",
    "from src.Chain import Chain\n",
    "from src.Tools import (portfolio_metrics, \n",
    "                       min_cost_partition, \n",
    "                       get_qubo, \n",
    "                       qubo_limits, \n",
    "                       check_qubo)"
   ],
   "metadata": {
    "collapsed": false,
    "ExecuteTime": {
     "end_time": "2024-02-07T15:45:11.047536Z",
     "start_time": "2024-02-07T15:45:11.034411300Z"
    }
   },
   "id": "f16b6db3b1b4f46a",
   "execution_count": 26
  },
  {
   "cell_type": "code",
   "outputs": [],
   "source": [
    "n_qubits = 10\n",
    "init_strat = np.array([1 if i%2 == 1 else 0 for i in range(n_qubits)])\n",
    "k = n_qubits // 2\n",
    "my_indices = [(i, i+1) for i in range(n_qubits-1)]\n",
    "n_layers = 4\n",
    "alpha = 0.5\n",
    "seed = 0\n",
    "\n",
    "max_iter = 100"
   ],
   "metadata": {
    "collapsed": false,
    "ExecuteTime": {
     "end_time": "2024-02-07T15:45:11.572463900Z",
     "start_time": "2024-02-07T15:45:11.551075200Z"
    }
   },
   "id": "c9acd18341dba2f0",
   "execution_count": 27
  },
  {
   "cell_type": "code",
   "execution_count": 28,
   "outputs": [],
   "source": [
    " # Defining topology\n",
    "my_chain = Chain(N_qubits=n_qubits)\n",
    "my_chain.set_initialization_strategy(strategy=init_strat)\n",
    "\n",
    "# Deciding between grid and 1d chain topology\n",
    "my_topology = my_chain\n",
    "\n",
    "# Generating random problem instance \n",
    "expected_returns, covariances = portfolio_metrics(n=n_qubits, seed=seed)\n",
    "\n",
    "# Retrieving C_min, C_max and corresponding states for original portfolio problem\n",
    "constrained_result, full_result, lmbda = min_cost_partition(nr_qubits=n_qubits,\n",
    "                                                            k=k,\n",
    "                                                            mu=expected_returns,\n",
    "                                                            sigma=covariances,\n",
    "                                                            alpha=alpha)\n",
    "\n",
    "portfolio_subspace_max_cost, portfolio_subspace_min_cost, portfolio_subspace_min_state = constrained_result['c_max'], constrained_result['c_min'], constrained_result['s']\n",
    "#full_space_max_cost = full_result['c_max']\n",
    "portfolio_subspace_min_state_str = ''.join([str(_) for _ in portfolio_subspace_min_state])\n",
    "\n",
    "# Generating QUBO corresponding to current problem instance\n",
    "Q, offset = get_qubo(mu=expected_returns,\n",
    "                     sigma=covariances, \n",
    "                     alpha=alpha,\n",
    "                     lmbda=lmbda+1e-8, # Adding small constant purposely\n",
    "                     k=k)\n",
    "QUBO_limits = qubo_limits(Q=Q,offset=offset)\n",
    "qubo_min_cost, qubo_max_cost = QUBO_limits['c_min'], QUBO_limits['c_max']\n",
    "qubo_min_state, qubo_max_state = QUBO_limits['min_state'], QUBO_limits['max_state']\n",
    "check_qubo(QUBO_matrix=Q, QUBO_offset=offset, expected_returns=expected_returns, covariances=covariances, alpha=alpha, k=k)\n",
    "qubo_min_state_str = ''.join([str(_) for _ in qubo_min_state])\n",
    "\n",
    "\n",
    "if not portfolio_subspace_min_state_str == qubo_min_state_str:\n",
    "    raise RuntimeError(f'portfolio_subspace_min_state_str: {portfolio_subspace_min_state_str}, qubo_min_state_str={qubo_min_state_str}'+f'Min. cost of qubo is: {qubo_min_cost}, but min. cost of constrained portfolio is: {portfolio_subspace_min_cost}.')\n",
    "\n",
    "if not np.isclose(qubo_min_cost,portfolio_subspace_min_cost):\n",
    "    raise RuntimeError(f'Min. cost of qubo is: {qubo_min_cost}, but min. cost of constrained portfolio is: {portfolio_subspace_min_cost}.')\n",
    "\n",
    "if not qubo_max_cost >= portfolio_subspace_max_cost:\n",
    "    raise RuntimeError(f'Max. cost of qubo: {qubo_max_cost}, max. cost of portfolio subspace: {portfolio_subspace_max_cost} (should be qubo max. >= constrained portfolio max)')"
   ],
   "metadata": {
    "collapsed": false,
    "ExecuteTime": {
     "end_time": "2024-02-07T15:45:12.364712400Z",
     "start_time": "2024-02-07T15:45:12.318589300Z"
    }
   },
   "id": "15b1db20c1c5381d"
  },
  {
   "cell_type": "code",
   "outputs": [],
   "source": [
    "qiskit_ansatz = QAOA(N_qubits=n_qubits,\n",
    "                     layers=n_layers,\n",
    "                     QUBO_matrix=Q,\n",
    "                     QUBO_offset=offset,\n",
    "                     constraining_mixer=False,\n",
    "                     Topology=my_topology)\n",
    "\n",
    "pennylane_ansatz = Pennylane_QAOA(N_qubits=n_qubits,\n",
    "                                  layers=n_layers,\n",
    "                                  QUBO_matrix=Q,\n",
    "                                  QUBO_offset=offset)\n",
    "\n",
    "qsim_ansatz = Qsimcirq_QAOA(N_qubits=n_qubits,\n",
    "                            layers=n_layers,\n",
    "                            QUBO_matrix=Q,\n",
    "                            QUBO_offset=offset)\n",
    "\n",
    "\n",
    "cirq_ansatz = Cirq_QAOA(N_qubits=n_qubits,\n",
    "                                  layers=n_layers,\n",
    "                                  QUBO_matrix=Q,\n",
    "                                  QUBO_offset=offset)\n",
    "\n",
    "spynoza_ansatz = Spynoza_QAOA(N_qubits=n_qubits,\n",
    "                                  layers=n_layers,\n",
    "                                  QUBO_matrix=Q,\n",
    "                                  QUBO_offset=offset)"
   ],
   "metadata": {
    "collapsed": false,
    "ExecuteTime": {
     "end_time": "2024-02-07T15:45:13.084195900Z",
     "start_time": "2024-02-07T15:45:12.974623700Z"
    }
   },
   "id": "290359b4ce2ae241",
   "execution_count": 29
  },
  {
   "cell_type": "code",
   "outputs": [],
   "source": [
    "# Choosing optimizer for scipy\n",
    "available_methods = ['COBYLA', 'Nelder-Mead', 'BFGS']\n",
    "optimizer_method = available_methods[0]\n",
    "\n",
    "# Generating initial guess for rotation angles\n",
    "np.random.seed(seed)\n",
    "theta_min, theta_max = -2*np.pi, 2*np.pi\n",
    "N_angles = 2 * n_layers\n",
    "theta_i = np.random.uniform(low=theta_min, high=theta_max, size=N_angles)"
   ],
   "metadata": {
    "collapsed": false,
    "ExecuteTime": {
     "end_time": "2024-02-07T15:45:13.911238400Z",
     "start_time": "2024-02-07T15:45:13.905906300Z"
    }
   },
   "id": "d114248f968f9ee6",
   "execution_count": 30
  },
  {
   "cell_type": "code",
   "outputs": [
    {
     "data": {
      "text/plain": " message: Maximum number of function evaluations has been exceeded.\n success: False\n  status: 2\n     fun: -0.3679089695788974\n       x: [ 1.613e+00  2.706e+00  1.505e+00  1.681e+00 -9.631e-01\n            1.837e+00 -7.859e-01  6.057e+00]\n    nfev: 100\n   maxcv: 0.0"
     },
     "execution_count": 31,
     "metadata": {},
     "output_type": "execute_result"
    }
   ],
   "source": [
    "qiskit_res = sc.optimize.minimize(fun=qiskit_ansatz.get_cost, \n",
    "                                  x0=theta_i,\n",
    "                                  method=optimizer_method,\n",
    "                                  options={'disp': False, \n",
    "                                           'maxiter': max_iter})\n",
    "qiskit_res\n"
   ],
   "metadata": {
    "collapsed": false,
    "ExecuteTime": {
     "end_time": "2024-02-07T15:45:19.779207700Z",
     "start_time": "2024-02-07T15:45:14.715773700Z"
    }
   },
   "id": "286dc536b14363b2",
   "execution_count": 31
  },
  {
   "cell_type": "code",
   "outputs": [
    {
     "data": {
      "text/plain": " message: Maximum number of function evaluations has been exceeded.\n success: False\n  status: 2\n     fun: -0.17690351219608175\n       x: [ 1.919e+00  3.667e+00  1.344e+00  5.440e-01 -9.589e-01\n            1.842e+00 -5.014e-01  4.741e+00]\n    nfev: 100\n   maxcv: 0.0"
     },
     "execution_count": 7,
     "metadata": {},
     "output_type": "execute_result"
    }
   ],
   "source": [
    "pennylane_res = sc.optimize.minimize(fun=pennylane_ansatz.get_cost, \n",
    "                                     x0=theta_i,\n",
    "                                     method=optimizer_method,\n",
    "                                     options={'disp': False, \n",
    "                                               'maxiter': max_iter})\n",
    "pennylane_res"
   ],
   "metadata": {
    "collapsed": false,
    "ExecuteTime": {
     "end_time": "2024-02-07T15:24:20.564617200Z",
     "start_time": "2024-02-07T15:24:19.945134600Z"
    }
   },
   "id": "7224bcb1662f6e8d",
   "execution_count": 7
  },
  {
   "cell_type": "code",
   "outputs": [
    {
     "data": {
      "text/plain": " message: Maximum number of function evaluations has been exceeded.\n success: False\n  status: 2\n     fun: -0.19887508720350228\n       x: [ 4.240e-01  2.957e+00  1.292e+00  6.869e-01 -9.979e-01\n            2.778e+00 -8.528e-01  4.907e+00]\n    nfev: 100\n   maxcv: 0.0"
     },
     "execution_count": 8,
     "metadata": {},
     "output_type": "execute_result"
    }
   ],
   "source": [
    "qsim_res = sc.optimize.minimize(fun=qsim_ansatz.get_cost, \n",
    "                                  x0=theta_i,\n",
    "                                  method=optimizer_method,\n",
    "                                  options={'disp': False, \n",
    "                                           'maxiter': max_iter})\n",
    "qsim_res"
   ],
   "metadata": {
    "collapsed": false,
    "ExecuteTime": {
     "end_time": "2024-02-07T15:24:21.977498Z",
     "start_time": "2024-02-07T15:24:21.188832600Z"
    }
   },
   "id": "ae696be1e4e0fa64",
   "execution_count": 8
  },
  {
   "cell_type": "code",
   "execution_count": 9,
   "outputs": [
    {
     "data": {
      "text/plain": " message: Maximum number of function evaluations has been exceeded.\n success: False\n  status: 2\n     fun: -0.19310186768955434\n       x: [ 4.446e-01  2.715e+00  1.509e+00  3.816e-01 -9.547e-01\n            2.798e+00 -6.918e-01  4.948e+00]\n    nfev: 100\n   maxcv: 0.0"
     },
     "execution_count": 9,
     "metadata": {},
     "output_type": "execute_result"
    }
   ],
   "source": [
    "cirq_res = sc.optimize.minimize(fun=cirq_ansatz.get_cost, \n",
    "                                     x0=theta_i,\n",
    "                                     method=optimizer_method,\n",
    "                                     options={'disp': False, \n",
    "                                               'maxiter': max_iter})\n",
    "cirq_res"
   ],
   "metadata": {
    "collapsed": false,
    "ExecuteTime": {
     "end_time": "2024-02-07T15:24:23.614156900Z",
     "start_time": "2024-02-07T15:24:22.780091600Z"
    }
   },
   "id": "cd026852ee774c34"
  },
  {
   "cell_type": "code",
   "outputs": [
    {
     "data": {
      "text/plain": " message: Maximum number of function evaluations has been exceeded.\n success: False\n  status: 2\n     fun: -0.3827159327129277\n       x: [ 5.826e-01  2.131e+00  1.070e+00  3.366e-01 -1.429e+00\n            1.711e+00 -1.283e+00  4.635e+00]\n    nfev: 100\n   maxcv: 0.0"
     },
     "execution_count": 32,
     "metadata": {},
     "output_type": "execute_result"
    }
   ],
   "source": [
    "spynoza_res = sc.optimize.minimize(fun=spynoza_ansatz.get_cost, \n",
    "                                     x0=theta_i,\n",
    "                                     method=optimizer_method,\n",
    "                                     options={'disp': False, \n",
    "                                               'maxiter': max_iter})\n",
    "spynoza_res"
   ],
   "metadata": {
    "collapsed": false,
    "ExecuteTime": {
     "end_time": "2024-02-07T15:45:31.824556300Z",
     "start_time": "2024-02-07T15:45:31.123453700Z"
    }
   },
   "id": "f0534211122f5795",
   "execution_count": 32
  },
  {
   "cell_type": "code",
   "outputs": [
    {
     "data": {
      "text/plain": "0.33936170212765954"
     },
     "execution_count": 25,
     "metadata": {},
     "output_type": "execute_result"
    }
   ],
   "source": [
    "31.9/94"
   ],
   "metadata": {
    "collapsed": false,
    "ExecuteTime": {
     "end_time": "2024-02-07T15:28:06.333362800Z",
     "start_time": "2024-02-07T15:28:06.296148600Z"
    }
   },
   "id": "3cd62e48d12fd9de",
   "execution_count": 25
  },
  {
   "cell_type": "code",
   "outputs": [],
   "source": [],
   "metadata": {
    "collapsed": false
   },
   "id": "1bd72bb66096dec9"
  }
 ],
 "metadata": {
  "kernelspec": {
   "display_name": "Python 3",
   "language": "python",
   "name": "python3"
  },
  "language_info": {
   "codemirror_mode": {
    "name": "ipython",
    "version": 2
   },
   "file_extension": ".py",
   "mimetype": "text/x-python",
   "name": "python",
   "nbconvert_exporter": "python",
   "pygments_lexer": "ipython2",
   "version": "2.7.6"
  }
 },
 "nbformat": 4,
 "nbformat_minor": 5
}
