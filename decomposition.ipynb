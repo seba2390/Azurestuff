{
 "cells": [
  {
   "cell_type": "code",
   "execution_count": 2,
   "id": "124aeb830a2ed141",
   "metadata": {
    "collapsed": false,
    "ExecuteTime": {
     "end_time": "2024-02-02T13:01:49.769650900Z",
     "start_time": "2024-02-02T13:01:41.206339300Z"
    }
   },
   "outputs": [],
   "source": [
    "from typing import *\n",
    "\n",
    "from qiskit.quantum_info import Operator\n",
    "from scipy.linalg import expm\n",
    "import numpy as np\n",
    "from scipy.sparse import csc_matrix, kron, identity"
   ]
  },
  {
   "cell_type": "code",
   "outputs": [],
   "source": [
    "\n",
    "class Chain:\n",
    "    def __init__(self,\n",
    "                 N_qubits: int = None) -> None:\n",
    "\n",
    "        self.N_qubits = N_qubits\n",
    "        self.initialization_strategy = None\n",
    "\n",
    "    def get_chain_indexing(self) -> np.ndarray:\n",
    "        return np.array([i for i in range(self.N_qubits)])\n",
    "\n",
    "    def get_NN_indices(self) -> List[Tuple[int, int]]:\n",
    "        \"\"\" Returns pairs of indices corresponding to\n",
    "        Nearest Neighbor interactions in the 1D chain structure \"\"\"\n",
    "        return [(q_1, q_1+1) for q_1 in range(0,self.N_qubits-1)]\n",
    "\n",
    "    def get_NNN_indices(self) -> List[Tuple[int, int]]:\n",
    "        \"\"\" Returns pairs of indices corresponding to both Nearest Neighbor\n",
    "        and Next Nearest Neighbor interactions in the 1D chain structure \"\"\"\n",
    "        return [(q_1, q_1+1+i) for q_1 in range(0,self.N_qubits-2) for i in range(2)]+[(self.N_qubits-2,self.N_qubits-1)]\n",
    "\n",
    "    def set_initialization_strategy(self, strategy: np.ndarray) -> None:\n",
    "        if len(strategy) != self.N_qubits:\n",
    "            raise ValueError('Size of strategy does not match number of qubits.')\n",
    "        if np.any((strategy != 0) & (strategy != 1)):\n",
    "            raise ValueError('Strategy should binary 1d array.')\n",
    "        self.initialization_strategy = strategy\n",
    "\n",
    "    def get_initialization_strategy(self) -> np.ndarray:\n",
    "        if self.initialization_strategy is None:\n",
    "            raise RuntimeError('Initialization strategy not yet defined.')\n",
    "        return self.initialization_strategy\n",
    "\n",
    "    def get_initialization_indices(self) -> List[int]:\n",
    "        if self.initialization_strategy is None:\n",
    "            raise RuntimeError('Initialization strategy not yet defined.')\n",
    "        return self.get_chain_indexing()[np.where(self.initialization_strategy == 1)].flatten().tolist()\n",
    "\n",
    "\n",
    "\n",
    "def generate_string_representation(gate_name: str,\n",
    "                                   qubit_i: int,\n",
    "                                   qubit_j: int,\n",
    "                                   N: int):\n",
    "    if not 0 <= qubit_i < N or not 0 <= qubit_j < N:\n",
    "        raise ValueError(\"Qubit indices are out of bounds..\")\n",
    "    if gate_name not in ['X', 'Y', 'Z', 'I']:\n",
    "        raise ValueError(\"unknown gate name..\")\n",
    "    gates = ['I' for qubit in range(N)]\n",
    "    gates[qubit_i] = gate_name\n",
    "    gates[qubit_j] = gate_name\n",
    "    return ''.join(gate for gate in gates)\n",
    "\n",
    "def generate_string_representation_single(gate_name: str,\n",
    "                                          qubit_i: int,\n",
    "                                          N: int):\n",
    "    if not 0 <= qubit_i < N:\n",
    "        raise ValueError(\"Qubit indices are out of bounds..\")\n",
    "    if gate_name not in ['X', 'Y', 'Z', 'I']:\n",
    "        raise ValueError(\"unknown gate name..\")\n",
    "    gates = ['I' for qubit in range(N)]\n",
    "    gates[qubit_i] = gate_name\n",
    "    return ''.join(gate for gate in gates)\n"
   ],
   "metadata": {
    "collapsed": false,
    "ExecuteTime": {
     "end_time": "2024-02-02T13:01:50.132744300Z",
     "start_time": "2024-02-02T13:01:49.794465200Z"
    }
   },
   "id": "e899d8387e4505b3",
   "execution_count": 3
  },
  {
   "cell_type": "code",
   "outputs": [],
   "source": [
    "I = identity(2, format='csc', dtype=np.complex64)\n",
    "X = csc_matrix(np.array([[0, 1], [1, 0]], dtype=np.complex64))\n",
    "Y = csc_matrix(np.array([[0, -1j], [1j, 0]], dtype=np.complex64))\n",
    "Z = csc_matrix(np.array([[1, 0], [0, -1]], dtype=np.complex64))\n",
    "gate_map = {'X': X, 'Y': Y, 'Z': Z, 'I': I}\n",
    "def get_full_hamiltonian(indices: List[Tuple[int, int]], angles: List[float], N_qubits: int,\n",
    "                         with_z_phase: bool = False):\n",
    "    terms = []\n",
    "    for (qubit_i, qubit_j), theta_ij in zip(indices, angles[:len(indices)]):\n",
    "        x_str = generate_string_representation(gate_name='X',\n",
    "                                               qubit_i=qubit_i,\n",
    "                                               qubit_j=qubit_j,\n",
    "                                               N=N_qubits)\n",
    "        y_str = generate_string_representation(gate_name='Y',\n",
    "                                               qubit_i=qubit_i,\n",
    "                                               qubit_j=qubit_j,\n",
    "                                               N=N_qubits)\n",
    "        x_gates, y_gates = [gate_map[gate] for gate in x_str[::-1]], [gate_map[gate] for gate in y_str[::-1]]\n",
    "        H_xx, H_yy = x_gates[0], y_gates[0]\n",
    "        for x_gate, y_gate in zip(x_gates[1:], y_gates[1:]):\n",
    "            H_xx = kron(H_xx, x_gate)\n",
    "            H_yy = kron(H_yy, y_gate)\n",
    "        H_ij = float(theta_ij) * (H_xx + H_yy)\n",
    "        terms.append(H_ij)\n",
    "    if with_z_phase:\n",
    "        for qubit_i, theta_i in zip(list(range(N_qubits)), angles[len(angles):]):\n",
    "            z_str = generate_string_representation_single(gate_name='Z',\n",
    "                                                          qubit_i=qubit_i,\n",
    "                                                          N=N_qubits)\n",
    "            z_gates = [gate_map[gate] for gate in z_str[::-1]]\n",
    "            H_z = z_gates[0]\n",
    "            for z_gate in z_gates[1:]:\n",
    "                H_z = kron(H_z, z_gate)\n",
    "\n",
    "            H_i = float(theta_i) * H_z\n",
    "            terms.append(H_i)\n",
    "    H = terms[0]\n",
    "    for term in terms[1:]:\n",
    "        H += term\n",
    "    return Operator(H.todense())\n",
    "\n"
   ],
   "metadata": {
    "collapsed": false,
    "ExecuteTime": {
     "end_time": "2024-02-02T13:01:52.232668200Z",
     "start_time": "2024-02-02T13:01:52.147746900Z"
    }
   },
   "id": "9c21e10fa21766e1",
   "execution_count": 4
  },
  {
   "cell_type": "code",
   "outputs": [],
   "source": [
    "N = 4\n",
    "topology = Chain(N_qubits=N)\n",
    "topology.set_initialization_strategy(strategy=np.array([0,1,0,1]))\n",
    "indices = topology.get_NN_indices()\n",
    "angles = np.random.uniform(-2*np.pi,2*np.pi, len(indices))\n",
    "\n",
    "H = get_full_hamiltonian(indices=indices,\n",
    "                         angles=angles,\n",
    "                         N_qubits=N,\n",
    "                         with_z_phase=False)\n",
    "time = 1.0\n",
    "U_H = np.array(Operator(expm(-1j*time*H.data)))\n"
   ],
   "metadata": {
    "collapsed": true,
    "ExecuteTime": {
     "end_time": "2024-02-02T13:02:16.130537900Z",
     "start_time": "2024-02-02T13:02:16.012334900Z"
    }
   },
   "id": "initial_id",
   "execution_count": 7
  },
  {
   "cell_type": "code",
   "outputs": [],
   "source": [],
   "metadata": {
    "collapsed": false
   },
   "id": "9a94804c6bd12f67"
  }
 ],
 "metadata": {
  "kernelspec": {
   "display_name": "Python 3",
   "language": "python",
   "name": "python3"
  },
  "language_info": {
   "codemirror_mode": {
    "name": "ipython",
    "version": 2
   },
   "file_extension": ".py",
   "mimetype": "text/x-python",
   "name": "python",
   "nbconvert_exporter": "python",
   "pygments_lexer": "ipython2",
   "version": "2.7.6"
  }
 },
 "nbformat": 4,
 "nbformat_minor": 5
}
