{
 "cells": [
  {
   "cell_type": "code",
   "execution_count": 56,
   "id": "124aeb830a2ed141",
   "metadata": {
    "collapsed": false,
    "ExecuteTime": {
     "end_time": "2024-02-08T23:23:37.427858Z",
     "start_time": "2024-02-08T23:23:37.418667Z"
    }
   },
   "outputs": [],
   "source": [
    "import cirq\n",
    "import numpy as np"
   ]
  },
  {
   "cell_type": "code",
   "execution_count": 57,
   "outputs": [],
   "source": [
    "from typing import *\n",
    "def get_Hamiltonian(N: int, \n",
    "                    indices: List[Tuple[int,int]], \n",
    "                    angles: Union[List[float], np.ndarray[float]]) -> np.ndarray:\n",
    "    if len(indices) != len(angles):\n",
    "        raise ValueError('The length of indices and angles must match..')\n",
    "    q = [cirq.NamedQubit(name=f'q_{i}') for i in range(N)]\n",
    "    H = sum([angles[i]*(cirq.X(q[indices[i][0]])*cirq.X(q[indices[i][1]])+cirq.Y(q[indices[i][0]])*cirq.Y(q[indices[i][1]])) for i in range(len(angles))])\n",
    "    return H.matrix()\n",
    "\n",
    "N = 10\n",
    "indices = [(i,i+1) for i in range(N-1)]\n",
    "angles = np.random.uniform(-2*np.pi,2*np.pi, len(indices))\n",
    "H = get_Hamiltonian(N=N,\n",
    "                indices=indices,\n",
    "                angles=angles)"
   ],
   "metadata": {
    "collapsed": false,
    "ExecuteTime": {
     "end_time": "2024-02-08T23:23:38.184763Z",
     "start_time": "2024-02-08T23:23:38.018141Z"
    }
   },
   "id": "8f8ee8f9590fc1e1"
  },
  {
   "cell_type": "code",
   "execution_count": 58,
   "outputs": [],
   "source": [
    "NN_sparsities = []\n",
    "N_vals = list(range(3,10+2))\n",
    "for N in N_vals:\n",
    "    indices = [(i,i+1) for i in range(N-1)]\n",
    "    angles = np.random.uniform(-2*np.pi,2*np.pi, len(indices))\n",
    "    H = get_Hamiltonian(N=N,\n",
    "                    indices=indices,\n",
    "                    angles=angles)\n",
    "    U = expm(-1j*H)\n",
    "    sparsity = np.count_nonzero(U)/U.size\n",
    "    NN_sparsities.append(sparsity)"
   ],
   "metadata": {
    "collapsed": false,
    "ExecuteTime": {
     "end_time": "2024-02-08T23:23:51.198245Z",
     "start_time": "2024-02-08T23:23:39.163442Z"
    }
   },
   "id": "68db9ebb7484737"
  },
  {
   "cell_type": "code",
   "execution_count": 59,
   "outputs": [],
   "source": [
    "Ring_sparsities = []\n",
    "for N in N_vals:\n",
    "    indices = [(i,i+1) for i in range(N-1)]+[(0,N-1)]\n",
    "    angles = np.random.uniform(-2*np.pi,2*np.pi, len(indices))\n",
    "    H = get_Hamiltonian(N=N,\n",
    "                    indices=indices,\n",
    "                    angles=angles)\n",
    "    U = expm(-1j*H)\n",
    "    sparsity = np.count_nonzero(U)/U.size\n",
    "    Ring_sparsities.append(sparsity)"
   ],
   "metadata": {
    "collapsed": false,
    "ExecuteTime": {
     "end_time": "2024-02-08T23:24:06.782407Z",
     "start_time": "2024-02-08T23:23:54.496042Z"
    }
   },
   "id": "61b743f0809ebf75"
  },
  {
   "cell_type": "code",
   "execution_count": 60,
   "outputs": [],
   "source": [
    "NNN_sparsities = []\n",
    "for N in N_vals:\n",
    "    indices = [(i,i+1) for i in range(N-1)]+[(i,i+2) for i in range(N-2)]\n",
    "    angles = np.random.uniform(-2*np.pi,2*np.pi, len(indices))\n",
    "    H = get_Hamiltonian(N=N,\n",
    "                    indices=indices,\n",
    "                    angles=angles)\n",
    "    U = expm(-1j*H)\n",
    "    sparsity = np.count_nonzero(U)/U.size\n",
    "    NNN_sparsities.append(sparsity)"
   ],
   "metadata": {
    "collapsed": false,
    "ExecuteTime": {
     "end_time": "2024-02-08T23:24:19.844466Z",
     "start_time": "2024-02-08T23:24:06.785151Z"
    }
   },
   "id": "bdbed577df94d4ca"
  },
  {
   "cell_type": "code",
   "execution_count": 61,
   "outputs": [
    {
     "data": {
      "text/plain": "<matplotlib.legend.Legend at 0x16e3bda50>"
     },
     "execution_count": 61,
     "metadata": {},
     "output_type": "execute_result"
    },
    {
     "data": {
      "text/plain": "<Figure size 640x480 with 1 Axes>",
      "image/png": "[encoded data removed]"
     },
     "metadata": {},
     "output_type": "display_data"
    }
   ],
   "source": [
    "import matplotlib.pyplot as plt\n",
    "plt.plot(N_vals, NN_sparsities, label='NN')\n",
    "plt.plot(N_vals, NNN_sparsities, label='NNN')\n",
    "plt.plot(N_vals, Ring_sparsities, label='Ring')\n",
    "plt.legend()"
   ],
   "metadata": {
    "collapsed": false,
    "ExecuteTime": {
     "end_time": "2024-02-08T23:24:19.957695Z",
     "start_time": "2024-02-08T23:24:19.857908Z"
    }
   },
   "id": "2cb28f127587749f"
  },
  {
   "cell_type": "code",
   "execution_count": 148,
   "outputs": [],
   "source": [
    "import numpy as np\n",
    "from time import time\n",
    "from scipy.sparse import csc_matrix\n",
    "\n",
    "def c1(Q, w):\n",
    "    return np.dot(w, np.dot(Q, w))\n",
    "\n",
    "def c2(Q, w):\n",
    "    return w.T@(Q@w)\n",
    "\n",
    "def c3(Q, w):\n",
    "    return np.matmul(w,np.matmul(Q,w))\n",
    "\n",
    "N_min, N_max = 2, 25\n",
    "N_vals = [N_min + i for i in range(N_max-1)]\n",
    "\n",
    "c1_res = {N:[] for N in N_vals}\n",
    "c2_res = {N:[] for N in N_vals}\n",
    "c3_res = {N:[] for N in N_vals}\n",
    "\n",
    "\n",
    "seeds = 10000\n",
    "for s in range(seeds):\n",
    "    for N in N_vals:\n",
    "        k = N // 2\n",
    "        w = np.zeros(N).astype(np.float32)\n",
    "        w[np.random.choice(N, k, replace=False)]=1\n",
    "        w.reshape((N,1))\n",
    "        _ = np.random.rand(N, N)\n",
    "        Q = (_ + _.T) / 2\n",
    "        Q = Q.astype(np.float32)\n",
    "        \n",
    "        \n",
    "        start = time()\n",
    "        c_1 = c1(Q,w)\n",
    "        stop = time()\n",
    "        c1_res[N].append(stop-start)\n",
    "        \n",
    "        start = time()\n",
    "        c_2 = c2(Q,w)\n",
    "        stop = time()\n",
    "        c2_res[N].append(stop-start)\n",
    "\n",
    "        start = time()\n",
    "        c_3 = c3(Q,w)\n",
    "        stop = time()\n",
    "        c3_res[N].append(stop-start)\n",
    "        \n",
    "\n",
    "        \n",
    "for N in N_vals:\n",
    "    c1_res[N] = np.mean(c1_res[N])\n",
    "    c2_res[N] = np.mean(c2_res[N])\n",
    "    c3_res[N] = np.mean(c3_res[N])\n",
    "        "
   ],
   "metadata": {
    "collapsed": false,
    "ExecuteTime": {
     "end_time": "2024-02-09T00:17:11.369684Z",
     "start_time": "2024-02-09T00:17:07.835102Z"
    }
   },
   "id": "19e607475fd90e41"
  },
  {
   "cell_type": "code",
   "execution_count": 147,
   "outputs": [
    {
     "data": {
      "text/plain": "<matplotlib.legend.Legend at 0x2a68de2c0>"
     },
     "execution_count": 147,
     "metadata": {},
     "output_type": "execute_result"
    },
    {
     "data": {
      "text/plain": "<Figure size 500x300 with 1 Axes>",
      "image/png": "[encoded data removed]"
     },
     "metadata": {},
     "output_type": "display_data"
    }
   ],
   "source": [
    "fig, ax = plt.subplots(1,1,figsize=(5,3))\n",
    "ax.plot(N_vals, [c1_res[N] for N in N_vals], label='C1')\n",
    "ax.plot(N_vals, [c2_res[N] for N in N_vals], label='C2')\n",
    "ax.plot(N_vals, [c3_res[N] for N in N_vals], label='C3')\n",
    "ax.legend()\n"
   ],
   "metadata": {
    "collapsed": false,
    "ExecuteTime": {
     "end_time": "2024-02-09T00:16:53.509941Z",
     "start_time": "2024-02-09T00:16:53.448488Z"
    }
   },
   "id": "8da2f57b46d22a4d"
  },
  {
   "cell_type": "code",
   "execution_count": 99,
   "outputs": [],
   "source": [],
   "metadata": {
    "collapsed": false,
    "ExecuteTime": {
     "end_time": "2024-02-08T23:45:19.976913Z",
     "start_time": "2024-02-08T23:45:19.964081Z"
    }
   },
   "id": "4e96e6e786eea654"
  },
  {
   "cell_type": "code",
   "execution_count": null,
   "outputs": [],
   "source": [],
   "metadata": {
    "collapsed": false
   },
   "id": "feb7ae941823b769"
  }
 ],
 "metadata": {
  "kernelspec": {
   "display_name": "Python 3",
   "language": "python",
   "name": "python3"
  },
  "language_info": {
   "codemirror_mode": {
    "name": "ipython",
    "version": 2
   },
   "file_extension": ".py",
   "mimetype": "text/x-python",
   "name": "python",
   "nbconvert_exporter": "python",
   "pygments_lexer": "ipython2",
   "version": "2.7.6"
  }
 },
 "nbformat": 4,
 "nbformat_minor": 5
}
