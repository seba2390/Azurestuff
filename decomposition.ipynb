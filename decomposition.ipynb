{
 "cells": [
  {
   "cell_type": "code",
   "execution_count": 2,
   "id": "124aeb830a2ed141",
   "metadata": {
    "collapsed": false,
    "ExecuteTime": {
     "end_time": "2024-02-10T18:34:00.400353Z",
     "start_time": "2024-02-10T18:33:58.292327Z"
    }
   },
   "outputs": [],
   "source": [
    "import cirq\n",
    "import numpy as np"
   ]
  },
  {
   "cell_type": "code",
   "execution_count": 10,
   "outputs": [],
   "source": [
    "from typing import *\n",
    "def get_Hamiltonian(N: int, \n",
    "                    indices: List[Tuple[int,int]], \n",
    "                    angles: Union[List[float], np.ndarray[float]]) -> np.ndarray:\n",
    "    if len(indices) != len(angles):\n",
    "        raise ValueError('The length of indices and angles must match..')\n",
    "    q = [cirq.NamedQubit(name=f'q_{i}') for i in range(N)]\n",
    "    H = sum([angles[i]*(cirq.X(q[indices[i][0]])*cirq.X(q[indices[i][1]])+cirq.Y(q[indices[i][0]])*cirq.Y(q[indices[i][1]])) for i in range(len(angles))])\n",
    "    return H.matrix()\n",
    "\n",
    "N = 12\n",
    "indices = [(i,i+1) for i in range(N-1)]\n",
    "angles = np.random.uniform(-2*np.pi,2*np.pi, len(indices))\n",
    "H = get_Hamiltonian(N=N,\n",
    "                indices=indices,\n",
    "                angles=angles)"
   ],
   "metadata": {
    "collapsed": false,
    "ExecuteTime": {
     "end_time": "2024-02-10T18:34:38.935052Z",
     "start_time": "2024-02-10T18:34:35.230062Z"
    }
   },
   "id": "8f8ee8f9590fc1e1"
  },
  {
   "cell_type": "code",
   "execution_count": 6,
   "outputs": [
    {
     "ename": "AttributeError",
     "evalue": "'qulacs_core.QuantumCircuit' object has no attribute 'to_density_matrix'",
     "output_type": "error",
     "traceback": [
      "\u001B[0;31m---------------------------------------------------------------------------\u001B[0m",
      "\u001B[0;31mAttributeError\u001B[0m                            Traceback (most recent call last)",
      "Cell \u001B[0;32mIn [6], line 15\u001B[0m\n\u001B[1;32m     12\u001B[0m circuit\u001B[38;5;241m.\u001B[39madd_gate(CNOT(\u001B[38;5;241m0\u001B[39m, \u001B[38;5;241m1\u001B[39m))  \u001B[38;5;66;03m# CNOT gate with control qubit 0 and target qubit 1\u001B[39;00m\n\u001B[1;32m     14\u001B[0m \u001B[38;5;66;03m# Step 3: Get the total matrix representation of the circuit\u001B[39;00m\n\u001B[0;32m---> 15\u001B[0m matrix \u001B[38;5;241m=\u001B[39m \u001B[43mcircuit\u001B[49m\u001B[38;5;241;43m.\u001B[39;49m\u001B[43mto_density_matrix\u001B[49m()\n\u001B[1;32m     16\u001B[0m \u001B[38;5;28mprint\u001B[39m(\u001B[38;5;124m\"\u001B[39m\u001B[38;5;124mMatrix representation of the quantum circuit:\u001B[39m\u001B[38;5;124m\"\u001B[39m)\n\u001B[1;32m     17\u001B[0m \u001B[38;5;28mprint\u001B[39m(matrix)\n",
      "\u001B[0;31mAttributeError\u001B[0m: 'qulacs_core.QuantumCircuit' object has no attribute 'to_density_matrix'"
     ]
    }
   ],
   "source": [
    "from qulacs import QuantumCircuit, ParametricQuantumCircuit\n",
    "from qulacs.gate import X, Z, H, CNOT\n",
    "import numpy as np\n",
    "\n",
    "# Step 1: Create a quantum circuit with a specified number of qubits\n",
    "num_qubits = 2\n",
    "circuit = QuantumCircuit(num_qubits)\n",
    "\n",
    "# Step 2: Add gates to the circuit\n",
    "# For example, adding an H gate on the first qubit and a CNOT gate\n",
    "circuit.add_gate(H(0))  # Hadamard gate on qubit 0\n",
    "circuit.add_gate(CNOT(0, 1))  # CNOT gate with control qubit 0 and target qubit 1\n",
    "\n",
    "# Step 3: Get the total matrix representation of the circuit\n",
    "matrix = circuit.to_density_matrix()\n",
    "print(\"Matrix representation of the quantum circuit:\")\n",
    "print(matrix)\n"
   ],
   "metadata": {
    "collapsed": false,
    "ExecuteTime": {
     "end_time": "2024-02-12T21:29:16.930371Z",
     "start_time": "2024-02-12T21:29:16.925178Z"
    }
   },
   "id": "b6a2dfc67c73db81"
  },
  {
   "cell_type": "code",
   "execution_count": 9,
   "outputs": [
    {
     "data": {
      "text/plain": "array([0.81878779+0.j        , 0.        +0.j        ,\n       0.        +0.j        , 0.        -0.57409629j])"
     },
     "execution_count": 9,
     "metadata": {},
     "output_type": "execute_result"
    }
   ],
   "source": [
    "import numpy as np\n",
    "\n",
    "x = 1.223\n",
    "U = np.array([[np.cos(x/2), 0, 0, -1j*np.sin(x/2)],\n",
    "              [0, np.cos(x/2), -1j*np.sin(x/2), 0],\n",
    "              [0, -1j*np.sin(x/2), np.cos(x/2), 0],\n",
    "              [-1j*np.sin(x/2), 0, 0, np.cos(x/2)]])\n",
    "state = np.array([1,0,0,0])\n",
    "U@state"
   ],
   "metadata": {
    "collapsed": false,
    "ExecuteTime": {
     "end_time": "2024-02-12T22:25:00.523690Z",
     "start_time": "2024-02-12T22:25:00.518070Z"
    }
   },
   "id": "5094247ca1affa11"
  },
  {
   "cell_type": "code",
   "execution_count": 18,
   "outputs": [
    {
     "data": {
      "text/plain": "array([9.53333781e-01+9.81307787e-18j, 5.55111512e-17-3.92523115e-17j,\n       4.90653893e-17-5.55111512e-17j, 3.92523115e-17-3.01918371e-01j])"
     },
     "execution_count": 18,
     "metadata": {},
     "output_type": "execute_result"
    }
   ],
   "source": [
    "a = np.array([9.53333781e-01+9.81307787e-18j, 5.55111512e-17-3.92523115e-17j,\n",
    "       4.90653893e-17-5.55111512e-17j, 3.92523115e-17-3.01918371e-01j])\n",
    "a"
   ],
   "metadata": {
    "collapsed": false,
    "ExecuteTime": {
     "end_time": "2024-02-12T22:46:24.932269Z",
     "start_time": "2024-02-12T22:46:24.924079Z"
    }
   },
   "id": "358c51744a1cabdd"
  },
  {
   "cell_type": "code",
   "execution_count": 19,
   "outputs": [
    {
     "data": {
      "text/plain": "array([9.53333781e-01+9.81307787e-18j, 0.00000000e+00+0.00000000e+00j,\n       0.00000000e+00+0.00000000e+00j, 3.92523115e-17-3.01918371e-01j])"
     },
     "execution_count": 19,
     "metadata": {},
     "output_type": "execute_result"
    }
   ],
   "source": [
    "a[np.abs(a) <= 9e-15] = 0\n",
    "a"
   ],
   "metadata": {
    "collapsed": false,
    "ExecuteTime": {
     "end_time": "2024-02-12T22:46:25.694334Z",
     "start_time": "2024-02-12T22:46:25.686012Z"
    }
   },
   "id": "8e555c54dca83722"
  },
  {
   "cell_type": "code",
   "execution_count": null,
   "outputs": [],
   "source": [],
   "metadata": {
    "collapsed": false
   },
   "id": "42807a151bb726e3"
  }
 ],
 "metadata": {
  "kernelspec": {
   "display_name": "Python 3",
   "language": "python",
   "name": "python3"
  },
  "language_info": {
   "codemirror_mode": {
    "name": "ipython",
    "version": 2
   },
   "file_extension": ".py",
   "mimetype": "text/x-python",
   "name": "python",
   "nbconvert_exporter": "python",
   "pygments_lexer": "ipython2",
   "version": "2.7.6"
  }
 },
 "nbformat": 4,
 "nbformat_minor": 5
}
