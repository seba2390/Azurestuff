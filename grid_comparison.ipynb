{
 "cells": [
  {
   "cell_type": "code",
   "execution_count": 3,
   "id": "initial_id",
   "metadata": {
    "collapsed": true,
    "ExecuteTime": {
     "end_time": "2023-12-07T11:33:31.566526300Z",
     "start_time": "2023-12-07T11:33:31.549209500Z"
    }
   },
   "outputs": [],
   "source": [
    "import os\n",
    "import matplotlib.pyplot as plt\n",
    "import numpy as np\n",
    "import scipy as sc\n",
    "from joblib import (Parallel,\n",
    "                    delayed)\n",
    "\n",
    "from src.Tools import portfolio_metrics\n",
    "from qiskit_src.ansatz import CP_QAOA, Grid\n",
    "from qiskit_src.tools import get_qubo, min_cost_partition, normalized_cost\n",
    "\n",
    "plt.rc(\"font\", family=[\"Helvetica\", \"Arial\"])\n",
    "plt.rc(\"text\", usetex=True)\n",
    "plt.rcParams['text.latex.preamble'] = r'\\usepackage{amsmath}\\usepackage{amssymb}\\usepackage{physics}'\n",
    "plt.rc(\"xtick\", top=True, direction=\"in\")\n",
    "plt.rc(\"ytick\", right=True, direction=\"in\")"
   ]
  },
  {
   "cell_type": "code",
   "execution_count": 4,
   "outputs": [
    {
     "data": {
      "text/plain": "16"
     },
     "execution_count": 4,
     "metadata": {},
     "output_type": "execute_result"
    }
   ],
   "source": [
    "N_CPU_CORES = os.cpu_count()\n",
    "N_CPU_CORES"
   ],
   "metadata": {
    "collapsed": false,
    "ExecuteTime": {
     "end_time": "2023-12-07T11:33:36.630075900Z",
     "start_time": "2023-12-07T11:33:36.614405600Z"
    }
   },
   "id": "de16a458e5cacf36"
  },
  {
   "cell_type": "code",
   "execution_count": null,
   "outputs": [],
   "source": [
    "def simulate(datapoint: tuple):    \n",
    "    _seed_,_N_,_k_,_alpha_,_layers_,_max_iter_,_w_z_phase_,_w_next_nearest_neighbors_,_w_evenly_distributed_, _w_grid_, _method_ = datapoint\n",
    "    expected_returns, covariances = portfolio_metrics(n=_N_, seed=_seed_)\n",
    "\n",
    "    constrained_result, full_result, lmbda = min_cost_partition(nr_qubits=_N_,\n",
    "                                                                k=_k_,\n",
    "                                                                mu=expected_returns,\n",
    "                                                                sigma=covariances,\n",
    "                                                                alpha=_alpha_)\n",
    "    \n",
    "    max_cost, min_cost, min_state = constrained_result['c_max'], constrained_result['c_min'], constrained_result['s']\n",
    "    Q, offset = get_qubo(mu=expected_returns,\n",
    "                         sigma=covariances,\n",
    "                         alpha=_alpha_,\n",
    "                         lmbda=lmbda,\n",
    "                         k=_k_)\n",
    "    if _w_grid_:\n",
    "        my_grid = Grid(N_qubits=_N_)\n",
    "    ansatz = CP_QAOA(N_qubits=_N_,\n",
    "                     cardinality=_k_,\n",
    "                     layers=_layers_,\n",
    "                     grid=my_grid if _w_grid_ else None,\n",
    "                     QUBO_matrix=Q,\n",
    "                     QUBO_offset=offset,\n",
    "                     with_next_nearest_neighbors=_w_next_nearest_neighbors_,\n",
    "                     with_evenly_distributed_start_x=_w_evenly_distributed_,\n",
    "                     with_z_phase=_w_z_phase_)\n",
    "    if _w_grid_:\n",
    "        N_xx_yy_angles = _layers_ * len(my_grid.get_NN_indices())\n",
    "    else:\n",
    "        N_xx_yy_angles = _layers_ * (_N_ - 1) \n",
    "    if _w_next_nearest_neighbors_:\n",
    "        N_xx_yy_angles += _layers_ * (_N_ - 2)\n",
    "    if _w_z_phase_:\n",
    "        N_xx_yy_angles += _N_ * _layers_\n",
    "    theta_i = np.random.normal(loc=0, scale=0.1, size=N_xx_yy_angles)\n",
    "    iteration_dicts = []\n",
    "\n",
    "    def callback_function(x):\n",
    "        iteration_dicts.append(ansatz.get_state_probabilities(angles=x, flip_states=False))\n",
    "    res = sc.optimize.minimize(fun=ansatz.get_cost, x0=theta_i,\n",
    "                               method=_method_,\n",
    "                               options={'disp': False, 'maxiter': _max_iter_},\n",
    "                               callback=callback_function)\n",
    "    return [normalized_cost(result=it,\n",
    "                            QUBO_matrix=Q,\n",
    "                            QUBO_offset=offset,\n",
    "                            max_cost=max_cost, \n",
    "                            min_cost=min_cost) for it in iteration_dicts]"
   ],
   "metadata": {
    "collapsed": false
   },
   "id": "da898847bd3490bd"
  },
  {
   "cell_type": "code",
   "execution_count": null,
   "outputs": [],
   "source": [
    "# General settings:\n",
    "N=9\n",
    "k=4\n",
    "alpha=0.001\n",
    "layers=2\n",
    "max_iter=150\n",
    "w_z_phase = False\n",
    "w_next_nearest_neighbors = True\n",
    "w_evenly_distributed = True\n",
    "method_1='COBYLA'\n",
    "method_2='Nelder-Mead'\n",
    "method_3='SPSA'\n",
    "\n",
    "# Number of runs:\n",
    "N_SEEDS = (N_CPU_CORES-1)*10\n",
    "datapoints_1, datapoints_2, datapoints_3 = [], [], []\n",
    "for seed in range(N_SEEDS):\n",
    "    datapoints_1.append((seed,N,k,alpha,layers,max_iter,w_z_phase,w_next_nearest_neighbors,w_evenly_distributed,method_1))\n",
    "    datapoints_2.append((seed,N,k,alpha,layers,max_iter,w_z_phase,w_next_nearest_neighbors,w_evenly_distributed,method_2))\n",
    "    datapoints_3.append((seed,N,k,alpha,layers,max_iter,w_z_phase,w_next_nearest_neighbors,w_evenly_distributed,method_3))\n",
    "\n",
    "N_jobs = N_CPU_CORES-1\n",
    "YS_1 = Parallel(n_jobs=N_jobs, verbose=51, backend='loky')(delayed(simulate)(datapoint) for datapoint in datapoints_1)\n",
    "YS_2 = Parallel(n_jobs=N_jobs, verbose=51, backend='loky')(delayed(simulate)(datapoint) for datapoint in datapoints_2)\n",
    "YS_3 = Parallel(n_jobs=N_jobs, verbose=51, backend='loky')(delayed(simulate)(datapoint) for datapoint in datapoints_3)"
   ],
   "metadata": {
    "collapsed": false
   },
   "id": "afea1934b61119b6"
  }
 ],
 "metadata": {
  "kernelspec": {
   "display_name": "Python 3",
   "language": "python",
   "name": "python3"
  },
  "language_info": {
   "codemirror_mode": {
    "name": "ipython",
    "version": 2
   },
   "file_extension": ".py",
   "mimetype": "text/x-python",
   "name": "python",
   "nbconvert_exporter": "python",
   "pygments_lexer": "ipython2",
   "version": "2.7.6"
  }
 },
 "nbformat": 4,
 "nbformat_minor": 5
}
