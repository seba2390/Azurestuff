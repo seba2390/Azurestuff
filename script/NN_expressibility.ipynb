{
 "cells": [
  {
   "cell_type": "code",
   "execution_count": 161,
   "id": "initial_id",
   "metadata": {
    "collapsed": true,
    "ExecuteTime": {
     "end_time": "2024-02-15T23:25:59.379250Z",
     "start_time": "2024-02-15T23:25:59.374714Z"
    }
   },
   "outputs": [],
   "source": [
    "import numpy as np\n",
    "import matplotlib.pyplot as plt\n",
    "from qiskit.quantum_info import random_statevector, state_fidelity\n",
    "from scipy.stats import entropy\n",
    "\n",
    "from src.Qubo import Qubo\n",
    "from src.Chain import Chain\n",
    "from src.Grid import Grid\n",
    "from src.Qulacs_CP_VQA import Qulacs_CP_VQA"
   ]
  },
  {
   "cell_type": "code",
   "execution_count": 162,
   "outputs": [],
   "source": [
    "# Function to compute fidelity between two states\n",
    "def fidelity(state1, state2):\n",
    "    return np.abs(np.dot(np.conj(state1), state2))**2\n",
    "\n",
    "def generate_haar_random_states(num_states, dim):\n",
    "    return [random_statevector(dim).data for _ in range(num_states)]\n",
    "\n",
    "def calculate_fidelity_distribution(states1, states2):\n",
    "    fidelities = []\n",
    "    for state1 in states1:\n",
    "        for state2 in states2:\n",
    "            fidelity = state_fidelity(state1, state2)\n",
    "            fidelities.append(fidelity)\n",
    "    return fidelities\n",
    "\n",
    "def plot_normalized_histogram(fidelities: np.ndarray, \n",
    "                              N_bins: int, \n",
    "                              color: str):\n",
    "    frequencies, x_lims = np.histogram(fidelities, bins=N_bins, density=True)\n",
    "    normalized_frequencies = frequencies / np.sum(frequencies)\n",
    "    w = x_lims[1]-x_lims[0]\n",
    "    for f,x in zip(normalized_frequencies,x_lims):\n",
    "        plt.bar(x, f, w, 0, color=color, alpha=0.5)    \n",
    "\n",
    "def calculate_kl_divergence(dist1, dist2):\n",
    "    return entropy(dist1, dist2)"
   ],
   "metadata": {
    "collapsed": false,
    "ExecuteTime": {
     "end_time": "2024-02-15T23:25:59.797143Z",
     "start_time": "2024-02-15T23:25:59.795340Z"
    }
   },
   "id": "224063454aa111b1"
  },
  {
   "cell_type": "code",
   "execution_count": 169,
   "outputs": [],
   "source": [
    "qubits, layers = 4, 2\n",
    "seed = 1\n",
    "np.random.seed(seed)\n",
    "alpha = 0.5\n",
    "w_nnn = False\n",
    "init_strat = np.array([1 if i%2 == 1 else 0 for i in range(qubits)])\n",
    "my_indices = [(i, i+1) for i in range(qubits-1)]\n",
    "# Defining topology\n",
    "my_chain = Chain(N_qubits=qubits)\n",
    "my_chain.set_initialization_strategy(strategy=init_strat)\n",
    "\n",
    "my_grid = Grid(N_qubits=qubits)\n",
    "my_grid.set_initialization_strategy(strategy=np.array([[0,1],\n",
    "                                                       [1,0]]))\n",
    "# Deciding between grid and 1d chain topology\n",
    "my_topology = my_chain\n",
    "Q = np.triu(np.random.uniform(-1,1,(qubits,qubits)))\n",
    "qubo = Qubo(Q=Q, offset=np.random.uniform(-1,1))\n",
    "ansatz = Qulacs_CP_VQA(N_qubits=qubits, cardinality=qubits//2, \n",
    "                       layers=layers, qubo=qubo, \n",
    "                       with_next_nearest_neighbors=w_nnn,\n",
    "                       topology=my_topology, use_parametric_circuit_opt=True)"
   ],
   "metadata": {
    "collapsed": false,
    "ExecuteTime": {
     "end_time": "2024-02-15T23:27:56.048025Z",
     "start_time": "2024-02-15T23:27:56.044495Z"
    }
   },
   "id": "2e174cb45f7537dc"
  },
  {
   "cell_type": "code",
   "execution_count": 170,
   "outputs": [],
   "source": [
    "N_samples = 350\n",
    "sampled_states = []\n",
    "for sample in range(N_samples):\n",
    "    n_angles = layers * len(my_topology.get_NNN_indices()) if w_nnn else layers * len(my_topology.get_NN_indices())\n",
    "    angles = np.random.uniform(-2*np.pi, 2*np.pi, layers * len(my_topology.get_NN_indices()))\n",
    "    psi = ansatz.get_statevector(angles=angles)\n",
    "    sampled_states.append(psi)"
   ],
   "metadata": {
    "collapsed": false,
    "ExecuteTime": {
     "end_time": "2024-02-15T23:27:56.944871Z",
     "start_time": "2024-02-15T23:27:56.934043Z"
    }
   },
   "id": "5e69d268fca05c49"
  },
  {
   "cell_type": "code",
   "execution_count": 171,
   "outputs": [
    {
     "name": "stdout",
     "output_type": "stream",
     "text": [
      "KL Divergence: 1.4966709644526766\n"
     ]
    },
    {
     "data": {
      "text/plain": "<Figure size 640x480 with 1 Axes>",
      "image/png": "[encoded data removed]"
     },
     "metadata": {},
     "output_type": "display_data"
    }
   ],
   "source": [
    "# Parameters\n",
    "num_haar_states = N_samples  # Adjust as needed\n",
    "num_pqc_states = N_samples   # Adjust as needed\n",
    "dim = qubits           # Adjust for the dimension of your quantum system\n",
    "\n",
    "# Generate states\n",
    "haar_states = generate_haar_random_states(num_haar_states, dim)\n",
    "pqc_states = sampled_states  # Replace this with your PQC states\n",
    "\n",
    "# Calculate fidelity distributions\n",
    "fidelities_haar = calculate_fidelity_distribution(haar_states, haar_states)\n",
    "fidelities_pqc = calculate_fidelity_distribution(pqc_states, pqc_states)\n",
    "\n",
    "# Plot histograms\n",
    "plot_normalized_histogram(fidelities=fidelities_haar,N_bins=75,color='tab:blue')\n",
    "plot_normalized_histogram(fidelities=fidelities_pqc, N_bins=75,color='tab:orange')\n",
    "plt.xlim(-0.05,1.05)\n",
    "plt.xlabel('Fidelity')\n",
    "plt.ylabel('Frequency')\n",
    "plt.title('Fidelity Distribution')\n",
    "# Calculate and print KL divergence\n",
    "kl_div = calculate_kl_divergence(fidelities_haar, fidelities_pqc)\n",
    "print(f\"KL Divergence: {kl_div}\")\n"
   ],
   "metadata": {
    "collapsed": false,
    "ExecuteTime": {
     "end_time": "2024-02-15T23:28:07.476770Z",
     "start_time": "2024-02-15T23:27:57.447949Z"
    }
   },
   "id": "f69a4b4702cd7e11"
  },
  {
   "cell_type": "code",
   "execution_count": null,
   "outputs": [],
   "source": [],
   "metadata": {
    "collapsed": false
   },
   "id": "af287013371dd9d4"
  }
 ],
 "metadata": {
  "kernelspec": {
   "display_name": "Python 3",
   "language": "python",
   "name": "python3"
  },
  "language_info": {
   "codemirror_mode": {
    "name": "ipython",
    "version": 2
   },
   "file_extension": ".py",
   "mimetype": "text/x-python",
   "name": "python",
   "nbconvert_exporter": "python",
   "pygments_lexer": "ipython2",
   "version": "2.7.6"
  }
 },
 "nbformat": 4,
 "nbformat_minor": 5
}
