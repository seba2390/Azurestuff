{
 "cells": [
  {
   "cell_type": "code",
   "execution_count": 1,
   "id": "initial_id",
   "metadata": {
    "collapsed": true,
    "ExecuteTime": {
     "end_time": "2024-02-16T12:02:53.921831800Z",
     "start_time": "2024-02-16T12:02:52.473457300Z"
    }
   },
   "outputs": [],
   "source": [
    "import numpy as np\n",
    "import scipy as sc\n",
    "import matplotlib.pyplot as plt\n",
    "from joblib import Parallel, delayed\n",
    "\n",
    "from src.Qulacs_CP_VQA import Qulacs_CP_VQA\n",
    "from src.Qulacs_QAOA import Qulacs_QAOA\n",
    "\n",
    "from src.Chain import Chain\n",
    "from src.Qubo import Qubo\n",
    "from src.Tools import (portfolio_metrics, \n",
    "                       min_cost_partition, \n",
    "                       get_qubo, \n",
    "                       check_qubo)"
   ]
  },
  {
   "cell_type": "code",
   "outputs": [],
   "source": [
    "def simulate(settings: dict):\n",
    "    # Generating random problem instance \n",
    "    expected_returns, covariances = portfolio_metrics(n=settings['N'], seed=settings['seed'])\n",
    "    # Retrieving C_min, C_max and corresponding states for original portfolio problem\n",
    "    constrained_result, full_result, lmbda = min_cost_partition(nr_qubits=settings['N'],\n",
    "                                                                k=settings['k'],\n",
    "                                                                mu=expected_returns,\n",
    "                                                                sigma=covariances,\n",
    "                                                                alpha=settings['alpha'])\n",
    "\n",
    "    # Generating QUBO corresponding to current problem instance\n",
    "    Q, offset = get_qubo(mu=expected_returns,\n",
    "                         sigma=covariances, \n",
    "                         alpha=settings['alpha'],\n",
    "                         lmbda=lmbda+1, # Adding small constant purposely\n",
    "                         k=settings['k'])\n",
    "    qubo = Qubo(Q=Q, offset=offset) \n",
    "    qubo.subspace_c_min, qubo.subspace_c_max = constrained_result['c_min'], constrained_result['c_max']\n",
    "    qubo.subspace_x_min, qubo.subspace_x_max = constrained_result['s_min'], constrained_result['s_max']\n",
    "    qubo.full_space_c_min, qubo.full_space_c_max = full_result['c_min'], full_result['c_max']\n",
    "    check_qubo(QUBO_matrix=Q, QUBO_offset=offset, expected_returns=expected_returns, covariances=covariances, alpha=settings['alpha'], k=settings['k'])\n",
    "     \n",
    "    \n",
    "    qaoa = Qulacs_QAOA(N_qubits=settings['N'],\n",
    "                       cardinality=settings['k'],\n",
    "                       layers=settings['L'],\n",
    "                       qubo=qubo)\n",
    "     \n",
    "    cp_vqa = Qulacs_CP_VQA(N_qubits=settings['N'],\n",
    "                           cardinality=settings['k'],\n",
    "                           layers=settings['L'],\n",
    "                           topology=settings['topology'],\n",
    "                           with_next_nearest_neighbors=settings['w_nnn'],\n",
    "                           approximate_hamiltonian=True,\n",
    "                           qubo=qubo)\n",
    "     \n",
    "    \n",
    "     # Generating initial guess for rotation angles\n",
    "    np.random.seed(settings['seed'])\n",
    "    theta_min, theta_max = -2*np.pi, 2*np.pi\n",
    "    N_angles = settings['L'] * len(settings['topology'].get_NNN_indices()) if settings['w_nnn'] else settings['L'] * len(settings['topology'].get_NN_indices())\n",
    "    CPVQA_theta_i = np.random.uniform(theta_min, theta_max, N_angles)\n",
    "    QAOA_theta_i = np.random.uniform(theta_min, theta_max, 2*settings['L'])\n",
    "    \n",
    "    \n",
    "    qaoa_sim_res = sc.optimize.minimize(fun=qaoa.get_cost, \n",
    "                                        x0=QAOA_theta_i,\n",
    "                                        method=settings['opt_method'],\n",
    "                                        options={'disp': False, \n",
    "                                                 'maxiter': settings['max_iter']},\n",
    "                                        callback=qaoa.callback)\n",
    "    qaoa_norm_c = np.min(qaoa.normalized_costs)\n",
    "    qaoa_p = np.max(qaoa.opt_state_probabilities)    \n",
    "    \n",
    "    \n",
    "    cp_vqa_sim_res = sc.optimize.minimize(fun=cp_vqa.get_cost, \n",
    "                                          x0=CPVQA_theta_i,\n",
    "                                          method=settings['opt_method'],\n",
    "                                          options={'disp': False, \n",
    "                                                   'maxiter': settings['max_iter']},\n",
    "                                          callback=cp_vqa.callback)\n",
    "    cp_vqa_norm_c = np.min(cp_vqa.normalized_costs)\n",
    "    cp_vqa_p = np.max(cp_vqa.opt_state_probabilities)\n",
    "    \n",
    "    return  {'N':settings['N'], 'CP_VQA': {'c':cp_vqa_norm_c,'p':cp_vqa_p}, 'QAOA': {'c':qaoa_norm_c,'p':qaoa_p}}"
   ],
   "metadata": {
    "collapsed": false,
    "ExecuteTime": {
     "end_time": "2024-02-16T12:02:53.946203Z",
     "start_time": "2024-02-16T12:02:53.928267200Z"
    }
   },
   "id": "bb6354eeb911cda0",
   "execution_count": 2
  },
  {
   "cell_type": "code",
   "outputs": [],
   "source": [
    "layer_dict = {2:1,  3:1,  4:1,\n",
    "              5:2,  6:2,  7:2,\n",
    "              8:3,  9:3,  10:3,\n",
    "              11:4, 12:4, 13:4}\n",
    "\n",
    "max_iter = 1000\n",
    "alpha=0.5\n",
    "N_seeds = 10\n",
    "N_min, N_max = 2,10\n",
    "sim_settings = []\n",
    "for seed in range(N_seeds):\n",
    "    for N in range(N_min, N_max+1):\n",
    "        topology = Chain(N_qubits=N)\n",
    "        topology.set_initialization_strategy(strategy=np.array([0 if i%2 == 0 else 1 for i in range(N)]))\n",
    "        setting = {'N'         :N,       'alpha'   :alpha,   'L'       :layer_dict[N], \n",
    "                   'seed'      :seed,    'topology':topology,'max_iter':max_iter,\n",
    "                   'opt_method':'COBYLA','w_nnn'   :True,    'k'       :N//2}\n",
    "        sim_settings.append(setting)"
   ],
   "metadata": {
    "collapsed": false,
    "ExecuteTime": {
     "end_time": "2024-02-16T12:10:06.774920100Z",
     "start_time": "2024-02-16T12:10:06.765091Z"
    }
   },
   "id": "88e528a8ae89a929",
   "execution_count": 17
  },
  {
   "cell_type": "code",
   "outputs": [
    {
     "name": "stdout",
     "output_type": "stream",
     "text": [
      "[Parallel(n_jobs=10)]: Using backend LokyBackend with 10 concurrent workers.\n",
      "[Parallel(n_jobs=10)]: Done   1 tasks      | elapsed:    0.0s\n",
      "[Parallel(n_jobs=10)]: Batch computation too fast (0.011451244354248047s.) Setting batch_size=2.\n",
      "[Parallel(n_jobs=10)]: Done   2 tasks      | elapsed:    0.0s\n",
      "[Parallel(n_jobs=10)]: Done   3 tasks      | elapsed:    0.0s\n",
      "[Parallel(n_jobs=10)]: Done   4 tasks      | elapsed:    0.0s\n",
      "[Parallel(n_jobs=10)]: Done   5 tasks      | elapsed:    0.0s\n",
      "[Parallel(n_jobs=10)]: Done   6 tasks      | elapsed:    0.0s\n",
      "[Parallel(n_jobs=10)]: Done   7 tasks      | elapsed:    0.2s\n",
      "[Parallel(n_jobs=10)]: Done   8 tasks      | elapsed:    0.2s\n",
      "[Parallel(n_jobs=10)]: Done   9 tasks      | elapsed:    1.0s\n",
      "[Parallel(n_jobs=10)]: Done  10 tasks      | elapsed:    1.0s\n",
      "[Parallel(n_jobs=10)]: Done  11 tasks      | elapsed:    1.0s\n",
      "[Parallel(n_jobs=10)]: Done  12 tasks      | elapsed:    1.1s\n",
      "[Parallel(n_jobs=10)]: Done  13 tasks      | elapsed:    1.3s\n",
      "[Parallel(n_jobs=10)]: Done  15 tasks      | elapsed:    1.3s\n",
      "[Parallel(n_jobs=10)]: Done  16 tasks      | elapsed:    1.9s\n",
      "[Parallel(n_jobs=10)]: Done  18 tasks      | elapsed:    1.9s\n",
      "[Parallel(n_jobs=10)]: Done  20 tasks      | elapsed:    2.5s\n",
      "[Parallel(n_jobs=10)]: Done  22 tasks      | elapsed:    2.6s\n",
      "[Parallel(n_jobs=10)]: Done  23 tasks      | elapsed:    3.5s\n",
      "[Parallel(n_jobs=10)]: Done  25 tasks      | elapsed:    3.5s\n",
      "[Parallel(n_jobs=10)]: Batch computation too slow (2.046113803482056s.) Setting batch_size=1.\n",
      "[Parallel(n_jobs=10)]: Done  27 tasks      | elapsed:    3.9s\n",
      "[Parallel(n_jobs=10)]: Done  28 tasks      | elapsed:    3.9s\n",
      "[Parallel(n_jobs=10)]: Done  30 tasks      | elapsed:    5.9s\n",
      "[Parallel(n_jobs=10)]: Done  32 tasks      | elapsed:    6.1s\n",
      "[Parallel(n_jobs=10)]: Done  34 tasks      | elapsed:    6.2s\n",
      "[Parallel(n_jobs=10)]: Done  35 tasks      | elapsed:    6.2s\n",
      "[Parallel(n_jobs=10)]: Done  36 tasks      | elapsed:    6.2s\n",
      "[Parallel(n_jobs=10)]: Done  38 tasks      | elapsed:    7.1s\n",
      "[Parallel(n_jobs=10)]: Done  40 tasks      | elapsed:    7.1s\n",
      "[Parallel(n_jobs=10)]: Done  41 tasks      | elapsed:    7.3s\n",
      "[Parallel(n_jobs=10)]: Done  43 tasks      | elapsed:    7.3s\n",
      "[Parallel(n_jobs=10)]: Done  44 tasks      | elapsed:    7.6s\n",
      "[Parallel(n_jobs=10)]: Done  46 tasks      | elapsed:    7.7s\n",
      "[Parallel(n_jobs=10)]: Done  48 tasks      | elapsed:    9.1s\n",
      "[Parallel(n_jobs=10)]: Done  49 tasks      | elapsed:    9.1s\n",
      "[Parallel(n_jobs=10)]: Done  50 tasks      | elapsed:    9.1s\n",
      "[Parallel(n_jobs=10)]: Done  51 tasks      | elapsed:    9.1s\n",
      "[Parallel(n_jobs=10)]: Done  52 tasks      | elapsed:    9.4s\n",
      "[Parallel(n_jobs=10)]: Done  53 tasks      | elapsed:   10.0s\n",
      "[Parallel(n_jobs=10)]: Done  54 tasks      | elapsed:   10.1s\n",
      "[Parallel(n_jobs=10)]: Done  56 tasks      | elapsed:   11.0s\n",
      "[Parallel(n_jobs=10)]: Done  58 tasks      | elapsed:   11.3s\n",
      "[Parallel(n_jobs=10)]: Done  59 tasks      | elapsed:   11.6s\n",
      "[Parallel(n_jobs=10)]: Done  61 tasks      | elapsed:   11.6s\n",
      "[Parallel(n_jobs=10)]: Done  62 tasks      | elapsed:   11.6s\n",
      "[Parallel(n_jobs=10)]: Done  63 tasks      | elapsed:   11.6s\n",
      "[Parallel(n_jobs=10)]: Done  64 tasks      | elapsed:   11.6s\n",
      "[Parallel(n_jobs=10)]: Done  65 tasks      | elapsed:   11.9s\n",
      "[Parallel(n_jobs=10)]: Done  66 tasks      | elapsed:   12.6s\n",
      "[Parallel(n_jobs=10)]: Done  67 tasks      | elapsed:   13.0s\n",
      "[Parallel(n_jobs=10)]: Done  68 tasks      | elapsed:   13.6s\n",
      "[Parallel(n_jobs=10)]: Done  69 out of  90 | elapsed:   13.8s remaining:    4.1s\n",
      "[Parallel(n_jobs=10)]: Done  71 out of  90 | elapsed:   13.8s remaining:    3.6s\n",
      "[Parallel(n_jobs=10)]: Done  73 out of  90 | elapsed:   14.3s remaining:    3.3s\n",
      "[Parallel(n_jobs=10)]: Done  77 out of  90 | elapsed:   15.0s remaining:    2.5s\n",
      "[Parallel(n_jobs=10)]: Done  79 out of  90 | elapsed:   15.8s remaining:    2.1s\n",
      "[Parallel(n_jobs=10)]: Done  81 out of  90 | elapsed:   16.7s remaining:    1.8s\n",
      "[Parallel(n_jobs=10)]: Done  85 out of  90 | elapsed:   18.2s remaining:    1.0s\n",
      "[Parallel(n_jobs=10)]: Done  87 out of  90 | elapsed:   18.5s remaining:    0.5s\n",
      "[Parallel(n_jobs=10)]: Done  90 out of  90 | elapsed:   23.6s finished\n"
     ]
    }
   ],
   "source": [
    "N_jobs=10\n",
    "r = Parallel(n_jobs=N_jobs, verbose=51, backend='loky')(delayed(simulate)(setting) for setting in sim_settings)\n"
   ],
   "metadata": {
    "collapsed": false,
    "ExecuteTime": {
     "end_time": "2024-02-16T12:10:33.357553800Z",
     "start_time": "2024-02-16T12:10:09.613646600Z"
    }
   },
   "id": "a406aeed46a4f16b",
   "execution_count": 18
  },
  {
   "cell_type": "code",
   "outputs": [],
   "source": [
    "N_vals = [N for N in range(N_min,N_max+1)]\n",
    "qaoa_res, cp_vqa_res = {N:[] for N in N_vals}, {N:[] for N in N_vals}\n",
    "for result in r:\n",
    "    qaoa_res[result['N']].append([result['QAOA']['c'],result['QAOA']['p']])\n",
    "    cp_vqa_res[result['N']].append([result['CP_VQA']['c'],result['CP_VQA']['p']])"
   ],
   "metadata": {
    "collapsed": false,
    "ExecuteTime": {
     "end_time": "2024-02-16T12:10:43.325424200Z",
     "start_time": "2024-02-16T12:10:43.304557500Z"
    }
   },
   "id": "e59fe11fb5e276a2",
   "execution_count": 19
  },
  {
   "cell_type": "code",
   "execution_count": 20,
   "outputs": [
    {
     "data": {
      "text/plain": "<Figure size 1000x300 with 2 Axes>",
      "image/png": "[encoded data removed]"
     },
     "metadata": {},
     "output_type": "display_data"
    }
   ],
   "source": [
    "fig, ax = plt.subplots(1,2,figsize=(10,3))\n",
    "N_vales = [N for N in range(N_min,N_max+1)]\n",
    "ax[0].errorbar(N_vales, [np.mean(np.array(qaoa_res[N])[:,0]) for N in N_vales], [np.std(np.array(qaoa_res[N])[:,0]) for N in N_vales], label='QAOA', capsize=3, fmt='.', ms=10)\n",
    "ax[0].errorbar(N_vales, [np.mean(np.array(cp_vqa_res[N])[:,0]) for N in N_vales], [np.std(np.array(cp_vqa_res[N])[:,0]) for N in N_vales], label='CPVQA', capsize=3, fmt='.', ms=10)\n",
    "ax[1].errorbar(N_vales, [np.mean(np.array(qaoa_res[N])[:,1]) for N in N_vales], [np.std(np.array(qaoa_res[N])[:,1]) for N in N_vales], label='QAOA', capsize=3, fmt='.', ms=10)\n",
    "ax[1].errorbar(N_vales, [np.mean(np.array(cp_vqa_res[N])[:,1]) for N in N_vales], [np.std(np.array(cp_vqa_res[N])[:,1]) for N in N_vales], label='CPVQA', capsize=3, fmt='.', ms=10)\n",
    "for i in range(2):\n",
    "    ax[i].set_xticks(N_vales)\n",
    "    ax[i].legend()\n",
    "plt.show()"
   ],
   "metadata": {
    "collapsed": false,
    "ExecuteTime": {
     "end_time": "2024-02-16T12:10:44.017649200Z",
     "start_time": "2024-02-16T12:10:43.851109300Z"
    }
   },
   "id": "8ec010d7affb87a1"
  },
  {
   "cell_type": "code",
   "execution_count": null,
   "outputs": [],
   "source": [],
   "metadata": {
    "collapsed": false,
    "ExecuteTime": {
     "end_time": "2024-02-16T12:03:08.964727100Z",
     "start_time": "2024-02-16T12:03:08.959393300Z"
    }
   },
   "id": "859272db576a1da7"
  }
 ],
 "metadata": {
  "kernelspec": {
   "display_name": "Python 3",
   "language": "python",
   "name": "python3"
  },
  "language_info": {
   "codemirror_mode": {
    "name": "ipython",
    "version": 2
   },
   "file_extension": ".py",
   "mimetype": "text/x-python",
   "name": "python",
   "nbconvert_exporter": "python",
   "pygments_lexer": "ipython2",
   "version": "2.7.6"
  }
 },
 "nbformat": 4,
 "nbformat_minor": 5
}
