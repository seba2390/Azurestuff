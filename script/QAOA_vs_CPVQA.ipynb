{
 "cells": [
  {
   "cell_type": "code",
   "execution_count": 4,
   "id": "initial_id",
   "metadata": {
    "collapsed": true,
    "ExecuteTime": {
     "end_time": "2024-02-15T20:19:07.590822Z",
     "start_time": "2024-02-15T20:19:07.585459Z"
    }
   },
   "outputs": [],
   "source": [
    "import numpy as np\n",
    "import scipy as sc\n",
    "import matplotlib.pyplot as plt\n",
    "from tqdm import tqdm\n",
    "\n",
    "from src.Qiskit_CP_VQA import CP_VQA\n",
    "from src.Qiskit_QAOA import Qiskit_QAOA\n",
    "\n",
    "from src.Chain import Chain\n",
    "from src.Qubo import Qubo\n",
    "from src.Tools import (portfolio_metrics, \n",
    "                       min_cost_partition, \n",
    "                       get_qubo, \n",
    "                       check_qubo)"
   ]
  },
  {
   "cell_type": "code",
   "outputs": [
    {
     "name": "stderr",
     "output_type": "stream",
     "text": [
      " 89%|████████▉ | 8/9 [02:43<00:35, 35.86s/it]"
     ]
    }
   ],
   "source": [
    "N_min, N_max = 4,12\n",
    "\n",
    "qiskit_qaoa_res = {N: [] for N in range(N_min, N_max + 1)}\n",
    "qiskit_reduced_res = {N: [] for N in range(N_min, N_max + 1)}\n",
    "\n",
    "\n",
    "max_iter = 1000\n",
    "N_seeds = 3\n",
    "start_seed = 0\n",
    "w_nnn = True\n",
    "\n",
    "layer_dict = {4:  1, 5:  1, 6 : 1,\n",
    "              7:  2, 8 : 2, 9 : 2, \n",
    "              10: 3, 11: 3, 12: 3, \n",
    "              13: 4, 14: 4, 15: 4, \n",
    "              16: 5, 17: 5, 18: 5, \n",
    "              19: 6, 20: 6, 21: 6}\n",
    " # Choosing optimizer for scipy\n",
    "optimizer_method = 'COBYLA'\n",
    "for N in tqdm(range(N_min, N_max+1)):\n",
    "    k = N // 2\n",
    "    init_strat = np.array([1 if i%2 == 1 else 0 for i in range(N)])\n",
    "    my_indices = [(i, i+1) for i in range(N-1)]\n",
    "    alpha = 0.5\n",
    "    for repetition in range(N_seeds):\n",
    "         # Defining topology\n",
    "        my_chain = Chain(N_qubits=N)\n",
    "        my_chain.set_initialization_strategy(strategy=init_strat)\n",
    "        # Deciding between grid and 1d chain topology\n",
    "        my_topology = my_chain\n",
    "        # Generating random problem instance \n",
    "        expected_returns, covariances = portfolio_metrics(n=N, seed=start_seed)\n",
    "        # Retrieving C_min, C_max and corresponding states for original portfolio problem\n",
    "        constrained_result, full_result, lmbda = min_cost_partition(nr_qubits=N,\n",
    "                                                                    k=k,\n",
    "                                                                    mu=expected_returns,\n",
    "                                                                    sigma=covariances,\n",
    "                                                                    alpha=alpha)\n",
    "        portfolio_subspace_max_cost, portfolio_subspace_min_cost = constrained_result['c_max'], constrained_result['c_min']\n",
    "        portfolio_subspace_min_state, portfolio_subspace_max_state = constrained_result['s_min'], constrained_result['s_max']\n",
    "        portfolio_subspace_min_state_str = ''.join([str(_) for _ in portfolio_subspace_min_state.astype(int)])\n",
    "        portfolio_subspace_max_state_str = ''.join([str(_) for _ in portfolio_subspace_max_state.astype(int)])\n",
    "\n",
    "        # Generating QUBO corresponding to current problem instance\n",
    "        Q, offset = get_qubo(mu=expected_returns,\n",
    "                             sigma=covariances, \n",
    "                             alpha=alpha,\n",
    "                             lmbda=lmbda+1, # Adding small constant purposely\n",
    "                             k=k)\n",
    "        qubo = Qubo(Q=Q, offset=offset) \n",
    "        res_subspace = qubo.solve_constrained(cardinality=k)\n",
    "        res_full = qubo.solve()\n",
    "        qubo_min_cost, qubo_max_cost = res_full['v_min'], res_full['v_max']\n",
    "        qubo_min_state, qubo_subspace_max_state = res_full['x_min'], res_subspace['x_max']\n",
    "        qubo_min_state_str = ''.join([str(_) for _ in qubo_min_state.astype(int)])\n",
    "        qubo_subspace_max_state_str = ''.join([str(_) for _ in qubo_subspace_max_state.astype(int)])\n",
    "        check_qubo(QUBO_matrix=Q, QUBO_offset=offset, expected_returns=expected_returns, covariances=covariances, alpha=alpha, k=k)\n",
    "         \n",
    "        skip = False\n",
    "        if not portfolio_subspace_max_state_str == qubo_subspace_max_state_str:\n",
    "            \"\"\" raise RuntimeError(f'portfolio_subspace_max_state_str: {portfolio_subspace_max_state_str}, qubo_max_state_str: {qubo_subspace_max_state_str}'+f' Max. cost of qubo is: {res_subspace[\"v_max\"]}, but max. cost of constrained portfolio is: {portfolio_subspace_max_cost}.')\"\"\"\n",
    "            skip = True\n",
    "        \n",
    "        if not portfolio_subspace_min_state_str == qubo_min_state_str:\n",
    "            \"\"\"raise RuntimeError(f'portfolio_subspace_min_state_str: {portfolio_subspace_min_state_str}, qubo_min_state_str: {qubo_min_state_str}'+f' Min. cost of qubo is: {qubo_min_cost}, but min. cost of constrained portfolio is: {portfolio_subspace_min_cost}.')\"\"\"\n",
    "            skip = True\n",
    "             \n",
    "        if not np.isclose(qubo_min_cost,portfolio_subspace_min_cost):\n",
    "            \"\"\"raise RuntimeError(f'Min. cost of qubo is: {qubo_min_cost}, but min. cost of constrained portfolio is: {portfolio_subspace_min_cost}.')\"\"\"\n",
    "            skip = True\n",
    "             \n",
    "        if not qubo_max_cost >= portfolio_subspace_max_cost:\n",
    "            \"\"\"raise RuntimeError(f'Max. cost of qubo: {qubo_max_cost}, max. cost of portfolio subspace: {portfolio_subspace_max_cost} (should be qubo max. >= constrained portfolio max)')\"\"\"\n",
    "            skip = True\n",
    "        if not skip:\n",
    "            \n",
    "            qiskit_ansatz_qaoa = Qiskit_QAOA(N_qubits=N,\n",
    "                                             cardinality=k,\n",
    "                                             layers=layer_dict[N],\n",
    "                                             qubo=qubo)\n",
    "             \n",
    "            qiskit_ansatz_reduced = CP_VQA(N_qubits=N,\n",
    "                                            cardinality=k,\n",
    "                                            layers=layer_dict[N],\n",
    "                                            topology=my_topology,\n",
    "                                            with_next_nearest_neighbors=w_nnn,\n",
    "                                            approximate_hamiltonian=True,\n",
    "                                            qubo=qubo)\n",
    "             \n",
    "            \n",
    "             # Generating initial guess for rotation angles\n",
    "            np.random.seed(start_seed)\n",
    "            theta_min, theta_max = -2*np.pi, 2*np.pi\n",
    "            N_angles = layer_dict[N] * len(my_topology.get_NNN_indices()) if w_nnn else layer_dict[N] * len(my_topology.get_NN_indices())\n",
    "            CPVQA_theta_i = np.random.uniform(-2*np.pi, 2*np.pi, N_angles)\n",
    "            QAOA_theta_i = np.random.uniform(-2*np.pi, 2*np.pi, 2*layer_dict[N])\n",
    "            \n",
    "            qiskit_sim_reduced = sc.optimize.minimize(fun=qiskit_ansatz_reduced.get_cost, \n",
    "                                                      x0=CPVQA_theta_i,\n",
    "                                                      method=optimizer_method,\n",
    "                                                      options={'disp': False, \n",
    "                                                                'maxiter': max_iter},\n",
    "                                                      callback=qiskit_ansatz_reduced.callback)\n",
    "            reduced_norm_c = np.min(qiskit_ansatz_reduced.normalized_costs)\n",
    "            reduced_norm_p = np.max(qiskit_ansatz_reduced.opt_state_probabilities)\n",
    "            qiskit_reduced_res[N].append([reduced_norm_c,reduced_norm_p])     \n",
    "            \n",
    "            qaoa_sim_reduced = sc.optimize.minimize(fun=qiskit_ansatz_qaoa.get_cost, \n",
    "                                                      x0=QAOA_theta_i,\n",
    "                                                      method=optimizer_method,\n",
    "                                                      options={'disp': False, \n",
    "                                                                'maxiter': max_iter},\n",
    "                                                      callback=qiskit_ansatz_qaoa.callback)\n",
    "            qaoa_norm_c = np.min(qiskit_ansatz_qaoa.normalized_costs)\n",
    "            qaoa_norm_p = np.max(qiskit_ansatz_qaoa.opt_state_probabilities)\n",
    "            qiskit_qaoa_res[N].append([qaoa_norm_c,qaoa_norm_p])   \n",
    "            \n",
    "        start_seed += 1"
   ],
   "metadata": {
    "collapsed": false,
    "is_executing": true,
    "ExecuteTime": {
     "start_time": "2024-02-15T20:50:04.433686Z"
    }
   },
   "id": "240879f42ac00ed1",
   "execution_count": null
  },
  {
   "cell_type": "code",
   "execution_count": null,
   "outputs": [],
   "source": [
    "fig, ax = plt.subplots(1,1,figsize=(5,3))\n",
    "N_vales = [N for N in range(N_min,N_max+1)]\n",
    "ax.errorbar(N_vales, [np.mean(np.array(qiskit_qaoa_res[N])[:,0]) for N in N_vales], [np.std(np.array(qiskit_qaoa_res[N])[:,0]) for N in N_vales], label='QAOA', capsize=3, fmt='.', ms=10)\n",
    "ax.errorbar(N_vales, [np.mean(np.array(qiskit_reduced_res[N])[:,0]) for N in N_vales], [np.std(np.array(qiskit_reduced_res[N])[:,0]) for N in N_vales], label='CPVQA', capsize=3, fmt='.', ms=10)\n",
    "ax.set_xticks(N_vales)\n",
    "ax.legend()\n",
    "ax.set_ylim(0,0.2)\n",
    "plt.show()"
   ],
   "metadata": {
    "collapsed": false,
    "is_executing": true
   },
   "id": "8ec010d7affb87a1"
  },
  {
   "cell_type": "code",
   "execution_count": null,
   "outputs": [],
   "source": [],
   "metadata": {
    "collapsed": false
   },
   "id": "8fa919a600e98a3a"
  }
 ],
 "metadata": {
  "kernelspec": {
   "display_name": "Python 3",
   "language": "python",
   "name": "python3"
  },
  "language_info": {
   "codemirror_mode": {
    "name": "ipython",
    "version": 2
   },
   "file_extension": ".py",
   "mimetype": "text/x-python",
   "name": "python",
   "nbconvert_exporter": "python",
   "pygments_lexer": "ipython2",
   "version": "2.7.6"
  }
 },
 "nbformat": 4,
 "nbformat_minor": 5
}
