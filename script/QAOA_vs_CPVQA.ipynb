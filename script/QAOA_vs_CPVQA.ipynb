{
 "cells": [
  {
   "cell_type": "code",
   "execution_count": 1,
   "id": "initial_id",
   "metadata": {
    "collapsed": true,
    "ExecuteTime": {
     "end_time": "2024-02-15T21:06:52.413021Z",
     "start_time": "2024-02-15T21:06:51.773567Z"
    }
   },
   "outputs": [],
   "source": [
    "import numpy as np\n",
    "import scipy as sc\n",
    "import matplotlib.pyplot as plt\n",
    "from tqdm import tqdm\n",
    "\n",
    "from src.Qiskit_CP_VQA import CP_VQA\n",
    "from src.Qiskit_QAOA import Qiskit_QAOA\n",
    "\n",
    "from src.Qulacs_CP_VQA import Qulacs_CP_VQA\n",
    "from src.Qulacs_QAOA import Qulacs_QAOA\n",
    "\n",
    "from src.Chain import Chain\n",
    "from src.Qubo import Qubo\n",
    "from src.Tools import (portfolio_metrics, \n",
    "                       min_cost_partition, \n",
    "                       get_qubo, \n",
    "                       check_qubo)"
   ]
  },
  {
   "cell_type": "code",
   "outputs": [
    {
     "name": "stderr",
     "output_type": "stream",
     "text": [
      "100%|██████████| 7/7 [05:04<00:00, 43.57s/it]\n"
     ]
    }
   ],
   "source": [
    "N_min, N_max = 4,10\n",
    "\n",
    "qiskit_qaoa_res = {N: [] for N in range(N_min, N_max + 1)}\n",
    "qiskit_reduced_res = {N: [] for N in range(N_min, N_max + 1)}\n",
    "\n",
    "\n",
    "max_iter = 1500\n",
    "N_seeds = 20\n",
    "start_seed = 0\n",
    "w_nnn = True\n",
    "\n",
    "layer_dict = {4:  4, 5:  4, 6 : 4,\n",
    "              7:  4, 8 : 4, 9 : 4, \n",
    "              10: 6, 11: 6, 12: 4, \n",
    "              13: 4, 14: 4, 15: 5, \n",
    "              16: 5, 17: 5, 18: 6, \n",
    "              19: 6, 20: 6, 21: 7}\n",
    "\n",
    "# Choosing optimizer for scipy\n",
    "optimizer_method = 'COBYLA'\n",
    "for N in tqdm(range(N_min, N_max+1)):\n",
    "    k = N // 2\n",
    "    init_strat = np.array([1 if i%2 == 1 else 0 for i in range(N)])\n",
    "    my_indices = [(i, i+1) for i in range(N-1)]\n",
    "    alpha = 0.5\n",
    "    for repetition in range(N_seeds):\n",
    "         # Defining topology\n",
    "        my_chain = Chain(N_qubits=N)\n",
    "        my_chain.set_initialization_strategy(strategy=init_strat)\n",
    "        # Deciding between grid and 1d chain topology\n",
    "        my_topology = my_chain\n",
    "        # Generating random problem instance \n",
    "        expected_returns, covariances = portfolio_metrics(n=N, seed=start_seed)\n",
    "        # Retrieving C_min, C_max and corresponding states for original portfolio problem\n",
    "        constrained_result, full_result, lmbda = min_cost_partition(nr_qubits=N,\n",
    "                                                                    k=k,\n",
    "                                                                    mu=expected_returns,\n",
    "                                                                    sigma=covariances,\n",
    "                                                                    alpha=alpha)\n",
    "        portfolio_subspace_max_cost, portfolio_subspace_min_cost = constrained_result['c_max'], constrained_result['c_min']\n",
    "        portfolio_subspace_min_state, portfolio_subspace_max_state = constrained_result['s_min'], constrained_result['s_max']\n",
    "        portfolio_subspace_min_state_str = ''.join([str(_) for _ in portfolio_subspace_min_state.astype(int)])\n",
    "        portfolio_subspace_max_state_str = ''.join([str(_) for _ in portfolio_subspace_max_state.astype(int)])\n",
    "\n",
    "        # Generating QUBO corresponding to current problem instance\n",
    "        Q, offset = get_qubo(mu=expected_returns,\n",
    "                             sigma=covariances, \n",
    "                             alpha=alpha,\n",
    "                             lmbda=lmbda+1, # Adding small constant purposely\n",
    "                             k=k)\n",
    "        qubo = Qubo(Q=Q, offset=offset) \n",
    "        res_subspace = qubo.solve_constrained(cardinality=k)\n",
    "        res_full = qubo.solve()\n",
    "        qubo_min_cost, qubo_max_cost = res_full['v_min'], res_full['v_max']\n",
    "        qubo_min_state, qubo_subspace_max_state = res_full['x_min'], res_subspace['x_max']\n",
    "        qubo_min_state_str = ''.join([str(_) for _ in qubo_min_state.astype(int)])\n",
    "        qubo_subspace_max_state_str = ''.join([str(_) for _ in qubo_subspace_max_state.astype(int)])\n",
    "        check_qubo(QUBO_matrix=Q, QUBO_offset=offset, expected_returns=expected_returns, covariances=covariances, alpha=alpha, k=k)\n",
    "         \n",
    "        skip = False\n",
    "        if not portfolio_subspace_max_state_str == qubo_subspace_max_state_str:\n",
    "            \"\"\" raise RuntimeError(f'portfolio_subspace_max_state_str: {portfolio_subspace_max_state_str}, qubo_max_state_str: {qubo_subspace_max_state_str}'+f' Max. cost of qubo is: {res_subspace[\"v_max\"]}, but max. cost of constrained portfolio is: {portfolio_subspace_max_cost}.')\"\"\"\n",
    "            skip = True\n",
    "        \n",
    "        if not portfolio_subspace_min_state_str == qubo_min_state_str:\n",
    "            \"\"\"raise RuntimeError(f'portfolio_subspace_min_state_str: {portfolio_subspace_min_state_str}, qubo_min_state_str: {qubo_min_state_str}'+f' Min. cost of qubo is: {qubo_min_cost}, but min. cost of constrained portfolio is: {portfolio_subspace_min_cost}.')\"\"\"\n",
    "            skip = True\n",
    "             \n",
    "        if not np.isclose(qubo_min_cost,portfolio_subspace_min_cost):\n",
    "            \"\"\"raise RuntimeError(f'Min. cost of qubo is: {qubo_min_cost}, but min. cost of constrained portfolio is: {portfolio_subspace_min_cost}.')\"\"\"\n",
    "            skip = True\n",
    "             \n",
    "        if not qubo_max_cost >= portfolio_subspace_max_cost:\n",
    "            \"\"\"raise RuntimeError(f'Max. cost of qubo: {qubo_max_cost}, max. cost of portfolio subspace: {portfolio_subspace_max_cost} (should be qubo max. >= constrained portfolio max)')\"\"\"\n",
    "            skip = True\n",
    "        if not skip:\n",
    "            \n",
    "            qiskit_ansatz_qaoa = Qulacs_QAOA(N_qubits=N,\n",
    "                                             cardinality=k,\n",
    "                                             layers=layer_dict[N],\n",
    "                                             qubo=qubo)\n",
    "             \n",
    "            qiskit_ansatz_reduced = Qulacs_CP_VQA(N_qubits=N,\n",
    "                                            cardinality=k,\n",
    "                                            layers=layer_dict[N],\n",
    "                                            topology=my_topology,\n",
    "                                            with_next_nearest_neighbors=w_nnn,\n",
    "                                            approximate_hamiltonian=True,\n",
    "                                            qubo=qubo)\n",
    "             \n",
    "            \n",
    "             # Generating initial guess for rotation angles\n",
    "            np.random.seed(start_seed)\n",
    "            theta_min, theta_max = -2*np.pi, 2*np.pi\n",
    "            N_angles = layer_dict[N] * len(my_topology.get_NNN_indices()) if w_nnn else layer_dict[N] * len(my_topology.get_NN_indices())\n",
    "            CPVQA_theta_i = np.random.uniform(-2*np.pi, 2*np.pi, N_angles)\n",
    "            QAOA_theta_i = np.random.uniform(-2*np.pi, 2*np.pi, 2*layer_dict[N])\n",
    "            \n",
    "            \n",
    "            qiskit_sim_reduced = sc.optimize.minimize(fun=qiskit_ansatz_reduced.get_cost, \n",
    "                                                      x0=CPVQA_theta_i,\n",
    "                                                      method=optimizer_method,\n",
    "                                                      options={'disp': False, \n",
    "                                                                'maxiter': max_iter},\n",
    "                                                      callback=qiskit_ansatz_reduced.callback)\n",
    "            reduced_norm_c = np.min(qiskit_ansatz_reduced.normalized_costs)\n",
    "            reduced_norm_p = np.max(qiskit_ansatz_reduced.opt_state_probabilities)\n",
    "            qiskit_reduced_res[N].append([reduced_norm_c,reduced_norm_p])     \n",
    "            \n",
    "            \n",
    "            qaoa_sim_reduced = sc.optimize.minimize(fun=qiskit_ansatz_qaoa.get_cost, \n",
    "                                                      x0=QAOA_theta_i,\n",
    "                                                      method=optimizer_method,\n",
    "                                                      options={'disp': False, \n",
    "                                                                'maxiter': max_iter},\n",
    "                                                      callback=qiskit_ansatz_qaoa.callback)\n",
    "            qaoa_norm_c = np.min(qiskit_ansatz_qaoa.normalized_costs)\n",
    "            qaoa_norm_p = np.max(qiskit_ansatz_qaoa.opt_state_probabilities)\n",
    "            qiskit_qaoa_res[N].append([qaoa_norm_c,qaoa_norm_p])   \n",
    "            \n",
    "        start_seed += 1"
   ],
   "metadata": {
    "collapsed": false,
    "ExecuteTime": {
     "end_time": "2024-02-15T21:51:13.721570Z",
     "start_time": "2024-02-15T21:46:08.720371Z"
    }
   },
   "id": "240879f42ac00ed1",
   "execution_count": 79
  },
  {
   "cell_type": "code",
   "execution_count": 80,
   "outputs": [
    {
     "data": {
      "text/plain": "<Figure size 500x300 with 1 Axes>",
      "image/png": "[encoded data removed]"
     },
     "metadata": {},
     "output_type": "display_data"
    }
   ],
   "source": [
    "fig, ax = plt.subplots(1,1,figsize=(5,3))\n",
    "N_vales = [N for N in range(N_min,N_max+1)]\n",
    "ax.errorbar(N_vales, [np.mean(np.array(qiskit_qaoa_res[N])[:,0]) for N in N_vales], [np.std(np.array(qiskit_qaoa_res[N])[:,0]) for N in N_vales], label='QAOA', capsize=3, fmt='.', ms=10)\n",
    "ax.errorbar(N_vales, [np.mean(np.array(qiskit_reduced_res[N])[:,0]) for N in N_vales], [np.std(np.array(qiskit_reduced_res[N])[:,0]) for N in N_vales], label='CPVQA', capsize=3, fmt='.', ms=10)\n",
    "ax.set_xticks(N_vales)\n",
    "ax.legend()\n",
    "plt.show()"
   ],
   "metadata": {
    "collapsed": false,
    "ExecuteTime": {
     "end_time": "2024-02-15T21:51:17.851689Z",
     "start_time": "2024-02-15T21:51:17.783246Z"
    }
   },
   "id": "8ec010d7affb87a1"
  },
  {
   "cell_type": "code",
   "execution_count": 81,
   "outputs": [
    {
     "data": {
      "text/plain": "<Figure size 500x300 with 1 Axes>",
      "image/png": "[encoded data removed]"
     },
     "metadata": {},
     "output_type": "display_data"
    }
   ],
   "source": [
    "fig, ax = plt.subplots(1,1,figsize=(5,3))\n",
    "N_vales = [N for N in range(N_min,N_max+1)]\n",
    "ax.errorbar(N_vales, [np.mean(np.array(qiskit_qaoa_res[N])[:,1]) for N in N_vales], [np.std(np.array(qiskit_qaoa_res[N])[:,1]) for N in N_vales], label='QAOA', capsize=3, fmt='.', ms=10)\n",
    "ax.errorbar(N_vales, [np.mean(np.array(qiskit_reduced_res[N])[:,1]) for N in N_vales], [np.std(np.array(qiskit_reduced_res[N])[:,1]) for N in N_vales], label='CPVQA', capsize=3, fmt='.', ms=10)\n",
    "ax.set_xticks(N_vales)\n",
    "ax.legend()\n",
    "plt.show()"
   ],
   "metadata": {
    "collapsed": false,
    "ExecuteTime": {
     "end_time": "2024-02-15T21:51:21.367319Z",
     "start_time": "2024-02-15T21:51:21.293367Z"
    }
   },
   "id": "8fa919a600e98a3a"
  },
  {
   "cell_type": "code",
   "execution_count": null,
   "outputs": [],
   "source": [],
   "metadata": {
    "collapsed": false
   },
   "id": "859272db576a1da7"
  }
 ],
 "metadata": {
  "kernelspec": {
   "display_name": "Python 3",
   "language": "python",
   "name": "python3"
  },
  "language_info": {
   "codemirror_mode": {
    "name": "ipython",
    "version": 2
   },
   "file_extension": ".py",
   "mimetype": "text/x-python",
   "name": "python",
   "nbconvert_exporter": "python",
   "pygments_lexer": "ipython2",
   "version": "2.7.6"
  }
 },
 "nbformat": 4,
 "nbformat_minor": 5
}
