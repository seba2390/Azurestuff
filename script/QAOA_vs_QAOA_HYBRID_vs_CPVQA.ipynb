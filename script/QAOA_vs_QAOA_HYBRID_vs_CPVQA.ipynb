{
 "cells": [
  {
   "cell_type": "code",
   "execution_count": 1,
   "id": "initial_id",
   "metadata": {
    "collapsed": true,
    "ExecuteTime": {
     "end_time": "2024-02-21T14:24:00.964566100Z",
     "start_time": "2024-02-21T14:23:59.715881200Z"
    }
   },
   "outputs": [],
   "source": [
    "from math import comb, gamma\n",
    "\n",
    "import numpy as np\n",
    "import scipy as sc\n",
    "import matplotlib.pyplot as plt\n",
    "from joblib import Parallel, delayed\n",
    "\n",
    "from src.CP_VQA.Qulacs_CP_VQA import Qulacs_CP_VQA\n",
    "from src.QAOA_HYBRID.Qulacs_QAOA_HYBRID import Qulacs_QAOA_HYBRID\n",
    "from src.QAOA.Qulacs_QAOA import Qulacs_QAOA\n",
    "\n",
    "from src.Chain import Chain\n",
    "from src.Qubo import Qubo\n",
    "from src.Tools import (portfolio_metrics, \n",
    "                       min_cost_partition, \n",
    "                       get_qubo, \n",
    "                       check_qubo)"
   ]
  },
  {
   "cell_type": "code",
   "outputs": [],
   "source": [
    "def simulate(settings: dict):\n",
    "    # Generating random problem instance \n",
    "    expected_returns, covariances = portfolio_metrics(n=settings['N'], seed=settings['seed'])\n",
    "    # Retrieving C_min, C_max and corresponding states for original portfolio problem\n",
    "    constrained_result, full_result, lmbda = min_cost_partition(nr_qubits=settings['N'],\n",
    "                                                                k=settings['k'],\n",
    "                                                                mu=expected_returns,\n",
    "                                                                sigma=covariances,\n",
    "                                                                alpha=settings['alpha'])\n",
    "\n",
    "    # Generating QUBO corresponding to current problem instance\n",
    "    Q, offset = get_qubo(mu=expected_returns,\n",
    "                         sigma=covariances, \n",
    "                         alpha=settings['alpha'],\n",
    "                         lmbda=lmbda+1, # Adding small constant purposely\n",
    "                         k=settings['k'])\n",
    "    qubo = Qubo(Q=Q, offset=offset) \n",
    "    qubo.subspace_c_min, qubo.subspace_c_max = constrained_result['c_min'], constrained_result['c_max']\n",
    "    qubo.subspace_x_min, qubo.subspace_x_max = constrained_result['s_min'], constrained_result['s_max']\n",
    "    qubo.full_space_c_min, qubo.full_space_c_max = full_result['c_min'], full_result['c_max']\n",
    "    check_qubo(QUBO_matrix=Q, QUBO_offset=offset, expected_returns=expected_returns, covariances=covariances, alpha=settings['alpha'], k=settings['k'])\n",
    "     \n",
    "    \n",
    "    qaoa = Qulacs_QAOA(N_qubits=settings['N'],\n",
    "                       cardinality=settings['k'],\n",
    "                       layers=settings['L'],\n",
    "                       qubo=qubo)\n",
    "    \n",
    "    \n",
    "    cp_vqa = Qulacs_CP_VQA(N_qubits=settings['N'],\n",
    "                           cardinality=settings['k'],\n",
    "                           layers=settings['L'],\n",
    "                           topology=settings['topology'],\n",
    "                           get_full_state_vector=False,\n",
    "                           with_next_nearest_neighbors=settings['w_nnn'],\n",
    "                           qubo=qubo)\n",
    "    \n",
    "    qaoa_hybrid = Qulacs_QAOA_HYBRID(N_qubits=settings['N'],\n",
    "                           cardinality=settings['k'],\n",
    "                           layers=settings['L'],\n",
    "                           topology=settings['topology'],\n",
    "                           get_full_state_vector=False,\n",
    "                           with_next_nearest_neighbors=settings['w_nnn'],\n",
    "                           qubo=qubo)\n",
    "    \n",
    "     \n",
    "    \n",
    "     # Generating initial guess for rotation angles\n",
    "    np.random.seed(settings['seed'])\n",
    "    theta_min, theta_max = -2*np.pi, 2*np.pi\n",
    "    N_angles = settings['L'] * len(settings['topology'].get_NNN_indices()) if settings['w_nnn'] else settings['L'] * len(settings['topology'].get_NN_indices())\n",
    "    CPVQA_theta_i = np.random.uniform(theta_min, theta_max, N_angles)\n",
    "    QAOA_theta_i = np.random.uniform(theta_min, theta_max, 2*settings['L'])\n",
    "    \n",
    "    \n",
    "    qaoa_sim_res = sc.optimize.minimize(fun=qaoa.get_cost, \n",
    "                                        x0=QAOA_theta_i,\n",
    "                                        method=settings['opt_method'],\n",
    "                                        options={'disp': False, \n",
    "                                                 'maxiter': settings['max_iter']},\n",
    "                                        callback=qaoa.callback)\n",
    "    qaoa_norm_c = np.min(qaoa.normalized_costs)\n",
    "    qaoa_p = np.max(qaoa.opt_state_probabilities)    \n",
    "    \n",
    "    \n",
    "    cp_vqa_sim_res = sc.optimize.minimize(fun=cp_vqa.get_cost, \n",
    "                                          x0=CPVQA_theta_i,\n",
    "                                          method=settings['opt_method'],\n",
    "                                          options={'disp': False, \n",
    "                                                   'maxiter': settings['max_iter']},\n",
    "                                          callback=cp_vqa.callback)\n",
    "    cp_vqa_norm_c = np.min(cp_vqa.normalized_costs)\n",
    "    cp_vqa_p = np.max(cp_vqa.opt_state_probabilities)\n",
    "    \n",
    "    \n",
    "    qaoa_hybrid_sim_res = sc.optimize.minimize(fun=qaoa_hybrid.get_cost, \n",
    "                                          x0=QAOA_theta_i,\n",
    "                                          method=settings['opt_method'],\n",
    "                                          options={'disp': False, \n",
    "                                                   'maxiter': settings['max_iter']},\n",
    "                                          callback=qaoa_hybrid.callback)\n",
    "    qaoa_hybrid_norm_c = np.min(qaoa_hybrid.normalized_costs)\n",
    "    qaoa_hybrid_p = np.max(qaoa_hybrid.opt_state_probabilities)\n",
    "    \n",
    "    return  {'N':settings['N'],\n",
    "             'CP_VQA': {'c':cp_vqa_norm_c,'p':cp_vqa_p},\n",
    "             'QAOA': {'c':qaoa_norm_c,'p':qaoa_p},\n",
    "             'QAOA_HYBRID': {'c':qaoa_hybrid_norm_c,'p':qaoa_hybrid_p}}"
   ],
   "metadata": {
    "collapsed": false,
    "ExecuteTime": {
     "end_time": "2024-02-21T14:24:00.981318300Z",
     "start_time": "2024-02-21T14:24:00.961477100Z"
    }
   },
   "id": "bb6354eeb911cda0",
   "execution_count": 2
  },
  {
   "cell_type": "code",
   "outputs": [],
   "source": [
    "layer_dict = {2:1,  3:1,  4:1,\n",
    "              5:2,  6:2,  7:3,\n",
    "              8:5,  9:6,  10:6,\n",
    "              11:6, 12:7, 13:7,\n",
    "              14:8, 15:8, 16:5,\n",
    "              17:6, 18:6, 19:6, \n",
    "              20:7, 21:7, 22:7}\n",
    "\n",
    "max_iter_dict = {2: 400,   3:  500,  4:  600,\n",
    "                 5: 700,   6:  800,  7:  900,\n",
    "                 8: 1000,  9:  1100, 10: 1200,\n",
    "                 11: 1300, 12: 1400, 13: 1500,\n",
    "                 14: 1600, 15: 1700, 16: 1800,\n",
    "                 17: 1900, 18: 2000, 19: 2100,\n",
    "                 20: 2200, 21: 2300, 22: 2400}\n",
    "alpha=0.5\n",
    "N_seeds = 100\n",
    "N_min, N_max = 2,15\n",
    "sim_settings = []\n",
    "for seed in range(N_seeds):\n",
    "    for N in range(N_min, N_max+1):\n",
    "        topology = Chain(N_qubits=N)\n",
    "        topology.set_initialization_strategy(strategy=np.array([0 if i%2 == 0 else 1 for i in range(N)]))\n",
    "        setting = {'N'         :N,       'alpha'   :alpha,   'L'       :layer_dict[N], \n",
    "                   'seed'      :seed,    'topology':topology,'max_iter':max_iter_dict[N],\n",
    "                   'opt_method':'COBYLA','w_nnn'   :True,    'k'       :N//2}\n",
    "        sim_settings.append(setting)"
   ],
   "metadata": {
    "collapsed": false,
    "ExecuteTime": {
     "end_time": "2024-02-21T15:11:23.129076600Z",
     "start_time": "2024-02-21T15:11:23.111819800Z"
    }
   },
   "id": "88e528a8ae89a929",
   "execution_count": 46
  },
  {
   "cell_type": "code",
   "outputs": [
    {
     "name": "stdout",
     "output_type": "stream",
     "text": [
      "[Parallel(n_jobs=15)]: Using backend LokyBackend with 15 concurrent workers.\n",
      "[Parallel(n_jobs=15)]: Done   1 out of   1 | elapsed:    0.0s finished\n",
      "[Parallel(n_jobs=15)]: Batch computation too fast (0.04820728302001953s.) Setting batch_size=2.\n",
      "[Parallel(n_jobs=15)]: Done   2 tasks      | elapsed:    0.0s\n",
      "[Parallel(n_jobs=15)]: Done   3 tasks      | elapsed:    0.0s\n",
      "[Parallel(n_jobs=15)]: Done   4 tasks      | elapsed:    0.5s\n",
      "[Parallel(n_jobs=15)]: Done   5 tasks      | elapsed:    1.5s\n",
      "[Parallel(n_jobs=15)]: Done   6 tasks      | elapsed:    2.1s\n",
      "[Parallel(n_jobs=15)]: Done   7 tasks      | elapsed:    2.2s\n",
      "[Parallel(n_jobs=15)]: Done   8 tasks      | elapsed:    2.2s\n",
      "[Parallel(n_jobs=15)]: Done   9 tasks      | elapsed:    2.2s\n",
      "[Parallel(n_jobs=15)]: Done  10 tasks      | elapsed:    2.4s\n",
      "[Parallel(n_jobs=15)]: Done  11 tasks      | elapsed:    4.2s\n",
      "[Parallel(n_jobs=15)]: Done  12 tasks      | elapsed:    4.7s\n",
      "[Parallel(n_jobs=15)]: Done  13 tasks      | elapsed:    8.5s\n",
      "[Parallel(n_jobs=15)]: Done  14 tasks      | elapsed:    8.6s\n",
      "[Parallel(n_jobs=15)]: Done  15 tasks      | elapsed:    8.7s\n",
      "[Parallel(n_jobs=15)]: Done  16 tasks      | elapsed:    8.7s\n",
      "[Parallel(n_jobs=15)]: Done  18 tasks      | elapsed:    9.0s\n",
      "[Parallel(n_jobs=15)]: Batch computation too slow (9.021161556243896s.) Setting batch_size=1.\n",
      "[Parallel(n_jobs=15)]: Done  20 tasks      | elapsed:   12.9s\n",
      "[Parallel(n_jobs=15)]: Done  21 tasks      | elapsed:   17.1s\n",
      "[Parallel(n_jobs=15)]: Done  22 tasks      | elapsed:   17.3s\n",
      "[Parallel(n_jobs=15)]: Done  23 tasks      | elapsed:   20.8s\n",
      "[Parallel(n_jobs=15)]: Done  24 tasks      | elapsed:   23.3s\n",
      "[Parallel(n_jobs=15)]: Done  26 tasks      | elapsed:   23.3s\n",
      "[Parallel(n_jobs=15)]: Done  28 tasks      | elapsed:   23.8s\n",
      "[Parallel(n_jobs=15)]: Done  30 tasks      | elapsed:   26.5s\n",
      "[Parallel(n_jobs=15)]: Done  31 tasks      | elapsed:   29.4s\n",
      "[Parallel(n_jobs=15)]: Done  32 tasks      | elapsed:   35.4s\n",
      "[Parallel(n_jobs=15)]: Done  34 tasks      | elapsed:   36.6s\n"
     ]
    }
   ],
   "source": [
    "N_jobs=15\n",
    "r = Parallel(n_jobs=N_jobs, verbose=51, backend='loky')(delayed(simulate)(setting) for setting in sim_settings)\n"
   ],
   "metadata": {
    "collapsed": false,
    "is_executing": true,
    "ExecuteTime": {
     "start_time": "2024-02-21T15:11:24.386081600Z"
    }
   },
   "id": "a406aeed46a4f16b",
   "execution_count": null
  },
  {
   "cell_type": "code",
   "outputs": [],
   "source": [
    "N_vals = [N for N in range(N_min,N_max+1)]\n",
    "qaoa_res, cp_vqa_res, qaoa_hybrid_res = {N:[] for N in N_vals}, {N:[] for N in N_vals}, {N:[] for N in N_vals}\n",
    "for result in r:\n",
    "    qaoa_res[result['N']].append([result['QAOA']['c'],result['QAOA']['p']])\n",
    "    cp_vqa_res[result['N']].append([result['CP_VQA']['c'],result['CP_VQA']['p']])\n",
    "    qaoa_hybrid_res[result['N']].append([result['QAOA_HYBRID']['c'],result['QAOA_HYBRID']['p']])"
   ],
   "metadata": {
    "collapsed": false,
    "ExecuteTime": {
     "end_time": "2024-02-21T15:07:16.953195100Z",
     "start_time": "2024-02-21T15:07:16.932770700Z"
    }
   },
   "id": "e59fe11fb5e276a2",
   "execution_count": 40
  },
  {
   "cell_type": "code",
   "outputs": [],
   "source": [
    "def exponential_decay(x):\n",
    "    return 1.0 / (2**(x-1))\n",
    "def continuous_binomial_decay(x,k):\n",
    "    return 1.0 / (gamma(x+1) / (gamma(k+1) * gamma(x-k+1)))   "
   ],
   "metadata": {
    "collapsed": false,
    "ExecuteTime": {
     "end_time": "2024-02-21T15:07:17.501806300Z",
     "start_time": "2024-02-21T15:07:17.488544800Z"
    }
   },
   "id": "740ffb719892e08b",
   "execution_count": 41
  },
  {
   "cell_type": "code",
   "outputs": [],
   "source": [
    "plt.rc(\"font\", family=[\"Helvetica\", \"Arial\"])\n",
    "plt.rc(\"text\", usetex=True)\n",
    "plt.rcParams['text.latex.preamble'] = r'\\usepackage{amsmath}\\usepackage{amssymb}\\usepackage{physics}'\n",
    "plt.rc(\"xtick\", top=True, direction=\"in\")\n",
    "plt.rc(\"ytick\", right=True, direction=\"in\")"
   ],
   "metadata": {
    "collapsed": false,
    "ExecuteTime": {
     "end_time": "2024-02-21T15:07:18.134903300Z",
     "start_time": "2024-02-21T15:07:18.109658600Z"
    }
   },
   "id": "61341013ceee2add",
   "execution_count": 42
  },
  {
   "cell_type": "code",
   "execution_count": 43,
   "outputs": [
    {
     "data": {
      "text/plain": "<Figure size 1500x400 with 2 Axes>",
      "image/png": "[encoded data removed]"
     },
     "metadata": {},
     "output_type": "display_data"
    }
   ],
   "source": [
    "fig, ax = plt.subplots(1,2,figsize=(15,4))\n",
    "N_vales = [N for N in range(N_min,N_max+1)]\n",
    "ax[0].errorbar(N_vales, [1-np.mean(np.array(qaoa_res[N])[:,0]) for N in N_vales], [np.std(np.array(qaoa_res[N])[:,0]) for N in N_vales], \n",
    "               label='QAOA', capsize=3, fmt='.', ms=10)\n",
    "\n",
    "ax[0].errorbar(N_vales, [1-np.mean(np.array(cp_vqa_res[N])[:,0]) for N in N_vales], [np.std(np.array(cp_vqa_res[N])[:,0]) for N in N_vales], label='CP-VQA', capsize=3, fmt='.', ms=10)\n",
    "\n",
    "ax[0].errorbar(N_vales, [1-np.mean(np.array(qaoa_hybrid_res[N])[:,0]) for N in N_vales], [np.std(np.array(qaoa_hybrid_res[N])[:,0]) for N in N_vales], label='QAOA-HYBRID', capsize=3, fmt='.', ms=10)\n",
    "\n",
    "ax[1].errorbar(N_vales, [np.mean(np.array(qaoa_res[N])[:,1]) for N in N_vales], [np.std(np.array(qaoa_res[N])[:,1]) for N in N_vales], label='QAOA', capsize=3, fmt='.', ms=10)\n",
    "ax[1].errorbar(N_vales, [np.mean(np.array(cp_vqa_res[N])[:,1]) for N in N_vales], [np.std(np.array(cp_vqa_res[N])[:,1]) for N in N_vales], label='CP-VQA', capsize=3, fmt='.', ms=10)\n",
    "ax[1].errorbar(N_vales, [np.mean(np.array(qaoa_hybrid_res[N])[:,1]) for N in N_vales], [np.std(np.array(qaoa_hybrid_res[N])[:,1]) for N in N_vales], label='QAOA-HYBRID', capsize=3, fmt='.', ms=10)\n",
    "\n",
    "xs = np.linspace(min(N_vales), max(N_vales),100)\n",
    "#ax[1].plot(xs,exponential_decay(xs),ls='--', label=r'$2^{-(N-1)}$')\n",
    "ax[1].plot(xs,[continuous_binomial_decay(N,N/2) for N in xs],ls='--', label=r'$\\binom{N}{k}^{-1}$')\n",
    "\n",
    "\n",
    "ax[0].set_ylabel('Normalized cost', size=20)\n",
    "ax[1].set_ylabel('Ground state probability', size=19)\n",
    "for i in range(2):\n",
    "    ax[i].set_ylim(-0.25,1.25)\n",
    "    ax[i].set_xticks(N_vales)\n",
    "    ax[i].set_xlabel('Portfolio size (\\# Qubits)', size=15)\n",
    "    ax[i].legend()\n",
    "plt.show()"
   ],
   "metadata": {
    "collapsed": false,
    "ExecuteTime": {
     "end_time": "2024-02-21T15:07:19.533235Z",
     "start_time": "2024-02-21T15:07:19.077874400Z"
    }
   },
   "id": "8ec010d7affb87a1"
  },
  {
   "cell_type": "code",
   "outputs": [
    {
     "data": {
      "text/plain": "[0.9999999701976776,\n 0.9999931454658508,\n 0.9999265074729919,\n 0.9999898076057434,\n 0.9997250139713287,\n 0.9981290996074677,\n 0.7909412682056427,\n 0.4583687111735344,\n 0.639725923538208,\n 0.8966314792633057,\n 0.37421349063515663,\n 0.23674187622964382,\n 0.7338217794895172,\n 0.002333992742933333]"
     },
     "execution_count": 45,
     "metadata": {},
     "output_type": "execute_result"
    }
   ],
   "source": [
    "[np.mean(np.array(cp_vqa_res[N])[:,1]) for N in N_vales]"
   ],
   "metadata": {
    "collapsed": false,
    "ExecuteTime": {
     "end_time": "2024-02-21T15:08:05.818552300Z",
     "start_time": "2024-02-21T15:08:05.810967600Z"
    }
   },
   "id": "a333e7f71ed789c3",
   "execution_count": 45
  },
  {
   "cell_type": "code",
   "outputs": [],
   "source": [],
   "metadata": {
    "collapsed": false
   },
   "id": "9974d86270586d25"
  }
 ],
 "metadata": {
  "kernelspec": {
   "display_name": "Python 3",
   "language": "python",
   "name": "python3"
  },
  "language_info": {
   "codemirror_mode": {
    "name": "ipython",
    "version": 2
   },
   "file_extension": ".py",
   "mimetype": "text/x-python",
   "name": "python",
   "nbconvert_exporter": "python",
   "pygments_lexer": "ipython2",
   "version": "2.7.6"
  }
 },
 "nbformat": 4,
 "nbformat_minor": 5
}
