{
 "cells": [
  {
   "cell_type": "code",
   "execution_count": 2,
   "id": "initial_id",
   "metadata": {
    "collapsed": true,
    "ExecuteTime": {
     "end_time": "2024-02-21T19:01:22.275363Z",
     "start_time": "2024-02-21T19:01:22.261116Z"
    }
   },
   "outputs": [],
   "source": [
    "from math import gamma\n",
    "\n",
    "import numpy as np\n",
    "import scipy as sc\n",
    "import matplotlib.pyplot as plt\n",
    "from joblib import Parallel, delayed\n",
    "\n",
    "from src.CP_VQA.Qulacs_CP_VQA import Qulacs_CP_VQA\n",
    "from src.QAOA_HYBRID.Qulacs_QAOA_HYBRID import Qulacs_QAOA_HYBRID\n",
    "from src.QAOA.Qulacs_QAOA import Qulacs_QAOA\n",
    "\n",
    "from src.Chain import Chain\n",
    "from src.Qubo import Qubo\n",
    "from src.Tools import (portfolio_metrics, \n",
    "                       min_cost_partition, \n",
    "                       get_qubo, \n",
    "                       check_qubo)"
   ]
  },
  {
   "cell_type": "code",
   "outputs": [],
   "source": [
    "def simulate(settings: dict):\n",
    "    # Generating random problem instance \n",
    "    expected_returns, covariances = portfolio_metrics(n=settings['N'], seed=settings['seed'])\n",
    "    # Retrieving C_min, C_max and corresponding states for original portfolio problem\n",
    "    constrained_result, full_result, lmbda = min_cost_partition(nr_qubits=settings['N'],\n",
    "                                                                k=settings['k'],\n",
    "                                                                mu=expected_returns,\n",
    "                                                                sigma=covariances,\n",
    "                                                                alpha=settings['alpha'])\n",
    "\n",
    "    # Generating QUBO corresponding to current problem instance\n",
    "    Q, offset = get_qubo(mu=expected_returns,\n",
    "                         sigma=covariances, \n",
    "                         alpha=settings['alpha'],\n",
    "                         lmbda=lmbda+1, # Adding small constant purposely\n",
    "                         k=settings['k'])\n",
    "    qubo = Qubo(Q=Q, offset=offset) \n",
    "    qubo.subspace_c_min, qubo.subspace_c_max = constrained_result['c_min'], constrained_result['c_max']\n",
    "    qubo.subspace_x_min, qubo.subspace_x_max = constrained_result['s_min'], constrained_result['s_max']\n",
    "    qubo.full_space_c_min, qubo.full_space_c_max = full_result['c_min'], full_result['c_max']\n",
    "    check_qubo(QUBO_matrix=Q, QUBO_offset=offset, expected_returns=expected_returns, covariances=covariances, alpha=settings['alpha'], k=settings['k'])\n",
    "     \n",
    "    \n",
    "    qaoa = Qulacs_QAOA(N_qubits=settings['N'],\n",
    "                       cardinality=settings['k'],\n",
    "                       layers=settings['L'],\n",
    "                       qubo=qubo)\n",
    "    \n",
    "    \n",
    "    cp_vqa = Qulacs_CP_VQA(N_qubits=settings['N'],\n",
    "                           cardinality=settings['k'],\n",
    "                           layers=settings['L'],\n",
    "                           topology=settings['topology'],\n",
    "                           get_full_state_vector=False,\n",
    "                           with_next_nearest_neighbors=settings['w_nnn'],\n",
    "                           qubo=qubo)\n",
    "    \n",
    "    qaoa_hybrid = Qulacs_QAOA_HYBRID(N_qubits=settings['N'],\n",
    "                           cardinality=settings['k'],\n",
    "                           layers=settings['L'],\n",
    "                           topology=settings['topology'],\n",
    "                           get_full_state_vector=False,\n",
    "                           with_next_nearest_neighbors=settings['w_nnn'],\n",
    "                           qubo=qubo)\n",
    "    \n",
    "     \n",
    "    \n",
    "     # Generating initial guess for rotation angles\n",
    "    np.random.seed(settings['seed'])\n",
    "    theta_min, theta_max = -2*np.pi, 2*np.pi\n",
    "    N_angles = settings['L'] * len(settings['topology'].get_NNN_indices()) if settings['w_nnn'] else settings['L'] * len(settings['topology'].get_NN_indices())\n",
    "    CPVQA_theta_i = np.random.uniform(theta_min, theta_max, N_angles)\n",
    "    QAOA_theta_i = np.random.uniform(theta_min, theta_max, 2*settings['L'])\n",
    "    \n",
    "    \n",
    "    qaoa_sim_res = sc.optimize.minimize(fun=qaoa.get_cost, \n",
    "                                        x0=QAOA_theta_i,\n",
    "                                        method=settings['opt_method'],\n",
    "                                        options={'disp': False, \n",
    "                                                 'maxiter': settings['max_iter']},\n",
    "                                        callback=qaoa.callback)\n",
    "    qaoa_norm_c = np.min(qaoa.normalized_costs)\n",
    "    qaoa_p = np.max(qaoa.opt_state_probabilities)    \n",
    "    \n",
    "    \n",
    "    cp_vqa_sim_res = sc.optimize.minimize(fun=cp_vqa.get_cost, \n",
    "                                          x0=CPVQA_theta_i,\n",
    "                                          method=settings['opt_method'],\n",
    "                                          options={'disp': False, \n",
    "                                                   'maxiter': settings['max_iter']},\n",
    "                                          callback=cp_vqa.callback)\n",
    "    cp_vqa_norm_c = np.min(cp_vqa.normalized_costs)\n",
    "    cp_vqa_p = np.max(cp_vqa.opt_state_probabilities)\n",
    "    \n",
    "    \n",
    "    qaoa_hybrid_sim_res = sc.optimize.minimize(fun=qaoa_hybrid.get_cost, \n",
    "                                          x0=QAOA_theta_i,\n",
    "                                          method=settings['opt_method'],\n",
    "                                          options={'disp': False, \n",
    "                                                   'maxiter': settings['max_iter']},\n",
    "                                          callback=qaoa_hybrid.callback)\n",
    "    qaoa_hybrid_norm_c = np.min(qaoa_hybrid.normalized_costs)\n",
    "    qaoa_hybrid_p = np.max(qaoa_hybrid.opt_state_probabilities)\n",
    "    \n",
    "    return  {'N':settings['N'],\n",
    "             'CP_VQA': {'c':cp_vqa_norm_c,'p':cp_vqa_p},\n",
    "             'QAOA': {'c':qaoa_norm_c,'p':qaoa_p},\n",
    "             'QAOA_HYBRID': {'c':qaoa_hybrid_norm_c,'p':qaoa_hybrid_p}}"
   ],
   "metadata": {
    "collapsed": false,
    "ExecuteTime": {
     "end_time": "2024-02-21T19:01:25.077382Z",
     "start_time": "2024-02-21T19:01:25.069058Z"
    }
   },
   "id": "bb6354eeb911cda0",
   "execution_count": 3
  },
  {
   "cell_type": "code",
   "outputs": [],
   "source": [
    "\"\"\"layer_dict = {2:1,  3:1,  4:1,\n",
    "              5:2,  6:2,  7:2,\n",
    "              8:3,  9:3,  10:3,\n",
    "              11:4, 12:4, 13:4,\n",
    "              14:5, 15:5, 16:5,\n",
    "              17:6, 18:6, 19:6, \n",
    "              20:4, 21:7, 22:7}\"\"\"\n",
    "\n",
    "layer_dict = {2:2,  3:2,  4:2,\n",
    "              5:2,  6:2,  7:2,\n",
    "              8:2,  9:2,  10:2,\n",
    "              11:2, 12:3, 13:3,\n",
    "              14:3, 15:3, 16:3,\n",
    "              17:3, 18:3, 19:3, \n",
    "              20:4, 21:7, 22:7}\n",
    "\n",
    "max_iter_dict = {2: 400,   3:  500,  4:  600,\n",
    "                 5: 700,   6:  800,  7:  900,\n",
    "                 8: 1000,  9:  1100, 10: 1200,\n",
    "                 11: 1300, 12: 1400, 13: 1500,\n",
    "                 14: 1600, 15: 1700, 16: 1800,\n",
    "                 17: 1900, 18: 2000, 19: 2100,\n",
    "                 20: 2200, 21: 2300, 22: 2400}\n",
    "alpha=0.5\n",
    "N_seeds = 5\n",
    "N_min, N_max = 2,20\n",
    "sim_settings = []\n",
    "for seed in range(N_seeds):\n",
    "    for N in range(N_min, N_max+1):\n",
    "        topology = Chain(N_qubits=N)\n",
    "        topology.set_initialization_strategy(strategy=np.array([0 if i%2 == 0 else 1 for i in range(N)]))\n",
    "        setting = {'N'         :N,       'alpha'   :alpha,   'L'       :layer_dict[N], \n",
    "                   'seed'      :seed,    'topology':topology,'max_iter':max_iter_dict[N],\n",
    "                   'opt_method':'COBYLA','w_nnn'   :True,    'k'       :N//2}\n",
    "        sim_settings.append(setting)"
   ],
   "metadata": {
    "collapsed": false,
    "ExecuteTime": {
     "end_time": "2024-02-21T21:01:05.695812Z",
     "start_time": "2024-02-21T21:01:05.685832Z"
    }
   },
   "id": "88e528a8ae89a929",
   "execution_count": 29
  },
  {
   "cell_type": "code",
   "outputs": [
    {
     "name": "stdout",
     "output_type": "stream",
     "text": [
      "[Parallel(n_jobs=7)]: Using backend LokyBackend with 7 concurrent workers.\n",
      "[Parallel(n_jobs=7)]: Done   1 tasks      | elapsed:    0.9s\n",
      "[Parallel(n_jobs=7)]: Done   2 tasks      | elapsed:    1.0s\n",
      "[Parallel(n_jobs=7)]: Done   3 tasks      | elapsed:    1.0s\n",
      "[Parallel(n_jobs=7)]: Done   4 tasks      | elapsed:    1.1s\n",
      "[Parallel(n_jobs=7)]: Done   5 tasks      | elapsed:    1.4s\n",
      "[Parallel(n_jobs=7)]: Done   6 tasks      | elapsed:    1.4s\n",
      "[Parallel(n_jobs=7)]: Done   7 tasks      | elapsed:    2.5s\n",
      "[Parallel(n_jobs=7)]: Done   8 tasks      | elapsed:    4.6s\n",
      "[Parallel(n_jobs=7)]: Done   9 tasks      | elapsed:    4.8s\n",
      "[Parallel(n_jobs=7)]: Done  10 tasks      | elapsed:    7.3s\n",
      "[Parallel(n_jobs=7)]: Done  11 tasks      | elapsed:   26.0s\n",
      "[Parallel(n_jobs=7)]: Done  12 tasks      | elapsed:   34.3s\n",
      "[Parallel(n_jobs=7)]: Done  13 tasks      | elapsed:   50.8s\n",
      "[Parallel(n_jobs=7)]: Done  14 tasks      | elapsed:   50.8s\n",
      "[Parallel(n_jobs=7)]: Done  15 tasks      | elapsed:   50.8s\n",
      "[Parallel(n_jobs=7)]: Done  16 tasks      | elapsed:   50.9s\n",
      "[Parallel(n_jobs=7)]: Done  17 tasks      | elapsed:   51.0s\n",
      "[Parallel(n_jobs=7)]: Done  18 tasks      | elapsed:   51.3s\n",
      "[Parallel(n_jobs=7)]: Done  19 tasks      | elapsed:   51.9s\n",
      "[Parallel(n_jobs=7)]: Done  20 tasks      | elapsed:   53.4s\n",
      "[Parallel(n_jobs=7)]: Done  21 tasks      | elapsed:   57.0s\n",
      "[Parallel(n_jobs=7)]: Done  22 tasks      | elapsed:   58.6s\n",
      "[Parallel(n_jobs=7)]: Done  23 tasks      | elapsed:  1.1min\n",
      "[Parallel(n_jobs=7)]: Done  24 tasks      | elapsed:  1.3min\n",
      "[Parallel(n_jobs=7)]: Done  25 tasks      | elapsed:  2.0min\n",
      "[Parallel(n_jobs=7)]: Done  26 tasks      | elapsed:  2.2min\n",
      "[Parallel(n_jobs=7)]: Done  27 tasks      | elapsed:  2.9min\n",
      "[Parallel(n_jobs=7)]: Done  28 tasks      | elapsed:  3.5min\n",
      "[Parallel(n_jobs=7)]: Done  29 tasks      | elapsed:  4.6min\n"
     ]
    },
    {
     "name": "stderr",
     "output_type": "stream",
     "text": [
      "capi_return is NULL\n",
      "Call-back cb_calcfc_in__cobyla__user__routines failed.\n",
      "Fatal Python error: F2PySwapThreadLocalCallbackPtr: F2PySwapThreadLocalCallbackPtr: PyLong_AsVoidPtr failed\n",
      "Python runtime state: initialized\n",
      "capi_return is NULL\n",
      "Call-back cb_calcfc_in__cobyla__user__routines failed.\n",
      "Fatal Python error: F2PySwapThreadLocalCallbackPtr: F2PySwapThreadLocalCallbackPtr: PyLong_AsVoidPtr failed\n",
      "Python runtime state: initialized\n",
      "Traceback (most recent call last):\n",
      "Traceback (most recent call last):\n",
      "  File \"/Users/sebastianyde/miniforge3/lib/python3.10/site-packages/scipy/optimize/_cobyla_py.py\", line 281, in calcfc\n",
      "  File \"/Users/sebastianyde/miniforge3/lib/python3.10/site-packages/scipy/optimize/_cobyla_py.py\", line 281, in calcfc\n",
      "capi_return is NULL\n",
      "Call-back cb_calcfc_in__cobyla__user__routines failed.\n",
      "capi_return is NULL\n",
      "Call-back cb_calcfc_in__cobyla__user__routines failed.\n",
      "Fatal Python error: F2PySwapThreadLocalCallbackPtr: F2PySwapThreadLocalCallbackPtr: PyLong_AsVoidPtr failed\n",
      "Python runtime state: initialized\n",
      "Traceback (most recent call last):\n",
      "  File \"/Users/sebastianyde/miniforge3/lib/python3.10/site-packages/scipy/optimize/_cobyla_py.py\", line 281, in calcfc\n",
      "Fatal Python error: F2PySwapThreadLocalCallbackPtr: F2PySwapThreadLocalCallbackPtr: PyLong_AsVoidPtr failed\n",
      "Python runtime state: initialized\n",
      "Traceback (most recent call last):\n",
      "  File \"/Users/sebastianyde/miniforge3/lib/python3.10/site-packages/scipy/optimize/_cobyla_py.py\", line 281, in calcfc\n",
      "    f = sf.fun(x)\n",
      "  File \"/Users/sebastianyde/miniforge3/lib/python3.10/site-packages/scipy/optimize/_differentiable_functions.py\", line 267, in fun\n",
      "    f = sf.fun(x)\n",
      "  File \"/Users/sebastianyde/miniforge3/lib/python3.10/site-packages/scipy/optimize/_differentiable_functions.py\", line 267, in fun\n",
      "    f = sf.fun(x)\n",
      "  File \"/Users/sebastianyde/miniforge3/lib/python3.10/site-packages/scipy/optimize/_differentiable_functions.py\", line 267, in fun\n",
      "    f = sf.fun(x)\n",
      "  File \"/Users/sebastianyde/miniforge3/lib/python3.10/site-packages/scipy/optimize/_differentiable_functions.py\", line 267, in fun\n",
      "capi_return is NULL\n",
      "Call-back cb_calcfc_in__cobyla__user__routines failed.\n",
      "Fatal Python error: F2PySwapThreadLocalCallbackPtr: F2PySwapThreadLocalCallbackPtr: PyLong_AsVoidPtr failed\n",
      "Python runtime state: initialized\n",
      "Traceback (most recent call last):\n",
      "  File \"/Users/sebastianyde/miniforge3/lib/python3.10/site-packages/scipy/optimize/_cobyla_py.py\", line 281, in calcfc\n",
      "    self._update_fun()\n",
      "  File \"/Users/sebastianyde/miniforge3/lib/python3.10/site-packages/scipy/optimize/_differentiable_functions.py\", line 251, in _update_fun\n",
      "    self._update_fun()\n",
      "  File \"/Users/sebastianyde/miniforge3/lib/python3.10/site-packages/scipy/optimize/_differentiable_functions.py\", line 251, in _update_fun\n",
      "    self._update_fun()\n",
      "  File \"/Users/sebastianyde/miniforge3/lib/python3.10/site-packages/scipy/optimize/_differentiable_functions.py\", line 251, in _update_fun\n",
      "    self._update_fun_impl()\n",
      "    self._update_fun_impl()\n",
      "  File \"/Users/sebastianyde/miniforge3/lib/python3.10/site-packages/scipy/optimize/_differentiable_functions.py\", line 155, in update_fun\n",
      "  File \"/Users/sebastianyde/miniforge3/lib/python3.10/site-packages/scipy/optimize/_differentiable_functions.py\", line 155, in update_fun\n",
      "    self._update_fun_impl()\n",
      "  File \"/Users/sebastianyde/miniforge3/lib/python3.10/site-packages/scipy/optimize/_differentiable_functions.py\", line 155, in update_fun\n",
      "    self.f = fun_wrapped(self.x)\n",
      "  File \"/Users/sebastianyde/miniforge3/lib/python3.10/site-packages/scipy/optimize/_differentiable_functions.py\", line 137, in fun_wrapped\n",
      "    self.f = fun_wrapped(self.x)\n",
      "  File \"/Users/sebastianyde/miniforge3/lib/python3.10/site-packages/scipy/optimize/_differentiable_functions.py\", line 137, in fun_wrapped\n",
      "    f = sf.fun(x)\n",
      "  File \"/Users/sebastianyde/miniforge3/lib/python3.10/site-packages/scipy/optimize/_differentiable_functions.py\", line 267, in fun\n",
      "    self.f = fun_wrapped(self.x)\n",
      "  File \"/Users/sebastianyde/miniforge3/lib/python3.10/site-packages/scipy/optimize/_differentiable_functions.py\", line 137, in fun_wrapped\n",
      "    self._update_fun()\n",
      "    fx = fun(np.copy(x), *args)\n",
      "    fx = fun(np.copy(x), *args)\n",
      "  File \"/Users/sebastianyde/miniforge3/lib/python3.10/site-packages/scipy/optimize/_differentiable_functions.py\", line 251, in _update_fun\n",
      "  File \"/Users/sebastianyde/Library/CloudStorage/OneDrive-AarhusUniversitet/Div. Github projekter/Privat/Azurestuff/src/CP_VQA/Qulacs_CP_VQA.py\", line 101, in get_cost\n",
      "  File \"/Users/sebastianyde/Library/CloudStorage/OneDrive-AarhusUniversitet/Div. Github projekter/Privat/Azurestuff/src/CP_VQA/Qulacs_CP_VQA.py\", line 105, in get_cost\n",
      "    fx = fun(np.copy(x), *args)\n",
      "  File \"/Users/sebastianyde/Library/CloudStorage/OneDrive-AarhusUniversitet/Div. Github projekter/Privat/Azurestuff/src/CP_VQA/Qulacs_CP_VQA.py\", line 105, in get_cost\n",
      "    self._update_fun()\n",
      "  File \"/Users/sebastianyde/miniforge3/lib/python3.10/site-packages/scipy/optimize/_differentiable_functions.py\", line 251, in _update_fun\n",
      "    self._update_fun_impl()\n",
      "  File \"/Users/sebastianyde/miniforge3/lib/python3.10/site-packages/scipy/optimize/_differentiable_functions.py\", line 155, in update_fun\n",
      "    self.f = fun_wrapped(self.x)\n",
      "  File \"/Users/sebastianyde/miniforge3/lib/python3.10/site-packages/scipy/optimize/_differentiable_functions.py\", line 137, in fun_wrapped\n",
      "    self._update_fun_impl()\n",
      "  File \"/Users/sebastianyde/miniforge3/lib/python3.10/site-packages/scipy/optimize/_differentiable_functions.py\", line 155, in update_fun\n",
      "    fx = fun(np.copy(x), *args)\n",
      "  File \"/Users/sebastianyde/Library/CloudStorage/OneDrive-AarhusUniversitet/Div. Github projekter/Privat/Azurestuff/src/QAOA/Qulacs_QAOA.py\", line 123, in get_cost\n",
      "    self.f = fun_wrapped(self.x)\n",
      "  File \"/Users/sebastianyde/miniforge3/lib/python3.10/site-packages/scipy/optimize/_differentiable_functions.py\", line 137, in fun_wrapped\n",
      "    fx = fun(np.copy(x), *args)\n",
      "  File \"/Users/sebastianyde/Library/CloudStorage/OneDrive-AarhusUniversitet/Div. Github projekter/Privat/Azurestuff/src/CP_VQA/Qulacs_CP_VQA.py\", line 103, in get_cost\n",
      "    cost = np.mean([probability * qubo_cost(state=string_to_array(bitstring), QUBO_matrix=self.QUBO.Q) for\n",
      "  File \"/Users/sebastianyde/Library/CloudStorage/OneDrive-AarhusUniversitet/Div. Github projekter/Privat/Azurestuff/src/CP_VQA/Qulacs_CP_VQA.py\", line 105, in <listcomp>\n",
      "    self.counts = self.filter_small_probabilities(\n",
      "  File \"/Users/sebastianyde/Library/CloudStorage/OneDrive-AarhusUniversitet/Div. Github projekter/Privat/Azurestuff/src/CP_VQA/CP_VQA.py\", line 81, in filter_small_probabilities\n",
      "    probabilities = np.array([np.abs(state.get_amplitude(comp_basis=s)) ** 2 for s in self.states_ints],\n",
      "  File \"/Users/sebastianyde/Library/CloudStorage/OneDrive-AarhusUniversitet/Div. Github projekter/Privat/Azurestuff/src/CP_VQA/Qulacs_CP_VQA.py\", line 101, in <listcomp>\n",
      "    probabilities = np.array([np.abs(state.get_amplitude(comp_basis=s)) ** 2 for s in self.states_ints],\n",
      "    cost = np.mean([probability * qubo_cost(state=string_to_array(bitstring), QUBO_matrix=self.QUBO.Q) for\n",
      "  File \"/Users/sebastianyde/Library/CloudStorage/OneDrive-AarhusUniversitet/Div. Github projekter/Privat/Azurestuff/src/QAOA/Qulacs_QAOA.py\", line 123, in <listcomp>\n",
      "    cost = np.mean([probability * qubo_cost(state=string_to_array(bitstring), QUBO_matrix=self.QUBO.Q) for\n",
      "  File \"/Users/sebastianyde/Library/CloudStorage/OneDrive-AarhusUniversitet/Div. Github projekter/Privat/Azurestuff/src/Tools.py\", line 14, in string_to_array\n",
      "KeyboardInterrupt\n",
      "    cost = np.mean([probability * qubo_cost(state=string_to_array(bitstring), QUBO_matrix=self.QUBO.Q) for\n",
      "  File \"/Users/sebastianyde/Library/CloudStorage/OneDrive-AarhusUniversitet/Div. Github projekter/Privat/Azurestuff/src/Tools.py\", line 14, in string_to_array\n",
      "    cost = np.mean([probability * qubo_cost(state=string_to_array(bitstring), QUBO_matrix=self.QUBO.Q) for\n",
      "  File \"/Users/sebastianyde/Library/CloudStorage/OneDrive-AarhusUniversitet/Div. Github projekter/Privat/Azurestuff/src/CP_VQA/Qulacs_CP_VQA.py\", line 105, in <listcomp>\n",
      "    cost = np.mean([probability * qubo_cost(state=string_to_array(bitstring), QUBO_matrix=self.QUBO.Q) for\n",
      "  File \"/Users/sebastianyde/Library/CloudStorage/OneDrive-AarhusUniversitet/Div. Github projekter/Privat/Azurestuff/src/Tools.py\", line 14, in string_to_array\n",
      "    return {state: prob for state, prob in counts.items() if prob >= eps}\n",
      "  File \"/Users/sebastianyde/Library/CloudStorage/OneDrive-AarhusUniversitet/Div. Github projekter/Privat/Azurestuff/src/CP_VQA/CP_VQA.py\", line 81, in <dictcomp>\n",
      "    return np.array([int(bit) for bit in string_rep]).astype(np.float32)\n",
      "KeyboardInterrupt\n",
      "    return {state: prob for state, prob in counts.items() if prob >= eps}\n",
      "    return np.array([int(bit) for bit in string_rep]).astype(np.float32)\n",
      "KeyboardInterrupt\n",
      "KeyboardInterrupt\n",
      "    return np.array([int(bit) for bit in string_rep]).astype(np.float32)\n",
      "KeyboardInterrupt\n",
      "\n",
      "Extension modules: numpy.core._multiarray_umath, numpy.core._multiarray_tests, numpy.linalg._umath_linalg, numpy.fft._pocketfft_internal, numpy.random._common, numpy.random.bit_generator, numpy.random._bounded_integers, numpy.random._mt19937, numpy.random.mtrand, numpy.random._philox, numpy.random._pcg64, numpy.random._sfc64, numpy.random._generator, lz4._version, lz4.frame._frame\n",
      "Extension modules: numpy.core._multiarray_umath, psutil._psutil_osx, psutil._psutil_posix, numpy.core._multiarray_tests, numpy.linalg._umath_linalg, numpy.fft._pocketfft_internal, numpy.random._common, numpy.random.bit_generator, numpy.random._bounded_integers, numpy.random._mt19937, numpy.random.mtrand, numpy.random._philox, numpy.random._pcg64, numpy.random._sfc64, numpy.random._generator, lz4._version, lz4.frame._frame, psutil._psutil_osx, psutil._psutil_posix\n",
      "Extension modules: numpy.core._multiarray_umath\n",
      "Extension modules: numpy.core._multiarray_umath, numpy.core._multiarray_tests, numpy.core._multiarray_tests, numpy.linalg._umath_linalg\n",
      "Extension modules: numpy.core._multiarray_umath, , , , symengine.lib.symengine_wrappernumpy.core._multiarray_testsnumpy.linalg._umath_linalgnumpy.fft._pocketfft_internal, numpy.linalg._umath_linalg, numpy.fft._pocketfft_internal, numpy.random._common, numpy.random._common, PIL._imaging, numpy.fft._pocketfft_internal, numpy.random.bit_generator, numpy.random._bounded_integers, numpy.random._common, numpy.random._mt19937, numpy.random.bit_generator, numpy.random.mtrand, numpy.random._philox, numpy.random._pcg64, numpy.random._bounded_integers, numpy.random.bit_generator, numpy.random._sfc64, numpy.random._mt19937, numpy.random._bounded_integers, numpy.random._generator, numpy.random._mt19937, numpy.random.mtrand, numpy.random.mtrand, numpy.random._philox, numpy.random._philox, lz4._version, symengine.lib.symengine_wrapper, numpy.random._pcg64, lz4.frame._frame, numpy.random._pcg64, numpy.random._sfc64, numpy.random._generator, numpy.random._sfc64, lz4._version, , lz4.frame._framenumpy.random._generator, lz4._version, PIL._imaging, psutil._psutil_osx, psutil._psutil_posix, lz4.frame._frame, psutil._psutil_osx, psutil._psutil_posix, psutil._psutil_osx, psutil._psutil_posix, scipy._lib._ccallback_c, scipy.sparse._sparsetools, _csparsetools, scipy.sparse._csparsetools, scipy.sparse.linalg._isolve._iterative, scipy.linalg._fblas, scipy.linalg._flapack, scipy.linalg.cython_lapack, scipy.linalg._cythonized_array_utils, scipy.linalg._solve_toeplitz, scipy.linalg._decomp_lu_cython, scipy.linalg._matfuncs_sqrtm_triu, scipy.linalg.cython_blas, scipy.linalg._matfuncs_expm, scipy.linalg._decomp_update, scipy.linalg._flinalg, scipy.sparse.linalg._dsolve._superlu, scipy.sparse.linalg._eigen.arpack._arpack, scipy.sparse.csgraph._tools, scipy.sparse.csgraph._shortest_path, scipy.sparse.csgraph._traversal, scipy.sparse.csgraph._min_spanning_tree, scipy.sparse.csgraph._flow, scipy.sparse.csgraph._matching, scipy.sparse.csgraph._reordering, yaml._yaml, symengine.lib.symengine_wrapper, numba.core.typeconv._typeconv, PIL._imaging, symengine.lib.symengine_wrapper, numba._helperlib, numba._dynfunc, numba._dispatcher, numba.core.runtime._nrt_python, PIL._imaging, numba.np.ufunc._internal, , scipy._lib._ccallback_cnumba.experimental.jitclass._box, scipy.sparse._sparsetools, scipy.optimize._minpack2, scipy.optimize._group_columns, scipy._lib.messagestream, scipy.optimize._trlib._trlib, _csparsetools, scipy.sparse._csparsetools, scipy.sparse.linalg._isolve._iterative, scipy.linalg._fblas, scipy.linalg._flapack, scipy.linalg.cython_lapack, scipy.optimize._lbfgsb, scipy.linalg._cythonized_array_utils, _moduleTNC, scipy.optimize._moduleTNC, , scipy.optimize._cobylascipy.linalg._solve_toeplitz, scipy.linalg._decomp_lu_cython, symengine.lib.symengine_wrapper, scipy.optimize._slsqp, scipy.linalg._matfuncs_sqrtm_triu, scipy.optimize._minpack, scipy.linalg.cython_blas, scipy.linalg._matfuncs_expm, scipy.optimize._lsq.givens_elimination, scipy.linalg._decomp_update, scipy.linalg._flinalg, scipy.optimize._zeros, scipy.sparse.linalg._dsolve._superlu, scipy.sparse.linalg._eigen.arpack._arpack, scipy.optimize.__nnls, scipy.sparse.csgraph._tools, scipy.optimize._highs.cython.src._highs_wrapper, scipy.optimize._highs._highs_wrapper, scipy.sparse.csgraph._shortest_path, scipy.sparse.csgraph._traversal, scipy.optimize._highs.cython.src._highs_constants, scipy.optimize._highs._highs_constants, scipy.sparse.csgraph._min_spanning_tree, scipy.linalg._interpolative, scipy.sparse.csgraph._flow, scipy.optimize._bglu_dense, scipy.sparse.csgraph._matching, scipy.optimize._lsap, scipy.sparse.csgraph._reordering, scipy.spatial._ckdtree, yaml._yaml, scipy.spatial._qhull, scipy.spatial._voronoi, scipy.spatial._distance_wrap, scipy.spatial._hausdorff, scipy.special._ufuncs_cxx, scipy.special._ufuncs, scipy.special._specfun, numba.core.typeconv._typeconv, scipy.special._comb, numba._helperlib, , numba._dynfuncscipy.special._ellip_harm_2, PIL._imaging, , numba._dispatcherscipy.spatial.transform._rotation, scipy._lib._ccallback_c, scipy.sparse._sparsetools, scipy._lib._ccallback_c, _csparsetools, scipy.sparse._sparsetools, scipy.sparse._csparsetools, scipy.sparse.linalg._isolve._iterative, _csparsetools, scipy.linalg._fblas, scipy.sparse._csparsetools, , scipy.linalg._flapackscipy.optimize._direct (total: 84)\n",
      ", , scipy.sparse.linalg._isolve._iterativescipy.linalg.cython_lapack, scipy.linalg._cythonized_array_utils, scipy.linalg._fblas, scipy.linalg._flapack, scipy.linalg._solve_toeplitz, scipy.linalg.cython_lapack, scipy.linalg._decomp_lu_cython, scipy.linalg._cythonized_array_utils, scipy.linalg._matfuncs_sqrtm_triu, scipy.linalg.cython_blas, scipy.linalg._matfuncs_expm, scipy.linalg._solve_toeplitz, scipy.linalg._decomp_update, scipy.linalg._decomp_lu_cython, scipy.linalg._flinalg, , scipy.linalg._matfuncs_sqrtm_triu, scipy.linalg.cython_blasscipy.sparse.linalg._dsolve._superlu, scipy.linalg._matfuncs_expm, numba.core.runtime._nrt_python, scipy.linalg._decomp_update, scipy.linalg._flinalg, scipy.sparse.linalg._eigen.arpack._arpack, scipy.sparse.linalg._dsolve._superlu, numba.np.ufunc._internal, scipy.sparse.linalg._eigen.arpack._arpack, scipy.sparse.csgraph._tools, numba.experimental.jitclass._box, scipy.sparse.csgraph._tools, scipy.sparse.csgraph._shortest_path, , scipy.optimize._minpack2, scipy.sparse.csgraph._traversal, scipy.optimize._group_columns, scipy.sparse.csgraph._min_spanning_tree, scipy._lib.messagestream, , scipy.optimize._trlib._trlibscipy.sparse.csgraph._flow, scipy.sparse.csgraph._matching, scipy.sparse.csgraph._reorderingscipy.sparse.csgraph._shortest_path, scipy.optimize._lbfgsb, _moduleTNC, scipy.sparse.csgraph._traversal, scipy.optimize._moduleTNC, scipy.optimize._cobyla, scipy.optimize._slsqp, scipy.optimize._minpack, scipy.sparse.csgraph._min_spanning_tree, scipy.optimize._lsq.givens_elimination, yaml._yaml, scipy.optimize._zeros, scipy.sparse.csgraph._flow, scipy.optimize.__nnls, scipy.optimize._highs.cython.src._highs_wrapper, scipy.optimize._highs._highs_wrapper, scipy.optimize._highs.cython.src._highs_constants, scipy.optimize._highs._highs_constants, scipy.linalg._interpolative, scipy.optimize._bglu_dense, scipy.optimize._lsap, scipy.sparse.csgraph._matching, scipy.spatial._ckdtree, scipy.spatial._qhull, scipy.sparse.csgraph._reordering, numba.core.typeconv._typeconv, scipy.spatial._voronoi, scipy.spatial._distance_wrap, numba._helperlib, scipy.spatial._hausdorff, scipy.special._ufuncs_cxx, numba._dynfunc, , scipy.special._ufuncsscipy._lib._ccallback_c, scipy.sparse._sparsetools, scipy.special._specfun, _csparsetools, scipy.special._comb, scipy.sparse._csparsetools, scipy.special._ellip_harm_2, scipy.sparse.linalg._isolve._iterative, numba._dispatcher, scipy.spatial.transform._rotation, scipy.linalg._fblas, scipy.linalg._flapack, scipy.optimize._direct (total: 84)\n",
      ", scipy.linalg.cython_lapack, scipy.linalg._cythonized_array_utils, scipy.linalg._solve_toeplitz, numba.core.runtime._nrt_python, scipy.linalg._decomp_lu_cython, scipy.linalg._matfuncs_sqrtm_triu, scipy.linalg.cython_blas, scipy.linalg._matfuncs_expm, numba.np.ufunc._internal, , , scipy.linalg._decomp_updatenumba.experimental.jitclass._box, scipy.linalg._flinalgyaml._yaml, scipy.sparse.linalg._dsolve._superlu, scipy.sparse.linalg._eigen.arpack._arpack, scipy.optimize._minpack2, scipy.optimize._group_columns, scipy._lib.messagestream, scipy.sparse.csgraph._tools, scipy.optimize._trlib._trlib, scipy.sparse.csgraph._shortest_path, scipy.sparse.csgraph._traversal, scipy.optimize._lbfgsb, scipy.sparse.csgraph._min_spanning_tree, _moduleTNC, scipy.sparse.csgraph._flow, scipy.optimize._moduleTNC, scipy.sparse.csgraph._matching, scipy.optimize._cobyla, scipy.optimize._slsqp, scipy.sparse.csgraph._reordering, scipy.optimize._minpack, scipy.optimize._lsq.givens_elimination, scipy.optimize._zeros, scipy.optimize.__nnls, scipy.optimize._highs.cython.src._highs_wrapper, yaml._yaml, scipy.optimize._highs._highs_wrapper, scipy.optimize._highs.cython.src._highs_constants, scipy.optimize._highs._highs_constants, scipy.linalg._interpolative, scipy.optimize._bglu_dense, numba.core.typeconv._typeconv, scipy.optimize._lsap, numba.core.typeconv._typeconv, scipy.spatial._ckdtree, numba._helperlib, scipy.spatial._qhull, numba._dynfunc, scipy.spatial._voronoi, numba._helperlib, scipy.spatial._distance_wrap, numba._dispatcher, scipy.spatial._hausdorff, numba._dynfunc, scipy.special._ufuncs_cxx, scipy.special._ufuncs, scipy.special._specfun, scipy.special._comb, scipy.special._ellip_harm_2, numba._dispatcher, scipy.spatial.transform._rotation, numba.core.runtime._nrt_python, scipy.optimize._direct (total: 84)\n",
      ", numba.np.ufunc._internal, numba.experimental.jitclass._box, scipy.optimize._minpack2, scipy.optimize._group_columns, scipy._lib.messagestream, scipy.optimize._trlib._trlib, numba.core.runtime._nrt_python, numba.np.ufunc._internal, scipy.optimize._lbfgsb, _moduleTNC, scipy.optimize._moduleTNC, numba.experimental.jitclass._box, scipy.optimize._cobyla, scipy.optimize._slsqp, scipy.optimize._minpack, scipy.optimize._lsq.givens_elimination, scipy.optimize._zeros, scipy.optimize.__nnls, scipy.optimize._minpack2, scipy.optimize._highs.cython.src._highs_wrapper, scipy.optimize._highs._highs_wrapper, , scipy.optimize._group_columnsscipy.optimize._highs.cython.src._highs_constants, scipy.optimize._highs._highs_constants, scipy.linalg._interpolative, scipy.optimize._bglu_dense, scipy.optimize._lsap, scipy.spatial._ckdtree, scipy.spatial._qhull, scipy.spatial._voronoi, scipy.spatial._distance_wrap, scipy.spatial._hausdorff, scipy.special._ufuncs_cxx, scipy.special._ufuncs, scipy.special._specfun, scipy.special._comb, scipy.special._ellip_harm_2, scipy.spatial.transform._rotation, scipy.optimize._direct (total: 84)\n"
     ]
    },
    {
     "ename": "KeyboardInterrupt",
     "evalue": "",
     "output_type": "error",
     "traceback": [
      "\u001B[0;31m---------------------------------------------------------------------------\u001B[0m",
      "\u001B[0;31mKeyboardInterrupt\u001B[0m                         Traceback (most recent call last)",
      "Cell \u001B[0;32mIn [30], line 3\u001B[0m\n\u001B[1;32m      1\u001B[0m \u001B[38;5;28;01mimport\u001B[39;00m \u001B[38;5;21;01mos\u001B[39;00m \n\u001B[1;32m      2\u001B[0m N_jobs\u001B[38;5;241m=\u001B[39m os\u001B[38;5;241m.\u001B[39mcpu_count()\u001B[38;5;241m-\u001B[39m\u001B[38;5;241m1\u001B[39m\n\u001B[0;32m----> 3\u001B[0m r \u001B[38;5;241m=\u001B[39m \u001B[43mParallel\u001B[49m\u001B[43m(\u001B[49m\u001B[43mn_jobs\u001B[49m\u001B[38;5;241;43m=\u001B[39;49m\u001B[43mN_jobs\u001B[49m\u001B[43m,\u001B[49m\u001B[43m \u001B[49m\u001B[43mverbose\u001B[49m\u001B[38;5;241;43m=\u001B[39;49m\u001B[38;5;241;43m51\u001B[39;49m\u001B[43m,\u001B[49m\u001B[43m \u001B[49m\u001B[43mbackend\u001B[49m\u001B[38;5;241;43m=\u001B[39;49m\u001B[38;5;124;43m'\u001B[39;49m\u001B[38;5;124;43mloky\u001B[39;49m\u001B[38;5;124;43m'\u001B[39;49m\u001B[43m)\u001B[49m\u001B[43m(\u001B[49m\u001B[43mdelayed\u001B[49m\u001B[43m(\u001B[49m\u001B[43msimulate\u001B[49m\u001B[43m)\u001B[49m\u001B[43m(\u001B[49m\u001B[43msetting\u001B[49m\u001B[43m)\u001B[49m\u001B[43m \u001B[49m\u001B[38;5;28;43;01mfor\u001B[39;49;00m\u001B[43m \u001B[49m\u001B[43msetting\u001B[49m\u001B[43m \u001B[49m\u001B[38;5;129;43;01min\u001B[39;49;00m\u001B[43m \u001B[49m\u001B[43msim_settings\u001B[49m\u001B[43m)\u001B[49m\n",
      "File \u001B[0;32m~/miniforge3/lib/python3.10/site-packages/joblib/parallel.py:1952\u001B[0m, in \u001B[0;36mParallel.__call__\u001B[0;34m(self, iterable)\u001B[0m\n\u001B[1;32m   1946\u001B[0m \u001B[38;5;66;03m# The first item from the output is blank, but it makes the interpreter\u001B[39;00m\n\u001B[1;32m   1947\u001B[0m \u001B[38;5;66;03m# progress until it enters the Try/Except block of the generator and\u001B[39;00m\n\u001B[1;32m   1948\u001B[0m \u001B[38;5;66;03m# reach the first `yield` statement. This starts the aynchronous\u001B[39;00m\n\u001B[1;32m   1949\u001B[0m \u001B[38;5;66;03m# dispatch of the tasks to the workers.\u001B[39;00m\n\u001B[1;32m   1950\u001B[0m \u001B[38;5;28mnext\u001B[39m(output)\n\u001B[0;32m-> 1952\u001B[0m \u001B[38;5;28;01mreturn\u001B[39;00m output \u001B[38;5;28;01mif\u001B[39;00m \u001B[38;5;28mself\u001B[39m\u001B[38;5;241m.\u001B[39mreturn_generator \u001B[38;5;28;01melse\u001B[39;00m \u001B[38;5;28;43mlist\u001B[39;49m\u001B[43m(\u001B[49m\u001B[43moutput\u001B[49m\u001B[43m)\u001B[49m\n",
      "File \u001B[0;32m~/miniforge3/lib/python3.10/site-packages/joblib/parallel.py:1595\u001B[0m, in \u001B[0;36mParallel._get_outputs\u001B[0;34m(self, iterator, pre_dispatch)\u001B[0m\n\u001B[1;32m   1592\u001B[0m     \u001B[38;5;28;01myield\u001B[39;00m\n\u001B[1;32m   1594\u001B[0m     \u001B[38;5;28;01mwith\u001B[39;00m \u001B[38;5;28mself\u001B[39m\u001B[38;5;241m.\u001B[39m_backend\u001B[38;5;241m.\u001B[39mretrieval_context():\n\u001B[0;32m-> 1595\u001B[0m         \u001B[38;5;28;01myield from\u001B[39;00m \u001B[38;5;28mself\u001B[39m\u001B[38;5;241m.\u001B[39m_retrieve()\n\u001B[1;32m   1597\u001B[0m \u001B[38;5;28;01mexcept\u001B[39;00m \u001B[38;5;167;01mGeneratorExit\u001B[39;00m:\n\u001B[1;32m   1598\u001B[0m     \u001B[38;5;66;03m# The generator has been garbage collected before being fully\u001B[39;00m\n\u001B[1;32m   1599\u001B[0m     \u001B[38;5;66;03m# consumed. This aborts the remaining tasks if possible and warn\u001B[39;00m\n\u001B[1;32m   1600\u001B[0m     \u001B[38;5;66;03m# the user if necessary.\u001B[39;00m\n\u001B[1;32m   1601\u001B[0m     \u001B[38;5;28mself\u001B[39m\u001B[38;5;241m.\u001B[39m_exception \u001B[38;5;241m=\u001B[39m \u001B[38;5;28;01mTrue\u001B[39;00m\n",
      "File \u001B[0;32m~/miniforge3/lib/python3.10/site-packages/joblib/parallel.py:1707\u001B[0m, in \u001B[0;36mParallel._retrieve\u001B[0;34m(self)\u001B[0m\n\u001B[1;32m   1702\u001B[0m \u001B[38;5;66;03m# If the next job is not ready for retrieval yet, we just wait for\u001B[39;00m\n\u001B[1;32m   1703\u001B[0m \u001B[38;5;66;03m# async callbacks to progress.\u001B[39;00m\n\u001B[1;32m   1704\u001B[0m \u001B[38;5;28;01mif\u001B[39;00m ((\u001B[38;5;28mlen\u001B[39m(\u001B[38;5;28mself\u001B[39m\u001B[38;5;241m.\u001B[39m_jobs) \u001B[38;5;241m==\u001B[39m \u001B[38;5;241m0\u001B[39m) \u001B[38;5;129;01mor\u001B[39;00m\n\u001B[1;32m   1705\u001B[0m     (\u001B[38;5;28mself\u001B[39m\u001B[38;5;241m.\u001B[39m_jobs[\u001B[38;5;241m0\u001B[39m]\u001B[38;5;241m.\u001B[39mget_status(\n\u001B[1;32m   1706\u001B[0m         timeout\u001B[38;5;241m=\u001B[39m\u001B[38;5;28mself\u001B[39m\u001B[38;5;241m.\u001B[39mtimeout) \u001B[38;5;241m==\u001B[39m TASK_PENDING)):\n\u001B[0;32m-> 1707\u001B[0m     \u001B[43mtime\u001B[49m\u001B[38;5;241;43m.\u001B[39;49m\u001B[43msleep\u001B[49m\u001B[43m(\u001B[49m\u001B[38;5;241;43m0.01\u001B[39;49m\u001B[43m)\u001B[49m\n\u001B[1;32m   1708\u001B[0m     \u001B[38;5;28;01mcontinue\u001B[39;00m\n\u001B[1;32m   1710\u001B[0m \u001B[38;5;66;03m# We need to be careful: the job list can be filling up as\u001B[39;00m\n\u001B[1;32m   1711\u001B[0m \u001B[38;5;66;03m# we empty it and Python list are not thread-safe by\u001B[39;00m\n\u001B[1;32m   1712\u001B[0m \u001B[38;5;66;03m# default hence the use of the lock\u001B[39;00m\n",
      "\u001B[0;31mKeyboardInterrupt\u001B[0m: "
     ]
    }
   ],
   "source": [
    "import os \n",
    "N_jobs= os.cpu_count()-1\n",
    "r = Parallel(n_jobs=N_jobs, verbose=51, backend='loky')(delayed(simulate)(setting) for setting in sim_settings)\n"
   ],
   "metadata": {
    "collapsed": false,
    "ExecuteTime": {
     "end_time": "2024-02-21T21:07:22.154005Z",
     "start_time": "2024-02-21T21:01:06.121205Z"
    }
   },
   "id": "a406aeed46a4f16b",
   "execution_count": 30
  },
  {
   "cell_type": "code",
   "outputs": [],
   "source": [
    "N_vals = [N for N in range(N_min,N_max+1)]\n",
    "qaoa_res, cp_vqa_res, qaoa_hybrid_res = {N:[] for N in N_vals}, {N:[] for N in N_vals}, {N:[] for N in N_vals}\n",
    "for result in r:\n",
    "    qaoa_res[result['N']].append([result['QAOA']['c'],result['QAOA']['p']])\n",
    "    cp_vqa_res[result['N']].append([result['CP_VQA']['c'],result['CP_VQA']['p']])\n",
    "    qaoa_hybrid_res[result['N']].append([result['QAOA_HYBRID']['c'],result['QAOA_HYBRID']['p']])"
   ],
   "metadata": {
    "collapsed": false,
    "ExecuteTime": {
     "end_time": "2024-02-21T20:21:32.889083Z",
     "start_time": "2024-02-21T20:21:32.886908Z"
    }
   },
   "id": "e59fe11fb5e276a2",
   "execution_count": 21
  },
  {
   "cell_type": "code",
   "outputs": [],
   "source": [
    "def exponential_decay(x):\n",
    "    return 1.0 / (2**(x-1))\n",
    "def continuous_binomial_decay(x,k):\n",
    "    return 1.0 / (gamma(x+1) / (gamma(k+1) * gamma(x-k+1)))   "
   ],
   "metadata": {
    "collapsed": false,
    "ExecuteTime": {
     "end_time": "2024-02-21T20:21:33.270023Z",
     "start_time": "2024-02-21T20:21:33.267221Z"
    }
   },
   "id": "740ffb719892e08b",
   "execution_count": 22
  },
  {
   "cell_type": "code",
   "outputs": [],
   "source": [
    "plt.rc(\"font\", family=[\"Helvetica\", \"Arial\"])\n",
    "plt.rc(\"text\", usetex=True)\n",
    "plt.rcParams['text.latex.preamble'] = r'\\usepackage{amsmath}\\usepackage{amssymb}\\usepackage{physics}'\n",
    "plt.rc(\"xtick\", top=True, direction=\"in\")\n",
    "plt.rc(\"ytick\", right=True, direction=\"in\")"
   ],
   "metadata": {
    "collapsed": false,
    "ExecuteTime": {
     "end_time": "2024-02-21T20:21:33.839969Z",
     "start_time": "2024-02-21T20:21:33.837639Z"
    }
   },
   "id": "61341013ceee2add",
   "execution_count": 23
  },
  {
   "cell_type": "code",
   "execution_count": 24,
   "outputs": [
    {
     "data": {
      "text/plain": "<Figure size 1500x400 with 2 Axes>",
      "image/png": "[encoded data removed]"
     },
     "metadata": {},
     "output_type": "display_data"
    }
   ],
   "source": [
    "fig, ax = plt.subplots(1,2,figsize=(15,4))\n",
    "N_vales = [N for N in range(N_min,N_max+1)]\n",
    "ax[0].errorbar(N_vales, [1-np.mean(np.array(qaoa_res[N])[:,0]) for N in N_vales], [np.std(np.array(qaoa_res[N])[:,0]) for N in N_vales], \n",
    "               label='QAOA', capsize=3, fmt='.', ms=10)\n",
    "\n",
    "ax[0].errorbar(N_vales, [1-np.mean(np.array(cp_vqa_res[N])[:,0]) for N in N_vales], [np.std(np.array(cp_vqa_res[N])[:,0]) for N in N_vales], label='CP-VQA', capsize=3, fmt='.', ms=10)\n",
    "\n",
    "ax[0].errorbar(N_vales, [1-np.mean(np.array(qaoa_hybrid_res[N])[:,0]) for N in N_vales], [np.std(np.array(qaoa_hybrid_res[N])[:,0]) for N in N_vales], label='QAOA-HYBRID', capsize=3, fmt='.', ms=10)\n",
    "\n",
    "ax[1].errorbar(N_vales, [np.mean(np.array(qaoa_res[N])[:,1]) for N in N_vales], [np.std(np.array(qaoa_res[N])[:,1]) for N in N_vales], label='QAOA', capsize=3, fmt='.', ms=10)\n",
    "ax[1].errorbar(N_vales, [np.mean(np.array(cp_vqa_res[N])[:,1]) for N in N_vales], [np.std(np.array(cp_vqa_res[N])[:,1]) for N in N_vales], label='CP-VQA', capsize=3, fmt='.', ms=10)\n",
    "ax[1].errorbar(N_vales, [np.mean(np.array(qaoa_hybrid_res[N])[:,1]) for N in N_vales], [np.std(np.array(qaoa_hybrid_res[N])[:,1]) for N in N_vales], label='QAOA-HYBRID', capsize=3, fmt='.', ms=10)\n",
    "\n",
    "xs = np.linspace(min(N_vales), max(N_vales),100)\n",
    "#ax[1].plot(xs,exponential_decay(xs),ls='--', label=r'$2^{-(N-1)}$')\n",
    "ax[1].plot(xs,[continuous_binomial_decay(N,N/2) for N in xs],ls='--', label=r'$\\binom{N}{k}^{-1}$')\n",
    "\n",
    "\n",
    "ax[0].set_ylabel('Normalized cost', size=20)\n",
    "ax[1].set_ylabel('Ground state probability', size=19)\n",
    "for i in range(2):\n",
    "    ax[i].set_ylim(-0.25,1.25)\n",
    "    ax[i].set_xticks(N_vales)\n",
    "    ax[i].set_xlabel('Portfolio size (\\# Qubits)', size=15)\n",
    "    ax[i].legend()\n",
    "plt.show()"
   ],
   "metadata": {
    "collapsed": false,
    "ExecuteTime": {
     "end_time": "2024-02-21T20:21:34.797715Z",
     "start_time": "2024-02-21T20:21:34.302543Z"
    }
   },
   "id": "8ec010d7affb87a1"
  },
  {
   "cell_type": "code",
   "outputs": [
    {
     "data": {
      "text/plain": "[0.9999999701976776,\n 0.9999931454658508,\n 0.9999265074729919,\n 0.9999898076057434,\n 0.9997250139713287,\n 0.9981290996074677,\n 0.7909412682056427,\n 0.4583687111735344,\n 0.639725923538208,\n 0.8966314792633057,\n 0.37421349063515663,\n 0.23674187622964382,\n 0.7338217794895172,\n 0.002333992742933333]"
     },
     "execution_count": 45,
     "metadata": {},
     "output_type": "execute_result"
    }
   ],
   "source": [
    "[np.mean(np.array(cp_vqa_res[N])[:,1]) for N in N_vales]"
   ],
   "metadata": {
    "collapsed": false,
    "ExecuteTime": {
     "end_time": "2024-02-21T15:08:05.818552300Z",
     "start_time": "2024-02-21T15:08:05.810967600Z"
    }
   },
   "id": "a333e7f71ed789c3",
   "execution_count": 45
  },
  {
   "cell_type": "code",
   "outputs": [],
   "source": [],
   "metadata": {
    "collapsed": false
   },
   "id": "9974d86270586d25"
  }
 ],
 "metadata": {
  "kernelspec": {
   "display_name": "Python 3",
   "language": "python",
   "name": "python3"
  },
  "language_info": {
   "codemirror_mode": {
    "name": "ipython",
    "version": 2
   },
   "file_extension": ".py",
   "mimetype": "text/x-python",
   "name": "python",
   "nbconvert_exporter": "python",
   "pygments_lexer": "ipython2",
   "version": "2.7.6"
  }
 },
 "nbformat": 4,
 "nbformat_minor": 5
}
