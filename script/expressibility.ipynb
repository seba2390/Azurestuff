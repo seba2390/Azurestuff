{
 "cells": [
  {
   "cell_type": "code",
   "execution_count": 90,
   "id": "initial_id",
   "metadata": {
    "collapsed": true,
    "ExecuteTime": {
     "end_time": "2024-02-15T11:29:12.079582Z",
     "start_time": "2024-02-15T11:29:12.074302Z"
    }
   },
   "outputs": [],
   "source": [
    "from collections import Counter\n",
    "from math import floor\n",
    "from typing import List, Union\n",
    "\n",
    "from qiskit import QuantumCircuit, Aer, execute\n",
    "import numpy as np\n",
    "from scipy.stats import entropy\n",
    "import matplotlib.pyplot as plt"
   ]
  },
  {
   "cell_type": "code",
   "execution_count": 91,
   "outputs": [],
   "source": [
    "def reduce_frequency(data: Union[np.ndarray, List], M: int):\n",
    "    if type(data) == list:\n",
    "        freq = Counter(data)\n",
    "        new_data = []\n",
    "        for number, count in freq.items():\n",
    "            new_count = floor(count / M)\n",
    "            new_data.extend([number] * new_count)\n",
    "        return new_data\n",
    "    elif type(data) == np.ndarray:\n",
    "        unique, counts = np.unique(data, return_counts=True)\n",
    "        new_counts = np.floor_divide(counts, M)\n",
    "        return np.repeat(unique, new_counts)\n",
    "    else:\n",
    "        raise ValueError('Unrecognized data type..')\n",
    "\n",
    "# Function to compute fidelity between two states\n",
    "def fidelity(state1, state2):\n",
    "    return np.abs(np.dot(np.conj(state1), state2))**2"
   ],
   "metadata": {
    "collapsed": false,
    "ExecuteTime": {
     "end_time": "2024-02-15T11:29:12.085992Z",
     "start_time": "2024-02-15T11:29:12.080401Z"
    }
   },
   "id": "41dbde7ab82fd8a9"
  },
  {
   "cell_type": "code",
   "execution_count": 92,
   "outputs": [],
   "source": [
    "N = 1\n",
    "simulator = Aer.get_backend('statevector_simulator')\n",
    "N_samples = 1000\n",
    "sampled_states = []\n",
    "for sample in range(N_samples):\n",
    "    qc = QuantumCircuit(N)\n",
    "    \"\"\"qc.h(0)\n",
    "    qc.rz(qubit=0,phi=np.random.uniform(-np.pi, np.pi))\"\"\"\n",
    "    psi = np.array(execute(qc, simulator).result().get_statevector())\n",
    "    sampled_states.append(psi)\n"
   ],
   "metadata": {
    "collapsed": false,
    "ExecuteTime": {
     "end_time": "2024-02-15T11:29:13.366442Z",
     "start_time": "2024-02-15T11:29:12.087143Z"
    }
   },
   "id": "df220adec16f76e0"
  },
  {
   "cell_type": "code",
   "execution_count": 93,
   "outputs": [],
   "source": [
    "N_bins = 75\n",
    "\n",
    "# Compute the fidelities for PQC\n",
    "#fidelities_PQC = [fidelity(psi, phi) for psi in sampled_states for phi in sampled_states if not np.array_equal(psi, phi)]\n",
    "fidelities_PQC = [fidelity(sampled_states[i], sampled_states[j]) for i in range(N_samples) for j in range(i+1,N_samples)]\n",
    "\n",
    "# Generate Haar-random states for comparison\n",
    "haar_states = [np.random.normal(size=(2**N,)) + 1j * np.random.normal(size=(2**N,)) for _ in range(len(sampled_states))]\n",
    "haar_states = [psi / np.linalg.norm(psi) for psi in haar_states]\n",
    "fidelities_Haar = [fidelity(psi, phi) for psi in haar_states for phi in haar_states if not np.array_equal(psi, phi)]\n",
    "\n",
    "# Estimate the probability distributions\n",
    "hist_PQC, bin_edges = np.histogram(fidelities_PQC, bins=N_bins)\n",
    "hist_Haar, _ = np.histogram(fidelities_Haar, bins=bin_edges)\n",
    "# Ensure non-zero values to avoid division by zero in KL divergence\n",
    "hist_PQC = hist_PQC.astype(np.float64)\n",
    "hist_Haar = hist_Haar.astype(np.float64)\n",
    "hist_PQC += np.finfo(float).eps\n",
    "hist_Haar += np.finfo(float).eps"
   ],
   "metadata": {
    "collapsed": false,
    "ExecuteTime": {
     "end_time": "2024-02-15T11:29:16.353875Z",
     "start_time": "2024-02-15T11:29:13.367809Z"
    }
   },
   "id": "26d7a300f5069612"
  },
  {
   "cell_type": "code",
   "execution_count": 94,
   "outputs": [
    {
     "name": "stdout",
     "output_type": "stream",
     "text": [
      "KL Divergence: 4.302111056301149\n"
     ]
    }
   ],
   "source": [
    "# Calculate the KL divergence\n",
    "D_KL = entropy(pk=hist_PQC, qk=hist_Haar)\n",
    "\n",
    "print(f\"KL Divergence: {D_KL}\")\n"
   ],
   "metadata": {
    "collapsed": false,
    "ExecuteTime": {
     "end_time": "2024-02-15T11:29:16.357610Z",
     "start_time": "2024-02-15T11:29:16.355330Z"
    }
   },
   "id": "1123dcb9149e30ca"
  },
  {
   "cell_type": "code",
   "execution_count": 95,
   "outputs": [],
   "source": [
    "# Normalize frequencies\n",
    "fidelities_PQC = reduce_frequency(data=fidelities_PQC, M=N_bins)\n",
    "fidelities_Haar = reduce_frequency(data=fidelities_Haar, M=N_bins)"
   ],
   "metadata": {
    "collapsed": false,
    "ExecuteTime": {
     "end_time": "2024-02-15T11:29:16.560600Z",
     "start_time": "2024-02-15T11:29:16.500568Z"
    }
   },
   "id": "dee77eea57830c23"
  },
  {
   "cell_type": "code",
   "execution_count": 96,
   "outputs": [
    {
     "name": "stderr",
     "output_type": "stream",
     "text": [
      "/Users/sebastianyde/miniforge3/lib/python3.10/site-packages/numpy/lib/histograms.py:885: RuntimeWarning: divide by zero encountered in divide\n",
      "  return n/db/n.sum(), bin_edges\n",
      "/Users/sebastianyde/miniforge3/lib/python3.10/site-packages/numpy/lib/histograms.py:885: RuntimeWarning: invalid value encountered in divide\n",
      "  return n/db/n.sum(), bin_edges\n"
     ]
    },
    {
     "data": {
      "text/plain": "<Figure size 640x480 with 1 Axes>",
      "image/png": "[encoded data removed]"
     },
     "metadata": {},
     "output_type": "display_data"
    }
   ],
   "source": [
    "# Plot the histograms for both distributions\n",
    "plt.hist(fidelities_PQC, bins=bin_edges, alpha=0.5, label='PQC', density=True)\n",
    "plt.hist(fidelities_Haar, bins=bin_edges, alpha=0.5, label='Haar', density=True)\n",
    "\n",
    "# Adding labels and title\n",
    "plt.xlabel('Fidelity')\n",
    "plt.ylabel('Probability Density')\n",
    "plt.title('Fidelity Distributions: PQC vs Haar')\n",
    "plt.legend()\n",
    "\n",
    "# Show the plot\n",
    "plt.show()\n",
    "\n"
   ],
   "metadata": {
    "collapsed": false,
    "ExecuteTime": {
     "end_time": "2024-02-15T11:29:16.790260Z",
     "start_time": "2024-02-15T11:29:16.573068Z"
    }
   },
   "id": "e2f5af6c53d5a273"
  },
  {
   "cell_type": "code",
   "execution_count": 96,
   "outputs": [],
   "source": [],
   "metadata": {
    "collapsed": false,
    "ExecuteTime": {
     "end_time": "2024-02-15T11:29:16.790684Z",
     "start_time": "2024-02-15T11:29:16.788680Z"
    }
   },
   "id": "328e2d6b17610968"
  }
 ],
 "metadata": {
  "kernelspec": {
   "display_name": "Python 3",
   "language": "python",
   "name": "python3"
  },
  "language_info": {
   "codemirror_mode": {
    "name": "ipython",
    "version": 2
   },
   "file_extension": ".py",
   "mimetype": "text/x-python",
   "name": "python",
   "nbconvert_exporter": "python",
   "pygments_lexer": "ipython2",
   "version": "2.7.6"
  }
 },
 "nbformat": 4,
 "nbformat_minor": 5
}
