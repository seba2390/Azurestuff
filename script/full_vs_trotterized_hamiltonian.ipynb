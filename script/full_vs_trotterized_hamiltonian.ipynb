{
 "cells": [
  {
   "cell_type": "code",
   "execution_count": 1,
   "id": "initial_id",
   "metadata": {
    "collapsed": true,
    "ExecuteTime": {
     "end_time": "2024-02-15T15:53:52.415888900Z",
     "start_time": "2024-02-15T15:53:51.090409300Z"
    }
   },
   "outputs": [],
   "source": [
    "import numpy as np\n",
    "import scipy as sc\n",
    "import matplotlib.pyplot as plt\n",
    "from tqdm import tqdm\n",
    "\n",
    "from src.Qiskit_CP_VQA import CP_VQA\n",
    "\n",
    "\n",
    "from src.Chain import Chain\n",
    "from src.Qubo import Qubo\n",
    "from src.Tools import (portfolio_metrics, \n",
    "                       min_cost_partition, \n",
    "                       normalized_cost,\n",
    "                       get_qubo, \n",
    "                       qubo_limits, \n",
    "                       check_qubo)"
   ]
  },
  {
   "cell_type": "code",
   "outputs": [
    {
     "name": "stderr",
     "output_type": "stream",
     "text": [
      "  0%|          | 0/1 [00:00<?, ?it/s]"
     ]
    }
   ],
   "source": [
    "N_min, N_max = 4, 4\n",
    "\n",
    "qiskit_full_res = {N: [] for N in range(N_min, N_max + 1)}\n",
    "qiskit_reduced_res = {N: [] for N in range(N_min, N_max + 1)}\n",
    "\n",
    "\n",
    "max_iter = 1000\n",
    "N_seeds = 5\n",
    "start_seed = 100\n",
    "w_nnn = False\n",
    "\n",
    "layer_dict = {4:  2, 5:  1, 6 : 1,\n",
    "              7:  2, 8 : 2, 9 : 2, \n",
    "              10: 3, 11: 3, 12: 3, \n",
    "              13: 4, 14: 4, 15: 4, \n",
    "              16: 5, 17: 5, 18: 5, \n",
    "              19: 6, 20: 6, 21: 6}\n",
    " # Choosing optimizer for scipy\n",
    "optimizer_method = 'COBYLA'\n",
    "for N in tqdm(range(N_min, N_max+1)):\n",
    "    k = N // 2\n",
    "    init_strat = np.array([1 if i%2 == 1 else 0 for i in range(N)])\n",
    "    my_indices = [(i, i+1) for i in range(N-1)]\n",
    "    alpha = 0.5\n",
    "    for repetition in range(N_seeds):\n",
    "         # Defining topology\n",
    "        my_chain = Chain(N_qubits=N)\n",
    "        my_chain.set_initialization_strategy(strategy=init_strat)\n",
    "        # Deciding between grid and 1d chain topology\n",
    "        my_topology = my_chain\n",
    "        # Generating random problem instance \n",
    "        expected_returns, covariances = portfolio_metrics(n=N, seed=start_seed)\n",
    "        # Retrieving C_min, C_max and corresponding states for original portfolio problem\n",
    "        constrained_result, full_result, lmbda = min_cost_partition(nr_qubits=N,\n",
    "                                                                    k=k,\n",
    "                                                                    mu=expected_returns,\n",
    "                                                                    sigma=covariances,\n",
    "                                                                    alpha=alpha)\n",
    "        portfolio_subspace_max_cost, portfolio_subspace_min_cost, portfolio_subspace_min_state = constrained_result['c_max'], constrained_result['c_min'], constrained_result['s']\n",
    "        portfolio_subspace_min_state_str = ''.join([str(_) for _ in portfolio_subspace_min_state])\n",
    "        # Generating QUBO corresponding to current problem instance\n",
    "        Q, offset = get_qubo(mu=expected_returns,\n",
    "                             sigma=covariances, \n",
    "                             alpha=alpha,\n",
    "                             lmbda=lmbda+1e-8, # Adding small constant purposely\n",
    "                             k=k)\n",
    "        qubo = Qubo(Q=Q, offset=offset) \n",
    "        QUBO_limits = qubo_limits(Q=Q,offset=offset)\n",
    "        qubo_min_cost, qubo_max_cost = QUBO_limits['c_min'], QUBO_limits['c_max']\n",
    "        qubo_min_state, qubo_max_state = QUBO_limits['min_state'], QUBO_limits['max_state']\n",
    "        check_qubo(QUBO_matrix=Q, QUBO_offset=offset, expected_returns=expected_returns, covariances=covariances, alpha=alpha, k=k)\n",
    "        qubo_min_state_str = ''.join([str(_) for _ in qubo_min_state])\n",
    "        \n",
    "        if not portfolio_subspace_min_state_str == qubo_min_state_str:\n",
    "            raise RuntimeError(f'portfolio_subspace_min_state_str: {portfolio_subspace_min_state_str}, qubo_min_state_str={qubo_min_state_str}'+f'Min. cost of qubo is: {qubo_min_cost}, but min. cost of constrained portfolio is: {portfolio_subspace_min_cost}.')\n",
    "        \n",
    "        if not np.isclose(qubo_min_cost,portfolio_subspace_min_cost):\n",
    "            raise RuntimeError(f'Min. cost of qubo is: {qubo_min_cost}, but min. cost of constrained portfolio is: {portfolio_subspace_min_cost}.')\n",
    "        \n",
    "        if not qubo_max_cost >= portfolio_subspace_max_cost:\n",
    "            raise RuntimeError(f'Max. cost of qubo: {qubo_max_cost}, max. cost of portfolio subspace: {portfolio_subspace_max_cost} (should be qubo max. >= constrained portfolio max)')\n",
    "         \n",
    "        qiskit_ansatz_full = CP_VQA(N_qubits=N,\n",
    "                                    cardinality=k,\n",
    "                                    layers=layer_dict[N],\n",
    "                                    topology=my_topology,\n",
    "                                    with_next_nearest_neighbors=w_nnn,\n",
    "                                    approximate_hamiltonian=False,\n",
    "                                    qubo=qubo)\n",
    "         \n",
    "        qiskit_ansatz_reduced = CP_VQA(N_qubits=N,\n",
    "                                        cardinality=k,\n",
    "                                        layers=layer_dict[N],\n",
    "                                        topology=my_topology,\n",
    "                                        with_next_nearest_neighbors=w_nnn,\n",
    "                                        approximate_hamiltonian=True,\n",
    "                                        qubo=qubo)\n",
    "         \n",
    "        \n",
    "         # Generating initial guess for rotation angles\n",
    "        np.random.seed(start_seed)\n",
    "        theta_min, theta_max = -2*np.pi, 2*np.pi\n",
    "        N_angles = layer_dict[N] * len(my_topology.get_NNN_indices()) if w_nnn else layer_dict[N] * len(my_topology.get_NN_indices())\n",
    "        theta_i = np.random.uniform(-2*np.pi, 2*np.pi, N_angles)\n",
    "        \n",
    "        qiskit_sim_full = sc.optimize.minimize(fun=qiskit_ansatz_full.get_cost, \n",
    "                                               x0=theta_i,\n",
    "                                               method=optimizer_method,\n",
    "                                               options={'disp': False, \n",
    "                                                        'maxiter': max_iter})\n",
    "         \n",
    "        full_norm_c = normalized_cost(result=qiskit_ansatz_full.counts,\n",
    "                                      QUBO_matrix=Q,\n",
    "                                      QUBO_offset=offset,\n",
    "                                      max_cost=portfolio_subspace_max_cost, \n",
    "                                      min_cost=qubo_min_cost)\n",
    "        if portfolio_subspace_min_state_str in list(qiskit_ansatz_full.counts.keys()):\n",
    "            full_norm_p = qiskit_ansatz_full.counts[portfolio_subspace_min_state_str]\n",
    "        else:\n",
    "            full_norm_p = 0.0\n",
    "        qiskit_full_res[N].append([full_norm_c,full_norm_p])     \n",
    "        \n",
    "        \n",
    "        qiskit_sim_reduced = sc.optimize.minimize(fun=qiskit_ansatz_reduced.get_cost, \n",
    "                                                  x0=theta_i,\n",
    "                                                  method=optimizer_method,\n",
    "                                                  options={'disp': False, \n",
    "                                                            'maxiter': max_iter})\n",
    "        reduced_norm_c = normalized_cost(result=qiskit_ansatz_reduced.counts,\n",
    "                                         QUBO_matrix=Q,\n",
    "                                         QUBO_offset=offset,\n",
    "                                         max_cost=portfolio_subspace_max_cost, \n",
    "                                         min_cost=qubo_min_cost)\n",
    "        if portfolio_subspace_min_state_str in list(qiskit_ansatz_reduced.counts.keys()):\n",
    "            reduced_norm_p = qiskit_ansatz_reduced.counts[portfolio_subspace_min_state_str]\n",
    "        else:\n",
    "            reduced_norm_p = 0.0\n",
    "        qiskit_reduced_res[N].append([reduced_norm_c,reduced_norm_p])     \n",
    "        \n",
    "        start_seed += 1"
   ],
   "metadata": {
    "collapsed": false,
    "is_executing": true,
    "ExecuteTime": {
     "start_time": "2024-02-15T15:55:05.374619300Z"
    }
   },
   "id": "240879f42ac00ed1",
   "execution_count": null
  },
  {
   "cell_type": "code",
   "outputs": [
    {
     "data": {
      "text/plain": "{4: [[0.0, 0.554871551184684],\n  [0.0, 0.999999953816479],\n  [0.008983914509257956, 2.256687e-09],\n  [0.2937125184392704, 7.02971e-10],\n  [0.0, 0.99986757078312]]}"
     },
     "execution_count": 5,
     "metadata": {},
     "output_type": "execute_result"
    }
   ],
   "source": [
    "qiskit_full_res"
   ],
   "metadata": {
    "collapsed": false,
    "ExecuteTime": {
     "end_time": "2024-02-15T15:54:42.601723900Z",
     "start_time": "2024-02-15T15:54:42.589639300Z"
    }
   },
   "id": "48bbb7c175cbae78",
   "execution_count": 5
  },
  {
   "cell_type": "code",
   "outputs": [
    {
     "data": {
      "text/plain": "{4: [[0.18113500082497608, 0.0],\n  [0.0, 0.999999996201461],\n  [0.008983914509257956, 0.0],\n  [0.2937125184392704, 0.0],\n  [0.0, 0.999999986748989]]}"
     },
     "execution_count": 6,
     "metadata": {},
     "output_type": "execute_result"
    }
   ],
   "source": [
    "qiskit_reduced_res"
   ],
   "metadata": {
    "collapsed": false,
    "ExecuteTime": {
     "end_time": "2024-02-15T15:54:43.526456400Z",
     "start_time": "2024-02-15T15:54:43.518505200Z"
    }
   },
   "id": "58e30877fd9e633d",
   "execution_count": 6
  },
  {
   "cell_type": "code",
   "outputs": [],
   "source": [],
   "metadata": {
    "collapsed": false,
    "ExecuteTime": {
     "end_time": "2024-02-15T15:54:12.620614100Z",
     "start_time": "2024-02-15T15:54:12.603855Z"
    }
   },
   "id": "ac9bee2f2bc33ca3",
   "execution_count": 4
  }
 ],
 "metadata": {
  "kernelspec": {
   "display_name": "Python 3",
   "language": "python",
   "name": "python3"
  },
  "language_info": {
   "codemirror_mode": {
    "name": "ipython",
    "version": 2
   },
   "file_extension": ".py",
   "mimetype": "text/x-python",
   "name": "python",
   "nbconvert_exporter": "python",
   "pygments_lexer": "ipython2",
   "version": "2.7.6"
  }
 },
 "nbformat": 4,
 "nbformat_minor": 5
}
