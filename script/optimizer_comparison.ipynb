{
 "cells": [
  {
   "cell_type": "code",
   "execution_count": 1,
   "id": "initial_id",
   "metadata": {
    "collapsed": true,
    "ExecuteTime": {
     "end_time": "2024-02-21T01:02:41.192447Z",
     "start_time": "2024-02-21T01:02:40.499954Z"
    }
   },
   "outputs": [],
   "source": [
    "import numpy as np\n",
    "import scipy as sc\n",
    "import matplotlib.pyplot as plt\n",
    "from joblib import Parallel, delayed\n",
    "\n",
    "from src.CP_VQA.Qulacs_CP_VQA import Qulacs_CP_VQA\n",
    "\n",
    "from src.Qubo import Qubo\n",
    "from src.Chain import Chain\n",
    "from src.Tools import (portfolio_metrics, \n",
    "                       min_cost_partition, \n",
    "                       get_qubo, \n",
    "                       check_qubo)\n",
    "from src.custom_optimizers.Simulated_annealing import simulated_annealing\n",
    "from src.custom_optimizers.BFGS import BFGS"
   ]
  },
  {
   "cell_type": "code",
   "execution_count": 2,
   "outputs": [],
   "source": [
    "def simulate(settings: dict):\n",
    "    result = {'N':settings['N']}\n",
    "    # Generating random problem instance \n",
    "    expected_returns, covariances = portfolio_metrics(n=settings['N'], seed=settings['seed'])\n",
    "    # Retrieving C_min, C_max and corresponding states for original portfolio problem\n",
    "    constrained_result, full_result, lmbda = min_cost_partition(nr_qubits=settings['N'],\n",
    "                                                                k=settings['k'],\n",
    "                                                                mu=expected_returns,\n",
    "                                                                sigma=covariances,\n",
    "                                                                alpha=settings['alpha'])\n",
    "\n",
    "    # Generating QUBO corresponding to current problem instance\n",
    "    Q, offset = get_qubo(mu=expected_returns,\n",
    "                         sigma=covariances, \n",
    "                         alpha=settings['alpha'],\n",
    "                         lmbda=lmbda+1, # Adding small constant purposely\n",
    "                         k=settings['k'])\n",
    "    qubo = Qubo(Q=Q, offset=offset) \n",
    "    qubo.subspace_c_min, qubo.subspace_c_max = constrained_result['c_min'], constrained_result['c_max']\n",
    "    qubo.subspace_x_min, qubo.subspace_x_max = constrained_result['s_min'], constrained_result['s_max']\n",
    "    qubo.full_space_c_min, qubo.full_space_c_max = full_result['c_min'], full_result['c_max']\n",
    "    check_qubo(QUBO_matrix=Q, QUBO_offset=offset, expected_returns=expected_returns, covariances=covariances, alpha=settings['alpha'], k=settings['k'])\n",
    "     \n",
    "\n",
    "    \n",
    "    powell = Qulacs_CP_VQA(N_qubits=settings['N'],\n",
    "                       cardinality=settings['k'],\n",
    "                       layers=settings['L'],\n",
    "                       topology=settings['topology'],\n",
    "                       with_next_nearest_neighbors=settings['w_nnn'],\n",
    "                       get_full_state_vector=False,\n",
    "                       qubo=qubo)\n",
    "     \n",
    "    cobyla = Qulacs_CP_VQA(N_qubits=settings['N'],\n",
    "                           cardinality=settings['k'],\n",
    "                           layers=settings['L'],\n",
    "                           topology=settings['topology'],\n",
    "                           with_next_nearest_neighbors=settings['w_nnn'],\n",
    "                           get_full_state_vector=False,\n",
    "                           qubo=qubo)\n",
    "    \n",
    "    annealing = Qulacs_CP_VQA(N_qubits=settings['N'],\n",
    "                           cardinality=settings['k'],\n",
    "                           layers=settings['L'],\n",
    "                           topology=settings['topology'],\n",
    "                           with_next_nearest_neighbors=settings['w_nnn'],\n",
    "                           get_full_state_vector=False,\n",
    "                           qubo=qubo)\n",
    "\n",
    "    bfgs = Qulacs_CP_VQA(N_qubits=settings['N'],\n",
    "                         cardinality=settings['k'],\n",
    "                         layers=settings['L'],\n",
    "                         topology=settings['topology'],\n",
    "                         with_next_nearest_neighbors=settings['w_nnn'],\n",
    "                         get_full_state_vector=False,\n",
    "                         qubo=qubo)\n",
    "    \n",
    "     # Generating initial guess for rotation angles\n",
    "    np.random.seed(settings['seed'])\n",
    "    theta_min, theta_max = -2*np.pi, 2*np.pi\n",
    "    N_angles = settings['L'] * len(settings['topology'].get_NNN_indices()) if settings['w_nnn'] else settings['L'] * len(settings['topology'].get_NN_indices())\n",
    "    CPVQA_theta_i = np.random.uniform(theta_min, theta_max, N_angles)\n",
    "    \n",
    "    powell_sim_res = sc.optimize.minimize(fun=powell.get_cost, \n",
    "                                          x0=CPVQA_theta_i,\n",
    "                                          method='Powell',\n",
    "                                          bounds=[(-2*np.pi, 2*np.pi) for _ in range(N_angles)],\n",
    "                                          options={'disp': False, \n",
    "                                                 'maxiter': settings['max_iter'],\n",
    "                                                   'maxfev': settings['max_iter']},\n",
    "                                          callback=powell.callback)\n",
    "    powell_norm_c = np.min(powell.normalized_costs)\n",
    "    powell_p = np.max(powell.opt_state_probabilities)    \n",
    "    \n",
    "    cobyla_sim_res = sc.optimize.minimize(fun=cobyla.get_cost, \n",
    "                                          x0=CPVQA_theta_i,\n",
    "                                          method='COBYLA',\n",
    "                                          bounds=[(-2*np.pi, 2*np.pi) for _ in range(N_angles)],\n",
    "                                          options={'disp': False, \n",
    "                                                   'maxiter': settings['max_iter']},\n",
    "                                          callback=cobyla.callback)\n",
    "    cobyla_norm_c = np.min(cobyla.normalized_costs)\n",
    "    cobyla_p = np.max(cobyla.opt_state_probabilities)\n",
    "    \n",
    "    annealing_sim_res = simulated_annealing(fun=annealing.get_cost,\n",
    "                                            x0=CPVQA_theta_i,\n",
    "                                            cooling_rate=0.85,\n",
    "                                            bounds=[(-2*np.pi, 2*np.pi) for _ in range(N_angles)],\n",
    "                                            initial_temperature=qubo.subspace_c_max,\n",
    "                                            callback=annealing.callback,\n",
    "                                            max_iterations=settings['max_iter'])\n",
    "    annealing_norm_c = np.min(annealing.normalized_costs)\n",
    "    annealing_p = np.max(annealing.opt_state_probabilities)\n",
    "    \n",
    "    \"\"\"bfgs_sim_res = BFGS(fun=bfgs.get_cost,\n",
    "                        x0=CPVQA_theta_i,\n",
    "                        callback=bfgs.callback,\n",
    "                        max_iterations=settings['max_iter'])\n",
    "    bfgs_norm_c = np.min(bfgs.normalized_costs)\n",
    "    bfgs_p = np.max(bfgs.opt_state_probabilities)\"\"\"\n",
    "    \n",
    "    \n",
    "    return  {'N':settings['N'], \n",
    "             'powell': {'c':powell_norm_c,'p':powell_p, 'res': powell_sim_res}, \n",
    "             'cobyla': {'c':cobyla_norm_c,'p':cobyla_p, 'res': cobyla_sim_res},\n",
    "             'annealing': {'c':annealing_norm_c,'p':annealing_p, 'res': annealing_sim_res}}#,\n",
    "             #'bfgs': {'c':bfgs_norm_c,'p':bfgs_p, 'res': bfgs_sim_res}}"
   ],
   "metadata": {
    "collapsed": false,
    "ExecuteTime": {
     "end_time": "2024-02-21T01:02:41.209333Z",
     "start_time": "2024-02-21T01:02:41.203679Z"
    }
   },
   "id": "d4c30a1c5082473c"
  },
  {
   "cell_type": "code",
   "execution_count": 3,
   "outputs": [],
   "source": [
    "layer_dict = {2:1,  3:1,  4:2,\n",
    "              5:2,  6:3,  7:3,\n",
    "              8:5,  9:6,  10:6,\n",
    "              11:5, 12:5, 13:5,\n",
    "              14:5, 15:5, 16:5,\n",
    "              17:6, 18:6, 19:6, \n",
    "              20:7, 21:7, 22:7}\n",
    "\n",
    "max_iter = 1500\n",
    "alpha=0.5\n",
    "N_seeds = 20\n",
    "N_min, N_max = 4, 8\n",
    "sim_settings = []\n",
    "for seed in range(N_seeds):\n",
    "    for N in range(N_min, N_max+1):\n",
    "        topology = Chain(N_qubits=N)\n",
    "        topology.set_initialization_strategy(strategy=np.array([0 if i%2 == 0 else 1 for i in range(N)]))\n",
    "        setting = {'N'         :N,       'alpha'   :alpha,   'L'       :layer_dict[N], \n",
    "                   'seed'      :seed,    'topology':topology,'max_iter':max_iter,\n",
    "                   'opt_method':'COBYLA','w_nnn'   :True,    'k'       :N//2}\n",
    "        sim_settings.append(setting)"
   ],
   "metadata": {
    "collapsed": false,
    "ExecuteTime": {
     "end_time": "2024-02-21T01:02:41.217980Z",
     "start_time": "2024-02-21T01:02:41.211806Z"
    }
   },
   "id": "9bc81a570645737a"
  },
  {
   "cell_type": "code",
   "execution_count": 4,
   "outputs": [
    {
     "name": "stdout",
     "output_type": "stream",
     "text": [
      "[Parallel(n_jobs=15)]: Using backend LokyBackend with 15 concurrent workers.\n"
     ]
    },
    {
     "ename": "KeyboardInterrupt",
     "evalue": "",
     "output_type": "error",
     "traceback": [
      "\u001B[0;31m---------------------------------------------------------------------------\u001B[0m",
      "\u001B[0;31mKeyboardInterrupt\u001B[0m                         Traceback (most recent call last)",
      "Cell \u001B[0;32mIn [4], line 2\u001B[0m\n\u001B[1;32m      1\u001B[0m N_jobs\u001B[38;5;241m=\u001B[39m\u001B[38;5;241m15\u001B[39m\n\u001B[0;32m----> 2\u001B[0m r \u001B[38;5;241m=\u001B[39m \u001B[43mParallel\u001B[49m\u001B[43m(\u001B[49m\u001B[43mn_jobs\u001B[49m\u001B[38;5;241;43m=\u001B[39;49m\u001B[43mN_jobs\u001B[49m\u001B[43m,\u001B[49m\u001B[43m \u001B[49m\u001B[43mverbose\u001B[49m\u001B[38;5;241;43m=\u001B[39;49m\u001B[38;5;241;43m51\u001B[39;49m\u001B[43m,\u001B[49m\u001B[43m \u001B[49m\u001B[43mbackend\u001B[49m\u001B[38;5;241;43m=\u001B[39;49m\u001B[38;5;124;43m'\u001B[39;49m\u001B[38;5;124;43mloky\u001B[39;49m\u001B[38;5;124;43m'\u001B[39;49m\u001B[43m)\u001B[49m\u001B[43m(\u001B[49m\u001B[43mdelayed\u001B[49m\u001B[43m(\u001B[49m\u001B[43msimulate\u001B[49m\u001B[43m)\u001B[49m\u001B[43m(\u001B[49m\u001B[43msetting\u001B[49m\u001B[43m)\u001B[49m\u001B[43m \u001B[49m\u001B[38;5;28;43;01mfor\u001B[39;49;00m\u001B[43m \u001B[49m\u001B[43msetting\u001B[49m\u001B[43m \u001B[49m\u001B[38;5;129;43;01min\u001B[39;49;00m\u001B[43m \u001B[49m\u001B[43msim_settings\u001B[49m\u001B[43m)\u001B[49m\n",
      "File \u001B[0;32m~/miniforge3/lib/python3.10/site-packages/joblib/parallel.py:1952\u001B[0m, in \u001B[0;36mParallel.__call__\u001B[0;34m(self, iterable)\u001B[0m\n\u001B[1;32m   1946\u001B[0m \u001B[38;5;66;03m# The first item from the output is blank, but it makes the interpreter\u001B[39;00m\n\u001B[1;32m   1947\u001B[0m \u001B[38;5;66;03m# progress until it enters the Try/Except block of the generator and\u001B[39;00m\n\u001B[1;32m   1948\u001B[0m \u001B[38;5;66;03m# reach the first `yield` statement. This starts the aynchronous\u001B[39;00m\n\u001B[1;32m   1949\u001B[0m \u001B[38;5;66;03m# dispatch of the tasks to the workers.\u001B[39;00m\n\u001B[1;32m   1950\u001B[0m \u001B[38;5;28mnext\u001B[39m(output)\n\u001B[0;32m-> 1952\u001B[0m \u001B[38;5;28;01mreturn\u001B[39;00m output \u001B[38;5;28;01mif\u001B[39;00m \u001B[38;5;28mself\u001B[39m\u001B[38;5;241m.\u001B[39mreturn_generator \u001B[38;5;28;01melse\u001B[39;00m \u001B[38;5;28;43mlist\u001B[39;49m\u001B[43m(\u001B[49m\u001B[43moutput\u001B[49m\u001B[43m)\u001B[49m\n",
      "File \u001B[0;32m~/miniforge3/lib/python3.10/site-packages/joblib/parallel.py:1595\u001B[0m, in \u001B[0;36mParallel._get_outputs\u001B[0;34m(self, iterator, pre_dispatch)\u001B[0m\n\u001B[1;32m   1592\u001B[0m     \u001B[38;5;28;01myield\u001B[39;00m\n\u001B[1;32m   1594\u001B[0m     \u001B[38;5;28;01mwith\u001B[39;00m \u001B[38;5;28mself\u001B[39m\u001B[38;5;241m.\u001B[39m_backend\u001B[38;5;241m.\u001B[39mretrieval_context():\n\u001B[0;32m-> 1595\u001B[0m         \u001B[38;5;28;01myield from\u001B[39;00m \u001B[38;5;28mself\u001B[39m\u001B[38;5;241m.\u001B[39m_retrieve()\n\u001B[1;32m   1597\u001B[0m \u001B[38;5;28;01mexcept\u001B[39;00m \u001B[38;5;167;01mGeneratorExit\u001B[39;00m:\n\u001B[1;32m   1598\u001B[0m     \u001B[38;5;66;03m# The generator has been garbage collected before being fully\u001B[39;00m\n\u001B[1;32m   1599\u001B[0m     \u001B[38;5;66;03m# consumed. This aborts the remaining tasks if possible and warn\u001B[39;00m\n\u001B[1;32m   1600\u001B[0m     \u001B[38;5;66;03m# the user if necessary.\u001B[39;00m\n\u001B[1;32m   1601\u001B[0m     \u001B[38;5;28mself\u001B[39m\u001B[38;5;241m.\u001B[39m_exception \u001B[38;5;241m=\u001B[39m \u001B[38;5;28;01mTrue\u001B[39;00m\n",
      "File \u001B[0;32m~/miniforge3/lib/python3.10/site-packages/joblib/parallel.py:1707\u001B[0m, in \u001B[0;36mParallel._retrieve\u001B[0;34m(self)\u001B[0m\n\u001B[1;32m   1702\u001B[0m \u001B[38;5;66;03m# If the next job is not ready for retrieval yet, we just wait for\u001B[39;00m\n\u001B[1;32m   1703\u001B[0m \u001B[38;5;66;03m# async callbacks to progress.\u001B[39;00m\n\u001B[1;32m   1704\u001B[0m \u001B[38;5;28;01mif\u001B[39;00m ((\u001B[38;5;28mlen\u001B[39m(\u001B[38;5;28mself\u001B[39m\u001B[38;5;241m.\u001B[39m_jobs) \u001B[38;5;241m==\u001B[39m \u001B[38;5;241m0\u001B[39m) \u001B[38;5;129;01mor\u001B[39;00m\n\u001B[1;32m   1705\u001B[0m     (\u001B[38;5;28mself\u001B[39m\u001B[38;5;241m.\u001B[39m_jobs[\u001B[38;5;241m0\u001B[39m]\u001B[38;5;241m.\u001B[39mget_status(\n\u001B[1;32m   1706\u001B[0m         timeout\u001B[38;5;241m=\u001B[39m\u001B[38;5;28mself\u001B[39m\u001B[38;5;241m.\u001B[39mtimeout) \u001B[38;5;241m==\u001B[39m TASK_PENDING)):\n\u001B[0;32m-> 1707\u001B[0m     \u001B[43mtime\u001B[49m\u001B[38;5;241;43m.\u001B[39;49m\u001B[43msleep\u001B[49m\u001B[43m(\u001B[49m\u001B[38;5;241;43m0.01\u001B[39;49m\u001B[43m)\u001B[49m\n\u001B[1;32m   1708\u001B[0m     \u001B[38;5;28;01mcontinue\u001B[39;00m\n\u001B[1;32m   1710\u001B[0m \u001B[38;5;66;03m# We need to be careful: the job list can be filling up as\u001B[39;00m\n\u001B[1;32m   1711\u001B[0m \u001B[38;5;66;03m# we empty it and Python list are not thread-safe by\u001B[39;00m\n\u001B[1;32m   1712\u001B[0m \u001B[38;5;66;03m# default hence the use of the lock\u001B[39;00m\n",
      "\u001B[0;31mKeyboardInterrupt\u001B[0m: "
     ]
    }
   ],
   "source": [
    "N_jobs=15\n",
    "r = Parallel(n_jobs=N_jobs, verbose=51, backend='loky')(delayed(simulate)(setting) for setting in sim_settings)"
   ],
   "metadata": {
    "collapsed": false,
    "ExecuteTime": {
     "end_time": "2024-02-21T01:03:04.181784Z",
     "start_time": "2024-02-21T01:02:41.221506Z"
    }
   },
   "id": "147cf0f0972c237"
  },
  {
   "cell_type": "code",
   "execution_count": null,
   "outputs": [],
   "source": [
    "\n",
    "cobyla_res  = {N: [] for N in range(N_min,N_max+1)}\n",
    "powell_res  = {N: [] for N in range(N_min,N_max+1)}\n",
    "annealing_res  = {N: [] for N in range(N_min,N_max+1)}\n",
    "\n",
    "for res in r: \n",
    "    powell_res[res['N']].append([res['powell']['c'],res['powell']['p'], res['powell']['res'].nfev])\n",
    "    cobyla_res[res['N']].append([res['cobyla']['c'],res['cobyla']['p'], res['cobyla']['res'].nfev])\n",
    "    annealing_res[res['N']].append([res['annealing']['c'],res['annealing']['p'], res['annealing']['res'].nfev])\n"
   ],
   "metadata": {
    "collapsed": false,
    "ExecuteTime": {
     "start_time": "2024-02-21T01:03:04.179607Z"
    }
   },
   "id": "e36b437b5db86011"
  },
  {
   "cell_type": "code",
   "execution_count": null,
   "outputs": [],
   "source": [
    "\n",
    "N_vals = [n for n in range(N_min, N_max+1)]\n",
    "\n",
    "fig, ax = plt.subplots(1,3,figsize=(20,4))\n",
    "\n",
    "\n",
    "ax[0].errorbar(x=N_vals, \n",
    "               y=[np.mean(np.array(cobyla_res[N])[:,0]) for N in range(N_min,N_max+1)], \n",
    "               yerr=[np.std(np.array(cobyla_res[N])[:,0]) for N in range(N_min,N_max+1)], \n",
    "               fmt='.-', capsize=2, label='Cobyla')\n",
    "ax[0].errorbar(x=N_vals, \n",
    "               y=[np.mean(np.array(powell_res[N])[:,0]) for N in range(N_min,N_max+1)], \n",
    "               yerr=[np.std(np.array(powell_res[N])[:,0]) for N in range(N_min,N_max+1)], \n",
    "               fmt='.-', capsize=2, label='Powell')\n",
    "ax[0].errorbar(x=N_vals, \n",
    "               y=[np.mean(np.array(annealing_res[N])[:,0]) for N in range(N_min,N_max+1)], \n",
    "               yerr=[np.std(np.array(annealing_res[N])[:,0]) for N in range(N_min,N_max+1)], \n",
    "               fmt='.-', capsize=2, label='Annealing')\n",
    "\n",
    "ax[1].errorbar(x=N_vals, \n",
    "               y=[np.mean(np.array(cobyla_res[N])[:,1]) for N in range(N_min,N_max+1)], \n",
    "               yerr=[np.std(np.array(cobyla_res[N])[:,1]) for N in range(N_min,N_max+1)], \n",
    "               fmt='.-', capsize=2, label='Cobyla')\n",
    "\n",
    "ax[1].errorbar(x=N_vals, \n",
    "               y=[np.mean(np.array(powell_res[N])[:,1]) for N in range(N_min,N_max+1)], \n",
    "               yerr=[np.std(np.array(powell_res[N])[:,1]) for N in range(N_min,N_max+1)], \n",
    "               fmt='.-', capsize=2, label='Powell')\n",
    "ax[1].errorbar(x=N_vals, \n",
    "               y=[np.mean(np.array(annealing_res[N])[:,1]) for N in range(N_min,N_max+1)], \n",
    "               yerr=[np.std(np.array(annealing_res[N])[:,1]) for N in range(N_min,N_max+1)], \n",
    "               fmt='.-', capsize=2, label='Annealing')\n",
    "\n",
    "ax[2].errorbar(x=N_vals, \n",
    "               y=[np.mean(np.array(cobyla_res[N])[:,2]) for N in range(N_min,N_max+1)], \n",
    "               yerr=[np.std(np.array(cobyla_res[N])[:,2]) for N in range(N_min,N_max+1)], \n",
    "               fmt='.-', capsize=2, label='Cobyla')\n",
    "\n",
    "ax[2].errorbar(x=N_vals, \n",
    "               y=[np.mean(np.array(powell_res[N])[:,2]) for N in range(N_min,N_max+1)], \n",
    "               yerr=[np.std(np.array(powell_res[N])[:,2]) for N in range(N_min,N_max+1)], \n",
    "               fmt='.-', capsize=2, label='Powell')\n",
    "ax[2].errorbar(x=N_vals, \n",
    "               y=[np.mean(np.array(annealing_res[N])[:,2]) for N in range(N_min,N_max+1)], \n",
    "               yerr=[np.std(np.array(annealing_res[N])[:,2]) for N in range(N_min,N_max+1)], \n",
    "               fmt='.-', capsize=2, label='Annealing')\n",
    "\n",
    "for ax_idx in range(3):\n",
    "    ax[ax_idx].set_xlabel('# Qubits')\n",
    "    ax[ax_idx].set_xticks(N_vals)\n",
    "    ax[ax_idx].legend()\n",
    "\n",
    "ax[0].set_ylabel('Normalized cost')\n",
    "ax[1].set_ylabel('Ground state prob.')\n",
    "ax[2].set_ylabel('Nfev')\n",
    "\n",
    "#plt.savefig('simulator_comparison_3.png', dpi=400)"
   ],
   "metadata": {
    "collapsed": false,
    "ExecuteTime": {
     "start_time": "2024-02-21T01:03:04.180943Z"
    }
   },
   "id": "ac0b95da287bfdc4"
  },
  {
   "cell_type": "markdown",
   "source": [],
   "metadata": {
    "collapsed": false
   },
   "id": "c7bd980e886f2111"
  },
  {
   "cell_type": "code",
   "execution_count": null,
   "outputs": [],
   "source": [
    "[np.mean(np.array(annealing_res[N])[:,2]) for N in range(N_min,N_max+1)]"
   ],
   "metadata": {
    "collapsed": false,
    "ExecuteTime": {
     "start_time": "2024-02-21T01:03:04.182415Z"
    }
   },
   "id": "c452476aa9901944"
  },
  {
   "cell_type": "code",
   "execution_count": null,
   "outputs": [],
   "source": [],
   "metadata": {
    "collapsed": false,
    "ExecuteTime": {
     "start_time": "2024-02-21T01:03:04.183160Z"
    }
   },
   "id": "5bceff4214f89961"
  }
 ],
 "metadata": {
  "kernelspec": {
   "display_name": "Python 3",
   "language": "python",
   "name": "python3"
  },
  "language_info": {
   "codemirror_mode": {
    "name": "ipython",
    "version": 2
   },
   "file_extension": ".py",
   "mimetype": "text/x-python",
   "name": "python",
   "nbconvert_exporter": "python",
   "pygments_lexer": "ipython2",
   "version": "2.7.6"
  }
 },
 "nbformat": 4,
 "nbformat_minor": 5
}
