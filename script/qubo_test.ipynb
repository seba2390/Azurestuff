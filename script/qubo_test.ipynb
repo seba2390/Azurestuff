{
 "cells": [
  {
   "cell_type": "code",
   "execution_count": 1,
   "id": "initial_id",
   "metadata": {
    "collapsed": true,
    "ExecuteTime": {
     "end_time": "2024-02-15T15:33:34.569742200Z",
     "start_time": "2024-02-15T15:33:34.260519400Z"
    }
   },
   "outputs": [],
   "source": [
    "from time import time\n",
    "\n",
    "import numpy as np\n",
    "\n",
    "from src.Qubo import *"
   ]
  },
  {
   "cell_type": "code",
   "outputs": [
    {
     "name": "stdout",
     "output_type": "stream",
     "text": [
      "time taken: 1.2907619476 s\n"
     ]
    }
   ],
   "source": [
    "N=25\n",
    "Q = np.random.uniform(low=-1.0,high=1.0,size=(N,N))\n",
    "qubo = Qubo(Q,0)\n",
    "start = time()\n",
    "res = qubo.solve()\n",
    "stop = time()\n",
    "print(f'time taken: {np.round(stop-start,10)} s')"
   ],
   "metadata": {
    "collapsed": false,
    "ExecuteTime": {
     "end_time": "2024-02-15T15:37:59.340590500Z",
     "start_time": "2024-02-15T15:37:58.033876700Z"
    }
   },
   "id": "508cbe9ce4630334",
   "execution_count": 6
  },
  {
   "cell_type": "code",
   "outputs": [
    {
     "data": {
      "text/plain": "{'x_min': array([1., 1., 1., 1., 1., 0., 1., 1., 1., 1., 1., 1., 0., 1., 0., 1., 1.,\n        0., 1., 1., 0., 1., 1., 1., 1.], dtype=float32),\n 'v_min': -37.29932943265885,\n 'x_max': array([0., 1., 0., 0., 0., 1., 1., 1., 0., 1., 0., 1., 1., 0., 1., 0., 0.,\n        1., 1., 0., 1., 0., 0., 1., 0.], dtype=float32),\n 'v_max': 16.472724028863013}"
     },
     "execution_count": 7,
     "metadata": {},
     "output_type": "execute_result"
    }
   ],
   "source": [
    "res"
   ],
   "metadata": {
    "collapsed": false,
    "ExecuteTime": {
     "end_time": "2024-02-15T15:38:00.213512600Z",
     "start_time": "2024-02-15T15:38:00.194401200Z"
    }
   },
   "id": "2fc0b5dd555b286e",
   "execution_count": 7
  },
  {
   "cell_type": "code",
   "outputs": [
    {
     "name": "stdout",
     "output_type": "stream",
     "text": [
      "time taken: 0.944470643997 s\n"
     ]
    }
   ],
   "source": [
    "Q = np.random.uniform(low=-1.0,high=1.0,size=(N,N))\n",
    "qubo = Qubo(Q,0)\n",
    "start = time()\n",
    "res = qubo.solve_constrained(cardinality=15)\n",
    "stop = time()\n",
    "print(f'time taken: {np.round(stop-start,12)} s')\n"
   ],
   "metadata": {
    "collapsed": false,
    "ExecuteTime": {
     "end_time": "2024-02-15T15:38:01.538409800Z",
     "start_time": "2024-02-15T15:38:01.522694500Z"
    }
   },
   "id": "1275a30c30714b46",
   "execution_count": 8
  },
  {
   "cell_type": "code",
   "outputs": [
    {
     "data": {
      "text/plain": "{'x_min': array([0., 0., 0., 1., 0., 0., 0., 1., 1., 0., 0., 0., 0., 0., 0., 0., 0.,\n        0., 0., 1., 1., 1., 0., 1., 0.], dtype=float32),\n 'v_min': -22.00948715209961,\n 'x_max': array([1., 0., 0., 1., 0., 1., 0., 0., 1., 0., 0., 1., 0., 0., 1., 0., 0.,\n        1., 0., 0., 0., 0., 0., 0., 0.], dtype=float32),\n 'v_max': 15.742316246032715}"
     },
     "execution_count": 23,
     "metadata": {},
     "output_type": "execute_result"
    }
   ],
   "source": [
    "res"
   ],
   "metadata": {
    "collapsed": false,
    "ExecuteTime": {
     "end_time": "2024-02-15T15:29:57.995428200Z",
     "start_time": "2024-02-15T15:29:57.982531300Z"
    }
   },
   "id": "d80044c6bc082653",
   "execution_count": 23
  },
  {
   "cell_type": "code",
   "outputs": [],
   "source": [],
   "metadata": {
    "collapsed": false
   },
   "id": "13cf624e28198d00"
  }
 ],
 "metadata": {
  "kernelspec": {
   "display_name": "Python 3",
   "language": "python",
   "name": "python3"
  },
  "language_info": {
   "codemirror_mode": {
    "name": "ipython",
    "version": 2
   },
   "file_extension": ".py",
   "mimetype": "text/x-python",
   "name": "python",
   "nbconvert_exporter": "python",
   "pygments_lexer": "ipython2",
   "version": "2.7.6"
  }
 },
 "nbformat": 4,
 "nbformat_minor": 5
}
