{
 "cells": [
  {
   "cell_type": "code",
   "execution_count": 10,
   "id": "initial_id",
   "metadata": {
    "collapsed": true,
    "ExecuteTime": {
     "end_time": "2024-01-18T12:42:20.012781400Z",
     "start_time": "2024-01-18T12:42:20.001376Z"
    }
   },
   "outputs": [],
   "source": [
    "import os\n",
    "from joblib import Parallel, delayed\n",
    "from typing import Tuple\n",
    "\n",
    "import numpy as np\n",
    "import scipy as sc\n",
    "import matplotlib.pyplot as plt\n",
    "from tqdm import tqdm\n",
    "\n",
    "from src.CPQAOA import CP_QAOA\n",
    "from src.QAOA import QAOA\n",
    "from src.Grid import Grid\n",
    "from src.Chain import Chain\n",
    "from src.Tools import (portfolio_metrics, \n",
    "                       min_cost_partition, \n",
    "                       get_qubo, \n",
    "                       normalized_cost, \n",
    "                       qubo_limits, \n",
    "                       check_qubo,\n",
    "                       qubo_cost,\n",
    "                       partitioned_averages)"
   ]
  },
  {
   "cell_type": "code",
   "outputs": [
    {
     "name": "stdout",
     "output_type": "stream",
     "text": [
      " Qubit indices in chain: \n",
      " [0 1 2 3 4 5 6 7]\n",
      "\n",
      " Corresponding Nearest Neighbor index pairs: \n",
      " [(0, 1), (1, 2), (2, 3), (3, 4), (4, 5), (5, 6), (6, 7)]\n",
      "\n",
      " Corresponding Nearest Neighbor + Next Nearest index pairs: \n",
      " [(0, 1), (0, 2), (1, 2), (1, 3), (2, 3), (2, 4), (3, 4), (3, 5), (4, 5), (4, 6), (5, 6), (5, 7), (6, 7)]\n",
      "\n",
      " Initialization strategy is: \n",
      " [0 1 0 1 0 1 0 1]\n",
      "\n",
      " Corresponding indices is: \n",
      " [1, 3, 5, 7]\n"
     ]
    }
   ],
   "source": [
    "# Number of Qubits \n",
    "N=8\n",
    "# Number of excitations\n",
    "k=4\n",
    "# RNG seed for reproducibility\n",
    "seed=1\n",
    "# alpha in: s^T*mu + alpha*(s^T*Covar*s)\n",
    "alpha=0.5\n",
    "# Nr. of layer repetitions\n",
    "layers=1\n",
    "# Maximal number of iterations for classical solver\n",
    "max_iter=400\n",
    "# Using next nearest neighbors (in 1D chain model)\n",
    "w_next_nearest_neighbors = True\n",
    "\n",
    "\n",
    "my_chain = Chain(N_qubits=N)\n",
    "print(f' Qubit indices in chain: \\n', my_chain.get_chain_indexing())\n",
    "print(f'\\n Corresponding Nearest Neighbor index pairs: \\n', my_chain.get_NN_indices())\n",
    "print(f'\\n Corresponding Nearest Neighbor + Next Nearest index pairs: \\n', my_chain.get_NNN_indices())\n",
    "init_strat = np.array([0,1,0,1,0,1,0,1])\n",
    "my_chain.set_initialization_strategy(strategy=init_strat)\n",
    "print(f'\\n Initialization strategy is: \\n', my_chain.get_initialization_strategy())\n",
    "print(f'\\n Corresponding indices is: \\n', my_chain.get_initialization_indices())"
   ],
   "metadata": {
    "collapsed": false,
    "ExecuteTime": {
     "end_time": "2024-01-18T12:42:20.048029300Z",
     "start_time": "2024-01-18T12:42:20.014908800Z"
    }
   },
   "id": "ef9533d290587b00",
   "execution_count": 11
  },
  {
   "cell_type": "code",
   "outputs": [
    {
     "name": "stdout",
     "output_type": "stream",
     "text": [
      "Min. cost portfolio (constrained subspace): 10.786376008825837\n",
      "Optimal portfolio state (constrained subspace) is: |01100110>\n",
      "Min. cost QUBO: 10.786376008825869\n",
      "Min. cost QUBO state is: |01100110>\n"
     ]
    }
   ],
   "source": [
    "# Deciding between grid and 1d chain topology\n",
    "my_topology = my_chain\n",
    "# Generating random problem instance \n",
    "expected_returns, covariances = portfolio_metrics(n=N, seed=seed)\n",
    "\n",
    "# Retrieving C_min, C_max and corresponding states for original portfolio problem\n",
    "constrained_result, full_result, lmbda = min_cost_partition(nr_qubits=N,\n",
    "                                                            k=k,\n",
    "                                                            mu=expected_returns,\n",
    "                                                            sigma=covariances,\n",
    "                                                            alpha=alpha)\n",
    "\n",
    "portfolio_subspace_max_cost, portfolio_subspace_min_cost, portfolio_subspace_min_state = constrained_result['c_max'], constrained_result['c_min'], constrained_result['s']\n",
    "full_space_max_cost = full_result['c_max']\n",
    "portfolio_subspace_min_state_str = ''.join([str(_) for _ in portfolio_subspace_min_state])\n",
    "print(f\"Min. cost portfolio (constrained subspace): {portfolio_subspace_min_cost}\")\n",
    "print(\"Optimal portfolio state (constrained subspace) is: |\"+portfolio_subspace_min_state_str+\">\")\n",
    "\n",
    "# Generating QUBO corresponding to current problem instance\n",
    "Q, offset = get_qubo(mu=expected_returns,\n",
    "                     sigma=covariances, \n",
    "                     alpha=alpha,\n",
    "                     lmbda=lmbda+1e-8, # Adding small constant purposely\n",
    "                     k=k)\n",
    "QUBO_limits = qubo_limits(Q=Q,offset=offset)\n",
    "qubo_min_cost, qubo_max_cost = QUBO_limits['c_min'], QUBO_limits['c_max']\n",
    "qubo_min_state, qubo_max_state = QUBO_limits['min_state'], QUBO_limits['max_state']\n",
    "check_qubo(QUBO_matrix=Q, QUBO_offset=offset, expected_returns=expected_returns, covariances=covariances, alpha=alpha, k=k)\n",
    "qubo_min_state_str = ''.join([str(_) for _ in qubo_min_state])\n",
    "print(f\"Min. cost QUBO: {qubo_min_cost}\")\n",
    "print(\"Min. cost QUBO state is: |\"+qubo_min_state_str+\">\")\n"
   ],
   "metadata": {
    "collapsed": false,
    "ExecuteTime": {
     "end_time": "2024-01-18T12:42:20.068327100Z",
     "start_time": "2024-01-18T12:42:20.028948300Z"
    }
   },
   "id": "f08f94996d225d0f",
   "execution_count": 12
  },
  {
   "cell_type": "code",
   "outputs": [
    {
     "name": "stdout",
     "output_type": "stream",
     "text": [
      "Check that qubo min cost is same as portfolio min cost:\n"
     ]
    },
    {
     "data": {
      "text/plain": "(10.786376008825869, 10.786376008825837)"
     },
     "execution_count": 13,
     "metadata": {},
     "output_type": "execute_result"
    }
   ],
   "source": [
    "print(\"Check that qubo min cost is same as portfolio min cost:\")\n",
    "qubo_min_cost, portfolio_subspace_min_cost"
   ],
   "metadata": {
    "collapsed": false,
    "ExecuteTime": {
     "end_time": "2024-01-18T12:42:20.079946600Z",
     "start_time": "2024-01-18T12:42:20.057738700Z"
    }
   },
   "id": "df2b5b03d5d2fbc5",
   "execution_count": 13
  },
  {
   "cell_type": "code",
   "outputs": [
    {
     "name": "stdout",
     "output_type": "stream",
     "text": [
      "Check that qubo max cost is at least portfolio max cost:\n"
     ]
    },
    {
     "data": {
      "text/plain": "(230.6842057753166, 18.712909053266962)"
     },
     "execution_count": 14,
     "metadata": {},
     "output_type": "execute_result"
    }
   ],
   "source": [
    "print(\"Check that qubo max cost is at least portfolio max cost:\")\n",
    "qubo_max_cost, portfolio_subspace_max_cost"
   ],
   "metadata": {
    "collapsed": false,
    "ExecuteTime": {
     "end_time": "2024-01-18T12:42:20.132955700Z",
     "start_time": "2024-01-18T12:42:20.075805800Z"
    }
   },
   "id": "6ef9587f652a0b8d",
   "execution_count": 14
  },
  {
   "cell_type": "code",
   "outputs": [],
   "source": [
    "# Generating instances of ansatz'\n",
    "CP_z_phase_ansatz = CP_QAOA(N_qubits=N,\n",
    "                 cardinality=k,\n",
    "                 layers=layers,\n",
    "                 topology=my_topology,\n",
    "                 QUBO_matrix=Q,\n",
    "                 with_next_nearest_neighbors=w_next_nearest_neighbors,\n",
    "                 with_gradient=True,\n",
    "                 with_z_phase=False)"
   ],
   "metadata": {
    "collapsed": false,
    "ExecuteTime": {
     "end_time": "2024-01-18T12:42:20.147125600Z",
     "start_time": "2024-01-18T12:42:20.084332700Z"
    }
   },
   "id": "79c69697c8dc79f4",
   "execution_count": 15
  },
  {
   "cell_type": "code",
   "outputs": [
    {
     "data": {
      "text/plain": "-2.5921315353912173"
     },
     "execution_count": 16,
     "metadata": {},
     "output_type": "execute_result"
    }
   ],
   "source": [
    "# Generating initial guess for rotation angles for CP_ansatz\n",
    "np.random.seed(seed)\n",
    "theta_min, theta_max = -2*np.pi, 2*np.pi\n",
    "N_angles = layers * len(my_topology.get_NN_indices())\n",
    "if w_next_nearest_neighbors:\n",
    "    N_angles += layers * len(my_topology.get_NNN_indices())\n",
    "CP_z_phase_theta_i = np.random.uniform(low=theta_min, high=theta_max, size=N_angles)\n",
    "\n",
    "COST = CP_z_phase_ansatz.get_cost(angles=CP_z_phase_theta_i)\n",
    "COST"
   ],
   "metadata": {
    "collapsed": false,
    "ExecuteTime": {
     "end_time": "2024-01-18T12:42:20.351456600Z",
     "start_time": "2024-01-18T12:42:20.141601100Z"
    }
   },
   "id": "f94c8854f310ce53",
   "execution_count": 16
  },
  {
   "cell_type": "code",
   "outputs": [],
   "source": [
    "probs = CP_z_phase_ansatz.get_state_probabilities(flip_states=False)"
   ],
   "metadata": {
    "collapsed": false,
    "ExecuteTime": {
     "end_time": "2024-01-18T12:42:20.385875800Z",
     "start_time": "2024-01-18T12:42:20.353621400Z"
    }
   },
   "id": "bbbec31b1f2870fb",
   "execution_count": 17
  },
  {
   "cell_type": "code",
   "outputs": [],
   "source": [
    "def create_state_vector(state_str: str, probability: float) -> np.ndarray:\n",
    "    # Create a zero vector with length 2^N\n",
    "    state_vector = np.zeros(2**len(state_str), dtype=np.float64)\n",
    "    # Set the amplitude for the specified state\n",
    "    state_vector[int(state_str, 2)] = np.sqrt(probability)\n",
    "    return state_vector\n",
    "\n",
    "def create_operator(Q: np.ndarray):\n",
    "    N = Q.shape[0]\n",
    "    def generate_binary_permutations(n: int) -> Tuple[np.ndarray, str]:\n",
    "        \"\"\" Generates all the 2^n permutations of bitstring w. length 'n'. \"\"\"\n",
    "        num_permutations = 2 ** n\n",
    "        for i in range(num_permutations):\n",
    "            _binary_string_ = bin(i)[2:].zfill(n)\n",
    "            yield np.array([int(bit) for bit in _binary_string_]), _binary_string_\n",
    "    def qubo_cost(state: np.ndarray, QUBO_matrix: np.ndarray) -> float:\n",
    "        return np.dot(state, np.dot(QUBO_matrix, state))\n",
    "    operator = np.zeros(shape=(2**N,2**N), dtype=np.float64)\n",
    "    for (array_perm, string_perm) in generate_binary_permutations(n=N):\n",
    "        E_i = qubo_cost(state=array_perm,QUBO_matrix=Q)\n",
    "        state_vector = create_state_vector(state_str=string_perm, probability=1.0)\n",
    "        operator += E_i * np.outer(state_vector, state_vector)\n",
    "    return operator       \n",
    "\n",
    "def operator_expectation(O: np.ndarray, probability_dict: dict):\n",
    "    vals = []\n",
    "    for (binary_state_str, probability) in probability_dict.items():\n",
    "        state_vector = create_state_vector(state_str=binary_state_str, probability=probability)\n",
    "        vals.append(state_vector.T.conj() @ (O @ state_vector))\n",
    "    return np.mean(vals)"
   ],
   "metadata": {
    "collapsed": false,
    "ExecuteTime": {
     "end_time": "2024-01-18T12:42:20.386922700Z",
     "start_time": "2024-01-18T12:42:20.371824900Z"
    }
   },
   "id": "f51ee2d0e98d382d",
   "execution_count": 18
  },
  {
   "cell_type": "code",
   "outputs": [],
   "source": [],
   "metadata": {
    "collapsed": false
   },
   "id": "4067601ca3eeeeb1"
  },
  {
   "cell_type": "code",
   "outputs": [],
   "source": [
    "O = create_operator(Q=Q)"
   ],
   "metadata": {
    "collapsed": false,
    "ExecuteTime": {
     "end_time": "2024-01-18T12:42:20.429189400Z",
     "start_time": "2024-01-18T12:42:20.384826700Z"
    }
   },
   "id": "1ca6a30e93ac1826",
   "execution_count": 19
  },
  {
   "cell_type": "code",
   "outputs": [
    {
     "data": {
      "text/plain": "-2.5921315353912173"
     },
     "execution_count": 20,
     "metadata": {},
     "output_type": "execute_result"
    }
   ],
   "source": [
    "operator_expectation(O,probs)"
   ],
   "metadata": {
    "collapsed": false,
    "ExecuteTime": {
     "end_time": "2024-01-18T12:42:20.467590500Z",
     "start_time": "2024-01-18T12:42:20.431250300Z"
    }
   },
   "id": "c95d9bdd74c15e26",
   "execution_count": 20
  },
  {
   "cell_type": "code",
   "execution_count": null,
   "outputs": [],
   "source": [],
   "metadata": {
    "collapsed": false
   },
   "id": "688ba9403f5bca03"
  }
 ],
 "metadata": {
  "kernelspec": {
   "display_name": "Python 3",
   "language": "python",
   "name": "python3"
  },
  "language_info": {
   "codemirror_mode": {
    "name": "ipython",
    "version": 2
   },
   "file_extension": ".py",
   "mimetype": "text/x-python",
   "name": "python",
   "nbconvert_exporter": "python",
   "pygments_lexer": "ipython2",
   "version": "2.7.6"
  }
 },
 "nbformat": 4,
 "nbformat_minor": 5
}
