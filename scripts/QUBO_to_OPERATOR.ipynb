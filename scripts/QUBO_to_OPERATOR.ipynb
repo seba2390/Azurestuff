{
 "cells": [
  {
   "cell_type": "code",
   "execution_count": 1,
   "id": "initial_id",
   "metadata": {
    "collapsed": true,
    "ExecuteTime": {
     "end_time": "2024-01-19T11:35:44.729269900Z",
     "start_time": "2024-01-19T11:35:40.310979100Z"
    }
   },
   "outputs": [
    {
     "name": "stderr",
     "output_type": "stream",
     "text": [
      "C:\\Users\\madse\\AppData\\Local\\Temp\\ipykernel_20428\\3041581449.py:8: DeprecationWarning: The ``qiskit.opflow`` module is deprecated as of qiskit-terra 0.24.0. It will be removed no earlier than 3 months after the release date. For code migration guidelines, visit https://qisk.it/opflow_migration.\n",
      "  from qiskit.opflow import X, Y\n"
     ]
    }
   ],
   "source": [
    "import os\n",
    "from joblib import Parallel, delayed\n",
    "from typing import Tuple\n",
    "\n",
    "from qiskit.circuit import QuantumRegister, Parameter\n",
    "from qiskit import QuantumCircuit\n",
    "from qiskit.quantum_info import SparsePauliOp\n",
    "from qiskit.opflow import X, Y\n",
    "from qiskit.primitives import Estimator\n",
    "from qiskit_algorithms.gradients import ParamShiftEstimatorGradient\n",
    "import numpy as np\n",
    "from qiskit.circuit.library import PauliEvolutionGate\n",
    "\n",
    "\n",
    "import scipy as sc\n",
    "import matplotlib.pyplot as plt\n",
    "from tqdm import tqdm\n",
    "\n",
    "from src.CPQAOA import CP_QAOA\n",
    "from src.QAOA import QAOA\n",
    "from src.Grid import Grid\n",
    "from src.Chain import Chain\n",
    "from src.Tools import (portfolio_metrics, \n",
    "                       min_cost_partition, \n",
    "                       get_qubo, \n",
    "                       normalized_cost, \n",
    "                       qubo_limits, \n",
    "                       check_qubo,\n",
    "                       qubo_cost,\n",
    "                       partitioned_averages)"
   ]
  },
  {
   "cell_type": "code",
   "outputs": [
    {
     "name": "stdout",
     "output_type": "stream",
     "text": [
      " Qubit indices in chain: \n",
      " [0 1 2 3 4 5 6 7]\n",
      "\n",
      " Corresponding Nearest Neighbor index pairs: \n",
      " [(0, 1), (1, 2), (2, 3), (3, 4), (4, 5), (5, 6), (6, 7)]\n",
      "\n",
      " Corresponding Nearest Neighbor + Next Nearest index pairs: \n",
      " [(0, 1), (0, 2), (1, 2), (1, 3), (2, 3), (2, 4), (3, 4), (3, 5), (4, 5), (4, 6), (5, 6), (5, 7), (6, 7)]\n",
      "\n",
      " Initialization strategy is: \n",
      " [0 1 0 1 0 1 0 1]\n",
      "\n",
      " Corresponding indices is: \n",
      " [1, 3, 5, 7]\n"
     ]
    }
   ],
   "source": [
    "# Number of Qubits \n",
    "N=8\n",
    "# Number of excitations\n",
    "k=4\n",
    "# RNG seed for reproducibility\n",
    "seed=1\n",
    "# alpha in: s^T*mu + alpha*(s^T*Covar*s)\n",
    "alpha=0.5\n",
    "# Nr. of layer repetitions\n",
    "layers=1\n",
    "# Maximal number of iterations for classical solver\n",
    "max_iter=400\n",
    "# Using next nearest neighbors (in 1D chain model)\n",
    "w_next_nearest_neighbors = True\n",
    "\n",
    "\n",
    "my_chain = Chain(N_qubits=N)\n",
    "print(f' Qubit indices in chain: \\n', my_chain.get_chain_indexing())\n",
    "print(f'\\n Corresponding Nearest Neighbor index pairs: \\n', my_chain.get_NN_indices())\n",
    "print(f'\\n Corresponding Nearest Neighbor + Next Nearest index pairs: \\n', my_chain.get_NNN_indices())\n",
    "init_strat = np.array([0,1,0,1,0,1,0,1])\n",
    "my_chain.set_initialization_strategy(strategy=init_strat)\n",
    "print(f'\\n Initialization strategy is: \\n', my_chain.get_initialization_strategy())\n",
    "print(f'\\n Corresponding indices is: \\n', my_chain.get_initialization_indices())"
   ],
   "metadata": {
    "collapsed": false,
    "ExecuteTime": {
     "end_time": "2024-01-19T11:35:44.755133300Z",
     "start_time": "2024-01-19T11:35:44.731458900Z"
    }
   },
   "id": "ef9533d290587b00",
   "execution_count": 2
  },
  {
   "cell_type": "code",
   "outputs": [
    {
     "name": "stdout",
     "output_type": "stream",
     "text": [
      "Min. cost portfolio (constrained subspace): 10.786376008825837\n",
      "Optimal portfolio state (constrained subspace) is: |01100110>\n",
      "Min. cost QUBO: 10.786376008825869\n",
      "Min. cost QUBO state is: |01100110>\n"
     ]
    }
   ],
   "source": [
    "# Deciding between grid and 1d chain topology\n",
    "my_topology = my_chain\n",
    "# Generating random problem instance \n",
    "expected_returns, covariances = portfolio_metrics(n=N, seed=seed)\n",
    "\n",
    "# Retrieving C_min, C_max and corresponding states for original portfolio problem\n",
    "constrained_result, full_result, lmbda = min_cost_partition(nr_qubits=N,\n",
    "                                                            k=k,\n",
    "                                                            mu=expected_returns,\n",
    "                                                            sigma=covariances,\n",
    "                                                            alpha=alpha)\n",
    "\n",
    "portfolio_subspace_max_cost, portfolio_subspace_min_cost, portfolio_subspace_min_state = constrained_result['c_max'], constrained_result['c_min'], constrained_result['s']\n",
    "full_space_max_cost = full_result['c_max']\n",
    "portfolio_subspace_min_state_str = ''.join([str(_) for _ in portfolio_subspace_min_state])\n",
    "print(f\"Min. cost portfolio (constrained subspace): {portfolio_subspace_min_cost}\")\n",
    "print(\"Optimal portfolio state (constrained subspace) is: |\"+portfolio_subspace_min_state_str+\">\")\n",
    "\n",
    "# Generating QUBO corresponding to current problem instance\n",
    "Q, offset = get_qubo(mu=expected_returns,\n",
    "                     sigma=covariances, \n",
    "                     alpha=alpha,\n",
    "                     lmbda=lmbda+1e-8, # Adding small constant purposely\n",
    "                     k=k)\n",
    "QUBO_limits = qubo_limits(Q=Q,offset=offset)\n",
    "qubo_min_cost, qubo_max_cost = QUBO_limits['c_min'], QUBO_limits['c_max']\n",
    "qubo_min_state, qubo_max_state = QUBO_limits['min_state'], QUBO_limits['max_state']\n",
    "check_qubo(QUBO_matrix=Q, QUBO_offset=offset, expected_returns=expected_returns, covariances=covariances, alpha=alpha, k=k)\n",
    "qubo_min_state_str = ''.join([str(_) for _ in qubo_min_state])\n",
    "print(f\"Min. cost QUBO: {qubo_min_cost}\")\n",
    "print(\"Min. cost QUBO state is: |\"+qubo_min_state_str+\">\")\n"
   ],
   "metadata": {
    "collapsed": false,
    "ExecuteTime": {
     "end_time": "2024-01-19T11:35:44.779461600Z",
     "start_time": "2024-01-19T11:35:44.749781Z"
    }
   },
   "id": "f08f94996d225d0f",
   "execution_count": 3
  },
  {
   "cell_type": "code",
   "outputs": [
    {
     "name": "stdout",
     "output_type": "stream",
     "text": [
      "Check that qubo min cost is same as portfolio min cost:\n"
     ]
    },
    {
     "data": {
      "text/plain": "(10.786376008825869, 10.786376008825837)"
     },
     "execution_count": 4,
     "metadata": {},
     "output_type": "execute_result"
    }
   ],
   "source": [
    "print(\"Check that qubo min cost is same as portfolio min cost:\")\n",
    "qubo_min_cost, portfolio_subspace_min_cost"
   ],
   "metadata": {
    "collapsed": false,
    "ExecuteTime": {
     "end_time": "2024-01-19T11:35:44.798329900Z",
     "start_time": "2024-01-19T11:35:44.775827900Z"
    }
   },
   "id": "df2b5b03d5d2fbc5",
   "execution_count": 4
  },
  {
   "cell_type": "code",
   "outputs": [
    {
     "name": "stdout",
     "output_type": "stream",
     "text": [
      "Check that qubo max cost is at least portfolio max cost:\n"
     ]
    },
    {
     "data": {
      "text/plain": "(230.6842057753166, 18.712909053266962)"
     },
     "execution_count": 5,
     "metadata": {},
     "output_type": "execute_result"
    }
   ],
   "source": [
    "print(\"Check that qubo max cost is at least portfolio max cost:\")\n",
    "qubo_max_cost, portfolio_subspace_max_cost"
   ],
   "metadata": {
    "collapsed": false,
    "ExecuteTime": {
     "end_time": "2024-01-19T11:35:44.903893700Z",
     "start_time": "2024-01-19T11:35:44.793105900Z"
    }
   },
   "id": "6ef9587f652a0b8d",
   "execution_count": 5
  },
  {
   "cell_type": "code",
   "outputs": [],
   "source": [
    "# Generating instances of ansatz'\n",
    "CP_z_phase_ansatz = CP_QAOA(N_qubits=N,\n",
    "                 cardinality=k,\n",
    "                 layers=layers,\n",
    "                 topology=my_topology,\n",
    "                 QUBO_matrix=Q,\n",
    "                 with_next_nearest_neighbors=w_next_nearest_neighbors,\n",
    "                 with_gradient=True,\n",
    "                 with_z_phase=False)"
   ],
   "metadata": {
    "collapsed": false,
    "ExecuteTime": {
     "end_time": "2024-01-19T11:35:45.262374Z",
     "start_time": "2024-01-19T11:35:44.815805400Z"
    }
   },
   "id": "79c69697c8dc79f4",
   "execution_count": 6
  },
  {
   "cell_type": "code",
   "outputs": [
    {
     "data": {
      "text/plain": "-2.5921315353912173"
     },
     "execution_count": 7,
     "metadata": {},
     "output_type": "execute_result"
    }
   ],
   "source": [
    "# Generating initial guess for rotation angles for CP_ansatz\n",
    "np.random.seed(seed)\n",
    "theta_min, theta_max = -2*np.pi, 2*np.pi\n",
    "N_angles = layers * len(my_topology.get_NN_indices())\n",
    "if w_next_nearest_neighbors:\n",
    "    N_angles += layers * len(my_topology.get_NNN_indices())\n",
    "CP_z_phase_theta_i = np.random.uniform(low=theta_min, high=theta_max, size=N_angles)\n",
    "\n",
    "COST = CP_z_phase_ansatz.get_cost(angles=CP_z_phase_theta_i)\n",
    "COST"
   ],
   "metadata": {
    "collapsed": false,
    "ExecuteTime": {
     "end_time": "2024-01-19T11:35:45.788232Z",
     "start_time": "2024-01-19T11:35:45.265584400Z"
    }
   },
   "id": "f94c8854f310ce53",
   "execution_count": 7
  },
  {
   "cell_type": "code",
   "outputs": [],
   "source": [
    "probs = CP_z_phase_ansatz.get_state_probabilities(flip_states=False)"
   ],
   "metadata": {
    "collapsed": false,
    "ExecuteTime": {
     "end_time": "2024-01-19T11:35:56.880694300Z",
     "start_time": "2024-01-19T11:35:56.866878Z"
    }
   },
   "id": "bbbec31b1f2870fb",
   "execution_count": 8
  },
  {
   "cell_type": "code",
   "outputs": [],
   "source": [
    "def create_state_vector(state_str: str, probability: float) -> np.ndarray:\n",
    "    # Create a zero vector with length 2^N\n",
    "    state_vector = np.zeros(2**len(state_str), dtype=np.float64)\n",
    "    # Set the amplitude for the specified state\n",
    "    state_vector[int(state_str, 2)] = np.sqrt(probability)\n",
    "    return state_vector\n",
    "\n",
    "def create_operator(Q: np.ndarray):\n",
    "    \"\"\"Creates H=\\sum_i E_i |i><i|\"\"\"\n",
    "    \n",
    "    N = Q.shape[0]\n",
    "    def generate_binary_permutations(n: int) -> Tuple[np.ndarray, str]:\n",
    "        \"\"\" Generates all the 2^n permutations of bitstring w. length 'n'. \"\"\"\n",
    "        num_permutations = 2 ** n\n",
    "        for i in range(num_permutations):\n",
    "            _binary_string_ = bin(i)[2:].zfill(n)\n",
    "            yield np.array([int(bit) for bit in _binary_string_]), _binary_string_\n",
    "    def qubo_cost(state: np.ndarray, QUBO_matrix: np.ndarray) -> float:\n",
    "        return np.dot(state, np.dot(QUBO_matrix, state))\n",
    "    operator = np.zeros(shape=(2**N,2**N), dtype=np.float64)\n",
    "    for (array_perm, string_perm) in generate_binary_permutations(n=N):\n",
    "        E_i = qubo_cost(state=array_perm,QUBO_matrix=Q)\n",
    "        state_vector = create_state_vector(state_str=string_perm, probability=1.0)\n",
    "        operator += E_i * np.outer(state_vector, state_vector)\n",
    "    return operator       \n",
    "\n",
    "def operator_expectation(O: np.ndarray, probability_dict: dict):\n",
    "    vals = []\n",
    "    for (binary_state_str, probability) in probability_dict.items():\n",
    "        state_vector = create_state_vector(state_str=binary_state_str, probability=probability)\n",
    "        vals.append(state_vector.T.conj() @ (O @ state_vector))\n",
    "    return np.mean(vals)"
   ],
   "metadata": {
    "collapsed": false,
    "ExecuteTime": {
     "end_time": "2024-01-19T11:35:57.311543100Z",
     "start_time": "2024-01-19T11:35:57.302755800Z"
    }
   },
   "id": "f51ee2d0e98d382d",
   "execution_count": 9
  },
  {
   "cell_type": "code",
   "outputs": [],
   "source": [
    "O = create_operator(Q=Q)"
   ],
   "metadata": {
    "collapsed": false,
    "ExecuteTime": {
     "end_time": "2024-01-19T11:35:58.724447300Z",
     "start_time": "2024-01-19T11:35:58.689025800Z"
    }
   },
   "id": "1ca6a30e93ac1826",
   "execution_count": 10
  },
  {
   "cell_type": "code",
   "outputs": [
    {
     "data": {
      "text/plain": "-2.5921315353912173"
     },
     "execution_count": 11,
     "metadata": {},
     "output_type": "execute_result"
    }
   ],
   "source": [
    "operator_expectation(O,probs)"
   ],
   "metadata": {
    "collapsed": false,
    "ExecuteTime": {
     "end_time": "2024-01-19T11:35:58.944934500Z",
     "start_time": "2024-01-19T11:35:58.931749Z"
    }
   },
   "id": "c95d9bdd74c15e26",
   "execution_count": 11
  },
  {
   "cell_type": "code",
   "execution_count": 12,
   "outputs": [],
   "source": [
    "from typing import List\n",
    "from qiskit.quantum_info import Operator, SparsePauliOp\n",
    "\n",
    "def get_ij_term(i:int, j:int, Q: np.ndarray) -> List[Tuple[str,float]]:\n",
    "    N = Q.shape[0]\n",
    "    I_term = ''.join('I' for qubit_idx in range(N))\n",
    "    Z_i_term = ''.join('Z' if qubit_idx == i else 'I' for qubit_idx in range(N)) \n",
    "    Z_j_term = ''.join('Z' if qubit_idx == i else 'I' for qubit_idx in range(N))\n",
    "    # Pauli matrices are idempotent: x^2=y^2=z^2=I\n",
    "    if i == j:\n",
    "        Z_ij_term = I_term\n",
    "    else:\n",
    "        Z_ij_term = ''.join('Z' if qubit_idx == i  or qubit_idx == j else 'I' for qubit_idx in range(N)) \n",
    "    total_ij_term = [(I_term,Q[i,j]/4),(Z_i_term,-Q[i,j]/4), (Z_j_term,-Q[i,j]/4),(Z_ij_term,Q[i,j]/4)]\n",
    "    return total_ij_term\n"
   ],
   "metadata": {
    "collapsed": false,
    "ExecuteTime": {
     "end_time": "2024-01-19T11:35:59.387814100Z",
     "start_time": "2024-01-19T11:35:59.357403200Z"
    }
   },
   "id": "688ba9403f5bca03"
  },
  {
   "cell_type": "code",
   "outputs": [],
   "source": [
    "H = []\n",
    "for i in range(Q.shape[0]):\n",
    "    for j in range(Q.shape[1]):\n",
    "        H += get_ij_term(i,j,Q)\n",
    "H = SparsePauliOp.from_list(H)"
   ],
   "metadata": {
    "collapsed": false,
    "ExecuteTime": {
     "end_time": "2024-01-19T11:36:20.334961800Z",
     "start_time": "2024-01-19T11:36:20.302345200Z"
    }
   },
   "id": "58e43811e1778f32",
   "execution_count": 13
  },
  {
   "cell_type": "code",
   "outputs": [
    {
     "data": {
      "text/plain": "True"
     },
     "execution_count": 14,
     "metadata": {},
     "output_type": "execute_result"
    }
   ],
   "source": [
    "np.allclose(np.array(Operator(H)),O)"
   ],
   "metadata": {
    "collapsed": false,
    "ExecuteTime": {
     "end_time": "2024-01-19T11:36:23.483796Z",
     "start_time": "2024-01-19T11:36:23.299924600Z"
    }
   },
   "id": "aadb6294b9f8c72a",
   "execution_count": 14
  },
  {
   "cell_type": "code",
   "outputs": [],
   "source": [
    "def get_pauli_hamiltonian(Q: np.ndarray):\n",
    "    H = []\n",
    "    for i in range(Q.shape[0]):\n",
    "        for j in range(Q.shape[1]):\n",
    "            H += get_ij_term(i,j,Q)\n",
    "    return SparsePauliOp.from_list(H)"
   ],
   "metadata": {
    "collapsed": false,
    "ExecuteTime": {
     "end_time": "2024-01-19T11:36:25.499965100Z",
     "start_time": "2024-01-19T11:36:25.471010400Z"
    }
   },
   "id": "90aa1c8c9c89021",
   "execution_count": 15
  },
  {
   "cell_type": "code",
   "outputs": [
    {
     "data": {
      "text/plain": "<Figure size 1374.44x702.333 with 1 Axes>",
      "image/png": "[encoded data removed]"
     },
     "execution_count": 17,
     "metadata": {},
     "output_type": "execute_result"
    }
   ],
   "source": [
    "thetas = np.random.uniform(-4*np.pi,4*np.pi,7).tolist()\n",
    "params = [Parameter(f'theta_{i}') for i in range(len(thetas))]\n",
    "qc = QuantumCircuit(8)\n",
    "k=4\n",
    "for i in range(k):\n",
    "    qc.x(i)\n",
    "for q in range(7):\n",
    "    qc.rxx(params[q],q,q+1)\n",
    "    qc.ryy(params[q],q,q+1)\n",
    "qc.draw('mpl')"
   ],
   "metadata": {
    "collapsed": false,
    "ExecuteTime": {
     "end_time": "2024-01-19T11:37:05.927987Z",
     "start_time": "2024-01-19T11:37:05.677459300Z"
    }
   },
   "id": "e95e60c073abf308",
   "execution_count": 17
  },
  {
   "cell_type": "code",
   "outputs": [
    {
     "data": {
      "text/plain": "[array([ 2.84217094e-14,  0.00000000e+00,  0.00000000e+00,  2.17464996e+00,\n        -4.16034009e-01, -1.32380969e-01, -2.38705927e-02])]"
     },
     "execution_count": 18,
     "metadata": {},
     "output_type": "execute_result"
    }
   ],
   "source": [
    "\n",
    "\n",
    "#Instantiate the Hamiltonian observable 2X+Y\n",
    "H = get_pauli_hamiltonian(Q)\n",
    "\n",
    "#Parameter list\n",
    "param_values = [[theta for theta in thetas]]\n",
    "\n",
    "#Define the gradient\n",
    "gradient = ParamShiftEstimatorGradient(Estimator())\n",
    "\n",
    "# Evaluate the gradient of the circuits using parameter shift gradients\n",
    "pse_grad_result = gradient.run(circuits=qc, \n",
    "                               observables=H,\n",
    "                               parameter_values=param_values).result().gradients\n",
    "pse_grad_result"
   ],
   "metadata": {
    "collapsed": false,
    "ExecuteTime": {
     "end_time": "2024-01-19T11:37:14.183561Z",
     "start_time": "2024-01-19T11:37:13.978565800Z"
    }
   },
   "id": "31a5ae944e01721e",
   "execution_count": 18
  },
  {
   "cell_type": "code",
   "outputs": [
    {
     "name": "stderr",
     "output_type": "stream",
     "text": [
      "100%|██████████| 100/100 [00:18<00:00,  5.55it/s]\n"
     ]
    }
   ],
   "source": [
    "norms = []\n",
    "for seed in tqdm(range(100)):\n",
    "    np.random.seed(seed)\n",
    "    thetas = np.random.uniform(-4*np.pi,4*np.pi,7).tolist()\n",
    "    params = [Parameter(f'theta_{i}') for i in range(len(thetas))]\n",
    "    qc = QuantumCircuit(8)\n",
    "    for i in range(k):\n",
    "        qc.x(i)\n",
    "    for q in range(7):\n",
    "        qc.rxx(params[q],q,q+1)\n",
    "        qc.ryy(params[q],q,q+1)\n",
    "    #Instantiate the Hamiltonian observable 2X+Y\n",
    "    H = get_pauli_hamiltonian(Q)\n",
    "    \n",
    "    #Parameter list\n",
    "    param_values = [[theta for theta in thetas]]\n",
    "    \n",
    "    #Define the gradient\n",
    "    gradient = ParamShiftEstimatorGradient(Estimator())\n",
    "    \n",
    "    # Evaluate the gradient of the circuits using parameter shift gradients\n",
    "    pse_grad_result = gradient.run(circuits=qc, \n",
    "                                   observables=H,\n",
    "                                   parameter_values=param_values).result().gradients\n",
    "    norms.append(np.linalg.norm(pse_grad_result))"
   ],
   "metadata": {
    "collapsed": false,
    "ExecuteTime": {
     "end_time": "2024-01-19T11:40:39.469129700Z",
     "start_time": "2024-01-19T11:40:21.431014400Z"
    }
   },
   "id": "d45ae08874bcb0e6",
   "execution_count": 19
  },
  {
   "cell_type": "code",
   "outputs": [
    {
     "data": {
      "text/plain": "(array([ 4.,  8.,  6., 14., 14., 16., 13., 11.,  7.,  7.]),\n array([0.04711873, 0.31646299, 0.58580724, 0.8551515 , 1.12449576,\n        1.39384002, 1.66318427, 1.93252853, 2.20187279, 2.47121705,\n        2.7405613 ]),\n <BarContainer object of 10 artists>)"
     },
     "execution_count": 20,
     "metadata": {},
     "output_type": "execute_result"
    },
    {
     "data": {
      "text/plain": "<Figure size 640x480 with 1 Axes>",
      "image/png": "[encoded data removed]"
     },
     "metadata": {},
     "output_type": "display_data"
    }
   ],
   "source": [
    "plt.hist(norms)"
   ],
   "metadata": {
    "collapsed": false,
    "ExecuteTime": {
     "end_time": "2024-01-19T11:40:41.859301500Z",
     "start_time": "2024-01-19T11:40:41.730364Z"
    }
   },
   "id": "9e0042da07939879",
   "execution_count": 20
  },
  {
   "cell_type": "code",
   "outputs": [],
   "source": [],
   "metadata": {
    "collapsed": false
   },
   "id": "a15f4ef4cc0d81c5"
  }
 ],
 "metadata": {
  "kernelspec": {
   "display_name": "Python 3",
   "language": "python",
   "name": "python3"
  },
  "language_info": {
   "codemirror_mode": {
    "name": "ipython",
    "version": 2
   },
   "file_extension": ".py",
   "mimetype": "text/x-python",
   "name": "python",
   "nbconvert_exporter": "python",
   "pygments_lexer": "ipython2",
   "version": "2.7.6"
  }
 },
 "nbformat": 4,
 "nbformat_minor": 5
}
