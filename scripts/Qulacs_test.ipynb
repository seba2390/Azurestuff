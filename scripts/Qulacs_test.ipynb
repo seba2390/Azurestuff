{
 "cells": [
  {
   "cell_type": "code",
   "execution_count": 1,
   "outputs": [],
   "source": [
    "import numpy as np\n",
    "import scipy as sc\n",
    "import matplotlib.pyplot as plt\n",
    "from tqdm import tqdm\n",
    "from time import time\n",
    "\n",
    "from src.Qulacs_QAOA import Qulacs_QAOA\n",
    "from src.Chain import Chain\n",
    "from src.Tools import (portfolio_metrics, \n",
    "                       min_cost_partition, \n",
    "                       get_qubo, \n",
    "                       qubo_limits, \n",
    "                       check_qubo)"
   ],
   "metadata": {
    "collapsed": false,
    "ExecuteTime": {
     "end_time": "2024-02-07T22:19:08.526139Z",
     "start_time": "2024-02-07T22:19:06.982391Z"
    }
   },
   "id": "f1eb7a47bd5f4203"
  },
  {
   "cell_type": "code",
   "execution_count": 2,
   "outputs": [],
   "source": [
    "\n",
    "N = 15\n",
    "seed = 100\n",
    " # Choosing optimizer for scipy\n",
    "optimizer_method = 'COBYLA'\n",
    "k = N // 2\n",
    "init_strat = np.array([1 if i%2 == 1 else 0 for i in range(N)])\n",
    "my_indices = [(i, i+1) for i in range(N-1)]\n",
    "n_layers = 4\n",
    "alpha = 0.5\n",
    "max_iter = 10\n",
    " # Defining topology\n",
    "my_chain = Chain(N_qubits=N)\n",
    "my_chain.set_initialization_strategy(strategy=init_strat)\n",
    "# Deciding between grid and 1d chain topology\n",
    "my_topology = my_chain\n",
    "# Generating random problem instance \n",
    "expected_returns, covariances = portfolio_metrics(n=N, seed=seed)\n",
    "# Retrieving C_min, C_max and corresponding states for original portfolio problem\n",
    "constrained_result, full_result, lmbda = min_cost_partition(nr_qubits=N,\n",
    "                                                            k=k,\n",
    "                                                            mu=expected_returns,\n",
    "                                                            sigma=covariances,\n",
    "                                                            alpha=alpha)\n",
    "portfolio_subspace_max_cost, portfolio_subspace_min_cost, portfolio_subspace_min_state = constrained_result['c_max'], constrained_result['c_min'], constrained_result['s']\n",
    "portfolio_subspace_min_state_str = ''.join([str(_) for _ in portfolio_subspace_min_state])\n",
    "# Generating QUBO corresponding to current problem instance\n",
    "Q, offset = get_qubo(mu=expected_returns,\n",
    "                     sigma=covariances, \n",
    "                     alpha=alpha,\n",
    "                     lmbda=lmbda+1e-8, # Adding small constant purposely\n",
    "                     k=k)\n",
    "QUBO_limits = qubo_limits(Q=Q,offset=offset)\n",
    "qubo_min_cost, qubo_max_cost = QUBO_limits['c_min'], QUBO_limits['c_max']\n",
    "qubo_min_state, qubo_max_state = QUBO_limits['min_state'], QUBO_limits['max_state']\n",
    "check_qubo(QUBO_matrix=Q, QUBO_offset=offset, expected_returns=expected_returns, covariances=covariances, alpha=alpha, k=k)\n",
    "qubo_min_state_str = ''.join([str(_) for _ in qubo_min_state])\n",
    "\n",
    "if not portfolio_subspace_min_state_str == qubo_min_state_str:\n",
    "    raise RuntimeError(f'portfolio_subspace_min_state_str: {portfolio_subspace_min_state_str}, qubo_min_state_str={qubo_min_state_str}'+f'Min. cost of qubo is: {qubo_min_cost}, but min. cost of constrained portfolio is: {portfolio_subspace_min_cost}.')\n",
    "\n",
    "if not np.isclose(qubo_min_cost,portfolio_subspace_min_cost):\n",
    "    raise RuntimeError(f'Min. cost of qubo is: {qubo_min_cost}, but min. cost of constrained portfolio is: {portfolio_subspace_min_cost}.')\n",
    "\n",
    "if not qubo_max_cost >= portfolio_subspace_max_cost:\n",
    "    raise RuntimeError(f'Max. cost of qubo: {qubo_max_cost}, max. cost of portfolio subspace: {portfolio_subspace_max_cost} (should be qubo max. >= constrained portfolio max)')\n",
    "         "
   ],
   "metadata": {
    "collapsed": false,
    "ExecuteTime": {
     "end_time": "2024-02-07T22:19:09.973343Z",
     "start_time": "2024-02-07T22:19:09.103649Z"
    }
   },
   "id": "6922292384928390"
  },
  {
   "cell_type": "code",
   "execution_count": 3,
   "outputs": [],
   "source": [
    "qulacs_ansatz = Qulacs_QAOA(N_qubits=N,\n",
    "                            layers=n_layers,\n",
    "                            QUBO_matrix=Q,\n",
    "                            QUBO_offset=offset)"
   ],
   "metadata": {
    "collapsed": false,
    "ExecuteTime": {
     "end_time": "2024-02-07T22:19:11.728568Z",
     "start_time": "2024-02-07T22:19:11.725067Z"
    }
   },
   "id": "ad39118c73819ada"
  }
 ],
 "metadata": {
  "kernelspec": {
   "display_name": "Python 3",
   "language": "python",
   "name": "python3"
  },
  "language_info": {
   "codemirror_mode": {
    "name": "ipython",
    "version": 2
   },
   "file_extension": ".py",
   "mimetype": "text/x-python",
   "name": "python",
   "nbconvert_exporter": "python",
   "pygments_lexer": "ipython2",
   "version": "2.7.6"
  }
 },
 "nbformat": 4,
 "nbformat_minor": 5
}
