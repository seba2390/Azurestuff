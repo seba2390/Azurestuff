{
 "cells": [
  {
   "cell_type": "code",
   "execution_count": 1,
   "id": "initial_id",
   "metadata": {
    "collapsed": true,
    "ExecuteTime": {
     "end_time": "2024-01-25T22:50:08.239410Z",
     "start_time": "2024-01-25T22:50:04.614811Z"
    }
   },
   "outputs": [],
   "source": [
    "import os\n",
    "\n",
    "import pickle\n",
    "from joblib import Parallel, delayed\n",
    "import cvxpy as cp\n",
    "import numpy as np\n",
    "import scipy as sc\n",
    "import matplotlib.pyplot as plt\n",
    "from tqdm import tqdm\n",
    "\n",
    "from src.CPQAOA import CP_QAOA\n",
    "from src.QAOA import QAOA\n",
    "from src.Grid import Grid\n",
    "from src.Chain import Chain\n",
    "from src.Tools import (portfolio_metrics, \n",
    "                       min_cost_partition, \n",
    "                       get_qubo, \n",
    "                       normalized_cost, \n",
    "                       qubo_limits, \n",
    "                       check_qubo,\n",
    "                       partitioned_averages)"
   ]
  },
  {
   "cell_type": "code",
   "outputs": [],
   "source": [
    "def classical_solve(datapoint):\n",
    "    return_last_solution_vector = True\n",
    "    seed, N_range, use_gurobi, use_mosek = datapoint    \n",
    "    gurobi_times,gurobi_iters, gurobi_values  = [], [], []\n",
    "    mosek_times, mosek_iters, mosek_values   = [], [], []\n",
    "    for N in N_range:\n",
    "        # Setting cardinality \n",
    "        k = N // 2\n",
    "        # alpha in: s^T*mu + alpha*(s^T*Covar*s)\n",
    "        alpha=0.5\n",
    "        # Generating random problem instance \n",
    "        expected_returns, covariances = portfolio_metrics(n=N, seed=seed)\n",
    "        \n",
    "        if use_gurobi:    \n",
    "            #------- GUROBI -------#\n",
    "            # Defining binary optimization variable\n",
    "            w = cp.Variable(shape=(N,),name='weights',boolean=True)\n",
    "            # Defining objective\n",
    "            objective = cp.Minimize(-expected_returns.T@w + alpha*cp.quad_form(w,covariances))\n",
    "            # Defining constraints\n",
    "            constraints = [cp.sum(w) == k]\n",
    "            # Defining problem & solving it\n",
    "            problem = cp.Problem(objective=objective, constraints=constraints)\n",
    "            problem.solve(solver=cp.GUROBI, verbose=False)\n",
    "            # Retrieving and saving stats\n",
    "            stat, val, time, iter = problem.status, problem.value, problem.solver_stats.solve_time, problem.solver_stats.num_iters\n",
    "            gurobi_times.append(time)\n",
    "            gurobi_iters.append(iter)\n",
    "            gurobi_values.append(val)\n",
    "        \n",
    "        if use_mosek:\n",
    "            #------- MOSEK -------#\n",
    "            # Defining binary optimization variable\n",
    "            w = cp.Variable(shape=(N,),name='weights',boolean=True)\n",
    "            # Defining objective\n",
    "            objective = cp.Minimize(-expected_returns.T@w + alpha*cp.quad_form(w,covariances))\n",
    "            # Defining constraints\n",
    "            constraints = [cp.sum(w) == k]\n",
    "            # Defining problem & solving it\n",
    "            problem = cp.Problem(objective=objective, constraints=constraints)\n",
    "            problem.solve(solver=cp.MOSEK, verbose=False)\n",
    "            # Retrieving and saving stats\n",
    "            stat, val, time, iter = problem.status, problem.value, problem.solver_stats.solve_time, problem.solver_stats.num_iters\n",
    "            mosek_times.append(time)\n",
    "            mosek_iters.append(iter)\n",
    "            mosek_values.append(val)\n",
    "    if return_last_solution_vector:\n",
    "        return np.round(w.value).astype(int)\n",
    "        \n",
    "    return {'mosek':{'times': mosek_times, 'iterations': mosek_iters, 'values': mosek_values},\n",
    "            'gurobi':{'times': gurobi_times, 'iterations': gurobi_iters, 'values': gurobi_values}}"
   ],
   "metadata": {
    "collapsed": false,
    "ExecuteTime": {
     "end_time": "2024-01-25T22:52:59.754351Z",
     "start_time": "2024-01-25T22:52:59.742970Z"
    }
   },
   "id": "5eda76aa3c92a8c0",
   "execution_count": 8
  },
  {
   "cell_type": "code",
   "execution_count": 12,
   "outputs": [
    {
     "data": {
      "text/plain": "array([1, 0, 1, 0, 0, 1])"
     },
     "execution_count": 12,
     "metadata": {},
     "output_type": "execute_result"
    }
   ],
   "source": [
    "use_gurobi, use_mosek = True, True\n",
    "N_min, N_max = 4, 6\n",
    "seed = 3\n",
    "classical_solve((seed, range(N_min,N_max+1), use_gurobi, use_mosek))"
   ],
   "metadata": {
    "collapsed": false,
    "ExecuteTime": {
     "end_time": "2024-01-25T22:53:07.101927Z",
     "start_time": "2024-01-25T22:53:07.037919Z"
    }
   },
   "id": "421767bcc2f3c237"
  },
  {
   "cell_type": "code",
   "outputs": [],
   "source": [
    "N_min, N_max = 2, 400\n",
    "use_gurobi, use_mosek = True, False\n",
    "N_seeds = 30\n",
    "datapoints = []\n",
    "for seed in range(N_seeds):\n",
    "    datapoints.append((seed, range(N_min,N_max+1), use_gurobi, use_mosek))"
   ],
   "metadata": {
    "collapsed": false,
    "ExecuteTime": {
     "end_time": "2024-01-17T22:28:49.739888Z",
     "start_time": "2024-01-17T22:28:49.737253Z"
    }
   },
   "id": "2c8062556e2b3c60",
   "execution_count": 31
  },
  {
   "cell_type": "code",
   "outputs": [
    {
     "name": "stdout",
     "output_type": "stream",
     "text": [
      "[Parallel(n_jobs=6)]: Using backend LokyBackend with 6 concurrent workers.\n",
      "[Parallel(n_jobs=6)]: Done   1 tasks      | elapsed:  1.2min\n",
      "[Parallel(n_jobs=6)]: Done   2 tasks      | elapsed:  1.2min\n",
      "[Parallel(n_jobs=6)]: Done   3 tasks      | elapsed:  1.2min\n",
      "[Parallel(n_jobs=6)]: Done   4 tasks      | elapsed:  1.2min\n",
      "[Parallel(n_jobs=6)]: Done   5 tasks      | elapsed:  1.2min\n",
      "[Parallel(n_jobs=6)]: Done   6 tasks      | elapsed:  1.3min\n",
      "[Parallel(n_jobs=6)]: Done   7 tasks      | elapsed:  2.4min\n",
      "[Parallel(n_jobs=6)]: Done   8 tasks      | elapsed:  2.4min\n",
      "[Parallel(n_jobs=6)]: Done   9 tasks      | elapsed:  2.4min\n",
      "[Parallel(n_jobs=6)]: Done  10 tasks      | elapsed:  2.4min\n",
      "[Parallel(n_jobs=6)]: Done  11 tasks      | elapsed:  2.4min\n"
     ]
    },
    {
     "name": "stderr",
     "output_type": "stream",
     "text": [
      "/Users/sebastianyde/miniforge3/lib/python3.10/site-packages/joblib/externals/loky/process_executor.py:752: UserWarning: A worker stopped while some jobs were given to the executor. This can be caused by a too short worker timeout or by a memory leak.\n",
      "  warnings.warn(\n"
     ]
    },
    {
     "name": "stdout",
     "output_type": "stream",
     "text": [
      "Set parameter WLSAccessID\n",
      "Set parameter WLSSecret\n",
      "Set parameter LicenseID to value 2463551\n",
      "Academic license 2463551 - for non-commercial use only - registered to au___@post.au.dk\n",
      "[Parallel(n_jobs=6)]: Done  12 tasks      | elapsed:  2.5min\n",
      "Set parameter WLSAccessID\n",
      "Set parameter WLSSecret\n",
      "Set parameter LicenseID to value 2463551\n",
      "Academic license 2463551 - for non-commercial use only - registered to au___@post.au.dk\n",
      "[Parallel(n_jobs=6)]: Done  13 tasks      | elapsed:  3.4min\n",
      "Set parameter WLSAccessID\n",
      "Set parameter WLSSecret\n",
      "Set parameter LicenseID to value 2463551\n",
      "Academic license 2463551 - for non-commercial use only - registered to au___@post.au.dk\n",
      "[Parallel(n_jobs=6)]: Done  14 tasks      | elapsed:  3.5min\n",
      "[Parallel(n_jobs=6)]: Done  15 tasks      | elapsed:  3.5min\n",
      "[Parallel(n_jobs=6)]: Done  16 tasks      | elapsed:  3.5min\n",
      "Set parameter WLSAccessID\n",
      "Set parameter WLSSecret\n",
      "Set parameter LicenseID to value 2463551\n",
      "Academic license 2463551 - for non-commercial use only - registered to au___@post.au.dk\n",
      "Set parameter WLSAccessID\n",
      "Set parameter WLSSecret\n",
      "Set parameter LicenseID to value 2463551\n",
      "Academic license 2463551 - for non-commercial use only - registered to au___@post.au.dk\n",
      "[Parallel(n_jobs=6)]: Done  17 tasks      | elapsed:  3.6min\n",
      "Set parameter WLSAccessID\n",
      "Set parameter WLSSecret\n",
      "Set parameter LicenseID to value 2463551\n",
      "Academic license 2463551 - for non-commercial use only - registered to au___@post.au.dk\n",
      "[Parallel(n_jobs=6)]: Done  18 tasks      | elapsed:  3.7min\n",
      "[Parallel(n_jobs=6)]: Done  19 tasks      | elapsed:  4.6min\n",
      "[Parallel(n_jobs=6)]: Done  20 out of  30 | elapsed:  4.6min remaining:  2.3min\n",
      "[Parallel(n_jobs=6)]: Done  21 out of  30 | elapsed:  4.6min remaining:  2.0min\n",
      "[Parallel(n_jobs=6)]: Done  22 out of  30 | elapsed:  4.7min remaining:  1.7min\n",
      "[Parallel(n_jobs=6)]: Done  23 out of  30 | elapsed:  4.8min remaining:  1.4min\n",
      "[Parallel(n_jobs=6)]: Done  24 out of  30 | elapsed:  4.9min remaining:  1.2min\n",
      "[Parallel(n_jobs=6)]: Done  25 out of  30 | elapsed:  5.7min remaining:  1.1min\n",
      "[Parallel(n_jobs=6)]: Done  26 out of  30 | elapsed:  5.8min remaining:   53.3s\n",
      "[Parallel(n_jobs=6)]: Done  27 out of  30 | elapsed:  5.8min remaining:   38.9s\n",
      "[Parallel(n_jobs=6)]: Done  28 out of  30 | elapsed:  5.9min remaining:   25.1s\n",
      "[Parallel(n_jobs=6)]: Done  30 out of  30 | elapsed:  6.1min finished\n"
     ]
    }
   ],
   "source": [
    "results = Parallel(n_jobs=os.cpu_count()-2, verbose=51, backend='loky')(delayed(classical_solve)(datapoint) for datapoint in datapoints)"
   ],
   "metadata": {
    "collapsed": false,
    "ExecuteTime": {
     "end_time": "2024-01-17T22:34:53.238295Z",
     "start_time": "2024-01-17T22:28:50.066814Z"
    }
   },
   "id": "651bef2eb6fa7439",
   "execution_count": 32
  },
  {
   "cell_type": "code",
   "outputs": [],
   "source": [
    "gurobi_time_results, gurobi_iter_results, gurobi_values = [], [], []\n",
    "mosek_time_results, mosek_iter_results, mosek_values = [], [], []\n",
    "for result in results:\n",
    "    gurobi_time_results.append(result['gurobi']['times'])\n",
    "    gurobi_iter_results.append(result['gurobi']['iterations'])\n",
    "    gurobi_values.append(result['gurobi']['values'])\n",
    "    \n",
    "    mosek_time_results.append(result['mosek']['times'])\n",
    "    mosek_iter_results.append(result['mosek']['iterations'])\n",
    "    mosek_values.append(result['mosek']['values'])"
   ],
   "metadata": {
    "collapsed": false,
    "ExecuteTime": {
     "end_time": "2024-01-17T22:34:56.873749Z",
     "start_time": "2024-01-17T22:34:56.867269Z"
    }
   },
   "id": "397a538f26cf122",
   "execution_count": 34
  },
  {
   "cell_type": "code",
   "outputs": [
    {
     "data": {
      "text/plain": "<matplotlib.legend.Legend at 0x16c3553f0>"
     },
     "execution_count": 36,
     "metadata": {},
     "output_type": "execute_result"
    },
    {
     "data": {
      "text/plain": "<Figure size 1500x300 with 2 Axes>",
      "image/png": "[encoded data removed]"
     },
     "metadata": {},
     "output_type": "display_data"
    }
   ],
   "source": [
    "fig, ax = plt.subplots(1,2,figsize=(15,3))\n",
    "\n",
    "if use_gurobi:\n",
    "    ax[0].errorbar(list(range(N_min,N_max+1)), np.mean(gurobi_time_results,axis=0), yerr=np.std(gurobi_time_results,axis=0),fmt='.-', capsize=3, label='Gurobi')\n",
    "    ax[1].errorbar(list(range(N_min,N_max+1)), np.mean(gurobi_iter_results,axis=0), yerr=np.std(gurobi_iter_results,axis=0),fmt='.-', capsize=3, label='Gurobi')\n",
    "\n",
    "if use_mosek:\n",
    "    ax[0].errorbar(list(range(N_min,N_max+1)), np.mean(mosek_time_results,axis=0), yerr=np.std(mosek_time_results,axis=0),fmt='.-', capsize=3, label='Mosek')\n",
    "    ax[1].errorbar(list(range(N_min,N_max+1)), np.mean(mosek_iter_results,axis=0), yerr=np.std(mosek_iter_results,axis=0),fmt='.-', capsize=3, label='Mosek')\n",
    "\n",
    "\n",
    "\n",
    "ax[0].set_xlabel('Portfolio size')\n",
    "ax[1].set_xlabel('Portfolio size')\n",
    "\n",
    "ax[0].set_ylabel('Time[s]')\n",
    "ax[1].set_ylabel('Nr. iterations')\n",
    "\n",
    "ax[0].legend(loc='best')\n",
    "ax[1].legend(loc='best')\n",
    "\n",
    "#plt.savefig('classical_scaling.png',dpi=300)"
   ],
   "metadata": {
    "collapsed": false,
    "ExecuteTime": {
     "end_time": "2024-01-17T22:35:16.106244Z",
     "start_time": "2024-01-17T22:35:15.963107Z"
    }
   },
   "id": "a6886d98de1213f9",
   "execution_count": 36
  },
  {
   "cell_type": "code",
   "outputs": [],
   "source": [],
   "metadata": {
    "collapsed": false,
    "ExecuteTime": {
     "end_time": "2024-01-09T15:31:04.613102900Z",
     "start_time": "2024-01-09T15:31:04.588571700Z"
    }
   },
   "id": "e2bceb7a326f61c7",
   "execution_count": 8
  }
 ],
 "metadata": {
  "kernelspec": {
   "display_name": "Python 3",
   "language": "python",
   "name": "python3"
  },
  "language_info": {
   "codemirror_mode": {
    "name": "ipython",
    "version": 2
   },
   "file_extension": ".py",
   "mimetype": "text/x-python",
   "name": "python",
   "nbconvert_exporter": "python",
   "pygments_lexer": "ipython2",
   "version": "2.7.6"
  }
 },
 "nbformat": 4,
 "nbformat_minor": 5
}
