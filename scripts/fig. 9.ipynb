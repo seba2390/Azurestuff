{
 "cells": [
  {
   "cell_type": "code",
   "execution_count": 7,
   "id": "initial_id",
   "metadata": {
    "collapsed": true,
    "ExecuteTime": {
     "end_time": "2024-01-25T14:41:51.660139200Z",
     "start_time": "2024-01-25T14:41:51.648470400Z"
    }
   },
   "outputs": [],
   "source": [
    "import numpy as np\n",
    "import scipy as sc\n",
    "import matplotlib.pyplot as plt\n",
    "from qiskit import QuantumCircuit\n",
    "\n",
    "from src.CPQAOA import CP_QAOA\n",
    "from src.Grid import Grid\n",
    "from src.Chain import Chain\n",
    "from src.Tools import (portfolio_metrics, \n",
    "                       min_cost_partition, \n",
    "                       get_qubo, \n",
    "                       normalized_cost, \n",
    "                       qubo_limits, \n",
    "                       check_qubo,\n",
    "                       qubo_cost,\n",
    "                       partitioned_averages)"
   ]
  },
  {
   "cell_type": "code",
   "outputs": [
    {
     "name": "stdout",
     "output_type": "stream",
     "text": [
      " Qubit indices in chain: \n",
      " [0 1 2 3 4 5 6 7]\n",
      "\n",
      " Corresponding Nearest Neighbor index pairs: \n",
      " [(0, 1), (1, 2), (2, 3), (3, 4), (4, 5), (5, 6), (6, 7)]\n",
      "\n",
      " Corresponding Nearest Neighbor + Next Nearest index pairs: \n",
      " [(0, 1), (0, 2), (1, 2), (1, 3), (2, 3), (2, 4), (3, 4), (3, 5), (4, 5), (4, 6), (5, 6), (5, 7), (6, 7)]\n",
      "\n",
      " Initialization strategy is: \n",
      " [0 1 0 1 0 1 0 1]\n",
      "\n",
      " Corresponding indices is: \n",
      " [1, 3, 5, 7]\n"
     ]
    }
   ],
   "source": [
    "# Number of Qubits \n",
    "N=8\n",
    "# number of excitations\n",
    "k=4\n",
    "# RNG seed for reproducibility\n",
    "seed=2\n",
    "# alpha in: s^T*mu + alpha*(s^T*Covar*s)\n",
    "alpha=0.5\n",
    "# Nr. of layer repetitions\n",
    "layers=1\n",
    "# Maximal number of iterations for classical solver\n",
    "max_iter=100\n",
    "# Using next nearest neighbors (in 1D chain model)\n",
    "w_next_nearest_neighbors = False\n",
    "w_z_phase = False\n",
    "\n",
    "\n",
    "my_chain = Chain(N_qubits=N)\n",
    "print(f' Qubit indices in chain: \\n', my_chain.get_chain_indexing())\n",
    "print(f'\\n Corresponding Nearest Neighbor index pairs: \\n', my_chain.get_NN_indices())\n",
    "print(f'\\n Corresponding Nearest Neighbor + Next Nearest index pairs: \\n', my_chain.get_NNN_indices())\n",
    "init_strat = np.array([0,1,0,1,0,1,0,1])\n",
    "my_chain.set_initialization_strategy(strategy=init_strat)\n",
    "print(f'\\n Initialization strategy is: \\n', my_chain.get_initialization_strategy())\n",
    "print(f'\\n Corresponding indices is: \\n', my_chain.get_initialization_indices())\n",
    "\n",
    "\"\"\"my_grid = Grid(Rows=3,Cols=3)\n",
    "print(f' Qubit indices in grid: \\n', my_grid.get_grid_indexing())\n",
    "print(f'\\n Corresponding Nearest Neighbor index pairs: \\n', my_grid.get_NN_indices())\n",
    "print(f'\\n Corresponding Nearest Neighbor + Next Nearest index pairs: \\n', my_grid.get_NNN_indices())\n",
    "init_strat = np.array([[0,1,0],\n",
    "                       [1,0,1],\n",
    "                       [0,1,0]])\n",
    "my_grid.set_initialization_strategy(strategy=init_strat)\n",
    "print(f'\\n Initialization strategy is: \\n', my_grid.get_initialization_strategy())\n",
    "print(f'\\n Corresponding indices is: \\n', my_grid.get_initialization_indices())\"\"\"\n",
    "\n",
    "# Deciding between grid and 1d chain topology\n",
    "my_topology = my_chain"
   ],
   "metadata": {
    "collapsed": false,
    "ExecuteTime": {
     "end_time": "2024-01-25T14:45:51.677395100Z",
     "start_time": "2024-01-25T14:45:51.668859100Z"
    }
   },
   "id": "bed6ee6118392981",
   "execution_count": 17
  },
  {
   "cell_type": "code",
   "outputs": [
    {
     "name": "stdout",
     "output_type": "stream",
     "text": [
      "Min. cost portfolio (constrained subspace): 8.464273289142248\n",
      "Optimal portfolio state (constrained subspace) is: |11100001>\n",
      "Min. cost QUBO: 8.464273289142227\n",
      "Min. cost QUBO state is: |11100001>\n",
      "Check that qubo min cost is same as portfolio min cost:\n",
      "8.464273289142227 8.464273289142248\n",
      "Check that qubo max cost is at least portfolio max cost:\n",
      "191.50398893468054 18.28262994472301\n"
     ]
    }
   ],
   "source": [
    "# Generating random problem instance \n",
    "expected_returns, covariances = portfolio_metrics(n=N, seed=seed)\n",
    "\n",
    "# Retrieving C_min, C_max and corresponding states for original portfolio problem\n",
    "constrained_result, full_result, lmbda = min_cost_partition(nr_qubits=N,\n",
    "                                                            k=k,\n",
    "                                                            mu=expected_returns,\n",
    "                                                            sigma=covariances,\n",
    "                                                            alpha=alpha)\n",
    "\n",
    "portfolio_subspace_max_cost, portfolio_subspace_min_cost, portfolio_subspace_min_state = constrained_result['c_max'], constrained_result['c_min'], constrained_result['s']\n",
    "full_space_max_cost = full_result['c_max']\n",
    "portfolio_subspace_min_state_str = ''.join([str(_) for _ in portfolio_subspace_min_state])\n",
    "print(f\"Min. cost portfolio (constrained subspace): {portfolio_subspace_min_cost}\")\n",
    "print(\"Optimal portfolio state (constrained subspace) is: |\"+portfolio_subspace_min_state_str+\">\")\n",
    "\n",
    "# Generating QUBO corresponding to current problem instance\n",
    "Q, offset = get_qubo(mu=expected_returns,\n",
    "                     sigma=covariances, \n",
    "                     alpha=alpha,\n",
    "                     lmbda=lmbda+1e-8, # Adding small constant purposely\n",
    "                     k=k)\n",
    "QUBO_limits = qubo_limits(Q=Q,offset=offset)\n",
    "qubo_min_cost, qubo_max_cost = QUBO_limits['c_min'], QUBO_limits['c_max']\n",
    "qubo_min_state, qubo_max_state = QUBO_limits['min_state'], QUBO_limits['max_state']\n",
    "check_qubo(QUBO_matrix=Q, QUBO_offset=offset, expected_returns=expected_returns, covariances=covariances, alpha=alpha, k=k)\n",
    "qubo_min_state_str = ''.join([str(_) for _ in qubo_min_state])\n",
    "print(f\"Min. cost QUBO: {qubo_min_cost}\")\n",
    "print(\"Min. cost QUBO state is: |\"+qubo_min_state_str+\">\")\n",
    "print(\"Check that qubo min cost is same as portfolio min cost:\")\n",
    "print(qubo_min_cost, portfolio_subspace_min_cost)\n",
    "print(\"Check that qubo max cost is at least portfolio max cost:\")\n",
    "print(qubo_max_cost, portfolio_subspace_max_cost)\n",
    "\n",
    "# Generating instances of ansatz'\n",
    "CP_z_phase_ansatz = CP_QAOA(N_qubits=N,\n",
    "                 cardinality=k,\n",
    "                 layers=layers,\n",
    "                 topology=my_topology,\n",
    "                 QUBO_matrix=Q,\n",
    "                 with_next_nearest_neighbors=w_next_nearest_neighbors,\n",
    "                 with_gradient=True,\n",
    "                 approximate_hamiltonian=True,\n",
    "                 with_z_phase=w_z_phase)"
   ],
   "metadata": {
    "collapsed": false,
    "ExecuteTime": {
     "end_time": "2024-01-25T14:45:53.048183900Z",
     "start_time": "2024-01-25T14:45:52.991644700Z"
    }
   },
   "id": "16bcf7c9de3c6655",
   "execution_count": 18
  },
  {
   "cell_type": "code",
   "outputs": [
    {
     "name": "stdout",
     "output_type": "stream",
     "text": [
      "CP+Z-PHASE: 7\n"
     ]
    }
   ],
   "source": [
    "# Choosing optimizer for scipy\n",
    "available_methods = ['COBYLA', 'Nelder-Mead', 'BFGS']\n",
    "optimizer_method = available_methods[2]\n",
    "\n",
    "# Generating callback function for plotting\n",
    "CP_z_phase_costs = [] # Normalized costs\n",
    "CP_z_phase_probs = [] # probability of optimal state\n",
    "CP_z_phase_finite_diff_grad = []\n",
    "CP_z_phase_pytorch_grad = []\n",
    "\n",
    "\n",
    "def CP_z_phase_callback_function(x):\n",
    "    _dict_ = CP_z_phase_ansatz.get_state_probabilities(flip_states=False)\n",
    "    # N.B. Normalizing w. respect to full space max cost\n",
    "    _cost_ = normalized_cost(result=_dict_,\n",
    "                             QUBO_matrix=Q,\n",
    "                             QUBO_offset=offset,\n",
    "                             max_cost=portfolio_subspace_max_cost, \n",
    "                             min_cost=qubo_min_cost)\n",
    "    if portfolio_subspace_min_state_str in list(_dict_.keys()):\n",
    "        CP_z_phase_probs.append(_dict_[portfolio_subspace_min_state_str])\n",
    "    else:\n",
    "        CP_z_phase_probs.append(0)\n",
    "    CP_z_phase_costs.append(_cost_)\n",
    "    #CP_z_phase_finite_diff_grad.append(np.linalg.norm(two_point_gradient(x)))\n",
    "    #CP_z_phase_pytorch_grad.append(np.linalg.norm(CP_z_phase_ansatz.get_gradient(x)))\n",
    "    \n",
    "def two_point_gradient(x, eps=1.49e-8):\n",
    "    grad = np.zeros_like(x)\n",
    "    for i in range(len(x)):\n",
    "        step = np.zeros_like(x)\n",
    "        step[i] = eps\n",
    "\n",
    "        x_forward = x + step\n",
    "        x_backward = x - step\n",
    "\n",
    "        f_forward = CP_z_phase_ansatz.get_cost(x_forward)\n",
    "        f_backward = CP_z_phase_ansatz.get_cost(x_backward)\n",
    "\n",
    "        grad[i] = (f_forward - f_backward) / (2 * eps)\n",
    "\n",
    "    return grad\n",
    "\n",
    "# Generating initial guess for rotation angles for CP_ansatz\n",
    "np.random.seed(seed)\n",
    "theta_min, theta_max = -2*np.pi, 2*np.pi\n",
    "N_angles = layers * len(my_topology.get_NN_indices())\n",
    "if w_next_nearest_neighbors:\n",
    "    N_angles = layers * len(my_topology.get_NNN_indices())\n",
    "if w_z_phase:\n",
    "    N_angles += N * layers\n",
    "CP_z_phase_theta_i = np.random.uniform(low=theta_min, high=theta_max, size=N_angles)\n",
    "print(f\"CP+Z-PHASE: {len(CP_z_phase_theta_i)}\")    "
   ],
   "metadata": {
    "collapsed": false,
    "ExecuteTime": {
     "end_time": "2024-01-25T14:46:02.044747400Z",
     "start_time": "2024-01-25T14:46:02.016478200Z"
    }
   },
   "id": "a8d33e377b4e02d7",
   "execution_count": 19
  },
  {
   "cell_type": "code",
   "outputs": [
    {
     "data": {
      "text/plain": "  message: Optimization terminated successfully.\n  success: True\n   status: 0\n      fun: -128.25056434585542\n        x: [-1.571e+00 -5.842e+00  1.571e+00 -1.308e+00 -2.361e-07\n            -3.142e+00 -3.142e+00]\n      nit: 15\n      jac: [-9.537e-06  0.000e+00 -7.629e-06  0.000e+00 -7.629e-06\n            -9.537e-06  1.907e-06]\n hess_inv: [[ 2.736e-01  2.633e-02 ...  2.956e-03  3.575e-04]\n            [ 2.633e-02  9.807e-01 ... -1.868e-02  8.856e-04]\n            ...\n            [ 2.956e-03 -1.868e-02 ...  2.282e-01  5.792e-03]\n            [ 3.575e-04  8.856e-04 ...  5.792e-03  3.561e-01]]\n     nfev: 144\n     njev: 18"
     },
     "execution_count": 20,
     "metadata": {},
     "output_type": "execute_result"
    }
   ],
   "source": [
    "CP_z_phase_res = sc.optimize.minimize(fun=CP_z_phase_ansatz.get_cost, \n",
    "                                      x0=CP_z_phase_theta_i,\n",
    "                                      method=optimizer_method,\n",
    "                                      options={'disp': False, \n",
    "                                               'maxiter': max_iter},\n",
    "                                      callback=CP_z_phase_callback_function)\n",
    "CP_z_phase_res"
   ],
   "metadata": {
    "collapsed": false,
    "ExecuteTime": {
     "end_time": "2024-01-25T14:46:30.294352100Z",
     "start_time": "2024-01-25T14:46:04.186927Z"
    }
   },
   "id": "11e35675e860a032",
   "execution_count": 20
  },
  {
   "cell_type": "code",
   "outputs": [
    {
     "name": "stdout",
     "output_type": "stream",
     "text": [
      "0.0 0.981568974412501\n"
     ]
    },
    {
     "data": {
      "text/plain": "<Figure size 500x500 with 1 Axes>",
      "image/png": "[encoded data removed]"
     },
     "metadata": {},
     "output_type": "display_data"
    }
   ],
   "source": [
    "# N.B. Because the normalization is done w. respect to the \"allowed states (w. k ones)\" QAOA has cost above 1.\n",
    "fig, ax = plt.subplots(1,1, figsize=(5,5))\n",
    "ax.plot([it for it in range(len(CP_z_phase_costs))], CP_z_phase_costs, label='normalized costs')\n",
    "ax.plot([it for it in range(len(CP_z_phase_probs))], CP_z_phase_probs, label='prop')\n",
    "ax.plot([it for it in range(len(CP_z_phase_pytorch_grad))], np.array(CP_z_phase_pytorch_grad), label='pytorch grad norm')\n",
    "ax.plot([it for it in range(len(CP_z_phase_finite_diff_grad))], np.array(CP_z_phase_finite_diff_grad), 'go', ms=4,label='finite diff grad norm')\n",
    "\n",
    "ax.set_xlim(0,len(CP_z_phase_costs))\n",
    "ax.hlines(0,0,len(CP_z_phase_costs),lw=1,linestyles='dashed',colors='k')\n",
    "ax.legend(loc='best')\n",
    "print(CP_z_phase_costs[-1],CP_z_phase_probs[-1])\n",
    "plt.show()"
   ],
   "metadata": {
    "collapsed": false,
    "ExecuteTime": {
     "end_time": "2024-01-25T14:44:05.190802500Z",
     "start_time": "2024-01-25T14:44:05.098059900Z"
    }
   },
   "id": "12092d2db7cf4243",
   "execution_count": 16
  },
  {
   "cell_type": "code",
   "outputs": [
    {
     "name": "stdout",
     "output_type": "stream",
     "text": [
      "[-1.04381514e-07  9.70407730e-07  5.01572219e-08 -5.99964870e-08\n",
      " -5.93139548e-08]\n"
     ]
    }
   ],
   "source": [
    "print(CP_z_phase_res.jac)"
   ],
   "metadata": {
    "collapsed": false,
    "ExecuteTime": {
     "end_time": "2024-01-25T13:28:22.991382Z",
     "start_time": "2024-01-25T13:28:22.954543800Z"
    }
   },
   "id": "dc066de1f7f3e9cd",
   "execution_count": 7
  },
  {
   "cell_type": "code",
   "outputs": [
    {
     "name": "stdout",
     "output_type": "stream",
     "text": [
      "[-4.15685460e-05 -5.89048461e+00  6.24820590e-05 -1.11705246e+00\n",
      " -1.10435288e+00]\n"
     ]
    }
   ],
   "source": [
    "theta_opt = CP_z_phase_res.x\n",
    "print(theta_opt)"
   ],
   "metadata": {
    "collapsed": false,
    "ExecuteTime": {
     "end_time": "2024-01-25T13:28:22.991382Z",
     "start_time": "2024-01-25T13:28:22.969313900Z"
    }
   },
   "id": "279dc9d361340b98",
   "execution_count": 8
  },
  {
   "cell_type": "code",
   "execution_count": 9,
   "outputs": [],
   "source": [
    "THETAS = list(theta_opt)\n",
    "eps = 1e-6\n",
    "counter = 1\n",
    "facs = [float(i) for i in range(1,30)]\n",
    "saved = []\n",
    "for angle in THETAS:\n",
    "    angle_is_pi = False\n",
    "    for multiplicative_factor in facs:\n",
    "        for divisor in facs:\n",
    "            if np.abs(multiplicative_factor*np.pi/divisor-angle) <= eps and angle not in saved:\n",
    "                print(f'theta_{counter}: {angle} is approx.: {int(multiplicative_factor)}*pi/{int(divisor)}')     \n",
    "                counter += 1\n",
    "                saved.append(angle)\n",
    "                angle_is_pi = True\n",
    "            elif np.abs(-multiplicative_factor*np.pi/divisor-angle) <= eps and angle not in saved:\n",
    "                print(f'theta_{counter}: {angle} is approx.: -{int(multiplicative_factor)}*pi/{int(divisor)}')     \n",
    "                counter += 1\n",
    "                saved.append(angle)\n",
    "                angle_is_pi = True\n",
    "    if not angle_is_pi:\n",
    "        counter +=1"
   ],
   "metadata": {
    "collapsed": false,
    "ExecuteTime": {
     "end_time": "2024-01-25T13:28:22.999894100Z",
     "start_time": "2024-01-25T13:28:22.994570700Z"
    }
   },
   "id": "fd2cfa49177eec93"
  }
 ],
 "metadata": {
  "kernelspec": {
   "display_name": "Python 3",
   "language": "python",
   "name": "python3"
  },
  "language_info": {
   "codemirror_mode": {
    "name": "ipython",
    "version": 2
   },
   "file_extension": ".py",
   "mimetype": "text/x-python",
   "name": "python",
   "nbconvert_exporter": "python",
   "pygments_lexer": "ipython2",
   "version": "2.7.6"
  }
 },
 "nbformat": 4,
 "nbformat_minor": 5
}
