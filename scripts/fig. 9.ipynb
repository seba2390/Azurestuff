{
 "cells": [
  {
   "cell_type": "code",
   "execution_count": 1,
   "id": "initial_id",
   "metadata": {
    "collapsed": true,
    "ExecuteTime": {
     "end_time": "2024-01-22T01:16:16.839784Z",
     "start_time": "2024-01-22T01:16:15.003600Z"
    }
   },
   "outputs": [],
   "source": [
    "import numpy as np\n",
    "import scipy as sc\n",
    "import matplotlib.pyplot as plt\n",
    "\n",
    "from src.CPQAOA import CP_QAOA\n",
    "from src.Grid import Grid\n",
    "from src.Chain import Chain\n",
    "from src.Tools import (portfolio_metrics, \n",
    "                       min_cost_partition, \n",
    "                       get_qubo, \n",
    "                       normalized_cost, \n",
    "                       qubo_limits, \n",
    "                       check_qubo,\n",
    "                       qubo_cost,\n",
    "                       partitioned_averages)"
   ]
  },
  {
   "cell_type": "code",
   "outputs": [
    {
     "name": "stdout",
     "output_type": "stream",
     "text": [
      " Qubit indices in chain: \n",
      " [0 1 2 3 4 5 6 7]\n",
      "\n",
      " Corresponding Nearest Neighbor index pairs: \n",
      " [(0, 1), (1, 2), (2, 3), (3, 4), (4, 5), (5, 6), (6, 7)]\n",
      "\n",
      " Corresponding Nearest Neighbor + Next Nearest index pairs: \n",
      " [(0, 1), (0, 2), (1, 2), (1, 3), (2, 3), (2, 4), (3, 4), (3, 5), (4, 5), (4, 6), (5, 6), (5, 7), (6, 7)]\n",
      "\n",
      " Initialization strategy is: \n",
      " [0 1 0 1 0 1 0 1]\n",
      "\n",
      " Corresponding indices is: \n",
      " [1, 3, 5, 7]\n"
     ]
    }
   ],
   "source": [
    "# Number of Qubits \n",
    "N=8\n",
    "# number of excitations\n",
    "k=4\n",
    "# RNG seed for reproducibility\n",
    "seed=3\n",
    "# alpha in: s^T*mu + alpha*(s^T*Covar*s)\n",
    "alpha=0.5\n",
    "# Nr. of layer repetitions\n",
    "layers=1\n",
    "# Maximal number of iterations for classical solver\n",
    "max_iter=50\n",
    "# Using next nearest neighbors (in 1D chain model)\n",
    "w_next_nearest_neighbors = False\n",
    "w_z_phase = True\n",
    "\n",
    "\n",
    "my_chain = Chain(N_qubits=N)\n",
    "print(f' Qubit indices in chain: \\n', my_chain.get_chain_indexing())\n",
    "print(f'\\n Corresponding Nearest Neighbor index pairs: \\n', my_chain.get_NN_indices())\n",
    "print(f'\\n Corresponding Nearest Neighbor + Next Nearest index pairs: \\n', my_chain.get_NNN_indices())\n",
    "init_strat = np.array([0,1,0,1,0,1,0,1])\n",
    "my_chain.set_initialization_strategy(strategy=init_strat)\n",
    "print(f'\\n Initialization strategy is: \\n', my_chain.get_initialization_strategy())\n",
    "print(f'\\n Corresponding indices is: \\n', my_chain.get_initialization_indices())\n",
    "\n",
    "\"\"\"my_grid = Grid(Rows=3,Cols=3)\n",
    "print(f' Qubit indices in grid: \\n', my_grid.get_grid_indexing())\n",
    "print(f'\\n Corresponding Nearest Neighbor index pairs: \\n', my_grid.get_NN_indices())\n",
    "print(f'\\n Corresponding Nearest Neighbor + Next Nearest index pairs: \\n', my_grid.get_NNN_indices())\n",
    "init_strat = np.array([[0,1,0],\n",
    "                       [1,0,1],\n",
    "                       [0,1,0]])\n",
    "my_grid.set_initialization_strategy(strategy=init_strat)\n",
    "print(f'\\n Initialization strategy is: \\n', my_grid.get_initialization_strategy())\n",
    "print(f'\\n Corresponding indices is: \\n', my_grid.get_initialization_indices())\"\"\"\n",
    "\n",
    "# Deciding between grid and 1d chain topology\n",
    "my_topology = my_chain"
   ],
   "metadata": {
    "collapsed": false,
    "ExecuteTime": {
     "end_time": "2024-01-22T01:16:16.845246Z",
     "start_time": "2024-01-22T01:16:16.841989Z"
    }
   },
   "id": "bed6ee6118392981",
   "execution_count": 2
  },
  {
   "cell_type": "code",
   "outputs": [
    {
     "name": "stdout",
     "output_type": "stream",
     "text": [
      "Min. cost portfolio (constrained subspace): 7.154007134369837\n",
      "Optimal portfolio state (constrained subspace) is: |11001100>\n",
      "Min. cost QUBO: 7.154007134369849\n",
      "Min. cost QUBO state is: |11001100>\n",
      "Check that qubo min cost is same as portfolio min cost:\n",
      "7.154007134369849 7.154007134369837\n",
      "Check that qubo max cost is at least portfolio max cost:\n",
      "172.88657814851118 18.10861331717169\n"
     ]
    }
   ],
   "source": [
    "# Generating random problem instance \n",
    "expected_returns, covariances = portfolio_metrics(n=N, seed=seed)\n",
    "\n",
    "# Retrieving C_min, C_max and corresponding states for original portfolio problem\n",
    "constrained_result, full_result, lmbda = min_cost_partition(nr_qubits=N,\n",
    "                                                            k=k,\n",
    "                                                            mu=expected_returns,\n",
    "                                                            sigma=covariances,\n",
    "                                                            alpha=alpha)\n",
    "\n",
    "portfolio_subspace_max_cost, portfolio_subspace_min_cost, portfolio_subspace_min_state = constrained_result['c_max'], constrained_result['c_min'], constrained_result['s']\n",
    "full_space_max_cost = full_result['c_max']\n",
    "portfolio_subspace_min_state_str = ''.join([str(_) for _ in portfolio_subspace_min_state])\n",
    "print(f\"Min. cost portfolio (constrained subspace): {portfolio_subspace_min_cost}\")\n",
    "print(\"Optimal portfolio state (constrained subspace) is: |\"+portfolio_subspace_min_state_str+\">\")\n",
    "\n",
    "# Generating QUBO corresponding to current problem instance\n",
    "Q, offset = get_qubo(mu=expected_returns,\n",
    "                     sigma=covariances, \n",
    "                     alpha=alpha,\n",
    "                     lmbda=lmbda+1e-8, # Adding small constant purposely\n",
    "                     k=k)\n",
    "QUBO_limits = qubo_limits(Q=Q,offset=offset)\n",
    "qubo_min_cost, qubo_max_cost = QUBO_limits['c_min'], QUBO_limits['c_max']\n",
    "qubo_min_state, qubo_max_state = QUBO_limits['min_state'], QUBO_limits['max_state']\n",
    "check_qubo(QUBO_matrix=Q, QUBO_offset=offset, expected_returns=expected_returns, covariances=covariances, alpha=alpha, k=k)\n",
    "qubo_min_state_str = ''.join([str(_) for _ in qubo_min_state])\n",
    "print(f\"Min. cost QUBO: {qubo_min_cost}\")\n",
    "print(\"Min. cost QUBO state is: |\"+qubo_min_state_str+\">\")\n",
    "print(\"Check that qubo min cost is same as portfolio min cost:\")\n",
    "print(qubo_min_cost, portfolio_subspace_min_cost)\n",
    "print(\"Check that qubo max cost is at least portfolio max cost:\")\n",
    "print(qubo_max_cost, portfolio_subspace_max_cost)\n",
    "\n",
    "# Generating instances of ansatz'\n",
    "CP_z_phase_ansatz = CP_QAOA(N_qubits=N,\n",
    "                 cardinality=k,\n",
    "                 layers=layers,\n",
    "                 topology=my_topology,\n",
    "                 QUBO_matrix=Q,\n",
    "                 with_next_nearest_neighbors=w_next_nearest_neighbors,\n",
    "                 with_gradient=True,\n",
    "                 with_z_phase=w_z_phase)"
   ],
   "metadata": {
    "collapsed": false,
    "ExecuteTime": {
     "end_time": "2024-01-22T01:16:16.900055Z",
     "start_time": "2024-01-22T01:16:16.847366Z"
    }
   },
   "id": "16bcf7c9de3c6655",
   "execution_count": 3
  },
  {
   "cell_type": "code",
   "outputs": [
    {
     "name": "stdout",
     "output_type": "stream",
     "text": [
      "CP+Z-PHASE: 15\n"
     ]
    }
   ],
   "source": [
    "# Choosing optimizer for scipy\n",
    "available_methods = ['COBYLA', 'Nelder-Mead', 'BFGS']\n",
    "optimizer_method = available_methods[2]\n",
    "\n",
    "# Generating callback function for plotting\n",
    "CP_z_phase_costs = [] # Normalized costs\n",
    "CP_z_phase_probs = [] # probability of optimal state\n",
    "CP_z_phase_grad_norm = []\n",
    "solver_costs=[]\n",
    "\n",
    "def CP_z_phase_callback_function(x):\n",
    "    _dict_ = CP_z_phase_ansatz.get_state_probabilities(flip_states=False)\n",
    "    # N.B. Normalizing w. respect to full space max cost\n",
    "    _cost_ = normalized_cost(result=_dict_,\n",
    "                             QUBO_matrix=Q,\n",
    "                             QUBO_offset=offset,\n",
    "                             max_cost=portfolio_subspace_max_cost, \n",
    "                             min_cost=qubo_min_cost)\n",
    "    if portfolio_subspace_min_state_str in list(_dict_.keys()):\n",
    "        CP_z_phase_probs.append(_dict_[portfolio_subspace_min_state_str])\n",
    "    else:\n",
    "        CP_z_phase_probs.append(0)\n",
    "    CP_z_phase_costs.append(_cost_)\n",
    "    CP_z_phase_grad_norm.append(np.linalg.norm(CP_z_phase_ansatz.get_gradient(x)))\n",
    "    \n",
    "\n",
    "# Generating initial guess for rotation angles for CP_ansatz\n",
    "np.random.seed(seed)\n",
    "theta_min, theta_max = -2*np.pi, 2*np.pi\n",
    "N_angles = layers * len(my_topology.get_NN_indices())\n",
    "if w_next_nearest_neighbors:\n",
    "    N_angles = layers * len(my_topology.get_NNN_indices())\n",
    "if w_z_phase:\n",
    "    N_angles += N\n",
    "CP_z_phase_theta_i = np.random.uniform(low=theta_min, high=theta_max, size=N_angles)\n",
    "print(f\"CP+Z-PHASE: {len(CP_z_phase_theta_i)}\")    "
   ],
   "metadata": {
    "collapsed": false,
    "ExecuteTime": {
     "end_time": "2024-01-22T01:16:16.906168Z",
     "start_time": "2024-01-22T01:16:16.901881Z"
    }
   },
   "id": "a8d33e377b4e02d7",
   "execution_count": 4
  },
  {
   "cell_type": "code",
   "outputs": [
    {
     "name": "stdout",
     "output_type": "stream",
     "text": [
      "None tensor([-2.2327e+02+1.3925e-06j,  3.8569e-06-3.7625e-06j,\n",
      "        -5.6643e-06+8.9486e-06j,  5.8613e-06-1.1319e+00j,\n",
      "        -9.4962e-06+2.3590e-06j, -4.7876e-06-5.1280e-07j,\n",
      "         2.5496e-06-8.3639e-01j,  5.6465e-06+5.3860e-06j,\n",
      "         7.7186e-06+1.1939e-05j, -4.4533e-06+1.1963e+00j,\n",
      "         1.3583e-06+4.0756e-06j,  3.5101e-06+5.4947e-06j,\n",
      "         6.5776e-06-4.2098e-01j, -1.2333e-07-3.4738e-08j,\n",
      "        -9.7732e-07-6.4658e-07j,  4.7255e-02+9.1547e-07j,\n",
      "        -8.5874e-06-7.3873e-06j,  8.1439e-07-3.4437e-06j,\n",
      "        -4.7608e-06-2.0016e-02j, -1.4576e-05-1.0183e-05j,\n",
      "        -3.3358e-07-7.9632e-07j, -8.4623e-14+7.9306e-14j,\n",
      "        -6.3733e-06-2.4788e-07j, -8.0377e-08+1.2410e-07j,\n",
      "         4.5423e-06-1.0105e-02j, -7.6984e-07+6.4950e-06j,\n",
      "         2.2599e-09-2.9029e-09j,  1.0353e-02-6.1804e-06j,\n",
      "         2.4466e-06+1.0576e-06j, -3.7553e-10-8.6482e-10j,\n",
      "        -8.8217e-03+4.7371e-08j,  1.7249e-06+1.1507e-06j,\n",
      "        -9.0278e-06+5.6755e-07j,  4.4603e-07-5.2841e-02j,\n",
      "         2.4555e-07+2.4743e-07j, -6.1589e-06+4.8654e-06j,\n",
      "         1.9682e-07+2.3628e-02j,  7.4160e-09+8.8034e-10j,\n",
      "        -4.9693e-07-1.2269e-06j, -8.5701e-03+6.0183e-07j,\n",
      "         6.4998e-07-4.2941e-07j,  8.9540e-06-2.1969e-06j,\n",
      "         5.8231e-16+1.4486e-13j, -3.8648e-07+3.3216e-07j,\n",
      "        -1.9630e-07-9.5258e-07j,  3.2930e-14+2.5252e-13j,\n",
      "        -7.7162e-08-4.1496e-08j, -1.6530e-06+1.0291e-06j,\n",
      "         4.1059e-06+6.4779e-01j,  2.8662e-09-4.8268e-08j,\n",
      "        -2.4511e-07-1.2566e-06j, -1.3409e-01-2.4703e-07j,\n",
      "         3.0688e-08+4.1365e-08j,  7.4007e-09+5.0405e-08j,\n",
      "         3.6724e-02-1.3939e-06j, -1.1289e-08-2.6988e-08j,\n",
      "        -8.7879e-09+4.7473e-07j, -6.7356e-02-3.7566e-06j,\n",
      "         8.7979e-09-1.0237e-09j,  3.2517e-07+5.5339e-07j,\n",
      "         2.1641e-02+1.0230e-06j,  2.3446e-09-5.5270e-09j,\n",
      "        -3.1448e-07+1.5172e-07j, -5.9571e-08+3.0994e-06j,\n",
      "        -8.2617e-07-1.7493e-06j, -8.7186e-08-3.7524e-07j,\n",
      "         1.3116e-06-1.1026e-01j,  1.0385e-06+3.1174e-06j,\n",
      "         7.9045e-08-1.1786e-07j,  4.0795e-13-2.9832e-13j,\n",
      "         5.2601e-07+1.3176e-07j,  4.7760e-08-2.9237e-07j,\n",
      "        -2.4877e-07-1.1018e-01j,  1.8944e-06-5.2183e-06j,\n",
      "         1.1280e-08-7.7981e-09j,  1.9026e-04+7.4863e-07j,\n",
      "        -9.0353e-07+1.6427e-06j, -5.8972e-10-6.1346e-09j,\n",
      "        -3.4068e-03-2.2355e-07j, -4.3556e-07-6.1606e-09j,\n",
      "         6.7962e-06-2.9437e-06j, -9.6287e-14-6.6787e-14j,\n",
      "         5.6337e-07-2.4028e-07j, -2.1007e-07-3.9190e-06j,\n",
      "         5.6634e-14+4.0141e-13j, -1.7312e-13+2.2291e-13j,\n",
      "        -2.4627e-07+7.8714e-07j,  6.5416e-14-3.3006e-13j,\n",
      "         6.1949e-07-1.4117e-06j, -2.2368e-06+3.3761e-06j,\n",
      "         1.5477e-13-5.9183e-14j, -1.8905e-07+2.5315e-07j,\n",
      "        -4.2804e-07-2.8715e-07j,  3.4094e-13+2.4083e-13j,\n",
      "         3.7130e-07-1.8854e-08j, -1.2786e-07-3.6364e-07j,\n",
      "        -2.2776e-06-5.1405e-01j,  2.1872e-07-5.5070e-07j,\n",
      "        -2.9541e-09-1.4845e-08j,  3.6674e-02-1.6862e-07j,\n",
      "        -8.0428e-08+2.9417e-07j, -3.4104e-09-3.2170e-08j,\n",
      "        -6.6602e-03-1.9939e-07j, -1.1495e-07+1.2852e-07j,\n",
      "        -1.1184e-08+1.7230e-08j,  3.5260e-02+9.4603e-07j,\n",
      "        -7.0035e-09+1.3088e-09j, -1.6983e-08+1.4036e-08j,\n",
      "        -1.1327e-02+6.0416e-08j, -1.2272e-09+2.8936e-09j,\n",
      "         2.1483e-09-1.6710e-09j,  3.3606e-07-2.2911e-07j,\n",
      "        -1.2101e-06+1.7727e-06j,  1.0902e-08+2.6899e-09j,\n",
      "         1.7712e-03+7.0852e-07j, -5.9989e-07+2.4308e-06j,\n",
      "         1.0230e-09-1.2079e-09j,  1.0432e-15-2.9206e-14j,\n",
      "         3.5932e-07+1.4500e-06j, -2.2950e-10+2.6962e-10j,\n",
      "         1.7506e-03+1.7919e-07j,  4.1352e-06+2.9486e-06j,\n",
      "         1.3380e-10+1.8096e-10j, -2.6923e-07-2.3842e-07j,\n",
      "        -1.0299e-06-5.1022e-08j,  6.7019e-11-2.0546e-12j,\n",
      "        -1.0342e-07-1.4901e-08j, -5.0213e-07-4.3246e-07j,\n",
      "         7.1063e-06+5.6992e-07j, -1.0114e-06+1.0046e-03j,\n",
      "         1.1144e-06-1.7663e-07j, -1.8141e-06+9.1129e-06j,\n",
      "         4.1911e-09-2.6395e-04j, -8.0259e-11-3.8253e-11j,\n",
      "        -5.9255e-07+2.9849e-06j, -7.5575e-05+1.7101e-07j,\n",
      "         1.6076e-06+1.1721e-07j, -2.1879e-06-1.5490e-06j,\n",
      "         7.4043e-14-1.8168e-14j, -6.1349e-07+3.5191e-07j,\n",
      "         3.2708e-07+1.9595e-07j,  3.2816e-13+2.5525e-14j,\n",
      "         9.1179e-09+1.1098e-07j,  1.8750e-07-1.9279e-07j,\n",
      "        -4.8601e-06-7.2142e-03j,  1.9905e-10+3.9548e-10j,\n",
      "        -7.5782e-07-1.3808e-06j, -1.9429e-03-2.3907e-06j,\n",
      "        -9.0357e-11-2.6456e-10j, -1.1539e-11-3.5270e-10j,\n",
      "         8.0764e-05-1.3942e-06j, -2.5164e-10+1.4251e-10j,\n",
      "        -4.1992e-07-6.1961e-07j, -8.1119e-04+8.7917e-07j,\n",
      "        -8.3034e-11+2.9121e-11j, -3.6967e-07-1.7222e-07j,\n",
      "         2.6163e-04-7.4506e-07j,  2.8528e-11-6.6868e-11j,\n",
      "         3.8130e-07+7.0004e-08j, -1.3271e-07+1.8217e-06j,\n",
      "         5.2870e-07-1.3678e-06j,  3.9483e-07-2.5940e-07j,\n",
      "        -1.6540e-13+5.9356e-13j,  1.4838e-06+8.6044e-07j,\n",
      "        -3.1329e-08-8.3984e-08j, -8.8717e-14+2.5022e-13j,\n",
      "         6.2448e-07+2.8687e-07j, -5.6424e-09+1.0215e-07j,\n",
      "         3.3502e-13+2.2816e-13j,  2.5377e-07+1.3487e-06j,\n",
      "         1.1018e-14+1.2939e-15j,  2.1533e-13-2.2718e-14j,\n",
      "        -1.6232e-07+1.0455e-07j,  7.2628e-14-1.1330e-13j,\n",
      "         6.5759e-14+8.5590e-14j, -1.9325e-07+4.0361e-08j,\n",
      "        -1.6100e-06+2.1554e-06j, -2.3112e-13-2.3274e-13j,\n",
      "         6.4126e-08+9.4972e-07j, -4.5054e-06-6.1531e-07j,\n",
      "        -1.3854e-14-2.1056e-13j, -1.2495e-13-3.3496e-13j,\n",
      "        -1.7401e-06-9.8757e-07j, -4.5660e-14-2.7430e-13j,\n",
      "         4.7358e-07+5.5334e-07j,  3.7403e-06+1.0280e-06j,\n",
      "         1.8583e-13-1.0804e-14j,  1.1988e-07+2.5989e-08j,\n",
      "        -9.0847e-07-1.2208e-07j, -1.5690e-13+1.5069e-13j,\n",
      "        -5.0888e-08+1.0419e-08j,  1.5527e-07+9.9040e-08j,\n",
      "        -8.4515e-07-1.8781e-03j, -5.9189e-11+4.3933e-11j,\n",
      "        -1.6990e-07-2.9345e-07j, -4.9558e-04-2.3679e-07j,\n",
      "        -2.2375e-12-9.6256e-11j, -2.9596e-12-9.1596e-11j,\n",
      "         2.1360e-05+4.7243e-08j, -7.3048e-11+3.2093e-11j,\n",
      "        -1.1277e-07-2.0423e-07j, -2.0491e-04+8.7242e-07j,\n",
      "        -2.1874e-11+7.6308e-12j, -1.9623e-07+5.0717e-08j,\n",
      "         6.6104e-05-3.1410e-07j,  7.1622e-12-1.6973e-11j,\n",
      "         4.8493e-08-7.5733e-08j, -8.6686e-08+2.0408e-07j,\n",
      "         8.4820e-10+5.5911e-11j,  4.5625e-11+1.0123e-11j,\n",
      "         2.0416e-05+4.9030e-07j,  5.9507e-11-4.0160e-10j,\n",
      "         5.5395e-12-5.4839e-12j,  2.4270e-17-3.1577e-17j,\n",
      "        -5.2969e-11-2.7460e-11j, -1.0858e-12+2.6970e-12j,\n",
      "         1.9689e-05+5.7045e-08j, -1.4431e-10-1.2294e-10j,\n",
      "         1.5154e-12+2.0263e-12j, -3.0491e-08+2.3143e-07j,\n",
      "         6.8874e-11+6.8004e-11j,  7.5998e-13-2.8898e-14j,\n",
      "        -1.1138e-08+2.1886e-08j,  7.8060e-12-7.6652e-13j,\n",
      "         8.7892e-07-1.2350e-06j,  7.0441e-06+3.8650e-08j,\n",
      "        -2.8343e-12+1.2572e-12j,  6.8522e-07+1.0678e-07j,\n",
      "        -2.2587e-06+9.0368e-09j, -2.4546e-13+5.9561e-13j,\n",
      "         2.2560e-07+8.8511e-08j, -1.0172e-08-1.8626e-08j,\n",
      "         3.2802e-12+4.6710e-12j, -3.7744e-07-2.2737e-07j,\n",
      "         1.6335e-14+2.8141e-15j, -1.2473e-12-3.7884e-12j,\n",
      "        -1.2991e-07+3.7132e-08j,  9.0537e-15-2.9455e-15j,\n",
      "         1.6007e-13-7.3441e-13j, -6.5757e-08+7.6633e-08j,\n",
      "        -6.5308e-05+1.7022e-07j,  3.6737e-12-1.0466e-12j,\n",
      "         5.6119e-09-1.2842e-07j, -6.4058e-07+2.7195e-07j,\n",
      "        -2.7110e-12+9.5086e-13j, -2.5067e-12+5.2153e-14j,\n",
      "         2.5233e-07+8.9407e-08j,  1.7203e-12+1.1985e-12j,\n",
      "         1.2424e-07+3.7681e-09j,  1.6764e-07+4.6380e-07j,\n",
      "         5.0346e-13+1.4530e-12j, -2.1930e-08-6.1341e-08j,\n",
      "         1.3300e-07-8.4983e-08j, -4.2415e-14+3.1025e-15j,\n",
      "        -4.9764e-09-4.0553e-08j,  2.3749e-08-4.9215e-08j])\n"
     ]
    },
    {
     "ename": "AttributeError",
     "evalue": "'NoneType' object has no attribute 'numpy'",
     "output_type": "error",
     "traceback": [
      "\u001B[0;31m---------------------------------------------------------------------------\u001B[0m",
      "\u001B[0;31mAttributeError\u001B[0m                            Traceback (most recent call last)",
      "Cell \u001B[0;32mIn [5], line 1\u001B[0m\n\u001B[0;32m----> 1\u001B[0m CP_z_phase_res \u001B[38;5;241m=\u001B[39m \u001B[43msc\u001B[49m\u001B[38;5;241;43m.\u001B[39;49m\u001B[43moptimize\u001B[49m\u001B[38;5;241;43m.\u001B[39;49m\u001B[43mminimize\u001B[49m\u001B[43m(\u001B[49m\u001B[43mfun\u001B[49m\u001B[38;5;241;43m=\u001B[39;49m\u001B[43mCP_z_phase_ansatz\u001B[49m\u001B[38;5;241;43m.\u001B[39;49m\u001B[43mget_cost\u001B[49m\u001B[43m,\u001B[49m\u001B[43m \u001B[49m\n\u001B[1;32m      2\u001B[0m \u001B[43m                                      \u001B[49m\u001B[43mx0\u001B[49m\u001B[38;5;241;43m=\u001B[39;49m\u001B[43mCP_z_phase_theta_i\u001B[49m\u001B[43m,\u001B[49m\n\u001B[1;32m      3\u001B[0m \u001B[43m                                          \u001B[49m\u001B[43mmethod\u001B[49m\u001B[38;5;241;43m=\u001B[39;49m\u001B[38;5;124;43m'\u001B[39;49m\u001B[38;5;124;43mBFGS\u001B[39;49m\u001B[38;5;124;43m'\u001B[39;49m\u001B[43m,\u001B[49m\n\u001B[1;32m      4\u001B[0m \u001B[43m                                      \u001B[49m\u001B[43moptions\u001B[49m\u001B[38;5;241;43m=\u001B[39;49m\u001B[43m{\u001B[49m\u001B[38;5;124;43m'\u001B[39;49m\u001B[38;5;124;43mdisp\u001B[39;49m\u001B[38;5;124;43m'\u001B[39;49m\u001B[43m:\u001B[49m\u001B[43m \u001B[49m\u001B[38;5;28;43;01mFalse\u001B[39;49;00m\u001B[43m,\u001B[49m\u001B[43m \u001B[49m\n\u001B[1;32m      5\u001B[0m \u001B[43m                                               \u001B[49m\u001B[38;5;124;43m'\u001B[39;49m\u001B[38;5;124;43mmaxiter\u001B[39;49m\u001B[38;5;124;43m'\u001B[39;49m\u001B[43m:\u001B[49m\u001B[43m \u001B[49m\u001B[43mmax_iter\u001B[49m\u001B[43m}\u001B[49m\u001B[43m,\u001B[49m\n\u001B[1;32m      6\u001B[0m \u001B[43m                                      \u001B[49m\u001B[43mcallback\u001B[49m\u001B[38;5;241;43m=\u001B[39;49m\u001B[43mCP_z_phase_callback_function\u001B[49m\u001B[43m)\u001B[49m\n\u001B[1;32m      7\u001B[0m CP_z_phase_res\n",
      "File \u001B[0;32m~/miniforge3/lib/python3.10/site-packages/scipy/optimize/_minimize.py:705\u001B[0m, in \u001B[0;36mminimize\u001B[0;34m(fun, x0, args, method, jac, hess, hessp, bounds, constraints, tol, callback, options)\u001B[0m\n\u001B[1;32m    703\u001B[0m     res \u001B[38;5;241m=\u001B[39m _minimize_cg(fun, x0, args, jac, callback, \u001B[38;5;241m*\u001B[39m\u001B[38;5;241m*\u001B[39moptions)\n\u001B[1;32m    704\u001B[0m \u001B[38;5;28;01melif\u001B[39;00m meth \u001B[38;5;241m==\u001B[39m \u001B[38;5;124m'\u001B[39m\u001B[38;5;124mbfgs\u001B[39m\u001B[38;5;124m'\u001B[39m:\n\u001B[0;32m--> 705\u001B[0m     res \u001B[38;5;241m=\u001B[39m \u001B[43m_minimize_bfgs\u001B[49m\u001B[43m(\u001B[49m\u001B[43mfun\u001B[49m\u001B[43m,\u001B[49m\u001B[43m \u001B[49m\u001B[43mx0\u001B[49m\u001B[43m,\u001B[49m\u001B[43m \u001B[49m\u001B[43margs\u001B[49m\u001B[43m,\u001B[49m\u001B[43m \u001B[49m\u001B[43mjac\u001B[49m\u001B[43m,\u001B[49m\u001B[43m \u001B[49m\u001B[43mcallback\u001B[49m\u001B[43m,\u001B[49m\u001B[43m \u001B[49m\u001B[38;5;241;43m*\u001B[39;49m\u001B[38;5;241;43m*\u001B[39;49m\u001B[43moptions\u001B[49m\u001B[43m)\u001B[49m\n\u001B[1;32m    706\u001B[0m \u001B[38;5;28;01melif\u001B[39;00m meth \u001B[38;5;241m==\u001B[39m \u001B[38;5;124m'\u001B[39m\u001B[38;5;124mnewton-cg\u001B[39m\u001B[38;5;124m'\u001B[39m:\n\u001B[1;32m    707\u001B[0m     res \u001B[38;5;241m=\u001B[39m _minimize_newtoncg(fun, x0, args, jac, hess, hessp, callback,\n\u001B[1;32m    708\u001B[0m                              \u001B[38;5;241m*\u001B[39m\u001B[38;5;241m*\u001B[39moptions)\n",
      "File \u001B[0;32m~/miniforge3/lib/python3.10/site-packages/scipy/optimize/_optimize.py:1465\u001B[0m, in \u001B[0;36m_minimize_bfgs\u001B[0;34m(fun, x0, args, jac, callback, gtol, norm, eps, maxiter, disp, return_all, finite_diff_rel_step, xrtol, **unknown_options)\u001B[0m\n\u001B[1;32m   1463\u001B[0m k \u001B[38;5;241m+\u001B[39m\u001B[38;5;241m=\u001B[39m \u001B[38;5;241m1\u001B[39m\n\u001B[1;32m   1464\u001B[0m intermediate_result \u001B[38;5;241m=\u001B[39m OptimizeResult(x\u001B[38;5;241m=\u001B[39mxk, fun\u001B[38;5;241m=\u001B[39mold_fval)\n\u001B[0;32m-> 1465\u001B[0m \u001B[38;5;28;01mif\u001B[39;00m \u001B[43m_call_callback_maybe_halt\u001B[49m\u001B[43m(\u001B[49m\u001B[43mcallback\u001B[49m\u001B[43m,\u001B[49m\u001B[43m \u001B[49m\u001B[43mintermediate_result\u001B[49m\u001B[43m)\u001B[49m:\n\u001B[1;32m   1466\u001B[0m     \u001B[38;5;28;01mbreak\u001B[39;00m\n\u001B[1;32m   1467\u001B[0m gnorm \u001B[38;5;241m=\u001B[39m vecnorm(gfk, \u001B[38;5;28mord\u001B[39m\u001B[38;5;241m=\u001B[39mnorm)\n",
      "File \u001B[0;32m~/miniforge3/lib/python3.10/site-packages/scipy/optimize/_optimize.py:175\u001B[0m, in \u001B[0;36m_call_callback_maybe_halt\u001B[0;34m(callback, res)\u001B[0m\n\u001B[1;32m    173\u001B[0m     \u001B[38;5;28;01mreturn\u001B[39;00m \u001B[38;5;28;01mFalse\u001B[39;00m\n\u001B[1;32m    174\u001B[0m \u001B[38;5;28;01mtry\u001B[39;00m:\n\u001B[0;32m--> 175\u001B[0m     \u001B[43mcallback\u001B[49m\u001B[43m(\u001B[49m\u001B[43mres\u001B[49m\u001B[43m)\u001B[49m\n\u001B[1;32m    176\u001B[0m     \u001B[38;5;28;01mreturn\u001B[39;00m \u001B[38;5;28;01mFalse\u001B[39;00m\n\u001B[1;32m    177\u001B[0m \u001B[38;5;28;01mexcept\u001B[39;00m \u001B[38;5;167;01mStopIteration\u001B[39;00m:\n",
      "File \u001B[0;32m~/miniforge3/lib/python3.10/site-packages/scipy/optimize/_optimize.py:150\u001B[0m, in \u001B[0;36m_wrap_callback.<locals>.wrapped_callback\u001B[0;34m(res)\u001B[0m\n\u001B[1;32m    149\u001B[0m \u001B[38;5;28;01mdef\u001B[39;00m \u001B[38;5;21mwrapped_callback\u001B[39m(res):\n\u001B[0;32m--> 150\u001B[0m     \u001B[38;5;28;01mreturn\u001B[39;00m \u001B[43mcallback\u001B[49m\u001B[43m(\u001B[49m\u001B[43mnp\u001B[49m\u001B[38;5;241;43m.\u001B[39;49m\u001B[43mcopy\u001B[49m\u001B[43m(\u001B[49m\u001B[43mres\u001B[49m\u001B[38;5;241;43m.\u001B[39;49m\u001B[43mx\u001B[49m\u001B[43m)\u001B[49m\u001B[43m)\u001B[49m\n",
      "Cell \u001B[0;32mIn [4], line 24\u001B[0m, in \u001B[0;36mCP_z_phase_callback_function\u001B[0;34m(x)\u001B[0m\n\u001B[1;32m     22\u001B[0m     CP_z_phase_probs\u001B[38;5;241m.\u001B[39mappend(\u001B[38;5;241m0\u001B[39m)\n\u001B[1;32m     23\u001B[0m CP_z_phase_costs\u001B[38;5;241m.\u001B[39mappend(_cost_)\n\u001B[0;32m---> 24\u001B[0m CP_z_phase_grad_norm\u001B[38;5;241m.\u001B[39mappend(np\u001B[38;5;241m.\u001B[39mlinalg\u001B[38;5;241m.\u001B[39mnorm(\u001B[43mCP_z_phase_ansatz\u001B[49m\u001B[38;5;241;43m.\u001B[39;49m\u001B[43mget_gradient\u001B[49m\u001B[43m(\u001B[49m\u001B[43mx\u001B[49m\u001B[43m)\u001B[49m))\n",
      "File \u001B[0;32m~/Library/CloudStorage/OneDrive-AarhusUniversitet/Div. Github projekter/Privat/Azurestuff/src/CPQAOA.py:170\u001B[0m, in \u001B[0;36mCP_QAOA.get_gradient\u001B[0;34m(self, angles)\u001B[0m\n\u001B[1;32m    167\u001B[0m \u001B[38;5;28mprint\u001B[39m(torch_angles\u001B[38;5;241m.\u001B[39mgrad, psi_0\u001B[38;5;241m.\u001B[39mgrad)\n\u001B[1;32m    169\u001B[0m \u001B[38;5;66;03m# Extracting and returning the gradient as a numpy array\u001B[39;00m\n\u001B[0;32m--> 170\u001B[0m angle_gradients \u001B[38;5;241m=\u001B[39m \u001B[43mtorch_angles\u001B[49m\u001B[38;5;241;43m.\u001B[39;49m\u001B[43mgrad\u001B[49m\u001B[38;5;241;43m.\u001B[39;49m\u001B[43mnumpy\u001B[49m()\n\u001B[1;32m    172\u001B[0m \u001B[38;5;124;03m\"\"\"# Parameter values list (multiplying w. 2 as values in set circuit = 2*angle)\u001B[39;00m\n\u001B[1;32m    173\u001B[0m \u001B[38;5;124;03mparam_values = [[theta for theta in angles]]\u001B[39;00m\n\u001B[1;32m    174\u001B[0m \n\u001B[0;32m   (...)\u001B[0m\n\u001B[1;32m    181\u001B[0m \u001B[38;5;124;03m                               parameters=[params],\u001B[39;00m\n\u001B[1;32m    182\u001B[0m \u001B[38;5;124;03m                               parameter_values=param_values).result().gradients\"\"\"\u001B[39;00m\n\u001B[1;32m    184\u001B[0m \u001B[38;5;28;01mreturn\u001B[39;00m angle_gradients\n",
      "\u001B[0;31mAttributeError\u001B[0m: 'NoneType' object has no attribute 'numpy'"
     ]
    }
   ],
   "source": [
    "CP_z_phase_res = sc.optimize.minimize(fun=CP_z_phase_ansatz.get_cost, \n",
    "                                      x0=CP_z_phase_theta_i,\n",
    "                                          method='BFGS',\n",
    "                                      options={'disp': False, \n",
    "                                               'maxiter': max_iter},\n",
    "                                      callback=CP_z_phase_callback_function)\n",
    "CP_z_phase_res"
   ],
   "metadata": {
    "collapsed": false,
    "ExecuteTime": {
     "end_time": "2024-01-22T01:16:20.069244Z",
     "start_time": "2024-01-22T01:16:16.947817Z"
    }
   },
   "id": "4f5327c850c8b128",
   "execution_count": 5
  },
  {
   "cell_type": "code",
   "outputs": [
    {
     "name": "stdout",
     "output_type": "stream",
     "text": [
      "0.0 0.999999999992384\n"
     ]
    },
    {
     "data": {
      "text/plain": "<Figure size 500x300 with 1 Axes>",
      "image/png": "[encoded data removed]"
     },
     "metadata": {},
     "output_type": "display_data"
    }
   ],
   "source": [
    "# N.B. Because the normalization is done w. respect to the \"allowed states (w. k ones)\" QAOA has cost above 1.\n",
    "fig, ax = plt.subplots(1,1, figsize=(5,3))\n",
    "ax.plot([it for it in range(len(CP_z_phase_costs))], CP_z_phase_costs, label='normalized costs')\n",
    "ax.plot([it for it in range(len(CP_z_phase_probs))], CP_z_phase_probs, label='prop')\n",
    "ax.plot([it for it in range(len(CP_z_phase_grad_norm))], CP_z_phase_grad_norm, label='grad norm')\n",
    "\n",
    "ax.set_xlim(0,len(CP_z_phase_costs))\n",
    "ax.hlines(0,0,len(CP_z_phase_costs),lw=1,linestyles='dashed',colors='k')\n",
    "ax.legend(loc='upper right')\n",
    "print(CP_z_phase_costs[-1],CP_z_phase_probs[-1])\n",
    "plt.show()"
   ],
   "metadata": {
    "collapsed": false,
    "ExecuteTime": {
     "end_time": "2024-01-21T23:07:07.217986Z",
     "start_time": "2024-01-21T23:07:07.173177Z"
    }
   },
   "id": "12092d2db7cf4243",
   "execution_count": 82
  },
  {
   "cell_type": "code",
   "execution_count": 44,
   "outputs": [
    {
     "data": {
      "text/plain": "[1.200974298573553,\n 0.2829269398967131,\n 0.2516082905468662,\n 0.2544974419215008,\n 0.035613185075376405,\n 0.005969668927284142,\n 0.000680626308575656,\n 3.902250682353481e-05,\n 1.2952713404239054e-06]"
     },
     "execution_count": 44,
     "metadata": {},
     "output_type": "execute_result"
    }
   ],
   "source": [
    "CP_z_phase_grad_norm"
   ],
   "metadata": {
    "collapsed": false,
    "ExecuteTime": {
     "end_time": "2024-01-21T23:01:14.945750Z",
     "start_time": "2024-01-21T23:01:14.939828Z"
    }
   },
   "id": "621b5c139779d748"
  },
  {
   "cell_type": "code",
   "outputs": [
    {
     "name": "stdout",
     "output_type": "stream",
     "text": [
      "[-2.11309819e-07  3.14159428e+00 -6.28318575e+00 -1.57079646e+00\n",
      " -4.42659654e+00]\n"
     ]
    }
   ],
   "source": [
    "theta_opt = CP_z_phase_res.x\n",
    "print(theta_opt)"
   ],
   "metadata": {
    "collapsed": false,
    "ExecuteTime": {
     "end_time": "2024-01-21T23:01:16.619018Z",
     "start_time": "2024-01-21T23:01:16.613939Z"
    }
   },
   "id": "279dc9d361340b98",
   "execution_count": 45
  },
  {
   "cell_type": "code",
   "execution_count": 38,
   "outputs": [
    {
     "name": "stdout",
     "output_type": "stream",
     "text": [
      "theta_2: 3.1415923163639228 is approx.: 1*pi/1\n",
      "theta_3: 1.570796276673 is approx.: 1*pi/2\n",
      "theta_5: -1.5707961955687195 is approx.: -1*pi/2\n"
     ]
    }
   ],
   "source": [
    "THETAS = list(theta_opt)\n",
    "eps = 1e-6\n",
    "counter = 1\n",
    "facs = [float(i) for i in range(1,30)]\n",
    "saved = []\n",
    "for angle in THETAS:\n",
    "    angle_is_pi = False\n",
    "    for multiplicative_factor in facs:\n",
    "        for divisor in facs:\n",
    "            if np.abs(multiplicative_factor*np.pi/divisor-angle) <= eps and angle not in saved:\n",
    "                print(f'theta_{counter}: {angle} is approx.: {int(multiplicative_factor)}*pi/{int(divisor)}')     \n",
    "                counter += 1\n",
    "                saved.append(angle)\n",
    "                angle_is_pi = True\n",
    "            elif np.abs(-multiplicative_factor*np.pi/divisor-angle) <= eps and angle not in saved:\n",
    "                print(f'theta_{counter}: {angle} is approx.: -{int(multiplicative_factor)}*pi/{int(divisor)}')     \n",
    "                counter += 1\n",
    "                saved.append(angle)\n",
    "                angle_is_pi = True\n",
    "    if not angle_is_pi:\n",
    "        counter +=1"
   ],
   "metadata": {
    "collapsed": false,
    "ExecuteTime": {
     "end_time": "2024-01-21T23:00:56.062595Z",
     "start_time": "2024-01-21T23:00:56.059467Z"
    }
   },
   "id": "fd2cfa49177eec93"
  },
  {
   "cell_type": "code",
   "execution_count": 10,
   "outputs": [],
   "source": [
    "# Generating instances of ansatz'\n",
    "CP_test_ansatz= CP_QAOA(N_qubits=N,\n",
    "                        cardinality=k,\n",
    "                        layers=layers,\n",
    "                        topology=my_topology,\n",
    "                        QUBO_matrix=Q,\n",
    "                        with_next_nearest_neighbors=True,\n",
    "                        with_gradient=True,\n",
    "                        with_z_phase=False)"
   ],
   "metadata": {
    "collapsed": false,
    "ExecuteTime": {
     "end_time": "2024-01-19T13:32:40.871331300Z",
     "start_time": "2024-01-19T13:32:40.827473700Z"
    }
   },
   "id": "d455a9053c1ac291"
  },
  {
   "cell_type": "code",
   "outputs": [],
   "source": [
    "rand_theta = np.random.uniform(-4*np.pi,4*np.pi, 13)"
   ],
   "metadata": {
    "collapsed": false,
    "ExecuteTime": {
     "end_time": "2024-01-19T13:33:22.508597200Z",
     "start_time": "2024-01-19T13:33:22.496419600Z"
    }
   },
   "id": "848f2ce34e884cc2",
   "execution_count": 14
  },
  {
   "cell_type": "code",
   "execution_count": 15,
   "outputs": [],
   "source": [
    "# populating things\n",
    "_ = CP_test_ansatz.get_cost(angles=rand_theta)"
   ],
   "metadata": {
    "collapsed": false,
    "ExecuteTime": {
     "end_time": "2024-01-19T13:33:22.708540300Z",
     "start_time": "2024-01-19T13:33:22.686600700Z"
    }
   },
   "id": "4f864fd076389a70"
  },
  {
   "cell_type": "code",
   "execution_count": 16,
   "outputs": [
    {
     "data": {
      "text/plain": "3.5410316590416966"
     },
     "execution_count": 16,
     "metadata": {},
     "output_type": "execute_result"
    }
   ],
   "source": [
    "np.linalg.norm(CP_test_ansatz.get_gradient(angles=rand_theta))"
   ],
   "metadata": {
    "collapsed": false,
    "ExecuteTime": {
     "end_time": "2024-01-19T13:33:24.230689200Z",
     "start_time": "2024-01-19T13:33:23.705662100Z"
    }
   },
   "id": "2b872847251e2a93"
  },
  {
   "cell_type": "code",
   "execution_count": 24,
   "outputs": [
    {
     "name": "stdout",
     "output_type": "stream",
     "text": [
      "[-0.15519875 -0.24269118  0.34079508  1.52934397 -0.78011851  0.34553458\n",
      " -2.57701937  0.10282884  0.51810679 -0.24581866  1.27521791  0.70154648\n",
      " -0.41724574]\n"
     ]
    }
   ],
   "source": [
    "print(np.array(CP_test_ansatz.get_gradient(angles=rand_theta)).flatten())"
   ],
   "metadata": {
    "collapsed": false,
    "ExecuteTime": {
     "end_time": "2024-01-19T13:34:18.086101300Z",
     "start_time": "2024-01-19T13:34:17.490904600Z"
    }
   },
   "id": "6d46d8b2536fdc98"
  },
  {
   "cell_type": "code",
   "execution_count": null,
   "outputs": [],
   "source": [],
   "metadata": {
    "collapsed": false
   },
   "id": "ca97b14b6bc3e52e"
  }
 ],
 "metadata": {
  "kernelspec": {
   "display_name": "Python 3",
   "language": "python",
   "name": "python3"
  },
  "language_info": {
   "codemirror_mode": {
    "name": "ipython",
    "version": 2
   },
   "file_extension": ".py",
   "mimetype": "text/x-python",
   "name": "python",
   "nbconvert_exporter": "python",
   "pygments_lexer": "ipython2",
   "version": "2.7.6"
  }
 },
 "nbformat": 4,
 "nbformat_minor": 5
}
