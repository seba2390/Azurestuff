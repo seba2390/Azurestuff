{
 "cells": [
  {
   "cell_type": "code",
   "execution_count": 10,
   "id": "initial_id",
   "metadata": {
    "collapsed": true,
    "ExecuteTime": {
     "end_time": "2024-01-18T01:59:46.358930Z",
     "start_time": "2024-01-18T01:59:46.356169Z"
    }
   },
   "outputs": [],
   "source": [
    "import numpy as np\n",
    "import scipy as sc\n",
    "import matplotlib.pyplot as plt\n",
    "\n",
    "from src.CPQAOA import CP_QAOA\n",
    "from src.Grid import Grid\n",
    "from src.Chain import Chain\n",
    "from src.Tools import (portfolio_metrics, \n",
    "                       min_cost_partition, \n",
    "                       get_qubo, \n",
    "                       normalized_cost, \n",
    "                       qubo_limits, \n",
    "                       check_qubo,\n",
    "                       qubo_cost,\n",
    "                       partitioned_averages)"
   ]
  },
  {
   "cell_type": "code",
   "outputs": [
    {
     "name": "stdout",
     "output_type": "stream",
     "text": [
      " Qubit indices in chain: \n",
      " [0 1 2 3 4 5]\n",
      "\n",
      " Corresponding Nearest Neighbor index pairs: \n",
      " [(0, 1), (1, 2), (2, 3), (3, 4), (4, 5)]\n",
      "\n",
      " Corresponding Nearest Neighbor + Next Nearest index pairs: \n",
      " [(0, 1), (0, 2), (1, 2), (1, 3), (2, 3), (2, 4), (3, 4), (3, 5), (4, 5)]\n",
      "\n",
      " Initialization strategy is: \n",
      " [0 1 0 1 0 1]\n",
      "\n",
      " Corresponding indices is: \n",
      " [1, 3, 5]\n"
     ]
    }
   ],
   "source": [
    "# Number of Qubits \n",
    "N=6\n",
    "# number of excitations\n",
    "k=3\n",
    "# RNG seed for reproducibility\n",
    "seed=4\n",
    "# alpha in: s^T*mu + alpha*(s^T*Covar*s)\n",
    "alpha=0.5\n",
    "# Nr. of layer repetitions\n",
    "layers=1\n",
    "# Maximal number of iterations for classical solver\n",
    "max_iter=400\n",
    "# Using next nearest neighbors (in 1D chain model)\n",
    "w_next_nearest_neighbors = True\n",
    "\n",
    "\n",
    "my_chain = Chain(N_qubits=N)\n",
    "print(f' Qubit indices in chain: \\n', my_chain.get_chain_indexing())\n",
    "print(f'\\n Corresponding Nearest Neighbor index pairs: \\n', my_chain.get_NN_indices())\n",
    "print(f'\\n Corresponding Nearest Neighbor + Next Nearest index pairs: \\n', my_chain.get_NNN_indices())\n",
    "init_strat = np.array([0,1,0,1,0,1])\n",
    "my_chain.set_initialization_strategy(strategy=init_strat)\n",
    "print(f'\\n Initialization strategy is: \\n', my_chain.get_initialization_strategy())\n",
    "print(f'\\n Corresponding indices is: \\n', my_chain.get_initialization_indices())\n",
    "\n",
    "# Deciding between grid and 1d chain topology\n",
    "my_topology = my_chain"
   ],
   "metadata": {
    "collapsed": false,
    "ExecuteTime": {
     "end_time": "2024-01-18T01:58:14.859142Z",
     "start_time": "2024-01-18T01:58:14.855802Z"
    }
   },
   "id": "bed6ee6118392981",
   "execution_count": 2
  },
  {
   "cell_type": "code",
   "outputs": [
    {
     "name": "stdout",
     "output_type": "stream",
     "text": [
      "Min. cost portfolio (constrained subspace): 2.724253296126501\n",
      "Optimal portfolio state (constrained subspace) is: |100110>\n",
      "Min. cost QUBO: 2.724253296126502\n",
      "Min. cost QUBO state is: |100110>\n",
      "Check that qubo min cost is same as portfolio min cost:\n",
      "2.724253296126502 2.724253296126501\n",
      "Check that qubo max cost is at least portfolio max cost:\n",
      "48.32754728628957 7.819304086343843\n"
     ]
    }
   ],
   "source": [
    "# Generating random problem instance \n",
    "expected_returns, covariances = portfolio_metrics(n=N, seed=seed)\n",
    "\n",
    "# Retrieving C_min, C_max and corresponding states for original portfolio problem\n",
    "constrained_result, full_result, lmbda = min_cost_partition(nr_qubits=N,\n",
    "                                                            k=k,\n",
    "                                                            mu=expected_returns,\n",
    "                                                            sigma=covariances,\n",
    "                                                            alpha=alpha)\n",
    "\n",
    "portfolio_subspace_max_cost, portfolio_subspace_min_cost, portfolio_subspace_min_state = constrained_result['c_max'], constrained_result['c_min'], constrained_result['s']\n",
    "full_space_max_cost = full_result['c_max']\n",
    "portfolio_subspace_min_state_str = ''.join([str(_) for _ in portfolio_subspace_min_state])\n",
    "print(f\"Min. cost portfolio (constrained subspace): {portfolio_subspace_min_cost}\")\n",
    "print(\"Optimal portfolio state (constrained subspace) is: |\"+portfolio_subspace_min_state_str+\">\")\n",
    "\n",
    "# Generating QUBO corresponding to current problem instance\n",
    "Q, offset = get_qubo(mu=expected_returns,\n",
    "                     sigma=covariances, \n",
    "                     alpha=alpha,\n",
    "                     lmbda=lmbda+1e-8, # Adding small constant purposely\n",
    "                     k=k)\n",
    "QUBO_limits = qubo_limits(Q=Q,offset=offset)\n",
    "qubo_min_cost, qubo_max_cost = QUBO_limits['c_min'], QUBO_limits['c_max']\n",
    "qubo_min_state, qubo_max_state = QUBO_limits['min_state'], QUBO_limits['max_state']\n",
    "check_qubo(QUBO_matrix=Q, QUBO_offset=offset, expected_returns=expected_returns, covariances=covariances, alpha=alpha, k=k)\n",
    "qubo_min_state_str = ''.join([str(_) for _ in qubo_min_state])\n",
    "print(f\"Min. cost QUBO: {qubo_min_cost}\")\n",
    "print(\"Min. cost QUBO state is: |\"+qubo_min_state_str+\">\")\n",
    "print(\"Check that qubo min cost is same as portfolio min cost:\")\n",
    "print(qubo_min_cost, portfolio_subspace_min_cost)\n",
    "print(\"Check that qubo max cost is at least portfolio max cost:\")\n",
    "print(qubo_max_cost, portfolio_subspace_max_cost)\n",
    "\n",
    "# Generating instances of ansatz'\n",
    "CP_z_phase_ansatz = CP_QAOA(N_qubits=N,\n",
    "                 cardinality=k,\n",
    "                 layers=layers,\n",
    "                 topology=my_topology,\n",
    "                 QUBO_matrix=Q,\n",
    "                 with_next_nearest_neighbors=w_next_nearest_neighbors,\n",
    "                 with_gradient=True,\n",
    "                 with_z_phase=False)"
   ],
   "metadata": {
    "collapsed": false,
    "ExecuteTime": {
     "end_time": "2024-01-18T01:58:15.700549Z",
     "start_time": "2024-01-18T01:58:15.612590Z"
    }
   },
   "id": "16bcf7c9de3c6655",
   "execution_count": 3
  },
  {
   "cell_type": "code",
   "outputs": [
    {
     "name": "stdout",
     "output_type": "stream",
     "text": [
      "CP+Z-PHASE: 9\n"
     ]
    }
   ],
   "source": [
    "# Choosing optimizer for scipy\n",
    "available_methods = ['COBYLA', 'Nelder-Mead', 'BFGS']\n",
    "optimizer_method = available_methods[0]\n",
    "\n",
    "# Generating callback function for plotting\n",
    "CP_z_phase_costs = [] # Normalized costs\n",
    "CP_z_phase_probs = [] # probability of optimal state\n",
    "CP_z_phase_most_probables = []\n",
    "solver_costs=[]\n",
    "\n",
    "def CP_z_phase_callback_function(x):\n",
    "    _dict_ = CP_z_phase_ansatz.get_state_probabilities(flip_states=False)\n",
    "    CP_z_phase_most_probables.append(list(_dict_.keys())[np.argmax(list(_dict_.values()))])\n",
    "    # N.B. Normalizing w. respect to full space max cost\n",
    "    _cost_ = normalized_cost(result=_dict_,\n",
    "                             QUBO_matrix=Q,\n",
    "                             QUBO_offset=offset,\n",
    "                             max_cost=portfolio_subspace_max_cost, \n",
    "                             min_cost=qubo_min_cost)\n",
    "    if portfolio_subspace_min_state_str in list(_dict_.keys()):\n",
    "        CP_z_phase_probs.append(_dict_[portfolio_subspace_min_state_str])\n",
    "    else:\n",
    "        CP_z_phase_probs.append(0)\n",
    "    CP_z_phase_costs.append(_cost_)\n",
    "    \n",
    "\n",
    "# Generating initial guess for rotation angles for CP_ansatz\n",
    "np.random.seed(seed)\n",
    "theta_min, theta_max = -2*np.pi, 2*np.pi\n",
    "N_angles = layers * len(my_topology.get_NN_indices())\n",
    "if w_next_nearest_neighbors:\n",
    "    N_angles = layers * len(my_topology.get_NNN_indices())\n",
    "CP_z_phase_theta_i = np.random.uniform(low=theta_min, high=theta_max, size=N_angles)\n",
    "print(f\"CP+Z-PHASE: {len(CP_z_phase_theta_i)}\")    "
   ],
   "metadata": {
    "collapsed": false,
    "ExecuteTime": {
     "end_time": "2024-01-18T01:58:16.494429Z",
     "start_time": "2024-01-18T01:58:16.491816Z"
    }
   },
   "id": "a8d33e377b4e02d7",
   "execution_count": 4
  },
  {
   "cell_type": "code",
   "outputs": [
    {
     "data": {
      "text/plain": "  message: Desired error not necessarily achieved due to precision loss.\n  success: False\n   status: 2\n      fun: -3.311707175388984\n        x: [ 5.890e+00  7.854e-01  5.955e+00  2.356e+00  2.749e+00\n            -3.142e+00  5.917e+00 -6.283e+00 -3.142e+00]\n      nit: 19\n      jac: [-2.961e-08  2.368e-07  0.000e+00  8.882e-08  2.072e-07\n             8.882e-07  0.000e+00 -3.257e-07 -5.921e-08]\n hess_inv: [[ 4.239e-01 -1.944e-01 ... -9.009e-02 -2.593e-02]\n            [-1.944e-01  2.191e-01 ...  1.249e-01  1.156e-01]\n            ...\n            [-9.009e-02  1.249e-01 ...  5.506e-01 -8.658e-03]\n            [-2.593e-02  1.156e-01 ... -8.658e-03  1.022e+00]]\n     nfev: 970\n     njev: 96"
     },
     "execution_count": 5,
     "metadata": {},
     "output_type": "execute_result"
    }
   ],
   "source": [
    "CP_z_phase_res = sc.optimize.minimize(fun=CP_z_phase_ansatz.get_cost, \n",
    "                                      x0=CP_z_phase_theta_i,\n",
    "                                      method='BFGS',\n",
    "                                      options={'disp': False, \n",
    "                                               'gtol':1e-8,\n",
    "                                               'eps':1.5e-8,\n",
    "                                               'maxiter': max_iter},\n",
    "                                      callback=CP_z_phase_callback_function)\n",
    "CP_z_phase_res"
   ],
   "metadata": {
    "collapsed": false,
    "ExecuteTime": {
     "end_time": "2024-01-18T01:59:01.959538Z",
     "start_time": "2024-01-18T01:58:16.986795Z"
    }
   },
   "id": "4f5327c850c8b128",
   "execution_count": 5
  },
  {
   "cell_type": "code",
   "outputs": [
    {
     "name": "stdout",
     "output_type": "stream",
     "text": [
      "0.0 0.999999999999051\n"
     ]
    },
    {
     "data": {
      "text/plain": "<Figure size 500x300 with 1 Axes>",
      "image/png": "[encoded data removed]"
     },
     "metadata": {},
     "output_type": "display_data"
    }
   ],
   "source": [
    "# N.B. Because the normalization is done w. respect to the \"allowed states (w. k ones)\" QAOA has cost above 1.\n",
    "fig, ax = plt.subplots(1,1, figsize=(5,3))\n",
    "ax.plot([it for it in range(len(CP_z_phase_costs))], CP_z_phase_costs, label='normalized costs')\n",
    "ax.plot([it for it in range(len(CP_z_phase_probs))], CP_z_phase_probs, label='prop')\n",
    "\n",
    "ax.set_xlim(0,len(CP_z_phase_costs))\n",
    "ax.hlines(0,0,len(CP_z_phase_costs),lw=1,linestyles='dashed',colors='k')\n",
    "ax.legend(loc='upper right')\n",
    "print(CP_z_phase_costs[-1],CP_z_phase_probs[-1])\n",
    "plt.show()"
   ],
   "metadata": {
    "collapsed": false,
    "ExecuteTime": {
     "end_time": "2024-01-18T01:59:03.420062Z",
     "start_time": "2024-01-18T01:59:03.250166Z"
    }
   },
   "id": "12092d2db7cf4243",
   "execution_count": 6
  },
  {
   "cell_type": "code",
   "outputs": [
    {
     "name": "stdout",
     "output_type": "stream",
     "text": [
      "[ 5.8904862   0.78539816  5.95467565  2.356195    2.74889367 -3.14159235\n",
      "  5.91713916 -6.28318537 -3.14159272]\n"
     ]
    }
   ],
   "source": [
    "theta_opt = CP_z_phase_res.x\n",
    "print(theta_opt)"
   ],
   "metadata": {
    "collapsed": false,
    "ExecuteTime": {
     "end_time": "2024-01-18T01:59:07.329765Z",
     "start_time": "2024-01-18T01:59:07.324364Z"
    }
   },
   "id": "279dc9d361340b98",
   "execution_count": 8
  },
  {
   "cell_type": "code",
   "execution_count": 9,
   "outputs": [
    {
     "name": "stdout",
     "output_type": "stream",
     "text": [
      "theta_1: 5.890486199119115 is approx.: 15*pi/8\n",
      "theta_2: 0.7853981608477217 is approx.: 1*pi/4\n",
      "theta_4: 2.3561949972320155 is approx.: 3*pi/4\n",
      "theta_5: 2.748893668941772 is approx.: 7*pi/8\n",
      "theta_6: -3.1415923491367885 is approx.: -1*pi/1\n",
      "theta_8: -6.283185374779236 is approx.: -2*pi/1\n",
      "theta_9: -3.14159272074038 is approx.: -1*pi/1\n"
     ]
    }
   ],
   "source": [
    "THETAS = list(theta_opt)\n",
    "eps = 1e-4\n",
    "counter = 1\n",
    "facs = [float(i) for i in range(1,30)]\n",
    "saved = []\n",
    "for angle in THETAS:\n",
    "    angle_is_pi = False\n",
    "    for multiplicative_factor in facs:\n",
    "        for divisor in facs:\n",
    "            if np.abs(multiplicative_factor*np.pi/divisor-angle) <= eps and angle not in saved:\n",
    "                print(f'theta_{counter}: {angle} is approx.: {int(multiplicative_factor)}*pi/{int(divisor)}')     \n",
    "                counter += 1\n",
    "                saved.append(angle)\n",
    "                angle_is_pi = True\n",
    "            elif np.abs(-multiplicative_factor*np.pi/divisor-angle) <= eps and angle not in saved:\n",
    "                print(f'theta_{counter}: {angle} is approx.: -{int(multiplicative_factor)}*pi/{int(divisor)}')     \n",
    "                counter += 1\n",
    "                saved.append(angle)\n",
    "                angle_is_pi = True\n",
    "    if not angle_is_pi:\n",
    "        counter +=1"
   ],
   "metadata": {
    "collapsed": false,
    "ExecuteTime": {
     "end_time": "2024-01-18T01:59:10.052104Z",
     "start_time": "2024-01-18T01:59:10.038026Z"
    }
   },
   "id": "fd2cfa49177eec93"
  },
  {
   "cell_type": "code",
   "execution_count": 50,
   "outputs": [],
   "source": [
    "# Generating instances of ansatz'\n",
    "CP_test_ansatz= CP_QAOA(N_qubits=N,\n",
    "                 cardinality=k,\n",
    "                 layers=layers,\n",
    "                 topology=my_topology,\n",
    "                 QUBO_matrix=Q,\n",
    "                 with_next_nearest_neighbors=True,\n",
    "                 with_gradient=True,\n",
    "                 with_z_phase=False)"
   ],
   "metadata": {
    "collapsed": false,
    "ExecuteTime": {
     "end_time": "2024-01-18T01:57:02.726106Z",
     "start_time": "2024-01-18T01:57:02.721867Z"
    }
   },
   "id": "d455a9053c1ac291"
  },
  {
   "cell_type": "code",
   "execution_count": 51,
   "outputs": [
    {
     "name": "stdout",
     "output_type": "stream",
     "text": [
      "[ 5.49778712 -1.57079636  2.62445743 -3.14159262 -2.35619486  3.92699078\n",
      " -3.92699092 -0.48596359  4.71238868]\n"
     ]
    }
   ],
   "source": [
    "print(theta_opt)"
   ],
   "metadata": {
    "collapsed": false,
    "ExecuteTime": {
     "end_time": "2024-01-18T01:57:02.933918Z",
     "start_time": "2024-01-18T01:57:02.929409Z"
    }
   },
   "id": "d4e878c665e9b41f"
  },
  {
   "cell_type": "code",
   "execution_count": 52,
   "outputs": [],
   "source": [
    "# populating things\n",
    "_ = CP_test_ansatz.get_cost(angles=theta_opt)"
   ],
   "metadata": {
    "collapsed": false,
    "ExecuteTime": {
     "end_time": "2024-01-18T01:57:03.229903Z",
     "start_time": "2024-01-18T01:57:03.177072Z"
    }
   },
   "id": "4f864fd076389a70"
  },
  {
   "cell_type": "code",
   "execution_count": 53,
   "outputs": [
    {
     "data": {
      "text/plain": "6.671853252990024e-06"
     },
     "execution_count": 53,
     "metadata": {},
     "output_type": "execute_result"
    }
   ],
   "source": [
    "np.linalg.norm(CP_test_ansatz.get_gradient(angles=theta_opt))"
   ],
   "metadata": {
    "collapsed": false,
    "ExecuteTime": {
     "end_time": "2024-01-18T01:57:03.655177Z",
     "start_time": "2024-01-18T01:57:03.514792Z"
    }
   },
   "id": "2b872847251e2a93"
  },
  {
   "cell_type": "code",
   "execution_count": 54,
   "outputs": [
    {
     "name": "stdout",
     "output_type": "stream",
     "text": [
      "[ 0.00000000e+00  0.00000000e+00  0.00000000e+00  0.00000000e+00\n",
      " -6.65209033e-06  3.90132874e-13 -6.30070364e-28  5.50784242e-21\n",
      "  5.13147243e-07]\n"
     ]
    }
   ],
   "source": [
    "print(CP_test_ansatz.get_gradient(angles=theta_opt))"
   ],
   "metadata": {
    "collapsed": false,
    "ExecuteTime": {
     "end_time": "2024-01-18T01:57:04.288207Z",
     "start_time": "2024-01-18T01:57:04.193839Z"
    }
   },
   "id": "6d46d8b2536fdc98"
  },
  {
   "cell_type": "code",
   "execution_count": null,
   "outputs": [],
   "source": [],
   "metadata": {
    "collapsed": false
   },
   "id": "ca97b14b6bc3e52e"
  }
 ],
 "metadata": {
  "kernelspec": {
   "display_name": "Python 3",
   "language": "python",
   "name": "python3"
  },
  "language_info": {
   "codemirror_mode": {
    "name": "ipython",
    "version": 2
   },
   "file_extension": ".py",
   "mimetype": "text/x-python",
   "name": "python",
   "nbconvert_exporter": "python",
   "pygments_lexer": "ipython2",
   "version": "2.7.6"
  }
 },
 "nbformat": 4,
 "nbformat_minor": 5
}
