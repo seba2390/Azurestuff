{
 "cells": [
  {
   "cell_type": "code",
   "execution_count": 1,
   "id": "initial_id",
   "metadata": {
    "collapsed": true,
    "ExecuteTime": {
     "end_time": "2024-01-22T14:28:17.442901300Z",
     "start_time": "2024-01-22T14:28:15.041003200Z"
    }
   },
   "outputs": [],
   "source": [
    "import numpy as np\n",
    "import scipy as sc\n",
    "import matplotlib.pyplot as plt\n",
    "from qiskit import QuantumCircuit\n",
    "\n",
    "from src.CPQAOA import CP_QAOA\n",
    "from src.Grid import Grid\n",
    "from src.Chain import Chain\n",
    "from src.Tools import (portfolio_metrics, \n",
    "                       min_cost_partition, \n",
    "                       get_qubo, \n",
    "                       normalized_cost, \n",
    "                       qubo_limits, \n",
    "                       check_qubo,\n",
    "                       qubo_cost,\n",
    "                       partitioned_averages)"
   ]
  },
  {
   "cell_type": "code",
   "outputs": [
    {
     "name": "stdout",
     "output_type": "stream",
     "text": [
      " Qubit indices in chain: \n",
      " [0 1 2 3 4 5 6 7]\n",
      "\n",
      " Corresponding Nearest Neighbor index pairs: \n",
      " [(0, 1), (1, 2), (2, 3), (3, 4), (4, 5), (5, 6), (6, 7)]\n",
      "\n",
      " Corresponding Nearest Neighbor + Next Nearest index pairs: \n",
      " [(0, 1), (0, 2), (1, 2), (1, 3), (2, 3), (2, 4), (3, 4), (3, 5), (4, 5), (4, 6), (5, 6), (5, 7), (6, 7)]\n",
      "\n",
      " Initialization strategy is: \n",
      " [0 1 0 1 0 1 0 1]\n",
      "\n",
      " Corresponding indices is: \n",
      " [1, 3, 5, 7]\n"
     ]
    }
   ],
   "source": [
    "# Number of Qubits \n",
    "N=8\n",
    "# number of excitations\n",
    "k=4\n",
    "# RNG seed for reproducibility\n",
    "seed=0\n",
    "# alpha in: s^T*mu + alpha*(s^T*Covar*s)\n",
    "alpha=0.5\n",
    "# Nr. of layer repetitions\n",
    "layers=2\n",
    "# Maximal number of iterations for classical solver\n",
    "max_iter=50\n",
    "# Using next nearest neighbors (in 1D chain model)\n",
    "w_next_nearest_neighbors = False\n",
    "w_z_phase = True\n",
    "\n",
    "\n",
    "my_chain = Chain(N_qubits=N)\n",
    "print(f' Qubit indices in chain: \\n', my_chain.get_chain_indexing())\n",
    "print(f'\\n Corresponding Nearest Neighbor index pairs: \\n', my_chain.get_NN_indices())\n",
    "print(f'\\n Corresponding Nearest Neighbor + Next Nearest index pairs: \\n', my_chain.get_NNN_indices())\n",
    "init_strat = np.array([0,1,0,1,0,1,0,1])\n",
    "my_chain.set_initialization_strategy(strategy=init_strat)\n",
    "print(f'\\n Initialization strategy is: \\n', my_chain.get_initialization_strategy())\n",
    "print(f'\\n Corresponding indices is: \\n', my_chain.get_initialization_indices())\n",
    "\n",
    "\"\"\"my_grid = Grid(Rows=3,Cols=3)\n",
    "print(f' Qubit indices in grid: \\n', my_grid.get_grid_indexing())\n",
    "print(f'\\n Corresponding Nearest Neighbor index pairs: \\n', my_grid.get_NN_indices())\n",
    "print(f'\\n Corresponding Nearest Neighbor + Next Nearest index pairs: \\n', my_grid.get_NNN_indices())\n",
    "init_strat = np.array([[0,1,0],\n",
    "                       [1,0,1],\n",
    "                       [0,1,0]])\n",
    "my_grid.set_initialization_strategy(strategy=init_strat)\n",
    "print(f'\\n Initialization strategy is: \\n', my_grid.get_initialization_strategy())\n",
    "print(f'\\n Corresponding indices is: \\n', my_grid.get_initialization_indices())\"\"\"\n",
    "\n",
    "# Deciding between grid and 1d chain topology\n",
    "my_topology = my_chain"
   ],
   "metadata": {
    "collapsed": false,
    "ExecuteTime": {
     "end_time": "2024-01-22T14:36:41.421581500Z",
     "start_time": "2024-01-22T14:36:41.414062600Z"
    }
   },
   "id": "bed6ee6118392981",
   "execution_count": 26
  },
  {
   "cell_type": "code",
   "outputs": [
    {
     "name": "stdout",
     "output_type": "stream",
     "text": [
      "Min. cost portfolio (constrained subspace): 8.554358959067997\n",
      "Optimal portfolio state (constrained subspace) is: |00101110>\n",
      "Min. cost QUBO: 8.554358959067997\n",
      "Min. cost QUBO state is: |00101110>\n",
      "Check that qubo min cost is same as portfolio min cost:\n",
      "8.554358959067997 8.554358959067997\n",
      "Check that qubo max cost is at least portfolio max cost:\n",
      "193.01434665762594 18.8257571076687\n"
     ]
    }
   ],
   "source": [
    "# Generating random problem instance \n",
    "expected_returns, covariances = portfolio_metrics(n=N, seed=seed)\n",
    "\n",
    "# Retrieving C_min, C_max and corresponding states for original portfolio problem\n",
    "constrained_result, full_result, lmbda = min_cost_partition(nr_qubits=N,\n",
    "                                                            k=k,\n",
    "                                                            mu=expected_returns,\n",
    "                                                            sigma=covariances,\n",
    "                                                            alpha=alpha)\n",
    "\n",
    "portfolio_subspace_max_cost, portfolio_subspace_min_cost, portfolio_subspace_min_state = constrained_result['c_max'], constrained_result['c_min'], constrained_result['s']\n",
    "full_space_max_cost = full_result['c_max']\n",
    "portfolio_subspace_min_state_str = ''.join([str(_) for _ in portfolio_subspace_min_state])\n",
    "print(f\"Min. cost portfolio (constrained subspace): {portfolio_subspace_min_cost}\")\n",
    "print(\"Optimal portfolio state (constrained subspace) is: |\"+portfolio_subspace_min_state_str+\">\")\n",
    "\n",
    "# Generating QUBO corresponding to current problem instance\n",
    "Q, offset = get_qubo(mu=expected_returns,\n",
    "                     sigma=covariances, \n",
    "                     alpha=alpha,\n",
    "                     lmbda=lmbda+1e-8, # Adding small constant purposely\n",
    "                     k=k)\n",
    "QUBO_limits = qubo_limits(Q=Q,offset=offset)\n",
    "qubo_min_cost, qubo_max_cost = QUBO_limits['c_min'], QUBO_limits['c_max']\n",
    "qubo_min_state, qubo_max_state = QUBO_limits['min_state'], QUBO_limits['max_state']\n",
    "check_qubo(QUBO_matrix=Q, QUBO_offset=offset, expected_returns=expected_returns, covariances=covariances, alpha=alpha, k=k)\n",
    "qubo_min_state_str = ''.join([str(_) for _ in qubo_min_state])\n",
    "print(f\"Min. cost QUBO: {qubo_min_cost}\")\n",
    "print(\"Min. cost QUBO state is: |\"+qubo_min_state_str+\">\")\n",
    "print(\"Check that qubo min cost is same as portfolio min cost:\")\n",
    "print(qubo_min_cost, portfolio_subspace_min_cost)\n",
    "print(\"Check that qubo max cost is at least portfolio max cost:\")\n",
    "print(qubo_max_cost, portfolio_subspace_max_cost)\n",
    "\n",
    "# Generating instances of ansatz'\n",
    "CP_z_phase_ansatz = CP_QAOA(N_qubits=N,\n",
    "                 cardinality=k,\n",
    "                 layers=layers,\n",
    "                 topology=my_topology,\n",
    "                 QUBO_matrix=Q,\n",
    "                 with_next_nearest_neighbors=w_next_nearest_neighbors,\n",
    "                 with_gradient=True,\n",
    "                 with_z_phase=w_z_phase)"
   ],
   "metadata": {
    "collapsed": false,
    "ExecuteTime": {
     "end_time": "2024-01-22T14:36:41.868652100Z",
     "start_time": "2024-01-22T14:36:41.819107800Z"
    }
   },
   "id": "16bcf7c9de3c6655",
   "execution_count": 27
  },
  {
   "cell_type": "code",
   "outputs": [
    {
     "name": "stdout",
     "output_type": "stream",
     "text": [
      "CP+Z-PHASE: 30\n"
     ]
    }
   ],
   "source": [
    "# Choosing optimizer for scipy\n",
    "available_methods = ['COBYLA', 'Nelder-Mead', 'BFGS']\n",
    "optimizer_method = available_methods[2]\n",
    "\n",
    "# Generating callback function for plotting\n",
    "CP_z_phase_costs = [] # Normalized costs\n",
    "CP_z_phase_probs = [] # probability of optimal state\n",
    "CP_z_phase_grad_norm = []\n",
    "CP_z_phase_grads = []\n",
    "solver_costs=[]\n",
    "\n",
    "def CP_z_phase_callback_function(x):\n",
    "    _dict_ = CP_z_phase_ansatz.get_state_probabilities(flip_states=False)\n",
    "    # N.B. Normalizing w. respect to full space max cost\n",
    "    _cost_ = normalized_cost(result=_dict_,\n",
    "                             QUBO_matrix=Q,\n",
    "                             QUBO_offset=offset,\n",
    "                             max_cost=portfolio_subspace_max_cost, \n",
    "                             min_cost=qubo_min_cost)\n",
    "    if portfolio_subspace_min_state_str in list(_dict_.keys()):\n",
    "        CP_z_phase_probs.append(_dict_[portfolio_subspace_min_state_str])\n",
    "    else:\n",
    "        CP_z_phase_probs.append(0)\n",
    "    CP_z_phase_costs.append(_cost_)\n",
    "    grad = CP_z_phase_ansatz.get_gradient(x)\n",
    "    CP_z_phase_grads.append(grad)\n",
    "    CP_z_phase_grad_norm.append(np.linalg.norm(grad))\n",
    "    \n",
    "\n",
    "# Generating initial guess for rotation angles for CP_ansatz\n",
    "np.random.seed(seed)\n",
    "theta_min, theta_max = -2*np.pi, 2*np.pi\n",
    "N_angles = layers * len(my_topology.get_NN_indices())\n",
    "if w_next_nearest_neighbors:\n",
    "    N_angles = layers * len(my_topology.get_NNN_indices())\n",
    "if w_z_phase:\n",
    "    N_angles += N * layers\n",
    "CP_z_phase_theta_i = np.random.uniform(low=theta_min, high=theta_max, size=N_angles)\n",
    "print(f\"CP+Z-PHASE: {len(CP_z_phase_theta_i)}\")    "
   ],
   "metadata": {
    "collapsed": false,
    "ExecuteTime": {
     "end_time": "2024-01-22T14:36:42.259067Z",
     "start_time": "2024-01-22T14:36:42.242742200Z"
    }
   },
   "id": "a8d33e377b4e02d7",
   "execution_count": 28
  },
  {
   "cell_type": "code",
   "outputs": [],
   "source": [
    "CP_z_phase_res = sc.optimize.minimize(fun=CP_z_phase_ansatz.get_cost, \n",
    "                                      x0=CP_z_phase_theta_i,\n",
    "                                      method='BFGS',\n",
    "                                      options={'disp': False, \n",
    "                                               'maxiter': max_iter},\n",
    "                                      callback=CP_z_phase_callback_function)\n",
    "CP_z_phase_res"
   ],
   "metadata": {
    "collapsed": false,
    "is_executing": true,
    "ExecuteTime": {
     "start_time": "2024-01-22T14:36:43.645385300Z"
    }
   },
   "id": "4f5327c850c8b128",
   "execution_count": null
  },
  {
   "cell_type": "code",
   "outputs": [
    {
     "name": "stdout",
     "output_type": "stream",
     "text": [
      "0.09273501763160669 0.236294881321797\n"
     ]
    },
    {
     "data": {
      "text/plain": "<Figure size 500x300 with 1 Axes>",
      "image/png": "[encoded data removed]"
     },
     "metadata": {},
     "output_type": "display_data"
    }
   ],
   "source": [
    "# N.B. Because the normalization is done w. respect to the \"allowed states (w. k ones)\" QAOA has cost above 1.\n",
    "fig, ax = plt.subplots(1,1, figsize=(5,3))\n",
    "ax.plot([it for it in range(len(CP_z_phase_costs))], CP_z_phase_costs, label='normalized costs')\n",
    "ax.plot([it for it in range(len(CP_z_phase_probs))], CP_z_phase_probs, label='prop')\n",
    "ax.plot([it for it in range(len(CP_z_phase_grad_norm))], CP_z_phase_grad_norm, label='grad norm')\n",
    "\n",
    "ax.set_xlim(0,len(CP_z_phase_costs))\n",
    "ax.hlines(0,0,len(CP_z_phase_costs),lw=1,linestyles='dashed',colors='k')\n",
    "ax.legend(loc='upper right')\n",
    "print(CP_z_phase_costs[-1],CP_z_phase_probs[-1])\n",
    "plt.show()"
   ],
   "metadata": {
    "collapsed": false,
    "ExecuteTime": {
     "end_time": "2024-01-22T14:36:17.696707600Z",
     "start_time": "2024-01-22T14:36:17.618239400Z"
    }
   },
   "id": "12092d2db7cf4243",
   "execution_count": 25
  },
  {
   "cell_type": "code",
   "execution_count": 15,
   "outputs": [
    {
     "name": "stdout",
     "output_type": "stream",
     "text": [
      "[ 8.55562501e-03  1.32166723e-04  2.29226782e-02  1.30196812e-03\n",
      " -2.45948392e-02  1.48741725e-03 -1.53846383e-02  4.32583225e-03\n",
      " -1.04418616e-02 -1.79851442e-03  8.17794416e-03  6.75099105e-04\n",
      "  3.94903254e-04  7.33396664e-03 -3.04278298e-03 -1.66632082e-02\n",
      "  7.06291273e-03 -5.91054689e-03 -1.93395736e-02  6.27335514e-04\n",
      " -1.99430316e-05  4.04927974e-04 -1.58007962e-04  5.41576291e-04\n",
      "  6.05516674e-03  4.43316348e-04]\n"
     ]
    }
   ],
   "source": [
    "print(CP_z_phase_grads[-1])"
   ],
   "metadata": {
    "collapsed": false,
    "ExecuteTime": {
     "end_time": "2024-01-22T14:33:48.313704900Z",
     "start_time": "2024-01-22T14:33:48.296483500Z"
    }
   },
   "id": "621b5c139779d748"
  },
  {
   "cell_type": "code",
   "outputs": [
    {
     "name": "stdout",
     "output_type": "stream",
     "text": [
      "[-2.11309819e-07  3.14159428e+00 -6.28318575e+00 -1.57079646e+00\n",
      " -4.42659654e+00]\n"
     ]
    }
   ],
   "source": [
    "theta_opt = CP_z_phase_res.x\n",
    "print(theta_opt)"
   ],
   "metadata": {
    "collapsed": false,
    "ExecuteTime": {
     "end_time": "2024-01-21T23:01:16.619018Z",
     "start_time": "2024-01-21T23:01:16.613939Z"
    }
   },
   "id": "279dc9d361340b98",
   "execution_count": 45
  },
  {
   "cell_type": "code",
   "execution_count": 38,
   "outputs": [
    {
     "name": "stdout",
     "output_type": "stream",
     "text": [
      "theta_2: 3.1415923163639228 is approx.: 1*pi/1\n",
      "theta_3: 1.570796276673 is approx.: 1*pi/2\n",
      "theta_5: -1.5707961955687195 is approx.: -1*pi/2\n"
     ]
    }
   ],
   "source": [
    "THETAS = list(theta_opt)\n",
    "eps = 1e-6\n",
    "counter = 1\n",
    "facs = [float(i) for i in range(1,30)]\n",
    "saved = []\n",
    "for angle in THETAS:\n",
    "    angle_is_pi = False\n",
    "    for multiplicative_factor in facs:\n",
    "        for divisor in facs:\n",
    "            if np.abs(multiplicative_factor*np.pi/divisor-angle) <= eps and angle not in saved:\n",
    "                print(f'theta_{counter}: {angle} is approx.: {int(multiplicative_factor)}*pi/{int(divisor)}')     \n",
    "                counter += 1\n",
    "                saved.append(angle)\n",
    "                angle_is_pi = True\n",
    "            elif np.abs(-multiplicative_factor*np.pi/divisor-angle) <= eps and angle not in saved:\n",
    "                print(f'theta_{counter}: {angle} is approx.: -{int(multiplicative_factor)}*pi/{int(divisor)}')     \n",
    "                counter += 1\n",
    "                saved.append(angle)\n",
    "                angle_is_pi = True\n",
    "    if not angle_is_pi:\n",
    "        counter +=1"
   ],
   "metadata": {
    "collapsed": false,
    "ExecuteTime": {
     "end_time": "2024-01-21T23:00:56.062595Z",
     "start_time": "2024-01-21T23:00:56.059467Z"
    }
   },
   "id": "fd2cfa49177eec93"
  },
  {
   "cell_type": "code",
   "execution_count": 10,
   "outputs": [],
   "source": [
    "# Generating instances of ansatz'\n",
    "CP_test_ansatz= CP_QAOA(N_qubits=N,\n",
    "                        cardinality=k,\n",
    "                        layers=layers,\n",
    "                        topology=my_topology,\n",
    "                        QUBO_matrix=Q,\n",
    "                        with_next_nearest_neighbors=True,\n",
    "                        with_gradient=True,\n",
    "                        with_z_phase=False)"
   ],
   "metadata": {
    "collapsed": false,
    "ExecuteTime": {
     "end_time": "2024-01-19T13:32:40.871331300Z",
     "start_time": "2024-01-19T13:32:40.827473700Z"
    }
   },
   "id": "d455a9053c1ac291"
  },
  {
   "cell_type": "code",
   "outputs": [],
   "source": [
    "rand_theta = np.random.uniform(-4*np.pi,4*np.pi, 13)"
   ],
   "metadata": {
    "collapsed": false,
    "ExecuteTime": {
     "end_time": "2024-01-19T13:33:22.508597200Z",
     "start_time": "2024-01-19T13:33:22.496419600Z"
    }
   },
   "id": "848f2ce34e884cc2",
   "execution_count": 14
  },
  {
   "cell_type": "code",
   "execution_count": 15,
   "outputs": [],
   "source": [
    "# populating things\n",
    "_ = CP_test_ansatz.get_cost(angles=rand_theta)"
   ],
   "metadata": {
    "collapsed": false,
    "ExecuteTime": {
     "end_time": "2024-01-19T13:33:22.708540300Z",
     "start_time": "2024-01-19T13:33:22.686600700Z"
    }
   },
   "id": "4f864fd076389a70"
  },
  {
   "cell_type": "code",
   "execution_count": 16,
   "outputs": [
    {
     "data": {
      "text/plain": "3.5410316590416966"
     },
     "execution_count": 16,
     "metadata": {},
     "output_type": "execute_result"
    }
   ],
   "source": [
    "np.linalg.norm(CP_test_ansatz.get_gradient(angles=rand_theta))"
   ],
   "metadata": {
    "collapsed": false,
    "ExecuteTime": {
     "end_time": "2024-01-19T13:33:24.230689200Z",
     "start_time": "2024-01-19T13:33:23.705662100Z"
    }
   },
   "id": "2b872847251e2a93"
  },
  {
   "cell_type": "code",
   "execution_count": 24,
   "outputs": [
    {
     "name": "stdout",
     "output_type": "stream",
     "text": [
      "[-0.15519875 -0.24269118  0.34079508  1.52934397 -0.78011851  0.34553458\n",
      " -2.57701937  0.10282884  0.51810679 -0.24581866  1.27521791  0.70154648\n",
      " -0.41724574]\n"
     ]
    }
   ],
   "source": [
    "print(np.array(CP_test_ansatz.get_gradient(angles=rand_theta)).flatten())"
   ],
   "metadata": {
    "collapsed": false,
    "ExecuteTime": {
     "end_time": "2024-01-19T13:34:18.086101300Z",
     "start_time": "2024-01-19T13:34:17.490904600Z"
    }
   },
   "id": "6d46d8b2536fdc98"
  },
  {
   "cell_type": "code",
   "execution_count": 1,
   "outputs": [],
   "source": [],
   "metadata": {
    "collapsed": false,
    "ExecuteTime": {
     "end_time": "2024-01-22T13:29:07.479648700Z",
     "start_time": "2024-01-22T13:29:05.521679100Z"
    }
   },
   "id": "ca97b14b6bc3e52e"
  },
  {
   "cell_type": "code",
   "outputs": [
    {
     "data": {
      "text/plain": "tensor([ 1.1102e-16+0.j, -8.2800e-01+0.j], dtype=torch.complex128)"
     },
     "execution_count": 29,
     "metadata": {},
     "output_type": "execute_result"
    }
   ],
   "source": [
    "import torch\n",
    "from qiskit.quantum_info import Operator\n",
    "from qiskit import QuantumCircuit\n",
    "import numpy as np\n",
    "from src.Tools import get_qiskit_H\n",
    "\n",
    "def create_Rxx_matrix(n_qubits: int, qubit_1: int, qubit_2: int, angle: torch.Tensor) -> torch.Tensor:\n",
    "    # Check if qubit indices are within the range\n",
    "    if qubit_1 >= n_qubits or qubit_2 >= n_qubits or qubit_1 < 0 or qubit_2 < 0:\n",
    "        raise ValueError(\"Qubit indices are out of bounds.\")\n",
    "    elif qubit_1 == qubit_2:\n",
    "        raise ValueError(\"Qubit indices are equal (the should be different)\")\n",
    "    # Pauli X gate\n",
    "    X = torch.tensor([[0, 1], [1, 0]], dtype=torch.complex128)\n",
    "    # Identity matrix for other qubits\n",
    "    I = torch.eye(2, dtype=torch.complex128)\n",
    "    # Create the full tensor product for the R_xx gate\n",
    "    if qubit_1 == 0 or qubit_2 == 0:\n",
    "        gate = X\n",
    "    else:\n",
    "        gate = I\n",
    "    for i in range(1,n_qubits):\n",
    "        if i == qubit_1 or i == qubit_2:\n",
    "            gate = torch.kron(gate, X)\n",
    "        else:\n",
    "            gate = torch.kron(gate, I)\n",
    "    # R_xx gate matrix\n",
    "    R_xx = torch.matrix_exp(-1j * angle / 2 * gate)\n",
    "    return R_xx\n",
    "\n",
    "def create_Ryy_matrix(n_qubits: int, qubit_1: int, qubit_2: int, angle: torch.Tensor) -> torch.Tensor:\n",
    "    # Check if qubit indices are within the range\n",
    "    if qubit_1 >= n_qubits or qubit_2 >= n_qubits or qubit_1 < 0 or qubit_2 < 0:\n",
    "        raise ValueError(\"Qubit indices are out of bounds.\")\n",
    "    elif qubit_1 == qubit_2:\n",
    "        raise ValueError(\"Qubit indices are equal (the should be different)\")\n",
    "    # Pauli Y gate\n",
    "    Y = torch.tensor([[0, -1j], [1j, 0]], dtype=torch.complex128)\n",
    "    # Identity matrix for other qubits\n",
    "    I = torch.eye(2, dtype=torch.complex128)\n",
    "    # Create the full tensor product for the R_xx gate\n",
    "    if qubit_1 == 0 or qubit_2 == 0:\n",
    "        gate = Y\n",
    "    else:\n",
    "        gate = I\n",
    "    for i in range(1,n_qubits):\n",
    "        if i == qubit_1 or i == qubit_2:\n",
    "            gate = torch.kron(gate, Y)\n",
    "        else:\n",
    "            gate = torch.kron(gate, I)\n",
    "    # R_yy gate matrix\n",
    "    R_yy = torch.matrix_exp(-1j * angle / 2 * gate)\n",
    "    return R_yy\n",
    "\n",
    "def create_x_matrix(n_qubits, qubit) -> torch.Tensor:\n",
    "    # Check if qubit indices are within the range\n",
    "    if qubit >= n_qubits or qubit < 0:\n",
    "        raise ValueError(\"Qubit indices are out of bounds.\")\n",
    "    # Pauli X gate\n",
    "    X = torch.tensor([[0, 1], [1, 0]], dtype=torch.complex128)\n",
    "    # Identity matrix for other qubits\n",
    "    I = torch.eye(2, dtype=torch.complex128)\n",
    "    # Create the full tensor product for the R_xx gate\n",
    "    if qubit == 0:\n",
    "        gate = X\n",
    "    else:\n",
    "        gate = I\n",
    "    for i in range(1,n_qubits):\n",
    "        if i == qubit:\n",
    "            gate = torch.kron(gate, X)\n",
    "        else:\n",
    "            gate = torch.kron(gate, I)\n",
    "    return gate\n",
    "\n",
    "H_c = torch.tensor(np.array(Operator(get_qiskit_H(Q=Q))),\n",
    "                           dtype=torch.complex128,\n",
    "                           requires_grad=True)\n",
    "\n",
    "n_qubits = 3\n",
    "\n",
    "angles = torch.tensor([1.11,2.11], requires_grad=True, dtype=torch.complex128)\n",
    "\n",
    "psi_0 = torch.tensor([1.0] + [0.0 for i in range(2**n_qubits-1)],requires_grad=True, dtype=torch.complex128)\n",
    "\n",
    "X_1 = create_x_matrix(n_qubits=n_qubits, qubit=0)\n",
    "X_2 = create_x_matrix(n_qubits=n_qubits, qubit=1)\n",
    "\n",
    "psi_0 = torch.matmul(X_2, torch.matmul(X_1, psi_0))\n",
    "\n",
    "for q_i in range(n_qubits-1):\n",
    "    q_j = q_i+1\n",
    "    theta_ij = angles[q_i]\n",
    "    rxx = create_Rxx_matrix(n_qubits=n_qubits,qubit_1=q_i, qubit_2=q_j,angle=theta_ij)\n",
    "    ryy = create_Ryy_matrix(n_qubits=n_qubits,qubit_1=q_i, qubit_2=q_j,angle=theta_ij)\n",
    "    psi_0 = torch.matmul(ryy,torch.matmul(rxx, psi_0)) \n",
    "\n",
    "c = torch.real(torch.dot(torch.conj(psi_0),torch.matmul(H_c,psi_0)))\n",
    "c.backward()\n",
    "\n",
    "angles.grad"
   ],
   "metadata": {
    "collapsed": false,
    "ExecuteTime": {
     "end_time": "2024-01-22T13:39:57.271338900Z",
     "start_time": "2024-01-22T13:39:57.245932200Z"
    }
   },
   "id": "c67c60b320c09ab2",
   "execution_count": 29
  },
  {
   "cell_type": "code",
   "outputs": [
    {
     "data": {
      "text/plain": "tensor(0.6774+0.j, dtype=torch.complex128, grad_fn=<DotBackward0>)"
     },
     "execution_count": 30,
     "metadata": {},
     "output_type": "execute_result"
    }
   ],
   "source": [
    "torch.dot(torch.conj(psi_0),torch.matmul(H_c,psi_0))"
   ],
   "metadata": {
    "collapsed": false,
    "ExecuteTime": {
     "end_time": "2024-01-22T13:41:26.619845800Z",
     "start_time": "2024-01-22T13:41:26.584230300Z"
    }
   },
   "id": "b5765cd0f01d55a9",
   "execution_count": 30
  },
  {
   "cell_type": "code",
   "outputs": [],
   "source": [],
   "metadata": {
    "collapsed": false
   },
   "id": "9616fb2aee81aff1"
  }
 ],
 "metadata": {
  "kernelspec": {
   "display_name": "Python 3",
   "language": "python",
   "name": "python3"
  },
  "language_info": {
   "codemirror_mode": {
    "name": "ipython",
    "version": 2
   },
   "file_extension": ".py",
   "mimetype": "text/x-python",
   "name": "python",
   "nbconvert_exporter": "python",
   "pygments_lexer": "ipython2",
   "version": "2.7.6"
  }
 },
 "nbformat": 4,
 "nbformat_minor": 5
}
