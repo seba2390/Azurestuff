{
 "cells": [
  {
   "cell_type": "code",
   "execution_count": 1,
   "id": "initial_id",
   "metadata": {
    "collapsed": true,
    "ExecuteTime": {
     "end_time": "2024-01-15T17:54:46.976344800Z",
     "start_time": "2024-01-15T17:54:44.730238800Z"
    }
   },
   "outputs": [],
   "source": [
    "import os\n",
    "from joblib import Parallel, delayed\n",
    "\n",
    "import numpy as np\n",
    "import scipy as sc\n",
    "import matplotlib.pyplot as plt\n",
    "from tqdm import tqdm\n",
    "\n",
    "from src.CPQAOA import CP_QAOA\n",
    "from src.QAOA import QAOA\n",
    "from src.Grid import Grid\n",
    "from src.Chain import Chain\n",
    "from src.Tools import (portfolio_metrics, \n",
    "                       min_cost_partition, \n",
    "                       get_qubo, \n",
    "                       normalized_cost, \n",
    "                       qubo_limits, \n",
    "                       check_qubo,\n",
    "                       qubo_cost,\n",
    "                       partitioned_averages)"
   ]
  },
  {
   "cell_type": "code",
   "outputs": [
    {
     "name": "stdout",
     "output_type": "stream",
     "text": [
      " Qubit indices in chain: \n",
      " [0 1 2 3 4 5 6 7]\n",
      "\n",
      " Corresponding Nearest Neighbor index pairs: \n",
      " [(0, 1), (1, 2), (2, 3), (3, 4), (4, 5), (5, 6), (6, 7)]\n",
      "\n",
      " Corresponding Nearest Neighbor + Next Nearest index pairs: \n",
      " [(0, 1), (0, 2), (1, 2), (1, 3), (2, 3), (2, 4), (3, 4), (3, 5), (4, 5), (4, 6), (5, 6), (5, 7)]\n",
      "\n",
      " Initialization strategy is: \n",
      " [0 1 0 1 0 1 0 1]\n",
      "\n",
      " Corresponding indices is: \n",
      " [1, 3, 5, 7]\n"
     ]
    }
   ],
   "source": [
    "# Number of Qubits \n",
    "N=8\n",
    "# Number of excitations\n",
    "k=4\n",
    "# RNG seed for reproducibility\n",
    "seed=0\n",
    "# alpha in: s^T*mu + alpha*(s^T*Covar*s)\n",
    "alpha=0.5\n",
    "# Nr. of layer repetitions\n",
    "layers=1\n",
    "# Maximal number of iterations for classical solver\n",
    "max_iter=400\n",
    "# Using next nearest neighbors (in 1D chain model)\n",
    "w_next_nearest_neighbors = True\n",
    "\n",
    "\n",
    "my_chain = Chain(N_qubits=N)\n",
    "print(f' Qubit indices in chain: \\n', my_chain.get_chain_indexing())\n",
    "print(f'\\n Corresponding Nearest Neighbor index pairs: \\n', my_chain.get_NN_indices())\n",
    "print(f'\\n Corresponding Nearest Neighbor + Next Nearest index pairs: \\n', my_chain.get_NNN_indices())\n",
    "init_strat = np.array([0,1,0,1,0,1,0,1])\n",
    "my_chain.set_initialization_strategy(strategy=init_strat)\n",
    "print(f'\\n Initialization strategy is: \\n', my_chain.get_initialization_strategy())\n",
    "print(f'\\n Corresponding indices is: \\n', my_chain.get_initialization_indices())"
   ],
   "metadata": {
    "collapsed": false,
    "ExecuteTime": {
     "end_time": "2024-01-15T17:54:47.000872500Z",
     "start_time": "2024-01-15T17:54:46.983540300Z"
    }
   },
   "id": "bed6ee6118392981",
   "execution_count": 2
  },
  {
   "cell_type": "code",
   "outputs": [],
   "source": [
    "# Deciding between grid and 1d chain topology\n",
    "my_topology = my_chain"
   ],
   "metadata": {
    "collapsed": false,
    "ExecuteTime": {
     "end_time": "2024-01-15T17:54:47.038267700Z",
     "start_time": "2024-01-15T17:54:46.993790300Z"
    }
   },
   "id": "319c444bfcf1a02",
   "execution_count": 3
  },
  {
   "cell_type": "code",
   "outputs": [
    {
     "name": "stdout",
     "output_type": "stream",
     "text": [
      "Min. cost portfolio (constrained subspace): 8.554358959067997\n",
      "Optimal portfolio state (constrained subspace) is: |00101110>\n"
     ]
    }
   ],
   "source": [
    "# Generating random problem instance \n",
    "expected_returns, covariances = portfolio_metrics(n=N, seed=seed)\n",
    "\n",
    "# Retrieving C_min, C_max and corresponding states for original portfolio problem\n",
    "constrained_result, full_result, lmbda = min_cost_partition(nr_qubits=N,\n",
    "                                                            k=k,\n",
    "                                                            mu=expected_returns,\n",
    "                                                            sigma=covariances,\n",
    "                                                            alpha=alpha)\n",
    "\n",
    "portfolio_subspace_max_cost, portfolio_subspace_min_cost, portfolio_subspace_min_state = constrained_result['c_max'], constrained_result['c_min'], constrained_result['s']\n",
    "full_space_max_cost = full_result['c_max']\n",
    "portfolio_subspace_min_state_str = ''.join([str(_) for _ in portfolio_subspace_min_state])\n",
    "print(f\"Min. cost portfolio (constrained subspace): {portfolio_subspace_min_cost}\")\n",
    "print(\"Optimal portfolio state (constrained subspace) is: |\"+portfolio_subspace_min_state_str+\">\")"
   ],
   "metadata": {
    "collapsed": false,
    "ExecuteTime": {
     "end_time": "2024-01-15T17:54:47.039400200Z",
     "start_time": "2024-01-15T17:54:47.010014500Z"
    }
   },
   "id": "16bcf7c9de3c6655",
   "execution_count": 4
  },
  {
   "cell_type": "code",
   "outputs": [
    {
     "name": "stdout",
     "output_type": "stream",
     "text": [
      "Min. cost QUBO: 8.554358959067997\n",
      "Min. cost QUBO state is: |00101110>\n"
     ]
    }
   ],
   "source": [
    "\n",
    "# Generating QUBO corresponding to current problem instance\n",
    "Q, offset = get_qubo(mu=expected_returns,\n",
    "                     sigma=covariances, \n",
    "                     alpha=alpha,\n",
    "                     lmbda=lmbda+1e-8, # Adding small constant purposely\n",
    "                     k=k)\n",
    "QUBO_limits = qubo_limits(Q=Q,offset=offset)\n",
    "qubo_min_cost, qubo_max_cost = QUBO_limits['c_min'], QUBO_limits['c_max']\n",
    "qubo_min_state, qubo_max_state = QUBO_limits['min_state'], QUBO_limits['max_state']\n",
    "check_qubo(QUBO_matrix=Q, QUBO_offset=offset, expected_returns=expected_returns, covariances=covariances, alpha=alpha, k=k)\n",
    "qubo_min_state_str = ''.join([str(_) for _ in qubo_min_state])\n",
    "print(f\"Min. cost QUBO: {qubo_min_cost}\")\n",
    "print(\"Min. cost QUBO state is: |\"+qubo_min_state_str+\">\")\n"
   ],
   "metadata": {
    "collapsed": false,
    "ExecuteTime": {
     "end_time": "2024-01-15T17:54:47.459659800Z",
     "start_time": "2024-01-15T17:54:47.428647700Z"
    }
   },
   "id": "ef4d6155a3c6b460",
   "execution_count": 5
  },
  {
   "cell_type": "code",
   "outputs": [
    {
     "name": "stdout",
     "output_type": "stream",
     "text": [
      "Check that qubo min cost is same as portfolio min cost:\n"
     ]
    },
    {
     "data": {
      "text/plain": "(8.554358959067997, 8.554358959067997)"
     },
     "execution_count": 6,
     "metadata": {},
     "output_type": "execute_result"
    }
   ],
   "source": [
    "print(\"Check that qubo min cost is same as portfolio min cost:\")\n",
    "qubo_min_cost, portfolio_subspace_min_cost"
   ],
   "metadata": {
    "collapsed": false,
    "ExecuteTime": {
     "end_time": "2024-01-15T17:54:48.140702800Z",
     "start_time": "2024-01-15T17:54:48.135306300Z"
    }
   },
   "id": "291e5af3fdd6e066",
   "execution_count": 6
  },
  {
   "cell_type": "code",
   "outputs": [
    {
     "name": "stdout",
     "output_type": "stream",
     "text": [
      "Check that qubo max cost is at least portfolio max cost:\n"
     ]
    },
    {
     "data": {
      "text/plain": "(193.01434665762594, 18.8257571076687)"
     },
     "execution_count": 7,
     "metadata": {},
     "output_type": "execute_result"
    }
   ],
   "source": [
    "print(\"Check that qubo max cost is at least portfolio max cost:\")\n",
    "qubo_max_cost, portfolio_subspace_max_cost"
   ],
   "metadata": {
    "collapsed": false,
    "ExecuteTime": {
     "end_time": "2024-01-15T17:54:48.374460Z",
     "start_time": "2024-01-15T17:54:48.346000700Z"
    }
   },
   "id": "4ba9bebcae238599",
   "execution_count": 7
  },
  {
   "cell_type": "code",
   "outputs": [],
   "source": [
    "# Generating instances of ansatz'\n",
    "CP_z_phase_ansatz = CP_QAOA(N_qubits=N,\n",
    "                 cardinality=k,\n",
    "                 layers=layers,\n",
    "                 topology=my_topology,\n",
    "                 QUBO_matrix=Q,\n",
    "                 with_next_nearest_neighbors=w_next_nearest_neighbors,\n",
    "                with_gradient=True,\n",
    "                 with_z_phase=False)"
   ],
   "metadata": {
    "collapsed": false,
    "ExecuteTime": {
     "end_time": "2024-01-15T17:54:48.799763400Z",
     "start_time": "2024-01-15T17:54:48.692923100Z"
    }
   },
   "id": "26733fd51d40fc40",
   "execution_count": 8
  },
  {
   "cell_type": "code",
   "outputs": [
    {
     "name": "stdout",
     "output_type": "stream",
     "text": [
      "CP+Z-PHASE: 19\n"
     ]
    }
   ],
   "source": [
    "# Choosing optimizer for scipy\n",
    "available_methods = ['COBYLA', 'Nelder-Mead', 'BFGS']\n",
    "optimizer_method = available_methods[2]\n",
    "\n",
    "# Designing own convergence tol\n",
    "#convergence_eps = 0.0005\n",
    "\n",
    "# Generating callback function for plotting\n",
    "CP_z_phase_costs = [] # Normalized costs\n",
    "CP_z_phase_probs = [] # probability of optimal state\n",
    "CP_z_phase_most_probables = []\n",
    "solver_costs=[]\n",
    "\n",
    "def CP_z_phase_callback_function(x):\n",
    "    _dict_ = CP_z_phase_ansatz.get_state_probabilities(flip_states=False)\n",
    "    CP_z_phase_most_probables.append(list(_dict_.keys())[np.argmax(list(_dict_.values()))])\n",
    "    # N.B. Normalizing w. respect to full space max cost\n",
    "    _cost_ = normalized_cost(result=_dict_,\n",
    "                             QUBO_matrix=Q,\n",
    "                             QUBO_offset=offset,\n",
    "                             max_cost=portfolio_subspace_max_cost, \n",
    "                             min_cost=qubo_min_cost)\n",
    "    if portfolio_subspace_min_state_str in list(_dict_.keys()):\n",
    "        CP_z_phase_probs.append(_dict_[portfolio_subspace_min_state_str])\n",
    "    else:\n",
    "        CP_z_phase_probs.append(0)\n",
    "    CP_z_phase_costs.append(_cost_)\n",
    "    \n",
    "    \"\"\"new_solver_cost = CP_z_phase_ansatz.get_cost(x)\n",
    "    if len(solver_costs) > 300:\n",
    "        solver_costs.append(new_solver_cost)\n",
    "        if np.std(solver_costs[-300:]) < convergence_eps:\n",
    "            raise Exception(\"Termination criteria met\")\n",
    "    else:\n",
    "        solver_costs.append(new_solver_cost)\"\"\"\n",
    "\n",
    "# Generating initial guess for rotation angles for CP_ansatz\n",
    "np.random.seed(seed)\n",
    "theta_min, theta_max = -2*np.pi, 2*np.pi\n",
    "N_angles = layers * len(my_topology.get_NN_indices())\n",
    "if w_next_nearest_neighbors:\n",
    "    N_angles += layers * len(my_topology.get_NNN_indices())\n",
    "#N_angles += layers * N # Because this is WITH Z-phase\n",
    "CP_z_phase_theta_i = np.random.uniform(low=theta_min, high=theta_max, size=N_angles)\n",
    "print(f\"CP+Z-PHASE: {len(CP_z_phase_theta_i)}\")\n",
    "\n",
    "# Saving initial cost\n",
    "# solver_costs.append(CP_z_phase_ansatz.get_cost(CP_z_phase_theta_i))\n",
    "#try:\n",
    "    # Performing optimization\n",
    "    "
   ],
   "metadata": {
    "collapsed": false,
    "ExecuteTime": {
     "end_time": "2024-01-15T18:06:54.416933800Z",
     "start_time": "2024-01-15T18:06:54.399472800Z"
    }
   },
   "id": "a8d33e377b4e02d7",
   "execution_count": 32
  },
  {
   "cell_type": "code",
   "outputs": [
    {
     "data": {
      "text/plain": "-1.7435651928862104"
     },
     "execution_count": 33,
     "metadata": {},
     "output_type": "execute_result"
    }
   ],
   "source": [
    "cost = CP_z_phase_ansatz.get_cost(CP_z_phase_theta_i)\n",
    "cost"
   ],
   "metadata": {
    "collapsed": false,
    "ExecuteTime": {
     "end_time": "2024-01-15T18:06:54.799368600Z",
     "start_time": "2024-01-15T18:06:54.538986300Z"
    }
   },
   "id": "8dd0cd3a0935a199",
   "execution_count": 33
  },
  {
   "cell_type": "code",
   "outputs": [],
   "source": [
    "grad = CP_z_phase_ansatz.get_gradient(CP_z_phase_theta_i)"
   ],
   "metadata": {
    "collapsed": false,
    "ExecuteTime": {
     "end_time": "2024-01-15T18:06:55.221953Z",
     "start_time": "2024-01-15T18:06:54.976814700Z"
    }
   },
   "id": "965be73f15a15adb",
   "execution_count": 34
  },
  {
   "cell_type": "code",
   "outputs": [
    {
     "data": {
      "text/plain": "array([ 0.00000000e+00,  0.00000000e+00,  0.00000000e+00,  6.24064210e-01,\n       -1.14410758e-01,  1.97883310e-01, -9.08996780e-01, -5.84838329e-18,\n        5.76465639e-18,  8.93163658e-02, -1.89937324e+00,  8.57933008e-03,\n        4.43613168e-01,  0.00000000e+00,  0.00000000e+00,  0.00000000e+00,\n       -7.32507843e+00,  4.62298483e-01,  3.95629623e-01])"
     },
     "execution_count": 35,
     "metadata": {},
     "output_type": "execute_result"
    }
   ],
   "source": [
    "grad"
   ],
   "metadata": {
    "collapsed": false,
    "ExecuteTime": {
     "end_time": "2024-01-15T18:06:55.956774300Z",
     "start_time": "2024-01-15T18:06:55.946148300Z"
    }
   },
   "id": "c2220a8828a192d1",
   "execution_count": 35
  },
  {
   "cell_type": "code",
   "outputs": [
    {
     "name": "stderr",
     "output_type": "stream",
     "text": [
      "C:\\Users\\madse\\AppData\\Local\\Temp\\ipykernel_9700\\1432900080.py:1: OptimizeWarning: Unknown solver options: gtol\n",
      "  CP_z_phase_res = sc.optimize.minimize(fun=CP_z_phase_ansatz.get_cost,\n"
     ]
    },
    {
     "ename": "KeyboardInterrupt",
     "evalue": "",
     "output_type": "error",
     "traceback": [
      "\u001B[1;31m---------------------------------------------------------------------------\u001B[0m",
      "\u001B[1;31mKeyboardInterrupt\u001B[0m                         Traceback (most recent call last)",
      "Cell \u001B[1;32mIn[40], line 1\u001B[0m\n\u001B[1;32m----> 1\u001B[0m CP_z_phase_res \u001B[38;5;241m=\u001B[39m \u001B[43msc\u001B[49m\u001B[38;5;241;43m.\u001B[39;49m\u001B[43moptimize\u001B[49m\u001B[38;5;241;43m.\u001B[39;49m\u001B[43mminimize\u001B[49m\u001B[43m(\u001B[49m\u001B[43mfun\u001B[49m\u001B[38;5;241;43m=\u001B[39;49m\u001B[43mCP_z_phase_ansatz\u001B[49m\u001B[38;5;241;43m.\u001B[39;49m\u001B[43mget_cost\u001B[49m\u001B[43m,\u001B[49m\u001B[43m \u001B[49m\n\u001B[0;32m      2\u001B[0m \u001B[43m                                      \u001B[49m\u001B[43mx0\u001B[49m\u001B[38;5;241;43m=\u001B[39;49m\u001B[43mCP_z_phase_theta_i\u001B[49m\u001B[43m,\u001B[49m\n\u001B[0;32m      3\u001B[0m \u001B[43m                                      \u001B[49m\u001B[43mmethod\u001B[49m\u001B[38;5;241;43m=\u001B[39;49m\u001B[38;5;124;43m'\u001B[39;49m\u001B[38;5;124;43mNewton-CG\u001B[39;49m\u001B[38;5;124;43m'\u001B[39;49m\u001B[43m,\u001B[49m\n\u001B[0;32m      4\u001B[0m \u001B[43m                                      \u001B[49m\u001B[43moptions\u001B[49m\u001B[38;5;241;43m=\u001B[39;49m\u001B[43m{\u001B[49m\u001B[38;5;124;43m'\u001B[39;49m\u001B[38;5;124;43mdisp\u001B[39;49m\u001B[38;5;124;43m'\u001B[39;49m\u001B[43m:\u001B[49m\u001B[43m \u001B[49m\u001B[38;5;28;43;01mFalse\u001B[39;49;00m\u001B[43m,\u001B[49m\u001B[43m \u001B[49m\n\u001B[0;32m      5\u001B[0m \u001B[43m                                               \u001B[49m\u001B[38;5;124;43m'\u001B[39;49m\u001B[38;5;124;43mmaxiter\u001B[39;49m\u001B[38;5;124;43m'\u001B[39;49m\u001B[43m:\u001B[49m\u001B[43m \u001B[49m\u001B[43mmax_iter\u001B[49m\u001B[43m,\u001B[49m\n\u001B[0;32m      6\u001B[0m \u001B[43m                                               \u001B[49m\u001B[38;5;124;43m'\u001B[39;49m\u001B[38;5;124;43mgtol\u001B[39;49m\u001B[38;5;124;43m'\u001B[39;49m\u001B[43m:\u001B[49m\u001B[38;5;241;43m1e-6\u001B[39;49m\u001B[43m}\u001B[49m\u001B[43m,\u001B[49m\n\u001B[0;32m      7\u001B[0m \u001B[43m                                      \u001B[49m\u001B[43mjac\u001B[49m\u001B[38;5;241;43m=\u001B[39;49m\u001B[43mCP_z_phase_ansatz\u001B[49m\u001B[38;5;241;43m.\u001B[39;49m\u001B[43mget_gradient\u001B[49m\u001B[43m,\u001B[49m\n\u001B[0;32m      8\u001B[0m \u001B[43m                                      \u001B[49m\u001B[43mcallback\u001B[49m\u001B[38;5;241;43m=\u001B[39;49m\u001B[43mCP_z_phase_callback_function\u001B[49m\u001B[43m)\u001B[49m\n\u001B[0;32m      9\u001B[0m \u001B[38;5;124;03m\"\"\"except Exception as e:\u001B[39;00m\n\u001B[0;32m     10\u001B[0m \u001B[38;5;124;03m    if str(e) == \"Termination criteria met\":\u001B[39;00m\n\u001B[0;32m     11\u001B[0m \u001B[38;5;124;03m        print(\"Optimization stopped due to custom termination criteria.\")\"\"\"\u001B[39;00m\n",
      "File \u001B[1;32m~\\.python_venvs\\QiskitStuff\\lib\\site-packages\\scipy\\optimize\\_minimize.py:707\u001B[0m, in \u001B[0;36mminimize\u001B[1;34m(fun, x0, args, method, jac, hess, hessp, bounds, constraints, tol, callback, options)\u001B[0m\n\u001B[0;32m    705\u001B[0m     res \u001B[38;5;241m=\u001B[39m _minimize_bfgs(fun, x0, args, jac, callback, \u001B[38;5;241m*\u001B[39m\u001B[38;5;241m*\u001B[39moptions)\n\u001B[0;32m    706\u001B[0m \u001B[38;5;28;01melif\u001B[39;00m meth \u001B[38;5;241m==\u001B[39m \u001B[38;5;124m'\u001B[39m\u001B[38;5;124mnewton-cg\u001B[39m\u001B[38;5;124m'\u001B[39m:\n\u001B[1;32m--> 707\u001B[0m     res \u001B[38;5;241m=\u001B[39m _minimize_newtoncg(fun, x0, args, jac, hess, hessp, callback,\n\u001B[0;32m    708\u001B[0m                              \u001B[38;5;241m*\u001B[39m\u001B[38;5;241m*\u001B[39moptions)\n\u001B[0;32m    709\u001B[0m \u001B[38;5;28;01melif\u001B[39;00m meth \u001B[38;5;241m==\u001B[39m \u001B[38;5;124m'\u001B[39m\u001B[38;5;124ml-bfgs-b\u001B[39m\u001B[38;5;124m'\u001B[39m:\n\u001B[0;32m    710\u001B[0m     res \u001B[38;5;241m=\u001B[39m _minimize_lbfgsb(fun, x0, args, jac, bounds,\n\u001B[0;32m    711\u001B[0m                            callback\u001B[38;5;241m=\u001B[39mcallback, \u001B[38;5;241m*\u001B[39m\u001B[38;5;241m*\u001B[39moptions)\n",
      "File \u001B[1;32m~\\.python_venvs\\QiskitStuff\\lib\\site-packages\\scipy\\optimize\\_optimize.py:2128\u001B[0m, in \u001B[0;36m_minimize_newtoncg\u001B[1;34m(fun, x0, args, jac, hess, hessp, callback, xtol, eps, maxiter, disp, return_all, **unknown_options)\u001B[0m\n\u001B[0;32m   2124\u001B[0m gfk \u001B[38;5;241m=\u001B[39m \u001B[38;5;241m-\u001B[39mb    \u001B[38;5;66;03m# gradient at xk\u001B[39;00m\n\u001B[0;32m   2126\u001B[0m \u001B[38;5;28;01mtry\u001B[39;00m:\n\u001B[0;32m   2127\u001B[0m     alphak, fc, gc, old_fval, old_old_fval, gfkp1 \u001B[38;5;241m=\u001B[39m \\\n\u001B[1;32m-> 2128\u001B[0m              \u001B[43m_line_search_wolfe12\u001B[49m\u001B[43m(\u001B[49m\u001B[43mf\u001B[49m\u001B[43m,\u001B[49m\u001B[43m \u001B[49m\u001B[43mfprime\u001B[49m\u001B[43m,\u001B[49m\u001B[43m \u001B[49m\u001B[43mxk\u001B[49m\u001B[43m,\u001B[49m\u001B[43m \u001B[49m\u001B[43mpk\u001B[49m\u001B[43m,\u001B[49m\u001B[43m \u001B[49m\u001B[43mgfk\u001B[49m\u001B[43m,\u001B[49m\n\u001B[0;32m   2129\u001B[0m \u001B[43m                                  \u001B[49m\u001B[43mold_fval\u001B[49m\u001B[43m,\u001B[49m\u001B[43m \u001B[49m\u001B[43mold_old_fval\u001B[49m\u001B[43m)\u001B[49m\n\u001B[0;32m   2130\u001B[0m \u001B[38;5;28;01mexcept\u001B[39;00m _LineSearchError:\n\u001B[0;32m   2131\u001B[0m     \u001B[38;5;66;03m# Line search failed to find a better solution.\u001B[39;00m\n\u001B[0;32m   2132\u001B[0m     msg \u001B[38;5;241m=\u001B[39m \u001B[38;5;124m\"\u001B[39m\u001B[38;5;124mWarning: \u001B[39m\u001B[38;5;124m\"\u001B[39m \u001B[38;5;241m+\u001B[39m _status_message[\u001B[38;5;124m'\u001B[39m\u001B[38;5;124mpr_loss\u001B[39m\u001B[38;5;124m'\u001B[39m]\n",
      "File \u001B[1;32m~\\.python_venvs\\QiskitStuff\\lib\\site-packages\\scipy\\optimize\\_optimize.py:1215\u001B[0m, in \u001B[0;36m_line_search_wolfe12\u001B[1;34m(f, fprime, xk, pk, gfk, old_fval, old_old_fval, **kwargs)\u001B[0m\n\u001B[0;32m   1201\u001B[0m \u001B[38;5;250m\u001B[39m\u001B[38;5;124;03m\"\"\"\u001B[39;00m\n\u001B[0;32m   1202\u001B[0m \u001B[38;5;124;03mSame as line_search_wolfe1, but fall back to line_search_wolfe2 if\u001B[39;00m\n\u001B[0;32m   1203\u001B[0m \u001B[38;5;124;03msuitable step length is not found, and raise an exception if a\u001B[39;00m\n\u001B[1;32m   (...)\u001B[0m\n\u001B[0;32m   1210\u001B[0m \n\u001B[0;32m   1211\u001B[0m \u001B[38;5;124;03m\"\"\"\u001B[39;00m\n\u001B[0;32m   1213\u001B[0m extra_condition \u001B[38;5;241m=\u001B[39m kwargs\u001B[38;5;241m.\u001B[39mpop(\u001B[38;5;124m'\u001B[39m\u001B[38;5;124mextra_condition\u001B[39m\u001B[38;5;124m'\u001B[39m, \u001B[38;5;28;01mNone\u001B[39;00m)\n\u001B[1;32m-> 1215\u001B[0m ret \u001B[38;5;241m=\u001B[39m line_search_wolfe1(f, fprime, xk, pk, gfk,\n\u001B[0;32m   1216\u001B[0m                          old_fval, old_old_fval,\n\u001B[0;32m   1217\u001B[0m                          \u001B[38;5;241m*\u001B[39m\u001B[38;5;241m*\u001B[39mkwargs)\n\u001B[0;32m   1219\u001B[0m \u001B[38;5;28;01mif\u001B[39;00m ret[\u001B[38;5;241m0\u001B[39m] \u001B[38;5;129;01mis\u001B[39;00m \u001B[38;5;129;01mnot\u001B[39;00m \u001B[38;5;28;01mNone\u001B[39;00m \u001B[38;5;129;01mand\u001B[39;00m extra_condition \u001B[38;5;129;01mis\u001B[39;00m \u001B[38;5;129;01mnot\u001B[39;00m \u001B[38;5;28;01mNone\u001B[39;00m:\n\u001B[0;32m   1220\u001B[0m     xp1 \u001B[38;5;241m=\u001B[39m xk \u001B[38;5;241m+\u001B[39m ret[\u001B[38;5;241m0\u001B[39m] \u001B[38;5;241m*\u001B[39m pk\n",
      "File \u001B[1;32m~\\.python_venvs\\QiskitStuff\\lib\\site-packages\\scipy\\optimize\\_linesearch.py:84\u001B[0m, in \u001B[0;36mline_search_wolfe1\u001B[1;34m(f, fprime, xk, pk, gfk, old_fval, old_old_fval, args, c1, c2, amax, amin, xtol)\u001B[0m\n\u001B[0;32m     80\u001B[0m     \u001B[38;5;28;01mreturn\u001B[39;00m np\u001B[38;5;241m.\u001B[39mdot(gval[\u001B[38;5;241m0\u001B[39m], pk)\n\u001B[0;32m     82\u001B[0m derphi0 \u001B[38;5;241m=\u001B[39m np\u001B[38;5;241m.\u001B[39mdot(gfk, pk)\n\u001B[1;32m---> 84\u001B[0m stp, fval, old_fval \u001B[38;5;241m=\u001B[39m \u001B[43mscalar_search_wolfe1\u001B[49m\u001B[43m(\u001B[49m\n\u001B[0;32m     85\u001B[0m \u001B[43m        \u001B[49m\u001B[43mphi\u001B[49m\u001B[43m,\u001B[49m\u001B[43m \u001B[49m\u001B[43mderphi\u001B[49m\u001B[43m,\u001B[49m\u001B[43m \u001B[49m\u001B[43mold_fval\u001B[49m\u001B[43m,\u001B[49m\u001B[43m \u001B[49m\u001B[43mold_old_fval\u001B[49m\u001B[43m,\u001B[49m\u001B[43m \u001B[49m\u001B[43mderphi0\u001B[49m\u001B[43m,\u001B[49m\n\u001B[0;32m     86\u001B[0m \u001B[43m        \u001B[49m\u001B[43mc1\u001B[49m\u001B[38;5;241;43m=\u001B[39;49m\u001B[43mc1\u001B[49m\u001B[43m,\u001B[49m\u001B[43m \u001B[49m\u001B[43mc2\u001B[49m\u001B[38;5;241;43m=\u001B[39;49m\u001B[43mc2\u001B[49m\u001B[43m,\u001B[49m\u001B[43m \u001B[49m\u001B[43mamax\u001B[49m\u001B[38;5;241;43m=\u001B[39;49m\u001B[43mamax\u001B[49m\u001B[43m,\u001B[49m\u001B[43m \u001B[49m\u001B[43mamin\u001B[49m\u001B[38;5;241;43m=\u001B[39;49m\u001B[43mamin\u001B[49m\u001B[43m,\u001B[49m\u001B[43m \u001B[49m\u001B[43mxtol\u001B[49m\u001B[38;5;241;43m=\u001B[39;49m\u001B[43mxtol\u001B[49m\u001B[43m)\u001B[49m\n\u001B[0;32m     88\u001B[0m \u001B[38;5;28;01mreturn\u001B[39;00m stp, fc[\u001B[38;5;241m0\u001B[39m], gc[\u001B[38;5;241m0\u001B[39m], fval, old_fval, gval[\u001B[38;5;241m0\u001B[39m]\n",
      "File \u001B[1;32m~\\.python_venvs\\QiskitStuff\\lib\\site-packages\\scipy\\optimize\\_linesearch.py:160\u001B[0m, in \u001B[0;36mscalar_search_wolfe1\u001B[1;34m(phi, derphi, phi0, old_phi0, derphi0, c1, c2, amax, amin, xtol)\u001B[0m\n\u001B[0;32m    158\u001B[0m \u001B[38;5;28;01mif\u001B[39;00m task[:\u001B[38;5;241m2\u001B[39m] \u001B[38;5;241m==\u001B[39m \u001B[38;5;124mb\u001B[39m\u001B[38;5;124m'\u001B[39m\u001B[38;5;124mFG\u001B[39m\u001B[38;5;124m'\u001B[39m:\n\u001B[0;32m    159\u001B[0m     alpha1 \u001B[38;5;241m=\u001B[39m stp\n\u001B[1;32m--> 160\u001B[0m     phi1 \u001B[38;5;241m=\u001B[39m \u001B[43mphi\u001B[49m\u001B[43m(\u001B[49m\u001B[43mstp\u001B[49m\u001B[43m)\u001B[49m\n\u001B[0;32m    161\u001B[0m     derphi1 \u001B[38;5;241m=\u001B[39m derphi(stp)\n\u001B[0;32m    162\u001B[0m \u001B[38;5;28;01melse\u001B[39;00m:\n",
      "File \u001B[1;32m~\\.python_venvs\\QiskitStuff\\lib\\site-packages\\scipy\\optimize\\_linesearch.py:75\u001B[0m, in \u001B[0;36mline_search_wolfe1.<locals>.phi\u001B[1;34m(s)\u001B[0m\n\u001B[0;32m     73\u001B[0m \u001B[38;5;28;01mdef\u001B[39;00m \u001B[38;5;21mphi\u001B[39m(s):\n\u001B[0;32m     74\u001B[0m     fc[\u001B[38;5;241m0\u001B[39m] \u001B[38;5;241m+\u001B[39m\u001B[38;5;241m=\u001B[39m \u001B[38;5;241m1\u001B[39m\n\u001B[1;32m---> 75\u001B[0m     \u001B[38;5;28;01mreturn\u001B[39;00m \u001B[43mf\u001B[49m\u001B[43m(\u001B[49m\u001B[43mxk\u001B[49m\u001B[43m \u001B[49m\u001B[38;5;241;43m+\u001B[39;49m\u001B[43m \u001B[49m\u001B[43ms\u001B[49m\u001B[38;5;241;43m*\u001B[39;49m\u001B[43mpk\u001B[49m\u001B[43m,\u001B[49m\u001B[43m \u001B[49m\u001B[38;5;241;43m*\u001B[39;49m\u001B[43margs\u001B[49m\u001B[43m)\u001B[49m\n",
      "File \u001B[1;32m~\\.python_venvs\\QiskitStuff\\lib\\site-packages\\scipy\\optimize\\_differentiable_functions.py:267\u001B[0m, in \u001B[0;36mScalarFunction.fun\u001B[1;34m(self, x)\u001B[0m\n\u001B[0;32m    265\u001B[0m \u001B[38;5;28;01mif\u001B[39;00m \u001B[38;5;129;01mnot\u001B[39;00m np\u001B[38;5;241m.\u001B[39marray_equal(x, \u001B[38;5;28mself\u001B[39m\u001B[38;5;241m.\u001B[39mx):\n\u001B[0;32m    266\u001B[0m     \u001B[38;5;28mself\u001B[39m\u001B[38;5;241m.\u001B[39m_update_x_impl(x)\n\u001B[1;32m--> 267\u001B[0m \u001B[38;5;28;43mself\u001B[39;49m\u001B[38;5;241;43m.\u001B[39;49m\u001B[43m_update_fun\u001B[49m\u001B[43m(\u001B[49m\u001B[43m)\u001B[49m\n\u001B[0;32m    268\u001B[0m \u001B[38;5;28;01mreturn\u001B[39;00m \u001B[38;5;28mself\u001B[39m\u001B[38;5;241m.\u001B[39mf\n",
      "File \u001B[1;32m~\\.python_venvs\\QiskitStuff\\lib\\site-packages\\scipy\\optimize\\_differentiable_functions.py:251\u001B[0m, in \u001B[0;36mScalarFunction._update_fun\u001B[1;34m(self)\u001B[0m\n\u001B[0;32m    249\u001B[0m \u001B[38;5;28;01mdef\u001B[39;00m \u001B[38;5;21m_update_fun\u001B[39m(\u001B[38;5;28mself\u001B[39m):\n\u001B[0;32m    250\u001B[0m     \u001B[38;5;28;01mif\u001B[39;00m \u001B[38;5;129;01mnot\u001B[39;00m \u001B[38;5;28mself\u001B[39m\u001B[38;5;241m.\u001B[39mf_updated:\n\u001B[1;32m--> 251\u001B[0m         \u001B[38;5;28;43mself\u001B[39;49m\u001B[38;5;241;43m.\u001B[39;49m\u001B[43m_update_fun_impl\u001B[49m\u001B[43m(\u001B[49m\u001B[43m)\u001B[49m\n\u001B[0;32m    252\u001B[0m         \u001B[38;5;28mself\u001B[39m\u001B[38;5;241m.\u001B[39mf_updated \u001B[38;5;241m=\u001B[39m \u001B[38;5;28;01mTrue\u001B[39;00m\n",
      "File \u001B[1;32m~\\.python_venvs\\QiskitStuff\\lib\\site-packages\\scipy\\optimize\\_differentiable_functions.py:155\u001B[0m, in \u001B[0;36mScalarFunction.__init__.<locals>.update_fun\u001B[1;34m()\u001B[0m\n\u001B[0;32m    154\u001B[0m \u001B[38;5;28;01mdef\u001B[39;00m \u001B[38;5;21mupdate_fun\u001B[39m():\n\u001B[1;32m--> 155\u001B[0m     \u001B[38;5;28mself\u001B[39m\u001B[38;5;241m.\u001B[39mf \u001B[38;5;241m=\u001B[39m \u001B[43mfun_wrapped\u001B[49m\u001B[43m(\u001B[49m\u001B[38;5;28;43mself\u001B[39;49m\u001B[38;5;241;43m.\u001B[39;49m\u001B[43mx\u001B[49m\u001B[43m)\u001B[49m\n",
      "File \u001B[1;32m~\\.python_venvs\\QiskitStuff\\lib\\site-packages\\scipy\\optimize\\_differentiable_functions.py:137\u001B[0m, in \u001B[0;36mScalarFunction.__init__.<locals>.fun_wrapped\u001B[1;34m(x)\u001B[0m\n\u001B[0;32m    133\u001B[0m \u001B[38;5;28mself\u001B[39m\u001B[38;5;241m.\u001B[39mnfev \u001B[38;5;241m+\u001B[39m\u001B[38;5;241m=\u001B[39m \u001B[38;5;241m1\u001B[39m\n\u001B[0;32m    134\u001B[0m \u001B[38;5;66;03m# Send a copy because the user may overwrite it.\u001B[39;00m\n\u001B[0;32m    135\u001B[0m \u001B[38;5;66;03m# Overwriting results in undefined behaviour because\u001B[39;00m\n\u001B[0;32m    136\u001B[0m \u001B[38;5;66;03m# fun(self.x) will change self.x, with the two no longer linked.\u001B[39;00m\n\u001B[1;32m--> 137\u001B[0m fx \u001B[38;5;241m=\u001B[39m \u001B[43mfun\u001B[49m\u001B[43m(\u001B[49m\u001B[43mnp\u001B[49m\u001B[38;5;241;43m.\u001B[39;49m\u001B[43mcopy\u001B[49m\u001B[43m(\u001B[49m\u001B[43mx\u001B[49m\u001B[43m)\u001B[49m\u001B[43m,\u001B[49m\u001B[43m \u001B[49m\u001B[38;5;241;43m*\u001B[39;49m\u001B[43margs\u001B[49m\u001B[43m)\u001B[49m\n\u001B[0;32m    138\u001B[0m \u001B[38;5;66;03m# Make sure the function returns a true scalar\u001B[39;00m\n\u001B[0;32m    139\u001B[0m \u001B[38;5;28;01mif\u001B[39;00m \u001B[38;5;129;01mnot\u001B[39;00m np\u001B[38;5;241m.\u001B[39misscalar(fx):\n",
      "File \u001B[1;32m~\\GithubProjects\\Private\\Azurestuff\\src\\CPQAOA.py:151\u001B[0m, in \u001B[0;36mCP_QAOA.get_cost\u001B[1;34m(self, angles)\u001B[0m\n\u001B[0;32m    150\u001B[0m \u001B[38;5;28;01mdef\u001B[39;00m \u001B[38;5;21mget_cost\u001B[39m(\u001B[38;5;28mself\u001B[39m, angles) \u001B[38;5;241m-\u001B[39m\u001B[38;5;241m>\u001B[39m \u001B[38;5;28mfloat\u001B[39m:\n\u001B[1;32m--> 151\u001B[0m     circuit \u001B[38;5;241m=\u001B[39m \u001B[38;5;28;43mself\u001B[39;49m\u001B[38;5;241;43m.\u001B[39;49m\u001B[43mset_circuit\u001B[49m\u001B[43m(\u001B[49m\u001B[43mangles\u001B[49m\u001B[38;5;241;43m=\u001B[39;49m\u001B[43mangles\u001B[49m\u001B[43m)\u001B[49m\n\u001B[0;32m    152\u001B[0m     \u001B[38;5;28mself\u001B[39m\u001B[38;5;241m.\u001B[39mcounts \u001B[38;5;241m=\u001B[39m execute(circuit, \u001B[38;5;28mself\u001B[39m\u001B[38;5;241m.\u001B[39msimulator)\u001B[38;5;241m.\u001B[39mresult()\u001B[38;5;241m.\u001B[39mget_counts()\n\u001B[0;32m    153\u001B[0m     \u001B[38;5;28;01mif\u001B[39;00m \u001B[38;5;28mself\u001B[39m\u001B[38;5;241m.\u001B[39mbackend \u001B[38;5;241m==\u001B[39m \u001B[38;5;124m'\u001B[39m\u001B[38;5;124msample\u001B[39m\u001B[38;5;124m'\u001B[39m:\n\u001B[0;32m    154\u001B[0m         \u001B[38;5;66;03m# Extract states and corresponding probabilities\u001B[39;00m\n",
      "File \u001B[1;32m~\\GithubProjects\\Private\\Azurestuff\\src\\CPQAOA.py:129\u001B[0m, in \u001B[0;36mCP_QAOA.set_circuit\u001B[1;34m(self, angles)\u001B[0m\n\u001B[0;32m    127\u001B[0m \u001B[38;5;66;03m# For gradient calculation\u001B[39;00m\n\u001B[0;32m    128\u001B[0m \u001B[38;5;28;01mif\u001B[39;00m \u001B[38;5;28mself\u001B[39m\u001B[38;5;241m.\u001B[39mwith_gradient:\n\u001B[1;32m--> 129\u001B[0m     psi_i \u001B[38;5;241m=\u001B[39m np\u001B[38;5;241m.\u001B[39marray(\u001B[43mexecute\u001B[49m\u001B[43m(\u001B[49m\u001B[43mqcircuit\u001B[49m\u001B[43m,\u001B[49m\u001B[43m \u001B[49m\u001B[38;5;28;43mself\u001B[39;49m\u001B[38;5;241;43m.\u001B[39;49m\u001B[43msimulator\u001B[49m\u001B[43m)\u001B[49m\u001B[38;5;241;43m.\u001B[39;49m\u001B[43mresult\u001B[49m\u001B[43m(\u001B[49m\u001B[43m)\u001B[49m\u001B[38;5;241m.\u001B[39mget_statevector())\n\u001B[0;32m    130\u001B[0m     \u001B[38;5;28mself\u001B[39m\u001B[38;5;241m.\u001B[39mmid_circuit_states\u001B[38;5;241m.\u001B[39mappend(psi_i)\n\u001B[0;32m    131\u001B[0m     \u001B[38;5;28mself\u001B[39m\u001B[38;5;241m.\u001B[39mmid_circuit_indices\u001B[38;5;241m.\u001B[39mappend((qubit_i, qubit_j))\n",
      "File \u001B[1;32m~\\.python_venvs\\QiskitStuff\\lib\\site-packages\\qiskit_aer\\jobs\\utils.py:42\u001B[0m, in \u001B[0;36mrequires_submit.<locals>._wrapper\u001B[1;34m(self, *args, **kwargs)\u001B[0m\n\u001B[0;32m     40\u001B[0m \u001B[38;5;28;01mif\u001B[39;00m \u001B[38;5;28mself\u001B[39m\u001B[38;5;241m.\u001B[39m_future \u001B[38;5;129;01mis\u001B[39;00m \u001B[38;5;28;01mNone\u001B[39;00m:\n\u001B[0;32m     41\u001B[0m     \u001B[38;5;28;01mraise\u001B[39;00m JobError(\u001B[38;5;124m\"\u001B[39m\u001B[38;5;124mJob not submitted yet!. You have to .submit() first!\u001B[39m\u001B[38;5;124m\"\u001B[39m)\n\u001B[1;32m---> 42\u001B[0m \u001B[38;5;28;01mreturn\u001B[39;00m func(\u001B[38;5;28mself\u001B[39m, \u001B[38;5;241m*\u001B[39margs, \u001B[38;5;241m*\u001B[39m\u001B[38;5;241m*\u001B[39mkwargs)\n",
      "File \u001B[1;32m~\\.python_venvs\\QiskitStuff\\lib\\site-packages\\qiskit_aer\\jobs\\aerjob.py:114\u001B[0m, in \u001B[0;36mAerJob.result\u001B[1;34m(self, timeout)\u001B[0m\n\u001B[0;32m     96\u001B[0m \u001B[38;5;129m@requires_submit\u001B[39m\n\u001B[0;32m     97\u001B[0m \u001B[38;5;28;01mdef\u001B[39;00m \u001B[38;5;21mresult\u001B[39m(\u001B[38;5;28mself\u001B[39m, timeout\u001B[38;5;241m=\u001B[39m\u001B[38;5;28;01mNone\u001B[39;00m):\n\u001B[0;32m     98\u001B[0m     \u001B[38;5;66;03m# pylint: disable=arguments-differ\u001B[39;00m\n\u001B[0;32m     99\u001B[0m \u001B[38;5;250m    \u001B[39m\u001B[38;5;124;03m\"\"\"Get job result. The behavior is the same as the underlying\u001B[39;00m\n\u001B[0;32m    100\u001B[0m \u001B[38;5;124;03m    concurrent Future objects,\u001B[39;00m\n\u001B[0;32m    101\u001B[0m \n\u001B[1;32m   (...)\u001B[0m\n\u001B[0;32m    112\u001B[0m \u001B[38;5;124;03m        concurrent.futures.CancelledError: if job cancelled before completed.\u001B[39;00m\n\u001B[0;32m    113\u001B[0m \u001B[38;5;124;03m    \"\"\"\u001B[39;00m\n\u001B[1;32m--> 114\u001B[0m     \u001B[38;5;28;01mreturn\u001B[39;00m \u001B[38;5;28;43mself\u001B[39;49m\u001B[38;5;241;43m.\u001B[39;49m\u001B[43m_future\u001B[49m\u001B[38;5;241;43m.\u001B[39;49m\u001B[43mresult\u001B[49m\u001B[43m(\u001B[49m\u001B[43mtimeout\u001B[49m\u001B[38;5;241;43m=\u001B[39;49m\u001B[43mtimeout\u001B[49m\u001B[43m)\u001B[49m\n",
      "File \u001B[1;32mC:\\Program Files\\Python310\\lib\\concurrent\\futures\\_base.py:441\u001B[0m, in \u001B[0;36mFuture.result\u001B[1;34m(self, timeout)\u001B[0m\n\u001B[0;32m    438\u001B[0m \u001B[38;5;28;01melif\u001B[39;00m \u001B[38;5;28mself\u001B[39m\u001B[38;5;241m.\u001B[39m_state \u001B[38;5;241m==\u001B[39m FINISHED:\n\u001B[0;32m    439\u001B[0m     \u001B[38;5;28;01mreturn\u001B[39;00m \u001B[38;5;28mself\u001B[39m\u001B[38;5;241m.\u001B[39m__get_result()\n\u001B[1;32m--> 441\u001B[0m \u001B[38;5;28;43mself\u001B[39;49m\u001B[38;5;241;43m.\u001B[39;49m\u001B[43m_condition\u001B[49m\u001B[38;5;241;43m.\u001B[39;49m\u001B[43mwait\u001B[49m\u001B[43m(\u001B[49m\u001B[43mtimeout\u001B[49m\u001B[43m)\u001B[49m\n\u001B[0;32m    443\u001B[0m \u001B[38;5;28;01mif\u001B[39;00m \u001B[38;5;28mself\u001B[39m\u001B[38;5;241m.\u001B[39m_state \u001B[38;5;129;01min\u001B[39;00m [CANCELLED, CANCELLED_AND_NOTIFIED]:\n\u001B[0;32m    444\u001B[0m     \u001B[38;5;28;01mraise\u001B[39;00m CancelledError()\n",
      "File \u001B[1;32mC:\\Program Files\\Python310\\lib\\threading.py:320\u001B[0m, in \u001B[0;36mCondition.wait\u001B[1;34m(self, timeout)\u001B[0m\n\u001B[0;32m    318\u001B[0m \u001B[38;5;28;01mtry\u001B[39;00m:    \u001B[38;5;66;03m# restore state no matter what (e.g., KeyboardInterrupt)\u001B[39;00m\n\u001B[0;32m    319\u001B[0m     \u001B[38;5;28;01mif\u001B[39;00m timeout \u001B[38;5;129;01mis\u001B[39;00m \u001B[38;5;28;01mNone\u001B[39;00m:\n\u001B[1;32m--> 320\u001B[0m         \u001B[43mwaiter\u001B[49m\u001B[38;5;241;43m.\u001B[39;49m\u001B[43macquire\u001B[49m\u001B[43m(\u001B[49m\u001B[43m)\u001B[49m\n\u001B[0;32m    321\u001B[0m         gotit \u001B[38;5;241m=\u001B[39m \u001B[38;5;28;01mTrue\u001B[39;00m\n\u001B[0;32m    322\u001B[0m     \u001B[38;5;28;01melse\u001B[39;00m:\n",
      "\u001B[1;31mKeyboardInterrupt\u001B[0m: "
     ]
    }
   ],
   "source": [
    "    \n",
    "CP_z_phase_res = sc.optimize.minimize(fun=CP_z_phase_ansatz.get_cost, \n",
    "                                      x0=CP_z_phase_theta_i,\n",
    "                                      method='Newton-CG',\n",
    "                                      options={'disp': False, \n",
    "                                               'maxiter': max_iter},\n",
    "                                      jac=CP_z_phase_ansatz.get_gradient,\n",
    "                                      callback=CP_z_phase_callback_function)\n",
    "\"\"\"except Exception as e:\n",
    "    if str(e) == \"Termination criteria met\":\n",
    "        print(\"Optimization stopped due to custom termination criteria.\")\"\"\""
   ],
   "metadata": {
    "collapsed": false,
    "ExecuteTime": {
     "end_time": "2024-01-15T18:08:45.801703100Z",
     "start_time": "2024-01-15T18:08:38.618746800Z"
    }
   },
   "id": "4f5327c850c8b128",
   "execution_count": 40
  },
  {
   "cell_type": "code",
   "outputs": [
    {
     "data": {
      "text/plain": " message: Desired error not necessarily achieved due to precision loss.\n success: False\n  status: 2\n     fun: -1.7825082848354479\n       x: [ 6.134e-01  2.704e+00 ...  3.845e+00  3.226e+00]\n     nit: 3\n     jac: [ 0.000e+00  0.000e+00 ...  4.839e-01  3.261e-01]\n    nfev: 97\n    njev: 86"
     },
     "execution_count": 37,
     "metadata": {},
     "output_type": "execute_result"
    }
   ],
   "source": [
    "CP_z_phase_res"
   ],
   "metadata": {
    "collapsed": false,
    "ExecuteTime": {
     "end_time": "2024-01-15T18:08:23.968109200Z",
     "start_time": "2024-01-15T18:08:23.943381800Z"
    }
   },
   "id": "6f166bc18ad37bf",
   "execution_count": 37
  },
  {
   "cell_type": "code",
   "outputs": [
    {
     "data": {
      "text/plain": "4.161780096342679"
     },
     "execution_count": 38,
     "metadata": {},
     "output_type": "execute_result"
    }
   ],
   "source": [
    "np.linalg.norm(CP_z_phase_res.jac)"
   ],
   "metadata": {
    "collapsed": false,
    "ExecuteTime": {
     "end_time": "2024-01-15T18:08:26.811614300Z",
     "start_time": "2024-01-15T18:08:26.794124100Z"
    }
   },
   "id": "cff049ba00c4d7d6",
   "execution_count": 38
  },
  {
   "cell_type": "code",
   "outputs": [
    {
     "data": {
      "text/plain": "<Figure size 500x300 with 1 Axes>",
      "image/png": "[encoded data removed]"
     },
     "metadata": {},
     "output_type": "display_data"
    }
   ],
   "source": [
    "# N.B. Because the normalization is done w. respect to the \"allowed states (w. k ones)\" QAOA has cost above 1.\n",
    "fig, ax = plt.subplots(1,1, figsize=(5,3))\n",
    "ax.plot([it for it in range(len(CP_z_phase_costs))], CP_z_phase_costs, label='normalized costs')\n",
    "ax.set_xlim(0,len(CP_z_phase_costs))\n",
    "ax.hlines(0,0,len(CP_z_phase_costs),lw=1,linestyles='dashed',colors='k')\n",
    "ax.legend(loc='upper right')\n",
    "plt.show()"
   ],
   "metadata": {
    "collapsed": false,
    "ExecuteTime": {
     "end_time": "2024-01-15T18:08:28.045715700Z",
     "start_time": "2024-01-15T18:08:27.972157700Z"
    }
   },
   "id": "12092d2db7cf4243",
   "execution_count": 39
  },
  {
   "cell_type": "code",
   "outputs": [
    {
     "data": {
      "text/plain": "('1010101001', '1010101001')"
     },
     "execution_count": 458,
     "metadata": {},
     "output_type": "execute_result"
    }
   ],
   "source": [
    "opt_state = CP_z_phase_most_probables[np.argmin(solver_costs)]\n",
    "opt_state, ''.join(str(q) for q in portfolio_subspace_min_state_str)"
   ],
   "metadata": {
    "collapsed": false,
    "ExecuteTime": {
     "end_time": "2024-01-11T15:43:29.117994Z",
     "start_time": "2024-01-11T15:43:29.094782Z"
    }
   },
   "id": "a31ccef08f3cd88c",
   "execution_count": 458
  },
  {
   "cell_type": "code",
   "outputs": [
    {
     "data": {
      "text/plain": "4.313062108042641e-15"
     },
     "execution_count": 459,
     "metadata": {},
     "output_type": "execute_result"
    }
   ],
   "source": [
    "found_cost = qubo_cost(np.array([float(_) for _ in opt_state]).astype(np.float64), Q) + offset\n",
    "abs(found_cost - portfolio_subspace_min_cost) / abs(portfolio_subspace_max_cost - portfolio_subspace_min_cost)"
   ],
   "metadata": {
    "collapsed": false,
    "ExecuteTime": {
     "end_time": "2024-01-11T15:43:29.762760400Z",
     "start_time": "2024-01-11T15:43:29.736059300Z"
    }
   },
   "id": "1c8026e48f194173",
   "execution_count": 459
  },
  {
   "cell_type": "code",
   "outputs": [],
   "source": [
    "max_iter = 10000\n",
    "\n",
    "sizes = [2,3,\n",
    "         4,5,\n",
    "         6,7,\n",
    "         8,9,\n",
    "         10]\n",
    "\n",
    "cardinalities = [1,1,\n",
    "                 2,2,\n",
    "                 3,3,\n",
    "                 4,4,\n",
    "                 5]\n",
    "\n",
    "layers = [1,1,1,\n",
    "          2,2,2,\n",
    "          3,3,3]\n",
    "\n",
    "initialization_strategies = [np.array([0,1]),\n",
    "                             np.array([0,1,0]),\n",
    "                             np.array([0,1,0,1]),\n",
    "                             np.array([0,1,0,1,0]),\n",
    "                             np.array([0,1,0,1,0,1]),\n",
    "                             np.array([0,1,0,1,0,1,0]),\n",
    "                             np.array([0,1,0,1,0,1,0,1]),\n",
    "                             np.array([0,1,0,1,0,1,0,1,0]),\n",
    "                             np.array([0,1,0,1,0,1,0,1,0,1])]\n",
    "\n"
   ],
   "metadata": {
    "collapsed": false,
    "ExecuteTime": {
     "end_time": "2024-01-11T15:40:39.642770300Z",
     "start_time": "2024-01-11T15:40:39.603731800Z"
    }
   },
   "id": "ef9435ef64fc795c",
   "execution_count": 437
  },
  {
   "cell_type": "code",
   "outputs": [],
   "source": [
    "from qiskit import QuantumCircuit, Aer, execute\n",
    "from qiskit.circuit.library import PauliEvolutionGate\n",
    "from qiskit.quantum_info import Operator\n",
    "from qiskit.quantum_info.operators import Pauli\n",
    "from qiskit.opflow import X, Y, I\n",
    "\n"
   ],
   "metadata": {
    "collapsed": false,
    "ExecuteTime": {
     "end_time": "2024-01-15T16:43:07.790218600Z",
     "start_time": "2024-01-15T16:43:07.764690800Z"
    }
   },
   "id": "97a7aadbd5a48c8a",
   "execution_count": 33
  },
  {
   "cell_type": "code",
   "outputs": [],
   "source": [
    "def get_generator(i:int, j:int, theta: float, N: int) -> np.ndarray:\n",
    "    if i == 0 or j == 0:\n",
    "        res_x, res_y = 'X', 'Y'\n",
    "        for qubit_idx in range(1,N):\n",
    "            if j == qubit_idx or i == qubit_idx:\n",
    "                res_x += 'X'\n",
    "                res_y += 'Y'\n",
    "            else:\n",
    "                res_x += 'I'\n",
    "                res_y += 'I'\n",
    "    else:\n",
    "        res_x, res_y = 'I', 'I'\n",
    "        for qubit_idx in range(1,N):\n",
    "            if j == qubit_idx or i == qubit_idx:\n",
    "                res_x += 'X'\n",
    "                res_y += 'Y'\n",
    "            else:\n",
    "                res_x += 'I'\n",
    "                res_y += 'I'\n",
    "    return theta * (np.array(Operator(Pauli(res_x)))+np.array(Operator(Pauli(res_y))))"
   ],
   "metadata": {
    "collapsed": false,
    "ExecuteTime": {
     "end_time": "2024-01-15T17:48:12.487661900Z",
     "start_time": "2024-01-15T17:48:12.478825100Z"
    }
   },
   "id": "309d8e60eced28e9",
   "execution_count": 45
  },
  {
   "cell_type": "code",
   "outputs": [
    {
     "data": {
      "text/plain": "(16, 16)"
     },
     "execution_count": 46,
     "metadata": {},
     "output_type": "execute_result"
    }
   ],
   "source": [
    "get_generator(1,3,0,4).shape"
   ],
   "metadata": {
    "collapsed": false,
    "ExecuteTime": {
     "end_time": "2024-01-15T17:48:12.843366100Z",
     "start_time": "2024-01-15T17:48:12.824764Z"
    }
   },
   "id": "5db134a3550d3369",
   "execution_count": 46
  },
  {
   "cell_type": "code",
   "outputs": [
    {
     "name": "stdout",
     "output_type": "stream",
     "text": [
      "Operator([[0.+0.j, 0.+0.j, 0.+0.j, ..., 0.+0.j, 0.+0.j, 0.+0.j],\n",
      "          [0.+0.j, 0.+0.j, 0.+0.j, ..., 0.+0.j, 0.+0.j, 0.+0.j],\n",
      "          [0.+0.j, 0.+0.j, 0.+0.j, ..., 0.+0.j, 0.+0.j, 0.+0.j],\n",
      "          ...,\n",
      "          [0.+0.j, 0.+0.j, 0.+0.j, ..., 0.+0.j, 0.+0.j, 0.+0.j],\n",
      "          [0.+0.j, 0.+0.j, 0.+0.j, ..., 0.+0.j, 0.+0.j, 0.+0.j],\n",
      "          [0.+0.j, 0.+0.j, 0.+0.j, ..., 0.+0.j, 0.+0.j, 0.+0.j]],\n",
      "         input_dims=(2, 2, 2, 2, 2, 2), output_dims=(2, 2, 2, 2, 2, 2))\n"
     ]
    }
   ],
   "source": [
    "h = Pauli('IIXXIY')\n",
    "Operator(h)"
   ],
   "metadata": {
    "collapsed": false,
    "ExecuteTime": {
     "end_time": "2024-01-15T16:43:14.209087700Z",
     "start_time": "2024-01-15T16:43:14.199298700Z"
    }
   },
   "id": "5ff6295c2f68f64a",
   "execution_count": 35
  },
  {
   "cell_type": "code",
   "outputs": [],
   "source": [
    "N=4\n",
    "qubit_i, qubit_j = 1,0\n",
    "op = "
   ],
   "metadata": {
    "collapsed": false
   },
   "id": "694303e94ec88e54"
  },
  {
   "cell_type": "code",
   "outputs": [
    {
     "ename": "ValueError",
     "evalue": "Input matrix is not unitary.",
     "output_type": "error",
     "traceback": [
      "\u001B[1;31m---------------------------------------------------------------------------\u001B[0m",
      "\u001B[1;31mValueError\u001B[0m                                Traceback (most recent call last)",
      "Cell \u001B[1;32mIn[29], line 12\u001B[0m\n\u001B[0;32m      9\u001B[0m \u001B[38;5;66;03m# Create the time-evolved operator\u001B[39;00m\n\u001B[0;32m     10\u001B[0m time_evolved_operator \u001B[38;5;241m=\u001B[39m PauliEvolutionGate(hamiltonian, time\u001B[38;5;241m=\u001B[39m\u001B[38;5;241m1.0\u001B[39m)\n\u001B[1;32m---> 12\u001B[0m \u001B[43mqcircuit\u001B[49m\u001B[38;5;241;43m.\u001B[39;49m\u001B[43mappend\u001B[49m\u001B[43m(\u001B[49m\u001B[43mhamiltonian\u001B[49m\u001B[43m,\u001B[49m\u001B[43m \u001B[49m\u001B[43m[\u001B[49m\u001B[43mqubit_i\u001B[49m\u001B[43m,\u001B[49m\u001B[43m \u001B[49m\u001B[43mqubit_j\u001B[49m\u001B[43m]\u001B[49m\u001B[43m)\u001B[49m\n",
      "File \u001B[1;32m~\\.python_venvs\\QiskitStuff\\lib\\site-packages\\qiskit\\circuit\\quantumcircuit.py:1253\u001B[0m, in \u001B[0;36mQuantumCircuit.append\u001B[1;34m(self, instruction, qargs, cargs)\u001B[0m\n\u001B[0;32m   1251\u001B[0m \u001B[38;5;28;01mif\u001B[39;00m \u001B[38;5;129;01mnot\u001B[39;00m \u001B[38;5;28misinstance\u001B[39m(operation, Operation):\n\u001B[0;32m   1252\u001B[0m     \u001B[38;5;28;01mif\u001B[39;00m \u001B[38;5;28mhasattr\u001B[39m(operation, \u001B[38;5;124m\"\u001B[39m\u001B[38;5;124mto_instruction\u001B[39m\u001B[38;5;124m\"\u001B[39m):\n\u001B[1;32m-> 1253\u001B[0m         operation \u001B[38;5;241m=\u001B[39m \u001B[43moperation\u001B[49m\u001B[38;5;241;43m.\u001B[39;49m\u001B[43mto_instruction\u001B[49m\u001B[43m(\u001B[49m\u001B[43m)\u001B[49m\n\u001B[0;32m   1254\u001B[0m         \u001B[38;5;28;01mif\u001B[39;00m \u001B[38;5;129;01mnot\u001B[39;00m \u001B[38;5;28misinstance\u001B[39m(operation, Operation):\n\u001B[0;32m   1255\u001B[0m             \u001B[38;5;28;01mraise\u001B[39;00m CircuitError(\u001B[38;5;124m\"\u001B[39m\u001B[38;5;124moperation.to_instruction() is not an Operation.\u001B[39m\u001B[38;5;124m\"\u001B[39m)\n",
      "File \u001B[1;32m~\\.python_venvs\\QiskitStuff\\lib\\site-packages\\qiskit\\opflow\\primitive_ops\\pauli_sum_op.py:366\u001B[0m, in \u001B[0;36mPauliSumOp.to_instruction\u001B[1;34m(self)\u001B[0m\n\u001B[0;32m    365\u001B[0m \u001B[38;5;28;01mdef\u001B[39;00m \u001B[38;5;21mto_instruction\u001B[39m(\u001B[38;5;28mself\u001B[39m) \u001B[38;5;241m-\u001B[39m\u001B[38;5;241m>\u001B[39m Instruction:\n\u001B[1;32m--> 366\u001B[0m     \u001B[38;5;28;01mreturn\u001B[39;00m \u001B[38;5;28;43mself\u001B[39;49m\u001B[38;5;241;43m.\u001B[39;49m\u001B[43mto_matrix_op\u001B[49m\u001B[43m(\u001B[49m\u001B[43m)\u001B[49m\u001B[38;5;241;43m.\u001B[39;49m\u001B[43mto_circuit\u001B[49m\u001B[43m(\u001B[49m\u001B[43m)\u001B[49m\u001B[38;5;241m.\u001B[39mto_instruction()\n",
      "File \u001B[1;32m~\\.python_venvs\\QiskitStuff\\lib\\site-packages\\qiskit\\opflow\\primitive_ops\\primitive_op.py:284\u001B[0m, in \u001B[0;36mPrimitiveOp.to_circuit\u001B[1;34m(self)\u001B[0m\n\u001B[0;32m    282\u001B[0m \u001B[38;5;250m\u001B[39m\u001B[38;5;124;03m\"\"\"Returns a ``QuantumCircuit`` equivalent to this Operator.\"\"\"\u001B[39;00m\n\u001B[0;32m    283\u001B[0m qc \u001B[38;5;241m=\u001B[39m QuantumCircuit(\u001B[38;5;28mself\u001B[39m\u001B[38;5;241m.\u001B[39mnum_qubits)\n\u001B[1;32m--> 284\u001B[0m qc\u001B[38;5;241m.\u001B[39mappend(\u001B[38;5;28;43mself\u001B[39;49m\u001B[38;5;241;43m.\u001B[39;49m\u001B[43mto_instruction\u001B[49m\u001B[43m(\u001B[49m\u001B[43m)\u001B[49m, qargs\u001B[38;5;241m=\u001B[39m\u001B[38;5;28mrange\u001B[39m(\u001B[38;5;28mself\u001B[39m\u001B[38;5;241m.\u001B[39mprimitive\u001B[38;5;241m.\u001B[39mnum_qubits))\n\u001B[0;32m    285\u001B[0m \u001B[38;5;28;01mreturn\u001B[39;00m qc\u001B[38;5;241m.\u001B[39mdecompose()\n",
      "File \u001B[1;32m~\\.python_venvs\\QiskitStuff\\lib\\site-packages\\qiskit\\opflow\\primitive_ops\\matrix_op.py:237\u001B[0m, in \u001B[0;36mMatrixOp.to_instruction\u001B[1;34m(self)\u001B[0m\n\u001B[0;32m    236\u001B[0m \u001B[38;5;28;01mdef\u001B[39;00m \u001B[38;5;21mto_instruction\u001B[39m(\u001B[38;5;28mself\u001B[39m) \u001B[38;5;241m-\u001B[39m\u001B[38;5;241m>\u001B[39m Instruction:\n\u001B[1;32m--> 237\u001B[0m     \u001B[38;5;28;01mreturn\u001B[39;00m \u001B[43m(\u001B[49m\u001B[38;5;28;43mself\u001B[39;49m\u001B[38;5;241;43m.\u001B[39;49m\u001B[43mcoeff\u001B[49m\u001B[43m \u001B[49m\u001B[38;5;241;43m*\u001B[39;49m\u001B[43m \u001B[49m\u001B[38;5;28;43mself\u001B[39;49m\u001B[38;5;241;43m.\u001B[39;49m\u001B[43mprimitive\u001B[49m\u001B[43m)\u001B[49m\u001B[38;5;241;43m.\u001B[39;49m\u001B[43mto_instruction\u001B[49m\u001B[43m(\u001B[49m\u001B[43m)\u001B[49m\n",
      "File \u001B[1;32m~\\.python_venvs\\QiskitStuff\\lib\\site-packages\\qiskit\\quantum_info\\operators\\operator.py:446\u001B[0m, in \u001B[0;36mOperator.to_instruction\u001B[1;34m(self)\u001B[0m\n\u001B[0;32m    443\u001B[0m \u001B[38;5;66;03m# pylint: disable=cyclic-import\u001B[39;00m\n\u001B[0;32m    444\u001B[0m \u001B[38;5;28;01mfrom\u001B[39;00m \u001B[38;5;21;01mqiskit\u001B[39;00m\u001B[38;5;21;01m.\u001B[39;00m\u001B[38;5;21;01mcircuit\u001B[39;00m\u001B[38;5;21;01m.\u001B[39;00m\u001B[38;5;21;01mlibrary\u001B[39;00m\u001B[38;5;21;01m.\u001B[39;00m\u001B[38;5;21;01mgeneralized_gates\u001B[39;00m\u001B[38;5;21;01m.\u001B[39;00m\u001B[38;5;21;01munitary\u001B[39;00m \u001B[38;5;28;01mimport\u001B[39;00m UnitaryGate\n\u001B[1;32m--> 446\u001B[0m \u001B[38;5;28;01mreturn\u001B[39;00m \u001B[43mUnitaryGate\u001B[49m\u001B[43m(\u001B[49m\u001B[38;5;28;43mself\u001B[39;49m\u001B[38;5;241;43m.\u001B[39;49m\u001B[43mdata\u001B[49m\u001B[43m)\u001B[49m\n",
      "File \u001B[1;32m~\\.python_venvs\\QiskitStuff\\lib\\site-packages\\qiskit\\circuit\\library\\generalized_gates\\unitary.py:102\u001B[0m, in \u001B[0;36mUnitaryGate.__init__\u001B[1;34m(self, data, label, check_input)\u001B[0m\n\u001B[0;32m     99\u001B[0m \u001B[38;5;28;01mif\u001B[39;00m check_input:\n\u001B[0;32m    100\u001B[0m     \u001B[38;5;66;03m# Check input is unitary\u001B[39;00m\n\u001B[0;32m    101\u001B[0m     \u001B[38;5;28;01mif\u001B[39;00m \u001B[38;5;129;01mnot\u001B[39;00m is_unitary_matrix(data):\n\u001B[1;32m--> 102\u001B[0m         \u001B[38;5;28;01mraise\u001B[39;00m \u001B[38;5;167;01mValueError\u001B[39;00m(\u001B[38;5;124m\"\u001B[39m\u001B[38;5;124mInput matrix is not unitary.\u001B[39m\u001B[38;5;124m\"\u001B[39m)\n\u001B[0;32m    103\u001B[0m     \u001B[38;5;66;03m# Check input is N-qubit matrix\u001B[39;00m\n\u001B[0;32m    104\u001B[0m     \u001B[38;5;28;01mif\u001B[39;00m input_dim \u001B[38;5;241m!=\u001B[39m output_dim \u001B[38;5;129;01mor\u001B[39;00m \u001B[38;5;241m2\u001B[39m\u001B[38;5;241m*\u001B[39m\u001B[38;5;241m*\u001B[39mnum_qubits \u001B[38;5;241m!=\u001B[39m input_dim:\n",
      "\u001B[1;31mValueError\u001B[0m: Input matrix is not unitary."
     ]
    }
   ],
   "source": [
    "qcircuit = QuantumCircuit(2)\n",
    "theta_ij = 0.1651\n",
    "qubit_i, qubit_j = 0, 1\n",
    "# Define the Hamiltonian for XX and YY interactions\n",
    "xx_term = theta_ij * (X ^ X)\n",
    "yy_term = theta_ij * (Y ^ Y)\n",
    "hamiltonian = xx_term + yy_term\n",
    "\n",
    "# Create the time-evolved operator\n",
    "time_evolved_operator = PauliEvolutionGate(hamiltonian, time=1.0)\n",
    "\n",
    "qcircuit.append(hamiltonian, [qubit_i, qubit_j])"
   ],
   "metadata": {
    "collapsed": false,
    "ExecuteTime": {
     "end_time": "2024-01-15T15:57:46.349371400Z",
     "start_time": "2024-01-15T15:57:46.082784600Z"
    }
   },
   "id": "3026f147ca461435",
   "execution_count": 29
  },
  {
   "cell_type": "code",
   "outputs": [
    {
     "data": {
      "text/plain": "(4, 4)"
     },
     "execution_count": 30,
     "metadata": {},
     "output_type": "execute_result"
    }
   ],
   "source": [
    "np.array(Operator(hamiltonian)).shape"
   ],
   "metadata": {
    "collapsed": false,
    "ExecuteTime": {
     "end_time": "2024-01-15T15:58:21.108056100Z",
     "start_time": "2024-01-15T15:58:21.086224700Z"
    }
   },
   "id": "e863f6b1d499db26",
   "execution_count": 30
  },
  {
   "cell_type": "code",
   "outputs": [],
   "source": [],
   "metadata": {
    "collapsed": false
   },
   "id": "279dc9d361340b98"
  }
 ],
 "metadata": {
  "kernelspec": {
   "display_name": "Python 3",
   "language": "python",
   "name": "python3"
  },
  "language_info": {
   "codemirror_mode": {
    "name": "ipython",
    "version": 2
   },
   "file_extension": ".py",
   "mimetype": "text/x-python",
   "name": "python",
   "nbconvert_exporter": "python",
   "pygments_lexer": "ipython2",
   "version": "2.7.6"
  }
 },
 "nbformat": 4,
 "nbformat_minor": 5
}
