{
 "cells": [
  {
   "cell_type": "code",
   "execution_count": 424,
   "id": "initial_id",
   "metadata": {
    "collapsed": true,
    "ExecuteTime": {
     "end_time": "2024-01-11T15:40:03.055513300Z",
     "start_time": "2024-01-11T15:40:03.011124700Z"
    }
   },
   "outputs": [],
   "source": [
    "import os\n",
    "from joblib import Parallel, delayed\n",
    "\n",
    "import numpy as np\n",
    "import scipy as sc\n",
    "import matplotlib.pyplot as plt\n",
    "from tqdm import tqdm\n",
    "\n",
    "from src.CPQAOA import CP_QAOA\n",
    "from src.QAOA import QAOA\n",
    "from src.Grid import Grid\n",
    "from src.Chain import Chain\n",
    "from src.Tools import (portfolio_metrics, \n",
    "                       min_cost_partition, \n",
    "                       get_qubo, \n",
    "                       normalized_cost, \n",
    "                       qubo_limits, \n",
    "                       check_qubo,\n",
    "                       qubo_cost,\n",
    "                       partitioned_averages)"
   ]
  },
  {
   "cell_type": "code",
   "outputs": [
    {
     "name": "stdout",
     "output_type": "stream",
     "text": [
      " Qubit indices in chain: \n",
      " [0 1 2 3 4 5]\n",
      "\n",
      " Corresponding Nearest Neighbor index pairs: \n",
      " [(0, 1), (1, 2), (2, 3), (3, 4), (4, 5)]\n",
      "\n",
      " Corresponding Nearest Neighbor + Next Nearest index pairs: \n",
      " [(0, 1), (0, 2), (1, 2), (1, 3), (2, 3), (2, 4), (3, 4), (3, 5)]\n",
      "\n",
      " Initialization strategy is: \n",
      " [0 1 0 1 0 1]\n",
      "\n",
      " Corresponding indices is: \n",
      " [1, 3, 5]\n"
     ]
    }
   ],
   "source": [
    "# Number of Qubits \n",
    "N=6\n",
    "# Number of excitations\n",
    "k=3\n",
    "# RNG seed for reproducibility\n",
    "seed=0\n",
    "# alpha in: s^T*mu + alpha*(s^T*Covar*s)\n",
    "alpha=0.5\n",
    "# Nr. of layer repetitions\n",
    "layers=1\n",
    "# Maximal number of iterations for classical solver\n",
    "max_iter=400\n",
    "# Using next nearest neighbors (in 1D chain model)\n",
    "w_next_nearest_neighbors = True\n",
    "\n",
    "\n",
    "my_chain = Chain(N_qubits=N)\n",
    "print(f' Qubit indices in chain: \\n', my_chain.get_chain_indexing())\n",
    "print(f'\\n Corresponding Nearest Neighbor index pairs: \\n', my_chain.get_NN_indices())\n",
    "print(f'\\n Corresponding Nearest Neighbor + Next Nearest index pairs: \\n', my_chain.get_NNN_indices())\n",
    "init_strat = np.array([0,1,0,1,0,1])\n",
    "my_chain.set_initialization_strategy(strategy=init_strat)\n",
    "print(f'\\n Initialization strategy is: \\n', my_chain.get_initialization_strategy())\n",
    "print(f'\\n Corresponding indices is: \\n', my_chain.get_initialization_indices())"
   ],
   "metadata": {
    "collapsed": false,
    "ExecuteTime": {
     "end_time": "2024-01-11T16:10:01.970610100Z",
     "start_time": "2024-01-11T16:10:01.949189600Z"
    }
   },
   "id": "bed6ee6118392981",
   "execution_count": 526
  },
  {
   "cell_type": "code",
   "outputs": [],
   "source": [
    "# Deciding between grid and 1d chain topology\n",
    "my_topology = my_chain"
   ],
   "metadata": {
    "collapsed": false,
    "ExecuteTime": {
     "end_time": "2024-01-11T16:10:02.065457600Z",
     "start_time": "2024-01-11T16:10:02.046420500Z"
    }
   },
   "id": "319c444bfcf1a02",
   "execution_count": 527
  },
  {
   "cell_type": "code",
   "outputs": [
    {
     "name": "stdout",
     "output_type": "stream",
     "text": [
      "Min. cost portfolio (constrained subspace): 4.792675492871994\n",
      "Optimal portfolio state (constrained subspace) is: |010110>\n"
     ]
    }
   ],
   "source": [
    "# Generating random problem instance \n",
    "expected_returns, covariances = portfolio_metrics(n=N, seed=seed)\n",
    "\n",
    "# Retrieving C_min, C_max and corresponding states for original portfolio problem\n",
    "constrained_result, full_result, lmbda = min_cost_partition(nr_qubits=N,\n",
    "                                                            k=k,\n",
    "                                                            mu=expected_returns,\n",
    "                                                            sigma=covariances,\n",
    "                                                            alpha=alpha)\n",
    "\n",
    "portfolio_subspace_max_cost, portfolio_subspace_min_cost, portfolio_subspace_min_state = constrained_result['c_max'], constrained_result['c_min'], constrained_result['s']\n",
    "full_space_max_cost = full_result['c_max']\n",
    "portfolio_subspace_min_state_str = ''.join([str(_) for _ in portfolio_subspace_min_state])\n",
    "print(f\"Min. cost portfolio (constrained subspace): {portfolio_subspace_min_cost}\")\n",
    "print(\"Optimal portfolio state (constrained subspace) is: |\"+portfolio_subspace_min_state_str+\">\")"
   ],
   "metadata": {
    "collapsed": false,
    "ExecuteTime": {
     "end_time": "2024-01-11T16:10:02.270021700Z",
     "start_time": "2024-01-11T16:10:02.231866800Z"
    }
   },
   "id": "16bcf7c9de3c6655",
   "execution_count": 528
  },
  {
   "cell_type": "code",
   "outputs": [
    {
     "name": "stdout",
     "output_type": "stream",
     "text": [
      "Min. cost QUBO: 4.792675492871986\n",
      "Min. cost QUBO state is: |010110>\n"
     ]
    }
   ],
   "source": [
    "\n",
    "# Generating QUBO corresponding to current problem instance\n",
    "Q, offset = get_qubo(mu=expected_returns,\n",
    "                     sigma=covariances, \n",
    "                     alpha=alpha,\n",
    "                     lmbda=lmbda+1e-8, # Adding small constant purposely\n",
    "                     k=k)\n",
    "QUBO_limits = qubo_limits(Q=Q,offset=offset)\n",
    "qubo_min_cost, qubo_max_cost = QUBO_limits['c_min'], QUBO_limits['c_max']\n",
    "qubo_min_state, qubo_max_state = QUBO_limits['min_state'], QUBO_limits['max_state']\n",
    "check_qubo(QUBO_matrix=Q, QUBO_offset=offset, expected_returns=expected_returns, covariances=covariances, alpha=alpha, k=k)\n",
    "qubo_min_state_str = ''.join([str(_) for _ in qubo_min_state])\n",
    "print(f\"Min. cost QUBO: {qubo_min_cost}\")\n",
    "print(\"Min. cost QUBO state is: |\"+qubo_min_state_str+\">\")\n"
   ],
   "metadata": {
    "collapsed": false,
    "ExecuteTime": {
     "end_time": "2024-01-11T16:10:02.595934Z",
     "start_time": "2024-01-11T16:10:02.581763500Z"
    }
   },
   "id": "ef4d6155a3c6b460",
   "execution_count": 529
  },
  {
   "cell_type": "code",
   "outputs": [
    {
     "name": "stdout",
     "output_type": "stream",
     "text": [
      "Check that qubo min cost is same as portfolio min cost:\n"
     ]
    },
    {
     "data": {
      "text/plain": "(4.792675492871986, 4.792675492871994)"
     },
     "execution_count": 530,
     "metadata": {},
     "output_type": "execute_result"
    }
   ],
   "source": [
    "print(\"Check that qubo min cost is same as portfolio min cost:\")\n",
    "qubo_min_cost, portfolio_subspace_min_cost"
   ],
   "metadata": {
    "collapsed": false,
    "ExecuteTime": {
     "end_time": "2024-01-11T16:10:02.848231500Z",
     "start_time": "2024-01-11T16:10:02.825935100Z"
    }
   },
   "id": "291e5af3fdd6e066",
   "execution_count": 530
  },
  {
   "cell_type": "code",
   "outputs": [
    {
     "name": "stdout",
     "output_type": "stream",
     "text": [
      "Check that qubo max cost is at least portfolio max cost:\n"
     ]
    },
    {
     "data": {
      "text/plain": "(75.16958453646555, 11.185011781432737)"
     },
     "execution_count": 531,
     "metadata": {},
     "output_type": "execute_result"
    }
   ],
   "source": [
    "print(\"Check that qubo max cost is at least portfolio max cost:\")\n",
    "qubo_max_cost, portfolio_subspace_max_cost"
   ],
   "metadata": {
    "collapsed": false,
    "ExecuteTime": {
     "end_time": "2024-01-11T16:10:03.229822700Z",
     "start_time": "2024-01-11T16:10:03.164265300Z"
    }
   },
   "id": "4ba9bebcae238599",
   "execution_count": 531
  },
  {
   "cell_type": "code",
   "outputs": [],
   "source": [
    "# Generating instances of ansatz'\n",
    "CP_z_phase_ansatz = CP_QAOA(N_qubits=N,\n",
    "                 cardinality=k,\n",
    "                 layers=layers,\n",
    "                 topology=my_topology,\n",
    "                 QUBO_matrix=Q,\n",
    "                 with_next_nearest_neighbors=w_next_nearest_neighbors,\n",
    "                 with_z_phase=True)"
   ],
   "metadata": {
    "collapsed": false,
    "ExecuteTime": {
     "end_time": "2024-01-11T16:10:03.477331Z",
     "start_time": "2024-01-11T16:10:03.459632600Z"
    }
   },
   "id": "26733fd51d40fc40",
   "execution_count": 532
  },
  {
   "cell_type": "code",
   "outputs": [
    {
     "name": "stdout",
     "output_type": "stream",
     "text": [
      "CP+Z-PHASE: 19\n"
     ]
    }
   ],
   "source": [
    "# Choosing optimizer for scipy\n",
    "available_methods = ['COBYLA', 'Nelder-Mead']\n",
    "optimizer_method = available_methods[1]\n",
    "\n",
    "# Designing own convergence tol\n",
    "convergence_eps = 0.0005\n",
    "\n",
    "# Generating callback function for plotting\n",
    "CP_z_phase_costs = [] # Normalized costs\n",
    "CP_z_phase_probs = [] # probability of optimal state\n",
    "CP_z_phase_most_probables = []\n",
    "solver_costs=[]\n",
    "\n",
    "def CP_z_phase_callback_function(x):\n",
    "    _dict_ = CP_z_phase_ansatz.get_state_probabilities(flip_states=False)\n",
    "    CP_z_phase_most_probables.append(list(_dict_.keys())[np.argmax(list(_dict_.values()))])\n",
    "    # N.B. Normalizing w. respect to full space max cost\n",
    "    _cost_ = normalized_cost(result=_dict_,\n",
    "                             QUBO_matrix=Q,\n",
    "                             QUBO_offset=offset,\n",
    "                             max_cost=portfolio_subspace_max_cost, \n",
    "                             min_cost=qubo_min_cost)\n",
    "    if portfolio_subspace_min_state_str in list(_dict_.keys()):\n",
    "        CP_z_phase_probs.append(_dict_[portfolio_subspace_min_state_str])\n",
    "    else:\n",
    "        CP_z_phase_probs.append(0)\n",
    "    CP_z_phase_costs.append(_cost_)\n",
    "    \n",
    "    new_solver_cost = CP_z_phase_ansatz.get_cost(x)\n",
    "    if len(solver_costs) > 300:\n",
    "        solver_costs.append(new_solver_cost)\n",
    "        if np.std(solver_costs[-300:]) < convergence_eps:\n",
    "            raise Exception(\"Termination criteria met\")\n",
    "    else:\n",
    "        solver_costs.append(new_solver_cost)\n",
    "\n",
    "# Generating initial guess for rotation angles for CP_ansatz\n",
    "np.random.seed(0)\n",
    "theta_min, theta_max = -2*np.pi, 2*np.pi\n",
    "N_angles = layers * len(my_topology.get_NN_indices())\n",
    "if w_next_nearest_neighbors:\n",
    "    N_angles += layers * len(my_topology.get_NNN_indices())\n",
    "N_angles += layers * N # Because this is WITH Z-phase\n",
    "CP_z_phase_theta_i = np.random.uniform(low=theta_min, high=theta_max, size=N_angles)\n",
    "print(f\"CP+Z-PHASE: {len(CP_z_phase_theta_i)}\")\n",
    "# Saving initial cost\n",
    "solver_costs.append(CP_z_phase_ansatz.get_cost(CP_z_phase_theta_i))\n",
    "try:\n",
    "    # Performing optimization\n",
    "    CP_z_phase_res = sc.optimize.minimize(fun=CP_z_phase_ansatz.get_cost, x0=CP_z_phase_theta_i,\n",
    "                                          method=optimizer_method,\n",
    "                                          options={'disp': False, \n",
    "                                                   'maxiter': max_iter,\n",
    "                                                   'initial_simplex': np.vstack((np.zeros((1,N_angles)),np.diag([4*np.pi*(-1)**i for i in range(N_angles)]))),\n",
    "                                                   'adaptive':False},\n",
    "                                          callback=CP_z_phase_callback_function)\n",
    "except Exception as e:\n",
    "    if str(e) == \"Termination criteria met\":\n",
    "        print(\"Optimization stopped due to custom termination criteria.\")"
   ],
   "metadata": {
    "collapsed": false,
    "ExecuteTime": {
     "end_time": "2024-01-11T16:13:53.906853200Z",
     "start_time": "2024-01-11T16:13:40.772748900Z"
    }
   },
   "id": "4f5327c850c8b128",
   "execution_count": 537
  },
  {
   "cell_type": "code",
   "outputs": [
    {
     "data": {
      "text/plain": "<Figure size 500x300 with 1 Axes>",
      "image/png": "[encoded data removed]"
     },
     "metadata": {},
     "output_type": "display_data"
    }
   ],
   "source": [
    "# N.B. Because the normalization is done w. respect to the \"allowed states (w. k ones)\" QAOA has cost above 1.\n",
    "fig, ax = plt.subplots(1,1, figsize=(5,3))\n",
    "ax.plot([it for it in range(len(CP_z_phase_costs))], CP_z_phase_costs, label='normalized costs')\n",
    "ax.set_xlim(0,len(CP_z_phase_costs))\n",
    "ax.hlines(0,0,len(CP_z_phase_costs),lw=1,linestyles='dashed',colors='k')\n",
    "ax.legend(loc='upper right')\n",
    "plt.show()"
   ],
   "metadata": {
    "collapsed": false,
    "ExecuteTime": {
     "end_time": "2024-01-11T16:13:55.953208700Z",
     "start_time": "2024-01-11T16:13:55.862785200Z"
    }
   },
   "id": "12092d2db7cf4243",
   "execution_count": 538
  },
  {
   "cell_type": "code",
   "outputs": [
    {
     "data": {
      "text/plain": "array([[-6.28318531,  0.        ,  0.        ],\n       [ 0.        , -6.28318531,  0.        ],\n       [ 0.        ,  0.        , -6.28318531]])"
     },
     "execution_count": 504,
     "metadata": {},
     "output_type": "execute_result"
    }
   ],
   "source": [
    "np.diag([2*np.pi*(-1)**(2*i+1) for i in range(3)])"
   ],
   "metadata": {
    "collapsed": false,
    "ExecuteTime": {
     "end_time": "2024-01-11T16:02:18.971759Z",
     "start_time": "2024-01-11T16:02:18.961602900Z"
    }
   },
   "id": "715a43780fb342a",
   "execution_count": 504
  },
  {
   "cell_type": "code",
   "outputs": [
    {
     "data": {
      "text/plain": "('1010101001', '1010101001')"
     },
     "execution_count": 458,
     "metadata": {},
     "output_type": "execute_result"
    }
   ],
   "source": [
    "opt_state = CP_z_phase_most_probables[np.argmin(solver_costs)]\n",
    "opt_state, ''.join(str(q) for q in portfolio_subspace_min_state_str)"
   ],
   "metadata": {
    "collapsed": false,
    "ExecuteTime": {
     "end_time": "2024-01-11T15:43:29.117994Z",
     "start_time": "2024-01-11T15:43:29.094782Z"
    }
   },
   "id": "a31ccef08f3cd88c",
   "execution_count": 458
  },
  {
   "cell_type": "code",
   "outputs": [
    {
     "data": {
      "text/plain": "4.313062108042641e-15"
     },
     "execution_count": 459,
     "metadata": {},
     "output_type": "execute_result"
    }
   ],
   "source": [
    "found_cost = qubo_cost(np.array([float(_) for _ in opt_state]).astype(np.float64), Q) + offset\n",
    "abs(found_cost - portfolio_subspace_min_cost) / abs(portfolio_subspace_max_cost - portfolio_subspace_min_cost)"
   ],
   "metadata": {
    "collapsed": false,
    "ExecuteTime": {
     "end_time": "2024-01-11T15:43:29.762760400Z",
     "start_time": "2024-01-11T15:43:29.736059300Z"
    }
   },
   "id": "1c8026e48f194173",
   "execution_count": 459
  },
  {
   "cell_type": "code",
   "outputs": [],
   "source": [
    "max_iter = 10000\n",
    "\n",
    "sizes = [2,3,\n",
    "         4,5,\n",
    "         6,7,\n",
    "         8,9,\n",
    "         10]\n",
    "\n",
    "cardinalities = [1,1,\n",
    "                 2,2,\n",
    "                 3,3,\n",
    "                 4,4,\n",
    "                 5]\n",
    "\n",
    "layers = [1,1,1,\n",
    "          2,2,2,\n",
    "          3,3,3]\n",
    "\n",
    "initialization_strategies = [np.array([0,1]),\n",
    "                             np.array([0,1,0]),\n",
    "                             np.array([0,1,0,1]),\n",
    "                             np.array([0,1,0,1,0]),\n",
    "                             np.array([0,1,0,1,0,1]),\n",
    "                             np.array([0,1,0,1,0,1,0]),\n",
    "                             np.array([0,1,0,1,0,1,0,1]),\n",
    "                             np.array([0,1,0,1,0,1,0,1,0]),\n",
    "                             np.array([0,1,0,1,0,1,0,1,0,1])]\n",
    "\n"
   ],
   "metadata": {
    "collapsed": false,
    "ExecuteTime": {
     "end_time": "2024-01-11T15:40:39.642770300Z",
     "start_time": "2024-01-11T15:40:39.603731800Z"
    }
   },
   "id": "ef9435ef64fc795c",
   "execution_count": 437
  }
 ],
 "metadata": {
  "kernelspec": {
   "display_name": "Python 3",
   "language": "python",
   "name": "python3"
  },
  "language_info": {
   "codemirror_mode": {
    "name": "ipython",
    "version": 2
   },
   "file_extension": ".py",
   "mimetype": "text/x-python",
   "name": "python",
   "nbconvert_exporter": "python",
   "pygments_lexer": "ipython2",
   "version": "2.7.6"
  }
 },
 "nbformat": 4,
 "nbformat_minor": 5
}
