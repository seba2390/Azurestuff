{
 "cells": [
  {
   "cell_type": "code",
   "execution_count": 1,
   "id": "initial_id",
   "metadata": {
    "collapsed": true,
    "ExecuteTime": {
     "end_time": "2024-01-25T13:09:41.344811200Z",
     "start_time": "2024-01-25T13:09:38.764023700Z"
    }
   },
   "outputs": [],
   "source": [
    "import numpy as np\n",
    "import scipy as sc\n",
    "import matplotlib.pyplot as plt\n",
    "from qiskit import QuantumCircuit\n",
    "\n",
    "from src.CPQAOA import CP_QAOA\n",
    "from src.Grid import Grid\n",
    "from src.Chain import Chain\n",
    "from src.Tools import (portfolio_metrics, \n",
    "                       min_cost_partition, \n",
    "                       get_qubo, \n",
    "                       normalized_cost, \n",
    "                       qubo_limits, \n",
    "                       check_qubo,\n",
    "                       qubo_cost,\n",
    "                       partitioned_averages)"
   ]
  },
  {
   "cell_type": "code",
   "outputs": [
    {
     "name": "stdout",
     "output_type": "stream",
     "text": [
      " Qubit indices in chain: \n",
      " [0 1 2 3]\n",
      "\n",
      " Corresponding Nearest Neighbor index pairs: \n",
      " [(0, 1), (1, 2), (2, 3)]\n",
      "\n",
      " Corresponding Nearest Neighbor + Next Nearest index pairs: \n",
      " [(0, 1), (0, 2), (1, 2), (1, 3), (2, 3)]\n",
      "\n",
      " Initialization strategy is: \n",
      " [0 1 0 1]\n",
      "\n",
      " Corresponding indices is: \n",
      " [1, 3]\n"
     ]
    }
   ],
   "source": [
    "# Number of Qubits \n",
    "N=4\n",
    "# number of excitations\n",
    "k=2\n",
    "# RNG seed for reproducibility\n",
    "seed=2\n",
    "# alpha in: s^T*mu + alpha*(s^T*Covar*s)\n",
    "alpha=0.5\n",
    "# Nr. of layer repetitions\n",
    "layers=1\n",
    "# Maximal number of iterations for classical solver\n",
    "max_iter=100\n",
    "# Using next nearest neighbors (in 1D chain model)\n",
    "w_next_nearest_neighbors = False\n",
    "w_z_phase = False\n",
    "\n",
    "\n",
    "my_chain = Chain(N_qubits=N)\n",
    "print(f' Qubit indices in chain: \\n', my_chain.get_chain_indexing())\n",
    "print(f'\\n Corresponding Nearest Neighbor index pairs: \\n', my_chain.get_NN_indices())\n",
    "print(f'\\n Corresponding Nearest Neighbor + Next Nearest index pairs: \\n', my_chain.get_NNN_indices())\n",
    "init_strat = np.array([0,1,0,1])\n",
    "my_chain.set_initialization_strategy(strategy=init_strat)\n",
    "print(f'\\n Initialization strategy is: \\n', my_chain.get_initialization_strategy())\n",
    "print(f'\\n Corresponding indices is: \\n', my_chain.get_initialization_indices())\n",
    "\n",
    "\"\"\"my_grid = Grid(Rows=3,Cols=3)\n",
    "print(f' Qubit indices in grid: \\n', my_grid.get_grid_indexing())\n",
    "print(f'\\n Corresponding Nearest Neighbor index pairs: \\n', my_grid.get_NN_indices())\n",
    "print(f'\\n Corresponding Nearest Neighbor + Next Nearest index pairs: \\n', my_grid.get_NNN_indices())\n",
    "init_strat = np.array([[0,1,0],\n",
    "                       [1,0,1],\n",
    "                       [0,1,0]])\n",
    "my_grid.set_initialization_strategy(strategy=init_strat)\n",
    "print(f'\\n Initialization strategy is: \\n', my_grid.get_initialization_strategy())\n",
    "print(f'\\n Corresponding indices is: \\n', my_grid.get_initialization_indices())\"\"\"\n",
    "\n",
    "# Deciding between grid and 1d chain topology\n",
    "my_topology = my_chain"
   ],
   "metadata": {
    "collapsed": false,
    "ExecuteTime": {
     "end_time": "2024-01-25T13:09:41.362532700Z",
     "start_time": "2024-01-25T13:09:41.345918800Z"
    }
   },
   "id": "bed6ee6118392981",
   "execution_count": 2
  },
  {
   "cell_type": "code",
   "outputs": [
    {
     "name": "stdout",
     "output_type": "stream",
     "text": [
      "Min. cost portfolio (constrained subspace): 0.5651439009884551\n",
      "Optimal portfolio state (constrained subspace) is: |1010>\n",
      "Min. cost QUBO: 0.5651439009884558\n",
      "Min. cost QUBO state is: |1010>\n",
      "Check that qubo min cost is same as portfolio min cost:\n",
      "0.5651439009884558 0.5651439009884551\n",
      "Check that qubo max cost is at least portfolio max cost:\n",
      "7.545612763581863 1.7166535462089643\n"
     ]
    }
   ],
   "source": [
    "# Generating random problem instance \n",
    "expected_returns, covariances = portfolio_metrics(n=N, seed=seed)\n",
    "\n",
    "# Retrieving C_min, C_max and corresponding states for original portfolio problem\n",
    "constrained_result, full_result, lmbda = min_cost_partition(nr_qubits=N,\n",
    "                                                            k=k,\n",
    "                                                            mu=expected_returns,\n",
    "                                                            sigma=covariances,\n",
    "                                                            alpha=alpha)\n",
    "\n",
    "portfolio_subspace_max_cost, portfolio_subspace_min_cost, portfolio_subspace_min_state = constrained_result['c_max'], constrained_result['c_min'], constrained_result['s']\n",
    "full_space_max_cost = full_result['c_max']\n",
    "portfolio_subspace_min_state_str = ''.join([str(_) for _ in portfolio_subspace_min_state])\n",
    "print(f\"Min. cost portfolio (constrained subspace): {portfolio_subspace_min_cost}\")\n",
    "print(\"Optimal portfolio state (constrained subspace) is: |\"+portfolio_subspace_min_state_str+\">\")\n",
    "\n",
    "# Generating QUBO corresponding to current problem instance\n",
    "Q, offset = get_qubo(mu=expected_returns,\n",
    "                     sigma=covariances, \n",
    "                     alpha=alpha,\n",
    "                     lmbda=lmbda+1e-8, # Adding small constant purposely\n",
    "                     k=k)\n",
    "QUBO_limits = qubo_limits(Q=Q,offset=offset)\n",
    "qubo_min_cost, qubo_max_cost = QUBO_limits['c_min'], QUBO_limits['c_max']\n",
    "qubo_min_state, qubo_max_state = QUBO_limits['min_state'], QUBO_limits['max_state']\n",
    "check_qubo(QUBO_matrix=Q, QUBO_offset=offset, expected_returns=expected_returns, covariances=covariances, alpha=alpha, k=k)\n",
    "qubo_min_state_str = ''.join([str(_) for _ in qubo_min_state])\n",
    "print(f\"Min. cost QUBO: {qubo_min_cost}\")\n",
    "print(\"Min. cost QUBO state is: |\"+qubo_min_state_str+\">\")\n",
    "print(\"Check that qubo min cost is same as portfolio min cost:\")\n",
    "print(qubo_min_cost, portfolio_subspace_min_cost)\n",
    "print(\"Check that qubo max cost is at least portfolio max cost:\")\n",
    "print(qubo_max_cost, portfolio_subspace_max_cost)\n",
    "\n",
    "# Generating instances of ansatz'\n",
    "CP_z_phase_ansatz = CP_QAOA(N_qubits=N,\n",
    "                 cardinality=k,\n",
    "                 layers=layers,\n",
    "                 topology=my_topology,\n",
    "                 QUBO_matrix=Q,\n",
    "                 with_next_nearest_neighbors=w_next_nearest_neighbors,\n",
    "                 with_gradient=True,\n",
    "                 approximate_hamiltonian=False,\n",
    "                 with_z_phase=w_z_phase)"
   ],
   "metadata": {
    "collapsed": false,
    "ExecuteTime": {
     "end_time": "2024-01-25T13:09:41.514487900Z",
     "start_time": "2024-01-25T13:09:41.364645100Z"
    }
   },
   "id": "16bcf7c9de3c6655",
   "execution_count": 3
  },
  {
   "cell_type": "code",
   "outputs": [
    {
     "name": "stdout",
     "output_type": "stream",
     "text": [
      "CP+Z-PHASE: 3\n"
     ]
    }
   ],
   "source": [
    "# Choosing optimizer for scipy\n",
    "available_methods = ['COBYLA', 'Nelder-Mead', 'BFGS']\n",
    "optimizer_method = available_methods[2]\n",
    "\n",
    "# Generating callback function for plotting\n",
    "CP_z_phase_costs = [] # Normalized costs\n",
    "CP_z_phase_probs = [] # probability of optimal state\n",
    "CP_z_phase_finite_diff_grad = []\n",
    "CP_z_phase_pytorch_grad = []\n",
    "\n",
    "\n",
    "def CP_z_phase_callback_function(x):\n",
    "    _dict_ = CP_z_phase_ansatz.get_state_probabilities(flip_states=False)\n",
    "    # N.B. Normalizing w. respect to full space max cost\n",
    "    _cost_ = normalized_cost(result=_dict_,\n",
    "                             QUBO_matrix=Q,\n",
    "                             QUBO_offset=offset,\n",
    "                             max_cost=portfolio_subspace_max_cost, \n",
    "                             min_cost=qubo_min_cost)\n",
    "    if portfolio_subspace_min_state_str in list(_dict_.keys()):\n",
    "        CP_z_phase_probs.append(_dict_[portfolio_subspace_min_state_str])\n",
    "    else:\n",
    "        CP_z_phase_probs.append(0)\n",
    "    CP_z_phase_costs.append(_cost_)\n",
    "    CP_z_phase_finite_diff_grad.append(np.linalg.norm(two_point_gradient(x)))\n",
    "    CP_z_phase_pytorch_grad.append(np.linalg.norm(CP_z_phase_ansatz.get_gradient(x)))\n",
    "    \n",
    "def two_point_gradient(x, eps=1.49e-8):\n",
    "    grad = np.zeros_like(x)\n",
    "    for i in range(len(x)):\n",
    "        step = np.zeros_like(x)\n",
    "        step[i] = eps\n",
    "\n",
    "        x_forward = x + step\n",
    "        x_backward = x - step\n",
    "\n",
    "        f_forward = CP_z_phase_ansatz.get_cost(x_forward)\n",
    "        f_backward = CP_z_phase_ansatz.get_cost(x_backward)\n",
    "\n",
    "        grad[i] = (f_forward - f_backward) / (2 * eps)\n",
    "\n",
    "    return grad\n",
    "\n",
    "# Generating initial guess for rotation angles for CP_ansatz\n",
    "np.random.seed(seed)\n",
    "theta_min, theta_max = -2*np.pi, 2*np.pi\n",
    "N_angles = layers * len(my_topology.get_NN_indices())\n",
    "if w_next_nearest_neighbors:\n",
    "    N_angles = layers * len(my_topology.get_NNN_indices())\n",
    "if w_z_phase:\n",
    "    N_angles += N * layers\n",
    "CP_z_phase_theta_i = np.random.uniform(low=theta_min, high=theta_max, size=N_angles)\n",
    "print(f\"CP+Z-PHASE: {len(CP_z_phase_theta_i)}\")    "
   ],
   "metadata": {
    "collapsed": false,
    "ExecuteTime": {
     "end_time": "2024-01-25T13:09:41.551664900Z",
     "start_time": "2024-01-25T13:09:41.519700Z"
    }
   },
   "id": "a8d33e377b4e02d7",
   "execution_count": 4
  },
  {
   "cell_type": "code",
   "execution_count": 5,
   "outputs": [
    {
     "data": {
      "text/plain": "  message: Optimization terminated successfully.\n  success: True\n   status: 0\n      fun: -2.04392715735597\n        x: [-3.675e-01 -6.272e+00  6.605e-05]\n      nit: 12\n      jac: [-3.875e-07 -4.456e-06  8.941e-07]\n hess_inv: [[ 5.217e+01 -3.168e+00 -7.355e+01]\n            [-3.168e+00  5.184e-01  4.447e+00]\n            [-7.355e+01  4.447e+00  1.067e+02]]\n     nfev: 14\n     njev: 14"
     },
     "execution_count": 5,
     "metadata": {},
     "output_type": "execute_result"
    }
   ],
   "source": [
    "CP_z_phase_res = sc.optimize.minimize(fun=CP_z_phase_ansatz.get_cost, \n",
    "                                      x0=CP_z_phase_theta_i,\n",
    "                                      method=optimizer_method,\n",
    "                                      options={'disp': False, \n",
    "                                               'maxiter': max_iter},\n",
    "                                      jac=two_point_gradient,\n",
    "                                      callback=CP_z_phase_callback_function)\n",
    "CP_z_phase_res"
   ],
   "metadata": {
    "collapsed": false,
    "ExecuteTime": {
     "end_time": "2024-01-25T13:09:45.264641900Z",
     "start_time": "2024-01-25T13:09:41.532377700Z"
    }
   },
   "id": "74254aabb65de501"
  },
  {
   "cell_type": "code",
   "outputs": [
    {
     "name": "stdout",
     "output_type": "stream",
     "text": [
      "0.0 0.999999999932276\n"
     ]
    },
    {
     "data": {
      "text/plain": "<Figure size 500x500 with 1 Axes>",
      "image/png": "[encoded data removed]"
     },
     "metadata": {},
     "output_type": "display_data"
    }
   ],
   "source": [
    "# N.B. Because the normalization is done w. respect to the \"allowed states (w. k ones)\" QAOA has cost above 1.\n",
    "fig, ax = plt.subplots(1,1, figsize=(5,5))\n",
    "#ax.plot([it for it in range(len(CP_z_phase_costs))], CP_z_phase_costs, label='normalized costs')\n",
    "#ax.plot([it for it in range(len(CP_z_phase_probs))], CP_z_phase_probs, label='prop')\n",
    "ax.plot([it for it in range(len(CP_z_phase_pytorch_grad))], np.array(CP_z_phase_pytorch_grad), label='pytorch grad norm')\n",
    "ax.plot([it for it in range(len(CP_z_phase_finite_diff_grad))], np.array(CP_z_phase_finite_diff_grad), 'go', ms=4,label='finite diff grad norm')\n",
    "\n",
    "ax.set_xlim(0,len(CP_z_phase_costs))\n",
    "ax.hlines(0,0,len(CP_z_phase_costs),lw=1,linestyles='dashed',colors='k')\n",
    "ax.legend(loc='best')\n",
    "print(CP_z_phase_costs[-1],CP_z_phase_probs[-1])\n",
    "plt.show()"
   ],
   "metadata": {
    "collapsed": false,
    "ExecuteTime": {
     "end_time": "2024-01-25T13:09:45.383712700Z",
     "start_time": "2024-01-25T13:09:45.264641900Z"
    }
   },
   "id": "12092d2db7cf4243",
   "execution_count": 6
  },
  {
   "cell_type": "code",
   "outputs": [
    {
     "name": "stdout",
     "output_type": "stream",
     "text": [
      "[-3.87460384e-07 -4.45579442e-06  8.94139349e-07]\n"
     ]
    }
   ],
   "source": [
    "print(CP_z_phase_res.jac)"
   ],
   "metadata": {
    "collapsed": false,
    "ExecuteTime": {
     "end_time": "2024-01-25T13:09:45.450277500Z",
     "start_time": "2024-01-25T13:09:45.385964700Z"
    }
   },
   "id": "dc066de1f7f3e9cd",
   "execution_count": 7
  },
  {
   "cell_type": "code",
   "outputs": [
    {
     "name": "stdout",
     "output_type": "stream",
     "text": [
      "[-3.67493719e-01 -6.27243045e+00  6.60540905e-05]\n"
     ]
    }
   ],
   "source": [
    "theta_opt = CP_z_phase_res.x\n",
    "print(theta_opt)"
   ],
   "metadata": {
    "collapsed": false,
    "ExecuteTime": {
     "end_time": "2024-01-25T13:09:45.451382700Z",
     "start_time": "2024-01-25T13:09:45.401025500Z"
    }
   },
   "id": "279dc9d361340b98",
   "execution_count": 8
  },
  {
   "cell_type": "code",
   "execution_count": 9,
   "outputs": [],
   "source": [
    "THETAS = list(theta_opt)\n",
    "eps = 1e-6\n",
    "counter = 1\n",
    "facs = [float(i) for i in range(1,30)]\n",
    "saved = []\n",
    "for angle in THETAS:\n",
    "    angle_is_pi = False\n",
    "    for multiplicative_factor in facs:\n",
    "        for divisor in facs:\n",
    "            if np.abs(multiplicative_factor*np.pi/divisor-angle) <= eps and angle not in saved:\n",
    "                print(f'theta_{counter}: {angle} is approx.: {int(multiplicative_factor)}*pi/{int(divisor)}')     \n",
    "                counter += 1\n",
    "                saved.append(angle)\n",
    "                angle_is_pi = True\n",
    "            elif np.abs(-multiplicative_factor*np.pi/divisor-angle) <= eps and angle not in saved:\n",
    "                print(f'theta_{counter}: {angle} is approx.: -{int(multiplicative_factor)}*pi/{int(divisor)}')     \n",
    "                counter += 1\n",
    "                saved.append(angle)\n",
    "                angle_is_pi = True\n",
    "    if not angle_is_pi:\n",
    "        counter +=1"
   ],
   "metadata": {
    "collapsed": false,
    "ExecuteTime": {
     "end_time": "2024-01-25T13:09:45.473682Z",
     "start_time": "2024-01-25T13:09:45.416694400Z"
    }
   },
   "id": "fd2cfa49177eec93"
  },
  {
   "cell_type": "code",
   "execution_count": 10,
   "outputs": [],
   "source": [
    "# Generating instances of ansatz'\n",
    "CP_test_ansatz= CP_QAOA(N_qubits=N,\n",
    "                        cardinality=k,\n",
    "                        layers=layers,\n",
    "                        topology=my_topology,\n",
    "                        QUBO_matrix=Q,\n",
    "                        with_next_nearest_neighbors=True,\n",
    "                        with_gradient=True,\n",
    "                        with_z_phase=False)"
   ],
   "metadata": {
    "collapsed": false,
    "ExecuteTime": {
     "end_time": "2024-01-25T13:09:45.474915700Z",
     "start_time": "2024-01-25T13:09:45.429872900Z"
    }
   },
   "id": "d455a9053c1ac291"
  },
  {
   "cell_type": "code",
   "outputs": [],
   "source": [
    "rand_theta = np.random.uniform(-4*np.pi,4*np.pi, 13)"
   ],
   "metadata": {
    "collapsed": false,
    "ExecuteTime": {
     "end_time": "2024-01-25T13:09:45.475974500Z",
     "start_time": "2024-01-25T13:09:45.445981200Z"
    }
   },
   "id": "848f2ce34e884cc2",
   "execution_count": 11
  },
  {
   "cell_type": "code",
   "execution_count": 12,
   "outputs": [],
   "source": [
    "# populating things\n",
    "_ = CP_test_ansatz.get_cost(angles=rand_theta)"
   ],
   "metadata": {
    "collapsed": false,
    "ExecuteTime": {
     "end_time": "2024-01-25T13:09:45.491294500Z",
     "start_time": "2024-01-25T13:09:45.471056300Z"
    }
   },
   "id": "4f864fd076389a70"
  },
  {
   "cell_type": "code",
   "execution_count": 13,
   "outputs": [
    {
     "data": {
      "text/plain": "0.36363831159014964"
     },
     "execution_count": 13,
     "metadata": {},
     "output_type": "execute_result"
    }
   ],
   "source": [
    "np.linalg.norm(CP_test_ansatz.get_gradient(angles=rand_theta))"
   ],
   "metadata": {
    "collapsed": false,
    "ExecuteTime": {
     "end_time": "2024-01-25T13:09:45.537800200Z",
     "start_time": "2024-01-25T13:09:45.493434200Z"
    }
   },
   "id": "2b872847251e2a93"
  },
  {
   "cell_type": "code",
   "execution_count": 14,
   "outputs": [
    {
     "name": "stdout",
     "output_type": "stream",
     "text": [
      "[-0.12010554 -0.20200253  0.25562217  0.01721144 -0.10659986  0.\n",
      "  0.          0.          0.          0.          0.          0.\n",
      "  0.        ]\n"
     ]
    }
   ],
   "source": [
    "print(np.array(CP_test_ansatz.get_gradient(angles=rand_theta)).flatten())"
   ],
   "metadata": {
    "collapsed": false,
    "ExecuteTime": {
     "end_time": "2024-01-25T13:09:45.583773600Z",
     "start_time": "2024-01-25T13:09:45.539923300Z"
    }
   },
   "id": "6d46d8b2536fdc98"
  }
 ],
 "metadata": {
  "kernelspec": {
   "display_name": "Python 3",
   "language": "python",
   "name": "python3"
  },
  "language_info": {
   "codemirror_mode": {
    "name": "ipython",
    "version": 2
   },
   "file_extension": ".py",
   "mimetype": "text/x-python",
   "name": "python",
   "nbconvert_exporter": "python",
   "pygments_lexer": "ipython2",
   "version": "2.7.6"
  }
 },
 "nbformat": 4,
 "nbformat_minor": 5
}
