{
 "cells": [
  {
   "cell_type": "code",
   "execution_count": 62,
   "outputs": [],
   "source": [
    "import numpy as np\n",
    "import scipy as sc\n",
    "import matplotlib.pyplot as plt\n",
    "from tqdm import tqdm\n",
    "\n",
    "from src.CPQAOA import CP_QAOA\n",
    "from src.QAOA import QAOA\n",
    "from src.Grid import Grid\n",
    "from src.Tools import portfolio_metrics, min_cost_partition, get_qubo, normalized_cost"
   ],
   "metadata": {
    "collapsed": false,
    "ExecuteTime": {
     "end_time": "2023-12-26T18:20:52.605980Z",
     "start_time": "2023-12-26T18:20:52.601394Z"
    }
   },
   "id": "ce4dca13f367237d"
  },
  {
   "cell_type": "markdown",
   "source": [
    "# INITIAL TEST RUNS:"
   ],
   "metadata": {
    "collapsed": false
   },
   "id": "f164d71bc1861437"
  },
  {
   "cell_type": "code",
   "execution_count": 43,
   "id": "initial_id",
   "metadata": {
    "collapsed": true,
    "ExecuteTime": {
     "end_time": "2023-12-26T17:56:42.167035Z",
     "start_time": "2023-12-26T17:56:42.164917Z"
    }
   },
   "outputs": [],
   "source": [
    "# Number of Qubits \n",
    "N=9\n",
    "# Number of excitations\n",
    "k=4\n",
    "# RNG seed for reproducibility\n",
    "seed=0\n",
    "# alpha in: s^T*mu + alpha*(s^T*Covar*s)\n",
    "alpha=0.5\n",
    "# Nr. of layer repetitions\n",
    "layers=1\n",
    "# Maximal number of iterations for classical solver\n",
    "max_iter=500\n",
    "\n",
    "# Using grid Nearest neighbors\n",
    "w_grid = True\n",
    "# Using next nearest neighbors (in 1D chain model)\n",
    "w_next_nearest_neighbors = False\n",
    "# Distributing the 'k' excitations according to some strategy (other than just k first)\n",
    "w_strategy = True\n",
    "# Using extra z-phase term\n",
    "w_z_phase = False\n",
    "\n"
   ]
  },
  {
   "cell_type": "code",
   "execution_count": 44,
   "outputs": [
    {
     "name": "stdout",
     "output_type": "stream",
     "text": [
      " Qubit indices in grid: \n",
      " [[0 1 2]\n",
      " [3 4 5]\n",
      " [6 7 8]]\n",
      "\n",
      " Corresponding Nearest Neighbor index pairs: \n",
      " [(0, 3), (0, 1), (1, 4), (1, 2), (2, 5), (3, 6), (3, 4), (4, 7), (4, 5), (5, 8), (6, 7), (7, 8)]\n",
      "\n",
      " Initialization strategy is: \n",
      " [[0 1 0]\n",
      " [1 0 1]\n",
      " [0 1 0]]\n",
      "\n",
      " Corresponding indices is: \n",
      " [1, 3, 5, 7]\n"
     ]
    }
   ],
   "source": [
    "# Generating grid\n",
    "if w_grid:\n",
    "    my_grid = Grid(Rows=3, Cols=3)\n",
    "    print(f' Qubit indices in grid: \\n', my_grid.get_grid_indexing())\n",
    "    print(f'\\n Corresponding Nearest Neighbor index pairs: \\n', my_grid.get_NN_indices())\n",
    "    init_strat = np.array([[0,1,0],\n",
    "                           [1,0,1],\n",
    "                           [0,1,0]])\n",
    "    my_grid.set_initialization_strategy(strategy=init_strat)\n",
    "    print(f'\\n Initialization strategy is: \\n', my_grid.get_initialization_strategy())\n",
    "    print(f'\\n Corresponding indices is: \\n', my_grid.get_initialization_indices())\n",
    "    "
   ],
   "metadata": {
    "collapsed": false,
    "ExecuteTime": {
     "end_time": "2023-12-26T17:56:42.731185Z",
     "start_time": "2023-12-26T17:56:42.727936Z"
    }
   },
   "id": "813a7922c42148cf"
  },
  {
   "cell_type": "code",
   "execution_count": 45,
   "outputs": [
    {
     "name": "stdout",
     "output_type": "stream",
     "text": [
      "Optimal state is: |000011011>\n"
     ]
    }
   ],
   "source": [
    "# Generating random problem instance \n",
    "expected_returns, covariances = portfolio_metrics(n=N, seed=seed)\n",
    "\n",
    "# Retrieving C_min, C_max and corresponding states.\n",
    "constrained_result, full_result, lmbda = min_cost_partition(nr_qubits=N,\n",
    "                                                            k=k,\n",
    "                                                            mu=expected_returns,\n",
    "                                                            sigma=covariances,\n",
    "                                                            alpha=alpha)\n",
    "\n",
    "subspace_max_cost, min_cost, min_state = constrained_result['c_max'], constrained_result['c_min'], constrained_result['s']\n",
    "full_space_max_cost = full_result['c_max']\n",
    "\n",
    "min_state_str = ''.join([str(_) for _ in min_state])\n",
    "\n",
    "# Generating QUBO corresponding to current problem instance\n",
    "Q, offset = get_qubo(mu=expected_returns,\n",
    "                     sigma=covariances,\n",
    "                     alpha=alpha,\n",
    "                     lmbda=lmbda,\n",
    "                     k=k)\n",
    "print(\"Optimal state is: |\"+min_state_str+\">\")"
   ],
   "metadata": {
    "collapsed": false,
    "ExecuteTime": {
     "end_time": "2023-12-26T17:56:43.328562Z",
     "start_time": "2023-12-26T17:56:43.322122Z"
    }
   },
   "id": "474625bb9f710e43"
  },
  {
   "cell_type": "code",
   "execution_count": 46,
   "outputs": [],
   "source": [
    "# Generating instances of ansatz'\n",
    "CP_ansatz = CP_QAOA(N_qubits=N,\n",
    "                 cardinality=k,\n",
    "                 layers=layers,\n",
    "                 grid=my_grid if w_grid else None,\n",
    "                 QUBO_matrix=Q,\n",
    "                 with_next_nearest_neighbors=w_next_nearest_neighbors,\n",
    "                 with_z_phase=w_z_phase)\n",
    "\n",
    "NORMAL_ansatz = QAOA(N_qubits=N,\n",
    "                     layers=layers,\n",
    "                     QUBO_matrix=Q,\n",
    "                     QUBO_offset=offset)"
   ],
   "metadata": {
    "collapsed": false,
    "ExecuteTime": {
     "end_time": "2023-12-26T17:56:43.928620Z",
     "start_time": "2023-12-26T17:56:43.925087Z"
    }
   },
   "id": "c45d409d40b2d860"
  },
  {
   "cell_type": "code",
   "execution_count": 47,
   "outputs": [],
   "source": [
    "# Generating initial guess for rotation angles for CP_ansatz\n",
    "theta_min, theta_max = -2*np.pi, 2*np.pi\n",
    "if w_grid:\n",
    "    N_angles = layers * len(my_grid.get_NN_indices())\n",
    "else:\n",
    "    N_angles = layers * (N - 1) \n",
    "if w_next_nearest_neighbors:\n",
    "    N_angles += layers * (N - 2)\n",
    "if w_z_phase:\n",
    "    N_angles += layers * N\n",
    "CP_theta_i = np.random.uniform(low=theta_min, high=theta_max, size=N_angles)\n",
    "\n",
    "# Choosing optimizer for scipy\n",
    "available_methods = ['COBYLA', 'Nelder-Mead']\n",
    "optimizer_method = available_methods[0]\n",
    "\n",
    "# Generating callback function for plotting\n",
    "CP_costs = [] # Normalized costs\n",
    "CP_probs = [] # probability of optimal state\n",
    "def CP_callback_function(x):\n",
    "    _dict_ = CP_ansatz.get_state_probabilities(flip_states=False)\n",
    "    # N.B. Normalizing w. respect to full space max cost\n",
    "    _cost_ = normalized_cost(result=_dict_,\n",
    "                             QUBO_matrix=Q,\n",
    "                             QUBO_offset=offset,\n",
    "                             max_cost=full_space_max_cost, \n",
    "                             min_cost=min_cost)\n",
    "    if min_state_str in list(_dict_.keys()):\n",
    "        CP_probs.append(_dict_[min_state_str])\n",
    "    else:\n",
    "        CP_probs.append(0)\n",
    "    CP_costs.append(_cost_)\n",
    "\n",
    "\n",
    "# Performing optimization\n",
    "CP_res = sc.optimize.minimize(fun=CP_ansatz.get_cost, x0=CP_theta_i,\n",
    "                           method=optimizer_method,\n",
    "                           options={'disp': False, 'maxiter': max_iter},\n",
    "                           callback=CP_callback_function)\n",
    "\n",
    "\n",
    "# For normal QAOA w. need \"layers\" nr. of angles for both 'beta' and 'gamma'\n",
    "N_angles = 2 * layers \n",
    "NORMAL_theta_i = np.random.uniform(low=theta_min, high=theta_max, size=N_angles)\n",
    "\n",
    "# Generating callback function for plotting\n",
    "NORMAL_costs = [] # Normalized costs\n",
    "NORMAL_probs = [] # probability of optimal state\n",
    "\n",
    "def NORMAL_callback_function(x):\n",
    "    _dict_ = NORMAL_ansatz.get_state_probabilities(flip_states=False)\n",
    "    # N.B. Normalizing w. respect to full space max cost\n",
    "    _cost_ = normalized_cost(result=_dict_,\n",
    "                             QUBO_matrix=Q,\n",
    "                             QUBO_offset=offset,\n",
    "                             max_cost=full_space_max_cost, \n",
    "                             min_cost=min_cost)\n",
    "    if min_state_str in list(_dict_.keys()):\n",
    "        NORMAL_probs.append(_dict_[min_state_str])\n",
    "    else:\n",
    "        NORMAL_probs.append(0)\n",
    "    NORMAL_costs.append(_cost_)\n",
    "\n",
    "\n",
    "NORMAL_res = sc.optimize.minimize(fun=NORMAL_ansatz.get_cost, x0=NORMAL_theta_i,\n",
    "                           method=optimizer_method,\n",
    "                           options={'disp': False, 'maxiter': max_iter},\n",
    "                           callback=NORMAL_callback_function)"
   ],
   "metadata": {
    "collapsed": false,
    "ExecuteTime": {
     "end_time": "2023-12-26T17:56:50.880735Z",
     "start_time": "2023-12-26T17:56:47.181881Z"
    }
   },
   "id": "fedca24cf0005754"
  },
  {
   "cell_type": "code",
   "execution_count": 40,
   "outputs": [
    {
     "data": {
      "text/plain": "<Figure size 500x300 with 1 Axes>",
      "image/png": "[encoded data removed]"
     },
     "metadata": {},
     "output_type": "display_data"
    }
   ],
   "source": [
    "# N.B. Because the normalization is done w. respect to the \"allowed states (w. k ones)\" QAOA has cost above 1.\n",
    "fig, ax = plt.subplots(1,1, figsize=(5,3))\n",
    "ax.plot([it for it in range(len(CP_costs))], CP_costs, label='CP-VQA')\n",
    "ax.plot([it for it in range(len(NORMAL_costs))], NORMAL_costs, label='QAOA')\n",
    "ax.set_xlim(0,max(len(CP_costs),len(NORMAL_costs)))\n",
    "ax.set_ylim(-0.1,1.1)\n",
    "ax.hlines(0,0,max(len(CP_costs),len(NORMAL_costs)),lw=1,linestyles='dashed',colors='k')\n",
    "ax.legend(loc='upper right')\n",
    "plt.show()"
   ],
   "metadata": {
    "collapsed": false,
    "ExecuteTime": {
     "end_time": "2023-12-26T17:55:54.170167Z",
     "start_time": "2023-12-26T17:55:54.124853Z"
    }
   },
   "id": "c6f2deecd9afde3f"
  },
  {
   "cell_type": "code",
   "execution_count": 48,
   "outputs": [
    {
     "data": {
      "text/plain": "<Figure size 500x300 with 1 Axes>",
      "image/png": "[encoded data removed]"
     },
     "metadata": {},
     "output_type": "display_data"
    }
   ],
   "source": [
    "fig, ax = plt.subplots(1,1, figsize=(5,3))\n",
    "ax.plot([it for it in range(len(CP_probs))], CP_probs, label='CP-VQA')\n",
    "ax.plot([it for it in range(len(NORMAL_probs))], NORMAL_probs, label='QAOA')\n",
    "ax.set_xlim(0,max(len(CP_probs),len(NORMAL_probs)))\n",
    "#ax.set_ylim(-0.1,1.1)\n",
    "ax.hlines(0,0,max(len(CP_probs),len(NORMAL_probs)),lw=1,linestyles='dashed',colors='k')\n",
    "ax.legend(loc='upper right')\n",
    "plt.show()"
   ],
   "metadata": {
    "collapsed": false,
    "ExecuteTime": {
     "end_time": "2023-12-26T17:56:58.352151Z",
     "start_time": "2023-12-26T17:56:58.295661Z"
    }
   },
   "id": "53b73ea211e0e42b"
  },
  {
   "cell_type": "markdown",
   "source": [
    "# TRYING OVER MULTIPLE LAYERS (AVG. OVER MULTIPLE SEEDS):"
   ],
   "metadata": {
    "collapsed": false
   },
   "id": "d92768bb513e74df"
  },
  {
   "cell_type": "code",
   "execution_count": 130,
   "outputs": [],
   "source": [
    "def simulate(datapoint):\n",
    "    N,k,alpha,max_iter,w_grid,w_nnn,w_strategy,w_z_phase, init_strat, seed,N_layers = datapoint\n",
    "\n",
    "    # Generating grid\n",
    "    my_grid = Grid(Rows=3, Cols=3)\n",
    "    my_grid.set_initialization_strategy(strategy=init_strat)\n",
    "\n",
    "    # Generating random problem instance \n",
    "    expected_returns, covariances = portfolio_metrics(n=N, seed=seed)\n",
    "    \n",
    "    # Retrieving C_min, C_max and corresponding states.\n",
    "    constrained_result, full_result, lmbda = min_cost_partition(nr_qubits=N,\n",
    "                                                                k=k,\n",
    "                                                                mu=expected_returns,\n",
    "                                                                sigma=covariances,\n",
    "                                                                alpha=alpha)\n",
    "    \n",
    "    subspace_max_cost, min_cost, min_state = constrained_result['c_max'], constrained_result['c_min'], constrained_result['s']\n",
    "    full_space_max_cost = full_result['c_max']\n",
    "    \n",
    "    min_state_str = ''.join([str(_) for _ in min_state])\n",
    "    \n",
    "    # Generating QUBO corresponding to current problem instance\n",
    "    Q, offset = get_qubo(mu=expected_returns,\n",
    "                         sigma=covariances,\n",
    "                         alpha=alpha,\n",
    "                         lmbda=lmbda,\n",
    "                         k=k)\n",
    "    \n",
    "    # Defining method for scipy optimizer\n",
    "    optimizer_method = 'COBYLA'\n",
    "    \n",
    "    # Generating instances of ansatz'\n",
    "    CP_ansatz = CP_QAOA(N_qubits=N,\n",
    "                     cardinality=k,\n",
    "                     layers=N_layers,\n",
    "                     grid=my_grid if w_grid else None,\n",
    "                     QUBO_matrix=Q,\n",
    "                     with_next_nearest_neighbors=w_nnn,\n",
    "                     with_z_phase=w_z_phase)\n",
    "    \n",
    "    NORMAL_ansatz = QAOA(N_qubits=N,\n",
    "                         layers=N_layers,\n",
    "                         QUBO_matrix=Q,\n",
    "                         QUBO_offset=offset)\n",
    "    \n",
    "    # Generating initial guess for rotation angles for CP_ansatz\n",
    "    theta_min, theta_max = -2*np.pi, 2*np.pi\n",
    "    if w_grid:\n",
    "        N_angles = N_layers * len(my_grid.get_NN_indices())\n",
    "    else:\n",
    "        N_angles = N_layers * (N - 1) \n",
    "    if w_nnn:\n",
    "        N_angles += N_layers * (N - 2)\n",
    "    if w_z_phase:\n",
    "        N_angles += N_layers * N\n",
    "    CP_theta_i = np.random.uniform(low=theta_min, high=theta_max, size=N_angles)\n",
    "    \n",
    "    \n",
    "    # Generating callback function for plotting\n",
    "    CP_costs = [] # Normalized costs\n",
    "    CP_probs = [] # probability of optimal state\n",
    "    def CP_callback_function(x):\n",
    "        _dict_ = CP_ansatz.get_state_probabilities(flip_states=False)\n",
    "        # N.B. normalizing wrt. max cost of full space\n",
    "        _cost_ = normalized_cost(result=_dict_,\n",
    "                                 QUBO_matrix=Q,\n",
    "                                 QUBO_offset=offset,\n",
    "                                 max_cost=full_space_max_cost, \n",
    "                                 min_cost=min_cost)\n",
    "        assert _cost_ <= 1+1e-5, f'normalized cost over 1??'\n",
    "        if min_state_str in list(_dict_.keys()):\n",
    "            CP_probs.append(_dict_[min_state_str])\n",
    "        else:\n",
    "            CP_probs.append(0)\n",
    "        CP_costs.append(_cost_)\n",
    "\n",
    "    \n",
    "\n",
    "    # Performing optimization\n",
    "    CP_res = sc.optimize.minimize(fun=CP_ansatz.get_cost, x0=CP_theta_i,\n",
    "                               method=optimizer_method,\n",
    "                               options={'disp': False, 'maxiter': max_iter},\n",
    "                               callback=CP_callback_function)\n",
    "    \n",
    "    \n",
    "    # For normal QAOA w. need \"layers\" nr. of angles for both 'beta' and 'gamma'\n",
    "    N_angles = 2 * N_layers \n",
    "    NORMAL_theta_i = np.random.uniform(low=theta_min, high=theta_max, size=N_angles)\n",
    "    \n",
    "    # Generating callback function for plotting\n",
    "    NORMAL_costs = [] # Normalized costs\n",
    "    NORMAL_probs = [] # probability of optimal state\n",
    "    \n",
    "    def NORMAL_callback_function(x):\n",
    "        _dict_ = NORMAL_ansatz.get_state_probabilities(flip_states=False)\n",
    "        # N.B. normalizing wrt. max cost of full space\n",
    "        _cost_ = normalized_cost(result=_dict_,\n",
    "                                 QUBO_matrix=Q,\n",
    "                                 QUBO_offset=offset,\n",
    "                                 max_cost=full_space_max_cost, \n",
    "                                 min_cost=min_cost)\n",
    "        assert _cost_ <= 1+1e-5, f'normalized cost over 1??'\n",
    "        if min_state_str in list(_dict_.keys()):\n",
    "            NORMAL_probs.append(_dict_[min_state_str])\n",
    "        else:\n",
    "            NORMAL_probs.append(0)\n",
    "        NORMAL_costs.append(_cost_)\n",
    "    \n",
    "    \n",
    "    NORMAL_res = sc.optimize.minimize(fun=NORMAL_ansatz.get_cost, x0=NORMAL_theta_i,\n",
    "                               method=optimizer_method,\n",
    "                               options={'disp': False, 'maxiter': max_iter},\n",
    "                               callback=NORMAL_callback_function)\n",
    "    \n",
    "    return {'(N, k, alpha, max_iter, w_grid, w_nnn, w_strategy, w_z_phase, init_strat, seed, N_layers)': datapoint,\n",
    "            'CP_VQA': (CP_probs, CP_costs, CP_res),\n",
    "            'QAOA': (NORMAL_probs, NORMAL_costs, NORMAL_res)}\n"
   ],
   "metadata": {
    "collapsed": false,
    "ExecuteTime": {
     "end_time": "2023-12-26T19:57:42.290272Z",
     "start_time": "2023-12-26T19:57:42.283341Z"
    }
   },
   "id": "8387b23d233171a"
  },
  {
   "cell_type": "code",
   "execution_count": 131,
   "outputs": [
    {
     "name": "stdout",
     "output_type": "stream",
     "text": [
      "[Parallel(n_jobs=7)]: Using backend LokyBackend with 7 concurrent workers.\n"
     ]
    },
    {
     "name": "stderr",
     "output_type": "stream",
     "text": [
      "capi_return is NULL\n",
      "Call-back cb_callback_in__cobyla__user__routines failed.\n",
      "Fatal Python error: F2PySwapThreadLocalCallbackPtr: F2PySwapThreadLocalCallbackPtr: PyLong_AsVoidPtr failed\n",
      "Python runtime state: initialized\n",
      "Traceback (most recent call last):\n",
      "  File \"/Users/sebastianyde/miniforge3/lib/python3.10/site-packages/scipy/optimize/_cobyla_py.py\", line 290, in wrapped_callback\n",
      "    callback(np.copy(x))\n",
      "  File \"/var/folders/lf/g00xwz855rs9xhsrn28h139c0000gn/T/ipykernel_5666/1396428398.py\", line 103, in NORMAL_callback_function\n",
      "AssertionError: normalized cost over 1??\n",
      "\n",
      "Extension modules: numpy.core._multiarray_umath, numpy.core._multiarray_tests, numpy.linalg._umath_linalg, numpy.fft._pocketfft_internal, numpy.random._common, numpy.random.bit_generator, numpy.random._bounded_integers, numpy.random._mt19937, numpy.random.mtrand, numpy.random._philox, numpy.random._pcg64, numpy.random._sfc64, numpy.random._generator, lz4._version, lz4.frame._frame, psutil._psutil_osx, psutil._psutil_posix, scipy._lib._ccallback_c, scipy.sparse._sparsetools, _csparsetools, scipy.sparse._csparsetools, scipy.sparse.linalg._isolve._iterative, scipy.linalg._fblas, scipy.linalg._flapack, scipy.linalg.cython_lapack, scipy.linalg._cythonized_array_utils, scipy.linalg._solve_toeplitz, scipy.linalg._decomp_lu_cython, scipy.linalg._matfuncs_sqrtm_triu, scipy.linalg.cython_blas, scipy.linalg._matfuncs_expm, scipy.linalg._decomp_update, scipy.linalg._flinalg, scipy.sparse.linalg._dsolve._superlu, scipy.sparse.linalg._eigen.arpack._arpack, scipy.sparse.csgraph._tools, scipy.sparse.csgraph._shortest_path, scipy.sparse.csgraph._traversal, scipy.sparse.csgraph._min_spanning_tree, scipy.sparse.csgraph._flow, scipy.sparse.csgraph._matching, scipy.sparse.csgraph._reordering, scipy.optimize._minpack2, scipy.optimize._group_columns, scipy._lib.messagestream, scipy.optimize._trlib._trlib, scipy.optimize._lbfgsb, _moduleTNC, scipy.optimize._moduleTNC, scipy.optimize._cobyla, scipy.optimize._slsqp, scipy.optimize._minpack, scipy.optimize._lsq.givens_elimination, scipy.optimize._zeros, scipy.optimize.__nnls, scipy.optimize._highs.cython.src._highs_wrapper, scipy.optimize._highs._highs_wrapper, scipy.optimize._highs.cython.src._highs_constants, scipy.optimize._highs._highs_constants, scipy.linalg._interpolative, scipy.optimize._bglu_dense, scipy.optimize._lsap, scipy.spatial._ckdtree, scipy.spatial._qhull, scipy.spatial._voronoi, scipy.spatial._distance_wrap, scipy.spatial._hausdorff, scipy.special._ufuncs_cxx, scipy.special._ufuncs, scipy.special._specfun, scipy.special._comb, scipy.special._ellip_harm_2, scipy.spatial.transform._rotation, scipy.optimize._direct, yaml._yaml, numba.core.typeconv._typeconv, numba._helperlib, numba._dynfunc, numba._dispatcher, numba.core.runtime._nrt_python, numba.np.ufunc._internal, numba.experimental.jitclass._box, symengine.lib.symengine_wrapper, PIL._imaging, scipy.integrate._odepack, scipy.integrate._quadpack, scipy.integrate._vode, scipy.integrate._dop, scipy.integrate._lsoda, _cffi_backend (total: 90)\n"
     ]
    },
    {
     "ename": "TerminatedWorkerError",
     "evalue": "A worker process managed by the executor was unexpectedly terminated. This could be caused by a segmentation fault while calling the function or by an excessive memory usage causing the Operating System to kill the worker.\n\nThe exit codes of the workers are {SIGABRT(-6)}",
     "output_type": "error",
     "traceback": [
      "\u001B[0;31m---------------------------------------------------------------------------\u001B[0m",
      "\u001B[0;31mTerminatedWorkerError\u001B[0m                     Traceback (most recent call last)",
      "Cell \u001B[0;32mIn [131], line 39\u001B[0m\n\u001B[1;32m     36\u001B[0m         dp \u001B[38;5;241m=\u001B[39m (N,k,alpha,max_iter,w_grid,w_next_nearest_neighbors,w_strategy,w_z_phase, init_strat, seed,layer)\n\u001B[1;32m     37\u001B[0m         datapoints\u001B[38;5;241m.\u001B[39mappend(dp)\n\u001B[0;32m---> 39\u001B[0m r \u001B[38;5;241m=\u001B[39m \u001B[43mParallel\u001B[49m\u001B[43m(\u001B[49m\u001B[43mn_jobs\u001B[49m\u001B[38;5;241;43m=\u001B[39;49m\u001B[43mN_jobs\u001B[49m\u001B[43m,\u001B[49m\u001B[43m \u001B[49m\u001B[43mverbose\u001B[49m\u001B[38;5;241;43m=\u001B[39;49m\u001B[38;5;241;43m51\u001B[39;49m\u001B[43m,\u001B[49m\u001B[43m \u001B[49m\u001B[43mbackend\u001B[49m\u001B[38;5;241;43m=\u001B[39;49m\u001B[38;5;124;43m'\u001B[39;49m\u001B[38;5;124;43mloky\u001B[39;49m\u001B[38;5;124;43m'\u001B[39;49m\u001B[43m)\u001B[49m\u001B[43m(\u001B[49m\u001B[43mdelayed\u001B[49m\u001B[43m(\u001B[49m\u001B[43msimulate\u001B[49m\u001B[43m)\u001B[49m\u001B[43m(\u001B[49m\u001B[43mdatapoint\u001B[49m\u001B[43m)\u001B[49m\u001B[43m \u001B[49m\u001B[38;5;28;43;01mfor\u001B[39;49;00m\u001B[43m \u001B[49m\u001B[43mdatapoint\u001B[49m\u001B[43m \u001B[49m\u001B[38;5;129;43;01min\u001B[39;49;00m\u001B[43m \u001B[49m\u001B[43mdatapoints\u001B[49m\u001B[43m)\u001B[49m\n",
      "File \u001B[0;32m~/miniforge3/lib/python3.10/site-packages/joblib/parallel.py:1952\u001B[0m, in \u001B[0;36mParallel.__call__\u001B[0;34m(self, iterable)\u001B[0m\n\u001B[1;32m   1946\u001B[0m \u001B[38;5;66;03m# The first item from the output is blank, but it makes the interpreter\u001B[39;00m\n\u001B[1;32m   1947\u001B[0m \u001B[38;5;66;03m# progress until it enters the Try/Except block of the generator and\u001B[39;00m\n\u001B[1;32m   1948\u001B[0m \u001B[38;5;66;03m# reach the first `yield` statement. This starts the aynchronous\u001B[39;00m\n\u001B[1;32m   1949\u001B[0m \u001B[38;5;66;03m# dispatch of the tasks to the workers.\u001B[39;00m\n\u001B[1;32m   1950\u001B[0m \u001B[38;5;28mnext\u001B[39m(output)\n\u001B[0;32m-> 1952\u001B[0m \u001B[38;5;28;01mreturn\u001B[39;00m output \u001B[38;5;28;01mif\u001B[39;00m \u001B[38;5;28mself\u001B[39m\u001B[38;5;241m.\u001B[39mreturn_generator \u001B[38;5;28;01melse\u001B[39;00m \u001B[38;5;28;43mlist\u001B[39;49m\u001B[43m(\u001B[49m\u001B[43moutput\u001B[49m\u001B[43m)\u001B[49m\n",
      "File \u001B[0;32m~/miniforge3/lib/python3.10/site-packages/joblib/parallel.py:1595\u001B[0m, in \u001B[0;36mParallel._get_outputs\u001B[0;34m(self, iterator, pre_dispatch)\u001B[0m\n\u001B[1;32m   1592\u001B[0m     \u001B[38;5;28;01myield\u001B[39;00m\n\u001B[1;32m   1594\u001B[0m     \u001B[38;5;28;01mwith\u001B[39;00m \u001B[38;5;28mself\u001B[39m\u001B[38;5;241m.\u001B[39m_backend\u001B[38;5;241m.\u001B[39mretrieval_context():\n\u001B[0;32m-> 1595\u001B[0m         \u001B[38;5;28;01myield from\u001B[39;00m \u001B[38;5;28mself\u001B[39m\u001B[38;5;241m.\u001B[39m_retrieve()\n\u001B[1;32m   1597\u001B[0m \u001B[38;5;28;01mexcept\u001B[39;00m \u001B[38;5;167;01mGeneratorExit\u001B[39;00m:\n\u001B[1;32m   1598\u001B[0m     \u001B[38;5;66;03m# The generator has been garbage collected before being fully\u001B[39;00m\n\u001B[1;32m   1599\u001B[0m     \u001B[38;5;66;03m# consumed. This aborts the remaining tasks if possible and warn\u001B[39;00m\n\u001B[1;32m   1600\u001B[0m     \u001B[38;5;66;03m# the user if necessary.\u001B[39;00m\n\u001B[1;32m   1601\u001B[0m     \u001B[38;5;28mself\u001B[39m\u001B[38;5;241m.\u001B[39m_exception \u001B[38;5;241m=\u001B[39m \u001B[38;5;28;01mTrue\u001B[39;00m\n",
      "File \u001B[0;32m~/miniforge3/lib/python3.10/site-packages/joblib/parallel.py:1699\u001B[0m, in \u001B[0;36mParallel._retrieve\u001B[0;34m(self)\u001B[0m\n\u001B[1;32m   1692\u001B[0m \u001B[38;5;28;01mwhile\u001B[39;00m \u001B[38;5;28mself\u001B[39m\u001B[38;5;241m.\u001B[39m_wait_retrieval():\n\u001B[1;32m   1693\u001B[0m \n\u001B[1;32m   1694\u001B[0m     \u001B[38;5;66;03m# If the callback thread of a worker has signaled that its task\u001B[39;00m\n\u001B[1;32m   1695\u001B[0m     \u001B[38;5;66;03m# triggered an exception, or if the retrieval loop has raised an\u001B[39;00m\n\u001B[1;32m   1696\u001B[0m     \u001B[38;5;66;03m# exception (e.g. `GeneratorExit`), exit the loop and surface the\u001B[39;00m\n\u001B[1;32m   1697\u001B[0m     \u001B[38;5;66;03m# worker traceback.\u001B[39;00m\n\u001B[1;32m   1698\u001B[0m     \u001B[38;5;28;01mif\u001B[39;00m \u001B[38;5;28mself\u001B[39m\u001B[38;5;241m.\u001B[39m_aborting:\n\u001B[0;32m-> 1699\u001B[0m         \u001B[38;5;28;43mself\u001B[39;49m\u001B[38;5;241;43m.\u001B[39;49m\u001B[43m_raise_error_fast\u001B[49m\u001B[43m(\u001B[49m\u001B[43m)\u001B[49m\n\u001B[1;32m   1700\u001B[0m         \u001B[38;5;28;01mbreak\u001B[39;00m\n\u001B[1;32m   1702\u001B[0m     \u001B[38;5;66;03m# If the next job is not ready for retrieval yet, we just wait for\u001B[39;00m\n\u001B[1;32m   1703\u001B[0m     \u001B[38;5;66;03m# async callbacks to progress.\u001B[39;00m\n",
      "File \u001B[0;32m~/miniforge3/lib/python3.10/site-packages/joblib/parallel.py:1734\u001B[0m, in \u001B[0;36mParallel._raise_error_fast\u001B[0;34m(self)\u001B[0m\n\u001B[1;32m   1730\u001B[0m \u001B[38;5;66;03m# If this error job exists, immediatly raise the error by\u001B[39;00m\n\u001B[1;32m   1731\u001B[0m \u001B[38;5;66;03m# calling get_result. This job might not exists if abort has been\u001B[39;00m\n\u001B[1;32m   1732\u001B[0m \u001B[38;5;66;03m# called directly or if the generator is gc'ed.\u001B[39;00m\n\u001B[1;32m   1733\u001B[0m \u001B[38;5;28;01mif\u001B[39;00m error_job \u001B[38;5;129;01mis\u001B[39;00m \u001B[38;5;129;01mnot\u001B[39;00m \u001B[38;5;28;01mNone\u001B[39;00m:\n\u001B[0;32m-> 1734\u001B[0m     \u001B[43merror_job\u001B[49m\u001B[38;5;241;43m.\u001B[39;49m\u001B[43mget_result\u001B[49m\u001B[43m(\u001B[49m\u001B[38;5;28;43mself\u001B[39;49m\u001B[38;5;241;43m.\u001B[39;49m\u001B[43mtimeout\u001B[49m\u001B[43m)\u001B[49m\n",
      "File \u001B[0;32m~/miniforge3/lib/python3.10/site-packages/joblib/parallel.py:736\u001B[0m, in \u001B[0;36mBatchCompletionCallBack.get_result\u001B[0;34m(self, timeout)\u001B[0m\n\u001B[1;32m    730\u001B[0m backend \u001B[38;5;241m=\u001B[39m \u001B[38;5;28mself\u001B[39m\u001B[38;5;241m.\u001B[39mparallel\u001B[38;5;241m.\u001B[39m_backend\n\u001B[1;32m    732\u001B[0m \u001B[38;5;28;01mif\u001B[39;00m backend\u001B[38;5;241m.\u001B[39msupports_retrieve_callback:\n\u001B[1;32m    733\u001B[0m     \u001B[38;5;66;03m# We assume that the result has already been retrieved by the\u001B[39;00m\n\u001B[1;32m    734\u001B[0m     \u001B[38;5;66;03m# callback thread, and is stored internally. It's just waiting to\u001B[39;00m\n\u001B[1;32m    735\u001B[0m     \u001B[38;5;66;03m# be returned.\u001B[39;00m\n\u001B[0;32m--> 736\u001B[0m     \u001B[38;5;28;01mreturn\u001B[39;00m \u001B[38;5;28;43mself\u001B[39;49m\u001B[38;5;241;43m.\u001B[39;49m\u001B[43m_return_or_raise\u001B[49m\u001B[43m(\u001B[49m\u001B[43m)\u001B[49m\n\u001B[1;32m    738\u001B[0m \u001B[38;5;66;03m# For other backends, the main thread needs to run the retrieval step.\u001B[39;00m\n\u001B[1;32m    739\u001B[0m \u001B[38;5;28;01mtry\u001B[39;00m:\n",
      "File \u001B[0;32m~/miniforge3/lib/python3.10/site-packages/joblib/parallel.py:754\u001B[0m, in \u001B[0;36mBatchCompletionCallBack._return_or_raise\u001B[0;34m(self)\u001B[0m\n\u001B[1;32m    752\u001B[0m \u001B[38;5;28;01mtry\u001B[39;00m:\n\u001B[1;32m    753\u001B[0m     \u001B[38;5;28;01mif\u001B[39;00m \u001B[38;5;28mself\u001B[39m\u001B[38;5;241m.\u001B[39mstatus \u001B[38;5;241m==\u001B[39m TASK_ERROR:\n\u001B[0;32m--> 754\u001B[0m         \u001B[38;5;28;01mraise\u001B[39;00m \u001B[38;5;28mself\u001B[39m\u001B[38;5;241m.\u001B[39m_result\n\u001B[1;32m    755\u001B[0m     \u001B[38;5;28;01mreturn\u001B[39;00m \u001B[38;5;28mself\u001B[39m\u001B[38;5;241m.\u001B[39m_result\n\u001B[1;32m    756\u001B[0m \u001B[38;5;28;01mfinally\u001B[39;00m:\n",
      "\u001B[0;31mTerminatedWorkerError\u001B[0m: A worker process managed by the executor was unexpectedly terminated. This could be caused by a segmentation fault while calling the function or by an excessive memory usage causing the Operating System to kill the worker.\n\nThe exit codes of the workers are {SIGABRT(-6)}"
     ]
    }
   ],
   "source": [
    "import os\n",
    "from joblib import Parallel, delayed\n",
    "\n",
    "# Number of Qubits \n",
    "N=9\n",
    "# Number of excitations\n",
    "k=4\n",
    "# RNG seed for reproducibility\n",
    "seed=0\n",
    "# alpha in: s^T*mu + alpha*(s^T*Covar*s)\n",
    "alpha=0.5\n",
    "# Maximal number of iterations for classical solver\n",
    "max_iter=300\n",
    "\n",
    "# Using grid Nearest neighbors\n",
    "w_grid = True\n",
    "# Using next nearest neighbors (in 1D chain model)\n",
    "w_next_nearest_neighbors = False\n",
    "# Distributing the 'k' excitations according to some strategy (other than just k first)\n",
    "w_strategy = True\n",
    "# Using extra z-phase term\n",
    "w_z_phase = False\n",
    "# Initialization strategy\n",
    "init_strat = np.array([[0,1,0],\n",
    "                       [1,0,1],\n",
    "                       [0,1,0]])\n",
    "\n",
    "\n",
    "MAX_N_LAYERS = 4\n",
    "N_SEEDS = 10\n",
    "N_jobs = os.cpu_count()-1\n",
    "\n",
    "datapoints = []\n",
    "for seed in range(N_SEEDS):\n",
    "    for layer in range(1,MAX_N_LAYERS+1):\n",
    "        dp = (N,k,alpha,max_iter,w_grid,w_next_nearest_neighbors,w_strategy,w_z_phase, init_strat, seed,layer)\n",
    "        datapoints.append(dp)\n",
    "        \n",
    "r = Parallel(n_jobs=N_jobs, verbose=51, backend='loky')(delayed(simulate)(datapoint) for datapoint in datapoints)"
   ],
   "metadata": {
    "collapsed": false,
    "ExecuteTime": {
     "end_time": "2023-12-26T19:57:46.972809Z",
     "start_time": "2023-12-26T19:57:43.185642Z"
    }
   },
   "id": "860c3b9c1051b1de"
  },
  {
   "cell_type": "code",
   "execution_count": 128,
   "outputs": [],
   "source": [
    "result = {}\n",
    "for layer in range(1,MAX_N_LAYERS+1):\n",
    "    result[layer] = {}\n",
    "    result[layer]['CP_VQA'] = []\n",
    "    result[layer]['QAOA'] = []\n",
    "    \n",
    "for run in r:\n",
    "    layers = run['(N, k, alpha, max_iter, w_grid, w_nnn, w_strategy, w_z_phase, init_strat, seed, N_layers)'][-1]\n",
    "    CP_props, CP_costs = run['CP_VQA'][0], run['CP_VQA'][1]\n",
    "    result[layers]['CP_VQA'].append([CP_props[-1], CP_costs[-1]])\n",
    "    \n",
    "    NORMAL_props, NORMAL_costs = run['QAOA'][0], run['QAOA'][1]\n",
    "    result[layers]['QAOA'].append([NORMAL_props[-1], NORMAL_costs[-1]])\n",
    "\n",
    "CP_avgs, CP_std_devs = [], []\n",
    "NORMAL_avgs, NORMAL_std_devs = [], []\n",
    "for layer in range(1,MAX_N_LAYERS+1):\n",
    "    CP_avgs.append(np.mean(result[layer]['CP_VQA'], axis=0).tolist())\n",
    "    CP_std_devs.append(np.std(result[layer]['CP_VQA'], axis=0).tolist())\n",
    "    \n",
    "    NORMAL_avgs.append(np.mean(result[layer]['QAOA'], axis=0).tolist())\n",
    "    NORMAL_std_devs.append(np.std(result[layer]['QAOA'], axis=0).tolist())\n",
    "    \n",
    "CP_avgs, CP_std_devs = np.array(CP_avgs), np.array(CP_std_devs)\n",
    "NORMAL_avgs, NORMAL_std_devs = np.array(NORMAL_avgs), np.array(NORMAL_std_devs)"
   ],
   "metadata": {
    "collapsed": false,
    "ExecuteTime": {
     "end_time": "2023-12-26T19:56:17.299722Z",
     "start_time": "2023-12-26T19:56:17.296899Z"
    }
   },
   "id": "7312a6da73c2edef"
  },
  {
   "cell_type": "code",
   "execution_count": 129,
   "outputs": [
    {
     "data": {
      "text/plain": "<Figure size 1200x400 with 2 Axes>",
      "image/png": "[encoded data removed]"
     },
     "metadata": {},
     "output_type": "display_data"
    }
   ],
   "source": [
    "fig, ax = plt.subplots(1,2,figsize=(12,4))\n",
    "layers = [layer for layer in range(1,MAX_N_LAYERS+1)]\n",
    "ax[0].errorbar(layers, CP_avgs[:,0],yerr=CP_std_devs[:,0], capsize=3, label='CP_VQA')\n",
    "ax[0].errorbar(layers, NORMAL_avgs[:,0],yerr=NORMAL_std_devs[:,0], capsize=3, label='QAOA')\n",
    "ax[0].set_xticks(layers)\n",
    "ax[0].set_ylim(-0.2,1.2)\n",
    "ax[0].legend(loc='upper right')\n",
    "\n",
    "ax[1].errorbar(layers, CP_avgs[:,1],yerr=CP_std_devs[:,1], capsize=3, label='CP_VQA')\n",
    "ax[1].errorbar(layers, NORMAL_avgs[:,1],yerr=NORMAL_std_devs[:,1], capsize=3, label='QAOA')\n",
    "ax[1].set_xticks(layers)\n",
    "ax[1].set_ylim(-0.2,1.2)\n",
    "ax[1].legend(loc='upper right')\n",
    "\n",
    "plt.show()"
   ],
   "metadata": {
    "collapsed": false,
    "ExecuteTime": {
     "end_time": "2023-12-26T19:56:17.400719Z",
     "start_time": "2023-12-26T19:56:17.304146Z"
    }
   },
   "id": "5617fa5643e728d4"
  },
  {
   "cell_type": "code",
   "execution_count": null,
   "outputs": [],
   "source": [],
   "metadata": {
    "collapsed": false
   },
   "id": "d8227c0353ba9987"
  }
 ],
 "metadata": {
  "kernelspec": {
   "display_name": "Python 3",
   "language": "python",
   "name": "python3"
  },
  "language_info": {
   "codemirror_mode": {
    "name": "ipython",
    "version": 2
   },
   "file_extension": ".py",
   "mimetype": "text/x-python",
   "name": "python",
   "nbconvert_exporter": "python",
   "pygments_lexer": "ipython2",
   "version": "2.7.6"
  }
 },
 "nbformat": 4,
 "nbformat_minor": 5
}
