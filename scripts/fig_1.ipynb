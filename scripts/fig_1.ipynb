{
 "cells": [
  {
   "cell_type": "code",
   "execution_count": 1,
   "outputs": [],
   "source": [
    "import numpy as np\n",
    "import scipy as sc\n",
    "import matplotlib.pyplot as plt\n",
    "from tqdm import tqdm\n",
    "\n",
    "from src.CPQAOA import CP_QAOA\n",
    "from src.QAOA import QAOA\n",
    "from src.Grid import Grid\n",
    "from src.Tools import portfolio_metrics, min_cost_partition, get_qubo, normalized_cost"
   ],
   "metadata": {
    "collapsed": false,
    "ExecuteTime": {
     "end_time": "2023-12-26T15:09:23.830868Z",
     "start_time": "2023-12-26T15:09:22.958312Z"
    }
   },
   "id": "ce4dca13f367237d"
  },
  {
   "cell_type": "markdown",
   "source": [
    "# INITIAL TEST RUNS:"
   ],
   "metadata": {
    "collapsed": false
   },
   "id": "f164d71bc1861437"
  },
  {
   "cell_type": "code",
   "execution_count": 2,
   "id": "initial_id",
   "metadata": {
    "collapsed": true,
    "ExecuteTime": {
     "end_time": "2023-12-26T15:09:23.858871Z",
     "start_time": "2023-12-26T15:09:23.847803Z"
    }
   },
   "outputs": [],
   "source": [
    "# Number of Qubits \n",
    "N=12\n",
    "# Number of excitations\n",
    "k=6\n",
    "# RNG seed for reproducibility\n",
    "seed=0\n",
    "# alpha in: s^T*mu + alpha*(s^T*Covar*s)\n",
    "alpha=0.1\n",
    "# Nr. of layer repetitions\n",
    "layers=1\n",
    "# Maximal number of iterations for classical solver\n",
    "max_iter=125\n",
    "\n",
    "# Using grid Nearest neighbors\n",
    "w_grid = True\n",
    "# Using next nearest neighbors (in 1D chain model)\n",
    "w_next_nearest_neighbors = False\n",
    "# Distributing the 'k' excitations according to some strategy (other than just k first)\n",
    "w_strategy = True\n",
    "# Using extra z-phase term\n",
    "w_z_phase = False\n",
    "\n"
   ]
  },
  {
   "cell_type": "code",
   "execution_count": 3,
   "outputs": [
    {
     "name": "stdout",
     "output_type": "stream",
     "text": [
      " Qubit indices in grid: \n",
      " [[ 0  1  2  3]\n",
      " [ 4  5  6  7]\n",
      " [ 8  9 10 11]]\n",
      "\n",
      " Corresponding Nearest Neighbor index pairs: \n",
      " [(0, 4), (0, 1), (1, 5), (1, 2), (2, 6), (2, 3), (3, 7), (4, 8), (4, 5), (5, 9), (5, 6), (6, 10), (6, 7), (7, 11), (8, 9), (9, 10), (10, 11)]\n",
      "\n",
      " Initialization strategy is: \n",
      " [[0 1 0 1]\n",
      " [1 0 1 0]\n",
      " [0 1 0 1]]\n",
      "\n",
      " Corresponding indices is: \n",
      " [1, 3, 4, 6, 9, 11]\n"
     ]
    }
   ],
   "source": [
    "# Generating grid\n",
    "if w_grid:\n",
    "    my_grid = Grid(Rows=3, Cols=4)\n",
    "    print(f' Qubit indices in grid: \\n', my_grid.get_grid_indexing())\n",
    "    print(f'\\n Corresponding Nearest Neighbor index pairs: \\n', my_grid.get_NN_indices())\n",
    "    init_strat = np.array([[0,1,0,1],\n",
    "                           [1,0,1,0],\n",
    "                           [0,1,0,1]])\n",
    "    my_grid.set_initialization_strategy(strategy=init_strat)\n",
    "    print(f'\\n Initialization strategy is: \\n', my_grid.get_initialization_strategy())\n",
    "    print(f'\\n Corresponding indices is: \\n', my_grid.get_initialization_indices())\n",
    "    "
   ],
   "metadata": {
    "collapsed": false,
    "ExecuteTime": {
     "end_time": "2023-12-26T15:09:23.866868Z",
     "start_time": "2023-12-26T15:09:23.862284Z"
    }
   },
   "id": "813a7922c42148cf"
  },
  {
   "cell_type": "code",
   "execution_count": 4,
   "outputs": [
    {
     "name": "stdout",
     "output_type": "stream",
     "text": [
      "Optimal state is: |010111110000>\n"
     ]
    }
   ],
   "source": [
    "# Generating random problem instance \n",
    "expected_returns, covariances = portfolio_metrics(n=N, seed=seed)\n",
    "\n",
    "# Retrieving C_min, C_max and corresponding states.\n",
    "constrained_result, full_result, lmbda = min_cost_partition(nr_qubits=N,\n",
    "                                                            k=k,\n",
    "                                                            mu=expected_returns,\n",
    "                                                            sigma=covariances,\n",
    "                                                            alpha=alpha)\n",
    "\n",
    "max_cost, min_cost, min_state = constrained_result['c_max'], constrained_result['c_min'], constrained_result['s']\n",
    "min_state_str = ''.join([str(_) for _ in min_state])\n",
    "\n",
    "# Generating QUBO corresponding to current problem instance\n",
    "Q, offset = get_qubo(mu=expected_returns,\n",
    "                     sigma=covariances,\n",
    "                     alpha=alpha,\n",
    "                     lmbda=lmbda,\n",
    "                     k=k)\n",
    "print(\"Optimal state is: |\"+min_state_str+\">\")"
   ],
   "metadata": {
    "collapsed": false,
    "ExecuteTime": {
     "end_time": "2023-12-26T15:09:23.907055Z",
     "start_time": "2023-12-26T15:09:23.866990Z"
    }
   },
   "id": "474625bb9f710e43"
  },
  {
   "cell_type": "code",
   "execution_count": 5,
   "outputs": [],
   "source": [
    "# Generating instances of ansatz'\n",
    "CP_ansatz = CP_QAOA(N_qubits=N,\n",
    "                 cardinality=k,\n",
    "                 layers=layers,\n",
    "                 grid=my_grid if w_grid else None,\n",
    "                 QUBO_matrix=Q,\n",
    "                 with_next_nearest_neighbors=w_next_nearest_neighbors,\n",
    "                 with_z_phase=w_z_phase)\n",
    "\n",
    "NORMAL_ansatz = QAOA(N_qubits=N,\n",
    "                     layers=layers,\n",
    "                     QUBO_matrix=Q,\n",
    "                     QUBO_offset=offset)"
   ],
   "metadata": {
    "collapsed": false,
    "ExecuteTime": {
     "end_time": "2023-12-26T15:09:24.148067Z",
     "start_time": "2023-12-26T15:09:24.039450Z"
    }
   },
   "id": "c45d409d40b2d860"
  },
  {
   "cell_type": "code",
   "execution_count": 6,
   "outputs": [],
   "source": [
    "# Generating initial guess for rotation angles for CP_ansatz\n",
    "theta_min, theta_max = -2*np.pi, 2*np.pi\n",
    "if w_grid:\n",
    "    N_angles = layers * len(my_grid.get_NN_indices())\n",
    "else:\n",
    "    N_angles = layers * (N - 1) \n",
    "if w_next_nearest_neighbors:\n",
    "    N_angles += layers * (N - 2)\n",
    "if w_z_phase:\n",
    "    N_angles += layers * N\n",
    "CP_theta_i = np.random.uniform(low=theta_min, high=theta_max, size=N_angles)\n",
    "\n",
    "# Choosing optimizer for scipy\n",
    "available_methods = ['COBYLA', 'Nelder-Mead']\n",
    "optimizer_method = available_methods[0]\n",
    "\n",
    "# Generating callback function for plotting\n",
    "CP_costs = [] # Normalized costs\n",
    "CP_probs = [] # probability of optimal state\n",
    "def CP_callback_function(x):\n",
    "    _dict_ = CP_ansatz.get_state_probabilities(angles=x, flip_states=False)\n",
    "    _cost_ = normalized_cost(result=_dict_,\n",
    "                             QUBO_matrix=Q,\n",
    "                             QUBO_offset=offset,\n",
    "                             max_cost=max_cost, \n",
    "                             min_cost=min_cost)\n",
    "    if min_state_str in list(_dict_.keys()):\n",
    "        CP_probs.append(_dict_[min_state_str])\n",
    "    else:\n",
    "        CP_probs.append(0)\n",
    "    CP_costs.append(_cost_)\n",
    "\n",
    "\n",
    "# Performing optimization\n",
    "CP_res = sc.optimize.minimize(fun=CP_ansatz.get_cost, x0=CP_theta_i,\n",
    "                           method=optimizer_method,\n",
    "                           options={'disp': False, 'maxiter': max_iter},\n",
    "                           callback=CP_callback_function)\n",
    "\n",
    "\n",
    "# For normal QAOA w. need \"layers\" nr. of angles for both 'beta' and 'gamma'\n",
    "N_angles = 2 * layers \n",
    "NORMAL_theta_i = np.random.uniform(low=theta_min, high=theta_max, size=N_angles)\n",
    "\n",
    "# Generating callback function for plotting\n",
    "NORMAL_costs = [] # Normalized costs\n",
    "NORMAL_probs = [] # probability of optimal state\n",
    "\n",
    "def NORMAL_callback_function(x):\n",
    "    _dict_ = NORMAL_ansatz.get_state_probabilities(angles=x, flip_states=False)\n",
    "    _cost_ = normalized_cost(result=_dict_,\n",
    "                             QUBO_matrix=Q,\n",
    "                             QUBO_offset=offset,\n",
    "                             max_cost=max_cost, \n",
    "                             min_cost=min_cost)\n",
    "    if min_state_str in list(_dict_.keys()):\n",
    "        NORMAL_probs.append(_dict_[min_state_str])\n",
    "    else:\n",
    "        NORMAL_probs.append(0)\n",
    "    NORMAL_costs.append(_cost_)\n",
    "\n",
    "\n",
    "NORMAL_res = sc.optimize.minimize(fun=NORMAL_ansatz.get_cost, x0=NORMAL_theta_i,\n",
    "                           method=optimizer_method,\n",
    "                           options={'disp': False, 'maxiter': max_iter},\n",
    "                           callback=NORMAL_callback_function)"
   ],
   "metadata": {
    "collapsed": false,
    "ExecuteTime": {
     "end_time": "2023-12-26T15:09:33.968223Z",
     "start_time": "2023-12-26T15:09:24.446700Z"
    }
   },
   "id": "fedca24cf0005754"
  },
  {
   "cell_type": "code",
   "execution_count": 7,
   "outputs": [
    {
     "data": {
      "text/plain": "<Figure size 500x300 with 1 Axes>",
      "image/png": "[encoded data removed]"
     },
     "metadata": {},
     "output_type": "display_data"
    }
   ],
   "source": [
    "# N.B. Because the normalization is done w. respect to the \"allowed states (w. k ones)\" QAOA has cost above 1.\n",
    "fig, ax = plt.subplots(1,1, figsize=(5,3))\n",
    "ax.plot([it for it in range(len(CP_costs))], CP_costs, label='CP-VQA')\n",
    "ax.plot([it for it in range(len(NORMAL_costs))], NORMAL_costs, label='QAOA')\n",
    "ax.set_xlim(0,max(len(CP_costs),len(NORMAL_costs)))\n",
    "ax.set_ylim(-0.1,1.1)\n",
    "ax.hlines(0,0,max(len(CP_costs),len(NORMAL_costs)),lw=1,linestyles='dashed',colors='k')\n",
    "ax.legend(loc='upper right')\n",
    "plt.show()"
   ],
   "metadata": {
    "collapsed": false,
    "ExecuteTime": {
     "end_time": "2023-12-26T15:09:34.112966Z",
     "start_time": "2023-12-26T15:09:33.970156Z"
    }
   },
   "id": "c6f2deecd9afde3f"
  },
  {
   "cell_type": "code",
   "execution_count": 8,
   "outputs": [
    {
     "data": {
      "text/plain": "<Figure size 500x300 with 1 Axes>",
      "image/png": "[encoded data removed]"
     },
     "metadata": {},
     "output_type": "display_data"
    }
   ],
   "source": [
    "fig, ax = plt.subplots(1,1, figsize=(5,3))\n",
    "ax.plot([it for it in range(len(CP_probs))], CP_probs, label='CP-VQA')\n",
    "ax.plot([it for it in range(len(NORMAL_probs))], NORMAL_probs, label='QAOA')\n",
    "ax.set_xlim(0,max(len(CP_probs),len(NORMAL_probs)))\n",
    "#ax.set_ylim(-0.1,1.1)\n",
    "ax.hlines(0,0,max(len(CP_probs),len(NORMAL_probs)),lw=1,linestyles='dashed',colors='k')\n",
    "ax.legend(loc='upper right')\n",
    "plt.show()"
   ],
   "metadata": {
    "collapsed": false,
    "ExecuteTime": {
     "end_time": "2023-12-26T15:09:34.190768Z",
     "start_time": "2023-12-26T15:09:34.114272Z"
    }
   },
   "id": "53b73ea211e0e42b"
  },
  {
   "cell_type": "markdown",
   "source": [
    "# TRYING OVER MULTIPLE LAYERS (ONLY 1 SEED):"
   ],
   "metadata": {
    "collapsed": false
   },
   "id": "d92768bb513e74df"
  },
  {
   "cell_type": "code",
   "execution_count": null,
   "outputs": [
    {
     "name": "stdout",
     "output_type": "stream",
     "text": [
      " Qubit indices in grid: \n",
      " [[ 0  1  2  3]\n",
      " [ 4  5  6  7]\n",
      " [ 8  9 10 11]]\n",
      "\n",
      " Corresponding Nearest Neighbor index pairs: \n",
      " [(0, 4), (0, 1), (1, 5), (1, 2), (2, 6), (2, 3), (3, 7), (4, 8), (4, 5), (5, 9), (5, 6), (6, 10), (6, 7), (7, 11), (8, 9), (9, 10), (10, 11)]\n",
      "\n",
      " Initialization strategy is: \n",
      " [[0 1 0 1]\n",
      " [1 0 1 0]\n",
      " [0 1 0 1]]\n",
      "\n",
      " Corresponding indices is: \n",
      " [1, 3, 4, 6, 9, 11]\n",
      "Optimal state is: |110100000111>\n"
     ]
    },
    {
     "name": "stderr",
     "output_type": "stream",
     "text": [
      " 50%|█████     | 2/4 [00:40<00:44, 22.16s/it]"
     ]
    }
   ],
   "source": [
    "# Number of Qubits \n",
    "N=12\n",
    "# Number of excitations\n",
    "k=6\n",
    "# RNG seed for reproducibility\n",
    "seed=1\n",
    "# alpha in: s^T*mu + alpha*(s^T*Covar*s)\n",
    "alpha=0.1\n",
    "# Maximal number of iterations for classical solver\n",
    "max_iter=300\n",
    "\n",
    "# Using grid Nearest neighbors\n",
    "w_grid = True\n",
    "# Using next nearest neighbors (in 1D chain model)\n",
    "w_next_nearest_neighbors = False\n",
    "# Distributing the 'k' excitations according to some strategy (other than just k first)\n",
    "w_strategy = True\n",
    "# Using extra z-phase term\n",
    "w_z_phase = False\n",
    "\n",
    "# Generating grid\n",
    "if w_grid:\n",
    "    my_grid = Grid(Rows=3, Cols=4)\n",
    "    print(f' Qubit indices in grid: \\n', my_grid.get_grid_indexing())\n",
    "    print(f'\\n Corresponding Nearest Neighbor index pairs: \\n', my_grid.get_NN_indices())\n",
    "    init_strat = np.array([[0,1,0,1],\n",
    "                           [1,0,1,0],\n",
    "                           [0,1,0,1]])\n",
    "    my_grid.set_initialization_strategy(strategy=init_strat)\n",
    "    print(f'\\n Initialization strategy is: \\n', my_grid.get_initialization_strategy())\n",
    "    print(f'\\n Corresponding indices is: \\n', my_grid.get_initialization_indices())\n",
    "# Generating random problem instance \n",
    "expected_returns, covariances = portfolio_metrics(n=N, seed=seed)\n",
    "\n",
    "# Retrieving C_min, C_max and corresponding states.\n",
    "constrained_result, full_result, lmbda = min_cost_partition(nr_qubits=N,\n",
    "                                                            k=k,\n",
    "                                                            mu=expected_returns,\n",
    "                                                            sigma=covariances,\n",
    "                                                            alpha=alpha)\n",
    "\n",
    "max_cost, min_cost, min_state = constrained_result['c_max'], constrained_result['c_min'], constrained_result['s']\n",
    "min_state_str = ''.join([str(_) for _ in min_state])\n",
    "\n",
    "# Generating QUBO corresponding to current problem instance\n",
    "Q, offset = get_qubo(mu=expected_returns,\n",
    "                     sigma=covariances,\n",
    "                     alpha=alpha,\n",
    "                     lmbda=lmbda,\n",
    "                     k=k)\n",
    "print(\"Optimal state is: |\"+min_state_str+\">\")\n",
    "optimizer_method = 'COBYLA'\n",
    "\n",
    "\n",
    "MAX_NR_LAYERS = 4\n",
    "final_result = {}\n",
    "for layers in tqdm(range(1,MAX_NR_LAYERS+1)):\n",
    "    # Generating instances of ansatz'\n",
    "    CP_ansatz = CP_QAOA(N_qubits=N,\n",
    "                     cardinality=k,\n",
    "                     layers=layers,\n",
    "                     grid=my_grid if w_grid else None,\n",
    "                     QUBO_matrix=Q,\n",
    "                     with_next_nearest_neighbors=w_next_nearest_neighbors,\n",
    "                     with_z_phase=w_z_phase)\n",
    "    \n",
    "    NORMAL_ansatz = QAOA(N_qubits=N,\n",
    "                         layers=layers,\n",
    "                         QUBO_matrix=Q,\n",
    "                         QUBO_offset=offset)\n",
    "    \n",
    "    \n",
    "    \n",
    "    \n",
    "    final_result[layers] = {}\n",
    "    \n",
    "    # Generating initial guess for rotation angles for CP_ansatz\n",
    "    theta_min, theta_max = -2*np.pi, 2*np.pi\n",
    "    if w_grid:\n",
    "        N_angles = layers * len(my_grid.get_NN_indices())\n",
    "    else:\n",
    "        N_angles = layers * (N - 1) \n",
    "    if w_next_nearest_neighbors:\n",
    "        N_angles += layers * (N - 2)\n",
    "    if w_z_phase:\n",
    "        N_angles += layers * N\n",
    "    CP_theta_i = np.random.uniform(low=theta_min, high=theta_max, size=N_angles)\n",
    "    \n",
    "    \n",
    "    # Generating callback function for plotting\n",
    "    CP_costs = [] # Normalized costs\n",
    "    CP_probs = [] # probability of optimal state\n",
    "    def CP_callback_function(x):\n",
    "        _dict_ = CP_ansatz.get_state_probabilities(angles=x, flip_states=False)\n",
    "        _cost_ = normalized_cost(result=_dict_,\n",
    "                                 QUBO_matrix=Q,\n",
    "                                 QUBO_offset=offset,\n",
    "                                 max_cost=max_cost, \n",
    "                                 min_cost=min_cost)\n",
    "        if min_state_str in list(_dict_.keys()):\n",
    "            CP_probs.append(_dict_[min_state_str])\n",
    "        else:\n",
    "            CP_probs.append(0)\n",
    "        CP_costs.append(_cost_)\n",
    "\n",
    "    \n",
    "\n",
    "    # Performing optimization\n",
    "    CP_res = sc.optimize.minimize(fun=CP_ansatz.get_cost, x0=CP_theta_i,\n",
    "                               method=optimizer_method,\n",
    "                               options={'disp': False, 'maxiter': max_iter},\n",
    "                               callback=CP_callback_function)\n",
    "    final_result[layers]['CP_VQA'] = CP_probs\n",
    "    \n",
    "    \n",
    "    # For normal QAOA w. need \"layers\" nr. of angles for both 'beta' and 'gamma'\n",
    "    N_angles = 2 * layers \n",
    "    NORMAL_theta_i = np.random.uniform(low=theta_min, high=theta_max, size=N_angles)\n",
    "    \n",
    "    # Generating callback function for plotting\n",
    "    NORMAL_costs = [] # Normalized costs\n",
    "    NORMAL_probs = [] # probability of optimal state\n",
    "    \n",
    "    def NORMAL_callback_function(x):\n",
    "        _dict_ = NORMAL_ansatz.get_state_probabilities(angles=x, flip_states=False)\n",
    "        _cost_ = normalized_cost(result=_dict_,\n",
    "                                 QUBO_matrix=Q,\n",
    "                                 QUBO_offset=offset,\n",
    "                                 max_cost=max_cost, \n",
    "                                 min_cost=min_cost)\n",
    "        if min_state_str in list(_dict_.keys()):\n",
    "            NORMAL_probs.append(_dict_[min_state_str])\n",
    "        else:\n",
    "            NORMAL_probs.append(0)\n",
    "        NORMAL_costs.append(_cost_)\n",
    "    \n",
    "    \n",
    "    NORMAL_res = sc.optimize.minimize(fun=NORMAL_ansatz.get_cost, x0=NORMAL_theta_i,\n",
    "                               method=optimizer_method,\n",
    "                               options={'disp': False, 'maxiter': max_iter},\n",
    "                               callback=NORMAL_callback_function)\n",
    "    final_result[layers]['QAOA'] = NORMAL_probs\n",
    "\n",
    "\n"
   ],
   "metadata": {
    "collapsed": false,
    "is_executing": true,
    "ExecuteTime": {
     "start_time": "2023-12-26T15:09:34.462403Z"
    }
   },
   "id": "8387b23d233171a"
  },
  {
   "cell_type": "code",
   "execution_count": null,
   "outputs": [],
   "source": [],
   "metadata": {
    "collapsed": false
   },
   "id": "17681945f183dfe5"
  }
 ],
 "metadata": {
  "kernelspec": {
   "display_name": "Python 3",
   "language": "python",
   "name": "python3"
  },
  "language_info": {
   "codemirror_mode": {
    "name": "ipython",
    "version": 2
   },
   "file_extension": ".py",
   "mimetype": "text/x-python",
   "name": "python",
   "nbconvert_exporter": "python",
   "pygments_lexer": "ipython2",
   "version": "2.7.6"
  }
 },
 "nbformat": 4,
 "nbformat_minor": 5
}
