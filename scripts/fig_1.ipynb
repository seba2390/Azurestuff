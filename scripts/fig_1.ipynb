{
 "cells": [
  {
   "cell_type": "code",
   "execution_count": 39,
   "outputs": [],
   "source": [
    "import os\n",
    "from joblib import Parallel, delayed\n",
    "\n",
    "import numpy as np\n",
    "import scipy as sc\n",
    "import matplotlib.pyplot as plt\n",
    "from tqdm import tqdm\n",
    "\n",
    "from src.CPQAOA import CP_QAOA\n",
    "from src.QAOA import QAOA\n",
    "from src.Grid import Grid\n",
    "from src.Tools import portfolio_metrics, min_cost_partition, get_qubo, normalized_cost, qubo_limits, check_qubo"
   ],
   "metadata": {
    "collapsed": false,
    "ExecuteTime": {
     "end_time": "2023-12-27T18:32:12.827172Z",
     "start_time": "2023-12-27T18:32:12.813680Z"
    }
   },
   "id": "ce4dca13f367237d"
  },
  {
   "cell_type": "markdown",
   "source": [
    "# INITIAL TEST RUNS:"
   ],
   "metadata": {
    "collapsed": false
   },
   "id": "f164d71bc1861437"
  },
  {
   "cell_type": "code",
   "execution_count": 130,
   "id": "initial_id",
   "metadata": {
    "collapsed": true,
    "ExecuteTime": {
     "end_time": "2023-12-27T19:05:16.294027Z",
     "start_time": "2023-12-27T19:05:16.277498Z"
    }
   },
   "outputs": [],
   "source": [
    "# Number of Qubits \n",
    "N=12\n",
    "# Number of excitations\n",
    "k=6\n",
    "# RNG seed for reproducibility\n",
    "seed=1\n",
    "# alpha in: s^T*mu + alpha*(s^T*Covar*s)\n",
    "alpha=0.5\n",
    "# Nr. of layer repetitions\n",
    "layers=3\n",
    "# Maximal number of iterations for classical solver\n",
    "max_iter=1000\n",
    "\n",
    "# Using grid Nearest neighbors\n",
    "w_grid = True\n",
    "# Using next nearest neighbors (in 1D chain model)\n",
    "w_next_nearest_neighbors = False\n",
    "# Distributing the 'k' excitations according to some strategy (other than just k first)\n",
    "w_strategy = True\n",
    "# Using extra z-phase term\n",
    "w_z_phase = False\n",
    "\n"
   ]
  },
  {
   "cell_type": "code",
   "execution_count": 131,
   "outputs": [
    {
     "name": "stdout",
     "output_type": "stream",
     "text": [
      " Qubit indices in grid: \n",
      " [[ 0  1  2  3]\n",
      " [ 4  5  6  7]\n",
      " [ 8  9 10 11]]\n",
      "\n",
      " Corresponding Nearest Neighbor index pairs: \n",
      " [(0, 4), (0, 1), (1, 5), (1, 2), (2, 6), (2, 3), (3, 7), (4, 8), (4, 5), (5, 9), (5, 6), (6, 10), (6, 7), (7, 11), (8, 9), (9, 10), (10, 11)]\n",
      "\n",
      " Initialization strategy is: \n",
      " [[0 1 0 1]\n",
      " [1 0 1 0]\n",
      " [0 1 0 1]]\n",
      "\n",
      " Corresponding indices is: \n",
      " [1, 3, 4, 6, 9, 11]\n"
     ]
    }
   ],
   "source": [
    "# Generating grid\n",
    "if w_grid:\n",
    "    my_grid = Grid(Rows=3, Cols=4)\n",
    "    print(f' Qubit indices in grid: \\n', my_grid.get_grid_indexing())\n",
    "    print(f'\\n Corresponding Nearest Neighbor index pairs: \\n', my_grid.get_NN_indices())\n",
    "    init_strat = np.array([[0,1,0,1],\n",
    "                           [1,0,1,0],\n",
    "                           [0,1,0,1]])\n",
    "    my_grid.set_initialization_strategy(strategy=init_strat)\n",
    "    print(f'\\n Initialization strategy is: \\n', my_grid.get_initialization_strategy())\n",
    "    print(f'\\n Corresponding indices is: \\n', my_grid.get_initialization_indices())\n",
    "    "
   ],
   "metadata": {
    "collapsed": false,
    "ExecuteTime": {
     "end_time": "2023-12-27T19:05:16.507624Z",
     "start_time": "2023-12-27T19:05:16.502499Z"
    }
   },
   "id": "813a7922c42148cf"
  },
  {
   "cell_type": "code",
   "execution_count": 132,
   "outputs": [
    {
     "name": "stdout",
     "output_type": "stream",
     "text": [
      "Min. cost portfolio (constrained subspace): 38.34467168415999\n",
      "Optimal portfolio state (constrained subspace) is: |110100000111>\n"
     ]
    }
   ],
   "source": [
    "# Generating random problem instance \n",
    "expected_returns, covariances = portfolio_metrics(n=N, seed=seed)\n",
    "\n",
    "# Retrieving C_min, C_max and corresponding states for original portfolio problem\n",
    "constrained_result, full_result, lmbda = min_cost_partition(nr_qubits=N,\n",
    "                                                            k=k,\n",
    "                                                            mu=expected_returns,\n",
    "                                                            sigma=covariances,\n",
    "                                                            alpha=alpha)\n",
    "\n",
    "portfolio_subspace_max_cost, portfolio_subspace_min_cost, portfolio_subspace_min_state = constrained_result['c_max'], constrained_result['c_min'], constrained_result['s']\n",
    "full_space_max_cost = full_result['c_max']\n",
    "portfolio_subspace_min_state_str = ''.join([str(_) for _ in portfolio_subspace_min_state])\n",
    "print(f\"Min. cost portfolio (constrained subspace): {portfolio_subspace_min_cost}\")\n",
    "print(\"Optimal portfolio state (constrained subspace) is: |\"+portfolio_subspace_min_state_str+\">\")"
   ],
   "metadata": {
    "collapsed": false,
    "ExecuteTime": {
     "end_time": "2023-12-27T19:05:16.852223Z",
     "start_time": "2023-12-27T19:05:16.826010Z"
    }
   },
   "id": "50c5cf02edac5ff0"
  },
  {
   "cell_type": "code",
   "execution_count": 133,
   "outputs": [
    {
     "name": "stdout",
     "output_type": "stream",
     "text": [
      "Min. cost QUBO: 38.34467168415995\n",
      "Min. cost QUBO state is: |110100000111>\n"
     ]
    }
   ],
   "source": [
    "\n",
    "# Generating QUBO corresponding to current problem instance\n",
    "Q, offset = get_qubo(mu=expected_returns,\n",
    "                     sigma=covariances, \n",
    "                     alpha=alpha,\n",
    "                     lmbda=lmbda,\n",
    "                     k=k)\n",
    "QUBO_limits = qubo_limits(Q=Q,offset=offset)\n",
    "qubo_min_cost, qubo_max_cost = QUBO_limits['c_min'], QUBO_limits['c_max']\n",
    "qubo_min_state, qubo_max_state = QUBO_limits['min_state'], QUBO_limits['max_state']\n",
    "check_qubo(QUBO_matrix=Q, QUBO_offset=offset, expected_returns=expected_returns, covariances=covariances, alpha=alpha, k=k)\n",
    "qubo_min_state_str = ''.join([str(_) for _ in qubo_min_state])\n",
    "print(f\"Min. cost QUBO: {qubo_min_cost}\")\n",
    "print(\"Min. cost QUBO state is: |\"+qubo_min_state_str+\">\")\n"
   ],
   "metadata": {
    "collapsed": false,
    "ExecuteTime": {
     "end_time": "2023-12-27T19:05:17.471079Z",
     "start_time": "2023-12-27T19:05:17.373636Z"
    }
   },
   "id": "474625bb9f710e43"
  },
  {
   "cell_type": "code",
   "execution_count": 134,
   "outputs": [
    {
     "name": "stdout",
     "output_type": "stream",
     "text": [
      "Check that qubo min cost is same as portfolio min cost:\n"
     ]
    },
    {
     "data": {
      "text/plain": "(38.34467168415995, 38.34467168415999)"
     },
     "execution_count": 134,
     "metadata": {},
     "output_type": "execute_result"
    }
   ],
   "source": [
    "print(\"Check that qubo min cost is same as portfolio min cost:\")\n",
    "qubo_min_cost, portfolio_subspace_min_cost"
   ],
   "metadata": {
    "collapsed": false,
    "ExecuteTime": {
     "end_time": "2023-12-27T19:05:17.965880Z",
     "start_time": "2023-12-27T19:05:17.962291Z"
    }
   },
   "id": "8e50ad3e6d7d2ba1"
  },
  {
   "cell_type": "code",
   "execution_count": 135,
   "outputs": [
    {
     "name": "stdout",
     "output_type": "stream",
     "text": [
      "Check that qubo max cost is at least portfolio max cost:\n"
     ]
    },
    {
     "data": {
      "text/plain": "(1589.1346142059956, 69.42020191316345)"
     },
     "execution_count": 135,
     "metadata": {},
     "output_type": "execute_result"
    }
   ],
   "source": [
    "print(\"Check that qubo max cost is at least portfolio max cost:\")\n",
    "qubo_max_cost, portfolio_subspace_max_cost"
   ],
   "metadata": {
    "collapsed": false,
    "ExecuteTime": {
     "end_time": "2023-12-27T19:05:18.195862Z",
     "start_time": "2023-12-27T19:05:18.191160Z"
    }
   },
   "id": "dcc723c5e12aaee"
  },
  {
   "cell_type": "code",
   "execution_count": 136,
   "outputs": [],
   "source": [
    "# Generating instances of ansatz'\n",
    "CP_ansatz = CP_QAOA(N_qubits=N,\n",
    "                 cardinality=k,\n",
    "                 layers=layers,\n",
    "                 grid=my_grid if w_grid else None,\n",
    "                 QUBO_matrix=Q,\n",
    "                 with_next_nearest_neighbors=w_next_nearest_neighbors,\n",
    "                 with_z_phase=w_z_phase)\n",
    "\n",
    "NORMAL_ansatz = QAOA(N_qubits=N,\n",
    "                     layers=layers,\n",
    "                     QUBO_matrix=Q,\n",
    "                     QUBO_offset=offset)"
   ],
   "metadata": {
    "collapsed": false,
    "ExecuteTime": {
     "end_time": "2023-12-27T19:05:18.553488Z",
     "start_time": "2023-12-27T19:05:18.549879Z"
    }
   },
   "id": "c45d409d40b2d860"
  },
  {
   "cell_type": "code",
   "execution_count": 137,
   "outputs": [],
   "source": [
    "# Generating initial guess for rotation angles for CP_ansatz\n",
    "theta_min, theta_max = -2*np.pi, 2*np.pi\n",
    "if w_grid:\n",
    "    N_angles = layers * len(my_grid.get_NN_indices())\n",
    "else:\n",
    "    N_angles = layers * (N - 1) \n",
    "if w_next_nearest_neighbors:\n",
    "    N_angles += layers * (N - 2)\n",
    "if w_z_phase:\n",
    "    N_angles += layers * N\n",
    "CP_theta_i = np.random.uniform(low=theta_min, high=theta_max, size=N_angles)\n",
    "\n",
    "# Choosing optimizer for scipy\n",
    "available_methods = ['COBYLA', 'Nelder-Mead']\n",
    "optimizer_method = available_methods[0]\n",
    "\n",
    "# Generating callback function for plotting\n",
    "CP_costs = [] # Normalized costs\n",
    "CP_probs = [] # probability of optimal state\n",
    "def CP_callback_function(x):\n",
    "    _dict_ = CP_ansatz.get_state_probabilities(flip_states=False)\n",
    "    # N.B. Normalizing w. respect to full space max cost\n",
    "    _cost_ = normalized_cost(result=_dict_,\n",
    "                             QUBO_matrix=Q,\n",
    "                             QUBO_offset=offset,\n",
    "                             max_cost=qubo_max_cost, \n",
    "                             min_cost=qubo_min_cost)\n",
    "    if portfolio_subspace_min_state_str in list(_dict_.keys()):\n",
    "        CP_probs.append(_dict_[portfolio_subspace_min_state_str])\n",
    "    else:\n",
    "        CP_probs.append(0)\n",
    "    CP_costs.append(_cost_)\n",
    "\n",
    "\n",
    "# Performing optimization\n",
    "CP_res = sc.optimize.minimize(fun=CP_ansatz.get_cost, x0=CP_theta_i,\n",
    "                           method=optimizer_method,\n",
    "                           options={'disp': False, 'maxiter': max_iter},\n",
    "                           callback=CP_callback_function)\n",
    "\n",
    "\n",
    "# For normal QAOA w. need \"layers\" nr. of angles for both 'beta' and 'gamma'\n",
    "N_angles = 2 * layers \n",
    "NORMAL_theta_i = np.random.uniform(low=theta_min, high=theta_max, size=N_angles)\n",
    "\n",
    "# Generating callback function for plotting\n",
    "NORMAL_costs = [] # Normalized costs\n",
    "NORMAL_probs = [] # probability of optimal state\n",
    "\n",
    "def NORMAL_callback_function(x):\n",
    "    _dict_ = NORMAL_ansatz.get_state_probabilities(flip_states=False)\n",
    "    # N.B. Normalizing w. respect to full space max cost\n",
    "    _cost_ = normalized_cost(result=_dict_,\n",
    "                             QUBO_matrix=Q,\n",
    "                             QUBO_offset=offset,\n",
    "                             max_cost=qubo_max_cost, \n",
    "                             min_cost=qubo_min_cost)\n",
    "    if portfolio_subspace_min_state_str in list(_dict_.keys()):\n",
    "        NORMAL_probs.append(_dict_[portfolio_subspace_min_state_str])\n",
    "    else:\n",
    "        NORMAL_probs.append(0)\n",
    "    NORMAL_costs.append(_cost_)\n",
    "\n",
    "\n",
    "NORMAL_res = sc.optimize.minimize(fun=NORMAL_ansatz.get_cost, x0=NORMAL_theta_i,\n",
    "                           method=optimizer_method,\n",
    "                           options={'disp': False, 'maxiter': max_iter},\n",
    "                           callback=NORMAL_callback_function)"
   ],
   "metadata": {
    "collapsed": false,
    "ExecuteTime": {
     "end_time": "2023-12-27T19:06:20.404452Z",
     "start_time": "2023-12-27T19:05:18.995082Z"
    }
   },
   "id": "fedca24cf0005754"
  },
  {
   "cell_type": "code",
   "execution_count": 138,
   "outputs": [
    {
     "data": {
      "text/plain": "<Figure size 500x300 with 1 Axes>",
      "image/png": "[encoded data removed]"
     },
     "metadata": {},
     "output_type": "display_data"
    }
   ],
   "source": [
    "# N.B. Because the normalization is done w. respect to the \"allowed states (w. k ones)\" QAOA has cost above 1.\n",
    "fig, ax = plt.subplots(1,1, figsize=(5,3))\n",
    "ax.plot([it for it in range(len(CP_costs))], CP_costs, label='CP-VQA')\n",
    "ax.plot([it for it in range(len(NORMAL_costs))], NORMAL_costs, label='QAOA')\n",
    "ax.set_xlim(0,max(len(CP_costs),len(NORMAL_costs)))\n",
    "ax.set_ylim(-0.1,1.1)\n",
    "ax.hlines(0,0,max(len(CP_costs),len(NORMAL_costs)),lw=1,linestyles='dashed',colors='k')\n",
    "ax.legend(loc='upper right')\n",
    "plt.show()"
   ],
   "metadata": {
    "collapsed": false,
    "ExecuteTime": {
     "end_time": "2023-12-27T19:09:17.428897Z",
     "start_time": "2023-12-27T19:09:17.292443Z"
    }
   },
   "id": "c6f2deecd9afde3f"
  },
  {
   "cell_type": "code",
   "execution_count": 139,
   "outputs": [
    {
     "data": {
      "text/plain": "<Figure size 500x300 with 1 Axes>",
      "image/png": "[encoded data removed]"
     },
     "metadata": {},
     "output_type": "display_data"
    }
   ],
   "source": [
    "fig, ax = plt.subplots(1,1, figsize=(5,3))\n",
    "ax.plot([it for it in range(len(CP_probs))], CP_probs, label='CP-VQA')\n",
    "ax.plot([it for it in range(len(NORMAL_probs))], NORMAL_probs, label='QAOA')\n",
    "ax.set_xlim(0,max(len(CP_probs),len(NORMAL_probs)))\n",
    "#ax.set_ylim(-0.1,1.1)\n",
    "ax.hlines(0,0,max(len(CP_probs),len(NORMAL_probs)),lw=1,linestyles='dashed',colors='k')\n",
    "ax.legend(loc='upper right')\n",
    "plt.show()"
   ],
   "metadata": {
    "collapsed": false,
    "ExecuteTime": {
     "end_time": "2023-12-27T19:09:20.418252Z",
     "start_time": "2023-12-27T19:09:17.870508Z"
    }
   },
   "id": "53b73ea211e0e42b"
  },
  {
   "cell_type": "markdown",
   "source": [
    "# TRYING OVER MULTIPLE LAYERS (AVG. OVER MULTIPLE SEEDS):"
   ],
   "metadata": {
    "collapsed": false
   },
   "id": "d92768bb513e74df"
  },
  {
   "cell_type": "code",
   "execution_count": 140,
   "outputs": [],
   "source": [
    "def simulate(datapoint):\n",
    "    N,k,alpha,max_iter,w_grid,w_nnn,w_strategy,w_z_phase, init_strat, seed,N_layers = datapoint\n",
    "\n",
    "    # Generating grid\n",
    "    my_grid = Grid(Rows=3, Cols=4)\n",
    "    my_grid.set_initialization_strategy(strategy=init_strat)\n",
    "\n",
    "    # Generating random problem instance \n",
    "    expected_returns, covariances = portfolio_metrics(n=N, seed=seed)\n",
    "    \n",
    "    # Retrieving C_min, C_max and corresponding states.\n",
    "    constrained_result, full_result, lmbda = min_cost_partition(nr_qubits=N,\n",
    "                                                                k=k,\n",
    "                                                                mu=expected_returns,\n",
    "                                                                sigma=covariances,\n",
    "                                                                alpha=alpha)\n",
    "    \n",
    "    portfolio_subspace_max_cost, portfolio_subspace_min_cost, portfolio_subspace_min_state = constrained_result['c_max'], constrained_result['c_min'], constrained_result['s']\n",
    "    full_space_max_cost = full_result['c_max']\n",
    "    portfolio_subspace_min_state_str = ''.join([str(_) for _ in portfolio_subspace_min_state])\n",
    "    \n",
    "    # Generating QUBO corresponding to current problem instance\n",
    "    Q, offset = get_qubo(mu=expected_returns,\n",
    "                         sigma=covariances,\n",
    "                         alpha=alpha,\n",
    "                         lmbda=lmbda,\n",
    "                         k=k)\n",
    "    \n",
    "    QUBO_limits = qubo_limits(Q=Q,offset=offset)\n",
    "    qubo_min_cost, qubo_max_cost = QUBO_limits['c_min'], QUBO_limits['c_max']\n",
    "    qubo_min_state, qubo_max_state = QUBO_limits['min_state'], QUBO_limits['max_state']\n",
    "    check_qubo(QUBO_matrix=Q, QUBO_offset=offset, expected_returns=expected_returns, covariances=covariances, alpha=alpha, k=k)\n",
    "    qubo_min_state_str = ''.join([str(_) for _ in qubo_min_state])\n",
    "    \n",
    "    if not portfolio_subspace_min_state_str == qubo_min_state_str:\n",
    "        raise RuntimeError(f'portfolio_subspace_min_state_str: {portfolio_subspace_min_state_str}, qubo_min_state_str={qubo_min_state_str}')\n",
    "    \n",
    "    if not np.isclose(qubo_min_cost,portfolio_subspace_min_cost):\n",
    "        raise RuntimeError(f'Min. cost of qubo is: {qubo_min_cost}, but min. cost of constrained portfolio is: {portfolio_subspace_min_cost}.')\n",
    "    \n",
    "    if not qubo_max_cost >= portfolio_subspace_max_cost:\n",
    "        raise RuntimeError(f'Max. cost of qubo: {qubo_max_cost}, max. cost of portfolio subspace: {portfolio_subspace_max_cost} (should be qubo max. >= constrained portfolio max)')\n",
    "    \n",
    "    # Defining method for scipy optimizer\n",
    "    optimizer_method = 'COBYLA'\n",
    "    \n",
    "    # Generating instances of ansatz'\n",
    "    CP_ansatz = CP_QAOA(N_qubits=N,\n",
    "                     cardinality=k,\n",
    "                     layers=N_layers,\n",
    "                     grid=my_grid if w_grid else None,\n",
    "                     QUBO_matrix=Q,\n",
    "                     with_next_nearest_neighbors=w_nnn,\n",
    "                     with_z_phase=w_z_phase)\n",
    "    \n",
    "    NORMAL_ansatz = QAOA(N_qubits=N,\n",
    "                         layers=N_layers,\n",
    "                         QUBO_matrix=Q,\n",
    "                         QUBO_offset=offset)\n",
    "    \n",
    "    # Generating initial guess for rotation angles for CP_ansatz\n",
    "    theta_min, theta_max = -2*np.pi, 2*np.pi\n",
    "    if w_grid:\n",
    "        N_angles = N_layers * len(my_grid.get_NN_indices())\n",
    "    else:\n",
    "        N_angles = N_layers * (N - 1) \n",
    "    if w_nnn:\n",
    "        N_angles += N_layers * (N - 2)\n",
    "    if w_z_phase:\n",
    "        N_angles += N_layers * N\n",
    "    CP_theta_i = np.random.uniform(low=theta_min, high=theta_max, size=N_angles)\n",
    "    \n",
    "    \n",
    "    # Generating callback function for plotting\n",
    "    CP_costs = [] # Normalized costs\n",
    "    CP_probs = [] # probability of optimal state\n",
    "    def CP_callback_function(x):\n",
    "        _dict_ = CP_ansatz.get_state_probabilities(flip_states=False)\n",
    "        # N.B. normalizing wrt. max cost of full space\n",
    "        _cost_ = normalized_cost(result=_dict_,\n",
    "                                 QUBO_matrix=Q,\n",
    "                                 QUBO_offset=offset,\n",
    "                                 max_cost=portfolio_subspace_max_cost, \n",
    "                                 min_cost=qubo_min_cost)\n",
    "        if portfolio_subspace_min_state_str in list(_dict_.keys()):\n",
    "            CP_probs.append(_dict_[portfolio_subspace_min_state_str])\n",
    "        else:\n",
    "            CP_probs.append(0)\n",
    "        CP_costs.append(_cost_)\n",
    "\n",
    "    \n",
    "\n",
    "    # Performing optimization\n",
    "    CP_res = sc.optimize.minimize(fun=CP_ansatz.get_cost, x0=CP_theta_i,\n",
    "                               method=optimizer_method,\n",
    "                               options={'disp': False, 'maxiter': max_iter},\n",
    "                               callback=CP_callback_function)\n",
    "    \n",
    "    \n",
    "    # For normal QAOA w. need \"layers\" nr. of angles for both 'beta' and 'gamma'\n",
    "    N_angles = 2 * N_layers \n",
    "    NORMAL_theta_i = np.random.uniform(low=theta_min, high=theta_max, size=N_angles)\n",
    "    \n",
    "    # Generating callback function for plotting\n",
    "    NORMAL_costs = [] # Normalized costs\n",
    "    NORMAL_probs = [] # probability of optimal state\n",
    "    \n",
    "    def NORMAL_callback_function(x):\n",
    "        _dict_ = NORMAL_ansatz.get_state_probabilities(flip_states=False)\n",
    "        # N.B. normalizing wrt. max cost of full space\n",
    "        _cost_ = normalized_cost(result=_dict_,\n",
    "                                 QUBO_matrix=Q,\n",
    "                                 QUBO_offset=offset,\n",
    "                                 max_cost=portfolio_subspace_max_cost, \n",
    "                                 min_cost=qubo_min_cost)\n",
    "        if portfolio_subspace_min_state_str in list(_dict_.keys()):\n",
    "            NORMAL_probs.append(_dict_[portfolio_subspace_min_state_str])\n",
    "        else:\n",
    "            NORMAL_probs.append(0)\n",
    "        NORMAL_costs.append(_cost_)\n",
    "    \n",
    "    \n",
    "    NORMAL_res = sc.optimize.minimize(fun=NORMAL_ansatz.get_cost, x0=NORMAL_theta_i,\n",
    "                               method=optimizer_method,\n",
    "                               options={'disp': False, 'maxiter': max_iter},\n",
    "                               callback=NORMAL_callback_function)\n",
    "    \n",
    "    return {'(N, k, alpha, max_iter, w_grid, w_nnn, w_strategy, w_z_phase, init_strat, seed, N_layers)': datapoint,\n",
    "            'CP_VQA': (CP_probs, CP_costs, CP_res),\n",
    "            'QAOA': (NORMAL_probs, NORMAL_costs, NORMAL_res)}\n"
   ],
   "metadata": {
    "collapsed": false,
    "ExecuteTime": {
     "end_time": "2023-12-27T19:10:52.595777Z",
     "start_time": "2023-12-27T19:10:52.585122Z"
    }
   },
   "id": "8387b23d233171a"
  },
  {
   "cell_type": "code",
   "execution_count": 19,
   "outputs": [
    {
     "name": "stdout",
     "output_type": "stream",
     "text": [
      "[Parallel(n_jobs=7)]: Using backend LokyBackend with 7 concurrent workers.\n",
      "[Parallel(n_jobs=7)]: Done   1 tasks      | elapsed:    5.4s\n",
      "[Parallel(n_jobs=7)]: Done   2 tasks      | elapsed:    6.8s\n",
      "[Parallel(n_jobs=7)]: Done   3 tasks      | elapsed:    9.9s\n",
      "[Parallel(n_jobs=7)]: Done   4 tasks      | elapsed:   12.2s\n",
      "[Parallel(n_jobs=7)]: Done   5 tasks      | elapsed:   18.4s\n",
      "[Parallel(n_jobs=7)]: Done   6 tasks      | elapsed:   20.2s\n",
      "[Parallel(n_jobs=7)]: Done   7 tasks      | elapsed:   23.2s\n",
      "[Parallel(n_jobs=7)]: Done   8 tasks      | elapsed:   25.7s\n",
      "[Parallel(n_jobs=7)]: Done   9 tasks      | elapsed:   26.7s\n",
      "[Parallel(n_jobs=7)]: Done  10 tasks      | elapsed:   29.1s\n",
      "[Parallel(n_jobs=7)]: Done  11 tasks      | elapsed:   30.6s\n",
      "[Parallel(n_jobs=7)]: Done  12 tasks      | elapsed:   34.4s\n",
      "[Parallel(n_jobs=7)]: Done  13 tasks      | elapsed:   37.5s\n",
      "[Parallel(n_jobs=7)]: Done  14 tasks      | elapsed:   38.4s\n",
      "[Parallel(n_jobs=7)]: Done  15 tasks      | elapsed:   41.1s\n",
      "[Parallel(n_jobs=7)]: Done  16 tasks      | elapsed:   47.4s\n",
      "[Parallel(n_jobs=7)]: Done  17 tasks      | elapsed:   49.8s\n",
      "[Parallel(n_jobs=7)]: Done  18 tasks      | elapsed:   51.3s\n",
      "[Parallel(n_jobs=7)]: Done  19 tasks      | elapsed:   52.6s\n",
      "[Parallel(n_jobs=7)]: Done  20 tasks      | elapsed:   54.8s\n",
      "[Parallel(n_jobs=7)]: Done  21 tasks      | elapsed:   58.9s\n",
      "[Parallel(n_jobs=7)]: Done  22 tasks      | elapsed:   59.8s\n",
      "[Parallel(n_jobs=7)]: Done  23 tasks      | elapsed:  1.1min\n",
      "[Parallel(n_jobs=7)]: Done  24 tasks      | elapsed:  1.1min\n",
      "[Parallel(n_jobs=7)]: Done  25 tasks      | elapsed:  1.1min\n",
      "[Parallel(n_jobs=7)]: Done  26 tasks      | elapsed:  1.2min\n",
      "[Parallel(n_jobs=7)]: Done  27 tasks      | elapsed:  1.2min\n",
      "[Parallel(n_jobs=7)]: Done  28 tasks      | elapsed:  1.3min\n",
      "[Parallel(n_jobs=7)]: Done  29 tasks      | elapsed:  1.4min\n",
      "[Parallel(n_jobs=7)]: Done  30 tasks      | elapsed:  1.4min\n",
      "[Parallel(n_jobs=7)]: Done  31 tasks      | elapsed:  1.4min\n",
      "[Parallel(n_jobs=7)]: Done  32 tasks      | elapsed:  1.4min\n",
      "[Parallel(n_jobs=7)]: Done  33 tasks      | elapsed:  1.4min\n",
      "[Parallel(n_jobs=7)]: Done  34 tasks      | elapsed:  1.6min\n",
      "[Parallel(n_jobs=7)]: Done  35 tasks      | elapsed:  1.6min\n",
      "[Parallel(n_jobs=7)]: Done  36 tasks      | elapsed:  1.6min\n",
      "[Parallel(n_jobs=7)]: Done  37 tasks      | elapsed:  1.7min\n",
      "[Parallel(n_jobs=7)]: Done  38 tasks      | elapsed:  1.7min\n",
      "[Parallel(n_jobs=7)]: Done  39 tasks      | elapsed:  1.8min\n",
      "[Parallel(n_jobs=7)]: Done  40 tasks      | elapsed:  1.8min\n",
      "[Parallel(n_jobs=7)]: Done  41 tasks      | elapsed:  1.9min\n",
      "[Parallel(n_jobs=7)]: Done  42 tasks      | elapsed:  1.9min\n",
      "[Parallel(n_jobs=7)]: Done  43 tasks      | elapsed:  1.9min\n",
      "[Parallel(n_jobs=7)]: Done  44 tasks      | elapsed:  1.9min\n",
      "[Parallel(n_jobs=7)]: Done  45 tasks      | elapsed:  2.0min\n",
      "[Parallel(n_jobs=7)]: Done  46 tasks      | elapsed:  2.1min\n",
      "[Parallel(n_jobs=7)]: Done  47 tasks      | elapsed:  2.1min\n",
      "[Parallel(n_jobs=7)]: Done  48 tasks      | elapsed:  2.2min\n",
      "[Parallel(n_jobs=7)]: Done  49 tasks      | elapsed:  2.2min\n",
      "[Parallel(n_jobs=7)]: Done  50 tasks      | elapsed:  2.3min\n",
      "[Parallel(n_jobs=7)]: Done  51 tasks      | elapsed:  2.4min\n",
      "[Parallel(n_jobs=7)]: Done  52 tasks      | elapsed:  2.4min\n",
      "[Parallel(n_jobs=7)]: Done  53 tasks      | elapsed:  2.5min\n",
      "[Parallel(n_jobs=7)]: Done  54 tasks      | elapsed:  2.5min\n",
      "[Parallel(n_jobs=7)]: Done  55 tasks      | elapsed:  2.5min\n",
      "[Parallel(n_jobs=7)]: Done  56 tasks      | elapsed:  2.6min\n",
      "[Parallel(n_jobs=7)]: Done  57 tasks      | elapsed:  2.6min\n",
      "[Parallel(n_jobs=7)]: Done  58 tasks      | elapsed:  2.7min\n",
      "[Parallel(n_jobs=7)]: Done  59 tasks      | elapsed:  2.7min\n",
      "[Parallel(n_jobs=7)]: Done  60 tasks      | elapsed:  2.8min\n",
      "[Parallel(n_jobs=7)]: Done  61 tasks      | elapsed:  2.8min\n",
      "[Parallel(n_jobs=7)]: Done  62 tasks      | elapsed:  2.8min\n",
      "[Parallel(n_jobs=7)]: Done  63 tasks      | elapsed:  2.9min\n",
      "[Parallel(n_jobs=7)]: Done  64 tasks      | elapsed:  3.0min\n",
      "[Parallel(n_jobs=7)]: Done  65 tasks      | elapsed:  3.0min\n",
      "[Parallel(n_jobs=7)]: Done  66 tasks      | elapsed:  3.0min\n",
      "[Parallel(n_jobs=7)]: Done  67 tasks      | elapsed:  3.1min\n",
      "[Parallel(n_jobs=7)]: Done  68 tasks      | elapsed:  3.1min\n",
      "[Parallel(n_jobs=7)]: Done  69 tasks      | elapsed:  3.2min\n",
      "[Parallel(n_jobs=7)]: Done  70 tasks      | elapsed:  3.2min\n",
      "[Parallel(n_jobs=7)]: Done  71 tasks      | elapsed:  3.2min\n",
      "[Parallel(n_jobs=7)]: Done  72 tasks      | elapsed:  3.2min\n",
      "[Parallel(n_jobs=7)]: Done  73 tasks      | elapsed:  3.3min\n",
      "[Parallel(n_jobs=7)]: Done  74 tasks      | elapsed:  3.4min\n",
      "[Parallel(n_jobs=7)]: Done  75 tasks      | elapsed:  3.4min\n",
      "[Parallel(n_jobs=7)]: Done  76 tasks      | elapsed:  3.5min\n",
      "[Parallel(n_jobs=7)]: Done  77 tasks      | elapsed:  3.5min\n",
      "[Parallel(n_jobs=7)]: Done  78 tasks      | elapsed:  3.6min\n",
      "[Parallel(n_jobs=7)]: Done  79 tasks      | elapsed:  3.6min\n",
      "[Parallel(n_jobs=7)]: Done  80 tasks      | elapsed:  3.7min\n",
      "[Parallel(n_jobs=7)]: Done  81 tasks      | elapsed:  3.7min\n",
      "[Parallel(n_jobs=7)]: Done  82 tasks      | elapsed:  3.7min\n",
      "[Parallel(n_jobs=7)]: Done  83 tasks      | elapsed:  3.8min\n",
      "[Parallel(n_jobs=7)]: Done  84 tasks      | elapsed:  3.8min\n",
      "[Parallel(n_jobs=7)]: Done  85 tasks      | elapsed:  3.9min\n",
      "[Parallel(n_jobs=7)]: Done  86 tasks      | elapsed:  3.9min\n",
      "[Parallel(n_jobs=7)]: Done  87 tasks      | elapsed:  3.9min\n",
      "[Parallel(n_jobs=7)]: Done  88 tasks      | elapsed:  4.0min\n",
      "[Parallel(n_jobs=7)]: Done  89 tasks      | elapsed:  4.0min\n",
      "[Parallel(n_jobs=7)]: Done  90 tasks      | elapsed:  4.0min\n",
      "[Parallel(n_jobs=7)]: Done  91 tasks      | elapsed:  4.1min\n",
      "[Parallel(n_jobs=7)]: Done  92 tasks      | elapsed:  4.1min\n",
      "[Parallel(n_jobs=7)]: Done  93 tasks      | elapsed:  4.2min\n",
      "[Parallel(n_jobs=7)]: Done  94 tasks      | elapsed:  4.3min\n",
      "[Parallel(n_jobs=7)]: Done  95 tasks      | elapsed:  4.3min\n",
      "[Parallel(n_jobs=7)]: Done  96 tasks      | elapsed:  4.3min\n",
      "[Parallel(n_jobs=7)]: Done  97 tasks      | elapsed:  4.3min\n",
      "[Parallel(n_jobs=7)]: Done  98 tasks      | elapsed:  4.4min\n",
      "[Parallel(n_jobs=7)]: Done  99 tasks      | elapsed:  4.4min\n",
      "[Parallel(n_jobs=7)]: Done 100 tasks      | elapsed:  4.5min\n",
      "[Parallel(n_jobs=7)]: Done 101 tasks      | elapsed:  4.5min\n",
      "[Parallel(n_jobs=7)]: Done 102 tasks      | elapsed:  4.6min\n",
      "[Parallel(n_jobs=7)]: Done 103 tasks      | elapsed:  4.6min\n",
      "[Parallel(n_jobs=7)]: Done 104 tasks      | elapsed:  4.7min\n",
      "[Parallel(n_jobs=7)]: Done 105 tasks      | elapsed:  4.8min\n",
      "[Parallel(n_jobs=7)]: Done 106 tasks      | elapsed:  4.8min\n",
      "[Parallel(n_jobs=7)]: Done 107 tasks      | elapsed:  4.9min\n",
      "[Parallel(n_jobs=7)]: Done 108 tasks      | elapsed:  4.9min\n",
      "[Parallel(n_jobs=7)]: Done 109 tasks      | elapsed:  4.9min\n",
      "[Parallel(n_jobs=7)]: Done 110 tasks      | elapsed:  4.9min\n",
      "[Parallel(n_jobs=7)]: Done 111 tasks      | elapsed:  5.0min\n",
      "[Parallel(n_jobs=7)]: Done 112 tasks      | elapsed:  5.0min\n",
      "[Parallel(n_jobs=7)]: Done 113 tasks      | elapsed:  5.0min\n",
      "[Parallel(n_jobs=7)]: Done 114 tasks      | elapsed:  5.1min\n",
      "[Parallel(n_jobs=7)]: Done 115 tasks      | elapsed:  5.2min\n",
      "[Parallel(n_jobs=7)]: Done 116 tasks      | elapsed:  5.2min\n",
      "[Parallel(n_jobs=7)]: Done 117 tasks      | elapsed:  5.3min\n",
      "[Parallel(n_jobs=7)]: Done 118 tasks      | elapsed:  5.3min\n",
      "[Parallel(n_jobs=7)]: Done 119 tasks      | elapsed:  5.4min\n",
      "[Parallel(n_jobs=7)]: Done 120 tasks      | elapsed:  5.4min\n",
      "[Parallel(n_jobs=7)]: Done 121 tasks      | elapsed:  5.4min\n",
      "[Parallel(n_jobs=7)]: Done 122 tasks      | elapsed:  5.4min\n",
      "[Parallel(n_jobs=7)]: Done 123 tasks      | elapsed:  5.5min\n",
      "[Parallel(n_jobs=7)]: Done 124 tasks      | elapsed:  5.5min\n",
      "[Parallel(n_jobs=7)]: Done 125 tasks      | elapsed:  5.6min\n",
      "[Parallel(n_jobs=7)]: Done 126 tasks      | elapsed:  5.7min\n",
      "[Parallel(n_jobs=7)]: Done 127 tasks      | elapsed:  5.7min\n",
      "[Parallel(n_jobs=7)]: Done 128 tasks      | elapsed:  5.7min\n",
      "[Parallel(n_jobs=7)]: Done 129 tasks      | elapsed:  5.8min\n",
      "[Parallel(n_jobs=7)]: Done 130 tasks      | elapsed:  5.8min\n",
      "[Parallel(n_jobs=7)]: Done 131 tasks      | elapsed:  5.9min\n",
      "[Parallel(n_jobs=7)]: Done 132 tasks      | elapsed:  5.9min\n",
      "[Parallel(n_jobs=7)]: Done 133 tasks      | elapsed:  6.0min\n",
      "[Parallel(n_jobs=7)]: Done 134 tasks      | elapsed:  6.0min\n",
      "[Parallel(n_jobs=7)]: Done 135 tasks      | elapsed:  6.1min\n",
      "[Parallel(n_jobs=7)]: Done 136 tasks      | elapsed:  6.1min\n",
      "[Parallel(n_jobs=7)]: Done 137 tasks      | elapsed:  6.1min\n",
      "[Parallel(n_jobs=7)]: Done 140 out of 150 | elapsed:  6.2min remaining:   26.7s\n",
      "[Parallel(n_jobs=7)]: Done 143 out of 150 | elapsed:  6.4min remaining:   18.7s\n",
      "[Parallel(n_jobs=7)]: Done 146 out of 150 | elapsed:  6.5min remaining:   10.7s\n",
      "[Parallel(n_jobs=7)]: Done 150 out of 150 | elapsed:  6.8min finished\n"
     ]
    }
   ],
   "source": [
    "# Number of Qubits \n",
    "N=12\n",
    "# Number of excitations\n",
    "k=6\n",
    "# RNG seed for reproducibility\n",
    "seed=0\n",
    "# alpha in: s^T*mu + alpha*(s^T*Covar*s)\n",
    "alpha=0.5\n",
    "# Maximal number of iterations for classical solver\n",
    "max_iter=500\n",
    "\n",
    "# Using grid Nearest neighbors\n",
    "w_grid = True\n",
    "# Using next nearest neighbors (in 1D chain model)\n",
    "w_next_nearest_neighbors = False\n",
    "# Distributing the 'k' excitations according to some strategy (other than just k first)\n",
    "w_strategy = True\n",
    "# Using extra z-phase term\n",
    "w_z_phase = False\n",
    "# Initialization strategy\n",
    "init_strat = np.array([[0,1,0,1],\n",
    "                       [1,0,1,0],\n",
    "                       [0,1,0,1]])\n",
    "\n",
    "\n",
    "MAX_N_LAYERS = 3\n",
    "N_SEEDS = 50\n",
    "N_jobs = os.cpu_count()-1\n",
    "\n",
    "datapoints = []\n",
    "for seed in range(N_SEEDS):\n",
    "    for layer in range(1,MAX_N_LAYERS+1):\n",
    "        dp = (N,k,alpha,max_iter,w_grid,w_next_nearest_neighbors,w_strategy,w_z_phase, init_strat, seed,layer)\n",
    "        datapoints.append(dp)\n",
    "        \n",
    "r = Parallel(n_jobs=N_jobs, verbose=51, backend='loky')(delayed(simulate)(datapoint) for datapoint in datapoints)"
   ],
   "metadata": {
    "collapsed": false,
    "ExecuteTime": {
     "end_time": "2023-12-27T17:15:07.513021Z",
     "start_time": "2023-12-27T17:08:19.506225Z"
    }
   },
   "id": "860c3b9c1051b1de"
  },
  {
   "cell_type": "code",
   "execution_count": 20,
   "outputs": [],
   "source": [
    "result = {}\n",
    "for layer in range(1,MAX_N_LAYERS+1):\n",
    "    result[layer] = {}\n",
    "    result[layer]['CP_VQA'] = []\n",
    "    result[layer]['QAOA']   = []\n",
    "    \n",
    "for run in r:\n",
    "    layers = run['(N, k, alpha, max_iter, w_grid, w_nnn, w_strategy, w_z_phase, init_strat, seed, N_layers)'][-1]\n",
    "    CP_props, CP_costs = run['CP_VQA'][0], run['CP_VQA'][1]\n",
    "    result[layers]['CP_VQA'].append([CP_props[-1], CP_costs[-1]])\n",
    "    \n",
    "    NORMAL_props, NORMAL_costs = run['QAOA'][0], run['QAOA'][1]\n",
    "    result[layers]['QAOA'].append([NORMAL_props[-1], NORMAL_costs[-1]])\n",
    "\n",
    "CP_avgs, CP_std_devs = [], []\n",
    "NORMAL_avgs, NORMAL_std_devs = [], []\n",
    "for layer in range(1,MAX_N_LAYERS+1):\n",
    "    CP_avgs.append(np.mean(result[layer]['CP_VQA'], axis=0).tolist())\n",
    "    CP_std_devs.append(np.std(result[layer]['CP_VQA'], axis=0).tolist())\n",
    "    \n",
    "    NORMAL_avgs.append(np.mean(result[layer]['QAOA'], axis=0).tolist())\n",
    "    NORMAL_std_devs.append(np.std(result[layer]['QAOA'], axis=0).tolist())\n",
    "    \n",
    "CP_avgs, CP_std_devs = np.array(CP_avgs), np.array(CP_std_devs)\n",
    "NORMAL_avgs, NORMAL_std_devs = np.array(NORMAL_avgs), np.array(NORMAL_std_devs)"
   ],
   "metadata": {
    "collapsed": false,
    "ExecuteTime": {
     "end_time": "2023-12-27T17:15:07.517937Z",
     "start_time": "2023-12-27T17:15:07.516010Z"
    }
   },
   "id": "7312a6da73c2edef"
  },
  {
   "cell_type": "code",
   "execution_count": 37,
   "outputs": [
    {
     "data": {
      "text/plain": "<Figure size 1400x400 with 2 Axes>",
      "image/png": "[encoded data removed]"
     },
     "metadata": {},
     "output_type": "display_data"
    }
   ],
   "source": [
    "plt.rc(\"font\", family=[\"Helvetica\", \"Arial\"])\n",
    "plt.rc(\"text\", usetex=True)\n",
    "plt.rcParams['text.latex.preamble'] = r'\\usepackage{amsmath}\\usepackage{amssymb}\\usepackage{physics}'\n",
    "plt.rc(\"xtick\", top=True, direction=\"in\")\n",
    "plt.rc(\"ytick\", right=True, direction=\"in\")\n",
    "\n",
    "fig, ax = plt.subplots(1,2,figsize=(14,4))\n",
    "layers = [layer for layer in range(1,MAX_N_LAYERS+1)]\n",
    "ax[0].errorbar(layers, CP_avgs[:,0],yerr=CP_std_devs[:,0], capsize=3, label='CP-VQA')\n",
    "ax[0].errorbar(layers, NORMAL_avgs[:,0],yerr=NORMAL_std_devs[:,0], capsize=3, label='QAOA')\n",
    "ax[0].set_xticks(layers)\n",
    "ax[0].set_ylabel(r'$\\mathbb{P}[\\ket{\\psi}_{\\text{opt}}]$',size=19)\n",
    "ax[0].set_ylim(-0.2,1.2)\n",
    "ax[0].legend(loc='upper right')\n",
    "ax[0].set_xlabel('Layers',size=15)\n",
    "\n",
    "ax[1].errorbar(layers, CP_avgs[:,1],yerr=CP_std_devs[:,1], capsize=3, label='CP-VQA')\n",
    "ax[1].errorbar(layers, NORMAL_avgs[:,1],yerr=NORMAL_std_devs[:,1], capsize=3, label='QAOA')\n",
    "ax[1].set_xticks(layers)\n",
    "#ax[1].set_ylim(-0.2,1.2)\n",
    "ax[1].legend(loc='upper right')\n",
    "ax[1].set_ylabel(r'$\\frac{|c-c_{\\textrm{min}}|}{|c_{\\textrm{max}}-c_{\\textrm{min}}|}$', size=22)\n",
    "ax[1].set_xlabel('Layers',size=15)\n",
    "plt.savefig('../figures/fig_1.png',dpi=300)\n",
    "plt.show()"
   ],
   "metadata": {
    "collapsed": false,
    "ExecuteTime": {
     "end_time": "2023-12-27T18:30:10.135932Z",
     "start_time": "2023-12-27T18:30:07.303783Z"
    }
   },
   "id": "5617fa5643e728d4"
  },
  {
   "cell_type": "code",
   "execution_count": 16,
   "outputs": [],
   "source": [],
   "metadata": {
    "collapsed": false,
    "ExecuteTime": {
     "end_time": "2023-12-27T17:07:00.584578Z",
     "start_time": "2023-12-27T17:07:00.580678Z"
    }
   },
   "id": "d8227c0353ba9987"
  }
 ],
 "metadata": {
  "kernelspec": {
   "display_name": "Python 3",
   "language": "python",
   "name": "python3"
  },
  "language_info": {
   "codemirror_mode": {
    "name": "ipython",
    "version": 2
   },
   "file_extension": ".py",
   "mimetype": "text/x-python",
   "name": "python",
   "nbconvert_exporter": "python",
   "pygments_lexer": "ipython2",
   "version": "2.7.6"
  }
 },
 "nbformat": 4,
 "nbformat_minor": 5
}
