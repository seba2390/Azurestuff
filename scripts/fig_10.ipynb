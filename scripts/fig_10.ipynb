{
 "cells": [
  {
   "cell_type": "code",
   "execution_count": 42,
   "id": "initial_id",
   "metadata": {
    "collapsed": true,
    "ExecuteTime": {
     "end_time": "2024-01-25T15:41:34.124344100Z",
     "start_time": "2024-01-25T15:41:34.111561700Z"
    }
   },
   "outputs": [],
   "source": [
    "import numpy as np\n",
    "import scipy as sc\n",
    "import matplotlib.pyplot as plt\n",
    "\n",
    "from src.CPQAOA import CP_QAOA\n",
    "from src.QAOA import QAOA\n",
    "from src.Chain import Chain\n",
    "from src.Tools import (portfolio_metrics, \n",
    "                       min_cost_partition, \n",
    "                       get_qubo, \n",
    "                       normalized_cost, \n",
    "                       qubo_limits, \n",
    "                       check_qubo)"
   ]
  },
  {
   "cell_type": "code",
   "outputs": [
    {
     "name": "stdout",
     "output_type": "stream",
     "text": [
      " Qubit indices in chain: \n",
      " [0 1 2 3 4 5]\n",
      "\n",
      " Corresponding Nearest Neighbor index pairs: \n",
      " [(0, 1), (1, 2), (2, 3), (3, 4), (4, 5)]\n",
      "\n",
      " Corresponding Nearest Neighbor + Next Nearest index pairs: \n",
      " [(0, 1), (0, 2), (1, 2), (1, 3), (2, 3), (2, 4), (3, 4), (3, 5), (4, 5)]\n",
      "\n",
      " Initialization strategy is: \n",
      " [0 1 0 1 0 1]\n",
      "\n",
      " Corresponding indices is: \n",
      " [1, 3, 5]\n"
     ]
    }
   ],
   "source": [
    "# Number of Qubits \n",
    "N=6\n",
    "# number of excitations\n",
    "k=3\n",
    "# RNG seed for reproducibility\n",
    "seed=1\n",
    "# alpha in: s^T*mu + alpha*(s^T*Covar*s)\n",
    "alpha=0.5\n",
    "# Nr. of layer repetitions\n",
    "layers=1\n",
    "# Maximal number of iterations for classical solver\n",
    "max_iter=500\n",
    "# Using next nearest neighbors (in 1D chain model)\n",
    "w_next_nearest_neighbors = False\n",
    "w_z_phase = False\n",
    "\n",
    "\n",
    "my_chain = Chain(N_qubits=N)\n",
    "print(f' Qubit indices in chain: \\n', my_chain.get_chain_indexing())\n",
    "print(f'\\n Corresponding Nearest Neighbor index pairs: \\n', my_chain.get_NN_indices())\n",
    "print(f'\\n Corresponding Nearest Neighbor + Next Nearest index pairs: \\n', my_chain.get_NNN_indices())\n",
    "init_strat = np.array([0,1,0,1,0,1])\n",
    "my_chain.set_initialization_strategy(strategy=init_strat)\n",
    "print(f'\\n Initialization strategy is: \\n', my_chain.get_initialization_strategy())\n",
    "print(f'\\n Corresponding indices is: \\n', my_chain.get_initialization_indices())\n",
    "\n",
    "# Deciding between grid and 1d chain topology\n",
    "my_topology = my_chain"
   ],
   "metadata": {
    "collapsed": false,
    "ExecuteTime": {
     "end_time": "2024-01-25T15:41:34.137748300Z",
     "start_time": "2024-01-25T15:41:34.124344100Z"
    }
   },
   "id": "1ef4abc51c67625c",
   "execution_count": 43
  },
  {
   "cell_type": "code",
   "outputs": [
    {
     "name": "stdout",
     "output_type": "stream",
     "text": [
      "Min. cost portfolio (constrained subspace): 4.931996196739781\n",
      "Optimal portfolio state (constrained subspace) is: |110010>\n",
      "Min. cost QUBO: 4.931996196739796\n",
      "Min. cost QUBO state is: |110010>\n",
      "Check that qubo min cost is same as portfolio min cost:\n",
      "4.931996196739796 4.931996196739781\n",
      "Check that qubo max cost is at least portfolio max cost:\n",
      "71.68016228241302 8.710003549382588\n"
     ]
    }
   ],
   "source": [
    "# Generating random problem instance \n",
    "expected_returns, covariances = portfolio_metrics(n=N, seed=seed)\n",
    "\n",
    "# Retrieving C_min, C_max and corresponding states for original portfolio problem\n",
    "constrained_result, full_result, lmbda = min_cost_partition(nr_qubits=N,\n",
    "                                                            k=k,\n",
    "                                                            mu=expected_returns,\n",
    "                                                            sigma=covariances,\n",
    "                                                            alpha=alpha)\n",
    "\n",
    "portfolio_subspace_max_cost, portfolio_subspace_min_cost, portfolio_subspace_min_state = constrained_result['c_max'], constrained_result['c_min'], constrained_result['s']\n",
    "full_space_max_cost = full_result['c_max']\n",
    "portfolio_subspace_min_state_str = ''.join([str(_) for _ in portfolio_subspace_min_state])\n",
    "print(f\"Min. cost portfolio (constrained subspace): {portfolio_subspace_min_cost}\")\n",
    "print(\"Optimal portfolio state (constrained subspace) is: |\"+portfolio_subspace_min_state_str+\">\")\n",
    "\n",
    "# Generating QUBO corresponding to current problem instance\n",
    "Q, offset = get_qubo(mu=expected_returns,\n",
    "                     sigma=covariances, \n",
    "                     alpha=alpha,\n",
    "                     lmbda=lmbda+1e-8, # Adding small constant purposely\n",
    "                     k=k)\n",
    "QUBO_limits = qubo_limits(Q=Q,offset=offset)\n",
    "qubo_min_cost, qubo_max_cost = QUBO_limits['c_min'], QUBO_limits['c_max']\n",
    "qubo_min_state, qubo_max_state = QUBO_limits['min_state'], QUBO_limits['max_state']\n",
    "check_qubo(QUBO_matrix=Q, QUBO_offset=offset, expected_returns=expected_returns, covariances=covariances, alpha=alpha, k=k)\n",
    "qubo_min_state_str = ''.join([str(_) for _ in qubo_min_state])\n",
    "print(f\"Min. cost QUBO: {qubo_min_cost}\")\n",
    "print(\"Min. cost QUBO state is: |\"+qubo_min_state_str+\">\")\n",
    "print(\"Check that qubo min cost is same as portfolio min cost:\")\n",
    "print(qubo_min_cost, portfolio_subspace_min_cost)\n",
    "print(\"Check that qubo max cost is at least portfolio max cost:\")\n",
    "print(qubo_max_cost, portfolio_subspace_max_cost)\n",
    "\n",
    "# Generating instances of ansatz'\n",
    "CP_z_phase_ansatz = CP_QAOA(N_qubits=N,\n",
    "                 cardinality=k,\n",
    "                 layers=layers,\n",
    "                 topology=my_topology,\n",
    "                 QUBO_matrix=Q,\n",
    "                 with_next_nearest_neighbors=w_next_nearest_neighbors,\n",
    "                 with_gradient=True,\n",
    "                 approximate_hamiltonian=True,\n",
    "                 with_z_phase=w_z_phase)\n",
    "\n",
    "NORMAL_ansatz = QAOA(N_qubits=N,\n",
    "                 layers=2,\n",
    "                 QUBO_matrix=Q,\n",
    "                 QUBO_offset=offset,\n",
    "                 constraining_mixer=True,\n",
    "                 Topology=my_topology)"
   ],
   "metadata": {
    "collapsed": false,
    "ExecuteTime": {
     "end_time": "2024-01-25T15:41:34.156983700Z",
     "start_time": "2024-01-25T15:41:34.141522300Z"
    }
   },
   "id": "38c0f8200069f55b",
   "execution_count": 44
  },
  {
   "cell_type": "code",
   "outputs": [],
   "source": [
    "# Choosing optimizer for scipy\n",
    "available_methods = ['COBYLA', 'Nelder-Mead', 'BFGS']\n",
    "optimizer_method = available_methods[2]\n",
    "\n",
    "# Generating callback function for plotting\n",
    "CP_z_phase_costs = [] # Normalized costs\n",
    "CP_z_phase_probs = [] # probability of optimal state\n",
    "def CP_z_phase_callback_function(x):\n",
    "    _dict_ = CP_z_phase_ansatz.get_state_probabilities(flip_states=False)\n",
    "    # N.B. Normalizing w. respect to full space max cost\n",
    "    _cost_ = normalized_cost(result=_dict_,\n",
    "                             QUBO_matrix=Q,\n",
    "                             QUBO_offset=offset,\n",
    "                             max_cost=portfolio_subspace_max_cost, \n",
    "                             min_cost=qubo_min_cost)\n",
    "    if portfolio_subspace_min_state_str in list(_dict_.keys()):\n",
    "        CP_z_phase_probs.append(_dict_[portfolio_subspace_min_state_str])\n",
    "    else:\n",
    "        CP_z_phase_probs.append(0)\n",
    "    CP_z_phase_costs.append(_cost_)\n",
    "    \n",
    "# Generating callback function for plotting\n",
    "NORMAL_costs = [] # Normalized costs\n",
    "NORMAL_probs = [] # probability of optimal state\n",
    "def NORMAL_callback_function(x):\n",
    "    _dict_ = NORMAL_ansatz.get_state_probabilities(flip_states=False)\n",
    "    # N.B. Normalizing w. respect to full space max cost\n",
    "    _cost_ = normalized_cost(result=_dict_,\n",
    "                             QUBO_matrix=Q,\n",
    "                             QUBO_offset=offset,\n",
    "                             max_cost=portfolio_subspace_max_cost, \n",
    "                             min_cost=qubo_min_cost)\n",
    "    if portfolio_subspace_min_state_str in list(_dict_.keys()):\n",
    "        NORMAL_probs.append(_dict_[portfolio_subspace_min_state_str])\n",
    "    else:\n",
    "        NORMAL_probs.append(0)\n",
    "    NORMAL_costs.append(_cost_)\n",
    "\n",
    "# Generating initial guess for rotation angles\n",
    "np.random.seed(seed)\n",
    "theta_min, theta_max = -2*np.pi, 2*np.pi\n",
    "N_angles = layers * len(my_topology.get_NN_indices())\n",
    "if w_next_nearest_neighbors:\n",
    "    N_angles = layers * len(my_topology.get_NNN_indices())\n",
    "if w_z_phase:\n",
    "    N_angles += N * layers\n",
    "CP_z_phase_theta_i = np.random.uniform(low=theta_min, high=theta_max, size=N_angles)\n",
    "\n",
    "np.random.seed(seed)\n",
    "N_angles = 2 * 2\n",
    "NORMAL_theta_i = np.random.uniform(low=theta_min, high=theta_max, size=N_angles)"
   ],
   "metadata": {
    "collapsed": false,
    "ExecuteTime": {
     "end_time": "2024-01-25T15:41:34.184757100Z",
     "start_time": "2024-01-25T15:41:34.155878100Z"
    }
   },
   "id": "360c094faec34b57",
   "execution_count": 45
  },
  {
   "cell_type": "code",
   "outputs": [
    {
     "data": {
      "text/plain": "  message: Optimization terminated successfully.\n  success: True\n   status: 0\n      fun: -39.45596966391655\n        x: [-3.613e-07  3.142e+00 -6.283e+00 -1.571e+00 -4.427e+00]\n      nit: 9\n      jac: [-2.384e-06 -4.768e-07 -1.907e-06 -1.907e-06  0.000e+00]\n hess_inv: [[ 2.441e-01  4.432e-03 ... -1.864e-03 -1.137e-03]\n            [ 4.432e-03  2.248e+00 ... -1.456e-03  1.056e-02]\n            ...\n            [-1.864e-03 -1.456e-03 ...  3.385e-01  4.863e-03]\n            [-1.137e-03  1.056e-02 ...  4.863e-03  9.967e-01]]\n     nfev: 66\n     njev: 11"
     },
     "execution_count": 46,
     "metadata": {},
     "output_type": "execute_result"
    }
   ],
   "source": [
    "CP_z_phase_res = sc.optimize.minimize(fun=CP_z_phase_ansatz.get_cost, \n",
    "                                      x0=CP_z_phase_theta_i,\n",
    "                                      method=optimizer_method,\n",
    "                                      options={'disp': False, \n",
    "                                               'maxiter': max_iter},\n",
    "                                      callback=CP_z_phase_callback_function)\n",
    "CP_z_phase_res"
   ],
   "metadata": {
    "collapsed": false,
    "ExecuteTime": {
     "end_time": "2024-01-25T15:41:35.861256400Z",
     "start_time": "2024-01-25T15:41:34.181525600Z"
    }
   },
   "id": "cb7a5eea935b1c21",
   "execution_count": 46
  },
  {
   "cell_type": "code",
   "outputs": [
    {
     "data": {
      "text/plain": "  message: Desired error not necessarily achieved due to precision loss.\n  success: False\n   status: 2\n      fun: -36.73791478712081\n        x: [-1.043e+00  2.769e+00 -6.282e+00 -2.784e+00]\n      nit: 1\n      jac: [ 0.000e+00  0.000e+00  4.292e-06  1.589e-01]\n hess_inv: [[ 1.000e+00  0.000e+00  0.000e+00  0.000e+00]\n            [ 0.000e+00  1.000e+00  0.000e+00  0.000e+00]\n            [ 0.000e+00  0.000e+00  1.000e+00  3.038e-05]\n            [ 0.000e+00  0.000e+00  3.038e-05  2.125e+00]]\n     nfev: 252\n     njev: 48"
     },
     "execution_count": 47,
     "metadata": {},
     "output_type": "execute_result"
    }
   ],
   "source": [
    "NORMAL_res = sc.optimize.minimize(fun=NORMAL_ansatz.get_cost, \n",
    "                                      x0=NORMAL_theta_i,\n",
    "                                      method=optimizer_method,\n",
    "                                      options={'disp': False, \n",
    "                                               'maxiter': max_iter},\n",
    "                                      callback=NORMAL_callback_function)\n",
    "NORMAL_res"
   ],
   "metadata": {
    "collapsed": false,
    "ExecuteTime": {
     "end_time": "2024-01-25T15:41:50.932884300Z",
     "start_time": "2024-01-25T15:41:35.862532300Z"
    }
   },
   "id": "4305654b7f8c0ac9",
   "execution_count": 47
  },
  {
   "cell_type": "code",
   "outputs": [
    {
     "data": {
      "text/plain": "<Figure size 500x500 with 1 Axes>",
      "image/png": "[encoded data removed]"
     },
     "metadata": {},
     "output_type": "display_data"
    }
   ],
   "source": [
    "# N.B. Because the normalization is done w. respect to the \"allowed states (w. k ones)\" QAOA has cost above 1.\n",
    "fig, ax = plt.subplots(1,1, figsize=(5,5))\n",
    "ax.plot([it for it in range(len(CP_z_phase_costs))], CP_z_phase_costs, label='VQA-cost')\n",
    "ax.plot([it for it in range(len(CP_z_phase_probs))], CP_z_phase_probs, label='VQA-prob.')\n",
    "ax.plot([it for it in range(len(NORMAL_costs))], NORMAL_costs, label='QAOA-cost')\n",
    "ax.plot([it for it in range(len(NORMAL_probs))], NORMAL_probs, label='QAOA-prob.')\n",
    "\n",
    "#ax.set_xlim(0,len(CP_z_phase_costs))\n",
    "#ax.hlines(0,0,len(CP_z_phase_costs),lw=1,linestyles='dashed',colors='k')\n",
    "ax.legend(loc='best')\n",
    "plt.show()"
   ],
   "metadata": {
    "collapsed": false,
    "ExecuteTime": {
     "end_time": "2024-01-25T15:41:51.039389500Z",
     "start_time": "2024-01-25T15:41:50.937982500Z"
    }
   },
   "id": "185bebc884a29ebb",
   "execution_count": 48
  },
  {
   "cell_type": "code",
   "outputs": [],
   "source": [],
   "metadata": {
    "collapsed": false,
    "ExecuteTime": {
     "end_time": "2024-01-25T15:41:51.086010200Z",
     "start_time": "2024-01-25T15:41:51.041751500Z"
    }
   },
   "id": "1877d3e6c4a66e46",
   "execution_count": 48
  }
 ],
 "metadata": {
  "kernelspec": {
   "display_name": "Python 3",
   "language": "python",
   "name": "python3"
  },
  "language_info": {
   "codemirror_mode": {
    "name": "ipython",
    "version": 2
   },
   "file_extension": ".py",
   "mimetype": "text/x-python",
   "name": "python",
   "nbconvert_exporter": "python",
   "pygments_lexer": "ipython2",
   "version": "2.7.6"
  }
 },
 "nbformat": 4,
 "nbformat_minor": 5
}
