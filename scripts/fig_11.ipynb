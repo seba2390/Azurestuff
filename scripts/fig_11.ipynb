{
 "cells": [
  {
   "cell_type": "code",
   "execution_count": 1,
   "id": "initial_id",
   "metadata": {
    "collapsed": true,
    "ExecuteTime": {
     "end_time": "2024-01-28T11:47:06.319234Z",
     "start_time": "2024-01-28T11:47:04.082973Z"
    }
   },
   "outputs": [],
   "source": [
    "import numpy as np\n",
    "import scipy as sc\n",
    "import matplotlib.pyplot as plt\n",
    "\n",
    "import random\n",
    "\n",
    "from qiskit import QuantumCircuit, Aer, execute\n",
    "from qiskit.quantum_info import Operator\n",
    "from scipy.linalg import expm\n",
    "\n",
    "from src.Tools import get_qiskit_H\n",
    "from src.Tools import get_full_hamiltonian\n",
    "\n",
    "from src.CPQAOA import CP_QAOA\n",
    "from src.QAOA import QAOA\n",
    "from src.Chain import Chain\n",
    "from src.Tools import (portfolio_metrics, \n",
    "                       min_cost_partition, \n",
    "                       get_qubo, \n",
    "                       normalized_cost, \n",
    "                       qubo_limits, \n",
    "                       check_qubo)"
   ]
  },
  {
   "cell_type": "code",
   "execution_count": 2,
   "outputs": [
    {
     "name": "stdout",
     "output_type": "stream",
     "text": [
      " Qubit indices in chain: \n",
      " [0 1 2 3 4 5]\n",
      "\n",
      " Corresponding Nearest Neighbor index pairs: \n",
      " [(0, 1), (1, 2), (2, 3), (3, 4), (4, 5)]\n",
      "\n",
      " Corresponding Nearest Neighbor + Next Nearest index pairs: \n",
      " [(0, 1), (0, 2), (1, 2), (1, 3), (2, 3), (2, 4), (3, 4), (3, 5), (4, 5)]\n",
      "\n",
      " Initialization strategy is: \n",
      " [0 1 0 1 0 1]\n",
      "\n",
      " Corresponding indices is: \n",
      " [1, 3, 5]\n"
     ]
    }
   ],
   "source": [
    "# Number of Qubits \n",
    "N=6\n",
    "# number of excitations\n",
    "k=3\n",
    "# RNG seed for reproducibility\n",
    "seed=1\n",
    "# alpha in: s^T*mu + alpha*(s^T*Covar*s)\n",
    "alpha=0.5\n",
    "# Nr. of layer repetitions\n",
    "layers=1\n",
    "# Maximal number of iterations for classical solver\n",
    "max_iter=500\n",
    "\n",
    "my_chain = Chain(N_qubits=N)\n",
    "print(f' Qubit indices in chain: \\n', my_chain.get_chain_indexing())\n",
    "print(f'\\n Corresponding Nearest Neighbor index pairs: \\n', my_chain.get_NN_indices())\n",
    "print(f'\\n Corresponding Nearest Neighbor + Next Nearest index pairs: \\n', my_chain.get_NNN_indices())\n",
    "init_strat = np.array([0,1,0,1,0,1])\n",
    "my_chain.set_initialization_strategy(strategy=init_strat)\n",
    "print(f'\\n Initialization strategy is: \\n', my_chain.get_initialization_strategy())\n",
    "print(f'\\n Corresponding indices is: \\n', my_chain.get_initialization_indices())\n",
    "\n",
    "# Deciding between grid and 1d chain topology\n",
    "my_topology = my_chain"
   ],
   "metadata": {
    "collapsed": false,
    "ExecuteTime": {
     "end_time": "2024-01-28T11:47:07.287096Z",
     "start_time": "2024-01-28T11:47:07.284828Z"
    }
   },
   "id": "a69c4f2790bc3d9"
  },
  {
   "cell_type": "code",
   "execution_count": 5,
   "outputs": [
    {
     "name": "stdout",
     "output_type": "stream",
     "text": [
      "Min. cost portfolio (constrained subspace): 4.931996196739781\n",
      "Optimal portfolio state (constrained subspace) is: |110010>\n",
      "Min. cost QUBO: 4.931996196739796\n",
      "Min. cost QUBO state is: |110010>\n",
      "Check that qubo min cost is same as portfolio min cost:\n",
      "4.931996196739796 4.931996196739781\n",
      "Check that qubo max cost is at least portfolio max cost:\n",
      "71.68016228241302 8.710003549382588\n"
     ]
    }
   ],
   "source": [
    "# Generating random problem instance \n",
    "expected_returns, covariances = portfolio_metrics(n=N, seed=seed)\n",
    "\n",
    "# Retrieving C_min, C_max and corresponding states for original portfolio problem\n",
    "constrained_result, full_result, lmbda = min_cost_partition(nr_qubits=N,\n",
    "                                                            k=k,\n",
    "                                                            mu=expected_returns,\n",
    "                                                            sigma=covariances,\n",
    "                                                            alpha=alpha)\n",
    "\n",
    "portfolio_subspace_max_cost, portfolio_subspace_min_cost, portfolio_subspace_min_state = constrained_result['c_max'], constrained_result['c_min'], constrained_result['s']\n",
    "full_space_max_cost = full_result['c_max']\n",
    "portfolio_subspace_min_state_str = ''.join([str(_) for _ in portfolio_subspace_min_state])\n",
    "print(f\"Min. cost portfolio (constrained subspace): {portfolio_subspace_min_cost}\")\n",
    "print(\"Optimal portfolio state (constrained subspace) is: |\"+portfolio_subspace_min_state_str+\">\")\n",
    "\n",
    "# Generating QUBO corresponding to current problem instance\n",
    "Q, offset = get_qubo(mu=expected_returns,\n",
    "                     sigma=covariances, \n",
    "                     alpha=alpha,\n",
    "                     lmbda=lmbda+1e-8, # Adding small constant purposely\n",
    "                     k=k)\n",
    "QUBO_limits = qubo_limits(Q=Q,offset=offset)\n",
    "qubo_min_cost, qubo_max_cost = QUBO_limits['c_min'], QUBO_limits['c_max']\n",
    "qubo_min_state, qubo_max_state = QUBO_limits['min_state'], QUBO_limits['max_state']\n",
    "check_qubo(QUBO_matrix=Q, QUBO_offset=offset, expected_returns=expected_returns, covariances=covariances, alpha=alpha, k=k)\n",
    "qubo_min_state_str = ''.join([str(_) for _ in qubo_min_state])\n",
    "print(f\"Min. cost QUBO: {qubo_min_cost}\")\n",
    "print(\"Min. cost QUBO state is: |\"+qubo_min_state_str+\">\")\n",
    "print(\"Check that qubo min cost is same as portfolio min cost:\")\n",
    "print(qubo_min_cost, portfolio_subspace_min_cost)\n",
    "print(\"Check that qubo max cost is at least portfolio max cost:\")\n",
    "print(qubo_max_cost, portfolio_subspace_max_cost)\n"
   ],
   "metadata": {
    "collapsed": false,
    "ExecuteTime": {
     "end_time": "2024-01-26T00:56:50.442428Z",
     "start_time": "2024-01-26T00:56:50.434540Z"
    }
   },
   "id": "99ccd796a1cebc7e"
  },
  {
   "cell_type": "code",
   "execution_count": null,
   "outputs": [],
   "source": [
    "initialization_strategy = my_topology.initialization_strategy\n",
    "approximate_hamiltonian = True\n",
    "with_z_phase = False\n",
    "simulator = Aer.get_backend('statevector_simulator')\n",
    "qubit_indices = {0:my_topology.get_NN_indices(),\n",
    "                 1: [],\n",
    "                 2: [],\n",
    "                 3: []}\n",
    "counts = None\n",
    "\n",
    "def set_circuit(angles):\n",
    "    __angles__ = iter(angles)\n",
    "\n",
    "    # Defining circuit\n",
    "    qcircuit = QuantumCircuit(N)\n",
    "\n",
    "    # Setting 'k' qubits to |1>\n",
    "    for qubit_index in initialization_strategy:\n",
    "        qcircuit.x(qubit_index)\n",
    "\n",
    "    for layer in range(layers):\n",
    "        if approximate_hamiltonian:\n",
    "            # XX+YY terms\n",
    "            for (qubit_i, qubit_j) in qubit_indices[layer]:\n",
    "                theta_ij = next(__angles__)\n",
    "                qcircuit.rxx(theta=theta_ij, qubit1=qubit_i, qubit2=qubit_j)\n",
    "                qcircuit.ryy(theta=theta_ij, qubit1=qubit_i, qubit2=qubit_j)\n",
    "            # Z terms\n",
    "            if with_z_phase:\n",
    "                for qubit_i in range(N):\n",
    "                    qcircuit.rz(phi=next(__angles__), qubit=qubit_i)\n",
    "        else:\n",
    "            H = get_full_hamiltonian(indices=qubit_indices[layer],\n",
    "                                     angles=angles[layer*len(angles)//layers:(layer+1)*len(angles)//layers],\n",
    "                                     N_qubits=N,\n",
    "                                     with_z_phase=with_z_phase)\n",
    "            time = 1.0\n",
    "            U_H = Operator(expm(-1j*time*H.data))\n",
    "            qcircuit.append(U_H, list(range(N)))\n",
    "    return qcircuit\n",
    "\n",
    "def get_cost(angles) -> float:\n",
    "    circuit = set_circuit(angles=angles)\n",
    "    counts = execute(circuit, simulator).result().get_counts()\n",
    "    H_c = np.array(Operator(get_qiskit_H(Q=Q)))\n",
    "    state_vector = np.array(execute(circuit, simulator).result().get_statevector()).flatten()\n",
    "    return float(np.real(np.dot(state_vector.conj(), np.dot(H_c, state_vector))))"
   ],
   "metadata": {
    "collapsed": false
   },
   "id": "542992563c95f0a6"
  }
 ],
 "metadata": {
  "kernelspec": {
   "display_name": "Python 3",
   "language": "python",
   "name": "python3"
  },
  "language_info": {
   "codemirror_mode": {
    "name": "ipython",
    "version": 2
   },
   "file_extension": ".py",
   "mimetype": "text/x-python",
   "name": "python",
   "nbconvert_exporter": "python",
   "pygments_lexer": "ipython2",
   "version": "2.7.6"
  }
 },
 "nbformat": 4,
 "nbformat_minor": 5
}
