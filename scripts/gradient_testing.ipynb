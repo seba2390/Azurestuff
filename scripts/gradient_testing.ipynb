{
 "cells": [
  {
   "cell_type": "code",
   "execution_count": 34,
   "id": "initial_id",
   "metadata": {
    "collapsed": true,
    "ExecuteTime": {
     "end_time": "2024-01-08T15:35:39.936960100Z",
     "start_time": "2024-01-08T15:35:39.914278500Z"
    }
   },
   "outputs": [],
   "source": [
    "from qiskit.circuit import QuantumRegister, Parameter\n",
    "from qiskit import QuantumCircuit, Aer, execute\n",
    "from qiskit.quantum_info import Operator, SparsePauliOp\n",
    "from qiskit.primitives import Estimator\n",
    "from qiskit_algorithms.gradients import ParamShiftEstimatorGradient\n",
    "import numpy as np\n",
    "from scipy.linalg import expm"
   ]
  },
  {
   "cell_type": "code",
   "execution_count": 35,
   "outputs": [],
   "source": [
    "simulator = Aer.get_backend('statevector_simulator')"
   ],
   "metadata": {
    "collapsed": false,
    "ExecuteTime": {
     "end_time": "2024-01-08T15:35:43.063399800Z",
     "start_time": "2024-01-08T15:35:43.028343Z"
    }
   },
   "id": "db358290a3d7d213"
  },
  {
   "cell_type": "code",
   "execution_count": 36,
   "outputs": [],
   "source": [
    "theta_1, theta_2 = 0.2871, 1.6923"
   ],
   "metadata": {
    "collapsed": false,
    "ExecuteTime": {
     "end_time": "2024-01-08T15:35:43.541702400Z",
     "start_time": "2024-01-08T15:35:43.529245400Z"
    }
   },
   "id": "35dfba8ce5b0c90f"
  },
  {
   "cell_type": "code",
   "execution_count": 37,
   "outputs": [],
   "source": [
    "def U_1(theta: float):\n",
    "    qc_1 = QuantumCircuit(1)\n",
    "    qc_1.rx(theta=theta,qubit=0)\n",
    "    return np.array(Operator(qc_1))\n",
    "\n",
    "def U_2(theta: float):\n",
    "    qc_2 = QuantumCircuit(1)\n",
    "    qc_2.ry(theta=theta, qubit=0)\n",
    "    return np.array(Operator(qc_2))"
   ],
   "metadata": {
    "collapsed": false,
    "ExecuteTime": {
     "end_time": "2024-01-08T15:35:44.512942500Z",
     "start_time": "2024-01-08T15:35:44.478989800Z"
    }
   },
   "id": "ac7d53f95a6e6da5"
  },
  {
   "cell_type": "code",
   "outputs": [],
   "source": [
    "qc = QuantumCircuit(2)\n",
    "qc.x(0)\n",
    "qc.x(1)\n",
    "XX = np.array(Operator(qc))\n",
    "qc = QuantumCircuit(2)\n",
    "qc.y(0)\n",
    "qc.y(1)\n",
    "YY = np.array(Operator(qc))\n"
   ],
   "metadata": {
    "collapsed": false,
    "ExecuteTime": {
     "end_time": "2024-01-08T15:35:45.136471500Z",
     "start_time": "2024-01-08T15:35:45.108463700Z"
    }
   },
   "id": "2aae05d062eab8d8",
   "execution_count": 38
  },
  {
   "cell_type": "code",
   "outputs": [
    {
     "data": {
      "text/plain": "True"
     },
     "execution_count": 42,
     "metadata": {},
     "output_type": "execute_result"
    }
   ],
   "source": [
    "np.allclose(XX@YY - YY@XX, np.zeros_like(XX))"
   ],
   "metadata": {
    "collapsed": false,
    "ExecuteTime": {
     "end_time": "2024-01-08T15:37:43.912380200Z",
     "start_time": "2024-01-08T15:37:43.881509100Z"
    }
   },
   "id": "d1b24eb16965e99a",
   "execution_count": 42
  },
  {
   "cell_type": "code",
   "outputs": [
    {
     "data": {
      "text/plain": "True"
     },
     "execution_count": 45,
     "metadata": {},
     "output_type": "execute_result"
    }
   ],
   "source": [
    "e_YY = expm(-1j*theta_1*YY)\n",
    "np.allclose(XX@e_YY - e_YY@XX, np.zeros_like(XX))"
   ],
   "metadata": {
    "collapsed": false,
    "ExecuteTime": {
     "end_time": "2024-01-08T15:40:50.502993600Z",
     "start_time": "2024-01-08T15:40:50.453026800Z"
    }
   },
   "id": "e0376cee79980437",
   "execution_count": 45
  },
  {
   "cell_type": "code",
   "outputs": [
    {
     "data": {
      "text/plain": "True"
     },
     "execution_count": 48,
     "metadata": {},
     "output_type": "execute_result"
    }
   ],
   "source": [
    "YY_XX = YY+XX\n",
    "e_YY_XX = expm(-1j/2*theta_1*YY_XX)\n",
    "np.allclose(YY@e_YY_XX - e_YY_XX@YY, np.zeros_like(XX))"
   ],
   "metadata": {
    "collapsed": false,
    "ExecuteTime": {
     "end_time": "2024-01-08T15:52:41.061435100Z",
     "start_time": "2024-01-08T15:52:41.029646600Z"
    }
   },
   "id": "6cd8c9997062872",
   "execution_count": 48
  },
  {
   "cell_type": "code",
   "execution_count": 18,
   "outputs": [
    {
     "name": "stderr",
     "output_type": "stream",
     "text": [
      "C:\\Users\\madse\\.python_venvs\\QiskitStuff\\lib\\site-packages\\qiskit\\visualization\\circuit\\matplotlib.py:266: FutureWarning: The default matplotlib drawer scheme will be changed to \"iqp\" in a following release. To silence this warning, specify the current default explicitly as style=\"clifford\", or the new default as style=\"iqp\".\n",
      "  self._style, def_font_ratio = load_style(self._style)\n"
     ]
    },
    {
     "data": {
      "text/plain": "<Figure size 352.675x117.056 with 1 Axes>",
      "image/png": "[encoded data removed]"
     },
     "execution_count": 18,
     "metadata": {},
     "output_type": "execute_result"
    }
   ],
   "source": [
    "qc = QuantumCircuit(1)\n",
    "result_0 = execute(qc, simulator).result()\n",
    "psi_0 = np.array(result_0.get_statevector())\n",
    "\n",
    "qc.h(qubit=0)\n",
    "result_1 = execute(qc, simulator).result()\n",
    "psi_1 = np.array(result_1.get_statevector())\n",
    "\n",
    "qc.rx(theta=theta_1,qubit=0)\n",
    "result_2 = execute(qc, simulator).result()\n",
    "psi_2 = np.array(result_2.get_statevector())\n",
    "\n",
    "qc.ry(theta=theta_2,qubit=0)\n",
    "result_f = execute(qc, simulator).result()\n",
    "psi_f = np.array(result_f.get_statevector())\n",
    "\n",
    "qc.draw(output='mpl')"
   ],
   "metadata": {
    "collapsed": false,
    "ExecuteTime": {
     "end_time": "2024-01-08T11:18:48.089639400Z",
     "start_time": "2024-01-08T11:18:48.006773300Z"
    }
   },
   "id": "444375a3b942b64d"
  },
  {
   "cell_type": "code",
   "execution_count": 19,
   "outputs": [],
   "source": [
    "X_mat = np.array([[0,1],\n",
    "                  [1,0]], dtype=np.complex128) \n",
    "Y_mat = np.array([[0,-1j],\n",
    "                  [1j, 0]], dtype=np.complex128) "
   ],
   "metadata": {
    "collapsed": false,
    "ExecuteTime": {
     "end_time": "2024-01-08T11:18:48.142577300Z",
     "start_time": "2024-01-08T11:18:48.088317400Z"
    }
   },
   "id": "a55e308ce8f1dd90"
  },
  {
   "cell_type": "code",
   "execution_count": 20,
   "outputs": [],
   "source": [
    "O = 2*X_mat+Y_mat"
   ],
   "metadata": {
    "collapsed": false,
    "ExecuteTime": {
     "end_time": "2024-01-08T11:18:48.143866200Z",
     "start_time": "2024-01-08T11:18:48.103446700Z"
    }
   },
   "id": "5422e8f6da9557c8"
  },
  {
   "cell_type": "code",
   "execution_count": 21,
   "outputs": [],
   "source": [
    "# Parameter shift\n",
    "deriv_theta_1 = 1/2*((psi_1.conj().T @ (U_1(theta_1 + np.pi/2).conj().T @ (O @ (U_1(theta_1 + np.pi/2) @ psi_1)))) - (psi_1.conj().T @ (U_1(theta_1 - np.pi/2).conj().T @ (O @ (U_1(theta_1 - np.pi/2) @ psi_1)))))\n",
    "\n",
    "deriv_theta_2 = 1/2*((psi_2.conj().T @ (U_2(theta_2 + np.pi/2).conj().T @ (O @ (U_2(theta_2 + np.pi/2) @ psi_2)))) - (psi_2.conj().T @ (U_2(theta_2 - np.pi/2).conj().T @ (O @ (U_2(theta_2 - np.pi/2) @ psi_2)))))\n",
    "my_derivs = np.array([deriv_theta_1, deriv_theta_2])"
   ],
   "metadata": {
    "collapsed": false,
    "ExecuteTime": {
     "end_time": "2024-01-08T11:18:48.166303900Z",
     "start_time": "2024-01-08T11:18:48.125306600Z"
    }
   },
   "id": "cd8f739cf002170e"
  },
  {
   "cell_type": "code",
   "execution_count": 22,
   "outputs": [],
   "source": [
    "#Instantiate the quantum circuit\n",
    "a = Parameter('a')\n",
    "b = Parameter('b')\n",
    "q = QuantumRegister(1)\n",
    "qc = QuantumCircuit(q)\n",
    "qc.h(q)\n",
    "qc.rx(a, q[0])\n",
    "qc.ry(b, q[0])\n",
    "\n",
    "#Instantiate the Hamiltonian observable 2X+Y\n",
    "H = SparsePauliOp.from_list([('X', 2), ('Y',1)])\n",
    "\n",
    "#Parameter list\n",
    "params = [[theta_1, theta_2]]"
   ],
   "metadata": {
    "collapsed": false,
    "ExecuteTime": {
     "end_time": "2024-01-08T11:18:48.167675400Z",
     "start_time": "2024-01-08T11:18:48.135948100Z"
    }
   },
   "id": "7840a5a80161595d"
  },
  {
   "cell_type": "code",
   "execution_count": 23,
   "outputs": [],
   "source": [
    "#Define the estimator\n",
    "estimator = Estimator()\n",
    "#Define the gradient\n",
    "gradient = ParamShiftEstimatorGradient(estimator)\n",
    "\n",
    "# Evaluate the gradient of the circuits using parameter shift gradients\n",
    "pse_grad_result = gradient.run(qc, H,  params).result().gradients\n"
   ],
   "metadata": {
    "collapsed": false,
    "ExecuteTime": {
     "end_time": "2024-01-08T11:18:48.168779200Z",
     "start_time": "2024-01-08T11:18:48.151333Z"
    }
   },
   "id": "4bf66b3830e25489"
  },
  {
   "cell_type": "code",
   "execution_count": 24,
   "outputs": [
    {
     "data": {
      "text/plain": "True"
     },
     "execution_count": 24,
     "metadata": {},
     "output_type": "execute_result"
    }
   ],
   "source": [
    "np.allclose(my_derivs,pse_grad_result)"
   ],
   "metadata": {
    "collapsed": false,
    "ExecuteTime": {
     "end_time": "2024-01-08T11:18:48.224922900Z",
     "start_time": "2024-01-08T11:18:48.165260400Z"
    }
   },
   "id": "84c358df9bd02f64"
  }
 ],
 "metadata": {
  "kernelspec": {
   "display_name": "Python 3",
   "language": "python",
   "name": "python3"
  },
  "language_info": {
   "codemirror_mode": {
    "name": "ipython",
    "version": 2
   },
   "file_extension": ".py",
   "mimetype": "text/x-python",
   "name": "python",
   "nbconvert_exporter": "python",
   "pygments_lexer": "ipython2",
   "version": "2.7.6"
  }
 },
 "nbformat": 4,
 "nbformat_minor": 5
}
