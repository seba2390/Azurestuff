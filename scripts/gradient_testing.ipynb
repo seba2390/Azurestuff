{
 "cells": [
  {
   "cell_type": "code",
   "execution_count": 1,
   "id": "initial_id",
   "metadata": {
    "collapsed": true,
    "ExecuteTime": {
     "end_time": "2024-01-18T12:17:07.214099Z",
     "start_time": "2024-01-18T12:17:05.782159900Z"
    }
   },
   "outputs": [
    {
     "name": "stderr",
     "output_type": "stream",
     "text": [
      "C:\\Users\\madse\\AppData\\Local\\Temp\\ipykernel_17316\\3493014345.py:7: DeprecationWarning: The ``qiskit.opflow`` module is deprecated as of qiskit-terra 0.24.0. It will be removed no earlier than 3 months after the release date. For code migration guidelines, visit https://qisk.it/opflow_migration.\n",
      "  from qiskit.opflow import X, Y, I\n"
     ]
    }
   ],
   "source": [
    "from qiskit.circuit import QuantumRegister, Parameter\n",
    "from qiskit import QuantumCircuit, Aer, execute\n",
    "from qiskit.quantum_info import Operator, SparsePauliOp\n",
    "from qiskit.primitives import Estimator\n",
    "from qiskit_algorithms.gradients import ParamShiftEstimatorGradient\n",
    "import numpy as np\n",
    "from qiskit.opflow import X, Y, I\n",
    "from scipy.linalg import expm"
   ]
  },
  {
   "cell_type": "code",
   "execution_count": 2,
   "outputs": [],
   "source": [
    "simulator = Aer.get_backend('statevector_simulator')"
   ],
   "metadata": {
    "collapsed": false,
    "ExecuteTime": {
     "end_time": "2024-01-18T12:17:11.174718200Z",
     "start_time": "2024-01-18T12:17:11.159052800Z"
    }
   },
   "id": "db358290a3d7d213"
  },
  {
   "cell_type": "code",
   "execution_count": 3,
   "outputs": [],
   "source": [
    "theta_1, theta_2 = 0.2871, 1.6923"
   ],
   "metadata": {
    "collapsed": false,
    "ExecuteTime": {
     "end_time": "2024-01-18T12:17:11.991086700Z",
     "start_time": "2024-01-18T12:17:11.973057Z"
    }
   },
   "id": "35dfba8ce5b0c90f"
  },
  {
   "cell_type": "code",
   "execution_count": 4,
   "outputs": [],
   "source": [
    "def U_1(theta: float):\n",
    "    qc_1 = QuantumCircuit(1)\n",
    "    qc_1.rx(theta=theta,qubit=0)\n",
    "    return np.array(Operator(qc_1))\n",
    "\n",
    "def U_2(theta: float):\n",
    "    qc_2 = QuantumCircuit(1)\n",
    "    qc_2.ry(theta=theta, qubit=0)\n",
    "    return np.array(Operator(qc_2))"
   ],
   "metadata": {
    "collapsed": false,
    "ExecuteTime": {
     "end_time": "2024-01-18T12:17:12.427628900Z",
     "start_time": "2024-01-18T12:17:12.407677100Z"
    }
   },
   "id": "ac7d53f95a6e6da5"
  },
  {
   "cell_type": "code",
   "outputs": [],
   "source": [
    "qc = QuantumCircuit(2)\n",
    "qc.x(0)\n",
    "qc.x(1)\n",
    "XX = np.array(Operator(qc))\n",
    "qc = QuantumCircuit(2)\n",
    "qc.y(0)\n",
    "qc.y(1)\n",
    "YY = np.array(Operator(qc))\n"
   ],
   "metadata": {
    "collapsed": false,
    "ExecuteTime": {
     "end_time": "2024-01-18T12:17:12.675873200Z",
     "start_time": "2024-01-18T12:17:12.659529400Z"
    }
   },
   "id": "2aae05d062eab8d8",
   "execution_count": 5
  },
  {
   "cell_type": "code",
   "execution_count": 6,
   "outputs": [
    {
     "name": "stderr",
     "output_type": "stream",
     "text": [
      "C:\\Users\\madse\\.python_venvs\\QiskitStuff\\lib\\site-packages\\qiskit\\visualization\\circuit\\matplotlib.py:266: FutureWarning: The default matplotlib drawer scheme will be changed to \"iqp\" in a following release. To silence this warning, specify the current default explicitly as style=\"clifford\", or the new default as style=\"iqp\".\n",
      "  self._style, def_font_ratio = load_style(self._style)\n"
     ]
    },
    {
     "data": {
      "text/plain": "<Figure size 352.675x117.056 with 1 Axes>",
      "image/png": "[encoded data removed]"
     },
     "execution_count": 6,
     "metadata": {},
     "output_type": "execute_result"
    }
   ],
   "source": [
    "qc = QuantumCircuit(1)\n",
    "result_0 = execute(qc, simulator).result()\n",
    "psi_0 = np.array(result_0.get_statevector())\n",
    "\n",
    "qc.h(qubit=0)\n",
    "result_1 = execute(qc, simulator).result()\n",
    "psi_1 = np.array(result_1.get_statevector())\n",
    "\n",
    "qc.rx(theta=theta_1,qubit=0)\n",
    "result_2 = execute(qc, simulator).result()\n",
    "psi_2 = np.array(result_2.get_statevector())\n",
    "\n",
    "qc.ry(theta=theta_2,qubit=0)\n",
    "result_f = execute(qc, simulator).result()\n",
    "psi_f = np.array(result_f.get_statevector())\n",
    "\n",
    "qc.draw(output='mpl')"
   ],
   "metadata": {
    "collapsed": false,
    "ExecuteTime": {
     "end_time": "2024-01-18T12:17:13.694501100Z",
     "start_time": "2024-01-18T12:17:13.063427Z"
    }
   },
   "id": "444375a3b942b64d"
  },
  {
   "cell_type": "code",
   "execution_count": 7,
   "outputs": [],
   "source": [
    "X_mat = np.array([[0,1],\n",
    "                  [1,0]], dtype=np.complex128) \n",
    "Y_mat = np.array([[0,-1j],\n",
    "                  [1j, 0]], dtype=np.complex128) "
   ],
   "metadata": {
    "collapsed": false,
    "ExecuteTime": {
     "end_time": "2024-01-18T12:17:13.738282100Z",
     "start_time": "2024-01-18T12:17:13.693291500Z"
    }
   },
   "id": "a55e308ce8f1dd90"
  },
  {
   "cell_type": "code",
   "execution_count": 8,
   "outputs": [],
   "source": [
    "O = 2*X_mat+Y_mat"
   ],
   "metadata": {
    "collapsed": false,
    "ExecuteTime": {
     "end_time": "2024-01-18T12:17:13.823526600Z",
     "start_time": "2024-01-18T12:17:13.805069400Z"
    }
   },
   "id": "5422e8f6da9557c8"
  },
  {
   "cell_type": "code",
   "execution_count": 9,
   "outputs": [],
   "source": [
    "# Parameter shift\n",
    "deriv_theta_1 = 1/2*((psi_1.conj().T @ (U_1(theta_1 + np.pi/2).conj().T @ (O @ (U_1(theta_1 + np.pi/2) @ psi_1)))) - (psi_1.conj().T @ (U_1(theta_1 - np.pi/2).conj().T @ (O @ (U_1(theta_1 - np.pi/2) @ psi_1)))))\n",
    "\n",
    "deriv_theta_2 = 1/2*((psi_2.conj().T @ (U_2(theta_2 + np.pi/2).conj().T @ (O @ (U_2(theta_2 + np.pi/2) @ psi_2)))) - (psi_2.conj().T @ (U_2(theta_2 - np.pi/2).conj().T @ (O @ (U_2(theta_2 - np.pi/2) @ psi_2)))))\n",
    "my_derivs = np.array([deriv_theta_1, deriv_theta_2])"
   ],
   "metadata": {
    "collapsed": false,
    "ExecuteTime": {
     "end_time": "2024-01-18T12:17:14.197118100Z",
     "start_time": "2024-01-18T12:17:14.183015500Z"
    }
   },
   "id": "cd8f739cf002170e"
  },
  {
   "cell_type": "code",
   "execution_count": 10,
   "outputs": [
    {
     "data": {
      "text/plain": "((2.220446049250313e-16-5.551115123125783e-17j),\n (-1.98525501099378+8.326672684688674e-17j))"
     },
     "execution_count": 10,
     "metadata": {},
     "output_type": "execute_result"
    }
   ],
   "source": [
    "deriv_theta_1, deriv_theta_2"
   ],
   "metadata": {
    "collapsed": false,
    "ExecuteTime": {
     "end_time": "2024-01-18T12:17:14.633945400Z",
     "start_time": "2024-01-18T12:17:14.623111100Z"
    }
   },
   "id": "cb9b19f413c905a3"
  },
  {
   "cell_type": "code",
   "execution_count": 11,
   "outputs": [],
   "source": [
    "#Instantiate the quantum circuit\n",
    "a = Parameter('a')\n",
    "b = Parameter('b')\n",
    "q = QuantumRegister(1)\n",
    "qc = QuantumCircuit(q)\n",
    "qc.h(q)\n",
    "qc.rx(a, q[0])\n",
    "qc.ry(b, q[0])\n",
    "\n",
    "#Instantiate the Hamiltonian observable 2X+Y\n",
    "H = SparsePauliOp.from_list([('X', 2), ('Y',1)])\n",
    "\n",
    "#Parameter list\n",
    "params = [[theta_1, theta_2]]"
   ],
   "metadata": {
    "collapsed": false,
    "ExecuteTime": {
     "end_time": "2024-01-18T12:17:15.250067400Z",
     "start_time": "2024-01-18T12:17:15.236400500Z"
    }
   },
   "id": "7840a5a80161595d"
  },
  {
   "cell_type": "code",
   "execution_count": 12,
   "outputs": [],
   "source": [
    "#Define the estimator\n",
    "estimator = Estimator()\n",
    "#Define the gradient\n",
    "gradient = ParamShiftEstimatorGradient(estimator)\n",
    "\n",
    "# Evaluate the gradient of the circuits using parameter shift gradients\n",
    "pse_grad_result = gradient.run(qc, H,  params).result().gradients\n"
   ],
   "metadata": {
    "collapsed": false,
    "ExecuteTime": {
     "end_time": "2024-01-18T12:17:15.684009700Z",
     "start_time": "2024-01-18T12:17:15.659835700Z"
    }
   },
   "id": "4bf66b3830e25489"
  },
  {
   "cell_type": "code",
   "execution_count": 13,
   "outputs": [
    {
     "data": {
      "text/plain": "True"
     },
     "execution_count": 13,
     "metadata": {},
     "output_type": "execute_result"
    }
   ],
   "source": [
    "np.allclose(my_derivs,pse_grad_result)"
   ],
   "metadata": {
    "collapsed": false,
    "ExecuteTime": {
     "end_time": "2024-01-18T12:17:15.883141700Z",
     "start_time": "2024-01-18T12:17:15.861942Z"
    }
   },
   "id": "84c358df9bd02f64"
  },
  {
   "cell_type": "code",
   "execution_count": 15,
   "outputs": [
    {
     "ename": "TypeError",
     "evalue": "QuantumCircuit.rxx() missing 1 required positional argument: 'qubit2'",
     "output_type": "error",
     "traceback": [
      "\u001B[1;31m---------------------------------------------------------------------------\u001B[0m",
      "\u001B[1;31mTypeError\u001B[0m                                 Traceback (most recent call last)",
      "Cell \u001B[1;32mIn[15], line 6\u001B[0m\n\u001B[0;32m      3\u001B[0m params \u001B[38;5;241m=\u001B[39m [Parameter(\u001B[38;5;124mf\u001B[39m\u001B[38;5;124m'\u001B[39m\u001B[38;5;124mtheta_\u001B[39m\u001B[38;5;132;01m{\u001B[39;00mi\u001B[38;5;132;01m}\u001B[39;00m\u001B[38;5;124m'\u001B[39m) \u001B[38;5;28;01mfor\u001B[39;00m i \u001B[38;5;129;01min\u001B[39;00m \u001B[38;5;28mrange\u001B[39m(N_QUBITS\u001B[38;5;241m-\u001B[39m\u001B[38;5;241m1\u001B[39m)]\n\u001B[0;32m      5\u001B[0m qc \u001B[38;5;241m=\u001B[39m QuantumCircuit(q)\n\u001B[1;32m----> 6\u001B[0m \u001B[43mqc\u001B[49m\u001B[38;5;241;43m.\u001B[39;49m\u001B[43mrxx\u001B[49m\u001B[43m(\u001B[49m\u001B[43mparams\u001B[49m\u001B[43m[\u001B[49m\u001B[38;5;241;43m0\u001B[39;49m\u001B[43m]\u001B[49m\u001B[43m,\u001B[49m\u001B[43m \u001B[49m\u001B[43mq\u001B[49m\u001B[43m[\u001B[49m\u001B[38;5;241;43m0\u001B[39;49m\u001B[43m]\u001B[49m\u001B[43m)\u001B[49m\n\u001B[0;32m      7\u001B[0m qc\u001B[38;5;241m.\u001B[39mryy(params[\u001B[38;5;241m0\u001B[39m], q[\u001B[38;5;241m0\u001B[39m])\n\u001B[0;32m      9\u001B[0m \u001B[38;5;66;03m#Instantiate the Hamiltonian observable 2X+Y\u001B[39;00m\n",
      "\u001B[1;31mTypeError\u001B[0m: QuantumCircuit.rxx() missing 1 required positional argument: 'qubit2'"
     ]
    }
   ],
   "source": [
    "#Instantiate the quantum circuit\n",
    "N_QUBITS = 2\n",
    "params = [Parameter(f'theta_{i}') for i in range(N_QUBITS-1)]\n",
    "\n",
    "qc = QuantumCircuit(q)\n",
    "qc.rxx(params[0], q[0])\n",
    "qc.ryy(params[0], q[0])\n",
    "\n",
    "#Instantiate the Hamiltonian observable 2X+Y\n",
    "H = SparsePauliOp.from_list([('X', 2), ('Y',1)])\n",
    "\n",
    "#Parameter list\n",
    "params = [[theta_1, theta_2]]\n",
    "\n",
    "#Define the estimator\n",
    "estimator = Estimator()\n",
    "#Define the gradient\n",
    "gradient = ParamShiftEstimatorGradient(estimator)\n",
    "# Evaluate the gradient of the circuits using parameter shift gradients\n",
    "pse_grad_result = gradient.run(qc, H,  params).result().gradients\n"
   ],
   "metadata": {
    "collapsed": false,
    "ExecuteTime": {
     "end_time": "2024-01-18T12:17:33.432553600Z",
     "start_time": "2024-01-18T12:17:33.405400600Z"
    }
   },
   "id": "c07519995359e8f1"
  },
  {
   "cell_type": "code",
   "execution_count": null,
   "outputs": [],
   "source": [],
   "metadata": {
    "collapsed": false
   },
   "id": "945d7f29d10adaf"
  }
 ],
 "metadata": {
  "kernelspec": {
   "display_name": "Python 3",
   "language": "python",
   "name": "python3"
  },
  "language_info": {
   "codemirror_mode": {
    "name": "ipython",
    "version": 2
   },
   "file_extension": ".py",
   "mimetype": "text/x-python",
   "name": "python",
   "nbconvert_exporter": "python",
   "pygments_lexer": "ipython2",
   "version": "2.7.6"
  }
 },
 "nbformat": 4,
 "nbformat_minor": 5
}
