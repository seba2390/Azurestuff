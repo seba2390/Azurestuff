{
 "cells": [
  {
   "cell_type": "code",
   "outputs": [],
   "source": [
    "import numpy as np\n",
    "import scipy as sc\n",
    "\n",
    "from src.CPQAOA import CP_QAOA\n",
    "from src.QAOA import QAOA\n",
    "from src.Pennylane_QAOA import Pennylane_QAOA\n",
    "#from src.Bluequbit_QAOA import Bluequbit_QAOA\n",
    "from src.Cirq_QAOA import Cirq_QAOA\n",
    "from src.Chain import Chain\n",
    "from src.Grid import Grid\n",
    "from src.Tools import (portfolio_metrics, \n",
    "                       min_cost_partition, \n",
    "                       get_qubo, \n",
    "                       normalized_cost, \n",
    "                       qubo_limits, \n",
    "                       check_qubo, \n",
    "                       get_ising)\n",
    "from src.Tools import get_qiskit_H"
   ],
   "metadata": {
    "collapsed": false,
    "ExecuteTime": {
     "end_time": "2024-02-06T15:29:01.395351Z",
     "start_time": "2024-02-06T15:28:58.566438Z"
    }
   },
   "id": "f16b6db3b1b4f46a",
   "execution_count": 1
  },
  {
   "cell_type": "code",
   "outputs": [],
   "source": [
    "n_qubits = 11\n",
    "init_strat = np.array([1 if i%2 == 1 else 0 for i in range(n_qubits)])\n",
    "k = n_qubits // 2\n",
    "my_indices = [(i, i+1) for i in range(n_qubits-1)]\n",
    "n_layers = 2\n",
    "alpha = 0.5\n",
    "seed = 0\n",
    "\n",
    "max_iter = 1500"
   ],
   "metadata": {
    "collapsed": false,
    "ExecuteTime": {
     "end_time": "2024-02-06T15:29:01.400642Z",
     "start_time": "2024-02-06T15:29:01.396807Z"
    }
   },
   "id": "c9acd18341dba2f0",
   "execution_count": 2
  },
  {
   "cell_type": "code",
   "execution_count": 3,
   "outputs": [],
   "source": [
    " # Defining topology\n",
    "my_chain = Chain(N_qubits=n_qubits)\n",
    "my_chain.set_initialization_strategy(strategy=init_strat)\n",
    "\n",
    "# Deciding between grid and 1d chain topology\n",
    "my_topology = my_chain\n",
    "\n",
    "# Generating random problem instance \n",
    "expected_returns, covariances = portfolio_metrics(n=n_qubits, seed=seed)\n",
    "\n",
    "# Retrieving C_min, C_max and corresponding states for original portfolio problem\n",
    "constrained_result, full_result, lmbda = min_cost_partition(nr_qubits=n_qubits,\n",
    "                                                            k=k,\n",
    "                                                            mu=expected_returns,\n",
    "                                                            sigma=covariances,\n",
    "                                                            alpha=alpha)\n",
    "\n",
    "portfolio_subspace_max_cost, portfolio_subspace_min_cost, portfolio_subspace_min_state = constrained_result['c_max'], constrained_result['c_min'], constrained_result['s']\n",
    "#full_space_max_cost = full_result['c_max']\n",
    "portfolio_subspace_min_state_str = ''.join([str(_) for _ in portfolio_subspace_min_state])\n",
    "\n",
    "# Generating QUBO corresponding to current problem instance\n",
    "Q, offset = get_qubo(mu=expected_returns,\n",
    "                     sigma=covariances, \n",
    "                     alpha=alpha,\n",
    "                     lmbda=lmbda+1e-8, # Adding small constant purposely\n",
    "                     k=k)\n",
    "QUBO_limits = qubo_limits(Q=Q,offset=offset)\n",
    "qubo_min_cost, qubo_max_cost = QUBO_limits['c_min'], QUBO_limits['c_max']\n",
    "qubo_min_state, qubo_max_state = QUBO_limits['min_state'], QUBO_limits['max_state']\n",
    "check_qubo(QUBO_matrix=Q, QUBO_offset=offset, expected_returns=expected_returns, covariances=covariances, alpha=alpha, k=k)\n",
    "qubo_min_state_str = ''.join([str(_) for _ in qubo_min_state])\n",
    "\n",
    "\n",
    "if not portfolio_subspace_min_state_str == qubo_min_state_str:\n",
    "    raise RuntimeError(f'portfolio_subspace_min_state_str: {portfolio_subspace_min_state_str}, qubo_min_state_str={qubo_min_state_str}'+f'Min. cost of qubo is: {qubo_min_cost}, but min. cost of constrained portfolio is: {portfolio_subspace_min_cost}.')\n",
    "\n",
    "if not np.isclose(qubo_min_cost,portfolio_subspace_min_cost):\n",
    "    raise RuntimeError(f'Min. cost of qubo is: {qubo_min_cost}, but min. cost of constrained portfolio is: {portfolio_subspace_min_cost}.')\n",
    "\n",
    "if not qubo_max_cost >= portfolio_subspace_max_cost:\n",
    "    raise RuntimeError(f'Max. cost of qubo: {qubo_max_cost}, max. cost of portfolio subspace: {portfolio_subspace_max_cost} (should be qubo max. >= constrained portfolio max)')"
   ],
   "metadata": {
    "collapsed": false,
    "ExecuteTime": {
     "end_time": "2024-02-06T15:29:01.458035Z",
     "start_time": "2024-02-06T15:29:01.401943Z"
    }
   },
   "id": "15b1db20c1c5381d"
  },
  {
   "cell_type": "code",
   "outputs": [],
   "source": [
    "qiskit_ansatz = QAOA(N_qubits=n_qubits,\n",
    "                     layers=n_layers,\n",
    "                     QUBO_matrix=Q,\n",
    "                     QUBO_offset=offset,\n",
    "                     constraining_mixer=False,\n",
    "                     Topology=my_topology)\n",
    "\n",
    "pennylane_ansatz = Pennylane_QAOA(N_qubits=n_qubits,\n",
    "                                  layers=n_layers,\n",
    "                                  QUBO_matrix=Q,\n",
    "                                  QUBO_offset=offset)\n",
    "\n",
    "\"\"\"bluequbit_ansatz = Bluequbit_QAOA(N_qubits=n_qubits,\n",
    "                                  layers=n_layers,\n",
    "                                  QUBO_matrix=Q,\n",
    "                                  QUBO_offset=offset)\"\"\"\n",
    "\n",
    "cirq_ansatz = Cirq_QAOA(N_qubits=n_qubits,\n",
    "                                  layers=n_layers,\n",
    "                                  QUBO_matrix=Q,\n",
    "                                  QUBO_offset=offset)"
   ],
   "metadata": {
    "collapsed": false,
    "ExecuteTime": {
     "end_time": "2024-02-06T15:29:11.405715Z",
     "start_time": "2024-02-06T15:29:11.399819Z"
    }
   },
   "id": "290359b4ce2ae241",
   "execution_count": 6
  },
  {
   "cell_type": "code",
   "outputs": [],
   "source": [
    "# Choosing optimizer for scipy\n",
    "available_methods = ['COBYLA', 'Nelder-Mead', 'BFGS']\n",
    "optimizer_method = available_methods[0]\n",
    "\n",
    "# Generating callback function for plotting\n",
    "qiskit_costs = [] # Normalized costs\n",
    "qiskit_probs = [] # probability of optimal state\n",
    "def qiskit_callback(x):\n",
    "    _dict_ = qiskit_ansatz.get_state_probabilities(flip_states=False)\n",
    "    # N.B. Normalizing w. respect to full space max cost\n",
    "    _cost_ = normalized_cost(result=_dict_,\n",
    "                             QUBO_matrix=Q,\n",
    "                             QUBO_offset=offset,\n",
    "                             max_cost=portfolio_subspace_max_cost, \n",
    "                             min_cost=qubo_min_cost)\n",
    "    if portfolio_subspace_min_state_str in list(_dict_.keys()):\n",
    "        qiskit_probs.append(_dict_[portfolio_subspace_min_state_str])\n",
    "    else:\n",
    "        qiskit_probs.append(0)\n",
    "    qiskit_costs.append(_cost_)\n",
    "    \n",
    "# Generating callback function for plotting\n",
    "pennylane_costs = [] # Normalized costs\n",
    "pennylane_probs = [] # probability of optimal state\n",
    "def pennylane_callback(x):\n",
    "    _dict_ = pennylane_ansatz.get_state_probabilities(flip_states=False)\n",
    "    # N.B. Normalizing w. respect to full space max cost\n",
    "    _cost_ = normalized_cost(result=_dict_,\n",
    "                             QUBO_matrix=Q,\n",
    "                             QUBO_offset=offset,\n",
    "                             max_cost=portfolio_subspace_max_cost, \n",
    "                             min_cost=qubo_min_cost)\n",
    "    if portfolio_subspace_min_state_str in list(_dict_.keys()):\n",
    "        pennylane_probs.append(_dict_[portfolio_subspace_min_state_str])\n",
    "    else:\n",
    "        pennylane_probs.append(0)\n",
    "    pennylane_costs.append(_cost_)\n",
    "    \n",
    "\n",
    "\"\"\"# Generating callback function for plotting\n",
    "bluequbit_costs = [] # Normalized costs\n",
    "bluequbit_probs = [] # probability of optimal state\n",
    "def bluequbit_callback(x):\n",
    "    _dict_ = bluequbit_ansatz.get_state_probabilities(flip_states=False)\n",
    "    # N.B. Normalizing w. respect to full space max cost\n",
    "    _cost_ = normalized_cost(result=_dict_,\n",
    "                             QUBO_matrix=Q,\n",
    "                             QUBO_offset=offset,\n",
    "                             max_cost=portfolio_subspace_max_cost, \n",
    "                             min_cost=qubo_min_cost)\n",
    "    if portfolio_subspace_min_state_str in list(_dict_.keys()):\n",
    "        bluequbit_probs.append(_dict_[portfolio_subspace_min_state_str])\n",
    "    else:\n",
    "        bluequbit_probs.append(0)\n",
    "    bluequbit_costs.append(_cost_)\"\"\"\n",
    "\n",
    "\n",
    "# Generating callback function for plotting\n",
    "cirq_costs = [] # Normalized costs\n",
    "cirq_probs = [] # probability of optimal state\n",
    "def cirq_callback(x):\n",
    "    _dict_ = cirq_ansatz.get_state_probabilities(flip_states=False)\n",
    "    # N.B. Normalizing w. respect to full space max cost\n",
    "    _cost_ = normalized_cost(result=_dict_,\n",
    "                             QUBO_matrix=Q,\n",
    "                             QUBO_offset=offset,\n",
    "                             max_cost=portfolio_subspace_max_cost, \n",
    "                             min_cost=qubo_min_cost)\n",
    "    if portfolio_subspace_min_state_str in list(_dict_.keys()):\n",
    "        cirq_probs.append(_dict_[portfolio_subspace_min_state_str])\n",
    "    else:\n",
    "        cirq_probs.append(0)\n",
    "    cirq_costs.append(_cost_)\n",
    "\n",
    "# Generating initial guess for rotation angles\n",
    "np.random.seed(seed)\n",
    "theta_min, theta_max = -2*np.pi, 2*np.pi\n",
    "N_angles = 2 * n_layers\n",
    "theta_i = np.random.uniform(low=theta_min, high=theta_max, size=N_angles)"
   ],
   "metadata": {
    "collapsed": false,
    "ExecuteTime": {
     "end_time": "2024-02-06T15:29:12.266899Z",
     "start_time": "2024-02-06T15:29:12.264874Z"
    }
   },
   "id": "d114248f968f9ee6",
   "execution_count": 7
  },
  {
   "cell_type": "code",
   "outputs": [
    {
     "data": {
      "text/plain": " message: Optimization terminated successfully.\n success: True\n  status: 1\n     fun: -0.20516798999500008\n       x: [ 3.974e-01  2.833e+00  1.916e+00  1.485e+00]\n    nfev: 595\n   maxcv: 0.0"
     },
     "execution_count": 8,
     "metadata": {},
     "output_type": "execute_result"
    }
   ],
   "source": [
    "qiskit_res = sc.optimize.minimize(fun=qiskit_ansatz.get_cost, \n",
    "                                  x0=theta_i,\n",
    "                                  method=optimizer_method,\n",
    "                                  options={'disp': False, \n",
    "                                           'maxiter': max_iter},\n",
    "                                  callback=qiskit_callback)\n",
    "qiskit_res\n"
   ],
   "metadata": {
    "collapsed": false,
    "ExecuteTime": {
     "end_time": "2024-02-06T15:29:33.765703Z",
     "start_time": "2024-02-06T15:29:14.092137Z"
    }
   },
   "id": "286dc536b14363b2",
   "execution_count": 8
  },
  {
   "cell_type": "code",
   "outputs": [
    {
     "data": {
      "text/plain": " message: Optimization terminated successfully.\n success: True\n  status: 1\n     fun: -0.20323057649361975\n       x: [ 7.483e-01  2.713e+00  2.240e+00  1.333e+00]\n    nfev: 425\n   maxcv: 0.0"
     },
     "execution_count": 9,
     "metadata": {},
     "output_type": "execute_result"
    }
   ],
   "source": [
    "pennylane_res = sc.optimize.minimize(fun=pennylane_ansatz.get_cost, \n",
    "                                     x0=theta_i,\n",
    "                                     method=optimizer_method,\n",
    "                                     options={'disp': False, \n",
    "                                               'maxiter': max_iter},\n",
    "                                     callback=pennylane_callback)\n",
    "pennylane_res"
   ],
   "metadata": {
    "collapsed": false,
    "ExecuteTime": {
     "end_time": "2024-02-06T15:29:44.359424Z",
     "start_time": "2024-02-06T15:29:33.746657Z"
    }
   },
   "id": "7224bcb1662f6e8d",
   "execution_count": 9
  },
  {
   "cell_type": "code",
   "outputs": [
    {
     "data": {
      "text/plain": "\"bluequbit_res = sc.optimize.minimize(fun=bluequbit_ansatz.get_cost, \\n                                     x0=theta_i,\\n                                     method=optimizer_method,\\n                                     options={'disp': False, \\n                                               'maxiter': max_iter},\\n                                     callback=bluequbit_callback)\\nbluequbit_res\""
     },
     "execution_count": 10,
     "metadata": {},
     "output_type": "execute_result"
    }
   ],
   "source": [
    "\"\"\"bluequbit_res = sc.optimize.minimize(fun=bluequbit_ansatz.get_cost, \n",
    "                                     x0=theta_i,\n",
    "                                     method=optimizer_method,\n",
    "                                     options={'disp': False, \n",
    "                                               'maxiter': max_iter},\n",
    "                                     callback=bluequbit_callback)\n",
    "bluequbit_res\"\"\""
   ],
   "metadata": {
    "collapsed": false,
    "ExecuteTime": {
     "end_time": "2024-02-06T15:29:44.359753Z",
     "start_time": "2024-02-06T15:29:44.355919Z"
    }
   },
   "id": "7a1417afc1d56fe7",
   "execution_count": 10
  },
  {
   "cell_type": "code",
   "execution_count": 11,
   "outputs": [
    {
     "data": {
      "text/plain": " message: Optimization terminated successfully.\n success: True\n  status: 1\n     fun: -0.20030032497387046\n       x: [ 2.059e+00  2.686e+00  9.315e-01  5.305e-01]\n    nfev: 60\n   maxcv: 0.0"
     },
     "execution_count": 11,
     "metadata": {},
     "output_type": "execute_result"
    }
   ],
   "source": [
    "cirq_res = sc.optimize.minimize(fun=cirq_ansatz.get_cost, \n",
    "                                     x0=theta_i,\n",
    "                                     method=optimizer_method,\n",
    "                                     options={'disp': False, \n",
    "                                               'maxiter': max_iter},\n",
    "                                     callback=cirq_callback)\n",
    "cirq_res"
   ],
   "metadata": {
    "collapsed": false,
    "ExecuteTime": {
     "end_time": "2024-02-06T15:29:46.756861Z",
     "start_time": "2024-02-06T15:29:44.359604Z"
    }
   },
   "id": "cd026852ee774c34"
  },
  {
   "cell_type": "code",
   "outputs": [
    {
     "data": {
      "text/plain": "(16.30989980697632, 3.0329692363739014)"
     },
     "execution_count": 12,
     "metadata": {},
     "output_type": "execute_result"
    }
   ],
   "source": [
    "qiskit_ansatz.circuit_time, qiskit_ansatz.cost_time"
   ],
   "metadata": {
    "collapsed": false,
    "ExecuteTime": {
     "end_time": "2024-02-06T15:29:46.757334Z",
     "start_time": "2024-02-06T15:29:46.753327Z"
    }
   },
   "id": "c7f327e3c3a2254f",
   "execution_count": 12
  },
  {
   "cell_type": "code",
   "outputs": [
    {
     "data": {
      "text/plain": "(8.38973093032837, 2.060220241546631)"
     },
     "execution_count": 13,
     "metadata": {},
     "output_type": "execute_result"
    }
   ],
   "source": [
    "pennylane_ansatz.circuit_time, pennylane_ansatz.cost_time"
   ],
   "metadata": {
    "collapsed": false,
    "ExecuteTime": {
     "end_time": "2024-02-06T15:29:46.763269Z",
     "start_time": "2024-02-06T15:29:46.757183Z"
    }
   },
   "id": "beb4a8be1aa31ec",
   "execution_count": 13
  },
  {
   "cell_type": "code",
   "outputs": [],
   "source": [
    "#bluequbit_ansatz.circuit_time, bluequbit_ansatz.cost_time"
   ],
   "metadata": {
    "collapsed": false,
    "ExecuteTime": {
     "end_time": "2024-02-06T15:29:46.763536Z",
     "start_time": "2024-02-06T15:29:46.760023Z"
    }
   },
   "id": "37d2ecc8155321d7",
   "execution_count": 14
  },
  {
   "cell_type": "code",
   "execution_count": 15,
   "outputs": [
    {
     "data": {
      "text/plain": "(2.0803475379943848, 0.28264951705932617)"
     },
     "execution_count": 15,
     "metadata": {},
     "output_type": "execute_result"
    }
   ],
   "source": [
    "cirq_ansatz.circuit_time, cirq_ansatz.cost_time"
   ],
   "metadata": {
    "collapsed": false,
    "ExecuteTime": {
     "end_time": "2024-02-06T15:29:46.769133Z",
     "start_time": "2024-02-06T15:29:46.762523Z"
    }
   },
   "id": "87ebd3e5e9783754"
  },
  {
   "cell_type": "code",
   "outputs": [],
   "source": [],
   "metadata": {
    "collapsed": false
   },
   "id": "20de8f6af1a0c472",
   "execution_count": null
  }
 ],
 "metadata": {
  "kernelspec": {
   "display_name": "Python 3",
   "language": "python",
   "name": "python3"
  },
  "language_info": {
   "codemirror_mode": {
    "name": "ipython",
    "version": 2
   },
   "file_extension": ".py",
   "mimetype": "text/x-python",
   "name": "python",
   "nbconvert_exporter": "python",
   "pygments_lexer": "ipython2",
   "version": "2.7.6"
  }
 },
 "nbformat": 4,
 "nbformat_minor": 5
}
