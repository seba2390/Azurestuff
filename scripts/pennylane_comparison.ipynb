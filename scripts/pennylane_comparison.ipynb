{
 "cells": [
  {
   "cell_type": "code",
   "outputs": [],
   "source": [
    "import pennylane as qml\n",
    "import numpy as np\n",
    "\n",
    "from qiskit.quantum_info import Operator\n",
    "\n",
    "from src.CPQAOA import CP_QAOA\n",
    "from src.QAOA import QAOA\n",
    "from src.Chain import Chain\n",
    "from src.Tools import (portfolio_metrics, \n",
    "                       min_cost_partition, \n",
    "                       get_qubo, \n",
    "                       normalized_cost, \n",
    "                       qubo_limits, \n",
    "                       check_qubo)\n",
    "from src.Tools import get_qiskit_H"
   ],
   "metadata": {
    "collapsed": false,
    "ExecuteTime": {
     "end_time": "2024-02-05T22:29:52.357576Z",
     "start_time": "2024-02-05T22:29:52.353157Z"
    }
   },
   "id": "f16b6db3b1b4f46a",
   "execution_count": 274
  },
  {
   "cell_type": "code",
   "outputs": [],
   "source": [
    "n_wires = 17\n",
    "init_strat = np.array([1 if i%2 == 1 else 0 for i in range(n_wires)])\n",
    "k = n_wires // 2\n",
    "my_indices = [(i, i+1) for i in range(n_wires-1)]\n",
    "n_layers = 4\n",
    "alpha = 0.5\n",
    "seed = 0\n",
    "gamma_vals, beta_vals = np.random.uniform(-2*np.pi, 2*np.pi, n_layers), np.random.uniform(-2*np.pi, 2*np.pi, n_layers)\n",
    "#TODO: Check out the 'lightning.gpu' plugin, which is a fast state-vector simulator offloading to the NVIDIA cuQuantum SDK for GPU accelerated circuit simulation. (not supported on windows...)\n",
    "dev = qml.device('lightning.qubit', wires=n_wires)"
   ],
   "metadata": {
    "collapsed": false,
    "ExecuteTime": {
     "end_time": "2024-02-05T22:29:52.499552Z",
     "start_time": "2024-02-05T22:29:52.497095Z"
    }
   },
   "id": "c9acd18341dba2f0",
   "execution_count": 275
  },
  {
   "cell_type": "code",
   "execution_count": 276,
   "outputs": [],
   "source": [
    " # Defining topology\n",
    "my_chain = Chain(N_qubits=n_wires)\n",
    "my_chain.set_initialization_strategy(strategy=init_strat)\n",
    "\n",
    "# Deciding between grid and 1d chain topology\n",
    "my_topology = my_chain\n",
    "\n",
    "# Generating random problem instance \n",
    "expected_returns, covariances = portfolio_metrics(n=n_wires, seed=seed)\n",
    "\n",
    "# Retrieving C_min, C_max and corresponding states for original portfolio problem\n",
    "constrained_result, full_result, lmbda = min_cost_partition(nr_qubits=n_wires,\n",
    "                                                            k=k,\n",
    "                                                            mu=expected_returns,\n",
    "                                                            sigma=covariances,\n",
    "                                                            alpha=alpha)\n",
    "\n",
    "portfolio_subspace_max_cost, portfolio_subspace_min_cost, portfolio_subspace_min_state = constrained_result['c_max'], constrained_result['c_min'], constrained_result['s']\n",
    "#full_space_max_cost = full_result['c_max']\n",
    "portfolio_subspace_min_state_str = ''.join([str(_) for _ in portfolio_subspace_min_state])\n",
    "\n",
    "# Generating QUBO corresponding to current problem instance\n",
    "Q, offset = get_qubo(mu=expected_returns,\n",
    "                     sigma=covariances, \n",
    "                     alpha=alpha,\n",
    "                     lmbda=lmbda+1e-8, # Adding small constant purposely\n",
    "                     k=k)\n",
    "QUBO_limits = qubo_limits(Q=Q,offset=offset)\n",
    "qubo_min_cost, qubo_max_cost = QUBO_limits['c_min'], QUBO_limits['c_max']\n",
    "qubo_min_state, qubo_max_state = QUBO_limits['min_state'], QUBO_limits['max_state']\n",
    "check_qubo(QUBO_matrix=Q, QUBO_offset=offset, expected_returns=expected_returns, covariances=covariances, alpha=alpha, k=k)\n",
    "qubo_min_state_str = ''.join([str(_) for _ in qubo_min_state])\n",
    "\n",
    "\n",
    "if not portfolio_subspace_min_state_str == qubo_min_state_str:\n",
    "    raise RuntimeError(f'portfolio_subspace_min_state_str: {portfolio_subspace_min_state_str}, qubo_min_state_str={qubo_min_state_str}'+f'Min. cost of qubo is: {qubo_min_cost}, but min. cost of constrained portfolio is: {portfolio_subspace_min_cost}.')\n",
    "\n",
    "if not np.isclose(qubo_min_cost,portfolio_subspace_min_cost):\n",
    "    raise RuntimeError(f'Min. cost of qubo is: {qubo_min_cost}, but min. cost of constrained portfolio is: {portfolio_subspace_min_cost}.')\n",
    "\n",
    "if not qubo_max_cost >= portfolio_subspace_max_cost:\n",
    "    raise RuntimeError(f'Max. cost of qubo: {qubo_max_cost}, max. cost of portfolio subspace: {portfolio_subspace_max_cost} (should be qubo max. >= constrained portfolio max)')"
   ],
   "metadata": {
    "collapsed": false,
    "ExecuteTime": {
     "end_time": "2024-02-05T22:29:56.915337Z",
     "start_time": "2024-02-05T22:29:53.312048Z"
    }
   },
   "id": "15b1db20c1c5381d"
  },
  {
   "cell_type": "code",
   "outputs": [],
   "source": [
    "# unitary operator U_B with parameter beta\n",
    "def U_B(beta, n_wires):\n",
    "    for wire in range(n_wires):\n",
    "        qml.RX(2 * beta, wires=wire)\n",
    "\n",
    "def RZ(angle, qubit):\n",
    "    qml.RZ(phi=angle, wires=qubit)\n",
    "\n",
    "def RZZ(angle, qubit_1, qubit_2):\n",
    "    qml.CNOT(wires=[qubit_1, qubit_2])\n",
    "    qml.RZ(phi=angle, wires=qubit_2)\n",
    "    qml.CNOT(wires=[qubit_1, qubit_2])\n",
    "# unitary operator U_C with parameter gamma\n",
    "def U_C(gamma, indices):\n",
    "    for pair in indices:\n",
    "        qubit_1, qubit_2 = pair[0], pair[1]\n",
    "        qml.CNOT(wires=[wire1, wire2])\n",
    "        qml.RZ(gamma, wires=wire2)\n",
    "        qml.CNOT(wires=[wire1, wire2])\n",
    "        \n",
    "@qml.qnode(dev)\n",
    "def circuit(gammas, betas, indices, n_layers, n_wires):\n",
    "    # apply Hadamards to get the n qubit |+> state\n",
    "    for wire in range(n_wires):\n",
    "        qml.Hadamard(wires=wire)\n",
    "        \n",
    "    # p instances of unitary operators\n",
    "    for i in range(n_layers):\n",
    "        U_C(gammas[i], indices)\n",
    "        U_B(betas[i], n_wires)\n",
    "\n",
    "    return qml.state()\n",
    "\n",
    "def string_to_array(string_rep: str) -> np.ndarray:\n",
    "    return np.array([int(bit) for bit in string_rep]).astype(np.float64)\n",
    "\n",
    "def qubo_cost(state: np.ndarray, QUBO_matrix: np.ndarray) -> float:\n",
    "    return np.dot(state, np.dot(QUBO_matrix, state))\n",
    "\n",
    "def int_to_fixed_length_binary_array(number, num_bits):\n",
    "    # Convert the number to binary and remove the '0b' prefix\n",
    "    binary_str = bin(number)[2:]\n",
    "    # Pad the binary string with zeros if necessary\n",
    "    return binary_str.zfill(num_bits)\n",
    "\n",
    "def get_counts(state_vector: np.ndarray) -> dict:\n",
    "    n_qubits = int(np.log2(len(state_vector)))\n",
    "    return {int_to_fixed_length_binary_array(number=idx, num_bits=n_qubits): np.abs(state_vector[idx])**2 for idx in range(len(state_vector))}\n",
    "\n",
    "def cost(Q, state_vector: np.ndarray) -> float:\n",
    "    counts = get_counts(state_vector=state_vector)\n",
    "    return np.mean([probability * qubo_cost(state=string_to_array(bitstring), QUBO_matrix=Q) for\n",
    "                        bitstring, probability in counts.items()]) \n"
   ],
   "metadata": {
    "collapsed": false,
    "ExecuteTime": {
     "end_time": "2024-02-05T22:30:06.701363Z",
     "start_time": "2024-02-05T22:30:06.696229Z"
    }
   },
   "id": "7f2431026ec565ab",
   "execution_count": 277
  },
  {
   "cell_type": "code",
   "execution_count": 278,
   "outputs": [],
   "source": [
    "state = circuit(gamma_vals, beta_vals, my_indices, n_layers, n_wires)"
   ],
   "metadata": {
    "collapsed": false,
    "ExecuteTime": {
     "end_time": "2024-02-05T22:30:18.826302Z",
     "start_time": "2024-02-05T22:30:18.820621Z"
    }
   },
   "id": "3429116884e8df41"
  },
  {
   "cell_type": "code",
   "outputs": [
    {
     "data": {
      "text/plain": "-0.043870270390343184"
     },
     "execution_count": 279,
     "metadata": {},
     "output_type": "execute_result"
    }
   ],
   "source": [
    "c = cost(Q=Q, state_vector=state)\n",
    "c"
   ],
   "metadata": {
    "collapsed": false,
    "ExecuteTime": {
     "end_time": "2024-02-05T22:30:23.996805Z",
     "start_time": "2024-02-05T22:30:23.438369Z"
    }
   },
   "id": "46f92c0a0ca8642e",
   "execution_count": 279
  },
  {
   "cell_type": "code",
   "execution_count": null,
   "outputs": [],
   "source": [
    "from typing import *\n",
    "\n",
    "class Pennylane_QAOA:\n",
    "    def __init__(self,\n",
    "                 N_qubits,\n",
    "                 layers,\n",
    "                 QUBO_matrix,\n",
    "                 QUBO_offset,\n",
    "                 constraining_mixer: bool = False,\n",
    "                 Topology: Union[Grid, Chain] = None,\n",
    "                 normalize_cost: bool = False):\n",
    "        self.n_qubits = N_qubits\n",
    "        self.layers = layers\n",
    "        self.QUBO_matrix = QUBO_matrix\n",
    "        self.J_list, self.h_list = get_ising(Q=QUBO_matrix, offset=QUBO_offset)\n",
    "        self.constraining_mixer = constraining_mixer\n",
    "        if constraining_mixer:\n",
    "            if Topology is None:\n",
    "                raise ValueError(f'\"Topology\" should be provided when \"constraining_mixer\" is True...')\n",
    "            self.mixer_qubit_indices = Topology.get_NN_indices()\n",
    "            self.initialization_strategy = Topology.get_initialization_strategy()\n",
    "        self.normalize_cost = normalize_cost\n",
    "\n",
    "        self.counts = None"
   ],
   "metadata": {
    "collapsed": false
   },
   "id": "769f9f1f63721bf4"
  }
 ],
 "metadata": {
  "kernelspec": {
   "display_name": "Python 3",
   "language": "python",
   "name": "python3"
  },
  "language_info": {
   "codemirror_mode": {
    "name": "ipython",
    "version": 2
   },
   "file_extension": ".py",
   "mimetype": "text/x-python",
   "name": "python",
   "nbconvert_exporter": "python",
   "pygments_lexer": "ipython2",
   "version": "2.7.6"
  }
 },
 "nbformat": 4,
 "nbformat_minor": 5
}
