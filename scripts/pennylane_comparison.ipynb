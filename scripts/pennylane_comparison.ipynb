{
 "cells": [
  {
   "cell_type": "code",
   "outputs": [],
   "source": [
    "import pennylane as qml\n",
    "import numpy as np\n",
    "\n",
    "from qiskit.quantum_info import Operator\n",
    "\n",
    "from src.CPQAOA import CP_QAOA\n",
    "from src.QAOA import QAOA\n",
    "from src.Chain import Chain\n",
    "from src.Tools import (portfolio_metrics, \n",
    "                       min_cost_partition, \n",
    "                       get_qubo, \n",
    "                       normalized_cost, \n",
    "                       qubo_limits, \n",
    "                       check_qubo)\n",
    "from src.Tools import get_qiskit_H"
   ],
   "metadata": {
    "collapsed": false,
    "ExecuteTime": {
     "end_time": "2024-02-05T14:11:07.388469Z",
     "start_time": "2024-02-05T14:11:00.868765900Z"
    }
   },
   "id": "f16b6db3b1b4f46a",
   "execution_count": 1
  },
  {
   "cell_type": "code",
   "outputs": [],
   "source": [
    "n_wires = 15\n",
    "init_strat = np.array([1 if i%2 == 1 else 0 for i in range(n_wires)])\n",
    "k = n_wires // 2\n",
    "my_indices = [(i, i+1) for i in range(n_wires-1)]\n",
    "n_layers = 4\n",
    "alpha = 0.5\n",
    "seed = 0\n",
    "gamma_vals, beta_vals = np.random.uniform(-2*np.pi, 2*np.pi, n_layers), np.random.uniform(-2*np.pi, 2*np.pi, n_layers)\n",
    "#TODO: Check out the 'lightning.gpu' plugin, which is a fast state-vector simulator offloading to the NVIDIA cuQuantum SDK for GPU accelerated circuit simulation. (not supported on windows...)\n",
    "dev = qml.device('lightning.qubit', wires=n_wires)"
   ],
   "metadata": {
    "collapsed": false,
    "ExecuteTime": {
     "end_time": "2024-02-05T15:58:55.980645Z",
     "start_time": "2024-02-05T15:58:55.960628600Z"
    }
   },
   "id": "c9acd18341dba2f0",
   "execution_count": 100
  },
  {
   "cell_type": "code",
   "outputs": [],
   "source": [
    " # Defining topology\n",
    "my_chain = Chain(N_qubits=n_wires)\n",
    "my_chain.set_initialization_strategy(strategy=init_strat)\n",
    "\n",
    "# Deciding between grid and 1d chain topology\n",
    "my_topology = my_chain\n",
    "\n",
    "# Generating random problem instance \n",
    "expected_returns, covariances = portfolio_metrics(n=n_wires, seed=seed)\n",
    "\n",
    "# Retrieving C_min, C_max and corresponding states for original portfolio problem\n",
    "constrained_result, full_result, lmbda = min_cost_partition(nr_qubits=n_wires,\n",
    "                                                            k=k,\n",
    "                                                            mu=expected_returns,\n",
    "                                                            sigma=covariances,\n",
    "                                                            alpha=alpha)\n",
    "\n",
    "portfolio_subspace_max_cost, portfolio_subspace_min_cost, portfolio_subspace_min_state = constrained_result['c_max'], constrained_result['c_min'], constrained_result['s']\n",
    "#full_space_max_cost = full_result['c_max']\n",
    "portfolio_subspace_min_state_str = ''.join([str(_) for _ in portfolio_subspace_min_state])\n",
    "\n",
    "# Generating QUBO corresponding to current problem instance\n",
    "Q, offset = get_qubo(mu=expected_returns,\n",
    "                     sigma=covariances, \n",
    "                     alpha=alpha,\n",
    "                     lmbda=lmbda+1e-8, # Adding small constant purposely\n",
    "                     k=k)\n",
    "QUBO_limits = qubo_limits(Q=Q,offset=offset)\n",
    "qubo_min_cost, qubo_max_cost = QUBO_limits['c_min'], QUBO_limits['c_max']\n",
    "qubo_min_state, qubo_max_state = QUBO_limits['min_state'], QUBO_limits['max_state']\n",
    "check_qubo(QUBO_matrix=Q, QUBO_offset=offset, expected_returns=expected_returns, covariances=covariances, alpha=alpha, k=k)\n",
    "qubo_min_state_str = ''.join([str(_) for _ in qubo_min_state])\n",
    "\n",
    "\n",
    "if not portfolio_subspace_min_state_str == qubo_min_state_str:\n",
    "    raise RuntimeError(f'portfolio_subspace_min_state_str: {portfolio_subspace_min_state_str}, qubo_min_state_str={qubo_min_state_str}'+f'Min. cost of qubo is: {qubo_min_cost}, but min. cost of constrained portfolio is: {portfolio_subspace_min_cost}.')\n",
    "\n",
    "if not np.isclose(qubo_min_cost,portfolio_subspace_min_cost):\n",
    "    raise RuntimeError(f'Min. cost of qubo is: {qubo_min_cost}, but min. cost of constrained portfolio is: {portfolio_subspace_min_cost}.')\n",
    "\n",
    "if not qubo_max_cost >= portfolio_subspace_max_cost:\n",
    "    raise RuntimeError(f'Max. cost of qubo: {qubo_max_cost}, max. cost of portfolio subspace: {portfolio_subspace_max_cost} (should be qubo max. >= constrained portfolio max)')"
   ],
   "metadata": {
    "collapsed": false,
    "ExecuteTime": {
     "end_time": "2024-02-05T15:58:58.301010100Z",
     "start_time": "2024-02-05T15:58:57.054432400Z"
    }
   },
   "id": "fab3655a612420b8",
   "execution_count": 101
  },
  {
   "cell_type": "code",
   "outputs": [],
   "source": [
    "# unitary operator U_B with parameter beta\n",
    "def U_B(beta, n_wires):\n",
    "    for wire in range(n_wires):\n",
    "        qml.RX(2 * beta, wires=wire)\n",
    "\n",
    "# unitary operator U_C with parameter gamma\n",
    "def U_C(gamma, indices):\n",
    "    for edge in indices:\n",
    "        wire1 = edge[0]\n",
    "        wire2 = edge[1]\n",
    "        qml.CNOT(wires=[wire1, wire2])\n",
    "        qml.RZ(gamma, wires=wire2)\n",
    "        qml.CNOT(wires=[wire1, wire2])\n",
    "        \n",
    "@qml.qnode(dev)\n",
    "def circuit(gammas, betas, indices, n_layers, n_wires):\n",
    "    # apply Hadamards to get the n qubit |+> state\n",
    "    for wire in range(n_wires):\n",
    "        qml.Hadamard(wires=wire)\n",
    "        \n",
    "    # p instances of unitary operators\n",
    "    for i in range(n_layers):\n",
    "        U_C(gammas[i], indices)\n",
    "        U_B(betas[i], n_wires)\n",
    "\n",
    "    return qml.state()\n",
    "\n",
    "def string_to_array(string_rep: str) -> np.ndarray:\n",
    "    return np.array([int(bit) for bit in string_rep]).astype(np.float64)\n",
    "\n",
    "def qubo_cost(state: np.ndarray, QUBO_matrix: np.ndarray) -> float:\n",
    "    return np.dot(state, np.dot(QUBO_matrix, state))\n",
    "\n",
    "def int_to_fixed_length_binary_array(number, num_bits):\n",
    "    # Convert the number to binary and remove the '0b' prefix\n",
    "    binary_str = bin(number)[2:]\n",
    "    # Pad the binary string with zeros if necessary\n",
    "    padded_binary_str = binary_str.zfill(num_bits)\n",
    "    # Convert to a NumPy array of integers\n",
    "    return padded_binary_str\n",
    "\n",
    "def get_counts(state_vector: np.ndarray) -> dict:\n",
    "    n_qubits = int(np.log2(len(state)))\n",
    "    return {int_to_fixed_length_binary_array(number=idx, \n",
    "                                             num_bits=n_qubits): np.abs(state_vector[idx])**2 for idx in range(len(state_vector))}\n",
    "def cost(Q, state_vector: np.ndarray) -> float:\n",
    "    counts = get_counts(state_vector=state_vector)\n",
    "    return np.mean([probability * qubo_cost(state=string_to_array(bitstring), QUBO_matrix=Q) for\n",
    "                        bitstring, probability in counts.items()]) \n",
    "\n",
    "def cost_hc(state_vector: np.ndarray, H) -> float:\n",
    "    return float(np.real(np.dot(state_vector.conj(), np.dot(H, state_vector))))\n",
    "\n",
    "from scipy.sparse import csc_matrix, csr_matrix, kron, identity\n",
    "def get_normal_H(Q: np.ndarray, flip: bool = False) -> np.ndarray:\n",
    "    \"\"\" Generates H = \\sum_ij q_ij(I_i-Z_i)/2(I_j-Z_j)/2 \n",
    "    If flip is True, the same convention for indexing as in Qiskit is assumed\n",
    "    where MSB is the right most qubit in a string.\n",
    "    \"\"\"\n",
    "    I = identity(2, format='csr', dtype=np.float32)\n",
    "    Z = csr_matrix(np.array([[1, 0], [0, -1]], dtype=np.float32))\n",
    "    gate_map = {'Z': Z, 'I': I}\n",
    "    def get_term(i: int):\n",
    "        N = Q.shape[0]\n",
    "        if i == N - 1:\n",
    "            _mat_rep_ = gate_map['Z']\n",
    "            _after_I_ = identity(2 ** (N - 1), format='csr')\n",
    "            _mat_rep_ = kron(_mat_rep_, _after_I_)\n",
    "        else:\n",
    "            _before_I_ = identity(2 ** (N - i - 1), format='csr')\n",
    "            _mat_rep_ = kron(_before_I_, gate_map['Z'])\n",
    "            _after_I_ = identity(2 ** i, format='csr')\n",
    "            _mat_rep_ = kron(_mat_rep_, _after_I_)\n",
    "        return csr_matrix(_mat_rep_)\n",
    "\n",
    "    def get_ij_term(i: int, j: int, Q: np.ndarray) -> csc_matrix:\n",
    "        N = Q.shape[0]\n",
    "        I_term = identity(2**Q.shape[0], format='csr', dtype=np.float32)\n",
    "        if flip:\n",
    "            Z_i_term = get_term(i=N-i-1)\n",
    "            if i == j:\n",
    "                Z_ij_term = I_term\n",
    "                Z_j_term = Z_i_term\n",
    "            else:\n",
    "                Z_j_term = get_term(i=N-j-1)\n",
    "                Z_ij_term = get_term(i=N-i-1) @ get_term(i=N-j-1)\n",
    "            return Q[i, j] / 4.0 * (I_term - Z_i_term - Z_j_term + Z_ij_term)\n",
    "        Z_i_term = get_term(i=i)\n",
    "        if i == j:\n",
    "            Z_ij_term = I_term\n",
    "            Z_j_term = Z_i_term\n",
    "        else:\n",
    "            Z_j_term = get_term(i=j)\n",
    "            Z_ij_term = get_term(i=i) @ get_term(i=j)\n",
    "        return Q[i, j] / 4.0 * (I_term - Z_i_term - Z_j_term + Z_ij_term)\n",
    "        \n",
    "        \n",
    "    \n",
    "    H = csr_matrix(np.zeros(shape=(2**Q.shape[0], 2**Q.shape[1]), dtype=np.float32))\n",
    "    for i in range(Q.shape[0]):\n",
    "        for j in range(Q.shape[1]):\n",
    "            H += get_ij_term(i, j, Q).astype(np.float32)\n",
    "    return np.array(H.todense())"
   ],
   "metadata": {
    "collapsed": false,
    "ExecuteTime": {
     "end_time": "2024-02-05T15:58:58.770072100Z",
     "start_time": "2024-02-05T15:58:58.750085700Z"
    }
   },
   "id": "7f2431026ec565ab",
   "execution_count": 102
  },
  {
   "cell_type": "code",
   "outputs": [],
   "source": [
    "state = circuit(gamma_vals, beta_vals, my_indices, n_layers, n_wires)"
   ],
   "metadata": {
    "collapsed": false,
    "ExecuteTime": {
     "end_time": "2024-02-05T15:58:59.653677900Z",
     "start_time": "2024-02-05T15:58:59.633133100Z"
    }
   },
   "id": "64cfbe8c9ffa360d",
   "execution_count": 103
  },
  {
   "cell_type": "code",
   "outputs": [],
   "source": [
    "c = cost(Q=Q, state_vector=state)"
   ],
   "metadata": {
    "collapsed": false,
    "ExecuteTime": {
     "end_time": "2024-02-05T16:00:45.821428900Z",
     "start_time": "2024-02-05T16:00:45.658613300Z"
    }
   },
   "id": "46f92c0a0ca8642e",
   "execution_count": 109
  },
  {
   "cell_type": "code",
   "outputs": [],
   "source": [
    "H = get_normal_H(Q,flip=False)"
   ],
   "metadata": {
    "collapsed": false,
    "ExecuteTime": {
     "end_time": "2024-02-05T15:59:11.890004700Z",
     "start_time": "2024-02-05T15:59:03.367679600Z"
    }
   },
   "id": "6f5ade003a25cb66",
   "execution_count": 105
  },
  {
   "cell_type": "code",
   "outputs": [],
   "source": [
    "c2 = cost_hc(state,H)"
   ],
   "metadata": {
    "collapsed": false,
    "ExecuteTime": {
     "end_time": "2024-02-05T15:59:19.673802600Z",
     "start_time": "2024-02-05T15:59:14.509845200Z"
    }
   },
   "id": "e8c93cd69df69187",
   "execution_count": 106
  },
  {
   "cell_type": "code",
   "outputs": [
    {
     "data": {
      "text/plain": "((32768, 32768), (32768,))"
     },
     "execution_count": 107,
     "metadata": {},
     "output_type": "execute_result"
    }
   ],
   "source": [
    "H.shape, state.shape"
   ],
   "metadata": {
    "collapsed": false,
    "ExecuteTime": {
     "end_time": "2024-02-05T15:59:28.130266900Z",
     "start_time": "2024-02-05T15:59:28.037778200Z"
    }
   },
   "id": "d91dd3bcc9c5fd44",
   "execution_count": 107
  }
 ],
 "metadata": {
  "kernelspec": {
   "display_name": "Python 3",
   "language": "python",
   "name": "python3"
  },
  "language_info": {
   "codemirror_mode": {
    "name": "ipython",
    "version": 2
   },
   "file_extension": ".py",
   "mimetype": "text/x-python",
   "name": "python",
   "nbconvert_exporter": "python",
   "pygments_lexer": "ipython2",
   "version": "2.7.6"
  }
 },
 "nbformat": 4,
 "nbformat_minor": 5
}
