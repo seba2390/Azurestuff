{
 "cells": [
  {
   "cell_type": "code",
   "execution_count": 52,
   "outputs": [
    {
     "name": "stdout",
     "output_type": "stream",
     "text": [
      "Collecting qsimcirq\r\n",
      "  Downloading qsimcirq-0.9.5.tar.gz (125 kB)\r\n",
      "\u001B[2K     \u001B[90m━━━━━━━━━━━━━━━━━━━━━━━━━━━━━━━━━━━━━━━\u001B[0m \u001B[32m125.0/125.0 kB\u001B[0m \u001B[31m1.3 MB/s\u001B[0m eta \u001B[36m0:00:00\u001B[0ma \u001B[36m0:00:01\u001B[0m\r\n",
      "\u001B[?25h  Preparing metadata (setup.py) ... \u001B[?25ldone\r\n",
      "\u001B[?25hRequirement already satisfied: cirq in /Users/sebastianyde/miniforge3/lib/python3.10/site-packages (from qsimcirq) (1.3.0)\r\n",
      "Requirement already satisfied: numpy~=1.16 in /Users/sebastianyde/miniforge3/lib/python3.10/site-packages (from qsimcirq) (1.26.1)\r\n",
      "Requirement already satisfied: typing_extensions in /Users/sebastianyde/miniforge3/lib/python3.10/site-packages (from qsimcirq) (4.3.0)\r\n",
      "Requirement already satisfied: absl-py in /Users/sebastianyde/miniforge3/lib/python3.10/site-packages (from qsimcirq) (1.2.0)\r\n",
      "Collecting black==20.8b1 (from qsimcirq)\r\n",
      "  Downloading black-20.8b1.tar.gz (1.1 MB)\r\n",
      "\u001B[2K     \u001B[90m━━━━━━━━━━━━━━━━━━━━━━━━━━━━━━━━━━━━━━━━\u001B[0m \u001B[32m1.1/1.1 MB\u001B[0m \u001B[31m6.1 MB/s\u001B[0m eta \u001B[36m0:00:00\u001B[0ma \u001B[36m0:00:01\u001B[0m\r\n",
      "\u001B[?25h  Installing build dependencies ... \u001B[?25ldone\r\n",
      "\u001B[?25h  Getting requirements to build wheel ... \u001B[?25ldone\r\n",
      "\u001B[?25h  Preparing metadata (pyproject.toml) ... \u001B[?25ldone\r\n",
      "\u001B[?25hCollecting flynt~=0.60 (from qsimcirq)\r\n",
      "  Downloading flynt-0.78-py3-none-any.whl (34 kB)\r\n",
      "Requirement already satisfied: pybind11 in /Users/sebastianyde/miniforge3/lib/python3.10/site-packages (from qsimcirq) (2.11.1)\r\n",
      "Requirement already satisfied: pytest in /Users/sebastianyde/miniforge3/lib/python3.10/site-packages (from qsimcirq) (7.0.1)\r\n",
      "Requirement already satisfied: click>=7.1.2 in /Users/sebastianyde/miniforge3/lib/python3.10/site-packages (from black==20.8b1->qsimcirq) (8.1.3)\r\n",
      "Requirement already satisfied: appdirs in /Users/sebastianyde/miniforge3/lib/python3.10/site-packages (from black==20.8b1->qsimcirq) (1.4.4)\r\n",
      "Requirement already satisfied: toml>=0.10.1 in /Users/sebastianyde/miniforge3/lib/python3.10/site-packages (from black==20.8b1->qsimcirq) (0.10.2)\r\n",
      "Collecting typed-ast>=1.4.0 (from black==20.8b1->qsimcirq)\r\n",
      "  Downloading typed_ast-1.5.5-cp310-cp310-macosx_11_0_arm64.whl.metadata (1.7 kB)\r\n",
      "Requirement already satisfied: regex>=2020.1.8 in /Users/sebastianyde/miniforge3/lib/python3.10/site-packages (from black==20.8b1->qsimcirq) (2022.9.13)\r\n",
      "Collecting pathspec<1,>=0.6 (from black==20.8b1->qsimcirq)\r\n",
      "  Downloading pathspec-0.12.1-py3-none-any.whl.metadata (21 kB)\r\n",
      "Requirement already satisfied: mypy-extensions>=0.4.3 in /Users/sebastianyde/miniforge3/lib/python3.10/site-packages (from black==20.8b1->qsimcirq) (1.0.0)\r\n",
      "Collecting astor (from flynt~=0.60->qsimcirq)\r\n",
      "  Downloading astor-0.8.1-py2.py3-none-any.whl (27 kB)\r\n",
      "Requirement already satisfied: tomli>=1.1.0 in /Users/sebastianyde/miniforge3/lib/python3.10/site-packages (from flynt~=0.60->qsimcirq) (2.0.1)\r\n",
      "Requirement already satisfied: cirq-aqt==1.3.0 in /Users/sebastianyde/miniforge3/lib/python3.10/site-packages (from cirq->qsimcirq) (1.3.0)\r\n",
      "Requirement already satisfied: cirq-core==1.3.0 in /Users/sebastianyde/miniforge3/lib/python3.10/site-packages (from cirq->qsimcirq) (1.3.0)\r\n",
      "Requirement already satisfied: cirq-ft==1.3.0 in /Users/sebastianyde/miniforge3/lib/python3.10/site-packages (from cirq->qsimcirq) (1.3.0)\r\n",
      "Requirement already satisfied: cirq-google==1.3.0 in /Users/sebastianyde/miniforge3/lib/python3.10/site-packages (from cirq->qsimcirq) (1.3.0)\r\n",
      "Requirement already satisfied: cirq-ionq==1.3.0 in /Users/sebastianyde/miniforge3/lib/python3.10/site-packages (from cirq->qsimcirq) (1.3.0)\r\n",
      "Requirement already satisfied: cirq-pasqal==1.3.0 in /Users/sebastianyde/miniforge3/lib/python3.10/site-packages (from cirq->qsimcirq) (1.3.0)\r\n",
      "Requirement already satisfied: cirq-rigetti==1.3.0 in /Users/sebastianyde/miniforge3/lib/python3.10/site-packages (from cirq->qsimcirq) (1.3.0)\r\n",
      "Requirement already satisfied: cirq-web==1.3.0 in /Users/sebastianyde/miniforge3/lib/python3.10/site-packages (from cirq->qsimcirq) (1.3.0)\r\n",
      "Requirement already satisfied: requests~=2.18 in /Users/sebastianyde/miniforge3/lib/python3.10/site-packages (from cirq-aqt==1.3.0->cirq->qsimcirq) (2.31.0)\r\n",
      "Requirement already satisfied: duet~=0.2.8 in /Users/sebastianyde/miniforge3/lib/python3.10/site-packages (from cirq-core==1.3.0->cirq->qsimcirq) (0.2.9)\r\n",
      "Requirement already satisfied: matplotlib~=3.0 in /Users/sebastianyde/miniforge3/lib/python3.10/site-packages (from cirq-core==1.3.0->cirq->qsimcirq) (3.6.2)\r\n",
      "Requirement already satisfied: networkx>=2.4 in /Users/sebastianyde/miniforge3/lib/python3.10/site-packages (from cirq-core==1.3.0->cirq->qsimcirq) (2.8.8)\r\n",
      "Requirement already satisfied: pandas in /Users/sebastianyde/miniforge3/lib/python3.10/site-packages (from cirq-core==1.3.0->cirq->qsimcirq) (1.5.2)\r\n",
      "Requirement already satisfied: sortedcontainers~=2.0 in /Users/sebastianyde/miniforge3/lib/python3.10/site-packages (from cirq-core==1.3.0->cirq->qsimcirq) (2.4.0)\r\n",
      "Requirement already satisfied: scipy in /Users/sebastianyde/miniforge3/lib/python3.10/site-packages (from cirq-core==1.3.0->cirq->qsimcirq) (1.11.2)\r\n",
      "Requirement already satisfied: sympy in /Users/sebastianyde/miniforge3/lib/python3.10/site-packages (from cirq-core==1.3.0->cirq->qsimcirq) (1.12)\r\n",
      "Requirement already satisfied: tqdm in /Users/sebastianyde/miniforge3/lib/python3.10/site-packages (from cirq-core==1.3.0->cirq->qsimcirq) (4.64.1)\r\n",
      "Requirement already satisfied: attrs in /Users/sebastianyde/miniforge3/lib/python3.10/site-packages (from cirq-ft==1.3.0->cirq->qsimcirq) (21.4.0)\r\n",
      "Requirement already satisfied: cachetools>=5.3 in /Users/sebastianyde/miniforge3/lib/python3.10/site-packages (from cirq-ft==1.3.0->cirq->qsimcirq) (5.3.2)\r\n",
      "Requirement already satisfied: ipywidgets in /Users/sebastianyde/miniforge3/lib/python3.10/site-packages (from cirq-ft==1.3.0->cirq->qsimcirq) (8.0.2)\r\n",
      "Requirement already satisfied: nbconvert in /Users/sebastianyde/miniforge3/lib/python3.10/site-packages (from cirq-ft==1.3.0->cirq->qsimcirq) (7.0.0)\r\n",
      "Requirement already satisfied: nbformat in /Users/sebastianyde/miniforge3/lib/python3.10/site-packages (from cirq-ft==1.3.0->cirq->qsimcirq) (5.4.0)\r\n",
      "Requirement already satisfied: google-api-core>=1.14.0 in /Users/sebastianyde/miniforge3/lib/python3.10/site-packages (from google-api-core[grpc]>=1.14.0->cirq-google==1.3.0->cirq->qsimcirq) (2.16.2)\r\n",
      "Requirement already satisfied: proto-plus>=1.20.0 in /Users/sebastianyde/miniforge3/lib/python3.10/site-packages (from cirq-google==1.3.0->cirq->qsimcirq) (1.23.0)\r\n",
      "Requirement already satisfied: protobuf>=3.15.0 in /Users/sebastianyde/miniforge3/lib/python3.10/site-packages (from cirq-google==1.3.0->cirq->qsimcirq) (4.25.2)\r\n",
      "Requirement already satisfied: pyquil<4.0.0,>=3.2.0 in /Users/sebastianyde/miniforge3/lib/python3.10/site-packages (from cirq-rigetti==1.3.0->cirq->qsimcirq) (3.5.4)\r\n",
      "Requirement already satisfied: iniconfig in /Users/sebastianyde/miniforge3/lib/python3.10/site-packages (from pytest->qsimcirq) (2.0.0)\r\n",
      "Requirement already satisfied: packaging in /Users/sebastianyde/miniforge3/lib/python3.10/site-packages (from pytest->qsimcirq) (21.3)\r\n",
      "Requirement already satisfied: pluggy<2.0,>=0.12 in /Users/sebastianyde/miniforge3/lib/python3.10/site-packages (from pytest->qsimcirq) (1.0.0)\r\n",
      "Requirement already satisfied: py>=1.8.2 in /Users/sebastianyde/miniforge3/lib/python3.10/site-packages (from pytest->qsimcirq) (1.11.0)\r\n",
      "Requirement already satisfied: pyparsing!=3.0.5,>=2.0.2 in /Users/sebastianyde/miniforge3/lib/python3.10/site-packages (from packaging->pytest->qsimcirq) (3.0.9)\r\n",
      "Requirement already satisfied: googleapis-common-protos<2.0.dev0,>=1.56.2 in /Users/sebastianyde/miniforge3/lib/python3.10/site-packages (from google-api-core>=1.14.0->google-api-core[grpc]>=1.14.0->cirq-google==1.3.0->cirq->qsimcirq) (1.56.4)\r\n",
      "Requirement already satisfied: google-auth<3.0.dev0,>=2.14.1 in /Users/sebastianyde/miniforge3/lib/python3.10/site-packages (from google-api-core>=1.14.0->google-api-core[grpc]>=1.14.0->cirq-google==1.3.0->cirq->qsimcirq) (2.23.2)\r\n",
      "Requirement already satisfied: grpcio<2.0dev,>=1.33.2 in /Users/sebastianyde/miniforge3/lib/python3.10/site-packages (from google-api-core[grpc]>=1.14.0->cirq-google==1.3.0->cirq->qsimcirq) (1.60.1)\r\n",
      "Requirement already satisfied: grpcio-status<2.0.dev0,>=1.33.2 in /Users/sebastianyde/miniforge3/lib/python3.10/site-packages (from google-api-core[grpc]>=1.14.0->cirq-google==1.3.0->cirq->qsimcirq) (1.60.1)\r\n",
      "Requirement already satisfied: contourpy>=1.0.1 in /Users/sebastianyde/miniforge3/lib/python3.10/site-packages (from matplotlib~=3.0->cirq-core==1.3.0->cirq->qsimcirq) (1.0.6)\r\n",
      "Requirement already satisfied: cycler>=0.10 in /Users/sebastianyde/miniforge3/lib/python3.10/site-packages (from matplotlib~=3.0->cirq-core==1.3.0->cirq->qsimcirq) (0.11.0)\r\n",
      "Requirement already satisfied: fonttools>=4.22.0 in /Users/sebastianyde/miniforge3/lib/python3.10/site-packages (from matplotlib~=3.0->cirq-core==1.3.0->cirq->qsimcirq) (4.37.1)\r\n",
      "Requirement already satisfied: kiwisolver>=1.0.1 in /Users/sebastianyde/miniforge3/lib/python3.10/site-packages (from matplotlib~=3.0->cirq-core==1.3.0->cirq->qsimcirq) (1.4.4)\r\n",
      "Requirement already satisfied: pillow>=6.2.0 in /Users/sebastianyde/miniforge3/lib/python3.10/site-packages (from matplotlib~=3.0->cirq-core==1.3.0->cirq->qsimcirq) (9.2.0)\r\n",
      "Requirement already satisfied: python-dateutil>=2.7 in /Users/sebastianyde/miniforge3/lib/python3.10/site-packages (from matplotlib~=3.0->cirq-core==1.3.0->cirq->qsimcirq) (2.8.2)\r\n",
      "Requirement already satisfied: deprecated<2.0.0,>=1.2.13 in /Users/sebastianyde/miniforge3/lib/python3.10/site-packages (from pyquil<4.0.0,>=3.2.0->cirq-rigetti==1.3.0->cirq->qsimcirq) (1.2.13)\r\n",
      "Requirement already satisfied: lark<0.12.0,>=0.11.1 in /Users/sebastianyde/miniforge3/lib/python3.10/site-packages (from pyquil<4.0.0,>=3.2.0->cirq-rigetti==1.3.0->cirq->qsimcirq) (0.11.3)\r\n",
      "Requirement already satisfied: qcs-api-client<0.22.0,>=0.21.0 in /Users/sebastianyde/miniforge3/lib/python3.10/site-packages (from pyquil<4.0.0,>=3.2.0->cirq-rigetti==1.3.0->cirq->qsimcirq) (0.21.6)\r\n",
      "Requirement already satisfied: rpcq<4.0.0,>=3.10.0 in /Users/sebastianyde/miniforge3/lib/python3.10/site-packages (from pyquil<4.0.0,>=3.2.0->cirq-rigetti==1.3.0->cirq->qsimcirq) (3.11.0)\r\n",
      "Requirement already satisfied: tenacity<9.0.0,>=8.2.2 in /Users/sebastianyde/miniforge3/lib/python3.10/site-packages (from pyquil<4.0.0,>=3.2.0->cirq-rigetti==1.3.0->cirq->qsimcirq) (8.2.3)\r\n",
      "Requirement already satisfied: types-deprecated<2.0.0.0,>=1.2.9.2 in /Users/sebastianyde/miniforge3/lib/python3.10/site-packages (from pyquil<4.0.0,>=3.2.0->cirq-rigetti==1.3.0->cirq->qsimcirq) (1.2.9.20240106)\r\n",
      "Requirement already satisfied: types-python-dateutil<3.0.0,>=2.8.19 in /Users/sebastianyde/miniforge3/lib/python3.10/site-packages (from pyquil<4.0.0,>=3.2.0->cirq-rigetti==1.3.0->cirq->qsimcirq) (2.8.19.20240106)\r\n",
      "Requirement already satisfied: types-retry<0.10.0,>=0.9.9 in /Users/sebastianyde/miniforge3/lib/python3.10/site-packages (from pyquil<4.0.0,>=3.2.0->cirq-rigetti==1.3.0->cirq->qsimcirq) (0.9.9.4)\r\n",
      "Requirement already satisfied: charset-normalizer<4,>=2 in /Users/sebastianyde/miniforge3/lib/python3.10/site-packages (from requests~=2.18->cirq-aqt==1.3.0->cirq->qsimcirq) (2.1.1)\r\n",
      "Requirement already satisfied: idna<4,>=2.5 in /Users/sebastianyde/miniforge3/lib/python3.10/site-packages (from requests~=2.18->cirq-aqt==1.3.0->cirq->qsimcirq) (3.3)\r\n",
      "Requirement already satisfied: urllib3<3,>=1.21.1 in /Users/sebastianyde/miniforge3/lib/python3.10/site-packages (from requests~=2.18->cirq-aqt==1.3.0->cirq->qsimcirq) (1.26.11)\r\n",
      "Requirement already satisfied: certifi>=2017.4.17 in /Users/sebastianyde/miniforge3/lib/python3.10/site-packages (from requests~=2.18->cirq-aqt==1.3.0->cirq->qsimcirq) (2022.12.7)\r\n",
      "Requirement already satisfied: ipykernel>=4.5.1 in /Users/sebastianyde/miniforge3/lib/python3.10/site-packages (from ipywidgets->cirq-ft==1.3.0->cirq->qsimcirq) (6.15.2)\r\n",
      "Requirement already satisfied: ipython>=6.1.0 in /Users/sebastianyde/miniforge3/lib/python3.10/site-packages (from ipywidgets->cirq-ft==1.3.0->cirq->qsimcirq) (8.5.0)\r\n",
      "Requirement already satisfied: traitlets>=4.3.1 in /Users/sebastianyde/miniforge3/lib/python3.10/site-packages (from ipywidgets->cirq-ft==1.3.0->cirq->qsimcirq) (5.3.0)\r\n",
      "Requirement already satisfied: widgetsnbextension~=4.0 in /Users/sebastianyde/miniforge3/lib/python3.10/site-packages (from ipywidgets->cirq-ft==1.3.0->cirq->qsimcirq) (4.0.3)\r\n",
      "Requirement already satisfied: jupyterlab-widgets~=3.0 in /Users/sebastianyde/miniforge3/lib/python3.10/site-packages (from ipywidgets->cirq-ft==1.3.0->cirq->qsimcirq) (3.0.3)\r\n",
      "Requirement already satisfied: beautifulsoup4 in /Users/sebastianyde/miniforge3/lib/python3.10/site-packages (from nbconvert->cirq-ft==1.3.0->cirq->qsimcirq) (4.11.1)\r\n",
      "Requirement already satisfied: bleach in /Users/sebastianyde/miniforge3/lib/python3.10/site-packages (from nbconvert->cirq-ft==1.3.0->cirq->qsimcirq) (5.0.1)\r\n",
      "Requirement already satisfied: defusedxml in /Users/sebastianyde/miniforge3/lib/python3.10/site-packages (from nbconvert->cirq-ft==1.3.0->cirq->qsimcirq) (0.7.1)\r\n",
      "Requirement already satisfied: jinja2>=3.0 in /Users/sebastianyde/miniforge3/lib/python3.10/site-packages (from nbconvert->cirq-ft==1.3.0->cirq->qsimcirq) (3.1.2)\r\n",
      "Requirement already satisfied: jupyter-core>=4.7 in /Users/sebastianyde/miniforge3/lib/python3.10/site-packages (from nbconvert->cirq-ft==1.3.0->cirq->qsimcirq) (4.11.1)\r\n",
      "Requirement already satisfied: jupyterlab-pygments in /Users/sebastianyde/miniforge3/lib/python3.10/site-packages (from nbconvert->cirq-ft==1.3.0->cirq->qsimcirq) (0.2.2)\r\n",
      "Requirement already satisfied: lxml in /Users/sebastianyde/miniforge3/lib/python3.10/site-packages (from nbconvert->cirq-ft==1.3.0->cirq->qsimcirq) (4.9.1)\r\n",
      "Requirement already satisfied: markupsafe>=2.0 in /Users/sebastianyde/miniforge3/lib/python3.10/site-packages (from nbconvert->cirq-ft==1.3.0->cirq->qsimcirq) (2.1.1)\r\n",
      "Requirement already satisfied: mistune<3,>=2.0.3 in /Users/sebastianyde/miniforge3/lib/python3.10/site-packages (from nbconvert->cirq-ft==1.3.0->cirq->qsimcirq) (2.0.4)\r\n",
      "Requirement already satisfied: nbclient>=0.5.0 in /Users/sebastianyde/miniforge3/lib/python3.10/site-packages (from nbconvert->cirq-ft==1.3.0->cirq->qsimcirq) (0.6.7)\r\n",
      "Requirement already satisfied: pandocfilters>=1.4.1 in /Users/sebastianyde/miniforge3/lib/python3.10/site-packages (from nbconvert->cirq-ft==1.3.0->cirq->qsimcirq) (1.5.0)\r\n",
      "Requirement already satisfied: pygments>=2.4.1 in /Users/sebastianyde/miniforge3/lib/python3.10/site-packages (from nbconvert->cirq-ft==1.3.0->cirq->qsimcirq) (2.13.0)\r\n",
      "Requirement already satisfied: tinycss2 in /Users/sebastianyde/miniforge3/lib/python3.10/site-packages (from nbconvert->cirq-ft==1.3.0->cirq->qsimcirq) (1.1.1)\r\n",
      "Requirement already satisfied: jsonschema>=2.6 in /Users/sebastianyde/miniforge3/lib/python3.10/site-packages (from nbformat->cirq-ft==1.3.0->cirq->qsimcirq) (4.15.0)\r\n",
      "Requirement already satisfied: fastjsonschema in /Users/sebastianyde/miniforge3/lib/python3.10/site-packages (from nbformat->cirq-ft==1.3.0->cirq->qsimcirq) (2.16.1)\r\n",
      "Requirement already satisfied: pytz>=2020.1 in /Users/sebastianyde/miniforge3/lib/python3.10/site-packages (from pandas->cirq-core==1.3.0->cirq->qsimcirq) (2022.5)\r\n",
      "Requirement already satisfied: mpmath>=0.19 in /Users/sebastianyde/miniforge3/lib/python3.10/site-packages (from sympy->cirq-core==1.3.0->cirq->qsimcirq) (1.2.1)\r\n",
      "Requirement already satisfied: wrapt<2,>=1.10 in /Users/sebastianyde/miniforge3/lib/python3.10/site-packages (from deprecated<2.0.0,>=1.2.13->pyquil<4.0.0,>=3.2.0->cirq-rigetti==1.3.0->cirq->qsimcirq) (1.14.1)\r\n",
      "Requirement already satisfied: pyasn1-modules>=0.2.1 in /Users/sebastianyde/miniforge3/lib/python3.10/site-packages (from google-auth<3.0.dev0,>=2.14.1->google-api-core>=1.14.0->google-api-core[grpc]>=1.14.0->cirq-google==1.3.0->cirq->qsimcirq) (0.2.8)\r\n",
      "Requirement already satisfied: rsa<5,>=3.1.4 in /Users/sebastianyde/miniforge3/lib/python3.10/site-packages (from google-auth<3.0.dev0,>=2.14.1->google-api-core>=1.14.0->google-api-core[grpc]>=1.14.0->cirq-google==1.3.0->cirq->qsimcirq) (4.9)\r\n",
      "Requirement already satisfied: appnope in /Users/sebastianyde/miniforge3/lib/python3.10/site-packages (from ipykernel>=4.5.1->ipywidgets->cirq-ft==1.3.0->cirq->qsimcirq) (0.1.3)\r\n",
      "Requirement already satisfied: debugpy>=1.0 in /Users/sebastianyde/miniforge3/lib/python3.10/site-packages (from ipykernel>=4.5.1->ipywidgets->cirq-ft==1.3.0->cirq->qsimcirq) (1.6.3)\r\n",
      "Requirement already satisfied: jupyter-client>=6.1.12 in /Users/sebastianyde/miniforge3/lib/python3.10/site-packages (from ipykernel>=4.5.1->ipywidgets->cirq-ft==1.3.0->cirq->qsimcirq) (7.3.5)\r\n",
      "Requirement already satisfied: matplotlib-inline>=0.1 in /Users/sebastianyde/miniforge3/lib/python3.10/site-packages (from ipykernel>=4.5.1->ipywidgets->cirq-ft==1.3.0->cirq->qsimcirq) (0.1.6)\r\n",
      "Requirement already satisfied: nest-asyncio in /Users/sebastianyde/miniforge3/lib/python3.10/site-packages (from ipykernel>=4.5.1->ipywidgets->cirq-ft==1.3.0->cirq->qsimcirq) (1.5.5)\r\n",
      "Requirement already satisfied: psutil in /Users/sebastianyde/miniforge3/lib/python3.10/site-packages (from ipykernel>=4.5.1->ipywidgets->cirq-ft==1.3.0->cirq->qsimcirq) (5.9.2)\r\n",
      "Requirement already satisfied: pyzmq>=17 in /Users/sebastianyde/miniforge3/lib/python3.10/site-packages (from ipykernel>=4.5.1->ipywidgets->cirq-ft==1.3.0->cirq->qsimcirq) (23.2.1)\r\n",
      "Requirement already satisfied: tornado>=6.1 in /Users/sebastianyde/miniforge3/lib/python3.10/site-packages (from ipykernel>=4.5.1->ipywidgets->cirq-ft==1.3.0->cirq->qsimcirq) (6.2)\r\n",
      "Requirement already satisfied: backcall in /Users/sebastianyde/miniforge3/lib/python3.10/site-packages (from ipython>=6.1.0->ipywidgets->cirq-ft==1.3.0->cirq->qsimcirq) (0.2.0)\r\n",
      "Requirement already satisfied: decorator in /Users/sebastianyde/miniforge3/lib/python3.10/site-packages (from ipython>=6.1.0->ipywidgets->cirq-ft==1.3.0->cirq->qsimcirq) (4.4.2)\r\n",
      "Requirement already satisfied: jedi>=0.16 in /Users/sebastianyde/miniforge3/lib/python3.10/site-packages (from ipython>=6.1.0->ipywidgets->cirq-ft==1.3.0->cirq->qsimcirq) (0.18.1)\r\n",
      "Requirement already satisfied: pickleshare in /Users/sebastianyde/miniforge3/lib/python3.10/site-packages (from ipython>=6.1.0->ipywidgets->cirq-ft==1.3.0->cirq->qsimcirq) (0.7.5)\r\n",
      "Requirement already satisfied: prompt-toolkit<3.1.0,>3.0.1 in /Users/sebastianyde/miniforge3/lib/python3.10/site-packages (from ipython>=6.1.0->ipywidgets->cirq-ft==1.3.0->cirq->qsimcirq) (3.0.31)\r\n",
      "Requirement already satisfied: stack-data in /Users/sebastianyde/miniforge3/lib/python3.10/site-packages (from ipython>=6.1.0->ipywidgets->cirq-ft==1.3.0->cirq->qsimcirq) (0.5.0)\r\n",
      "Requirement already satisfied: pexpect>4.3 in /Users/sebastianyde/miniforge3/lib/python3.10/site-packages (from ipython>=6.1.0->ipywidgets->cirq-ft==1.3.0->cirq->qsimcirq) (4.8.0)\r\n",
      "Requirement already satisfied: pyrsistent!=0.17.0,!=0.17.1,!=0.17.2,>=0.14.0 in /Users/sebastianyde/miniforge3/lib/python3.10/site-packages (from jsonschema>=2.6->nbformat->cirq-ft==1.3.0->cirq->qsimcirq) (0.18.1)\r\n",
      "Requirement already satisfied: six>=1.5 in /Users/sebastianyde/miniforge3/lib/python3.10/site-packages (from python-dateutil>=2.7->matplotlib~=3.0->cirq-core==1.3.0->cirq->qsimcirq) (1.16.0)\r\n",
      "Requirement already satisfied: PyJWT<3.0.0,>=2.4.0 in /Users/sebastianyde/miniforge3/lib/python3.10/site-packages (from qcs-api-client<0.22.0,>=0.21.0->pyquil<4.0.0,>=3.2.0->cirq-rigetti==1.3.0->cirq->qsimcirq) (2.6.0)\r\n",
      "Requirement already satisfied: httpx<0.24.0,>=0.23.0 in /Users/sebastianyde/miniforge3/lib/python3.10/site-packages (from qcs-api-client<0.22.0,>=0.21.0->pyquil<4.0.0,>=3.2.0->cirq-rigetti==1.3.0->cirq->qsimcirq) (0.23.3)\r\n",
      "Requirement already satisfied: iso8601<2.0.0,>=1.0.2 in /Users/sebastianyde/miniforge3/lib/python3.10/site-packages (from qcs-api-client<0.22.0,>=0.21.0->pyquil<4.0.0,>=3.2.0->cirq-rigetti==1.3.0->cirq->qsimcirq) (1.1.0)\r\n",
      "Requirement already satisfied: pydantic<2.0.0,>=1.7.2 in /Users/sebastianyde/miniforge3/lib/python3.10/site-packages (from qcs-api-client<0.22.0,>=0.21.0->pyquil<4.0.0,>=3.2.0->cirq-rigetti==1.3.0->cirq->qsimcirq) (1.10.4)\r\n",
      "Requirement already satisfied: retrying<2.0.0,>=1.3.3 in /Users/sebastianyde/miniforge3/lib/python3.10/site-packages (from qcs-api-client<0.22.0,>=0.21.0->pyquil<4.0.0,>=3.2.0->cirq-rigetti==1.3.0->cirq->qsimcirq) (1.3.3)\r\n",
      "Requirement already satisfied: rfc3339<7.0,>=6.2 in /Users/sebastianyde/miniforge3/lib/python3.10/site-packages (from qcs-api-client<0.22.0,>=0.21.0->pyquil<4.0.0,>=3.2.0->cirq-rigetti==1.3.0->cirq->qsimcirq) (6.2)\r\n",
      "Requirement already satisfied: msgpack<2.0,>=0.6 in /Users/sebastianyde/miniforge3/lib/python3.10/site-packages (from rpcq<4.0.0,>=3.10.0->pyquil<4.0.0,>=3.2.0->cirq-rigetti==1.3.0->cirq->qsimcirq) (1.0.4)\r\n",
      "Requirement already satisfied: python-rapidjson in /Users/sebastianyde/miniforge3/lib/python3.10/site-packages (from rpcq<4.0.0,>=3.10.0->pyquil<4.0.0,>=3.2.0->cirq-rigetti==1.3.0->cirq->qsimcirq) (1.14)\r\n",
      "Requirement already satisfied: ruamel.yaml in /Users/sebastianyde/miniforge3/lib/python3.10/site-packages (from rpcq<4.0.0,>=3.10.0->pyquil<4.0.0,>=3.2.0->cirq-rigetti==1.3.0->cirq->qsimcirq) (0.17.21)\r\n",
      "Requirement already satisfied: soupsieve>1.2 in /Users/sebastianyde/miniforge3/lib/python3.10/site-packages (from beautifulsoup4->nbconvert->cirq-ft==1.3.0->cirq->qsimcirq) (2.3.2.post1)\r\n",
      "Requirement already satisfied: webencodings in /Users/sebastianyde/miniforge3/lib/python3.10/site-packages (from bleach->nbconvert->cirq-ft==1.3.0->cirq->qsimcirq) (0.5.1)\r\n",
      "Requirement already satisfied: httpcore<0.17.0,>=0.15.0 in /Users/sebastianyde/miniforge3/lib/python3.10/site-packages (from httpx<0.24.0,>=0.23.0->qcs-api-client<0.22.0,>=0.21.0->pyquil<4.0.0,>=3.2.0->cirq-rigetti==1.3.0->cirq->qsimcirq) (0.16.3)\r\n",
      "Requirement already satisfied: rfc3986<2,>=1.3 in /Users/sebastianyde/miniforge3/lib/python3.10/site-packages (from rfc3986[idna2008]<2,>=1.3->httpx<0.24.0,>=0.23.0->qcs-api-client<0.22.0,>=0.21.0->pyquil<4.0.0,>=3.2.0->cirq-rigetti==1.3.0->cirq->qsimcirq) (1.5.0)\r\n",
      "Requirement already satisfied: sniffio in /Users/sebastianyde/miniforge3/lib/python3.10/site-packages (from httpx<0.24.0,>=0.23.0->qcs-api-client<0.22.0,>=0.21.0->pyquil<4.0.0,>=3.2.0->cirq-rigetti==1.3.0->cirq->qsimcirq) (1.3.0)\r\n",
      "Requirement already satisfied: parso<0.9.0,>=0.8.0 in /Users/sebastianyde/miniforge3/lib/python3.10/site-packages (from jedi>=0.16->ipython>=6.1.0->ipywidgets->cirq-ft==1.3.0->cirq->qsimcirq) (0.8.3)\r\n",
      "Requirement already satisfied: entrypoints in /Users/sebastianyde/miniforge3/lib/python3.10/site-packages (from jupyter-client>=6.1.12->ipykernel>=4.5.1->ipywidgets->cirq-ft==1.3.0->cirq->qsimcirq) (0.4)\r\n",
      "Requirement already satisfied: ptyprocess>=0.5 in /Users/sebastianyde/miniforge3/lib/python3.10/site-packages (from pexpect>4.3->ipython>=6.1.0->ipywidgets->cirq-ft==1.3.0->cirq->qsimcirq) (0.7.0)\r\n",
      "Requirement already satisfied: wcwidth in /Users/sebastianyde/miniforge3/lib/python3.10/site-packages (from prompt-toolkit<3.1.0,>3.0.1->ipython>=6.1.0->ipywidgets->cirq-ft==1.3.0->cirq->qsimcirq) (0.2.5)\r\n",
      "Requirement already satisfied: pyasn1<0.5.0,>=0.4.6 in /Users/sebastianyde/miniforge3/lib/python3.10/site-packages (from pyasn1-modules>=0.2.1->google-auth<3.0.dev0,>=2.14.1->google-api-core>=1.14.0->google-api-core[grpc]>=1.14.0->cirq-google==1.3.0->cirq->qsimcirq) (0.4.8)\r\n",
      "Requirement already satisfied: ruamel.yaml.clib>=0.2.6 in /Users/sebastianyde/miniforge3/lib/python3.10/site-packages (from ruamel.yaml->rpcq<4.0.0,>=3.10.0->pyquil<4.0.0,>=3.2.0->cirq-rigetti==1.3.0->cirq->qsimcirq) (0.2.7)\r\n",
      "Requirement already satisfied: executing in /Users/sebastianyde/miniforge3/lib/python3.10/site-packages (from stack-data->ipython>=6.1.0->ipywidgets->cirq-ft==1.3.0->cirq->qsimcirq) (1.0.0)\r\n",
      "Requirement already satisfied: asttokens in /Users/sebastianyde/miniforge3/lib/python3.10/site-packages (from stack-data->ipython>=6.1.0->ipywidgets->cirq-ft==1.3.0->cirq->qsimcirq) (2.0.8)\r\n",
      "Requirement already satisfied: pure-eval in /Users/sebastianyde/miniforge3/lib/python3.10/site-packages (from stack-data->ipython>=6.1.0->ipywidgets->cirq-ft==1.3.0->cirq->qsimcirq) (0.2.2)\r\n",
      "Requirement already satisfied: h11<0.15,>=0.13 in /Users/sebastianyde/miniforge3/lib/python3.10/site-packages (from httpcore<0.17.0,>=0.15.0->httpx<0.24.0,>=0.23.0->qcs-api-client<0.22.0,>=0.21.0->pyquil<4.0.0,>=3.2.0->cirq-rigetti==1.3.0->cirq->qsimcirq) (0.14.0)\r\n",
      "Requirement already satisfied: anyio<5.0,>=3.0 in /Users/sebastianyde/miniforge3/lib/python3.10/site-packages (from httpcore<0.17.0,>=0.15.0->httpx<0.24.0,>=0.23.0->qcs-api-client<0.22.0,>=0.21.0->pyquil<4.0.0,>=3.2.0->cirq-rigetti==1.3.0->cirq->qsimcirq) (4.2.0)\r\n",
      "Requirement already satisfied: exceptiongroup>=1.0.2 in /Users/sebastianyde/miniforge3/lib/python3.10/site-packages (from anyio<5.0,>=3.0->httpcore<0.17.0,>=0.15.0->httpx<0.24.0,>=0.23.0->qcs-api-client<0.22.0,>=0.21.0->pyquil<4.0.0,>=3.2.0->cirq-rigetti==1.3.0->cirq->qsimcirq) (1.0.4)\r\n",
      "Downloading pathspec-0.12.1-py3-none-any.whl (31 kB)\r\n",
      "Downloading typed_ast-1.5.5-cp310-cp310-macosx_11_0_arm64.whl (208 kB)\r\n",
      "\u001B[2K   \u001B[90m━━━━━━━━━━━━━━━━━━━━━━━━━━━━━━━━━━━━━━━━\u001B[0m \u001B[32m208.3/208.3 kB\u001B[0m \u001B[31m5.8 MB/s\u001B[0m eta \u001B[36m0:00:00\u001B[0m\r\n",
      "\u001B[?25hBuilding wheels for collected packages: qsimcirq, black\r\n",
      "  Building wheel for qsimcirq (setup.py) ... \u001B[?25lerror\r\n",
      "  \u001B[1;31merror\u001B[0m: \u001B[1msubprocess-exited-with-error\u001B[0m\r\n",
      "  \r\n",
      "  \u001B[31m×\u001B[0m \u001B[32mpython setup.py bdist_wheel\u001B[0m did not run successfully.\r\n",
      "  \u001B[31m│\u001B[0m exit code: \u001B[1;36m1\u001B[0m\r\n",
      "  \u001B[31m╰─>\u001B[0m \u001B[31m[79 lines of output]\u001B[0m\r\n",
      "  \u001B[31m   \u001B[0m running bdist_wheel\r\n",
      "  \u001B[31m   \u001B[0m running build\r\n",
      "  \u001B[31m   \u001B[0m running build_py\r\n",
      "  \u001B[31m   \u001B[0m creating build\r\n",
      "  \u001B[31m   \u001B[0m creating build/lib.macosx-11.0-arm64-cpython-310\r\n",
      "  \u001B[31m   \u001B[0m creating build/lib.macosx-11.0-arm64-cpython-310/qsimcirq\r\n",
      "  \u001B[31m   \u001B[0m copying qsimcirq/qsim_circuit.py -> build/lib.macosx-11.0-arm64-cpython-310/qsimcirq\r\n",
      "  \u001B[31m   \u001B[0m copying qsimcirq/__init__.py -> build/lib.macosx-11.0-arm64-cpython-310/qsimcirq\r\n",
      "  \u001B[31m   \u001B[0m copying qsimcirq/qsimh_simulator.py -> build/lib.macosx-11.0-arm64-cpython-310/qsimcirq\r\n",
      "  \u001B[31m   \u001B[0m copying qsimcirq/qsim_simulator.py -> build/lib.macosx-11.0-arm64-cpython-310/qsimcirq\r\n",
      "  \u001B[31m   \u001B[0m copying qsimcirq/py.typed -> build/lib.macosx-11.0-arm64-cpython-310/qsimcirq\r\n",
      "  \u001B[31m   \u001B[0m running build_ext\r\n",
      "  \u001B[31m   \u001B[0m -- The C compiler identification is AppleClang 15.0.0.15000040\r\n",
      "  \u001B[31m   \u001B[0m -- The CXX compiler identification is AppleClang 15.0.0.15000040\r\n",
      "  \u001B[31m   \u001B[0m -- Detecting C compiler ABI info\r\n",
      "  \u001B[31m   \u001B[0m -- Detecting C compiler ABI info - done\r\n",
      "  \u001B[31m   \u001B[0m -- Check for working C compiler: /Library/Developer/CommandLineTools/usr/bin/cc - skipped\r\n",
      "  \u001B[31m   \u001B[0m -- Detecting C compile features\r\n",
      "  \u001B[31m   \u001B[0m -- Detecting C compile features - done\r\n",
      "  \u001B[31m   \u001B[0m -- Detecting CXX compiler ABI info\r\n",
      "  \u001B[31m   \u001B[0m -- Detecting CXX compiler ABI info - done\r\n",
      "  \u001B[31m   \u001B[0m -- Check for working CXX compiler: /Library/Developer/CommandLineTools/usr/bin/c++ - skipped\r\n",
      "  \u001B[31m   \u001B[0m -- Detecting CXX compile features\r\n",
      "  \u001B[31m   \u001B[0m -- Detecting CXX compile features - done\r\n",
      "  \u001B[31m   \u001B[0m -- Found PythonInterp: /Users/sebastianyde/miniforge3/bin/python3.10 (found version \"3.10.6\")\r\n",
      "  \u001B[31m   \u001B[0m -- Found PythonLibs: /Users/sebastianyde/miniforge3/lib/libpython3.10.dylib\r\n",
      "  \u001B[31m   \u001B[0m -- Performing Test HAS_CPP14_FLAG\r\n",
      "  \u001B[31m   \u001B[0m -- Performing Test HAS_CPP14_FLAG - Failed\r\n",
      "  \u001B[31m   \u001B[0m -- Performing Test HAS_CPP11_FLAG\r\n",
      "  \u001B[31m   \u001B[0m -- Performing Test HAS_CPP11_FLAG - Failed\r\n",
      "  \u001B[31m   \u001B[0m CMake Error at build/temp.macosx-11.0-arm64-cpython-310/_deps/pybind11-src/tools/pybind11Tools.cmake:32 (message):\r\n",
      "  \u001B[31m   \u001B[0m   Unsupported compiler -- pybind11 requires C++11 support!\r\n",
      "  \u001B[31m   \u001B[0m Call Stack (most recent call first):\r\n",
      "  \u001B[31m   \u001B[0m   build/temp.macosx-11.0-arm64-cpython-310/_deps/pybind11-src/CMakeLists.txt:33 (include)\r\n",
      "  \u001B[31m   \u001B[0m \r\n",
      "  \u001B[31m   \u001B[0m \r\n",
      "  \u001B[31m   \u001B[0m -- Configuring incomplete, errors occurred!\r\n",
      "  \u001B[31m   \u001B[0m See also \"/private/var/folders/lf/g00xwz855rs9xhsrn28h139c0000gn/T/pip-install-afai9mum/qsimcirq_52e24f64a0bd48d0820d39e47d8d032e/build/temp.macosx-11.0-arm64-cpython-310/CMakeFiles/CMakeOutput.log\".\r\n",
      "  \u001B[31m   \u001B[0m See also \"/private/var/folders/lf/g00xwz855rs9xhsrn28h139c0000gn/T/pip-install-afai9mum/qsimcirq_52e24f64a0bd48d0820d39e47d8d032e/build/temp.macosx-11.0-arm64-cpython-310/CMakeFiles/CMakeError.log\".\r\n",
      "  \u001B[31m   \u001B[0m Traceback (most recent call last):\r\n",
      "  \u001B[31m   \u001B[0m   File \"<string>\", line 2, in <module>\r\n",
      "  \u001B[31m   \u001B[0m   File \"<pip-setuptools-caller>\", line 34, in <module>\r\n",
      "  \u001B[31m   \u001B[0m   File \"/private/var/folders/lf/g00xwz855rs9xhsrn28h139c0000gn/T/pip-install-afai9mum/qsimcirq_52e24f64a0bd48d0820d39e47d8d032e/setup.py\", line 82, in <module>\r\n",
      "  \u001B[31m   \u001B[0m     setup(\r\n",
      "  \u001B[31m   \u001B[0m   File \"/Users/sebastianyde/miniforge3/lib/python3.10/site-packages/setuptools/__init__.py\", line 103, in setup\r\n",
      "  \u001B[31m   \u001B[0m     return distutils.core.setup(**attrs)\r\n",
      "  \u001B[31m   \u001B[0m   File \"/Users/sebastianyde/miniforge3/lib/python3.10/site-packages/setuptools/_distutils/core.py\", line 185, in setup\r\n",
      "  \u001B[31m   \u001B[0m     return run_commands(dist)\r\n",
      "  \u001B[31m   \u001B[0m   File \"/Users/sebastianyde/miniforge3/lib/python3.10/site-packages/setuptools/_distutils/core.py\", line 201, in run_commands\r\n",
      "  \u001B[31m   \u001B[0m     dist.run_commands()\r\n",
      "  \u001B[31m   \u001B[0m   File \"/Users/sebastianyde/miniforge3/lib/python3.10/site-packages/setuptools/_distutils/dist.py\", line 969, in run_commands\r\n",
      "  \u001B[31m   \u001B[0m     self.run_command(cmd)\r\n",
      "  \u001B[31m   \u001B[0m   File \"/Users/sebastianyde/miniforge3/lib/python3.10/site-packages/setuptools/dist.py\", line 989, in run_command\r\n",
      "  \u001B[31m   \u001B[0m     super().run_command(command)\r\n",
      "  \u001B[31m   \u001B[0m   File \"/Users/sebastianyde/miniforge3/lib/python3.10/site-packages/setuptools/_distutils/dist.py\", line 988, in run_command\r\n",
      "  \u001B[31m   \u001B[0m     cmd_obj.run()\r\n",
      "  \u001B[31m   \u001B[0m   File \"/Users/sebastianyde/miniforge3/lib/python3.10/site-packages/wheel/bdist_wheel.py\", line 325, in run\r\n",
      "  \u001B[31m   \u001B[0m     self.run_command(\"build\")\r\n",
      "  \u001B[31m   \u001B[0m   File \"/Users/sebastianyde/miniforge3/lib/python3.10/site-packages/setuptools/_distutils/cmd.py\", line 318, in run_command\r\n",
      "  \u001B[31m   \u001B[0m     self.distribution.run_command(command)\r\n",
      "  \u001B[31m   \u001B[0m   File \"/Users/sebastianyde/miniforge3/lib/python3.10/site-packages/setuptools/dist.py\", line 989, in run_command\r\n",
      "  \u001B[31m   \u001B[0m     super().run_command(command)\r\n",
      "  \u001B[31m   \u001B[0m   File \"/Users/sebastianyde/miniforge3/lib/python3.10/site-packages/setuptools/_distutils/dist.py\", line 988, in run_command\r\n",
      "  \u001B[31m   \u001B[0m     cmd_obj.run()\r\n",
      "  \u001B[31m   \u001B[0m   File \"/Users/sebastianyde/miniforge3/lib/python3.10/site-packages/setuptools/_distutils/command/build.py\", line 131, in run\r\n",
      "  \u001B[31m   \u001B[0m     self.run_command(cmd_name)\r\n",
      "  \u001B[31m   \u001B[0m   File \"/Users/sebastianyde/miniforge3/lib/python3.10/site-packages/setuptools/_distutils/cmd.py\", line 318, in run_command\r\n",
      "  \u001B[31m   \u001B[0m     self.distribution.run_command(command)\r\n",
      "  \u001B[31m   \u001B[0m   File \"/Users/sebastianyde/miniforge3/lib/python3.10/site-packages/setuptools/dist.py\", line 989, in run_command\r\n",
      "  \u001B[31m   \u001B[0m     super().run_command(command)\r\n",
      "  \u001B[31m   \u001B[0m   File \"/Users/sebastianyde/miniforge3/lib/python3.10/site-packages/setuptools/_distutils/dist.py\", line 988, in run_command\r\n",
      "  \u001B[31m   \u001B[0m     cmd_obj.run()\r\n",
      "  \u001B[31m   \u001B[0m   File \"/private/var/folders/lf/g00xwz855rs9xhsrn28h139c0000gn/T/pip-install-afai9mum/qsimcirq_52e24f64a0bd48d0820d39e47d8d032e/setup.py\", line 36, in run\r\n",
      "  \u001B[31m   \u001B[0m     self.build_extension(ext)\r\n",
      "  \u001B[31m   \u001B[0m   File \"/private/var/folders/lf/g00xwz855rs9xhsrn28h139c0000gn/T/pip-install-afai9mum/qsimcirq_52e24f64a0bd48d0820d39e47d8d032e/setup.py\", line 65, in build_extension\r\n",
      "  \u001B[31m   \u001B[0m     subprocess.check_call(\r\n",
      "  \u001B[31m   \u001B[0m   File \"/Users/sebastianyde/miniforge3/lib/python3.10/subprocess.py\", line 369, in check_call\r\n",
      "  \u001B[31m   \u001B[0m     raise CalledProcessError(retcode, cmd)\r\n",
      "  \u001B[31m   \u001B[0m subprocess.CalledProcessError: Command '['cmake', '/private/var/folders/lf/g00xwz855rs9xhsrn28h139c0000gn/T/pip-install-afai9mum/qsimcirq_52e24f64a0bd48d0820d39e47d8d032e', '-DCMAKE_LIBRARY_OUTPUT_DIRECTORY=/private/var/folders/lf/g00xwz855rs9xhsrn28h139c0000gn/T/pip-install-afai9mum/qsimcirq_52e24f64a0bd48d0820d39e47d8d032e/build/lib.macosx-11.0-arm64-cpython-310/qsimcirq', '-DPYTHON_EXECUTABLE=/Users/sebastianyde/miniforge3/bin/python3.10', '-DCMAKE_BUILD_TYPE=Release']' returned non-zero exit status 1.\r\n",
      "  \u001B[31m   \u001B[0m \u001B[31m[end of output]\u001B[0m\r\n",
      "  \r\n",
      "  \u001B[1;35mnote\u001B[0m: This error originates from a subprocess, and is likely not a problem with pip.\r\n",
      "\u001B[31m  ERROR: Failed building wheel for qsimcirq\u001B[0m\u001B[31m\r\n",
      "\u001B[0m\u001B[?25h  Running setup.py clean for qsimcirq\r\n",
      "  Building wheel for black (pyproject.toml) ... \u001B[?25ldone\r\n",
      "\u001B[?25h  Created wheel for black: filename=black-20.8b1-py3-none-any.whl size=124171 sha256=39c00f9ca10164b9a03531e72d532d25fc6e64673b8a413c5ec9f609dbdfb55a\r\n",
      "  Stored in directory: /Users/sebastianyde/Library/Caches/pip/wheels/a6/27/2c/11ae14a58d1591140f9ad31b7954a8ecc5b20fd3164b6fe8ba\r\n",
      "Successfully built black\r\n",
      "Failed to build qsimcirq\r\n",
      "\u001B[31mERROR: Could not build wheels for qsimcirq, which is required to install pyproject.toml-based projects\u001B[0m\u001B[31m\r\n",
      "\u001B[0m"
     ]
    }
   ],
   "source": [
    "!pip install qsimcirq"
   ],
   "metadata": {
    "collapsed": false,
    "ExecuteTime": {
     "end_time": "2024-02-06T15:37:26.990115Z",
     "start_time": "2024-02-06T15:37:06.380088Z"
    }
   },
   "id": "4107aef353b87894"
  },
  {
   "cell_type": "code",
   "outputs": [],
   "source": [
    "import numpy as np\n",
    "import scipy as sc\n",
    "import matplotlib.pyplot as plt\n",
    "\n",
    "from src.CPQAOA import CP_QAOA\n",
    "from src.QAOA import QAOA\n",
    "from src.Pennylane_QAOA import Pennylane_QAOA\n",
    "#from src.Bluequbit_QAOA import Bluequbit_QAOA\n",
    "from src.Cirq_QAOA import Cirq_QAOA\n",
    "from src.Chain import Chain\n",
    "from src.Grid import Grid\n",
    "from src.Tools import (portfolio_metrics, \n",
    "                       min_cost_partition, \n",
    "                       get_qubo, \n",
    "                       normalized_cost, \n",
    "                       qubo_limits, \n",
    "                       check_qubo, \n",
    "                       get_ising)\n",
    "from src.Tools import get_qiskit_H"
   ],
   "metadata": {
    "collapsed": false,
    "ExecuteTime": {
     "end_time": "2024-02-06T15:33:53.704368Z",
     "start_time": "2024-02-06T15:33:53.702389Z"
    }
   },
   "id": "f16b6db3b1b4f46a",
   "execution_count": 46
  },
  {
   "cell_type": "code",
   "outputs": [],
   "source": [
    "n_qubits = 6\n",
    "init_strat = np.array([1 if i%2 == 1 else 0 for i in range(n_qubits)])\n",
    "k = n_qubits // 2\n",
    "my_indices = [(i, i+1) for i in range(n_qubits-1)]\n",
    "n_layers = 2\n",
    "alpha = 0.5\n",
    "seed = 0\n",
    "\n",
    "max_iter = 1500"
   ],
   "metadata": {
    "collapsed": false,
    "ExecuteTime": {
     "end_time": "2024-02-06T15:31:39.523755Z",
     "start_time": "2024-02-06T15:31:39.509303Z"
    }
   },
   "id": "c9acd18341dba2f0",
   "execution_count": 34
  },
  {
   "cell_type": "code",
   "execution_count": 35,
   "outputs": [],
   "source": [
    " # Defining topology\n",
    "my_chain = Chain(N_qubits=n_qubits)\n",
    "my_chain.set_initialization_strategy(strategy=init_strat)\n",
    "\n",
    "# Deciding between grid and 1d chain topology\n",
    "my_topology = my_chain\n",
    "\n",
    "# Generating random problem instance \n",
    "expected_returns, covariances = portfolio_metrics(n=n_qubits, seed=seed)\n",
    "\n",
    "# Retrieving C_min, C_max and corresponding states for original portfolio problem\n",
    "constrained_result, full_result, lmbda = min_cost_partition(nr_qubits=n_qubits,\n",
    "                                                            k=k,\n",
    "                                                            mu=expected_returns,\n",
    "                                                            sigma=covariances,\n",
    "                                                            alpha=alpha)\n",
    "\n",
    "portfolio_subspace_max_cost, portfolio_subspace_min_cost, portfolio_subspace_min_state = constrained_result['c_max'], constrained_result['c_min'], constrained_result['s']\n",
    "#full_space_max_cost = full_result['c_max']\n",
    "portfolio_subspace_min_state_str = ''.join([str(_) for _ in portfolio_subspace_min_state])\n",
    "\n",
    "# Generating QUBO corresponding to current problem instance\n",
    "Q, offset = get_qubo(mu=expected_returns,\n",
    "                     sigma=covariances, \n",
    "                     alpha=alpha,\n",
    "                     lmbda=lmbda+1e-8, # Adding small constant purposely\n",
    "                     k=k)\n",
    "QUBO_limits = qubo_limits(Q=Q,offset=offset)\n",
    "qubo_min_cost, qubo_max_cost = QUBO_limits['c_min'], QUBO_limits['c_max']\n",
    "qubo_min_state, qubo_max_state = QUBO_limits['min_state'], QUBO_limits['max_state']\n",
    "check_qubo(QUBO_matrix=Q, QUBO_offset=offset, expected_returns=expected_returns, covariances=covariances, alpha=alpha, k=k)\n",
    "qubo_min_state_str = ''.join([str(_) for _ in qubo_min_state])\n",
    "\n",
    "\n",
    "if not portfolio_subspace_min_state_str == qubo_min_state_str:\n",
    "    raise RuntimeError(f'portfolio_subspace_min_state_str: {portfolio_subspace_min_state_str}, qubo_min_state_str={qubo_min_state_str}'+f'Min. cost of qubo is: {qubo_min_cost}, but min. cost of constrained portfolio is: {portfolio_subspace_min_cost}.')\n",
    "\n",
    "if not np.isclose(qubo_min_cost,portfolio_subspace_min_cost):\n",
    "    raise RuntimeError(f'Min. cost of qubo is: {qubo_min_cost}, but min. cost of constrained portfolio is: {portfolio_subspace_min_cost}.')\n",
    "\n",
    "if not qubo_max_cost >= portfolio_subspace_max_cost:\n",
    "    raise RuntimeError(f'Max. cost of qubo: {qubo_max_cost}, max. cost of portfolio subspace: {portfolio_subspace_max_cost} (should be qubo max. >= constrained portfolio max)')"
   ],
   "metadata": {
    "collapsed": false,
    "ExecuteTime": {
     "end_time": "2024-02-06T15:31:39.538389Z",
     "start_time": "2024-02-06T15:31:39.516923Z"
    }
   },
   "id": "15b1db20c1c5381d"
  },
  {
   "cell_type": "code",
   "outputs": [],
   "source": [
    "qiskit_ansatz = QAOA(N_qubits=n_qubits,\n",
    "                     layers=n_layers,\n",
    "                     QUBO_matrix=Q,\n",
    "                     QUBO_offset=offset,\n",
    "                     constraining_mixer=False,\n",
    "                     Topology=my_topology)\n",
    "\n",
    "pennylane_ansatz = Pennylane_QAOA(N_qubits=n_qubits,\n",
    "                                  layers=n_layers,\n",
    "                                  QUBO_matrix=Q,\n",
    "                                  QUBO_offset=offset)\n",
    "\n",
    "\"\"\"bluequbit_ansatz = Bluequbit_QAOA(N_qubits=n_qubits,\n",
    "                                  layers=n_layers,\n",
    "                                  QUBO_matrix=Q,\n",
    "                                  QUBO_offset=offset)\"\"\"\n",
    "\n",
    "cirq_ansatz = Cirq_QAOA(N_qubits=n_qubits,\n",
    "                                  layers=n_layers,\n",
    "                                  QUBO_matrix=Q,\n",
    "                                  QUBO_offset=offset)"
   ],
   "metadata": {
    "collapsed": false,
    "ExecuteTime": {
     "end_time": "2024-02-06T15:31:39.539008Z",
     "start_time": "2024-02-06T15:31:39.524946Z"
    }
   },
   "id": "290359b4ce2ae241",
   "execution_count": 36
  },
  {
   "cell_type": "code",
   "outputs": [],
   "source": [
    "# Choosing optimizer for scipy\n",
    "available_methods = ['COBYLA', 'Nelder-Mead', 'BFGS']\n",
    "optimizer_method = available_methods[0]\n",
    "\n",
    "# Generating callback function for plotting\n",
    "qiskit_costs = [] # Normalized costs\n",
    "qiskit_probs = [] # probability of optimal state\n",
    "def qiskit_callback(x):\n",
    "    _dict_ = qiskit_ansatz.get_state_probabilities(flip_states=False)\n",
    "    # N.B. Normalizing w. respect to full space max cost\n",
    "    _cost_ = normalized_cost(result=_dict_,\n",
    "                             QUBO_matrix=Q,\n",
    "                             QUBO_offset=offset,\n",
    "                             max_cost=portfolio_subspace_max_cost, \n",
    "                             min_cost=qubo_min_cost)\n",
    "    if portfolio_subspace_min_state_str in list(_dict_.keys()):\n",
    "        qiskit_probs.append(_dict_[portfolio_subspace_min_state_str])\n",
    "    else:\n",
    "        qiskit_probs.append(0)\n",
    "    qiskit_costs.append(_cost_)\n",
    "    \n",
    "# Generating callback function for plotting\n",
    "pennylane_costs = [] # Normalized costs\n",
    "pennylane_probs = [] # probability of optimal state\n",
    "def pennylane_callback(x):\n",
    "    _dict_ = pennylane_ansatz.get_state_probabilities(flip_states=False)\n",
    "    # N.B. Normalizing w. respect to full space max cost\n",
    "    _cost_ = normalized_cost(result=_dict_,\n",
    "                             QUBO_matrix=Q,\n",
    "                             QUBO_offset=offset,\n",
    "                             max_cost=portfolio_subspace_max_cost, \n",
    "                             min_cost=qubo_min_cost)\n",
    "    if portfolio_subspace_min_state_str in list(_dict_.keys()):\n",
    "        pennylane_probs.append(_dict_[portfolio_subspace_min_state_str])\n",
    "    else:\n",
    "        pennylane_probs.append(0)\n",
    "    pennylane_costs.append(_cost_)\n",
    "    \n",
    "\n",
    "\"\"\"# Generating callback function for plotting\n",
    "bluequbit_costs = [] # Normalized costs\n",
    "bluequbit_probs = [] # probability of optimal state\n",
    "def bluequbit_callback(x):\n",
    "    _dict_ = bluequbit_ansatz.get_state_probabilities(flip_states=False)\n",
    "    # N.B. Normalizing w. respect to full space max cost\n",
    "    _cost_ = normalized_cost(result=_dict_,\n",
    "                             QUBO_matrix=Q,\n",
    "                             QUBO_offset=offset,\n",
    "                             max_cost=portfolio_subspace_max_cost, \n",
    "                             min_cost=qubo_min_cost)\n",
    "    if portfolio_subspace_min_state_str in list(_dict_.keys()):\n",
    "        bluequbit_probs.append(_dict_[portfolio_subspace_min_state_str])\n",
    "    else:\n",
    "        bluequbit_probs.append(0)\n",
    "    bluequbit_costs.append(_cost_)\"\"\"\n",
    "\n",
    "\n",
    "# Generating callback function for plotting\n",
    "cirq_costs = [] # Normalized costs\n",
    "cirq_probs = [] # probability of optimal state\n",
    "def cirq_callback(x):\n",
    "    _dict_ = cirq_ansatz.get_state_probabilities(flip_states=False)\n",
    "    # N.B. Normalizing w. respect to full space max cost\n",
    "    _cost_ = normalized_cost(result=_dict_,\n",
    "                             QUBO_matrix=Q,\n",
    "                             QUBO_offset=offset,\n",
    "                             max_cost=portfolio_subspace_max_cost, \n",
    "                             min_cost=qubo_min_cost)\n",
    "    if portfolio_subspace_min_state_str in list(_dict_.keys()):\n",
    "        cirq_probs.append(_dict_[portfolio_subspace_min_state_str])\n",
    "    else:\n",
    "        cirq_probs.append(0)\n",
    "    cirq_costs.append(_cost_)\n",
    "\n",
    "# Generating initial guess for rotation angles\n",
    "np.random.seed(seed)\n",
    "theta_min, theta_max = -2*np.pi, 2*np.pi\n",
    "N_angles = 2 * n_layers\n",
    "theta_i = np.random.uniform(low=theta_min, high=theta_max, size=N_angles)"
   ],
   "metadata": {
    "collapsed": false,
    "ExecuteTime": {
     "end_time": "2024-02-06T15:31:39.539257Z",
     "start_time": "2024-02-06T15:31:39.532811Z"
    }
   },
   "id": "d114248f968f9ee6",
   "execution_count": 37
  },
  {
   "cell_type": "code",
   "outputs": [
    {
     "data": {
      "text/plain": " message: Optimization terminated successfully.\n success: True\n  status: 1\n     fun: -0.4448843442124757\n       x: [ 1.877e+00  1.376e+00  9.955e-01  1.388e+00]\n    nfev: 959\n   maxcv: 0.0"
     },
     "execution_count": 38,
     "metadata": {},
     "output_type": "execute_result"
    }
   ],
   "source": [
    "qiskit_res = sc.optimize.minimize(fun=qiskit_ansatz.get_cost, \n",
    "                                  x0=theta_i,\n",
    "                                  method=optimizer_method,\n",
    "                                  options={'disp': False, \n",
    "                                           'maxiter': max_iter},\n",
    "                                  callback=qiskit_callback)\n",
    "qiskit_res\n"
   ],
   "metadata": {
    "collapsed": false,
    "ExecuteTime": {
     "end_time": "2024-02-06T15:31:44.625567Z",
     "start_time": "2024-02-06T15:31:39.538342Z"
    }
   },
   "id": "286dc536b14363b2",
   "execution_count": 38
  },
  {
   "cell_type": "code",
   "outputs": [
    {
     "data": {
      "text/plain": " message: Optimization terminated successfully.\n success: True\n  status: 1\n     fun: -0.5151519640447131\n       x: [ 1.524e+00  1.868e+00  1.239e+00  3.840e-01]\n    nfev: 169\n   maxcv: 0.0"
     },
     "execution_count": 39,
     "metadata": {},
     "output_type": "execute_result"
    }
   ],
   "source": [
    "pennylane_res = sc.optimize.minimize(fun=pennylane_ansatz.get_cost, \n",
    "                                     x0=theta_i,\n",
    "                                     method=optimizer_method,\n",
    "                                     options={'disp': False, \n",
    "                                               'maxiter': max_iter},\n",
    "                                     callback=pennylane_callback)\n",
    "pennylane_res"
   ],
   "metadata": {
    "collapsed": false,
    "ExecuteTime": {
     "end_time": "2024-02-06T15:31:45.538936Z",
     "start_time": "2024-02-06T15:31:44.626748Z"
    }
   },
   "id": "7224bcb1662f6e8d",
   "execution_count": 39
  },
  {
   "cell_type": "code",
   "outputs": [
    {
     "data": {
      "text/plain": "\"bluequbit_res = sc.optimize.minimize(fun=bluequbit_ansatz.get_cost, \\n                                     x0=theta_i,\\n                                     method=optimizer_method,\\n                                     options={'disp': False, \\n                                               'maxiter': max_iter},\\n                                     callback=bluequbit_callback)\\nbluequbit_res\""
     },
     "execution_count": 40,
     "metadata": {},
     "output_type": "execute_result"
    }
   ],
   "source": [
    "\"\"\"bluequbit_res = sc.optimize.minimize(fun=bluequbit_ansatz.get_cost, \n",
    "                                     x0=theta_i,\n",
    "                                     method=optimizer_method,\n",
    "                                     options={'disp': False, \n",
    "                                               'maxiter': max_iter},\n",
    "                                     callback=bluequbit_callback)\n",
    "bluequbit_res\"\"\""
   ],
   "metadata": {
    "collapsed": false,
    "ExecuteTime": {
     "end_time": "2024-02-06T15:31:45.539407Z",
     "start_time": "2024-02-06T15:31:45.535168Z"
    }
   },
   "id": "7a1417afc1d56fe7",
   "execution_count": 40
  },
  {
   "cell_type": "code",
   "execution_count": 41,
   "outputs": [
    {
     "data": {
      "text/plain": " message: Optimization terminated successfully.\n success: True\n  status: 1\n     fun: -0.4905712756328876\n       x: [ 1.372e+00  2.793e+00  1.294e+00  5.724e-01]\n    nfev: 373\n   maxcv: 0.0"
     },
     "execution_count": 41,
     "metadata": {},
     "output_type": "execute_result"
    }
   ],
   "source": [
    "cirq_res = sc.optimize.minimize(fun=cirq_ansatz.get_cost, \n",
    "                                     x0=theta_i,\n",
    "                                     method=optimizer_method,\n",
    "                                     options={'disp': False, \n",
    "                                               'maxiter': max_iter},\n",
    "                                     callback=cirq_callback)\n",
    "cirq_res"
   ],
   "metadata": {
    "collapsed": false,
    "ExecuteTime": {
     "end_time": "2024-02-06T15:31:49.317739Z",
     "start_time": "2024-02-06T15:31:45.551443Z"
    }
   },
   "id": "cd026852ee774c34"
  },
  {
   "cell_type": "code",
   "outputs": [
    {
     "data": {
      "text/plain": "(4.892102479934692, 0.13191461563110352)"
     },
     "execution_count": 42,
     "metadata": {},
     "output_type": "execute_result"
    }
   ],
   "source": [
    "qiskit_ansatz.circuit_time, qiskit_ansatz.cost_time"
   ],
   "metadata": {
    "collapsed": false,
    "ExecuteTime": {
     "end_time": "2024-02-06T15:31:49.318062Z",
     "start_time": "2024-02-06T15:31:49.313459Z"
    }
   },
   "id": "c7f327e3c3a2254f",
   "execution_count": 42
  },
  {
   "cell_type": "code",
   "outputs": [
    {
     "data": {
      "text/plain": "(0.873084545135498, 0.029922008514404297)"
     },
     "execution_count": 43,
     "metadata": {},
     "output_type": "execute_result"
    }
   ],
   "source": [
    "pennylane_ansatz.circuit_time, pennylane_ansatz.cost_time"
   ],
   "metadata": {
    "collapsed": false,
    "ExecuteTime": {
     "end_time": "2024-02-06T15:31:49.324855Z",
     "start_time": "2024-02-06T15:31:49.317605Z"
    }
   },
   "id": "beb4a8be1aa31ec",
   "execution_count": 43
  },
  {
   "cell_type": "code",
   "outputs": [],
   "source": [
    "#bluequbit_ansatz.circuit_time, bluequbit_ansatz.cost_time"
   ],
   "metadata": {
    "collapsed": false,
    "ExecuteTime": {
     "end_time": "2024-02-06T15:31:49.325054Z",
     "start_time": "2024-02-06T15:31:49.320610Z"
    }
   },
   "id": "37d2ecc8155321d7",
   "execution_count": 44
  },
  {
   "cell_type": "code",
   "execution_count": 45,
   "outputs": [
    {
     "data": {
      "text/plain": "(3.6876158714294434, 0.053924560546875)"
     },
     "execution_count": 45,
     "metadata": {},
     "output_type": "execute_result"
    }
   ],
   "source": [
    "cirq_ansatz.circuit_time, cirq_ansatz.cost_time"
   ],
   "metadata": {
    "collapsed": false,
    "ExecuteTime": {
     "end_time": "2024-02-06T15:31:49.325989Z",
     "start_time": "2024-02-06T15:31:49.323604Z"
    }
   },
   "id": "87ebd3e5e9783754"
  },
  {
   "cell_type": "code",
   "outputs": [
    {
     "data": {
      "text/plain": "<Figure size 600x300 with 1 Axes>",
      "image/png": "[encoded data removed]"
     },
     "metadata": {},
     "output_type": "display_data"
    }
   ],
   "source": [
    "fig, ax = plt.subplots(1,1, figsize=(6,3))\n",
    "ax.plot([it for it in range(len(qiskit_costs))], qiskit_costs, label='qiskit')\n",
    "ax.plot([it for it in range(len(pennylane_costs))], pennylane_costs, label='pennylane')\n",
    "ax.plot([it for it in range(len(cirq_costs))], cirq_costs, label='cirq')\n",
    "ax.legend()\n",
    "ax.set_ylim(-1,2)\n",
    "plt.show()"
   ],
   "metadata": {
    "collapsed": false,
    "ExecuteTime": {
     "end_time": "2024-02-06T15:34:39.575297Z",
     "start_time": "2024-02-06T15:34:39.526621Z"
    }
   },
   "id": "20de8f6af1a0c472",
   "execution_count": 51
  },
  {
   "cell_type": "code",
   "execution_count": null,
   "outputs": [],
   "source": [],
   "metadata": {
    "collapsed": false
   },
   "id": "fff2cd712cf8bb85"
  }
 ],
 "metadata": {
  "kernelspec": {
   "display_name": "Python 3",
   "language": "python",
   "name": "python3"
  },
  "language_info": {
   "codemirror_mode": {
    "name": "ipython",
    "version": 2
   },
   "file_extension": ".py",
   "mimetype": "text/x-python",
   "name": "python",
   "nbconvert_exporter": "python",
   "pygments_lexer": "ipython2",
   "version": "2.7.6"
  }
 },
 "nbformat": 4,
 "nbformat_minor": 5
}
