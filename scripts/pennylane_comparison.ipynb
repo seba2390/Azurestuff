{
 "cells": [
  {
   "cell_type": "code",
   "outputs": [],
   "source": [
    "import numpy as np\n",
    "import scipy as sc\n",
    "\n",
    "from src.CPQAOA import CP_QAOA\n",
    "from src.QAOA import QAOA\n",
    "from src.Pennylane_QAOA import Pennylane_QAOA\n",
    "from src.Bluequbit_QAOA import Bluequbit_QAOA\n",
    "from src.Chain import Chain\n",
    "from src.Grid import Grid\n",
    "from src.Tools import (portfolio_metrics, \n",
    "                       min_cost_partition, \n",
    "                       get_qubo, \n",
    "                       normalized_cost, \n",
    "                       qubo_limits, \n",
    "                       check_qubo, \n",
    "                       get_ising)\n",
    "from src.Tools import get_qiskit_H"
   ],
   "metadata": {
    "collapsed": false
   },
   "id": "f16b6db3b1b4f46a",
   "execution_count": null
  },
  {
   "cell_type": "code",
   "outputs": [],
   "source": [
    "n_qubits = 11\n",
    "init_strat = np.array([1 if i%2 == 1 else 0 for i in range(n_qubits)])\n",
    "k = n_qubits // 2\n",
    "my_indices = [(i, i+1) for i in range(n_qubits-1)]\n",
    "n_layers = 2\n",
    "alpha = 0.5\n",
    "seed = 0\n",
    "\n",
    "max_iter = 1500"
   ],
   "metadata": {
    "collapsed": false
   },
   "id": "c9acd18341dba2f0",
   "execution_count": null
  },
  {
   "cell_type": "code",
   "execution_count": null,
   "outputs": [],
   "source": [
    " # Defining topology\n",
    "my_chain = Chain(N_qubits=n_qubits)\n",
    "my_chain.set_initialization_strategy(strategy=init_strat)\n",
    "\n",
    "# Deciding between grid and 1d chain topology\n",
    "my_topology = my_chain\n",
    "\n",
    "# Generating random problem instance \n",
    "expected_returns, covariances = portfolio_metrics(n=n_qubits, seed=seed)\n",
    "\n",
    "# Retrieving C_min, C_max and corresponding states for original portfolio problem\n",
    "constrained_result, full_result, lmbda = min_cost_partition(nr_qubits=n_qubits,\n",
    "                                                            k=k,\n",
    "                                                            mu=expected_returns,\n",
    "                                                            sigma=covariances,\n",
    "                                                            alpha=alpha)\n",
    "\n",
    "portfolio_subspace_max_cost, portfolio_subspace_min_cost, portfolio_subspace_min_state = constrained_result['c_max'], constrained_result['c_min'], constrained_result['s']\n",
    "#full_space_max_cost = full_result['c_max']\n",
    "portfolio_subspace_min_state_str = ''.join([str(_) for _ in portfolio_subspace_min_state])\n",
    "\n",
    "# Generating QUBO corresponding to current problem instance\n",
    "Q, offset = get_qubo(mu=expected_returns,\n",
    "                     sigma=covariances, \n",
    "                     alpha=alpha,\n",
    "                     lmbda=lmbda+1e-8, # Adding small constant purposely\n",
    "                     k=k)\n",
    "QUBO_limits = qubo_limits(Q=Q,offset=offset)\n",
    "qubo_min_cost, qubo_max_cost = QUBO_limits['c_min'], QUBO_limits['c_max']\n",
    "qubo_min_state, qubo_max_state = QUBO_limits['min_state'], QUBO_limits['max_state']\n",
    "check_qubo(QUBO_matrix=Q, QUBO_offset=offset, expected_returns=expected_returns, covariances=covariances, alpha=alpha, k=k)\n",
    "qubo_min_state_str = ''.join([str(_) for _ in qubo_min_state])\n",
    "\n",
    "\n",
    "if not portfolio_subspace_min_state_str == qubo_min_state_str:\n",
    "    raise RuntimeError(f'portfolio_subspace_min_state_str: {portfolio_subspace_min_state_str}, qubo_min_state_str={qubo_min_state_str}'+f'Min. cost of qubo is: {qubo_min_cost}, but min. cost of constrained portfolio is: {portfolio_subspace_min_cost}.')\n",
    "\n",
    "if not np.isclose(qubo_min_cost,portfolio_subspace_min_cost):\n",
    "    raise RuntimeError(f'Min. cost of qubo is: {qubo_min_cost}, but min. cost of constrained portfolio is: {portfolio_subspace_min_cost}.')\n",
    "\n",
    "if not qubo_max_cost >= portfolio_subspace_max_cost:\n",
    "    raise RuntimeError(f'Max. cost of qubo: {qubo_max_cost}, max. cost of portfolio subspace: {portfolio_subspace_max_cost} (should be qubo max. >= constrained portfolio max)')"
   ],
   "metadata": {
    "collapsed": false
   },
   "id": "15b1db20c1c5381d"
  },
  {
   "cell_type": "code",
   "outputs": [],
   "source": [
    "qiskit_ansatz = QAOA(N_qubits=n_qubits,\n",
    "                     layers=n_layers,\n",
    "                     QUBO_matrix=Q,\n",
    "                     QUBO_offset=offset,\n",
    "                     constraining_mixer=False,\n",
    "                     Topology=my_topology)\n",
    "\n",
    "pennylane_ansatz = Pennylane_QAOA(N_qubits=n_qubits,\n",
    "                                  layers=n_layers,\n",
    "                                  QUBO_matrix=Q,\n",
    "                                  QUBO_offset=offset)\n",
    "\n",
    "bluequbit_ansatz = Bluequbit_QAOA(N_qubits=n_qubits,\n",
    "                                  layers=n_layers,\n",
    "                                  QUBO_matrix=Q,\n",
    "                                  QUBO_offset=offset)"
   ],
   "metadata": {
    "collapsed": false
   },
   "id": "290359b4ce2ae241",
   "execution_count": null
  },
  {
   "cell_type": "code",
   "outputs": [],
   "source": [
    "# Choosing optimizer for scipy\n",
    "available_methods = ['COBYLA', 'Nelder-Mead', 'BFGS']\n",
    "optimizer_method = available_methods[0]\n",
    "\n",
    "# Generating callback function for plotting\n",
    "qiskit_costs = [] # Normalized costs\n",
    "qiskit_probs = [] # probability of optimal state\n",
    "def qiskit_callback(x):\n",
    "    _dict_ = qiskit_ansatz.get_state_probabilities(flip_states=False)\n",
    "    # N.B. Normalizing w. respect to full space max cost\n",
    "    _cost_ = normalized_cost(result=_dict_,\n",
    "                             QUBO_matrix=Q,\n",
    "                             QUBO_offset=offset,\n",
    "                             max_cost=portfolio_subspace_max_cost, \n",
    "                             min_cost=qubo_min_cost)\n",
    "    if portfolio_subspace_min_state_str in list(_dict_.keys()):\n",
    "        qiskit_probs.append(_dict_[portfolio_subspace_min_state_str])\n",
    "    else:\n",
    "        qiskit_probs.append(0)\n",
    "    qiskit_costs.append(_cost_)\n",
    "    \n",
    "# Generating callback function for plotting\n",
    "pennylane_costs = [] # Normalized costs\n",
    "pennylane_probs = [] # probability of optimal state\n",
    "def pennylane_callback(x):\n",
    "    _dict_ = pennylane_ansatz.get_state_probabilities(flip_states=False)\n",
    "    # N.B. Normalizing w. respect to full space max cost\n",
    "    _cost_ = normalized_cost(result=_dict_,\n",
    "                             QUBO_matrix=Q,\n",
    "                             QUBO_offset=offset,\n",
    "                             max_cost=portfolio_subspace_max_cost, \n",
    "                             min_cost=qubo_min_cost)\n",
    "    if portfolio_subspace_min_state_str in list(_dict_.keys()):\n",
    "        pennylane_probs.append(_dict_[portfolio_subspace_min_state_str])\n",
    "    else:\n",
    "        pennylane_probs.append(0)\n",
    "    pennylane_costs.append(_cost_)\n",
    "    \n",
    "\n",
    "# Generating callback function for plotting\n",
    "bluequbit_costs = [] # Normalized costs\n",
    "bluequbit_probs = [] # probability of optimal state\n",
    "def bluequbit_callback(x):\n",
    "    _dict_ = bluequbit_ansatz.get_state_probabilities(flip_states=False)\n",
    "    # N.B. Normalizing w. respect to full space max cost\n",
    "    _cost_ = normalized_cost(result=_dict_,\n",
    "                             QUBO_matrix=Q,\n",
    "                             QUBO_offset=offset,\n",
    "                             max_cost=portfolio_subspace_max_cost, \n",
    "                             min_cost=qubo_min_cost)\n",
    "    if portfolio_subspace_min_state_str in list(_dict_.keys()):\n",
    "        bluequbit_probs.append(_dict_[portfolio_subspace_min_state_str])\n",
    "    else:\n",
    "        bluequbit_probs.append(0)\n",
    "    bluequbit_costs.append(_cost_)\n",
    "\n",
    "# Generating initial guess for rotation angles\n",
    "np.random.seed(seed)\n",
    "theta_min, theta_max = -2*np.pi, 2*np.pi\n",
    "N_angles = 2 * n_layers\n",
    "theta_i = np.random.uniform(low=theta_min, high=theta_max, size=N_angles)"
   ],
   "metadata": {
    "collapsed": false
   },
   "id": "d114248f968f9ee6",
   "execution_count": null
  },
  {
   "cell_type": "code",
   "outputs": [],
   "source": [
    "qiskit_res = sc.optimize.minimize(fun=qiskit_ansatz.get_cost, \n",
    "                                  x0=theta_i,\n",
    "                                  method=optimizer_method,\n",
    "                                  options={'disp': False, \n",
    "                                           'maxiter': max_iter},\n",
    "                                  callback=qiskit_callback)\n",
    "qiskit_res\n"
   ],
   "metadata": {
    "collapsed": false
   },
   "id": "286dc536b14363b2",
   "execution_count": null
  },
  {
   "cell_type": "code",
   "outputs": [],
   "source": [
    "pennylane_res = sc.optimize.minimize(fun=pennylane_ansatz.get_cost, \n",
    "                                     x0=theta_i,\n",
    "                                     method=optimizer_method,\n",
    "                                     options={'disp': False, \n",
    "                                               'maxiter': max_iter},\n",
    "                                     callback=pennylane_callback)\n",
    "pennylane_res"
   ],
   "metadata": {
    "collapsed": false
   },
   "id": "7224bcb1662f6e8d",
   "execution_count": null
  },
  {
   "cell_type": "code",
   "outputs": [],
   "source": [
    "bluequbit_res = sc.optimize.minimize(fun=bluequbit_ansatz.get_cost, \n",
    "                                     x0=theta_i,\n",
    "                                     method=optimizer_method,\n",
    "                                     options={'disp': False, \n",
    "                                               'maxiter': max_iter},\n",
    "                                     callback=bluequbit_callback)\n",
    "bluequbit_res"
   ],
   "metadata": {
    "collapsed": false
   },
   "id": "7a1417afc1d56fe7",
   "execution_count": null
  },
  {
   "cell_type": "code",
   "outputs": [],
   "source": [
    "qiskit_ansatz.circuit_time, qiskit_ansatz.cost_time"
   ],
   "metadata": {
    "collapsed": false
   },
   "id": "c7f327e3c3a2254f",
   "execution_count": null
  },
  {
   "cell_type": "code",
   "outputs": [],
   "source": [
    "pennylane_ansatz.circuit_time, pennylane_ansatz.cost_time"
   ],
   "metadata": {
    "collapsed": false
   },
   "id": "beb4a8be1aa31ec",
   "execution_count": null
  },
  {
   "cell_type": "code",
   "outputs": [],
   "source": [
    "bluequbit_ansatz.circuit_time, bluequbit_ansatz.cost_time"
   ],
   "metadata": {
    "collapsed": false
   },
   "id": "37d2ecc8155321d7",
   "execution_count": null
  },
  {
   "cell_type": "code",
   "outputs": [],
   "source": [
    "import cirq\n",
    "from typing import Sequence, Tuple, List\n",
    "import numpy as np\n",
    "import sympy\n",
    "import matplotlib.pyplot as plt\n",
    "\n",
    "from numpy.random import uniform as u\n",
    "\n",
    "def single_rotation_gamma_layer(gamma_value: float, \n",
    "                                h_list: List[Tuple[int, float]]) -> Sequence[cirq.Operation]:\n",
    "    \"\"\" Generator for R_z in U(gamma, C) layer of QAOA \"\"\"\n",
    "    for qubit_i, h_i in h_list:\n",
    "        yield cirq.Z(qubit_i) ** (gamma_value * h_i)\n",
    "        \n",
    "def multi_rotation_gamma_layer(gamma_value: float, \n",
    "                               J_list: List[Tuple[int, float]]) -> Sequence[cirq.Operation]:\n",
    "    \"\"\" Generator for R_zz in U(gamma, C) layer of QAOA \"\"\"\n",
    "    for qubit_i, qubit_j, j_i in J_list:\n",
    "        yield cirq.ZZ(qubit_i, qubit_j) ** (gamma_value * j_i)\n",
    "\n",
    "def beta_layer(beta_value: float, indices: list[int]) -> Sequence[cirq.Operation]:\n",
    "    \"\"\"Generator for U(beta, B) layer (mixing layer) of QAOA\"\"\"\n",
    "    for qubit_i in indices:\n",
    "        yield cirq.X(qubit_i) ** beta_value\n",
    "        \n",
    "layers = 2\n",
    "N_qubits = 15\n",
    "qubits = [cirq.NamedQubit(f'q_{i}') for i in range(N_qubits)]\n",
    "\n",
    "h_list = [(qubits[i],u(-2,2)) for i in range(N_qubits)]\n",
    "J_list = [(qubits[i],qubits[i+1],u(-2,2)) for i in range(N_qubits-1)]\n",
    "\n",
    "# Use sympy.Symbols for the 𝛾 and β parameters.\n",
    "gammas = [sympy.Symbol(f\"𝛄_{layer}\") for layer in range(layers)]\n",
    "betas = [sympy.Symbol(f\"β_{layer}\") for layer in range(layers)]\n",
    "\n",
    "# Start in the H|0> state.\n",
    "qaoa = cirq.Circuit(cirq.H.on_each(qubits))\n",
    "for layer in range(layers):\n",
    "    \n",
    "    # Implement the U(gamma, C) operator.\n",
    "    qaoa.append(single_rotation_gamma_layer(gamma_value=gammas[layer],h_list=h_list))\n",
    "    qaoa.append(multi_rotation_gamma_layer(gamma_value=gammas[layer], J_list=J_list))\n",
    "    \n",
    "    # Implement the U(beta, B) operator.\n",
    "    qaoa.append(beta_layer(betas[layer], indices=qubits), strategy=cirq.InsertStrategy.NEW_THEN_INLINE)\n",
    "\n",
    "gamma_values, beta_values = [u(-4,4) for gamma in gammas], [u(-4,4) for beta in betas]\n",
    "sim = cirq.Simulator()\n",
    "gamma_dict, beta_dict = {f\"𝛄_{i}\": gamma_values[i] for i in range(len(gammas))}, {f\"β_{i}\": beta_values[i] for i in range(len(gammas))}\n",
    "total_dict = {**gamma_dict, **beta_dict}\n",
    "params = cirq.ParamResolver(total_dict)\n",
    "wf = sim.simulate(qaoa, param_resolver=params).final_state_vector"
   ],
   "metadata": {
    "collapsed": false,
    "ExecuteTime": {
     "end_time": "2024-02-06T12:38:02.565119700Z",
     "start_time": "2024-02-06T12:38:02.511272400Z"
    }
   },
   "id": "31be4fcd4c035e2d",
   "execution_count": 32
  },
  {
   "cell_type": "code",
   "outputs": [],
   "source": [],
   "metadata": {
    "collapsed": false
   },
   "id": "20de8f6af1a0c472"
  }
 ],
 "metadata": {
  "kernelspec": {
   "display_name": "Python 3",
   "language": "python",
   "name": "python3"
  },
  "language_info": {
   "codemirror_mode": {
    "name": "ipython",
    "version": 2
   },
   "file_extension": ".py",
   "mimetype": "text/x-python",
   "name": "python",
   "nbconvert_exporter": "python",
   "pygments_lexer": "ipython2",
   "version": "2.7.6"
  }
 },
 "nbformat": 4,
 "nbformat_minor": 5
}
