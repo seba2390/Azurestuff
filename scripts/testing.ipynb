{
 "cells": [
  {
   "cell_type": "code",
   "execution_count": 22,
   "id": "initial_id",
   "metadata": {
    "collapsed": true,
    "ExecuteTime": {
     "end_time": "2024-02-12T14:14:23.946721600Z",
     "start_time": "2024-02-12T14:14:23.876811Z"
    }
   },
   "outputs": [],
   "source": [
    "import os\n",
    "\n",
    "import numpy as np\n",
    "import scipy as sc\n",
    "import matplotlib.pyplot as plt\n",
    "\n",
    "from src.CPQAOA import CP_QAOA\n",
    "from src.Cirq_CPQAOA import Cirq_CPQAOA\n",
    "from src.Qsim_CPQAOA import Qsim_CPQAOA\n",
    "from src.Chain import Chain\n",
    "from src.Tools import (portfolio_metrics, \n",
    "                       min_cost_partition, \n",
    "                       get_qubo, \n",
    "                       normalized_cost, \n",
    "                       qubo_limits, \n",
    "                       check_qubo)"
   ]
  },
  {
   "cell_type": "code",
   "outputs": [],
   "source": [
    "# Number of Qubits \n",
    "N_vals = 10\n",
    "# alpha in: s^T*mu + alpha*(s^T*Covar*s)\n",
    "alpha=0.5\n",
    "# Maximal number of iterations for classical solver\n",
    "max_iter=650\n",
    "# Using next nearest neighbors (in 1D chain model)\n",
    "w_nnn = True\n",
    "# Number of layer repetitions\n",
    "layer_dict = {3:1, 4:1, 5:1,\n",
    "              6:2, 7:2, 8:2, \n",
    "              9:2, 10:3, 11:3, \n",
    "              12:3, 13:3, 14:3,\n",
    "              15:4, 16:4, 17:4}\n",
    "\n",
    "\n",
    "initialization_strategies = {N_qubits : np.array([1 if i%2 == 1 else 0 for i in range(N_qubits)]) \n",
    "                             for N_qubits in range(min(list(layer_dict.keys())),max(list(layer_dict.keys()))+1)}\n",
    "\n",
    "N = N_vals\n",
    "k = N // 2\n",
    "seed = 3\n",
    "\n"
   ],
   "metadata": {
    "collapsed": false,
    "ExecuteTime": {
     "end_time": "2024-02-12T14:16:28.896498500Z",
     "start_time": "2024-02-12T14:16:28.887922500Z"
    }
   },
   "id": "f540b8b06cb0166f",
   "execution_count": 31
  },
  {
   "cell_type": "code",
   "outputs": [],
   "source": [
    "# Defining topology\n",
    "my_chain = Chain(N_qubits=N)\n",
    "my_chain.set_initialization_strategy(strategy=initialization_strategies[N])\n",
    "\n",
    "# Deciding between grid and 1d chain topology\n",
    "my_topology = my_chain\n",
    "\n",
    "# Generating random problem instance \n",
    "expected_returns, covariances = portfolio_metrics(n=N, seed=seed)\n",
    "\n",
    "# Retrieving C_min, C_max and corresponding states for original portfolio problem\n",
    "constrained_result, full_result, lmbda = min_cost_partition(nr_qubits=N,\n",
    "                                                            k=k,\n",
    "                                                            mu=expected_returns,\n",
    "                                                            sigma=covariances,\n",
    "                                                            alpha=alpha)\n",
    "\n",
    "portfolio_subspace_max_cost, portfolio_subspace_min_cost, portfolio_subspace_min_state = constrained_result['c_max'], constrained_result['c_min'], constrained_result['s']\n",
    "#full_space_max_cost = full_result['c_max']\n",
    "portfolio_subspace_min_state_str = ''.join([str(_) for _ in portfolio_subspace_min_state])\n",
    "\n",
    "# Generating QUBO corresponding to current problem instance\n",
    "Q, offset = get_qubo(mu=expected_returns,\n",
    "                     sigma=covariances, \n",
    "                     alpha=alpha,\n",
    "                     lmbda=lmbda+1e-8, # Adding small constant purposely\n",
    "                     k=k)\n",
    "QUBO_limits = qubo_limits(Q=Q,offset=offset)\n",
    "qubo_min_cost, qubo_max_cost = QUBO_limits['c_min'], QUBO_limits['c_max']\n",
    "qubo_min_state, qubo_max_state = QUBO_limits['min_state'], QUBO_limits['max_state']\n",
    "check_qubo(QUBO_matrix=Q, QUBO_offset=offset, expected_returns=expected_returns, covariances=covariances, alpha=alpha, k=k)\n",
    "qubo_min_state_str = ''.join([str(_) for _ in qubo_min_state])\n",
    "\n",
    "\n",
    "if not portfolio_subspace_min_state_str == qubo_min_state_str:\n",
    "    raise RuntimeError(f'portfolio_subspace_min_state_str: {portfolio_subspace_min_state_str}, qubo_min_state_str={qubo_min_state_str}'+f'Min. cost of qubo is: {qubo_min_cost}, but min. cost of constrained portfolio is: {portfolio_subspace_min_cost}.')\n",
    "\n",
    "if not np.isclose(qubo_min_cost,portfolio_subspace_min_cost):\n",
    "    raise RuntimeError(f'Min. cost of qubo is: {qubo_min_cost}, but min. cost of constrained portfolio is: {portfolio_subspace_min_cost}.')\n",
    "\n",
    "if not qubo_max_cost >= portfolio_subspace_max_cost:\n",
    "    raise RuntimeError(f'Max. cost of qubo: {qubo_max_cost}, max. cost of portfolio subspace: {portfolio_subspace_max_cost} (should be qubo max. >= constrained portfolio max)')\n"
   ],
   "metadata": {
    "collapsed": false,
    "ExecuteTime": {
     "end_time": "2024-02-12T14:16:29.599084100Z",
     "start_time": "2024-02-12T14:16:29.552295900Z"
    }
   },
   "id": "daa65d8e31dd3e39",
   "execution_count": 32
  },
  {
   "cell_type": "code",
   "outputs": [],
   "source": [
    "# Generating instances of ansatz'\n",
    "QISKIT_ansatz = CP_QAOA(N_qubits=N,\n",
    "                        cardinality=k,\n",
    "                        layers=layer_dict[N],\n",
    "                        topology=my_topology,\n",
    "                        QUBO_matrix=Q,\n",
    "                        with_next_nearest_neighbors=w_nnn,\n",
    "                        approximate_hamiltonian=True)"
   ],
   "metadata": {
    "collapsed": false,
    "ExecuteTime": {
     "end_time": "2024-02-12T14:16:30.466035900Z",
     "start_time": "2024-02-12T14:16:30.447137Z"
    }
   },
   "id": "38fb51e02206d80f",
   "execution_count": 33
  },
  {
   "cell_type": "code",
   "outputs": [],
   "source": [
    "\n",
    "CIRQ_ansatz = Qsim_CPQAOA(N_qubits=N,\n",
    "                          cardinality=k,\n",
    "                          layers=layer_dict[N],\n",
    "                          topology=my_topology,\n",
    "                          QUBO_matrix=Q,\n",
    "                          with_next_nearest_neighbors=w_nnn,\n",
    "                          approximate_hamiltonian=True,\n",
    "                          get_full_state_vector=False)\n"
   ],
   "metadata": {
    "collapsed": false,
    "ExecuteTime": {
     "end_time": "2024-02-12T14:16:30.952699Z",
     "start_time": "2024-02-12T14:16:30.920560900Z"
    }
   },
   "id": "d2cf78df01af1d5f",
   "execution_count": 34
  },
  {
   "cell_type": "code",
   "outputs": [],
   "source": [
    "\n",
    "# Choosing optimizer for scipy\n",
    "optimizer_method = 'COBYLA'\n",
    "\n",
    "# Generating callback function for plotting\n",
    "QISKIT_costs = [] # Normalized costs\n",
    "QISKIT_probs = [] # probability of optimal state\n",
    "def QISKIT_callback_function(x):\n",
    "    _dict_ = QISKIT_ansatz.get_state_probabilities(flip_states=False)\n",
    "    # N.B. Normalizing w. respect to full space max cost\n",
    "    _cost_ = normalized_cost(result=_dict_,\n",
    "                             QUBO_matrix=Q,\n",
    "                             QUBO_offset=offset,\n",
    "                             max_cost=portfolio_subspace_max_cost, \n",
    "                             min_cost=qubo_min_cost)\n",
    "    if portfolio_subspace_min_state_str in list(_dict_.keys()):\n",
    "        QISKIT_probs.append(_dict_[portfolio_subspace_min_state_str])\n",
    "    else:\n",
    "        QISKIT_probs.append(0)\n",
    "    QISKIT_costs.append(_cost_)\n",
    "    \n",
    "# Generating callback function for plotting\n",
    "CIRQ_costs = [] # Normalized costs\n",
    "CIRQ_probs = [] # probability of optimal state\n",
    "def CIRQ_callback_function(x):\n",
    "    _dict_ = CIRQ_ansatz.counts\n",
    "    # N.B. Normalizing w. respect to full space max cost\n",
    "    _cost_ = normalized_cost(result=_dict_,\n",
    "                             QUBO_matrix=Q,\n",
    "                             QUBO_offset=offset,\n",
    "                             max_cost=portfolio_subspace_max_cost, \n",
    "                             min_cost=qubo_min_cost)\n",
    "    if portfolio_subspace_min_state_str in list(_dict_.keys()):\n",
    "        CIRQ_probs.append(_dict_[portfolio_subspace_min_state_str])\n",
    "    else:\n",
    "        CIRQ_probs.append(0)\n",
    "    CIRQ_costs.append(_cost_)\n",
    "\n",
    "# Generating initial guess for rotation angles\n",
    "np.random.seed(seed)\n",
    "theta_min, theta_max = -2*np.pi, 2*np.pi\n",
    "N_angles = layer_dict[N] * len(my_topology.get_NNN_indices()) if w_nnn else layer_dict[N] * len(my_topology.get_NN_indices()) \n",
    "theta_i = np.random.uniform(low=theta_min, high=theta_max, size=N_angles)\n"
   ],
   "metadata": {
    "collapsed": false,
    "ExecuteTime": {
     "end_time": "2024-02-12T14:16:31.720458500Z",
     "start_time": "2024-02-12T14:16:31.698883Z"
    }
   },
   "id": "f83a7eadf1a934af",
   "execution_count": 35
  },
  {
   "cell_type": "code",
   "outputs": [
    {
     "data": {
      "text/plain": " message: Maximum number of function evaluations has been exceeded.\n success: False\n  status: 2\n     fun: -1.837339341972908\n       x: [ 5.801e-01  3.052e+00 ... -1.277e+00 -3.452e+00]\n    nfev: 650\n   maxcv: 0.0"
     },
     "execution_count": 36,
     "metadata": {},
     "output_type": "execute_result"
    }
   ],
   "source": [
    "QISKIT_res = sc.optimize.minimize(fun=QISKIT_ansatz.get_cost, \n",
    "                                      x0=theta_i,\n",
    "                                      method=optimizer_method,\n",
    "                                      options={'disp': False, \n",
    "                                               'maxiter': max_iter},\n",
    "                                      callback=QISKIT_callback_function)\n",
    "QISKIT_res"
   ],
   "metadata": {
    "collapsed": false,
    "ExecuteTime": {
     "end_time": "2024-02-12T14:16:41.608552Z",
     "start_time": "2024-02-12T14:16:32.371242500Z"
    }
   },
   "id": "bcdf66992cadcf30",
   "execution_count": 36
  },
  {
   "cell_type": "code",
   "outputs": [
    {
     "data": {
      "text/plain": " message: Maximum number of function evaluations has been exceeded.\n success: False\n  status: 2\n     fun: -1.8301060616513825\n       x: [ 6.180e-01  2.929e+00 ... -1.216e+00 -3.430e+00]\n    nfev: 650\n   maxcv: 0.0"
     },
     "execution_count": 37,
     "metadata": {},
     "output_type": "execute_result"
    }
   ],
   "source": [
    "CIRQ_res = sc.optimize.minimize(fun=CIRQ_ansatz.get_cost, \n",
    "                                x0=theta_i,\n",
    "                                method=optimizer_method,\n",
    "                                options={'disp': False, \n",
    "                                           'maxiter': max_iter},\n",
    "                                callback=CIRQ_callback_function)\n",
    "\n",
    "CIRQ_res"
   ],
   "metadata": {
    "collapsed": false,
    "ExecuteTime": {
     "end_time": "2024-02-12T14:16:54.324069800Z",
     "start_time": "2024-02-12T14:16:41.610711400Z"
    }
   },
   "id": "f22135f5c033de2f",
   "execution_count": 37
  },
  {
   "cell_type": "code",
   "outputs": [
    {
     "data": {
      "text/plain": "<Figure size 1400x300 with 2 Axes>",
      "image/png": "[encoded data removed]"
     },
     "metadata": {},
     "output_type": "display_data"
    }
   ],
   "source": [
    "fig, ax = plt.subplots(1,2,figsize=(14,3))\n",
    "ax[0].plot([it for it in range(len(CIRQ_costs))], CIRQ_costs, label='Cirq')\n",
    "ax[0].plot([it for it in range(len(QISKIT_costs))], QISKIT_costs, ls='--', label='Qiskit')\n",
    "ax[0].legend()\n",
    "ax[0].set_ylim(-0.1,1.1)\n",
    "\n",
    "ax[1].plot([it for it in range(len(CIRQ_probs))], CIRQ_probs, label='Cirq')\n",
    "ax[1].plot([it for it in range(len(QISKIT_probs))], QISKIT_probs,ls='--', label='Qiskit')\n",
    "ax[1].legend()\n",
    "ax[1].set_ylim(-0.1,1.1)\n",
    "plt.show()"
   ],
   "metadata": {
    "collapsed": false,
    "ExecuteTime": {
     "end_time": "2024-02-12T14:16:57.002228800Z",
     "start_time": "2024-02-12T14:16:56.851356500Z"
    }
   },
   "id": "c1079d3ef213a1c8",
   "execution_count": 38
  },
  {
   "cell_type": "code",
   "outputs": [],
   "source": [],
   "metadata": {
    "collapsed": false,
    "ExecuteTime": {
     "end_time": "2024-02-12T13:03:17.876052200Z",
     "start_time": "2024-02-12T13:03:17.861634800Z"
    }
   },
   "id": "e5cebd7a34513999",
   "execution_count": 39
  }
 ],
 "metadata": {
  "kernelspec": {
   "display_name": "Python 3",
   "language": "python",
   "name": "python3"
  },
  "language_info": {
   "codemirror_mode": {
    "name": "ipython",
    "version": 2
   },
   "file_extension": ".py",
   "mimetype": "text/x-python",
   "name": "python",
   "nbconvert_exporter": "python",
   "pygments_lexer": "ipython2",
   "version": "2.7.6"
  }
 },
 "nbformat": 4,
 "nbformat_minor": 5
}
