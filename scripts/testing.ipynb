{
 "cells": [
  {
   "cell_type": "code",
   "execution_count": 3,
   "id": "initial_id",
   "metadata": {
    "collapsed": true,
    "ExecuteTime": {
     "end_time": "2024-02-05T14:04:38.860177300Z",
     "start_time": "2024-02-05T14:04:38.842807400Z"
    }
   },
   "outputs": [],
   "source": [
    "import os\n",
    "\n",
    "import numpy as np\n",
    "import scipy as sc\n",
    "import matplotlib.pyplot as plt\n",
    "from joblib import Parallel, delayed\n",
    "import pickle\n",
    "\n",
    "from src.CPQAOA import CP_QAOA\n",
    "from src.QAOA import QAOA\n",
    "from src.Chain import Chain\n",
    "from src.Tools import (portfolio_metrics, \n",
    "                       min_cost_partition, \n",
    "                       get_qubo, \n",
    "                       normalized_cost, \n",
    "                       qubo_limits, \n",
    "                       check_qubo)"
   ]
  },
  {
   "cell_type": "code",
   "outputs": [],
   "source": [
    "def simulate(datapoint):\n",
    "    # Defining topology\n",
    "    my_chain = Chain(N_qubits=datapoint['N'])\n",
    "    my_chain.set_initialization_strategy(strategy=datapoint['init_strat'])\n",
    "    \n",
    "    # Deciding between grid and 1d chain topology\n",
    "    my_topology = my_chain\n",
    "    \n",
    "    # Generating random problem instance \n",
    "    expected_returns, covariances = portfolio_metrics(n=datapoint['N'], seed=datapoint['seed'])\n",
    "    \n",
    "    # Retrieving C_min, C_max and corresponding states for original portfolio problem\n",
    "    constrained_result, full_result, lmbda = min_cost_partition(nr_qubits=datapoint['N'],\n",
    "                                                                k=datapoint['k'],\n",
    "                                                                mu=expected_returns,\n",
    "                                                                sigma=covariances,\n",
    "                                                                alpha=datapoint['alpha'])\n",
    "    \n",
    "    portfolio_subspace_max_cost, portfolio_subspace_min_cost, portfolio_subspace_min_state = constrained_result['c_max'], constrained_result['c_min'], constrained_result['s']\n",
    "    #full_space_max_cost = full_result['c_max']\n",
    "    portfolio_subspace_min_state_str = ''.join([str(_) for _ in portfolio_subspace_min_state])\n",
    "\n",
    "    # Generating QUBO corresponding to current problem instance\n",
    "    Q, offset = get_qubo(mu=expected_returns,\n",
    "                         sigma=covariances, \n",
    "                         alpha=datapoint['alpha'],\n",
    "                         lmbda=lmbda+1e-8, # Adding small constant purposely\n",
    "                         k=datapoint['k'])\n",
    "    QUBO_limits = qubo_limits(Q=Q,offset=offset)\n",
    "    qubo_min_cost, qubo_max_cost = QUBO_limits['c_min'], QUBO_limits['c_max']\n",
    "    qubo_min_state, qubo_max_state = QUBO_limits['min_state'], QUBO_limits['max_state']\n",
    "    check_qubo(QUBO_matrix=Q, QUBO_offset=offset, expected_returns=expected_returns, covariances=covariances, alpha=datapoint['alpha'], k=datapoint['k'])\n",
    "    qubo_min_state_str = ''.join([str(_) for _ in qubo_min_state])\n",
    "\n",
    "    \n",
    "    if not portfolio_subspace_min_state_str == qubo_min_state_str:\n",
    "        raise RuntimeError(f'portfolio_subspace_min_state_str: {portfolio_subspace_min_state_str}, qubo_min_state_str={qubo_min_state_str}'+f'Min. cost of qubo is: {qubo_min_cost}, but min. cost of constrained portfolio is: {portfolio_subspace_min_cost}.')\n",
    "    \n",
    "    if not np.isclose(qubo_min_cost,portfolio_subspace_min_cost):\n",
    "        raise RuntimeError(f'Min. cost of qubo is: {qubo_min_cost}, but min. cost of constrained portfolio is: {portfolio_subspace_min_cost}.')\n",
    "    \n",
    "    if not qubo_max_cost >= portfolio_subspace_max_cost:\n",
    "        raise RuntimeError(f'Max. cost of qubo: {qubo_max_cost}, max. cost of portfolio subspace: {portfolio_subspace_max_cost} (should be qubo max. >= constrained portfolio max)')\n",
    "\n",
    "    \n",
    "    # Generating instances of ansatz'\n",
    "    CP_z_phase_ansatz = CP_QAOA(N_qubits=datapoint['N'],\n",
    "                     cardinality=datapoint['k'],\n",
    "                     layers=datapoint['layers'],\n",
    "                     topology=my_topology,\n",
    "                     QUBO_matrix=Q,\n",
    "                     with_next_nearest_neighbors=datapoint['w_nnn'],\n",
    "                     with_gradient=True,\n",
    "                     approximate_hamiltonian=True,\n",
    "                     with_z_phase=datapoint['w_z_phase'])\n",
    "    \n",
    "    NORMAL_ansatz = QAOA(N_qubits=datapoint['N'],\n",
    "                     layers=datapoint['layers'],\n",
    "                     QUBO_matrix=Q,\n",
    "                     QUBO_offset=offset,\n",
    "                     constraining_mixer=False,\n",
    "                     Topology=my_topology)\n",
    "    \n",
    "    # Choosing optimizer for scipy\n",
    "    available_methods = ['COBYLA', 'Nelder-Mead', 'BFGS']\n",
    "    optimizer_method = available_methods[0]\n",
    "    \n",
    "    # Generating callback function for plotting\n",
    "    CP_z_phase_costs = [] # Normalized costs\n",
    "    CP_z_phase_probs = [] # probability of optimal state\n",
    "    def CP_z_phase_callback_function(x):\n",
    "        _dict_ = CP_z_phase_ansatz.get_state_probabilities(flip_states=False)\n",
    "        # N.B. Normalizing w. respect to full space max cost\n",
    "        _cost_ = normalized_cost(result=_dict_,\n",
    "                                 QUBO_matrix=Q,\n",
    "                                 QUBO_offset=offset,\n",
    "                                 max_cost=portfolio_subspace_max_cost, \n",
    "                                 min_cost=qubo_min_cost)\n",
    "        if portfolio_subspace_min_state_str in list(_dict_.keys()):\n",
    "            CP_z_phase_probs.append(_dict_[portfolio_subspace_min_state_str])\n",
    "        else:\n",
    "            CP_z_phase_probs.append(0)\n",
    "        CP_z_phase_costs.append(_cost_)\n",
    "        \n",
    "    # Generating callback function for plotting\n",
    "    NORMAL_costs = [] # Normalized costs\n",
    "    NORMAL_probs = [] # probability of optimal state\n",
    "    def NORMAL_callback_function(x):\n",
    "        _dict_ = NORMAL_ansatz.get_state_probabilities(flip_states=False)\n",
    "        # N.B. Normalizing w. respect to full space max cost\n",
    "        _cost_ = normalized_cost(result=_dict_,\n",
    "                                 QUBO_matrix=Q,\n",
    "                                 QUBO_offset=offset,\n",
    "                                 max_cost=portfolio_subspace_max_cost, \n",
    "                                 min_cost=qubo_min_cost)\n",
    "        if portfolio_subspace_min_state_str in list(_dict_.keys()):\n",
    "            NORMAL_probs.append(_dict_[portfolio_subspace_min_state_str])\n",
    "        else:\n",
    "            NORMAL_probs.append(0)\n",
    "        NORMAL_costs.append(_cost_)\n",
    "    \n",
    "    # Generating initial guess for rotation angles\n",
    "    np.random.seed(datapoint['seed'])\n",
    "    theta_min, theta_max = -2*np.pi, 2*np.pi\n",
    "    N_angles = datapoint['layers'] * len(my_topology.get_NN_indices())\n",
    "    if datapoint['w_nnn']:\n",
    "        N_angles = datapoint['layers'] * len(my_topology.get_NNN_indices())\n",
    "    if datapoint['w_z_phase']:\n",
    "        N_angles += datapoint['N'] * datapoint['layers']\n",
    "    CP_z_phase_theta_i = np.random.uniform(low=theta_min, high=theta_max, size=N_angles)\n",
    "    np.random.seed(datapoint['seed'])\n",
    "    N_angles = 2 * datapoint['layers']\n",
    "    NORMAL_theta_i = np.random.uniform(low=theta_min, high=theta_max, size=N_angles)\n",
    "    \n",
    "    \"\"\"CP_z_phase_res = sc.optimize.minimize(fun=CP_z_phase_ansatz.get_cost, \n",
    "                                      x0=CP_z_phase_theta_i,\n",
    "                                      method=optimizer_method,\n",
    "                                      options={'disp': False, \n",
    "                                               'maxiter': datapoint['max_iter']},\n",
    "                                      callback=CP_z_phase_callback_function)\"\"\"\n",
    "    \n",
    "    NORMAL_res = sc.optimize.minimize(fun=NORMAL_ansatz.get_cost, \n",
    "                                      x0=NORMAL_theta_i,\n",
    "                                      method=optimizer_method,\n",
    "                                      options={'disp': False, \n",
    "                                               'maxiter': datapoint['max_iter']},\n",
    "                                      callback=NORMAL_callback_function)\n",
    "\n",
    "    return {'N': datapoint['N'],\n",
    "            'k': datapoint['k'],\n",
    "            'alpha': datapoint['alpha'],\n",
    "            'max_iter': datapoint['max_iter'],\n",
    "            'topology': my_topology,\n",
    "            'seed': datapoint['seed'],\n",
    "            'next nearest neighbor': datapoint['w_nnn'],\n",
    "            'layers': datapoint['layers'],\n",
    "            'z-phase': datapoint['w_z_phase'],\n",
    "            'QAOA': (NORMAL_probs,NORMAL_costs,NORMAL_res),\n",
    "            'CP_VQA': (CP_z_phase_probs, CP_z_phase_costs, 5)}"
   ],
   "metadata": {
    "collapsed": false,
    "ExecuteTime": {
     "end_time": "2024-02-05T14:04:06.120350200Z",
     "start_time": "2024-02-05T14:04:06.101677600Z"
    }
   },
   "id": "f22135f5c033de2f",
   "execution_count": 2
  },
  {
   "cell_type": "code",
   "outputs": [],
   "source": [
    "# Number of Qubits \n",
    "N_vals = 10\n",
    "# alpha in: s^T*mu + alpha*(s^T*Covar*s)\n",
    "alpha=0.5\n",
    "# Maximal number of iterations for classical solver\n",
    "max_iter=1500\n",
    "# Using next nearest neighbors (in 1D chain model)\n",
    "w_next_nearest_neighbors = True\n",
    "# Number of layer repetitions\n",
    "layer_dict = {3:1, 4:1, 5:1,\n",
    "              6:2, 7:2, 8:2, \n",
    "              9:2, 10:3, 11:3, \n",
    "              12:3, 13:3, 14:3,\n",
    "              15:4, 16:4, 17:4}\n",
    "\n",
    "\n",
    "initialization_strategies = {N_qubits : np.array([1 if i%2 == 1 else 0 for i in range(N_qubits)]) \n",
    "                             for N_qubits in range(min(list(layer_dict.keys())),max(list(layer_dict.keys()))+1)}\n",
    "\n",
    "\n",
    "N_SEEDS = 1\n",
    "N_jobs = os.cpu_count()-1\n",
    "N = N_vals\n",
    "k = N // 2\n",
    "seed = 3\n",
    "\n",
    "dp = {'N': N, 'k': k, 'alpha': alpha, 'max_iter': max_iter, 'seed': seed, 'w_nnn': w_next_nearest_neighbors, \n",
    "      'layers': layer_dict[N], 'w_z_phase': False, 'init_strat': initialization_strategies[N]}\n",
    "        \n",
    "res = simulate(dp)\n",
    "QAOA_res, CP_VQA_res = res['QAOA'], res['CP_VQA']\n",
    "\n",
    "QAOA_probs, QAOA_costs, QAOA_solver_res = QAOA_res \n",
    "CP_VQA_probs, CP_VQA_costs, CP_VQA_solver_res = CP_VQA_res"
   ],
   "metadata": {
    "collapsed": false,
    "ExecuteTime": {
     "end_time": "2024-02-05T14:06:13.834788100Z",
     "start_time": "2024-02-05T14:04:54.194451500Z"
    }
   },
   "id": "ecfc6bf423cac658",
   "execution_count": 4
  },
  {
   "cell_type": "code",
   "outputs": [
    {
     "data": {
      "text/plain": "<Figure size 500x300 with 1 Axes>",
      "image/png": "[encoded data removed]"
     },
     "metadata": {},
     "output_type": "display_data"
    }
   ],
   "source": [
    "fig, ax = plt.subplots(figsize=(5,3))\n",
    "ax.plot([it for it in range(len(QAOA_costs))], QAOA_costs, label='QAOA')\n",
    "ax.plot([it for it in range(len(CP_VQA_costs))], CP_VQA_costs, label='CP_VQA')\n",
    "ax.legend()\n",
    "ax.set_ylim(0,3)\n",
    "plt.show()"
   ],
   "metadata": {
    "collapsed": false,
    "ExecuteTime": {
     "end_time": "2024-02-05T12:42:35.823398200Z",
     "start_time": "2024-02-05T12:42:35.732546500Z"
    }
   },
   "id": "c1079d3ef213a1c8",
   "execution_count": 30
  },
  {
   "cell_type": "code",
   "outputs": [],
   "source": [
    "from typing import *\n",
    "from qiskit.quantum_info import Operator, SparsePauliOp\n",
    "\n",
    "def get_qiskit_H(Q: np.ndarray):\n",
    "    \"\"\" Generates H = \\sum_ij q_ij(I_i-Z_i)/2(I_j-Z_j)/2 \"\"\"\n",
    "\n",
    "    def get_ij_term(i: int, j: int, Q: np.ndarray) -> List[Tuple[str, float]]:\n",
    "        N = Q.shape[0]\n",
    "        I_term = ''.join('I' for qubit_idx in range(N))\n",
    "        Z_i_term = ''.join('Z' if qubit_idx == i else 'I' for qubit_idx in range(N))\n",
    "        Z_j_term = ''.join('Z' if qubit_idx == i else 'I' for qubit_idx in range(N))\n",
    "        # Pauli matrices are idempotent: x^2=y^2=z^2=I\n",
    "        if i == j:\n",
    "            Z_ij_term = I_term\n",
    "        else:\n",
    "            Z_ij_term = ''.join('Z' if qubit_idx == i or qubit_idx == j else 'I' for qubit_idx in range(N))\n",
    "        total_ij_term = [(I_term, Q[i, j] / 4), (Z_i_term, -Q[i, j] / 4), (Z_j_term, -Q[i, j] / 4),\n",
    "                         (Z_ij_term, Q[i, j] / 4)]\n",
    "        return total_ij_term\n",
    "    H = []\n",
    "    for i in range(Q.shape[0]):\n",
    "        for j in range(Q.shape[1]):\n",
    "            H += get_ij_term(i, j, Q)\n",
    "    return SparsePauliOp.from_list(H)\n",
    "from scipy.sparse import csc_matrix, csr_matrix, kron, identity\n",
    "\n",
    "\n",
    "def get_normal_H(Q: np.ndarray, flip: bool = False) -> np.ndarray:\n",
    "    \"\"\" Generates H = \\sum_ij q_ij(I_i-Z_i)/2(I_j-Z_j)/2 \n",
    "    If flip is True, the same convention for indexing as in Qiskit is assumed\n",
    "    where MSB is the right most qubit in a string.\n",
    "    \"\"\"\n",
    "    I = identity(2, format='csr', dtype=np.float32)\n",
    "    Z = csr_matrix(np.array([[1, 0], [0, -1]], dtype=np.float32))\n",
    "    gate_map = {'Z': Z, 'I': I}\n",
    "    def get_term(i: int):\n",
    "        N = Q.shape[0]\n",
    "        if i == N - 1:\n",
    "            _mat_rep_ = gate_map['Z']\n",
    "            _after_I_ = identity(2 ** (N - 1), format='csr')\n",
    "            _mat_rep_ = kron(_mat_rep_, _after_I_)\n",
    "        else:\n",
    "            _before_I_ = identity(2 ** (N - i - 1), format='csr')\n",
    "            _mat_rep_ = kron(_before_I_, gate_map['Z'])\n",
    "            _after_I_ = identity(2 ** i, format='csr')\n",
    "            _mat_rep_ = kron(_mat_rep_, _after_I_)\n",
    "        return csr_matrix(_mat_rep_)\n",
    "\n",
    "    def get_ij_term(i: int, j: int, Q: np.ndarray) -> csc_matrix:\n",
    "        N = Q.shape[0]\n",
    "        I_term = identity(2**Q.shape[0], format='csr', dtype=np.float32)\n",
    "        if flip:\n",
    "            Z_i_term = get_term(i=N-i-1)\n",
    "            if i == j:\n",
    "                Z_ij_term = I_term\n",
    "                Z_j_term = Z_i_term\n",
    "            else:\n",
    "                Z_j_term = get_term(i=N-j-1)\n",
    "                Z_ij_term = get_term(i=N-i-1) @ get_term(i=N-j-1)\n",
    "            return Q[i, j] / 4.0 * (I_term - Z_i_term - Z_j_term + Z_ij_term)\n",
    "        Z_i_term = get_term(i=i)\n",
    "        if i == j:\n",
    "            Z_ij_term = I_term\n",
    "            Z_j_term = Z_i_term\n",
    "        else:\n",
    "            Z_j_term = get_term(i=j)\n",
    "            Z_ij_term = get_term(i=i) @ get_term(i=j)\n",
    "        return Q[i, j] / 4.0 * (I_term - Z_i_term - Z_j_term + Z_ij_term)\n",
    "        \n",
    "        \n",
    "    \n",
    "    H = csr_matrix(np.zeros(shape=(2**Q.shape[0], 2**Q.shape[1]), dtype=np.float32))\n",
    "    for i in range(Q.shape[0]):\n",
    "        for j in range(Q.shape[1]):\n",
    "            H += get_ij_term(i, j, Q).astype(np.float32)\n",
    "    return H.todense()\n",
    "\n"
   ],
   "metadata": {
    "collapsed": false,
    "ExecuteTime": {
     "end_time": "2024-02-05T15:47:29.582633100Z",
     "start_time": "2024-02-05T15:47:29.559293200Z"
    }
   },
   "id": "e63357ee154c2fc1",
   "execution_count": 192
  },
  {
   "cell_type": "code",
   "outputs": [],
   "source": [
    "N=12\n",
    "# Generating random problem instance \n",
    "expected_returns, covariances = portfolio_metrics(n=N, seed=seed)\n",
    "\n",
    "# Retrieving C_min, C_max and corresponding states for original portfolio problem\n",
    "constrained_result, full_result, lmbda = min_cost_partition(nr_qubits=N,\n",
    "                                                            k=N//2,\n",
    "                                                            mu=expected_returns,\n",
    "                                                            sigma=covariances,\n",
    "                                                            alpha=alpha)\n",
    "\n",
    "portfolio_subspace_max_cost, portfolio_subspace_min_cost, portfolio_subspace_min_state = constrained_result['c_max'], constrained_result['c_min'], constrained_result['s']\n",
    "#full_space_max_cost = full_result['c_max']\n",
    "portfolio_subspace_min_state_str = ''.join([str(_) for _ in portfolio_subspace_min_state])\n",
    "\n",
    "# Generating QUBO corresponding to current problem instance\n",
    "Q, offset = get_qubo(mu=expected_returns,\n",
    "                     sigma=covariances, \n",
    "                     alpha=alpha,\n",
    "                     lmbda=lmbda+1e-8, # Adding small constant purposely\n",
    "                     k=k)"
   ],
   "metadata": {
    "collapsed": false,
    "ExecuteTime": {
     "end_time": "2024-02-05T15:44:54.319152700Z",
     "start_time": "2024-02-05T15:44:54.281396800Z"
    }
   },
   "id": "b9aab1d0a11ef1f0",
   "execution_count": 185
  },
  {
   "cell_type": "code",
   "outputs": [
    {
     "name": "stderr",
     "output_type": "stream",
     "text": [
      "C:\\Users\\madse\\AppData\\Local\\Temp\\ipykernel_13680\\3460625864.py:1: ComplexWarning: Casting complex values to real discards the imaginary part\n",
      "  H = np.array(Operator(get_qiskit_H(Q))).astype(np.float32)\n"
     ]
    }
   ],
   "source": [
    "H = np.array(Operator(get_qiskit_H(Q))).astype(np.float32)"
   ],
   "metadata": {
    "collapsed": false,
    "ExecuteTime": {
     "end_time": "2024-02-05T15:46:43.733026300Z",
     "start_time": "2024-02-05T15:44:54.762459200Z"
    }
   },
   "id": "d62e24ef24ef61ee",
   "execution_count": 186
  },
  {
   "cell_type": "code",
   "outputs": [],
   "source": [
    "H2 = get_normal_H(Q, flip=True)"
   ],
   "metadata": {
    "collapsed": false,
    "ExecuteTime": {
     "end_time": "2024-02-05T15:47:33.578557200Z",
     "start_time": "2024-02-05T15:47:32.982586Z"
    }
   },
   "id": "ca4a0f268bccfd11",
   "execution_count": 193
  },
  {
   "cell_type": "code",
   "outputs": [
    {
     "data": {
      "text/plain": "True"
     },
     "execution_count": 191,
     "metadata": {},
     "output_type": "execute_result"
    }
   ],
   "source": [
    "np.allclose(H,H2)"
   ],
   "metadata": {
    "collapsed": false,
    "ExecuteTime": {
     "end_time": "2024-02-05T15:47:04.586356300Z",
     "start_time": "2024-02-05T15:47:03.789774500Z"
    }
   },
   "id": "2b4932981c21716d",
   "execution_count": 191
  },
  {
   "cell_type": "code",
   "outputs": [],
   "source": [],
   "metadata": {
    "collapsed": false
   },
   "id": "a0fdb80c2d5804e0"
  }
 ],
 "metadata": {
  "kernelspec": {
   "display_name": "Python 3",
   "language": "python",
   "name": "python3"
  },
  "language_info": {
   "codemirror_mode": {
    "name": "ipython",
    "version": 2
   },
   "file_extension": ".py",
   "mimetype": "text/x-python",
   "name": "python",
   "nbconvert_exporter": "python",
   "pygments_lexer": "ipython2",
   "version": "2.7.6"
  }
 },
 "nbformat": 4,
 "nbformat_minor": 5
}
