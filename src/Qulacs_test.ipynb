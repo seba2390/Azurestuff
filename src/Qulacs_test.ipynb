{
 "cells": [
  {
   "cell_type": "code",
   "execution_count": 21,
   "outputs": [],
   "source": [
    "import numpy as np\n",
    "import scipy as sc\n",
    "import matplotlib.pyplot as plt\n",
    "from tqdm import tqdm\n",
    "from time import time\n",
    "\n",
    "from Qulacs_QAOA import Qulacs_QAOA\n",
    "from src.Chain import Chain\n",
    "from src.Tools import (portfolio_metrics, \n",
    "                       min_cost_partition, \n",
    "                       get_qubo, \n",
    "                       qubo_limits, \n",
    "                       check_qubo)"
   ],
   "metadata": {
    "collapsed": false,
    "ExecuteTime": {
     "end_time": "2024-02-07T22:07:05.322974Z",
     "start_time": "2024-02-07T22:07:05.318526Z"
    }
   },
   "id": "f1eb7a47bd5f4203"
  },
  {
   "cell_type": "code",
   "execution_count": 22,
   "outputs": [],
   "source": [
    "\n",
    "N = 15\n",
    "seed = 100\n",
    " # Choosing optimizer for scipy\n",
    "optimizer_method = 'COBYLA'\n",
    "k = N // 2\n",
    "init_strat = np.array([1 if i%2 == 1 else 0 for i in range(N)])\n",
    "my_indices = [(i, i+1) for i in range(N-1)]\n",
    "n_layers = 4\n",
    "alpha = 0.5\n",
    "max_iter = 10\n",
    " # Defining topology\n",
    "my_chain = Chain(N_qubits=N)\n",
    "my_chain.set_initialization_strategy(strategy=init_strat)\n",
    "# Deciding between grid and 1d chain topology\n",
    "my_topology = my_chain\n",
    "# Generating random problem instance \n",
    "expected_returns, covariances = portfolio_metrics(n=N, seed=seed)\n",
    "# Retrieving C_min, C_max and corresponding states for original portfolio problem\n",
    "constrained_result, full_result, lmbda = min_cost_partition(nr_qubits=N,\n",
    "                                                            k=k,\n",
    "                                                            mu=expected_returns,\n",
    "                                                            sigma=covariances,\n",
    "                                                            alpha=alpha)\n",
    "portfolio_subspace_max_cost, portfolio_subspace_min_cost, portfolio_subspace_min_state = constrained_result['c_max'], constrained_result['c_min'], constrained_result['s']\n",
    "portfolio_subspace_min_state_str = ''.join([str(_) for _ in portfolio_subspace_min_state])\n",
    "# Generating QUBO corresponding to current problem instance\n",
    "Q, offset = get_qubo(mu=expected_returns,\n",
    "                     sigma=covariances, \n",
    "                     alpha=alpha,\n",
    "                     lmbda=lmbda+1e-8, # Adding small constant purposely\n",
    "                     k=k)\n",
    "QUBO_limits = qubo_limits(Q=Q,offset=offset)\n",
    "qubo_min_cost, qubo_max_cost = QUBO_limits['c_min'], QUBO_limits['c_max']\n",
    "qubo_min_state, qubo_max_state = QUBO_limits['min_state'], QUBO_limits['max_state']\n",
    "check_qubo(QUBO_matrix=Q, QUBO_offset=offset, expected_returns=expected_returns, covariances=covariances, alpha=alpha, k=k)\n",
    "qubo_min_state_str = ''.join([str(_) for _ in qubo_min_state])\n",
    "\n",
    "if not portfolio_subspace_min_state_str == qubo_min_state_str:\n",
    "    raise RuntimeError(f'portfolio_subspace_min_state_str: {portfolio_subspace_min_state_str}, qubo_min_state_str={qubo_min_state_str}'+f'Min. cost of qubo is: {qubo_min_cost}, but min. cost of constrained portfolio is: {portfolio_subspace_min_cost}.')\n",
    "\n",
    "if not np.isclose(qubo_min_cost,portfolio_subspace_min_cost):\n",
    "    raise RuntimeError(f'Min. cost of qubo is: {qubo_min_cost}, but min. cost of constrained portfolio is: {portfolio_subspace_min_cost}.')\n",
    "\n",
    "if not qubo_max_cost >= portfolio_subspace_max_cost:\n",
    "    raise RuntimeError(f'Max. cost of qubo: {qubo_max_cost}, max. cost of portfolio subspace: {portfolio_subspace_max_cost} (should be qubo max. >= constrained portfolio max)')\n",
    "         "
   ],
   "metadata": {
    "collapsed": false,
    "ExecuteTime": {
     "end_time": "2024-02-07T22:07:06.216341Z",
     "start_time": "2024-02-07T22:07:05.327252Z"
    }
   },
   "id": "6922292384928390"
  },
  {
   "cell_type": "code",
   "execution_count": 23,
   "outputs": [],
   "source": [
    "qulacs_ansatz = Qulacs_QAOA(N_qubits=N,\n",
    "                            layers=n_layers,\n",
    "                            QUBO_matrix=Q,\n",
    "                            QUBO_offset=offset)"
   ],
   "metadata": {
    "collapsed": false,
    "ExecuteTime": {
     "end_time": "2024-02-07T22:07:06.218898Z",
     "start_time": "2024-02-07T22:07:06.217005Z"
    }
   },
   "id": "ad39118c73819ada"
  },
  {
   "cell_type": "code",
   "execution_count": 24,
   "outputs": [],
   "source": [
    "theta_i = np.random.uniform(0,1,2*n_layers)"
   ],
   "metadata": {
    "collapsed": false,
    "ExecuteTime": {
     "end_time": "2024-02-07T22:07:06.221463Z",
     "start_time": "2024-02-07T22:07:06.219801Z"
    }
   },
   "id": "1612fd7e784210b3"
  },
  {
   "cell_type": "code",
   "execution_count": 36,
   "outputs": [
    {
     "data": {
      "text/plain": "-0.09877608646233413"
     },
     "execution_count": 36,
     "metadata": {},
     "output_type": "execute_result"
    }
   ],
   "source": [
    "qulacs_ansatz.get_cost(angles=theta_i)\n"
   ],
   "metadata": {
    "collapsed": false,
    "ExecuteTime": {
     "end_time": "2024-02-07T22:07:20.173432Z",
     "start_time": "2024-02-07T22:07:20.056742Z"
    }
   },
   "id": "a4259ec7cf3bcc80"
  },
  {
   "cell_type": "code",
   "execution_count": 25,
   "outputs": [],
   "source": [],
   "metadata": {
    "collapsed": false,
    "ExecuteTime": {
     "end_time": "2024-02-07T22:07:06.418405Z",
     "start_time": "2024-02-07T22:07:06.415854Z"
    }
   },
   "id": "1184ad09d89b117b"
  }
 ],
 "metadata": {
  "kernelspec": {
   "display_name": "Python 3",
   "language": "python",
   "name": "python3"
  },
  "language_info": {
   "codemirror_mode": {
    "name": "ipython",
    "version": 2
   },
   "file_extension": ".py",
   "mimetype": "text/x-python",
   "name": "python",
   "nbconvert_exporter": "python",
   "pygments_lexer": "ipython2",
   "version": "2.7.6"
  }
 },
 "nbformat": 4,
 "nbformat_minor": 5
}
