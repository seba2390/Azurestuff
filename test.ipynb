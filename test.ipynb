{
 "cells": [
  {
   "cell_type": "code",
   "execution_count": 425,
   "outputs": [],
   "source": [
    "import matplotlib.pyplot as plt\n",
    "import numpy as np\n",
    "import scipy as sc\n",
    "\n",
    "from src.Tools import portfolio_metrics\n",
    "from qiskit_src.ansatz import CP_QAOA, qubo_cost, Grid\n",
    "from qiskit_src.tools import get_qubo, min_cost_partition, normalized_cost"
   ],
   "metadata": {
    "collapsed": false,
    "ExecuteTime": {
     "end_time": "2023-12-07T12:12:16.185952200Z",
     "start_time": "2023-12-07T12:12:16.173613600Z"
    }
   },
   "id": "507e61fa3efd6d3f"
  },
  {
   "cell_type": "code",
   "execution_count": 426,
   "outputs": [],
   "source": [
    "N=9\n",
    "k=5\n",
    "seed=1\n",
    "alpha=0.001\n",
    "layers=2\n",
    "max_iter=300\n",
    "\n",
    "w_z_phase = False\n",
    "w_grid = False\n",
    "w_next_nearest_neighbors = False\n",
    "w_evenly_distributed = True\n"
   ],
   "metadata": {
    "collapsed": false,
    "ExecuteTime": {
     "end_time": "2023-12-07T12:12:16.201634200Z",
     "start_time": "2023-12-07T12:12:16.185952200Z"
    }
   },
   "id": "e8c738fff2d37366"
  },
  {
   "cell_type": "code",
   "execution_count": 427,
   "outputs": [],
   "source": [
    "if w_grid:\n",
    "    my_grid = Grid(N_qubits=N)"
   ],
   "metadata": {
    "collapsed": false,
    "ExecuteTime": {
     "end_time": "2023-12-07T12:12:16.232882900Z",
     "start_time": "2023-12-07T12:12:16.201634200Z"
    }
   },
   "id": "c8046e8588269de4"
  },
  {
   "cell_type": "code",
   "execution_count": 428,
   "id": "23c4768d4f9dec32",
   "metadata": {
    "collapsed": true,
    "ExecuteTime": {
     "end_time": "2023-12-07T12:12:16.232882900Z",
     "start_time": "2023-12-07T12:12:16.217257700Z"
    }
   },
   "outputs": [],
   "source": [
    "expected_returns, covariances = portfolio_metrics(n=N, seed=seed)\n",
    "\n",
    "constrained_result, full_result, lmbda = min_cost_partition(nr_qubits=N,\n",
    "                                                            k=k,\n",
    "                                                            mu=expected_returns,\n",
    "                                                            sigma=covariances,\n",
    "                                                            alpha=alpha)\n",
    "\n",
    "max_cost, min_cost, min_state = constrained_result['c_max'], constrained_result['c_min'], constrained_result['s']\n",
    "min_state_str = ''.join([str(_) for _ in min_state])\n",
    "Q, offset = get_qubo(mu=expected_returns,\n",
    "                     sigma=covariances,\n",
    "                     alpha=alpha,\n",
    "                     lmbda=lmbda,\n",
    "                     k=k)"
   ]
  },
  {
   "cell_type": "code",
   "execution_count": 429,
   "outputs": [
    {
     "data": {
      "text/plain": "1"
     },
     "execution_count": 429,
     "metadata": {},
     "output_type": "execute_result"
    }
   ],
   "source": [
    "ansatz = CP_QAOA(N_qubits=N,\n",
    "                 cardinality=k,\n",
    "                 layers=layers,\n",
    "                 grid=my_grid if w_grid else None,\n",
    "                 QUBO_matrix=Q,\n",
    "                 QUBO_offset=offset,\n",
    "                 with_next_nearest_neighbors=w_next_nearest_neighbors,\n",
    "                 with_evenly_distributed_start_x=w_evenly_distributed,\n",
    "                 with_z_phase=w_z_phase)\n",
    "\n",
    "# Initial guess for parameters (gamma, beta) of circuit\n",
    "theta_min, theta_max = -2*np.pi, 2*np.pi\n",
    "if w_grid:\n",
    "    N_xx_yy_angles = layers * len(my_grid.get_NN_indices())\n",
    "else:\n",
    "    N_xx_yy_angles = layers * (N - 1) \n",
    "if w_next_nearest_neighbors:\n",
    "    N_xx_yy_angles += layers * (N - 2)\n",
    "if w_z_phase:\n",
    "    N_xx_yy_angles += N * layers\n",
    "theta_i = np.random.uniform(low=theta_min, high=theta_max, size=N_xx_yy_angles)\n",
    "\n",
    "_available_methods_ = ['COBYLA', 'Nelder-Mead']\n",
    "_method_idx_ = 0\n",
    "\n",
    "costs = []\n",
    "angles = []\n",
    "best_state_probs = []\n",
    "def callback_function(x):\n",
    "    _dict_ = ansatz.get_state_probabilities(angles=x, flip_states=False)\n",
    "    _cost_ = normalized_cost(result=_dict_,\n",
    "                             QUBO_matrix=Q,\n",
    "                             QUBO_offset=offset,\n",
    "                             max_cost=max_cost, \n",
    "                             min_cost=min_cost)\n",
    "    if min_state_str in list(_dict_.keys()):\n",
    "        best_state_probs.append(_dict_[min_state_str])\n",
    "    else:\n",
    "        best_state_probs.append(0)\n",
    "    costs.append(_cost_)\n",
    "    angles.append(x)\n",
    "\n",
    "\n",
    "res = sc.optimize.minimize(fun=ansatz.get_cost, x0=theta_i,\n",
    "                           method=_available_methods_[_method_idx_],\n",
    "                           options={'disp': False, 'maxiter': max_iter},\n",
    "                           callback=callback_function)\n",
    "\n",
    "\n",
    "_dict_ = ansatz.get_state_probabilities(angles=angles[np.argmin(costs)], flip_states=False)\n",
    "\n",
    "res.status"
   ],
   "metadata": {
    "collapsed": false,
    "ExecuteTime": {
     "end_time": "2023-12-07T12:12:25.963783500Z",
     "start_time": "2023-12-07T12:12:16.239174400Z"
    }
   },
   "id": "initial_id"
  },
  {
   "cell_type": "code",
   "execution_count": 430,
   "outputs": [
    {
     "data": {
      "text/plain": "('Optimization terminated successfully.',\n  message: Optimization terminated successfully.\n  success: True\n   status: 1\n      fun: -0.11778045613043929\n        x: [-4.016e+00  6.911e+00 ...  5.512e+00  2.135e+00]\n     nfev: 212\n    maxcv: 0.0)"
     },
     "execution_count": 430,
     "metadata": {},
     "output_type": "execute_result"
    }
   ],
   "source": [
    "res.message, res"
   ],
   "metadata": {
    "collapsed": false,
    "ExecuteTime": {
     "end_time": "2023-12-07T12:12:26.011329900Z",
     "start_time": "2023-12-07T12:12:25.963783500Z"
    }
   },
   "id": "f163039529d56746"
  },
  {
   "cell_type": "code",
   "execution_count": 431,
   "outputs": [
    {
     "data": {
      "text/plain": "Text(0, 0.5, 'Optimal state probability')"
     },
     "execution_count": 431,
     "metadata": {},
     "output_type": "execute_result"
    },
    {
     "data": {
      "text/plain": "<Figure size 900x300 with 2 Axes>",
      "image/png": "[encoded data removed]"
     },
     "metadata": {},
     "output_type": "display_data"
    }
   ],
   "source": [
    "fig, ax = plt.subplots(1,2,figsize=(9,3))\n",
    "Y = costs\n",
    "X = [it + 1 for it in range(len(Y))]\n",
    "ax[0].plot(X,Y)\n",
    "ax[0].set_ylim(-0.1,1.1)\n",
    "ax[0].set_ylabel('Normalized cost')\n",
    "\n",
    "ax[1].plot(X,best_state_probs)\n",
    "ax[1].set_ylim(-0.1,1.1)\n",
    "ax[1].set_ylabel('Optimal state probability')"
   ],
   "metadata": {
    "collapsed": false,
    "ExecuteTime": {
     "end_time": "2023-12-07T12:12:26.147657200Z",
     "start_time": "2023-12-07T12:12:25.979322900Z"
    }
   },
   "id": "41fb99f198c3df74"
  },
  {
   "cell_type": "code",
   "execution_count": 431,
   "outputs": [],
   "source": [],
   "metadata": {
    "collapsed": false,
    "ExecuteTime": {
     "end_time": "2023-12-07T12:12:26.163281400Z",
     "start_time": "2023-12-07T12:12:26.131873300Z"
    }
   },
   "id": "bc3836ea9931cec3"
  }
 ],
 "metadata": {
  "kernelspec": {
   "display_name": "Python 3",
   "language": "python",
   "name": "python3"
  },
  "language_info": {
   "codemirror_mode": {
    "name": "ipython",
    "version": 2
   },
   "file_extension": ".py",
   "mimetype": "text/x-python",
   "name": "python",
   "nbconvert_exporter": "python",
   "pygments_lexer": "ipython2",
   "version": "2.7.6"
  }
 },
 "nbformat": 4,
 "nbformat_minor": 5
}
