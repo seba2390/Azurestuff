{
 "cells": [
  {
   "cell_type": "code",
   "execution_count": 1,
   "outputs": [],
   "source": [
    "import numpy as np\n",
    "import scipy as sc\n",
    "\n",
    "from src.Tools import portfolio_metrics\n",
    "from qiskit_src.ansatz import CP_QAOA, qubo_cost\n",
    "from qiskit_src.tools import get_qubo, min_cost_partition"
   ],
   "metadata": {
    "collapsed": false,
    "ExecuteTime": {
     "end_time": "2023-11-23T12:09:47.895081300Z",
     "start_time": "2023-11-23T12:09:40.808083200Z"
    }
   },
   "id": "507e61fa3efd6d3f"
  },
  {
   "cell_type": "code",
   "execution_count": 8,
   "outputs": [],
   "source": [
    "N=10\n",
    "k=5\n",
    "seed=0\n",
    "alpha=0.001\n",
    "layers=4\n",
    "max_iter=10000\n",
    "\n",
    "w_z_phase = False\n",
    "w_next_nearest_neighbors = False\n",
    "w_evenly_distributed = True\n"
   ],
   "metadata": {
    "collapsed": false,
    "ExecuteTime": {
     "end_time": "2023-11-23T12:13:53.009996600Z",
     "start_time": "2023-11-23T12:13:52.980375100Z"
    }
   },
   "id": "e8c738fff2d37366"
  },
  {
   "cell_type": "code",
   "execution_count": 9,
   "id": "23c4768d4f9dec32",
   "metadata": {
    "collapsed": true,
    "ExecuteTime": {
     "end_time": "2023-11-23T12:13:53.637226700Z",
     "start_time": "2023-11-23T12:13:53.595024500Z"
    }
   },
   "outputs": [],
   "source": [
    "expected_returns, covariances = portfolio_metrics(n=N, seed=seed)\n",
    "\n",
    "constrained_result, full_result, lmbda = min_cost_partition(nr_qubits=N,\n",
    "                                                            k=k,\n",
    "                                                            mu=expected_returns,\n",
    "                                                            sigma=covariances,\n",
    "                                                            alpha=alpha)\n",
    "\n",
    "max_cost, min_cost, min_state = constrained_result['c_max'], constrained_result['c_min'], constrained_result['s']\n",
    "min_state_str = ''.join([str(_) for _ in min_state])\n",
    "Q, offset = get_qubo(mu=expected_returns,\n",
    "                     sigma=covariances,\n",
    "                     alpha=alpha,\n",
    "                     lmbda=lmbda,\n",
    "                     k=k)"
   ]
  },
  {
   "cell_type": "code",
   "execution_count": 10,
   "outputs": [
    {
     "data": {
      "text/plain": " message: Optimization terminated successfully.\n success: True\n  status: 1\n     fun: -0.2349195908435785\n       x: [ 2.384e+00 -5.607e-01 ...  1.461e+00 -1.080e+00]\n    nfev: 336\n   maxcv: 0.0"
     },
     "execution_count": 10,
     "metadata": {},
     "output_type": "execute_result"
    }
   ],
   "source": [
    "ansatz = CP_QAOA(N_qubits=N,\n",
    "                 cardinality=k,\n",
    "                 layers=layers,\n",
    "                 QUBO_matrix=Q,\n",
    "                 QUBO_offset=offset,\n",
    "                 with_next_nearest_neighbors=w_next_nearest_neighbors,\n",
    "                 with_evenly_distributed_start_x=w_evenly_distributed,\n",
    "                 with_z_phase=w_z_phase)\n",
    "\n",
    "# Initial guess for parameters (gamma, beta) of circuit\n",
    "theta_min, theta_max = -np.pi, np.pi\n",
    "N_xx_yy_angles = layers * (N - 1) \n",
    "if w_next_nearest_neighbors:\n",
    "    N_xx_yy_angles += layers * (N - 2)\n",
    "if w_z_phase:\n",
    "    N_xx_yy_angles += N * layers\n",
    "#theta_i = np.random.uniform(low=theta_min, high=theta_max, size=N_xx_yy_angles)\n",
    "theta_i = np.random.normal(loc=0, scale=1, size=N_xx_yy_angles)\n",
    "\n",
    "_available_methods_ = ['COBYLA', 'Nelder-Mead']\n",
    "_method_idx_ = 0\n",
    "\n",
    "res = sc.optimize.minimize(fun=ansatz.get_cost, x0=theta_i,\n",
    "                           method=_available_methods_[_method_idx_],\n",
    "                           tol=1e-3,\n",
    "                           options={'disp': False, 'maxiter': max_iter})\n",
    "\n",
    "_dict_ = ansatz.get_state_probabilities(angles=res.x, flip_states=False)\n",
    "res"
   ],
   "metadata": {
    "collapsed": false,
    "ExecuteTime": {
     "end_time": "2023-11-23T12:15:05.175928500Z",
     "start_time": "2023-11-23T12:13:56.180550100Z"
    }
   },
   "id": "initial_id"
  },
  {
   "cell_type": "code",
   "execution_count": 11,
   "outputs": [
    {
     "data": {
      "text/plain": "1"
     },
     "execution_count": 11,
     "metadata": {},
     "output_type": "execute_result"
    }
   ],
   "source": [
    "res.status"
   ],
   "metadata": {
    "collapsed": false,
    "ExecuteTime": {
     "end_time": "2023-11-23T12:16:03.601047Z",
     "start_time": "2023-11-23T12:16:03.584397700Z"
    }
   },
   "id": "41fb99f198c3df74"
  },
  {
   "cell_type": "code",
   "execution_count": 12,
   "outputs": [
    {
     "data": {
      "text/plain": "('0110010110', 0.710792642465709)"
     },
     "execution_count": 12,
     "metadata": {},
     "output_type": "execute_result"
    }
   ],
   "source": [
    "best_state = list(_dict_.keys())[np.argmax(list(_dict_.values()))]\n",
    "best_state, _dict_[best_state] "
   ],
   "metadata": {
    "collapsed": false,
    "ExecuteTime": {
     "end_time": "2023-11-23T12:16:15.784341100Z",
     "start_time": "2023-11-23T12:16:15.741173400Z"
    }
   },
   "id": "f0e464c537d8a306"
  },
  {
   "cell_type": "code",
   "execution_count": 18,
   "outputs": [
    {
     "data": {
      "text/plain": "-3.724561129862593"
     },
     "execution_count": 18,
     "metadata": {},
     "output_type": "execute_result"
    }
   ],
   "source": [
    "opt_cost = qubo_cost(min_state.astype(np.float64),Q)+offset\n",
    "opt_cost"
   ],
   "metadata": {
    "collapsed": false,
    "ExecuteTime": {
     "end_time": "2023-11-23T12:18:27.430251100Z",
     "start_time": "2023-11-23T12:18:27.416748100Z"
    }
   },
   "id": "d1327cd612a6719d"
  },
  {
   "cell_type": "code",
   "execution_count": 19,
   "outputs": [
    {
     "data": {
      "text/plain": "-3.724561129862593"
     },
     "execution_count": 19,
     "metadata": {},
     "output_type": "execute_result"
    }
   ],
   "source": [
    "found_cost = qubo_cost(np.array([float(_) for _ in best_state]).astype(np.float64), Q) + offset\n",
    "found_cost "
   ],
   "metadata": {
    "collapsed": false,
    "ExecuteTime": {
     "end_time": "2023-11-23T12:18:27.988810300Z",
     "start_time": "2023-11-23T12:18:27.950447300Z"
    }
   },
   "id": "6c1bc61bcb72d2f0"
  },
  {
   "cell_type": "code",
   "execution_count": 15,
   "outputs": [
    {
     "name": "stdout",
     "output_type": "stream",
     "text": [
      "Normalized cost: 7.85068687757458e-15\n"
     ]
    }
   ],
   "source": [
    "print(f'Normalized cost: {abs(found_cost - min_cost) / abs(max_cost - min_cost)}')"
   ],
   "metadata": {
    "collapsed": false,
    "ExecuteTime": {
     "end_time": "2023-11-23T12:16:20.880255Z",
     "start_time": "2023-11-23T12:16:20.808441600Z"
    }
   },
   "id": "d558fc195acf2ce0"
  },
  {
   "cell_type": "code",
   "execution_count": 16,
   "outputs": [
    {
     "data": {
      "text/plain": "1.1546319456101628e-14"
     },
     "execution_count": 16,
     "metadata": {},
     "output_type": "execute_result"
    }
   ],
   "source": [
    "abs(found_cost - min_cost)"
   ],
   "metadata": {
    "collapsed": false,
    "ExecuteTime": {
     "end_time": "2023-11-23T12:16:44.389275400Z",
     "start_time": "2023-11-23T12:16:44.342566400Z"
    }
   },
   "id": "59808d5e4f55ecb4"
  },
  {
   "cell_type": "code",
   "execution_count": 17,
   "outputs": [
    {
     "data": {
      "text/plain": "False"
     },
     "execution_count": 17,
     "metadata": {},
     "output_type": "execute_result"
    }
   ],
   "source": [
    "found_cost == min_cost"
   ],
   "metadata": {
    "collapsed": false,
    "ExecuteTime": {
     "end_time": "2023-11-23T12:18:20.514750500Z",
     "start_time": "2023-11-23T12:18:20.460738200Z"
    }
   },
   "id": "8edf1728a916cc80"
  },
  {
   "cell_type": "code",
   "execution_count": null,
   "outputs": [],
   "source": [],
   "metadata": {
    "collapsed": false
   },
   "id": "ce4955fcde2ae24e"
  }
 ],
 "metadata": {
  "kernelspec": {
   "display_name": "Python 3",
   "language": "python",
   "name": "python3"
  },
  "language_info": {
   "codemirror_mode": {
    "name": "ipython",
    "version": 2
   },
   "file_extension": ".py",
   "mimetype": "text/x-python",
   "name": "python",
   "nbconvert_exporter": "python",
   "pygments_lexer": "ipython2",
   "version": "2.7.6"
  }
 },
 "nbformat": 4,
 "nbformat_minor": 5
}
