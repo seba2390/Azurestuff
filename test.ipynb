{
 "cells": [
  {
   "cell_type": "code",
   "execution_count": 91,
   "outputs": [],
   "source": [
    "import numpy as np\n",
    "import scipy as sc\n",
    "\n",
    "from src.Tools import portfolio_metrics\n",
    "from qiskit_src.ansatz import CP_QAOA, qubo_cost\n",
    "from qiskit_src.tools import get_qubo, min_cost_partition"
   ],
   "metadata": {
    "collapsed": false,
    "ExecuteTime": {
     "end_time": "2023-11-20T15:49:34.999934700Z",
     "start_time": "2023-11-20T15:49:34.985219700Z"
    }
   },
   "id": "507e61fa3efd6d3f"
  },
  {
   "cell_type": "code",
   "execution_count": 92,
   "outputs": [],
   "source": [
    "N=16\n",
    "k=8\n",
    "seed=0\n",
    "alpha=0.001\n",
    "layers=3\n",
    "max_iter=500\n",
    "w_z_phase = False"
   ],
   "metadata": {
    "collapsed": false,
    "ExecuteTime": {
     "end_time": "2023-11-20T15:49:35.473451200Z",
     "start_time": "2023-11-20T15:49:35.454039500Z"
    }
   },
   "id": "e8c738fff2d37366"
  },
  {
   "cell_type": "code",
   "execution_count": 93,
   "id": "23c4768d4f9dec32",
   "metadata": {
    "collapsed": true,
    "ExecuteTime": {
     "end_time": "2023-11-20T15:49:36.578223600Z",
     "start_time": "2023-11-20T15:49:35.949259200Z"
    }
   },
   "outputs": [],
   "source": [
    "expected_returns, covariances = portfolio_metrics(n=N, seed=seed)\n",
    "\n",
    "constrained_result, full_result, lmbda = min_cost_partition(nr_qubits=N,\n",
    "                                                            k=k,\n",
    "                                                            mu=expected_returns,\n",
    "                                                            sigma=covariances,\n",
    "                                                            alpha=alpha)\n",
    "\n",
    "max_cost, min_cost, min_state = constrained_result['c_max'], constrained_result['c_min'], constrained_result['s']\n",
    "min_state_str = ''.join([str(_) for _ in min_state])\n",
    "Q, offset = get_qubo(mu=expected_returns,\n",
    "                     sigma=covariances,\n",
    "                     alpha=alpha,\n",
    "                     lmbda=lmbda,\n",
    "                     k=k)"
   ]
  },
  {
   "cell_type": "code",
   "execution_count": 94,
   "outputs": [
    {
     "data": {
      "text/plain": " message: Optimization terminated successfully.\n success: True\n  status: 1\n     fun: -0.02388492644409179\n       x: [ 3.327e-01 -3.335e-02 ... -5.992e-01  1.355e-01]\n    nfev: 489\n   maxcv: 0.0"
     },
     "execution_count": 94,
     "metadata": {},
     "output_type": "execute_result"
    }
   ],
   "source": [
    "\n",
    "\n",
    "_available_methods_ = ['COBYLA', 'Nelder-Mead']\n",
    "_method_idx_ = 0\n",
    "\n",
    "ansatz = CP_QAOA(N_qubits=N,\n",
    "                 cardinality=k,\n",
    "                 layers=layers,\n",
    "                 QUBO_matrix=Q,\n",
    "                 QUBO_offset=offset,\n",
    "                 with_z_phase=w_z_phase)\n",
    "\n",
    "# Initial guess for parameters (gamma, beta) of circuit\n",
    "theta_min, theta_max = -np.pi, np.pi\n",
    "N_xx_yy_angles = layers * (N - 1) \n",
    "if w_z_phase:\n",
    "    N_xx_yy_angles += N * layers\n",
    "#theta_i = np.random.uniform(low=theta_min, high=theta_max, size=N_xx_yy_angles)\n",
    "theta_i = np.random.normal(loc=0, scale=1, size=N_xx_yy_angles)\n",
    "# Use the get_cost method of the specific ansatz instance\n",
    "res = sc.optimize.minimize(fun=ansatz.get_cost, x0=theta_i,\n",
    "                           method=_available_methods_[_method_idx_],\n",
    "                           options={'disp': False, 'maxiter': max_iter})\n",
    "\n",
    "_dict_ = ansatz.get_state_probabilities(angles=res.x, flip_states=False)\n",
    "res"
   ],
   "metadata": {
    "collapsed": false,
    "ExecuteTime": {
     "end_time": "2023-11-20T15:51:48.396833900Z",
     "start_time": "2023-11-20T15:49:37.163691800Z"
    }
   },
   "id": "initial_id"
  },
  {
   "cell_type": "code",
   "execution_count": 95,
   "outputs": [
    {
     "data": {
      "text/plain": "('0101001010111001', 0.11680703559314)"
     },
     "execution_count": 95,
     "metadata": {},
     "output_type": "execute_result"
    }
   ],
   "source": [
    "best_state = list(_dict_.keys())[np.argmax(list(_dict_.values()))]\n",
    "best_state, _dict_[best_state] "
   ],
   "metadata": {
    "collapsed": false,
    "ExecuteTime": {
     "end_time": "2023-11-20T15:51:48.434890500Z",
     "start_time": "2023-11-20T15:51:48.397833Z"
    }
   },
   "id": "f0e464c537d8a306"
  },
  {
   "cell_type": "code",
   "execution_count": 96,
   "outputs": [
    {
     "data": {
      "text/plain": "(-5.791631404929497, -2.7449612462420463)"
     },
     "execution_count": 96,
     "metadata": {},
     "output_type": "execute_result"
    }
   ],
   "source": [
    "min_cost, max_cost"
   ],
   "metadata": {
    "collapsed": false,
    "ExecuteTime": {
     "end_time": "2023-11-20T15:51:48.446688Z",
     "start_time": "2023-11-20T15:51:48.414046500Z"
    }
   },
   "id": "b4fdbb252b9bbb93"
  },
  {
   "cell_type": "code",
   "execution_count": 97,
   "outputs": [
    {
     "data": {
      "text/plain": "'0110010110101100'"
     },
     "execution_count": 97,
     "metadata": {},
     "output_type": "execute_result"
    }
   ],
   "source": [
    "min_state_str"
   ],
   "metadata": {
    "collapsed": false,
    "ExecuteTime": {
     "end_time": "2023-11-20T15:51:48.448316700Z",
     "start_time": "2023-11-20T15:51:48.429700200Z"
    }
   },
   "id": "a7bbac99829ba485"
  },
  {
   "cell_type": "code",
   "execution_count": 98,
   "outputs": [
    {
     "ename": "KeyError",
     "evalue": "'0110010110101100'",
     "output_type": "error",
     "traceback": [
      "\u001B[1;31m---------------------------------------------------------------------------\u001B[0m",
      "\u001B[1;31mKeyError\u001B[0m                                  Traceback (most recent call last)",
      "Cell \u001B[1;32mIn[98], line 1\u001B[0m\n\u001B[1;32m----> 1\u001B[0m \u001B[43m_dict_\u001B[49m\u001B[43m[\u001B[49m\u001B[43mmin_state_str\u001B[49m\u001B[43m]\u001B[49m \n",
      "\u001B[1;31mKeyError\u001B[0m: '0110010110101100'"
     ]
    }
   ],
   "source": [
    "_dict_[min_state_str] "
   ],
   "metadata": {
    "collapsed": false,
    "ExecuteTime": {
     "end_time": "2023-11-20T15:51:48.816972300Z",
     "start_time": "2023-11-20T15:51:48.444859800Z"
    }
   },
   "id": "2c980e1c739f136a"
  },
  {
   "cell_type": "code",
   "execution_count": 99,
   "outputs": [
    {
     "data": {
      "text/plain": "-5.79163140492949"
     },
     "execution_count": 99,
     "metadata": {},
     "output_type": "execute_result"
    }
   ],
   "source": [
    "opt_cost = qubo_cost(min_state.astype(np.float64),Q)+offset\n",
    "opt_cost"
   ],
   "metadata": {
    "collapsed": false,
    "ExecuteTime": {
     "end_time": "2023-11-20T15:52:35.738049900Z",
     "start_time": "2023-11-20T15:52:35.721013800Z"
    }
   },
   "id": "d1327cd612a6719d"
  },
  {
   "cell_type": "code",
   "execution_count": 100,
   "outputs": [
    {
     "data": {
      "text/plain": "-4.327302795980131"
     },
     "execution_count": 100,
     "metadata": {},
     "output_type": "execute_result"
    }
   ],
   "source": [
    "found_cost = qubo_cost(np.array([float(_) for _ in best_state]).astype(np.float64), Q) + offset\n",
    "found_cost"
   ],
   "metadata": {
    "collapsed": false,
    "ExecuteTime": {
     "end_time": "2023-11-20T15:52:36.565644400Z",
     "start_time": "2023-11-20T15:52:36.550251300Z"
    }
   },
   "id": "6c1bc61bcb72d2f0"
  },
  {
   "cell_type": "code",
   "execution_count": 101,
   "outputs": [
    {
     "name": "stdout",
     "output_type": "stream",
     "text": [
      "Deviation from optimal cost: 33.839 %\n"
     ]
    }
   ],
   "source": [
    "print(f'Deviation from optimal cost: {round(100*((opt_cost/found_cost) - 1),3)} %')"
   ],
   "metadata": {
    "collapsed": false,
    "ExecuteTime": {
     "end_time": "2023-11-20T15:52:37.347981Z",
     "start_time": "2023-11-20T15:52:37.333554200Z"
    }
   },
   "id": "d95f7c38d5763a32"
  },
  {
   "cell_type": "code",
   "execution_count": 102,
   "outputs": [
    {
     "name": "stdout",
     "output_type": "stream",
     "text": [
      "Normalized cost: 0.48063247174095786\n"
     ]
    }
   ],
   "source": [
    "print(f'Normalized cost: {abs(found_cost - min_cost) / abs(max_cost - min_cost)}')"
   ],
   "metadata": {
    "collapsed": false,
    "ExecuteTime": {
     "end_time": "2023-11-20T15:52:38.059668500Z",
     "start_time": "2023-11-20T15:52:38.045626400Z"
    }
   },
   "id": "d558fc195acf2ce0"
  },
  {
   "cell_type": "code",
   "execution_count": 89,
   "outputs": [],
   "source": [],
   "metadata": {
    "collapsed": false,
    "ExecuteTime": {
     "end_time": "2023-11-20T13:04:21.020493900Z",
     "start_time": "2023-11-20T13:04:20.976206700Z"
    }
   },
   "id": "59808d5e4f55ecb4"
  }
 ],
 "metadata": {
  "kernelspec": {
   "display_name": "Python 3",
   "language": "python",
   "name": "python3"
  },
  "language_info": {
   "codemirror_mode": {
    "name": "ipython",
    "version": 2
   },
   "file_extension": ".py",
   "mimetype": "text/x-python",
   "name": "python",
   "nbconvert_exporter": "python",
   "pygments_lexer": "ipython2",
   "version": "2.7.6"
  }
 },
 "nbformat": 4,
 "nbformat_minor": 5
}
