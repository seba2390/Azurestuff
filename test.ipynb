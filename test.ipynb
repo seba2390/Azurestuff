{
 "cells": [
  {
   "cell_type": "code",
   "execution_count": 73,
   "outputs": [],
   "source": [
    "import numpy as np\n",
    "import scipy as sc\n",
    "\n",
    "from src.Tools import portfolio_metrics\n",
    "from qiskit_src.ansatz import CP_QAOA, qubo_cost\n",
    "from qiskit_src.tools import get_qubo, min_cost_partition"
   ],
   "metadata": {
    "collapsed": false,
    "ExecuteTime": {
     "end_time": "2023-11-21T08:21:09.918839Z",
     "start_time": "2023-11-21T08:21:09.903907Z"
    }
   },
   "id": "507e61fa3efd6d3f"
  },
  {
   "cell_type": "code",
   "execution_count": 74,
   "outputs": [],
   "source": [
    "N=18\n",
    "k=9\n",
    "seed=0\n",
    "alpha=0.001\n",
    "layers=3\n",
    "max_iter=100\n",
    "w_z_phase = False"
   ],
   "metadata": {
    "collapsed": false,
    "ExecuteTime": {
     "end_time": "2023-11-21T08:21:09.919031Z",
     "start_time": "2023-11-21T08:21:09.908157Z"
    }
   },
   "id": "e8c738fff2d37366"
  },
  {
   "cell_type": "code",
   "execution_count": 75,
   "id": "23c4768d4f9dec32",
   "metadata": {
    "collapsed": true,
    "ExecuteTime": {
     "end_time": "2023-11-21T08:21:11.190848Z",
     "start_time": "2023-11-21T08:21:09.912107Z"
    }
   },
   "outputs": [],
   "source": [
    "expected_returns, covariances = portfolio_metrics(n=N, seed=seed)\n",
    "\n",
    "constrained_result, full_result, lmbda = min_cost_partition(nr_qubits=N,\n",
    "                                                            k=k,\n",
    "                                                            mu=expected_returns,\n",
    "                                                            sigma=covariances,\n",
    "                                                            alpha=alpha)\n",
    "\n",
    "max_cost, min_cost, min_state = constrained_result['c_max'], constrained_result['c_min'], constrained_result['s']\n",
    "min_state_str = ''.join([str(_) for _ in min_state])\n",
    "Q, offset = get_qubo(mu=expected_returns,\n",
    "                     sigma=covariances,\n",
    "                     alpha=alpha,\n",
    "                     lmbda=lmbda,\n",
    "                     k=k)"
   ]
  },
  {
   "cell_type": "code",
   "execution_count": 76,
   "outputs": [
    {
     "data": {
      "text/plain": " message: Maximum number of function evaluations has been exceeded.\n success: False\n  status: 2\n     fun: -0.0038123150398319916\n       x: [-5.963e-01 -5.257e-02 ...  6.204e-01  1.698e+00]\n    nfev: 100\n   maxcv: 0.0"
     },
     "execution_count": 76,
     "metadata": {},
     "output_type": "execute_result"
    }
   ],
   "source": [
    "_available_methods_ = ['COBYLA', 'Nelder-Mead']\n",
    "_method_idx_ = 0\n",
    "\n",
    "ansatz = CP_QAOA(N_qubits=N,\n",
    "                 cardinality=k,\n",
    "                 layers=layers,\n",
    "                 QUBO_matrix=Q,\n",
    "                 QUBO_offset=offset,\n",
    "                 with_z_phase=w_z_phase)\n",
    "\n",
    "# Initial guess for parameters (gamma, beta) of circuit\n",
    "theta_min, theta_max = -np.pi, np.pi\n",
    "N_xx_yy_angles = layers * (N - 1) + layers * (N - 2)\n",
    "if w_z_phase:\n",
    "    N_xx_yy_angles += N * layers\n",
    "#theta_i = np.random.uniform(low=theta_min, high=theta_max, size=N_xx_yy_angles)\n",
    "theta_i = np.random.normal(loc=0, scale=1, size=N_xx_yy_angles)\n",
    "# Use the get_cost method of the specific ansatz instance\n",
    "res = sc.optimize.minimize(fun=ansatz.get_cost, x0=theta_i,\n",
    "                           method=_available_methods_[_method_idx_],\n",
    "                           options={'disp': False, 'maxiter': max_iter})\n",
    "\n",
    "_dict_ = ansatz.get_state_probabilities(angles=res.x, flip_states=False)\n",
    "res"
   ],
   "metadata": {
    "collapsed": false,
    "ExecuteTime": {
     "end_time": "2023-11-21T08:22:47.760455Z",
     "start_time": "2023-11-21T08:21:11.198085Z"
    }
   },
   "id": "initial_id"
  },
  {
   "cell_type": "code",
   "execution_count": 77,
   "outputs": [],
   "source": [
    "#-0.04306062026114224"
   ],
   "metadata": {
    "collapsed": false,
    "ExecuteTime": {
     "end_time": "2023-11-21T08:22:47.763501Z",
     "start_time": "2023-11-21T08:22:47.760346Z"
    }
   },
   "id": "4eec5bc2b1c6c01c"
  },
  {
   "cell_type": "code",
   "execution_count": 78,
   "outputs": [],
   "source": [
    "#-0.0438759947578891"
   ],
   "metadata": {
    "collapsed": false,
    "ExecuteTime": {
     "end_time": "2023-11-21T08:22:47.766351Z",
     "start_time": "2023-11-21T08:22:47.762974Z"
    }
   },
   "id": "6857538c1766469a"
  },
  {
   "cell_type": "code",
   "execution_count": 79,
   "outputs": [
    {
     "data": {
      "text/plain": "('010101011010110001', 0.004103593030596)"
     },
     "execution_count": 79,
     "metadata": {},
     "output_type": "execute_result"
    }
   ],
   "source": [
    "best_state = list(_dict_.keys())[np.argmax(list(_dict_.values()))]\n",
    "best_state, _dict_[best_state] "
   ],
   "metadata": {
    "collapsed": false,
    "ExecuteTime": {
     "end_time": "2023-11-21T08:22:47.772983Z",
     "start_time": "2023-11-21T08:22:47.768882Z"
    }
   },
   "id": "f0e464c537d8a306"
  },
  {
   "cell_type": "code",
   "execution_count": 80,
   "outputs": [
    {
     "data": {
      "text/plain": "(-6.520895301095449, -2.6585337837440024)"
     },
     "execution_count": 80,
     "metadata": {},
     "output_type": "execute_result"
    }
   ],
   "source": [
    "min_cost, max_cost"
   ],
   "metadata": {
    "collapsed": false,
    "ExecuteTime": {
     "end_time": "2023-11-21T08:22:47.776538Z",
     "start_time": "2023-11-21T08:22:47.771995Z"
    }
   },
   "id": "b4fdbb252b9bbb93"
  },
  {
   "cell_type": "code",
   "execution_count": 81,
   "outputs": [
    {
     "data": {
      "text/plain": "-6.520895301095493"
     },
     "execution_count": 81,
     "metadata": {},
     "output_type": "execute_result"
    }
   ],
   "source": [
    "opt_cost = qubo_cost(min_state.astype(np.float64),Q)+offset\n",
    "opt_cost"
   ],
   "metadata": {
    "collapsed": false,
    "ExecuteTime": {
     "end_time": "2023-11-21T08:22:47.779942Z",
     "start_time": "2023-11-21T08:22:47.775064Z"
    }
   },
   "id": "d1327cd612a6719d"
  },
  {
   "cell_type": "code",
   "execution_count": 82,
   "outputs": [
    {
     "data": {
      "text/plain": "-6.457406966970382"
     },
     "execution_count": 82,
     "metadata": {},
     "output_type": "execute_result"
    }
   ],
   "source": [
    "found_cost = qubo_cost(np.array([float(_) for _ in best_state]).astype(np.float64), Q) + offset\n",
    "found_cost"
   ],
   "metadata": {
    "collapsed": false,
    "ExecuteTime": {
     "end_time": "2023-11-21T08:22:47.800003Z",
     "start_time": "2023-11-21T08:22:47.778227Z"
    }
   },
   "id": "6c1bc61bcb72d2f0"
  },
  {
   "cell_type": "code",
   "execution_count": 83,
   "outputs": [],
   "source": [
    "#-4.542715447732974"
   ],
   "metadata": {
    "collapsed": false,
    "ExecuteTime": {
     "end_time": "2023-11-21T08:22:47.800303Z",
     "start_time": "2023-11-21T08:22:47.781378Z"
    }
   },
   "id": "984dccf0efb126e4"
  },
  {
   "cell_type": "code",
   "execution_count": 84,
   "outputs": [
    {
     "name": "stdout",
     "output_type": "stream",
     "text": [
      "Normalized cost: 0.016437698501253636\n"
     ]
    }
   ],
   "source": [
    "print(f'Normalized cost: {abs(found_cost - min_cost) / abs(max_cost - min_cost)}')"
   ],
   "metadata": {
    "collapsed": false,
    "ExecuteTime": {
     "end_time": "2023-11-21T08:22:47.800576Z",
     "start_time": "2023-11-21T08:22:47.783733Z"
    }
   },
   "id": "d558fc195acf2ce0"
  },
  {
   "cell_type": "code",
   "execution_count": 84,
   "outputs": [],
   "source": [],
   "metadata": {
    "collapsed": false,
    "ExecuteTime": {
     "end_time": "2023-11-21T08:22:47.800724Z",
     "start_time": "2023-11-21T08:22:47.786111Z"
    }
   },
   "id": "59808d5e4f55ecb4"
  }
 ],
 "metadata": {
  "kernelspec": {
   "display_name": "Python 3",
   "language": "python",
   "name": "python3"
  },
  "language_info": {
   "codemirror_mode": {
    "name": "ipython",
    "version": 2
   },
   "file_extension": ".py",
   "mimetype": "text/x-python",
   "name": "python",
   "nbconvert_exporter": "python",
   "pygments_lexer": "ipython2",
   "version": "2.7.6"
  }
 },
 "nbformat": 4,
 "nbformat_minor": 5
}
