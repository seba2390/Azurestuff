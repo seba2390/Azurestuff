{
 "cells": [
  {
   "cell_type": "code",
   "execution_count": 76,
   "outputs": [],
   "source": [
    "from typing import *\n",
    "from itertools import combinations\n",
    "import numpy as np\n"
   ],
   "metadata": {
    "collapsed": false,
    "ExecuteTime": {
     "end_time": "2023-11-16T15:47:34.462888Z",
     "start_time": "2023-11-16T15:47:34.453634Z"
    }
   },
   "id": "d6f2f9adeadcaeb0"
  },
  {
   "cell_type": "code",
   "execution_count": 77,
   "id": "initial_id",
   "metadata": {
    "collapsed": true,
    "ExecuteTime": {
     "end_time": "2023-11-16T15:47:34.478280Z",
     "start_time": "2023-11-16T15:47:34.465550Z"
    }
   },
   "outputs": [],
   "source": [
    "def min_cost_partition(nr_qubits: int,\n",
    "                       k: int,\n",
    "                       mu: np.ndarray,\n",
    "                       sigma: np.ndarray,\n",
    "                       alpha: float) -> Tuple[dict, dict, float]:\n",
    "    \n",
    "    def generate_binary_combinations(n: int, k: int) -> np.ndarray:\n",
    "        \"\"\" Generates all the 'n' chose 'k' combinations w. 'k' ones. \"\"\"\n",
    "        num_permutations = 2 ** n\n",
    "        for indices in combinations(range(n), k):\n",
    "            # Create a numpy array of zeros of size N\n",
    "            arr = np.zeros(n, dtype=int)\n",
    "            # Set ones at the specified positions\n",
    "            arr[list(indices)] = 1\n",
    "            yield arr\n",
    "\n",
    "    def generate_binary_permutations(n: int) -> np.ndarray:\n",
    "        \"\"\" Generates all the 2^n permutations of bitstring w. length 'n'. \"\"\"\n",
    "        num_permutations = 2 ** n\n",
    "        for i in range(num_permutations):\n",
    "            _binary_string_ = bin(i)[2:].zfill(n)\n",
    "            yield np.array([int(bit) for bit in _binary_string_])\n",
    "\n",
    "    def cost(state: np.ndarray, mu: np.ndarray, sigma: np.ndarray, alpha: float) -> float:\n",
    "        return -np.dot(state, mu)  + alpha*np.dot(state, np.dot(sigma, state))\n",
    "\n",
    "    max_cost_1, min_cost_1, min_comb = -np.inf, np.inf, np.empty(shape=(nr_qubits,))\n",
    "    for comb in generate_binary_combinations(n=nr_qubits, k=k):\n",
    "        comb_cost = cost(state=comb, mu=mu, sigma=sigma, alpha=alpha)\n",
    "        if comb_cost < min_cost_1:\n",
    "            min_cost_1, min_comb = comb_cost, comb\n",
    "        if comb_cost > max_cost_1:\n",
    "            max_cost_1 = comb_cost\n",
    "    binary_comb = min_comb\n",
    "\n",
    "    max_cost_2, min_cost_2, min_perm = -np.inf, np.inf, np.empty(shape=(nr_qubits,))\n",
    "    for perm in generate_binary_permutations(n=nr_qubits):\n",
    "        perm_cost = cost(state=perm, mu=mu, sigma=sigma, alpha=alpha)\n",
    "        if perm_cost < min_cost_2:\n",
    "            min_cost_2, min_perm= perm_cost, perm\n",
    "        if perm_cost > max_cost_2:\n",
    "            max_cost_2 = perm_cost\n",
    "    binary_perm = min_perm \n",
    "\n",
    "    lmbda = 0\n",
    "    if min_cost_2 < min_cost_1:\n",
    "        lmbda = abs(min_cost_2) - abs(min_cost_1)\n",
    "\n",
    "    constrained_result = {'s': binary_comb, 'c_min': min_cost_1, 'c_max': max_cost_1}\n",
    "    full_result = {'s': binary_perm, 'c_min': min_cost_2, 'c_max': max_cost_2}\n",
    "    return constrained_result, full_result, lmbda\n",
    "\n",
    "\n",
    "def get_Q(mu: np.ndarray, sigma: np.ndarray, alpha: float, lmbda: float, k: int) -> tuple[np.ndarray, float]:\n",
    "    Q = np.zeros_like(sigma)\n",
    "    N = Q.shape[0]\n",
    "    for i in range(N):\n",
    "        for j in range(N):\n",
    "            if i == j:\n",
    "                Q[i,j] += -mu[i] - 2*k*lmbda + lmbda + alpha*sigma[i,j] \n",
    "            else:\n",
    "                Q[i,j] += lmbda + alpha*sigma[i,j]\n",
    "    offset = lmbda*k**2\n",
    "    return Q, offset\n",
    "    "
   ]
  },
  {
   "cell_type": "code",
   "execution_count": 78,
   "outputs": [],
   "source": [
    "N=4\n",
    "k=2\n",
    "alpha = 0.001\n",
    "seed = 4\n",
    "np.random.seed(seed)\n",
    "\n",
    "mu = np.random.uniform(low=0, high=0.99, size=N)\n",
    "\n",
    "_temp_ = np.random.uniform(low=0, high=0.99, size=(N, N))\n",
    "sigma = np.dot(_temp_, _temp_.transpose())\n",
    "if not np.all(sigma == sigma.T) or not np.all(np.linalg.eigvals(sigma) >= 0):\n",
    "    raise ValueError('Covariance matrix is not PSD.')"
   ],
   "metadata": {
    "collapsed": false,
    "ExecuteTime": {
     "end_time": "2023-11-16T15:47:34.479146Z",
     "start_time": "2023-11-16T15:47:34.470572Z"
    }
   },
   "id": "829dfdd1742f24e6"
  },
  {
   "cell_type": "code",
   "execution_count": 79,
   "outputs": [],
   "source": [
    "n_chose_k, full, lmbda = min_cost_partition(nr_qubits=N, k=k, mu=mu, sigma=sigma, alpha=alpha)"
   ],
   "metadata": {
    "collapsed": false,
    "ExecuteTime": {
     "end_time": "2023-11-16T15:47:34.479686Z",
     "start_time": "2023-11-16T15:47:34.473747Z"
    }
   },
   "id": "1374ed5d5018175"
  },
  {
   "cell_type": "code",
   "execution_count": 80,
   "outputs": [
    {
     "data": {
      "text/plain": "(array([1, 0, 1, 0]), array([1, 1, 1, 1]), 1.2407897066063132)"
     },
     "execution_count": 80,
     "metadata": {},
     "output_type": "execute_result"
    }
   ],
   "source": [
    "n_chose_k['s'], full['s'], lmbda"
   ],
   "metadata": {
    "collapsed": false,
    "ExecuteTime": {
     "end_time": "2023-11-16T15:47:34.485847Z",
     "start_time": "2023-11-16T15:47:34.478785Z"
    }
   },
   "id": "b4a1e1fbdff9302e"
  },
  {
   "cell_type": "code",
   "execution_count": 81,
   "outputs": [
    {
     "name": "stdout",
     "output_type": "stream",
     "text": [
      "[1 0 1 0]\n"
     ]
    }
   ],
   "source": [
    "def generate_binary_permutations(n: int) -> np.ndarray:\n",
    "    \"\"\" Generates all the 2^n permutations of bitstring w. length 'n'. \"\"\"\n",
    "    num_permutations = 2 ** n\n",
    "    for i in range(num_permutations):\n",
    "        _binary_string_ = bin(i)[2:].zfill(n)\n",
    "        yield np.array([int(bit) for bit in _binary_string_])\n",
    "        \n",
    "def full_cost(state: np.ndarray, mu: np.ndarray, sigma: np.ndarray, alpha: float, lmbda: float, k: int) -> float:\n",
    "    return -np.dot(state, mu)  + alpha*np.dot(state, np.dot(sigma, state)) + lmbda*(np.dot(state,np.ones_like(state))-k)**2\n",
    "\n",
    "min_cost, min_perm = np.inf, None\n",
    "for perm in generate_binary_permutations(n=N):\n",
    "    cost = full_cost(state=perm, mu=mu, sigma=sigma, alpha=alpha, lmbda=lmbda, k=k)\n",
    "    if cost < min_cost:\n",
    "        min_cost = cost\n",
    "        min_perm = perm\n",
    "\n",
    "print(min_perm)"
   ],
   "metadata": {
    "collapsed": false,
    "ExecuteTime": {
     "end_time": "2023-11-16T15:47:34.491959Z",
     "start_time": "2023-11-16T15:47:34.486003Z"
    }
   },
   "id": "fdde28cfe6b72b2a"
  },
  {
   "cell_type": "code",
   "execution_count": 82,
   "outputs": [],
   "source": [
    "def get_Q(mu: np.ndarray, sigma: np.ndarray, alpha: float, lmbda: float, k: int) -> tuple[np.ndarray, float]:\n",
    "    Q = np.zeros_like(sigma)\n",
    "    N = Q.shape[0]\n",
    "    for i in range(N):\n",
    "        for j in range(N):\n",
    "            if i == j:\n",
    "                Q[i,j] += -mu[i] - 2*k*lmbda + lmbda + alpha*sigma[i,j] \n",
    "            else:\n",
    "                Q[i,j] += lmbda + alpha*sigma[i,j]\n",
    "    offset = lmbda*k**2\n",
    "    return Q, offset"
   ],
   "metadata": {
    "collapsed": false,
    "ExecuteTime": {
     "end_time": "2023-11-16T15:47:34.494136Z",
     "start_time": "2023-11-16T15:47:34.491193Z"
    }
   },
   "id": "95dfc639b54afd06"
  },
  {
   "cell_type": "code",
   "execution_count": 83,
   "outputs": [
    {
     "name": "stdout",
     "output_type": "stream",
     "text": [
      "4.963158826425253 4.963158826425253\n",
      "0.5341672995895156 0.5341672995895159\n",
      "0.2798859764001691 0.27988597640016977\n",
      "-1.6656314353934103 -1.6656314353934087\n",
      "0.6999114395406706 0.6999114395406707\n",
      "-1.246728580993889 -1.2467285809938886\n",
      "-1.500034133574851 -1.5000341335748502\n",
      "-0.9632000390672528 -0.9632000390672522\n",
      "0.2848872520435588 0.2848872520435588\n",
      "-1.6622526360966403 -1.6622526360966399\n",
      "-1.9148884929800205 -1.9148884929800198\n",
      "-1.3785542660780619 -1.3785542660780603\n",
      "-1.4947566382501996 -1.494756638250199\n",
      "-0.9595450200892215 -0.9595450200892204\n",
      "-1.2112051063642169 -1.2112051063642157\n",
      "1.807480626838919 1.8074806268389203\n"
     ]
    }
   ],
   "source": [
    "Q, offset = get_Q(mu=mu, sigma=sigma, alpha=alpha, lmbda=lmbda, k=k)\n",
    "for perm in generate_binary_permutations(n=N):\n",
    "    cost = full_cost(state=perm, mu=mu, sigma=sigma, alpha=alpha, lmbda=lmbda, k=k)\n",
    "    qubo_cost = np.dot(perm, np.dot(Q, perm)) + offset\n",
    "    print(cost, qubo_cost)"
   ],
   "metadata": {
    "collapsed": false,
    "ExecuteTime": {
     "end_time": "2023-11-16T15:47:34.497948Z",
     "start_time": "2023-11-16T15:47:34.494339Z"
    }
   },
   "id": "4a3d793971ed1d93"
  },
  {
   "cell_type": "code",
   "execution_count": 84,
   "outputs": [
    {
     "data": {
      "text/plain": "3.3312628707868206"
     },
     "execution_count": 84,
     "metadata": {},
     "output_type": "execute_result"
    }
   ],
   "source": [
    "1.6656314353934103*2"
   ],
   "metadata": {
    "collapsed": false,
    "ExecuteTime": {
     "end_time": "2023-11-16T15:47:34.530908Z",
     "start_time": "2023-11-16T15:47:34.498082Z"
    }
   },
   "id": "2ce6da9cb2d8eab3"
  },
  {
   "cell_type": "code",
   "execution_count": 84,
   "outputs": [],
   "source": [],
   "metadata": {
    "collapsed": false,
    "ExecuteTime": {
     "end_time": "2023-11-16T15:47:34.537888Z",
     "start_time": "2023-11-16T15:47:34.500519Z"
    }
   },
   "id": "44c6b16b31e68db6"
  }
 ],
 "metadata": {
  "kernelspec": {
   "display_name": "Python 3",
   "language": "python",
   "name": "python3"
  },
  "language_info": {
   "codemirror_mode": {
    "name": "ipython",
    "version": 2
   },
   "file_extension": ".py",
   "mimetype": "text/x-python",
   "name": "python",
   "nbconvert_exporter": "python",
   "pygments_lexer": "ipython2",
   "version": "2.7.6"
  }
 },
 "nbformat": 4,
 "nbformat_minor": 5
}
