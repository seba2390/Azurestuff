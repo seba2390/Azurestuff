{
 "cells": [
  {
   "cell_type": "code",
   "execution_count": 40,
   "outputs": [],
   "source": [
    "import numpy as np\n",
    "import scipy as sc\n",
    "\n",
    "from src.Tools import portfolio_metrics\n",
    "from qiskit_src.ansatz import CP_QAOA, qubo_cost\n",
    "from qiskit_src.tools import get_qubo, min_cost_partition"
   ],
   "metadata": {
    "collapsed": false,
    "ExecuteTime": {
     "end_time": "2023-11-23T15:48:39.865427100Z",
     "start_time": "2023-11-23T15:48:39.857611200Z"
    }
   },
   "id": "507e61fa3efd6d3f"
  },
  {
   "cell_type": "code",
   "execution_count": 66,
   "outputs": [],
   "source": [
    "N=10\n",
    "k=5\n",
    "seed=0\n",
    "alpha=0.001\n",
    "layers=4\n",
    "max_iter=10000\n",
    "\n",
    "w_z_phase = False\n",
    "w_next_nearest_neighbors = False\n",
    "w_evenly_distributed = True\n"
   ],
   "metadata": {
    "collapsed": false,
    "ExecuteTime": {
     "end_time": "2023-11-23T15:54:39.466021600Z",
     "start_time": "2023-11-23T15:54:39.457022500Z"
    }
   },
   "id": "e8c738fff2d37366"
  },
  {
   "cell_type": "code",
   "execution_count": 67,
   "id": "23c4768d4f9dec32",
   "metadata": {
    "collapsed": true,
    "ExecuteTime": {
     "end_time": "2023-11-23T15:54:40.676376Z",
     "start_time": "2023-11-23T15:54:40.641263Z"
    }
   },
   "outputs": [],
   "source": [
    "expected_returns, covariances = portfolio_metrics(n=N, seed=seed)\n",
    "\n",
    "constrained_result, full_result, lmbda = min_cost_partition(nr_qubits=N,\n",
    "                                                            k=k,\n",
    "                                                            mu=expected_returns,\n",
    "                                                            sigma=covariances,\n",
    "                                                            alpha=alpha)\n",
    "\n",
    "max_cost, min_cost, min_state = constrained_result['c_max'], constrained_result['c_min'], constrained_result['s']\n",
    "min_state_str = ''.join([str(_) for _ in min_state])\n",
    "Q, offset = get_qubo(mu=expected_returns,\n",
    "                     sigma=covariances,\n",
    "                     alpha=alpha,\n",
    "                     lmbda=lmbda,\n",
    "                     k=k)"
   ]
  },
  {
   "cell_type": "code",
   "execution_count": null,
   "outputs": [],
   "source": [
    "ansatz = CP_QAOA(N_qubits=N,\n",
    "                 cardinality=k,\n",
    "                 layers=layers,\n",
    "                 QUBO_matrix=Q,\n",
    "                 QUBO_offset=offset,\n",
    "                 with_next_nearest_neighbors=w_next_nearest_neighbors,\n",
    "                 with_evenly_distributed_start_x=w_evenly_distributed,\n",
    "                 with_z_phase=w_z_phase)\n",
    "\n",
    "# Initial guess for parameters (gamma, beta) of circuit\n",
    "theta_min, theta_max = -np.pi, np.pi\n",
    "N_xx_yy_angles = layers * (N - 1) \n",
    "if w_next_nearest_neighbors:\n",
    "    N_xx_yy_angles += layers * (N - 2)\n",
    "if w_z_phase:\n",
    "    N_xx_yy_angles += N * layers\n",
    "#theta_i = np.random.uniform(low=theta_min, high=theta_max, size=N_xx_yy_angles)\n",
    "theta_i = np.random.normal(loc=0, scale=1, size=N_xx_yy_angles)\n",
    "\n",
    "_available_methods_ = ['COBYLA', 'Nelder-Mead']\n",
    "_method_idx_ = 0\n",
    "\n",
    "res = sc.optimize.minimize(fun=ansatz.get_cost, x0=theta_i,\n",
    "                           method=_available_methods_[_method_idx_],\n",
    "                           tol=1e-3,\n",
    "                           options={'disp': False, 'maxiter': max_iter})\n",
    "\n",
    "_dict_ = ansatz.get_state_probabilities(angles=res.x, flip_states=False)\n",
    "res"
   ],
   "metadata": {
    "collapsed": false,
    "is_executing": true,
    "ExecuteTime": {
     "start_time": "2023-11-23T15:54:42.667463Z"
    }
   },
   "id": "initial_id"
  },
  {
   "cell_type": "code",
   "execution_count": null,
   "outputs": [],
   "source": [
    "res.status"
   ],
   "metadata": {
    "collapsed": false,
    "is_executing": true
   },
   "id": "41fb99f198c3df74"
  },
  {
   "cell_type": "code",
   "execution_count": null,
   "outputs": [],
   "source": [
    "best_state = list(_dict_.keys())[np.argmax(list(_dict_.values()))]\n",
    "best_state, _dict_[best_state] "
   ],
   "metadata": {
    "collapsed": false,
    "is_executing": true
   },
   "id": "f0e464c537d8a306"
  },
  {
   "cell_type": "code",
   "execution_count": 58,
   "outputs": [
    {
     "data": {
      "text/plain": "('0010001111', 0.038842803292049)"
     },
     "execution_count": 58,
     "metadata": {},
     "output_type": "execute_result"
    }
   ],
   "source": [
    "opt_cost = qubo_cost(min_state.astype(np.float64),Q)+offset\n",
    "opt_cost"
   ],
   "metadata": {
    "collapsed": false,
    "ExecuteTime": {
     "end_time": "2023-11-23T15:53:20.106772600Z",
     "start_time": "2023-11-23T15:53:20.083176400Z"
    }
   },
   "id": "d1327cd612a6719d"
  },
  {
   "cell_type": "code",
   "execution_count": 59,
   "outputs": [
    {
     "data": {
      "text/plain": "-3.724561129862593"
     },
     "execution_count": 59,
     "metadata": {},
     "output_type": "execute_result"
    }
   ],
   "source": [
    "found_cost = qubo_cost(np.array([float(_) for _ in best_state]).astype(np.float64), Q) + offset\n",
    "found_cost "
   ],
   "metadata": {
    "collapsed": false,
    "ExecuteTime": {
     "end_time": "2023-11-23T15:53:22.077256600Z",
     "start_time": "2023-11-23T15:53:22.061241300Z"
    }
   },
   "id": "6c1bc61bcb72d2f0"
  },
  {
   "cell_type": "code",
   "execution_count": 60,
   "outputs": [
    {
     "data": {
      "text/plain": "-3.1857426923990175"
     },
     "execution_count": 60,
     "metadata": {},
     "output_type": "execute_result"
    }
   ],
   "source": [
    "print(f'Normalized cost: {abs(found_cost - min_cost) / abs(max_cost - min_cost)}')"
   ],
   "metadata": {
    "collapsed": false,
    "ExecuteTime": {
     "end_time": "2023-11-23T15:53:22.346834200Z",
     "start_time": "2023-11-23T15:53:22.319083900Z"
    }
   },
   "id": "d558fc195acf2ce0"
  },
  {
   "cell_type": "code",
   "execution_count": 61,
   "outputs": [
    {
     "name": "stdout",
     "output_type": "stream",
     "text": [
      "Normalized cost: 0.3663587217098206\n"
     ]
    }
   ],
   "source": [
    "abs(found_cost - min_cost)"
   ],
   "metadata": {
    "collapsed": false,
    "ExecuteTime": {
     "end_time": "2023-11-23T15:53:23.184496500Z",
     "start_time": "2023-11-23T15:53:23.168495900Z"
    }
   },
   "id": "59808d5e4f55ecb4"
  },
  {
   "cell_type": "code",
   "execution_count": 62,
   "outputs": [
    {
     "data": {
      "text/plain": "0.5388184374635872"
     },
     "execution_count": 62,
     "metadata": {},
     "output_type": "execute_result"
    }
   ],
   "source": [
    "found_cost == min_cost"
   ],
   "metadata": {
    "collapsed": false,
    "ExecuteTime": {
     "end_time": "2023-11-23T15:53:24.498389500Z",
     "start_time": "2023-11-23T15:53:24.481383900Z"
    }
   },
   "id": "8edf1728a916cc80"
  },
  {
   "cell_type": "code",
   "execution_count": 63,
   "outputs": [
    {
     "data": {
      "text/plain": "False"
     },
     "execution_count": 63,
     "metadata": {},
     "output_type": "execute_result"
    }
   ],
   "source": [],
   "metadata": {
    "collapsed": false,
    "ExecuteTime": {
     "end_time": "2023-11-23T15:53:25.487773400Z",
     "start_time": "2023-11-23T15:53:25.468785500Z"
    }
   },
   "id": "ce4955fcde2ae24e"
  }
 ],
 "metadata": {
  "kernelspec": {
   "display_name": "Python 3",
   "language": "python",
   "name": "python3"
  },
  "language_info": {
   "codemirror_mode": {
    "name": "ipython",
    "version": 2
   },
   "file_extension": ".py",
   "mimetype": "text/x-python",
   "name": "python",
   "nbconvert_exporter": "python",
   "pygments_lexer": "ipython2",
   "version": "2.7.6"
  }
 },
 "nbformat": 4,
 "nbformat_minor": 5
}
