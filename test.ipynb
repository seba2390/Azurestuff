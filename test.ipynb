{
 "cells": [
  {
   "cell_type": "code",
   "execution_count": 47,
   "outputs": [],
   "source": [
    "import matplotlib.pyplot as plt\n",
    "import numpy as np\n",
    "import scipy as sc\n",
    "from qiskit_algorithms.optimizers import SPSA, NFT, QNSPSA\n",
    "\n",
    "from src.Tools import portfolio_metrics\n",
    "from qiskit_src.ansatz import CP_QAOA, qubo_cost\n",
    "from qiskit_src.tools import get_qubo, min_cost_partition, normalized_cost"
   ],
   "metadata": {
    "collapsed": false,
    "ExecuteTime": {
     "end_time": "2023-12-04T09:21:37.488573Z",
     "start_time": "2023-12-04T09:21:37.436920700Z"
    }
   },
   "id": "507e61fa3efd6d3f"
  },
  {
   "cell_type": "code",
   "execution_count": 48,
   "outputs": [],
   "source": [
    "N=6\n",
    "k=3\n",
    "seed=1\n",
    "alpha=0.001\n",
    "layers=2\n",
    "max_iter=50\n",
    "\n",
    "w_z_phase = False\n",
    "w_next_nearest_neighbors = True\n",
    "w_evenly_distributed = True\n"
   ],
   "metadata": {
    "collapsed": false,
    "ExecuteTime": {
     "end_time": "2023-12-04T09:21:37.489571700Z",
     "start_time": "2023-12-04T09:21:37.455921300Z"
    }
   },
   "id": "e8c738fff2d37366"
  },
  {
   "cell_type": "code",
   "execution_count": 49,
   "id": "23c4768d4f9dec32",
   "metadata": {
    "collapsed": true,
    "ExecuteTime": {
     "end_time": "2023-12-04T09:21:37.489571700Z",
     "start_time": "2023-12-04T09:21:37.469923Z"
    }
   },
   "outputs": [],
   "source": [
    "expected_returns, covariances = portfolio_metrics(n=N, seed=seed)\n",
    "\n",
    "constrained_result, full_result, lmbda = min_cost_partition(nr_qubits=N,\n",
    "                                                            k=k,\n",
    "                                                            mu=expected_returns,\n",
    "                                                            sigma=covariances,\n",
    "                                                            alpha=alpha)\n",
    "\n",
    "max_cost, min_cost, min_state = constrained_result['c_max'], constrained_result['c_min'], constrained_result['s']\n",
    "min_state_str = ''.join([str(_) for _ in min_state])\n",
    "Q, offset = get_qubo(mu=expected_returns,\n",
    "                     sigma=covariances,\n",
    "                     alpha=alpha,\n",
    "                     lmbda=lmbda,\n",
    "                     k=k)"
   ]
  },
  {
   "cell_type": "code",
   "execution_count": 59,
   "outputs": [
    {
     "data": {
      "text/plain": "0"
     },
     "execution_count": 59,
     "metadata": {},
     "output_type": "execute_result"
    }
   ],
   "source": [
    "ansatz = CP_QAOA(N_qubits=N,\n",
    "                 cardinality=k,\n",
    "                 layers=layers,\n",
    "                 QUBO_matrix=Q,\n",
    "                 QUBO_offset=offset,\n",
    "                 with_next_nearest_neighbors=w_next_nearest_neighbors,\n",
    "                 with_evenly_distributed_start_x=w_evenly_distributed,\n",
    "                 with_z_phase=w_z_phase)\n",
    "\n",
    "# Initial guess for parameters (gamma, beta) of circuit\n",
    "theta_min, theta_max = -np.pi, np.pi\n",
    "N_xx_yy_angles = layers * (N - 1) \n",
    "if w_next_nearest_neighbors:\n",
    "    N_xx_yy_angles += layers * (N - 2)\n",
    "if w_z_phase:\n",
    "    N_xx_yy_angles += N * layers\n",
    "theta_i = np.random.uniform(low=theta_min, high=theta_max, size=N_xx_yy_angles)\n",
    "#theta_i = np.random.normal(loc=0, scale=1, size=N_xx_yy_angles)\n",
    "\n",
    "_available_methods_ = ['COBYLA', 'Nelder-Mead']\n",
    "_method_idx_ = 0\n",
    "\n",
    "iteration_dicts = []\n",
    "\n",
    "def callback_function(x):\n",
    "    iteration_dicts.append(ansatz.get_state_probabilities(angles=x, flip_states=False))\n",
    "\n",
    "\n",
    "res = sc.optimize.minimize(fun=ansatz.get_cost, x0=theta_i,\n",
    "                           method='SLSQP',\n",
    "                           options={'disp': False, 'maxiter': max_iter},\n",
    "                           callback=callback_function)\n",
    "\n",
    "\n",
    "\n",
    "\"\"\"def spsa_callback_function(n_fun_evals, params, fun_val, stepsize, flag):\n",
    "    iteration_dicts.append(ansatz.get_state_probabilities(angles=params, flip_states=False))\n",
    "    \n",
    "def nft_callback_function(params):\n",
    "    iteration_dicts.append(ansatz.get_state_probabilities(angles=params, flip_states=False))\n",
    "    \n",
    "spsa = QNSPSA(fidelity=ansatz.get_fidelity,maxiter=max_iter, callback=spsa_callback_function)\n",
    "res = spsa.minimize(fun=ansatz.get_cost,x0=theta_i)\"\"\"\n",
    "\n",
    "_dict_ = ansatz.get_state_probabilities(angles=res.x, flip_states=False)\n",
    "\n",
    "res.status"
   ],
   "metadata": {
    "collapsed": false,
    "ExecuteTime": {
     "start_time": "2023-12-04T09:23:05.179977600Z"
    }
   },
   "id": "initial_id"
  },
  {
   "cell_type": "code",
   "execution_count": 58,
   "outputs": [
    {
     "data": {
      "text/plain": "('Optimization terminated successfully',\n  message: Optimization terminated successfully\n  success: True\n   status: 0\n      fun: -0.16470538420618897\n        x: [-2.800e+00 -4.560e-01 ...  2.362e+00 -7.861e-01]\n      nit: 33\n      jac: [ 2.060e-05 -2.453e-05 ...  9.555e-07 -1.000e-04]\n     nfev: 629\n     njev: 33)"
     },
     "execution_count": 58,
     "metadata": {},
     "output_type": "execute_result"
    }
   ],
   "source": [
    "res.message, res"
   ],
   "metadata": {
    "collapsed": false,
    "ExecuteTime": {
     "end_time": "2023-12-04T09:22:59.904294900Z",
     "start_time": "2023-12-04T09:22:59.893013Z"
    }
   },
   "id": "f163039529d56746"
  },
  {
   "cell_type": "code",
   "execution_count": 52,
   "outputs": [
    {
     "data": {
      "text/plain": "(-0.1, 1.1)"
     },
     "execution_count": 52,
     "metadata": {},
     "output_type": "execute_result"
    },
    {
     "data": {
      "text/plain": "<Figure size 600x300 with 1 Axes>",
      "image/png": "[encoded data removed]"
     },
     "metadata": {},
     "output_type": "display_data"
    }
   ],
   "source": [
    "fig, ax = plt.subplots(1,1,figsize=(6,3))\n",
    "Y = [normalized_cost(result=it,\n",
    "                 QUBO_matrix=Q,\n",
    "                 QUBO_offset=offset,\n",
    "                 max_cost=max_cost, \n",
    "                 min_cost=min_cost) for it in iteration_dicts]\n",
    "X = [it + 1 for it in range(len(Y))]\n",
    "ax.plot(X,Y)\n",
    "ax.set_ylim(-0.1,1.1)\n"
   ],
   "metadata": {
    "collapsed": false,
    "ExecuteTime": {
     "end_time": "2023-12-04T09:21:53.340472400Z",
     "start_time": "2023-12-04T09:21:53.243796700Z"
    }
   },
   "id": "41fb99f198c3df74"
  },
  {
   "cell_type": "code",
   "execution_count": 53,
   "outputs": [
    {
     "data": {
      "text/plain": "('110100', 0.999482896278975)"
     },
     "execution_count": 53,
     "metadata": {},
     "output_type": "execute_result"
    }
   ],
   "source": [
    "best_state = list(_dict_.keys())[np.argmax(list(_dict_.values()))]\n",
    "best_state, _dict_[best_state] "
   ],
   "metadata": {
    "collapsed": false,
    "ExecuteTime": {
     "end_time": "2023-12-04T09:21:53.357563300Z",
     "start_time": "2023-12-04T09:21:53.339472900Z"
    }
   },
   "id": "f0e464c537d8a306"
  },
  {
   "cell_type": "code",
   "execution_count": 54,
   "outputs": [
    {
     "data": {
      "text/plain": "-1.412123344897749"
     },
     "execution_count": 54,
     "metadata": {},
     "output_type": "execute_result"
    }
   ],
   "source": [
    "opt_cost = qubo_cost(min_state.astype(np.float64),Q)+offset\n",
    "opt_cost"
   ],
   "metadata": {
    "collapsed": false,
    "ExecuteTime": {
     "end_time": "2023-12-04T09:21:53.416868200Z",
     "start_time": "2023-12-04T09:21:53.355471800Z"
    }
   },
   "id": "d1327cd612a6719d"
  },
  {
   "cell_type": "code",
   "execution_count": 55,
   "outputs": [
    {
     "data": {
      "text/plain": "-1.412123344897749"
     },
     "execution_count": 55,
     "metadata": {},
     "output_type": "execute_result"
    }
   ],
   "source": [
    "found_cost = qubo_cost(np.array([float(_) for _ in best_state]).astype(np.float64), Q) + offset\n",
    "found_cost "
   ],
   "metadata": {
    "collapsed": false,
    "ExecuteTime": {
     "end_time": "2023-12-04T09:21:53.417859Z",
     "start_time": "2023-12-04T09:21:53.369157500Z"
    }
   },
   "id": "6c1bc61bcb72d2f0"
  },
  {
   "cell_type": "code",
   "execution_count": 56,
   "outputs": [
    {
     "name": "stdout",
     "output_type": "stream",
     "text": [
      "Normalized cost: 1.8609165701444433e-16\n"
     ]
    }
   ],
   "source": [
    "print(f'Normalized cost: {abs(found_cost - min_cost) / abs(max_cost - min_cost)}')"
   ],
   "metadata": {
    "collapsed": false,
    "ExecuteTime": {
     "end_time": "2023-12-04T09:21:53.417859Z",
     "start_time": "2023-12-04T09:21:53.387281300Z"
    }
   },
   "id": "d558fc195acf2ce0"
  },
  {
   "cell_type": "code",
   "execution_count": 56,
   "outputs": [],
   "source": [],
   "metadata": {
    "collapsed": false,
    "ExecuteTime": {
     "end_time": "2023-12-04T09:21:53.419136100Z",
     "start_time": "2023-12-04T09:21:53.401474500Z"
    }
   },
   "id": "1b0ec6b289391576"
  }
 ],
 "metadata": {
  "kernelspec": {
   "display_name": "Python 3",
   "language": "python",
   "name": "python3"
  },
  "language_info": {
   "codemirror_mode": {
    "name": "ipython",
    "version": 2
   },
   "file_extension": ".py",
   "mimetype": "text/x-python",
   "name": "python",
   "nbconvert_exporter": "python",
   "pygments_lexer": "ipython2",
   "version": "2.7.6"
  }
 },
 "nbformat": 4,
 "nbformat_minor": 5
}
