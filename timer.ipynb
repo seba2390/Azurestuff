{
 "cells": [
  {
   "cell_type": "code",
   "execution_count": 130,
   "id": "initial_id",
   "metadata": {
    "collapsed": true,
    "ExecuteTime": {
     "end_time": "2023-11-19T23:13:15.155805Z",
     "start_time": "2023-11-19T23:13:15.150941Z"
    }
   },
   "outputs": [],
   "source": [
    "import time\n",
    "\n",
    "import numpy as np\n",
    "import scipy as sc\n",
    "\n",
    "from src.Tools import portfolio_metrics\n",
    "\n",
    "from qiskit_src.ansatz import (QAOA, \n",
    "                               CP_QAOA)\n",
    "\n",
    "from qiskit_src.tools import (get_qubo, \n",
    "                              min_cost_partition)\n"
   ]
  },
  {
   "cell_type": "code",
   "execution_count": 139,
   "outputs": [],
   "source": [
    "layers = 5\n",
    "max_iter = 200\n",
    "N=2\n",
    "k=1\n",
    "seed=2\n",
    "alpha=0.01"
   ],
   "metadata": {
    "collapsed": false,
    "ExecuteTime": {
     "end_time": "2023-11-19T23:31:53.340207Z",
     "start_time": "2023-11-19T23:31:53.334259Z"
    }
   },
   "id": "a89d7523319ff9d"
  },
  {
   "cell_type": "code",
   "execution_count": 140,
   "outputs": [],
   "source": [
    "\n",
    "expected_returns, covariances = portfolio_metrics(n=N,\n",
    "                                                  seed=seed)\n",
    "\n",
    "constrained_result, full_result, lmbda = min_cost_partition(nr_qubits=N,k=k,mu=expected_returns,sigma=covariances,alpha=alpha)\n",
    "Q, offset = get_qubo(mu=expected_returns, sigma=covariances, alpha=alpha, lmbda=lmbda, k=k)\n",
    "\n",
    "\n",
    "# Initial guess for parameters (gamma, beta) of circuit\n",
    "theta_min, theta_max = -np.pi, np.pi\n",
    "theta_i = np.random.uniform(low=theta_min, high=theta_max, size=2*layers)\n",
    "# ------ Optimizer run ------ #\n",
    "_available_methods_ = ['COBYLA', 'Nelder-Mead']\n",
    "_method_idx_ = 0"
   ],
   "metadata": {
    "collapsed": false,
    "ExecuteTime": {
     "end_time": "2023-11-19T23:31:54.563812Z",
     "start_time": "2023-11-19T23:31:54.561985Z"
    }
   },
   "id": "3d22b601ea42a735"
  },
  {
   "cell_type": "code",
   "execution_count": 143,
   "outputs": [
    {
     "name": "stdout",
     "output_type": "stream",
     "text": [
      "ms: 615.1649951934814\n"
     ]
    },
    {
     "data": {
      "text/plain": " message: Maximum number of function evaluations has been exceeded.\n success: False\n  status: 2\n     fun: -0.06878302130789307\n       x: [ 2.283e+00  9.191e-01 -1.375e+00  1.472e+00  2.613e+00\n           -1.006e+00  3.969e+00 -2.097e+00 -2.478e-01 -1.339e+00]\n    nfev: 200\n   maxcv: 0.0"
     },
     "execution_count": 143,
     "metadata": {},
     "output_type": "execute_result"
    }
   ],
   "source": [
    "# Create an instance of QAOA\n",
    "ansatz = QAOA(N_qubits=N, \n",
    "              layers=layers, \n",
    "              QUBO_matrix=Q, \n",
    "              QUBO_offset=offset)\n",
    "\n",
    "# Initial guess for parameters (gamma, beta) of circuit\n",
    "theta_min, theta_max = -np.pi, np.pi\n",
    "theta_i = np.random.uniform(low=theta_min, high=theta_max, size=2*layers)  # Adjust size for gamma and beta\n",
    "\n",
    "start_time = time.time()\n",
    "\n",
    "# Use the get_cost method of the specific ansatz instance\n",
    "res = sc.optimize.minimize(fun=ansatz.get_cost, x0=theta_i,\n",
    "                           method=_available_methods_[_method_idx_],\n",
    "                           options={'disp': False, 'maxiter': max_iter})\n",
    "\n",
    "end_time = time.time()\n",
    "print(f'ms: {(end_time-start_time)*1000}')\n",
    "res"
   ],
   "metadata": {
    "collapsed": false,
    "ExecuteTime": {
     "end_time": "2023-11-19T23:32:02.369327Z",
     "start_time": "2023-11-19T23:32:01.758263Z"
    }
   },
   "id": "29b987a91dcbfe17"
  },
  {
   "cell_type": "code",
   "execution_count": 144,
   "outputs": [
    {
     "name": "stdout",
     "output_type": "stream",
     "text": [
      "ms: 1142.2100067138672\n"
     ]
    },
    {
     "data": {
      "text/plain": " message: Optimization terminated successfully.\n success: True\n  status: 1\n     fun: -0.22116695456816665\n       x: [ 6.854e-01  2.778e+00 ...  2.962e+00  1.858e+00]\n    nfev: 173\n   maxcv: 0.0"
     },
     "execution_count": 144,
     "metadata": {},
     "output_type": "execute_result"
    }
   ],
   "source": [
    "# Create an instance of QAOA\n",
    "ansatz = CP_QAOA(N_qubits=N, \n",
    "                 cardinality=k, \n",
    "                 layers=layers, \n",
    "                 QUBO_matrix=Q, \n",
    "                 QUBO_offset=offset,\n",
    "                 with_z_phase=True)\n",
    "\n",
    "# Initial guess for parameters (gamma, beta) of circuit\n",
    "theta_min, theta_max = -np.pi, np.pi\n",
    "N_xx_yy_angles = layers*(N-1) \n",
    "N_z_angles = layers*N \n",
    "theta_i = np.random.uniform(low=theta_min, high=theta_max, size=N_xx_yy_angles + N_z_angles) \n",
    "\n",
    "start_time = time.time()\n",
    "\n",
    "# Use the get_cost method of the specific ansatz instance\n",
    "res = sc.optimize.minimize(fun=ansatz.get_cost, x0=theta_i,\n",
    "                           method=_available_methods_[_method_idx_],\n",
    "                           options={'disp': False, 'maxiter': max_iter})\n",
    "\n",
    "end_time = time.time()\n",
    "print(f'ms: {(end_time-start_time)*1000}')\n",
    "res"
   ],
   "metadata": {
    "collapsed": false,
    "ExecuteTime": {
     "end_time": "2023-11-19T23:32:05.839627Z",
     "start_time": "2023-11-19T23:32:04.694912Z"
    }
   },
   "id": "a8bd8e12f08e8ddc"
  },
  {
   "cell_type": "code",
   "execution_count": 145,
   "outputs": [],
   "source": [
    "dictt = ansatz.get_state_probabilities(angles=res.x, flip_states=False)"
   ],
   "metadata": {
    "collapsed": false,
    "ExecuteTime": {
     "end_time": "2023-11-19T23:32:24.316717Z",
     "start_time": "2023-11-19T23:32:24.299009Z"
    }
   },
   "id": "d0a14d895cde5f8b"
  },
  {
   "cell_type": "code",
   "execution_count": 146,
   "outputs": [
    {
     "data": {
      "text/plain": "'10'"
     },
     "execution_count": 146,
     "metadata": {},
     "output_type": "execute_result"
    }
   ],
   "source": [
    "res = ''\n",
    "for s in constrained_result['s']:\n",
    "    res += str(s)\n",
    "res"
   ],
   "metadata": {
    "collapsed": false,
    "ExecuteTime": {
     "end_time": "2023-11-19T23:32:24.779404Z",
     "start_time": "2023-11-19T23:32:24.776919Z"
    }
   },
   "id": "71bbb4b972eb1fa2"
  },
  {
   "cell_type": "code",
   "execution_count": 147,
   "outputs": [
    {
     "data": {
      "text/plain": "0.999999932866877"
     },
     "execution_count": 147,
     "metadata": {},
     "output_type": "execute_result"
    }
   ],
   "source": [
    "dictt[res]"
   ],
   "metadata": {
    "collapsed": false,
    "ExecuteTime": {
     "end_time": "2023-11-19T23:32:26.392392Z",
     "start_time": "2023-11-19T23:32:26.387909Z"
    }
   },
   "id": "f6144d960ce84d0f"
  },
  {
   "cell_type": "code",
   "execution_count": 148,
   "outputs": [],
   "source": [
    "import os\n",
    "from concurrent.futures import ProcessPoolExecutor\n",
    "import sys\n",
    "\n",
    "from qiskit.exceptions import QiskitError\n",
    "from qiskit.utils.multiprocessing import local_hardware_info\n",
    "from qiskit.tools.events.pubsub import Publisher\n",
    "from qiskit import user_config\n",
    "\n",
    "\n",
    "def get_platform_parallel_default():\n",
    "    \"\"\"\n",
    "    Returns the default parallelism flag value for the current platform.\n",
    "\n",
    "    Returns:\n",
    "        parallel_default: The default parallelism flag value for the\n",
    "        current platform.\n",
    "\n",
    "    \"\"\"\n",
    "    # Default False on Windows\n",
    "    if sys.platform == \"win32\":\n",
    "        parallel_default = False\n",
    "    # On macOS default false on Python >=3.8\n",
    "    elif sys.platform == \"darwin\":\n",
    "        parallel_default = False\n",
    "    # On linux (and other OSes) default to True\n",
    "    else:\n",
    "        parallel_default = True\n",
    "\n",
    "    return parallel_default\n",
    "\n",
    "\n",
    "CONFIG = user_config.get_config()\n",
    "\n",
    "if os.getenv(\"QISKIT_PARALLEL\", None) is not None:\n",
    "    PARALLEL_DEFAULT = os.getenv(\"QISKIT_PARALLEL\", None).lower() == \"true\"\n",
    "else:\n",
    "    PARALLEL_DEFAULT = get_platform_parallel_default()\n",
    "\n",
    "# Set parallel flag\n",
    "if os.getenv(\"QISKIT_IN_PARALLEL\") is None:\n",
    "    os.environ[\"QISKIT_IN_PARALLEL\"] = \"FALSE\"\n",
    "\n",
    "if os.getenv(\"QISKIT_NUM_PROCS\") is not None:\n",
    "    CPU_COUNT = int(os.getenv(\"QISKIT_NUM_PROCS\"))\n",
    "else:\n",
    "    CPU_COUNT = CONFIG.get(\"num_process\", local_hardware_info()[\"cpus\"])"
   ],
   "metadata": {
    "collapsed": false,
    "ExecuteTime": {
     "end_time": "2023-11-20T00:10:07.839845Z",
     "start_time": "2023-11-20T00:10:07.819139Z"
    }
   },
   "id": "37ea16301f12288a"
  },
  {
   "cell_type": "code",
   "execution_count": 150,
   "outputs": [
    {
     "data": {
      "text/plain": "False"
     },
     "execution_count": 150,
     "metadata": {},
     "output_type": "execute_result"
    }
   ],
   "source": [
    "PARALLEL_DEFAULT"
   ],
   "metadata": {
    "collapsed": false,
    "ExecuteTime": {
     "end_time": "2023-11-20T00:10:16.107458Z",
     "start_time": "2023-11-20T00:10:16.102378Z"
    }
   },
   "id": "a700acb359fd3d6f"
  },
  {
   "cell_type": "code",
   "execution_count": 151,
   "outputs": [
    {
     "data": {
      "text/plain": "'darwin'"
     },
     "execution_count": 151,
     "metadata": {},
     "output_type": "execute_result"
    }
   ],
   "source": [
    "sys.platform"
   ],
   "metadata": {
    "collapsed": false,
    "ExecuteTime": {
     "end_time": "2023-11-20T00:10:34.335983Z",
     "start_time": "2023-11-20T00:10:34.320976Z"
    }
   },
   "id": "c383d1fdff721729"
  },
  {
   "cell_type": "code",
   "execution_count": null,
   "outputs": [],
   "source": [],
   "metadata": {
    "collapsed": false
   },
   "id": "441cae8acf3c1068"
  }
 ],
 "metadata": {
  "kernelspec": {
   "display_name": "Python 3",
   "language": "python",
   "name": "python3"
  },
  "language_info": {
   "codemirror_mode": {
    "name": "ipython",
    "version": 2
   },
   "file_extension": ".py",
   "mimetype": "text/x-python",
   "name": "python",
   "nbconvert_exporter": "python",
   "pygments_lexer": "ipython2",
   "version": "2.7.6"
  }
 },
 "nbformat": 4,
 "nbformat_minor": 5
}
